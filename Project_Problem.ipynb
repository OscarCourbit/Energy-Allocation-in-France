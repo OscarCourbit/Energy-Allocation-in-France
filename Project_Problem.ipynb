{
 "cells": [
  {
   "cell_type": "markdown",
   "metadata": {},
   "source": [
    "# Energy Allocation"
   ]
  },
  {
   "cell_type": "code",
   "execution_count": 52,
   "metadata": {},
   "outputs": [],
   "source": [
    "#using Pkg\n",
    "#Pkg.add(\"XLSX\")"
   ]
  },
  {
   "cell_type": "code",
   "execution_count": 1,
   "metadata": {},
   "outputs": [],
   "source": [
    "using XLSX, Gurobi, StatsBase, CSV, DataFrames, \n",
    "JuMP, LinearAlgebra, Distributions, Random,\n",
    "GLMNet, ScikitLearn, MLBase, CategoricalArrays, Plots,\n",
    "Dates, Clustering, Distances, StatsPlots, ProgressMeter, \n",
    "StableRNGs, ParallelKMeans, JuMP, Gurobi"
   ]
  },
  {
   "cell_type": "code",
   "execution_count": 2,
   "metadata": {},
   "outputs": [],
   "source": [
    "# Read xlsm file\n",
    "initial_df = DataFrame(XLSX.readtable(\"eCO2mix_RTE_Annuel-Definitif_2020.xlsm\", \"eCO2mix_RTE_Annuel-Definitif_20\"));"
   ]
  },
  {
   "cell_type": "code",
   "execution_count": 3,
   "metadata": {},
   "outputs": [],
   "source": [
    "# Let's clean the data\n",
    "\n",
    "# Remove all rows with missing values\n",
    "df = dropmissing(initial_df, disallowmissing=true);\n",
    "\n",
    "# remove every columns before the Date column and after the Ech. comm. Allemagne-Belgique column\n",
    "df = df[:, 3:23]\n",
    "\n",
    "# put the columns PrÈvision J-1, PrÈvision J, Pompage, Ech. physiques\n",
    "prev_pomp_df = df[:, [4, 5, 13, 15]]\n",
    "# drom column 4,5,13,15\n",
    "df = df[:, Not([4, 5, 13, 15])]\n",
    "\n",
    "# rename the columns\n",
    "rename!(df, Symbol.([\"Date\", \"Time\", \"Consumption\", \"Fuel\", \"Coal\", \"Gas\", \"Nuclear\", \"Wind\", \"Solar\", \"Hydraulic\", \"Bioenergy\", \"CO2\", \"England\", \"Spain\", \"Italy\", \"Switzerland\", \"Germany_Belgium\"]))\n",
    "\n",
    "# for each country, we will divide in import and export, depending on the sign of the corresponding column\n",
    "\n",
    "neighbors_columns = [\"England\", \"Spain\", \"Italy\", \"Switzerland\", \"Germany_Belgium\"]\n",
    "for col in neighbors_columns\n",
    "    # create a new import column, which values are positive if the original column is positive, and 0 otherwise\n",
    "    df[!, Symbol(col * \"_import\")] = max.(df[!, Symbol(col)], 0)\n",
    "    # create a new export column, which values are positive if the original column is negative, and 0 otherwise\n",
    "    df[!, Symbol(col * \"_export\")] = max.(-df[!, Symbol(col)], 0)\n",
    "end\n",
    "\n",
    "# drop the original columns\n",
    "df = df[:, Not(neighbors_columns)]\n",
    "\n",
    "\n",
    "# convert the date column to a string\n",
    "df[!, :Date] = string.(df[!, :Date])\n",
    "# convert the time column to a string\n",
    "df[!, :Time] = string.(df[!, :Time])\n",
    "# merge the date and time columns into a single column\n",
    "df[!, :DateTime] = df[!, :Date] .* \" \" .* df[!, :Time]\n",
    "# convert the DateTime column to a DateTime type\n",
    "df[!, :DateTime] = DateTime.(df[!, :DateTime], \"yyyy-mm-dd HH:MM:SS\")\n",
    "# convert date and time columns to a DateTime type\n",
    "df[!, :Date] = Date.(df[!, :Date], \"yyyy-mm-dd\")\n",
    "df[!, :Time] = Time.(df[!, :Time], \"HH:MM:SS\")\n",
    "\n",
    "# sort the dataframe by DateTime\n",
    "df = sort(df, :DateTime)\n",
    "# put the DateTime column as the first column\n",
    "df = df[:, [end; 1:end-1]]\n",
    "\n",
    "# the units are in MWh\n",
    "# convert the Any type to Float64\n",
    "df[!, :Consumption] = convert(Array{Float64}, df[!, :Consumption])\n",
    "df[!, :Fuel] = convert(Array{Float64}, df[!, :Fuel])\n",
    "df[!, :Coal] = convert(Array{Float64}, df[!, :Coal])\n",
    "df[!, :Gas] = convert(Array{Float64}, df[!, :Gas])\n",
    "df[!, :Nuclear] = convert(Array{Float64}, df[!, :Nuclear])\n",
    "df[!, :Wind] = convert(Array{Float64}, df[!, :Wind])\n",
    "df[!, :Solar] = convert(Array{Float64}, df[!, :Solar])\n",
    "df[!, :Hydraulic] = convert(Array{Float64}, df[!, :Hydraulic])\n",
    "df[!, :Bioenergy] = convert(Array{Float64}, df[!, :Bioenergy])\n",
    "df[!, :CO2] = convert(Array{Float64}, df[!, :CO2])\n",
    "df[!, :England_import] = convert(Array{Float64}, df[!, :England_import])\n",
    "df[!, :England_export] = convert(Array{Float64}, df[!, :England_export])\n",
    "df[!, :Spain_import] = convert(Array{Float64}, df[!, :Spain_import])\n",
    "df[!, :Spain_export] = convert(Array{Float64}, df[!, :Spain_export])\n",
    "df[!, :Italy_import] = convert(Array{Float64}, df[!, :Italy_import])\n",
    "df[!, :Italy_export] = convert(Array{Float64}, df[!, :Italy_export])\n",
    "df[!, :Switzerland_import] = convert(Array{Float64}, df[!, :Switzerland_import])\n",
    "df[!, :Switzerland_export] = convert(Array{Float64}, df[!, :Switzerland_export])\n",
    "df[!, :Germany_Belgium_import] = convert(Array{Float64}, df[!, :Germany_Belgium_import])\n",
    "df[!, :Germany_Belgium_export] = convert(Array{Float64}, df[!, :Germany_Belgium_export]);\n"
   ]
  },
  {
   "cell_type": "markdown",
   "metadata": {},
   "source": [
    "### Pre-processing"
   ]
  },
  {
   "cell_type": "code",
   "execution_count": 4,
   "metadata": {},
   "outputs": [
    {
     "data": {
      "text/plain": [
       "transform_data (generic function with 3 methods)"
      ]
     },
     "execution_count": 4,
     "metadata": {},
     "output_type": "execute_result"
    }
   ],
   "source": [
    "function transform_data(df, push_nuclear=0.2, push_solar=0.15)\n",
    "    inc_nuc = 1 + push_nuclear\n",
    "    inc_sol = 1 + push_solar\n",
    "    \n",
    "    # get max value of nuclear production overall\n",
    "    max_nuclear = maximum(df[!, :Nuclear])\n",
    "    df[!, :Nuclear_cap] = fill(max_nuclear* inc_nuc, size(df[!, :Nuclear]))\n",
    "    max_hydraulic = maximum(df[!, :Hydraulic])\n",
    "    df[!, :Hydraulic_cap] = fill(max_hydraulic* inc_nuc, size(df[!, :Hydraulic]))\n",
    "    max_bioenergy = maximum(df[!, :Bioenergy])\n",
    "    df[!, :Bioenergy_cap] = fill(max_bioenergy* inc_nuc, size(df[!, :Bioenergy]))\n",
    "\n",
    "\n",
    "    df[!, :Week] = Dates.week.(df[!, :Date])\n",
    "    # get the average production of gas, coal, fuel, solar and wind for each week of the year in one dataframe\n",
    "    df_weekly = combine(groupby(df, :Week), :Solar => mean => :Solar_cap, :Wind => mean => :Wind_cap, :Gas => mean => :Gas_cap, :Coal => mean => :Coal_cap, :Fuel => mean => :Fuel_cap)\n",
    "    # sort the dataframe by week\n",
    "    df_weekly = sort(df_weekly, :Week)\n",
    "    # add 20% to each column of df_weekly\n",
    "    df_weekly[!, :Solar_cap] = df_weekly[!, :Solar_cap] * inc_sol\n",
    "    df_weekly[!, :Wind_cap] = df_weekly[!, :Wind_cap] * inc_sol\n",
    "    df_weekly[!, :Gas_cap] = df_weekly[!, :Gas_cap] * inc_sol\n",
    "    df_weekly[!, :Coal_cap] = df_weekly[!, :Coal_cap] * inc_sol\n",
    "    df_weekly[!, :Fuel_cap] = df_weekly[!, :Fuel_cap] * inc_sol\n",
    "    # sort the dataframe by week\n",
    "    df_weekly = sort(df_weekly, :Week)\n",
    "    # merge the two dataframes df and df_weekly on week column\n",
    "    df = leftjoin(df, df_weekly, on=:Week)\n",
    "\n",
    "    cost_nuclear = 59.8:2:109.8\n",
    "    cost_wind = 90:1:90\n",
    "    cost_hydraulic = 15:0.5:20\n",
    "    cost_solar = 142:1:142\n",
    "    cost_gas = 70:2:100\n",
    "    cost_coal = 100:1:100\n",
    "    cost_fuel = 86:1:86\n",
    "    cost_bioenergy = 85:2:122\n",
    "\n",
    "    # create a vector of size 53 for each type of energy cost with random values in the range defined above\n",
    "    cost_nuclear = rand(cost_nuclear, 53)\n",
    "    # vary the costs with a random number in the std of the range of values\n",
    "    cost_nuclear = cost_nuclear .+ randn(53) * std(cost_nuclear)\n",
    "\n",
    "    cost_hydraulic = rand(cost_hydraulic, 53)\n",
    "    cost_hydraulic = cost_hydraulic .+ randn(53) * std(cost_hydraulic)\n",
    "\n",
    "    cost_gas = rand(cost_gas, 53)\n",
    "    cost_gas = cost_gas .+ randn(53) * std(cost_gas)\n",
    "\n",
    "    cost_bioenergy = rand(cost_bioenergy, 53)\n",
    "    cost_bioenergy = cost_bioenergy .+ randn(53) * std(cost_bioenergy)\n",
    "\n",
    "    cost_wind = rand(cost_wind, 53)\n",
    "    cost_wind = cost_wind .+ randn(53) * std(cost_wind)\n",
    "\n",
    "    cost_solar = rand(cost_solar, 53)\n",
    "    cost_solar = cost_solar .+ randn(53) * std(cost_solar)\n",
    "\n",
    "    cost_coal = rand(cost_coal, 53)\n",
    "    cost_coal = cost_coal .+ randn(53) * std(cost_coal)\n",
    "\n",
    "    cost_fuel = rand(cost_fuel, 53)\n",
    "    cost_fuel = cost_fuel .+ randn(53) * std(cost_fuel)\n",
    "\n",
    "    # create a dataframe with the cost of each type of energy\n",
    "    df_cost = DataFrame(Week = 1:53, Nuclear_cost = cost_nuclear, Wind_cost = cost_wind, Solar_cost = cost_solar, Gas_cost = cost_gas, Coal_cost = cost_coal, Fuel_cost = cost_fuel, Hydraulic_cost = cost_hydraulic, Bioenergy_cost = cost_bioenergy)\n",
    "\n",
    "    # sort the dataframe by week\n",
    "    df_cost = sort(df_cost, :Week)\n",
    "\n",
    "    # merge the two dataframes df and df_cost on week column\n",
    "    df = leftjoin(df, df_cost, on=:Week)\n",
    "\n",
    "    \n",
    "\n",
    "    df[!, :Total_cost] = (df[!, :Nuclear] .* df[!, :Nuclear_cost] .+ df[!, :Wind] .* df[!, :Wind_cost] .+ df[!, :Solar] .* df[!, :Solar_cost] .+ df[!, :Gas] .* df[!, :Gas_cost] .+ df[!, :Coal] .* df[!, :Coal_cost] .+ df[!, :Fuel] .* df[!, :Fuel_cost] .+ df[!, :Hydraulic] .* df[!, :Hydraulic_cost] .+ df[!, :Bioenergy] .* df[!, :Bioenergy_cost]) ./ (df[!, :Nuclear] .+ df[!, :Wind] .+ df[!, :Solar] .+ df[!, :Gas] .+ df[!, :Coal] .+ df[!, :Fuel] .+ df[!, :Hydraulic] .+ df[!, :Bioenergy])\n",
    "    # Create a column called \"Export_Price\" which is the Total_cost + (10 plus or minus 3%, randomly)\n",
    "    df[!, :Export_Price] = df[!, :Total_cost] .+ (df[!, :Total_cost] .* (0.1 .+ randn(size(df)[1]) * 0.03))\n",
    "\n",
    "    # Create a column called \"England_Price\"\n",
    "    # It is equal to 1000 if England_import==0 and Export_Price minus (10% plus or minus 3%) otherwise\n",
    "    df[!, :England_Price] = ifelse.(df[!, :England_import] .== 0, 1000, df[!, :Export_Price] .- (df[!, :Export_Price] .* (0.1 .+ randn(size(df)[1]) * 0.03)))\n",
    "    df[!, :Spain_Price] = ifelse.(df[!, :Spain_import] .== 0, 1000, df[!, :Export_Price] .- (df[!, :Export_Price] .* (0.15 .+ randn(size(df)[1]) * 0.03)))\n",
    "    df[!, :Italy_Price] = ifelse.(df[!, :Italy_import] .== 0, 1000, df[!, :Export_Price] .- (df[!, :Export_Price] .* (0.07 .+ randn(size(df)[1]) * 0.03)))\n",
    "    df[!, :Switzerland_Price] = ifelse.(df[!, :Switzerland_import] .== 0, 1000, df[!, :Export_Price] .- (df[!, :Export_Price] .* (0.1 .+ randn(size(df)[1]) * 0.03)))\n",
    "    df[!, :Germany_Belgium_Price] = ifelse.(df[!, :Germany_Belgium_import] .== 0, 1000, df[!, :Export_Price] .- (df[!, :Export_Price] .* (0.2 .+ randn(size(df)[1]) * 0.03)))\n",
    "\n",
    "    return df\n",
    "end"
   ]
  },
  {
   "cell_type": "markdown",
   "metadata": {},
   "source": [
    "### Eco-cost synthetic data"
   ]
  },
  {
   "cell_type": "markdown",
   "metadata": {},
   "source": [
    "For each source s, at each time t, we need an Eco-cost $f_{s,t}$"
   ]
  },
  {
   "cell_type": "code",
   "execution_count": 5,
   "metadata": {},
   "outputs": [
    {
     "data": {
      "text/plain": [
       "0.11652081241930631"
      ]
     },
     "execution_count": 5,
     "metadata": {},
     "output_type": "execute_result"
    }
   ],
   "source": [
    "Eco_cost_footprint = [0.0347, 0.0003, 0.0175, 0.0003, 0.0281, 0.0002, 0.0030, 0.0164, 0.0130, 0.0193, 0.0172, 0.0067, 0.0226, 0.0065, 0.0109, 0.0024, 0.0136, 0.0099, 0.0154, 0.0270, 0.0099, 0.0095, 0.0084, 0.0006, 0.0091, 0.0156]\n",
    "carbon_footprint_equiv = [0.30, 0.0023, 0.15, 0.00, 0.24, 0.0017, 0.03, 0.14, 0.11, 0.17, 0.15, 0.06, 0.19, 0.06, 0.09, 0.02, 0.12, 0.09, 0.13, 0.23, 0.08, 0.08, 0.07, 0.01, 0.08, 0.13]\n",
    "\n",
    "# compute the mean of carbon_footprint_equiv / Eco_cost_footprint\n",
    "mean_Eco_cost_carbon_footprint_equiv =  1 / mean(carbon_footprint_equiv ./ Eco_cost_footprint)"
   ]
  },
  {
   "cell_type": "code",
   "execution_count": 6,
   "metadata": {},
   "outputs": [
    {
     "data": {
      "text/plain": [
       "compute_eco_costs (generic function with 1 method)"
      ]
     },
     "execution_count": 6,
     "metadata": {},
     "output_type": "execute_result"
    }
   ],
   "source": [
    "function compute_eco_costs(df)\n",
    "\n",
    "    # compute mean of CO2 column in different units\n",
    "    CO2 = df[!, :CO2]\n",
    "    mean_CO2 = mean(CO2)\n",
    "    mean_CO2_GJ = mean_CO2 * 3.6\n",
    "\n",
    "    # add values human_health, eco_toxicity, resource_scarcity, carbon_footprint for each source of energy, based on US Idemat Data\n",
    "    fuel_info = [0.00246, 0.00821, 0.00007, 0.0281]\n",
    "    coal_info = [0.00340, 0.00497, 0.00046, 0.0347]\n",
    "    gas_info = [0.00324, 0.00294, 0.00013, 0.0175]\n",
    "    nuclear_info = [0.00008, 0.00051, 0.03812, 0.0003]\n",
    "\n",
    "    # we approximate all renewable energy sources with the same values\n",
    "    hydraulic_info = [0.00002, 0.00003, 0.00017, 0.0002]\n",
    "    bioenergy_info = [0.00002, 0.00003, 0.00017, 0.0002]\n",
    "    wind_info = [0.00002, 0.00003, 0.00017, 0.0002]\n",
    "    solar_info = [0.00002, 0.00003, 0.00017, 0.0002]\n",
    "\n",
    "    # get the mean production of each source of energy\n",
    "    mean_hydraulic = mean(df[!, :Hydraulic])\n",
    "    mean_bioenergy = mean(df[!, :Bioenergy])\n",
    "    mean_wind = mean(df[!, :Wind])\n",
    "    mean_solar = mean(df[!, :Solar])\n",
    "    mean_nuclear = mean(df[!, :Nuclear])\n",
    "    mean_gas = mean(df[!, :Gas])\n",
    "    mean_coal = mean(df[!, :Coal])\n",
    "    mean_fuel = mean(df[!, :Fuel])\n",
    "\n",
    "    # get the percentage of use of each source of energy\n",
    "    total_production = mean_hydraulic + mean_bioenergy + mean_wind + mean_solar + mean_nuclear + mean_gas + mean_coal + mean_fuel\n",
    "    percentage_hydraulic = mean_hydraulic / total_production\n",
    "    percentage_bioenergy = mean_bioenergy / total_production\n",
    "    percentage_wind = mean_wind / total_production\n",
    "    percentage_solar = mean_solar / total_production\n",
    "    percentage_nuclear = mean_nuclear / total_production\n",
    "    percentage_gas = mean_gas / total_production\n",
    "    percentage_coal = mean_coal / total_production\n",
    "    percentage_fuel = mean_fuel / total_production\n",
    "\n",
    "    # sum infos using the percentage of use of each source of energy\n",
    "    sum_info = percentage_hydraulic * hydraulic_info + percentage_bioenergy * bioenergy_info + percentage_wind * wind_info + percentage_solar * solar_info + percentage_nuclear * nuclear_info + percentage_gas * gas_info + percentage_coal * coal_info + percentage_fuel * fuel_info;\n",
    "\n",
    "\n",
    "    idemat_eco_cost_per_GJ = 18.19 # in euros/GJ\n",
    "    idemat_carbon_footprint_per_GJ = 20.40 # in kg/GJ\n",
    "\n",
    "    idemat_eco_costs = [0.21, 0.78, 14.83, 2.37] # in euros/GJ\n",
    "    idemat_proportions = idemat_eco_costs / sum(idemat_eco_costs)\n",
    "    # for each value in sum_info, determine the percentage of use of each source of energy\n",
    "\n",
    "    # percentages of impact of each source of energy on eco_cost\n",
    "    percentages_hydraulic = percentage_hydraulic .* hydraulic_info ./ sum_info .* idemat_proportions\n",
    "    percentages_bioenergy = percentage_bioenergy .* bioenergy_info ./ sum_info .* idemat_proportions\n",
    "    percentages_wind = percentage_wind .* wind_info ./ sum_info .* idemat_proportions\n",
    "    percentages_solar = percentage_solar .* solar_info ./ sum_info .* idemat_proportions\n",
    "    percentages_nuclear = percentage_nuclear .* nuclear_info ./ sum_info .* idemat_proportions\n",
    "    percentages_gas = percentage_gas .* gas_info ./ sum_info .* idemat_proportions\n",
    "    percentages_coal = percentage_coal .* coal_info ./ sum_info .* idemat_proportions\n",
    "    percentages_fuel = percentage_fuel .* fuel_info ./ sum_info .* idemat_proportions\n",
    "\n",
    "\n",
    "    idemat_eco_cost_per_MWh = idemat_eco_cost_per_GJ  / 3.6\n",
    "    idemat_carbon_footprint_per_MWh = idemat_carbon_footprint_per_GJ / 3.6\n",
    "\n",
    "    real_eco_cost_per_MWh = idemat_eco_cost_per_MWh / idemat_carbon_footprint_per_MWh * mean_CO2\n",
    "    real_eco_costs = idemat_proportions * real_eco_cost_per_MWh # in euros/MWh\n",
    "\n",
    "    # in euros/MWh\n",
    "    eco_costs_hydraulic = percentages_hydraulic .* real_eco_cost_per_MWh\n",
    "    eco_costs_bioenergy = percentages_bioenergy .* real_eco_cost_per_MWh\n",
    "    eco_costs_wind = percentages_wind .* real_eco_cost_per_MWh\n",
    "    eco_costs_solar = percentages_solar .* real_eco_cost_per_MWh\n",
    "    eco_costs_nuclear = percentages_nuclear .* real_eco_cost_per_MWh\n",
    "    eco_costs_gas = percentages_gas .* real_eco_cost_per_MWh\n",
    "    eco_costs_coal = percentages_coal .* real_eco_cost_per_MWh\n",
    "    eco_costs_fuel = percentages_fuel .* real_eco_cost_per_MWh\n",
    "\n",
    "    Hydraulic_Eco_cost = sum(eco_costs_hydraulic)\n",
    "    Bioenergy_Eco_cost = sum(eco_costs_bioenergy)\n",
    "    Wind_Eco_cost = sum(eco_costs_wind)\n",
    "    Solar_Eco_cost = sum(eco_costs_solar)\n",
    "    Nuclear_Eco_cost = sum(eco_costs_nuclear)\n",
    "    Gas_Eco_cost = sum(eco_costs_gas)\n",
    "    Coal_Eco_cost = sum(eco_costs_coal)\n",
    "    Fuel_Eco_cost = sum(eco_costs_fuel)\n",
    "\n",
    "    # create a little dataframe with the results\n",
    "    eco_costs = DataFrame(Source = [\"Hydraulic\", \"Bioenergy\", \"Wind\", \"Solar\", \"Nuclear\", \"Gas\", \"Coal\", \"Fuel\"],\n",
    "        Eco_cost = [Hydraulic_Eco_cost, Bioenergy_Eco_cost, Wind_Eco_cost, Solar_Eco_cost, Nuclear_Eco_cost, Gas_Eco_cost, Coal_Eco_cost, Fuel_Eco_cost])\n",
    "    \n",
    "    # sort the dataframe by the eco_cost\n",
    "    eco_costs = eco_costs[sortperm(eco_costs.Eco_cost), :]\n",
    "\n",
    "    # return the dataframe\n",
    "    return eco_costs\n",
    "end"
   ]
  },
  {
   "cell_type": "code",
   "execution_count": 7,
   "metadata": {},
   "outputs": [
    {
     "data": {
      "text/plain": [
       "compute_carbon_footprints (generic function with 1 method)"
      ]
     },
     "execution_count": 7,
     "metadata": {},
     "output_type": "execute_result"
    }
   ],
   "source": [
    "function compute_carbon_footprints(df)\n",
    "    # in kg/MWh\n",
    "    nuclear_footprint_estimates = [0.006, 0.006] * 1000\n",
    "    hydraulic_footprint_estimates = [0.006, 0.004] * 1000\n",
    "    wind_footprint_estimates = [0.0141, 0.0073] * 1000\n",
    "    solar_footprint_estimates = [0.0439, 0.055] * 1000\n",
    "    bioenergy_footprint_estimates = [0.045, 0.045] * 1000\n",
    "    gas_footprint_estimates = [0.418, 0.406] * 1000\n",
    "    fuel_footprint_estimates = [0.73, 0.704] * 1000\n",
    "    coal_footprint_estimates = [1.06, 1.038] * 1000\n",
    "\n",
    "    # store the mean of these estimates in a dataframe\n",
    "    mean_nuclear_footprint = mean(nuclear_footprint_estimates)\n",
    "    mean_hydraulic_footprint = mean(hydraulic_footprint_estimates)\n",
    "    mean_wind_footprint = mean(wind_footprint_estimates)\n",
    "    mean_solar_footprint = mean(solar_footprint_estimates)\n",
    "    mean_bioenergy_footprint = mean(bioenergy_footprint_estimates)\n",
    "    mean_gas_footprint = mean(gas_footprint_estimates)\n",
    "    mean_fuel_footprint = mean(fuel_footprint_estimates)\n",
    "    mean_coal_footprint = mean(coal_footprint_estimates)\n",
    "\n",
    "    # store the mean of these estimates in a dataframe\n",
    "    mean_footprints = DataFrame(Source = [\"Hydraulic\", \"Bioenergy\", \"Wind\", \"Solar\", \"Nuclear\", \"Gas\", \"Coal\", \"Fuel\"],\n",
    "        Mean_footprint = [mean_hydraulic_footprint, mean_bioenergy_footprint, mean_wind_footprint, mean_solar_footprint, mean_nuclear_footprint, mean_gas_footprint, mean_coal_footprint, mean_fuel_footprint])\n",
    "    \n",
    "    # sort the dataframe by the mean_footprint\n",
    "    mean_footprints = mean_footprints[sortperm(mean_footprints.Mean_footprint), :]\n",
    "\n",
    "    # return the dataframe\n",
    "    return mean_footprints\n",
    "end\n"
   ]
  },
  {
   "cell_type": "code",
   "execution_count": 8,
   "metadata": {},
   "outputs": [
    {
     "data": {
      "text/plain": [
       "compute_neighbors_footprints (generic function with 1 method)"
      ]
     },
     "execution_count": 8,
     "metadata": {},
     "output_type": "execute_result"
    }
   ],
   "source": [
    "function compute_neighbors_footprints(df)\n",
    "\n",
    "    # compute carbon footprint for other countries\n",
    "    idemat_France_carbon_footprint = 20.40 # in Kg/GJ\n",
    "    idemat_England_carbon_footprint = 77.80 # in Kg/GJ\n",
    "    idemat_Spain_carbon_footprint = 72.00 # in Kg/GJ\n",
    "    idemat_Italy_carbon_footprint = 83.81 # in Kg/GJ\n",
    "    idemat_Switzerland_carbon_footprint = 5.57 # in Kg/GJ\n",
    "    idemat_Germany_carbon_footprint = 116.92 # in Kg/GJ\n",
    "    idemat_Belgium_carbon_footprint = 57.48 # in Kg/GJ\n",
    "\n",
    "    idemat_France_eco_cost = 18.19 # in euros/GJ\n",
    "    idemat_England_eco_cost = 14.16 # in euros/GJ\n",
    "    idemat_Spain_eco_cost = 15.54 # in euros/GJ\n",
    "    idemat_Italy_eco_cost = 10.78 # in euros/GJ\n",
    "    idemat_Switzerland_eco_cost = 8.85 # in euros/GJ\n",
    "    idemat_Germany_eco_cost = 18.48 # in euros/GJ\n",
    "    idemat_Belgium_eco_cost = 17.14 # in euros/GJ\n",
    "\n",
    "    idemat_Germany_Belgium_carbon_footprint = 580 / 673 * idemat_Germany_carbon_footprint  + 93 / 673 * idemat_Belgium_carbon_footprint\n",
    "\n",
    "    England_proportional_footprint = idemat_England_carbon_footprint / idemat_France_carbon_footprint\n",
    "    Spain_proportional_footprint = idemat_Spain_carbon_footprint / idemat_France_carbon_footprint\n",
    "    Italy_proportional_footprint = idemat_Italy_carbon_footprint / idemat_France_carbon_footprint\n",
    "    Switzerland_proportional_footprint = idemat_Switzerland_carbon_footprint / idemat_France_carbon_footprint\n",
    "    Germany_Belgium_proportional_footprint = idemat_Germany_Belgium_carbon_footprint / idemat_France_carbon_footprint\n",
    "\n",
    "    mean_Hydraulic = mean(df[!, :Hydraulic])\n",
    "    mean_Bioenergy = mean(df[!, :Bioenergy])\n",
    "    mean_Wind = mean(df[!, :Wind])\n",
    "    mean_Solar = mean(df[!, :Solar])\n",
    "    mean_Nuclear = mean(df[!, :Nuclear])\n",
    "    mean_Gas = mean(df[!, :Gas])\n",
    "    mean_Coal = mean(df[!, :Coal])\n",
    "    mean_Fuel = mean(df[!, :Fuel])\n",
    "\n",
    "    mean_total = mean_Hydraulic + mean_Bioenergy + mean_Wind + mean_Solar + mean_Nuclear + mean_Gas + mean_Coal + mean_Fuel\n",
    "\n",
    "    carbon_footprints_df = compute_carbon_footprints(df) # in Kg/MWh\n",
    "    total_carbon_footprint = 0\n",
    "    for source in carbon_footprints_df.Source\n",
    "        percentage = mean(df[!, Symbol(source)]) / mean_total\n",
    "        total_carbon_footprint += carbon_footprints_df[carbon_footprints_df.Source .== source, :Mean_footprint][1] * percentage\n",
    "    end\n",
    "\n",
    "    England_carbon_footprint = total_carbon_footprint * England_proportional_footprint\n",
    "    Spain_carbon_footprint = total_carbon_footprint * Spain_proportional_footprint\n",
    "    Italy_carbon_footprint = total_carbon_footprint * Italy_proportional_footprint\n",
    "    Switzerland_carbon_footprint = total_carbon_footprint * Switzerland_proportional_footprint\n",
    "    Germany_Belgium_carbon_footprint = total_carbon_footprint * Germany_Belgium_proportional_footprint\n",
    "\n",
    "    # return a dataframe with the carbon footprint of the neighbors\n",
    "    neighbors_carbon_footprints = DataFrame(Country = [\"England\", \"Spain\", \"Italy\", \"Switzerland\", \"Germany_Belgium\"],\n",
    "        Carbon_footprint = [England_carbon_footprint, Spain_carbon_footprint, Italy_carbon_footprint, Switzerland_carbon_footprint, Germany_Belgium_carbon_footprint])\n",
    "\n",
    "    # sort the dataframe by the carbon_footprint\n",
    "    neighbors_carbon_footprints = neighbors_carbon_footprints[sortperm(neighbors_carbon_footprints.Carbon_footprint), :]\n",
    "\n",
    "    # return the dataframe\n",
    "    return neighbors_carbon_footprints\n",
    "\n",
    "end"
   ]
  },
  {
   "cell_type": "markdown",
   "metadata": {},
   "source": [
    "## Optimization Formulation"
   ]
  },
  {
   "cell_type": "markdown",
   "metadata": {},
   "source": [
    "### Baseline Scenario"
   ]
  },
  {
   "cell_type": "code",
   "execution_count": 9,
   "metadata": {},
   "outputs": [
    {
     "data": {
      "text/html": [
       "<div><div style = \"float: left;\"><span>17568×47 DataFrame</span></div><div style = \"float: right;\"><span style = \"font-style: italic;\">17543 rows omitted</span></div><div style = \"clear: both;\"></div></div><div class = \"data-frame\" style = \"overflow-x: scroll;\"><table class = \"data-frame\" style = \"margin-bottom: 6px;\"><thead><tr class = \"header\"><th class = \"rowNumber\" style = \"font-weight: bold; text-align: right;\">Row</th><th style = \"text-align: left;\">DateTime</th><th style = \"text-align: left;\">Date</th><th style = \"text-align: left;\">Time</th><th style = \"text-align: left;\">Consumption</th><th style = \"text-align: left;\">Fuel</th><th style = \"text-align: left;\">Coal</th><th style = \"text-align: left;\">Gas</th><th style = \"text-align: left;\">Nuclear</th><th style = \"text-align: left;\">Wind</th><th style = \"text-align: left;\">Solar</th><th style = \"text-align: left;\">Hydraulic</th><th style = \"text-align: left;\">Bioenergy</th><th style = \"text-align: left;\">CO2</th><th style = \"text-align: left;\">England_import</th><th style = \"text-align: left;\">England_export</th><th style = \"text-align: left;\">Spain_import</th><th style = \"text-align: left;\">Spain_export</th><th style = \"text-align: left;\">Italy_import</th><th style = \"text-align: left;\">Italy_export</th><th style = \"text-align: left;\">Switzerland_import</th><th style = \"text-align: left;\">Switzerland_export</th><th style = \"text-align: left;\">Germany_Belgium_import</th><th style = \"text-align: left;\">Germany_Belgium_export</th><th style = \"text-align: left;\">Nuclear_cap</th><th style = \"text-align: left;\">Hydraulic_cap</th><th style = \"text-align: left;\">Bioenergy_cap</th><th style = \"text-align: left;\">Week</th><th style = \"text-align: left;\">Solar_cap</th><th style = \"text-align: left;\">Wind_cap</th><th style = \"text-align: left;\">Gas_cap</th><th style = \"text-align: left;\">Coal_cap</th><th style = \"text-align: left;\">Fuel_cap</th><th style = \"text-align: left;\">Nuclear_cost</th><th style = \"text-align: left;\">Wind_cost</th><th style = \"text-align: left;\">Solar_cost</th><th style = \"text-align: left;\">Gas_cost</th><th style = \"text-align: left;\">Coal_cost</th><th style = \"text-align: left;\">Fuel_cost</th><th style = \"text-align: left;\">Hydraulic_cost</th><th style = \"text-align: left;\">Bioenergy_cost</th><th style = \"text-align: left;\">Total_cost</th><th style = \"text-align: left;\">Export_Price</th><th style = \"text-align: left;\">England_Price</th><th style = \"text-align: left;\">Spain_Price</th><th style = \"text-align: left;\">Italy_Price</th><th style = \"text-align: left;\">Switzerland_Price</th><th style = \"text-align: left;\">Germany_Belgium_Price</th></tr><tr class = \"subheader headerLastRow\"><th class = \"rowNumber\" style = \"font-weight: bold; text-align: right;\"></th><th title = \"DateTime\" style = \"text-align: left;\">DateTime</th><th title = \"Date\" style = \"text-align: left;\">Date</th><th title = \"Time\" style = \"text-align: left;\">Time</th><th title = \"Float64\" style = \"text-align: left;\">Float64</th><th title = \"Float64\" style = \"text-align: left;\">Float64</th><th title = \"Float64\" style = \"text-align: left;\">Float64</th><th title = \"Float64\" style = \"text-align: left;\">Float64</th><th title = \"Float64\" style = \"text-align: left;\">Float64</th><th title = \"Float64\" style = \"text-align: left;\">Float64</th><th title = \"Float64\" style = \"text-align: left;\">Float64</th><th title = \"Float64\" style = \"text-align: left;\">Float64</th><th title = \"Float64\" style = \"text-align: left;\">Float64</th><th title = \"Float64\" style = \"text-align: left;\">Float64</th><th title = \"Float64\" style = \"text-align: left;\">Float64</th><th title = \"Float64\" style = \"text-align: left;\">Float64</th><th title = \"Float64\" style = \"text-align: left;\">Float64</th><th title = \"Float64\" style = \"text-align: left;\">Float64</th><th title = \"Float64\" style = \"text-align: left;\">Float64</th><th title = \"Float64\" style = \"text-align: left;\">Float64</th><th title = \"Float64\" style = \"text-align: left;\">Float64</th><th title = \"Float64\" style = \"text-align: left;\">Float64</th><th title = \"Float64\" style = \"text-align: left;\">Float64</th><th title = \"Float64\" style = \"text-align: left;\">Float64</th><th title = \"Float64\" style = \"text-align: left;\">Float64</th><th title = \"Float64\" style = \"text-align: left;\">Float64</th><th title = \"Float64\" style = \"text-align: left;\">Float64</th><th title = \"Int64\" style = \"text-align: left;\">Int64</th><th title = \"Union{Missing, Float64}\" style = \"text-align: left;\">Float64?</th><th title = \"Union{Missing, Float64}\" style = \"text-align: left;\">Float64?</th><th title = \"Union{Missing, Float64}\" style = \"text-align: left;\">Float64?</th><th title = \"Union{Missing, Float64}\" style = \"text-align: left;\">Float64?</th><th title = \"Union{Missing, Float64}\" style = \"text-align: left;\">Float64?</th><th title = \"Union{Missing, Float64}\" style = \"text-align: left;\">Float64?</th><th title = \"Union{Missing, Float64}\" style = \"text-align: left;\">Float64?</th><th title = \"Union{Missing, Float64}\" style = \"text-align: left;\">Float64?</th><th title = \"Union{Missing, Float64}\" style = \"text-align: left;\">Float64?</th><th title = \"Union{Missing, Float64}\" style = \"text-align: left;\">Float64?</th><th title = \"Union{Missing, Float64}\" style = \"text-align: left;\">Float64?</th><th title = \"Union{Missing, Float64}\" style = \"text-align: left;\">Float64?</th><th title = \"Union{Missing, Float64}\" style = \"text-align: left;\">Float64?</th><th title = \"Float64\" style = \"text-align: left;\">Float64</th><th title = \"Float64\" style = \"text-align: left;\">Float64</th><th title = \"Real\" style = \"text-align: left;\">Real</th><th title = \"Real\" style = \"text-align: left;\">Real</th><th title = \"Real\" style = \"text-align: left;\">Real</th><th title = \"Real\" style = \"text-align: left;\">Real</th><th title = \"Real\" style = \"text-align: left;\">Real</th></tr></thead><tbody><tr><td class = \"rowNumber\" style = \"font-weight: bold; text-align: right;\">1</td><td style = \"text-align: left;\">2020-01-01T00:00:00</td><td style = \"text-align: left;\">2020-01-01</td><td style = \"text-align: left;\">00:00:00</td><td style = \"text-align: right;\">67068.0</td><td style = \"text-align: right;\">300.0</td><td style = \"text-align: right;\">14.0</td><td style = \"text-align: right;\">6515.0</td><td style = \"text-align: right;\">49226.0</td><td style = \"text-align: right;\">3748.0</td><td style = \"text-align: right;\">0.0</td><td style = \"text-align: right;\">9084.0</td><td style = \"text-align: right;\">1185.0</td><td style = \"text-align: right;\">40.0</td><td style = \"text-align: right;\">0.0</td><td style = \"text-align: right;\">1704.0</td><td style = \"text-align: right;\">0.0</td><td style = \"text-align: right;\">226.0</td><td style = \"text-align: right;\">0.0</td><td style = \"text-align: right;\">1954.0</td><td style = \"text-align: right;\">0.0</td><td style = \"text-align: right;\">2267.0</td><td style = \"text-align: right;\">1763.0</td><td style = \"text-align: right;\">0.0</td><td style = \"text-align: right;\">65664.0</td><td style = \"text-align: right;\">21172.8</td><td style = \"text-align: right;\">1656.0</td><td style = \"text-align: right;\">1</td><td style = \"text-align: right;\">630.703</td><td style = \"text-align: right;\">3975.33</td><td style = \"text-align: right;\">7326.91</td><td style = \"text-align: right;\">16.6223</td><td style = \"text-align: right;\">125.067</td><td style = \"text-align: right;\">114.636</td><td style = \"text-align: right;\">90.0</td><td style = \"text-align: right;\">142.0</td><td style = \"text-align: right;\">91.2606</td><td style = \"text-align: right;\">100.0</td><td style = \"text-align: right;\">86.0</td><td style = \"text-align: right;\">20.6674</td><td style = \"text-align: right;\">85.4757</td><td style = \"text-align: right;\">98.3443</td><td style = \"text-align: right;\">108.444</td><td style = \"text-align: right;\">1000</td><td style = \"text-align: right;\">1000</td><td style = \"text-align: right;\">1000</td><td style = \"text-align: right;\">1000</td><td style = \"text-align: right;\">88.5942</td></tr><tr><td class = \"rowNumber\" style = \"font-weight: bold; text-align: right;\">2</td><td style = \"text-align: left;\">2020-01-01T00:30:00</td><td style = \"text-align: left;\">2020-01-01</td><td style = \"text-align: left;\">00:30:00</td><td style = \"text-align: right;\">66103.0</td><td style = \"text-align: right;\">107.0</td><td style = \"text-align: right;\">13.0</td><td style = \"text-align: right;\">6692.0</td><td style = \"text-align: right;\">49436.0</td><td style = \"text-align: right;\">3627.0</td><td style = \"text-align: right;\">0.0</td><td style = \"text-align: right;\">9586.0</td><td style = \"text-align: right;\">1194.0</td><td style = \"text-align: right;\">39.0</td><td style = \"text-align: right;\">0.0</td><td style = \"text-align: right;\">1704.0</td><td style = \"text-align: right;\">0.0</td><td style = \"text-align: right;\">226.0</td><td style = \"text-align: right;\">0.0</td><td style = \"text-align: right;\">1954.0</td><td style = \"text-align: right;\">0.0</td><td style = \"text-align: right;\">2267.0</td><td style = \"text-align: right;\">1763.0</td><td style = \"text-align: right;\">0.0</td><td style = \"text-align: right;\">65664.0</td><td style = \"text-align: right;\">21172.8</td><td style = \"text-align: right;\">1656.0</td><td style = \"text-align: right;\">1</td><td style = \"text-align: right;\">630.703</td><td style = \"text-align: right;\">3975.33</td><td style = \"text-align: right;\">7326.91</td><td style = \"text-align: right;\">16.6223</td><td style = \"text-align: right;\">125.067</td><td style = \"text-align: right;\">114.636</td><td style = \"text-align: right;\">90.0</td><td style = \"text-align: right;\">142.0</td><td style = \"text-align: right;\">91.2606</td><td style = \"text-align: right;\">100.0</td><td style = \"text-align: right;\">86.0</td><td style = \"text-align: right;\">20.6674</td><td style = \"text-align: right;\">85.4757</td><td style = \"text-align: right;\">97.8694</td><td style = \"text-align: right;\">106.127</td><td style = \"text-align: right;\">1000</td><td style = \"text-align: right;\">1000</td><td style = \"text-align: right;\">1000</td><td style = \"text-align: right;\">1000</td><td style = \"text-align: right;\">84.588</td></tr><tr><td class = \"rowNumber\" style = \"font-weight: bold; text-align: right;\">3</td><td style = \"text-align: left;\">2020-01-01T01:00:00</td><td style = \"text-align: left;\">2020-01-01</td><td style = \"text-align: left;\">01:00:00</td><td style = \"text-align: right;\">63943.0</td><td style = \"text-align: right;\">106.0</td><td style = \"text-align: right;\">13.0</td><td style = \"text-align: right;\">6257.0</td><td style = \"text-align: right;\">48970.0</td><td style = \"text-align: right;\">3203.0</td><td style = \"text-align: right;\">0.0</td><td style = \"text-align: right;\">9133.0</td><td style = \"text-align: right;\">1188.0</td><td style = \"text-align: right;\">37.0</td><td style = \"text-align: right;\">0.0</td><td style = \"text-align: right;\">1704.0</td><td style = \"text-align: right;\">358.0</td><td style = \"text-align: right;\">0.0</td><td style = \"text-align: right;\">0.0</td><td style = \"text-align: right;\">1867.0</td><td style = \"text-align: right;\">0.0</td><td style = \"text-align: right;\">2527.0</td><td style = \"text-align: right;\">1035.0</td><td style = \"text-align: right;\">0.0</td><td style = \"text-align: right;\">65664.0</td><td style = \"text-align: right;\">21172.8</td><td style = \"text-align: right;\">1656.0</td><td style = \"text-align: right;\">1</td><td style = \"text-align: right;\">630.703</td><td style = \"text-align: right;\">3975.33</td><td style = \"text-align: right;\">7326.91</td><td style = \"text-align: right;\">16.6223</td><td style = \"text-align: right;\">125.067</td><td style = \"text-align: right;\">114.636</td><td style = \"text-align: right;\">90.0</td><td style = \"text-align: right;\">142.0</td><td style = \"text-align: right;\">91.2606</td><td style = \"text-align: right;\">100.0</td><td style = \"text-align: right;\">86.0</td><td style = \"text-align: right;\">20.6674</td><td style = \"text-align: right;\">85.4757</td><td style = \"text-align: right;\">98.3552</td><td style = \"text-align: right;\">107.569</td><td style = \"text-align: right;\">1000</td><td style = \"text-align: right;\">95.4712</td><td style = \"text-align: right;\">1000</td><td style = \"text-align: right;\">1000</td><td style = \"text-align: right;\">85.5191</td></tr><tr><td class = \"rowNumber\" style = \"font-weight: bold; text-align: right;\">4</td><td style = \"text-align: left;\">2020-01-01T01:30:00</td><td style = \"text-align: left;\">2020-01-01</td><td style = \"text-align: left;\">01:30:00</td><td style = \"text-align: right;\">63904.0</td><td style = \"text-align: right;\">107.0</td><td style = \"text-align: right;\">14.0</td><td style = \"text-align: right;\">5630.0</td><td style = \"text-align: right;\">49648.0</td><td style = \"text-align: right;\">2981.0</td><td style = \"text-align: right;\">0.0</td><td style = \"text-align: right;\">9124.0</td><td style = \"text-align: right;\">1187.0</td><td style = \"text-align: right;\">34.0</td><td style = \"text-align: right;\">0.0</td><td style = \"text-align: right;\">1704.0</td><td style = \"text-align: right;\">358.0</td><td style = \"text-align: right;\">0.0</td><td style = \"text-align: right;\">0.0</td><td style = \"text-align: right;\">1867.0</td><td style = \"text-align: right;\">0.0</td><td style = \"text-align: right;\">2527.0</td><td style = \"text-align: right;\">1085.0</td><td style = \"text-align: right;\">0.0</td><td style = \"text-align: right;\">65664.0</td><td style = \"text-align: right;\">21172.8</td><td style = \"text-align: right;\">1656.0</td><td style = \"text-align: right;\">1</td><td style = \"text-align: right;\">630.703</td><td style = \"text-align: right;\">3975.33</td><td style = \"text-align: right;\">7326.91</td><td style = \"text-align: right;\">16.6223</td><td style = \"text-align: right;\">125.067</td><td style = \"text-align: right;\">114.636</td><td style = \"text-align: right;\">90.0</td><td style = \"text-align: right;\">142.0</td><td style = \"text-align: right;\">91.2606</td><td style = \"text-align: right;\">100.0</td><td style = \"text-align: right;\">86.0</td><td style = \"text-align: right;\">20.6674</td><td style = \"text-align: right;\">85.4757</td><td style = \"text-align: right;\">98.6179</td><td style = \"text-align: right;\">110.95</td><td style = \"text-align: right;\">1000</td><td style = \"text-align: right;\">97.423</td><td style = \"text-align: right;\">1000</td><td style = \"text-align: right;\">1000</td><td style = \"text-align: right;\">92.2449</td></tr><tr><td class = \"rowNumber\" style = \"font-weight: bold; text-align: right;\">5</td><td style = \"text-align: left;\">2020-01-01T02:00:00</td><td style = \"text-align: left;\">2020-01-01</td><td style = \"text-align: left;\">02:00:00</td><td style = \"text-align: right;\">63408.0</td><td style = \"text-align: right;\">107.0</td><td style = \"text-align: right;\">14.0</td><td style = \"text-align: right;\">5337.0</td><td style = \"text-align: right;\">49764.0</td><td style = \"text-align: right;\">2799.0</td><td style = \"text-align: right;\">0.0</td><td style = \"text-align: right;\">8699.0</td><td style = \"text-align: right;\">1198.0</td><td style = \"text-align: right;\">33.0</td><td style = \"text-align: right;\">0.0</td><td style = \"text-align: right;\">1704.0</td><td style = \"text-align: right;\">301.0</td><td style = \"text-align: right;\">0.0</td><td style = \"text-align: right;\">0.0</td><td style = \"text-align: right;\">1480.0</td><td style = \"text-align: right;\">0.0</td><td style = \"text-align: right;\">2463.0</td><td style = \"text-align: right;\">1668.0</td><td style = \"text-align: right;\">0.0</td><td style = \"text-align: right;\">65664.0</td><td style = \"text-align: right;\">21172.8</td><td style = \"text-align: right;\">1656.0</td><td style = \"text-align: right;\">1</td><td style = \"text-align: right;\">630.703</td><td style = \"text-align: right;\">3975.33</td><td style = \"text-align: right;\">7326.91</td><td style = \"text-align: right;\">16.6223</td><td style = \"text-align: right;\">125.067</td><td style = \"text-align: right;\">114.636</td><td style = \"text-align: right;\">90.0</td><td style = \"text-align: right;\">142.0</td><td style = \"text-align: right;\">91.2606</td><td style = \"text-align: right;\">100.0</td><td style = \"text-align: right;\">86.0</td><td style = \"text-align: right;\">20.6674</td><td style = \"text-align: right;\">85.4757</td><td style = \"text-align: right;\">99.1857</td><td style = \"text-align: right;\">111.537</td><td style = \"text-align: right;\">1000</td><td style = \"text-align: right;\">96.2025</td><td style = \"text-align: right;\">1000</td><td style = \"text-align: right;\">1000</td><td style = \"text-align: right;\">89.5986</td></tr><tr><td class = \"rowNumber\" style = \"font-weight: bold; text-align: right;\">6</td><td style = \"text-align: left;\">2020-01-01T02:30:00</td><td style = \"text-align: left;\">2020-01-01</td><td style = \"text-align: left;\">02:30:00</td><td style = \"text-align: right;\">62711.0</td><td style = \"text-align: right;\">107.0</td><td style = \"text-align: right;\">15.0</td><td style = \"text-align: right;\">4495.0</td><td style = \"text-align: right;\">49747.0</td><td style = \"text-align: right;\">2763.0</td><td style = \"text-align: right;\">0.0</td><td style = \"text-align: right;\">8212.0</td><td style = \"text-align: right;\">1184.0</td><td style = \"text-align: right;\">29.0</td><td style = \"text-align: right;\">0.0</td><td style = \"text-align: right;\">1704.0</td><td style = \"text-align: right;\">301.0</td><td style = \"text-align: right;\">0.0</td><td style = \"text-align: right;\">0.0</td><td style = \"text-align: right;\">1480.0</td><td style = \"text-align: right;\">0.0</td><td style = \"text-align: right;\">2463.0</td><td style = \"text-align: right;\">1761.0</td><td style = \"text-align: right;\">0.0</td><td style = \"text-align: right;\">65664.0</td><td style = \"text-align: right;\">21172.8</td><td style = \"text-align: right;\">1656.0</td><td style = \"text-align: right;\">1</td><td style = \"text-align: right;\">630.703</td><td style = \"text-align: right;\">3975.33</td><td style = \"text-align: right;\">7326.91</td><td style = \"text-align: right;\">16.6223</td><td style = \"text-align: right;\">125.067</td><td style = \"text-align: right;\">114.636</td><td style = \"text-align: right;\">90.0</td><td style = \"text-align: right;\">142.0</td><td style = \"text-align: right;\">91.2606</td><td style = \"text-align: right;\">100.0</td><td style = \"text-align: right;\">86.0</td><td style = \"text-align: right;\">20.6674</td><td style = \"text-align: right;\">85.4757</td><td style = \"text-align: right;\">99.8648</td><td style = \"text-align: right;\">107.581</td><td style = \"text-align: right;\">1000</td><td style = \"text-align: right;\">91.7211</td><td style = \"text-align: right;\">1000</td><td style = \"text-align: right;\">1000</td><td style = \"text-align: right;\">83.1744</td></tr><tr><td class = \"rowNumber\" style = \"font-weight: bold; text-align: right;\">7</td><td style = \"text-align: left;\">2020-01-01T03:00:00</td><td style = \"text-align: left;\">2020-01-01</td><td style = \"text-align: left;\">03:00:00</td><td style = \"text-align: right;\">60825.0</td><td style = \"text-align: right;\">107.0</td><td style = \"text-align: right;\">14.0</td><td style = \"text-align: right;\">3660.0</td><td style = \"text-align: right;\">49527.0</td><td style = \"text-align: right;\">2810.0</td><td style = \"text-align: right;\">0.0</td><td style = \"text-align: right;\">7658.0</td><td style = \"text-align: right;\">1185.0</td><td style = \"text-align: right;\">26.0</td><td style = \"text-align: right;\">0.0</td><td style = \"text-align: right;\">1704.0</td><td style = \"text-align: right;\">614.0</td><td style = \"text-align: right;\">0.0</td><td style = \"text-align: right;\">0.0</td><td style = \"text-align: right;\">1400.0</td><td style = \"text-align: right;\">0.0</td><td style = \"text-align: right;\">2350.0</td><td style = \"text-align: right;\">595.0</td><td style = \"text-align: right;\">0.0</td><td style = \"text-align: right;\">65664.0</td><td style = \"text-align: right;\">21172.8</td><td style = \"text-align: right;\">1656.0</td><td style = \"text-align: right;\">1</td><td style = \"text-align: right;\">630.703</td><td style = \"text-align: right;\">3975.33</td><td style = \"text-align: right;\">7326.91</td><td style = \"text-align: right;\">16.6223</td><td style = \"text-align: right;\">125.067</td><td style = \"text-align: right;\">114.636</td><td style = \"text-align: right;\">90.0</td><td style = \"text-align: right;\">142.0</td><td style = \"text-align: right;\">91.2606</td><td style = \"text-align: right;\">100.0</td><td style = \"text-align: right;\">86.0</td><td style = \"text-align: right;\">20.6674</td><td style = \"text-align: right;\">85.4757</td><td style = \"text-align: right;\">100.593</td><td style = \"text-align: right;\">109.624</td><td style = \"text-align: right;\">1000</td><td style = \"text-align: right;\">92.5093</td><td style = \"text-align: right;\">1000</td><td style = \"text-align: right;\">1000</td><td style = \"text-align: right;\">84.7796</td></tr><tr><td class = \"rowNumber\" style = \"font-weight: bold; text-align: right;\">8</td><td style = \"text-align: left;\">2020-01-01T03:30:00</td><td style = \"text-align: left;\">2020-01-01</td><td style = \"text-align: left;\">03:30:00</td><td style = \"text-align: right;\">59332.0</td><td style = \"text-align: right;\">107.0</td><td style = \"text-align: right;\">14.0</td><td style = \"text-align: right;\">2942.0</td><td style = \"text-align: right;\">49887.0</td><td style = \"text-align: right;\">2822.0</td><td style = \"text-align: right;\">0.0</td><td style = \"text-align: right;\">7335.0</td><td style = \"text-align: right;\">1194.0</td><td style = \"text-align: right;\">22.0</td><td style = \"text-align: right;\">0.0</td><td style = \"text-align: right;\">1704.0</td><td style = \"text-align: right;\">614.0</td><td style = \"text-align: right;\">0.0</td><td style = \"text-align: right;\">0.0</td><td style = \"text-align: right;\">1400.0</td><td style = \"text-align: right;\">0.0</td><td style = \"text-align: right;\">2350.0</td><td style = \"text-align: right;\">499.0</td><td style = \"text-align: right;\">0.0</td><td style = \"text-align: right;\">65664.0</td><td style = \"text-align: right;\">21172.8</td><td style = \"text-align: right;\">1656.0</td><td style = \"text-align: right;\">1</td><td style = \"text-align: right;\">630.703</td><td style = \"text-align: right;\">3975.33</td><td style = \"text-align: right;\">7326.91</td><td style = \"text-align: right;\">16.6223</td><td style = \"text-align: right;\">125.067</td><td style = \"text-align: right;\">114.636</td><td style = \"text-align: right;\">90.0</td><td style = \"text-align: right;\">142.0</td><td style = \"text-align: right;\">91.2606</td><td style = \"text-align: right;\">100.0</td><td style = \"text-align: right;\">86.0</td><td style = \"text-align: right;\">20.6674</td><td style = \"text-align: right;\">85.4757</td><td style = \"text-align: right;\">101.174</td><td style = \"text-align: right;\">111.07</td><td style = \"text-align: right;\">1000</td><td style = \"text-align: right;\">92.3101</td><td style = \"text-align: right;\">1000</td><td style = \"text-align: right;\">1000</td><td style = \"text-align: right;\">86.4761</td></tr><tr><td class = \"rowNumber\" style = \"font-weight: bold; text-align: right;\">9</td><td style = \"text-align: left;\">2020-01-01T04:00:00</td><td style = \"text-align: left;\">2020-01-01</td><td style = \"text-align: left;\">04:00:00</td><td style = \"text-align: right;\">58004.0</td><td style = \"text-align: right;\">107.0</td><td style = \"text-align: right;\">13.0</td><td style = \"text-align: right;\">2942.0</td><td style = \"text-align: right;\">49299.0</td><td style = \"text-align: right;\">2752.0</td><td style = \"text-align: right;\">0.0</td><td style = \"text-align: right;\">7021.0</td><td style = \"text-align: right;\">1201.0</td><td style = \"text-align: right;\">23.0</td><td style = \"text-align: right;\">0.0</td><td style = \"text-align: right;\">1704.0</td><td style = \"text-align: right;\">1109.0</td><td style = \"text-align: right;\">0.0</td><td style = \"text-align: right;\">0.0</td><td style = \"text-align: right;\">969.0</td><td style = \"text-align: right;\">0.0</td><td style = \"text-align: right;\">2402.0</td><td style = \"text-align: right;\">237.0</td><td style = \"text-align: right;\">0.0</td><td style = \"text-align: right;\">65664.0</td><td style = \"text-align: right;\">21172.8</td><td style = \"text-align: right;\">1656.0</td><td style = \"text-align: right;\">1</td><td style = \"text-align: right;\">630.703</td><td style = \"text-align: right;\">3975.33</td><td style = \"text-align: right;\">7326.91</td><td style = \"text-align: right;\">16.6223</td><td style = \"text-align: right;\">125.067</td><td style = \"text-align: right;\">114.636</td><td style = \"text-align: right;\">90.0</td><td style = \"text-align: right;\">142.0</td><td style = \"text-align: right;\">91.2606</td><td style = \"text-align: right;\">100.0</td><td style = \"text-align: right;\">86.0</td><td style = \"text-align: right;\">20.6674</td><td style = \"text-align: right;\">85.4757</td><td style = \"text-align: right;\">101.458</td><td style = \"text-align: right;\">106.865</td><td style = \"text-align: right;\">1000</td><td style = \"text-align: right;\">93.172</td><td style = \"text-align: right;\">1000</td><td style = \"text-align: right;\">1000</td><td style = \"text-align: right;\">86.9004</td></tr><tr><td class = \"rowNumber\" style = \"font-weight: bold; text-align: right;\">10</td><td style = \"text-align: left;\">2020-01-01T04:30:00</td><td style = \"text-align: left;\">2020-01-01</td><td style = \"text-align: left;\">04:30:00</td><td style = \"text-align: right;\">57125.0</td><td style = \"text-align: right;\">107.0</td><td style = \"text-align: right;\">14.0</td><td style = \"text-align: right;\">2963.0</td><td style = \"text-align: right;\">49714.0</td><td style = \"text-align: right;\">2746.0</td><td style = \"text-align: right;\">0.0</td><td style = \"text-align: right;\">6606.0</td><td style = \"text-align: right;\">1198.0</td><td style = \"text-align: right;\">23.0</td><td style = \"text-align: right;\">0.0</td><td style = \"text-align: right;\">1704.0</td><td style = \"text-align: right;\">1109.0</td><td style = \"text-align: right;\">0.0</td><td style = \"text-align: right;\">0.0</td><td style = \"text-align: right;\">969.0</td><td style = \"text-align: right;\">0.0</td><td style = \"text-align: right;\">2402.0</td><td style = \"text-align: right;\">237.0</td><td style = \"text-align: right;\">0.0</td><td style = \"text-align: right;\">65664.0</td><td style = \"text-align: right;\">21172.8</td><td style = \"text-align: right;\">1656.0</td><td style = \"text-align: right;\">1</td><td style = \"text-align: right;\">630.703</td><td style = \"text-align: right;\">3975.33</td><td style = \"text-align: right;\">7326.91</td><td style = \"text-align: right;\">16.6223</td><td style = \"text-align: right;\">125.067</td><td style = \"text-align: right;\">114.636</td><td style = \"text-align: right;\">90.0</td><td style = \"text-align: right;\">142.0</td><td style = \"text-align: right;\">91.2606</td><td style = \"text-align: right;\">100.0</td><td style = \"text-align: right;\">86.0</td><td style = \"text-align: right;\">20.6674</td><td style = \"text-align: right;\">85.4757</td><td style = \"text-align: right;\">102.072</td><td style = \"text-align: right;\">110.162</td><td style = \"text-align: right;\">1000</td><td style = \"text-align: right;\">96.5752</td><td style = \"text-align: right;\">1000</td><td style = \"text-align: right;\">1000</td><td style = \"text-align: right;\">86.0748</td></tr><tr><td class = \"rowNumber\" style = \"font-weight: bold; text-align: right;\">11</td><td style = \"text-align: left;\">2020-01-01T05:00:00</td><td style = \"text-align: left;\">2020-01-01</td><td style = \"text-align: left;\">05:00:00</td><td style = \"text-align: right;\">56432.0</td><td style = \"text-align: right;\">107.0</td><td style = \"text-align: right;\">14.0</td><td style = \"text-align: right;\">2947.0</td><td style = \"text-align: right;\">49455.0</td><td style = \"text-align: right;\">2733.0</td><td style = \"text-align: right;\">0.0</td><td style = \"text-align: right;\">6620.0</td><td style = \"text-align: right;\">1191.0</td><td style = \"text-align: right;\">23.0</td><td style = \"text-align: right;\">0.0</td><td style = \"text-align: right;\">1704.0</td><td style = \"text-align: right;\">1121.0</td><td style = \"text-align: right;\">0.0</td><td style = \"text-align: right;\">0.0</td><td style = \"text-align: right;\">1059.0</td><td style = \"text-align: right;\">0.0</td><td style = \"text-align: right;\">2543.0</td><td style = \"text-align: right;\">1040.0</td><td style = \"text-align: right;\">0.0</td><td style = \"text-align: right;\">65664.0</td><td style = \"text-align: right;\">21172.8</td><td style = \"text-align: right;\">1656.0</td><td style = \"text-align: right;\">1</td><td style = \"text-align: right;\">630.703</td><td style = \"text-align: right;\">3975.33</td><td style = \"text-align: right;\">7326.91</td><td style = \"text-align: right;\">16.6223</td><td style = \"text-align: right;\">125.067</td><td style = \"text-align: right;\">114.636</td><td style = \"text-align: right;\">90.0</td><td style = \"text-align: right;\">142.0</td><td style = \"text-align: right;\">91.2606</td><td style = \"text-align: right;\">100.0</td><td style = \"text-align: right;\">86.0</td><td style = \"text-align: right;\">20.6674</td><td style = \"text-align: right;\">85.4757</td><td style = \"text-align: right;\">102.01</td><td style = \"text-align: right;\">111.848</td><td style = \"text-align: right;\">1000</td><td style = \"text-align: right;\">92.1591</td><td style = \"text-align: right;\">1000</td><td style = \"text-align: right;\">1000</td><td style = \"text-align: right;\">92.2339</td></tr><tr><td class = \"rowNumber\" style = \"font-weight: bold; text-align: right;\">12</td><td style = \"text-align: left;\">2020-01-01T05:30:00</td><td style = \"text-align: left;\">2020-01-01</td><td style = \"text-align: left;\">05:30:00</td><td style = \"text-align: right;\">56707.0</td><td style = \"text-align: right;\">107.0</td><td style = \"text-align: right;\">14.0</td><td style = \"text-align: right;\">2956.0</td><td style = \"text-align: right;\">49678.0</td><td style = \"text-align: right;\">2654.0</td><td style = \"text-align: right;\">0.0</td><td style = \"text-align: right;\">6582.0</td><td style = \"text-align: right;\">1185.0</td><td style = \"text-align: right;\">24.0</td><td style = \"text-align: right;\">0.0</td><td style = \"text-align: right;\">1704.0</td><td style = \"text-align: right;\">1121.0</td><td style = \"text-align: right;\">0.0</td><td style = \"text-align: right;\">0.0</td><td style = \"text-align: right;\">1059.0</td><td style = \"text-align: right;\">0.0</td><td style = \"text-align: right;\">2543.0</td><td style = \"text-align: right;\">1040.0</td><td style = \"text-align: right;\">0.0</td><td style = \"text-align: right;\">65664.0</td><td style = \"text-align: right;\">21172.8</td><td style = \"text-align: right;\">1656.0</td><td style = \"text-align: right;\">1</td><td style = \"text-align: right;\">630.703</td><td style = \"text-align: right;\">3975.33</td><td style = \"text-align: right;\">7326.91</td><td style = \"text-align: right;\">16.6223</td><td style = \"text-align: right;\">125.067</td><td style = \"text-align: right;\">114.636</td><td style = \"text-align: right;\">90.0</td><td style = \"text-align: right;\">142.0</td><td style = \"text-align: right;\">91.2606</td><td style = \"text-align: right;\">100.0</td><td style = \"text-align: right;\">86.0</td><td style = \"text-align: right;\">20.6674</td><td style = \"text-align: right;\">85.4757</td><td style = \"text-align: right;\">102.118</td><td style = \"text-align: right;\">114.862</td><td style = \"text-align: right;\">1000</td><td style = \"text-align: right;\">98.6579</td><td style = \"text-align: right;\">1000</td><td style = \"text-align: right;\">1000</td><td style = \"text-align: right;\">93.1481</td></tr><tr><td class = \"rowNumber\" style = \"font-weight: bold; text-align: right;\">13</td><td style = \"text-align: left;\">2020-01-01T06:00:00</td><td style = \"text-align: left;\">2020-01-01</td><td style = \"text-align: left;\">06:00:00</td><td style = \"text-align: right;\">56455.0</td><td style = \"text-align: right;\">108.0</td><td style = \"text-align: right;\">14.0</td><td style = \"text-align: right;\">2961.0</td><td style = \"text-align: right;\">49686.0</td><td style = \"text-align: right;\">2530.0</td><td style = \"text-align: right;\">0.0</td><td style = \"text-align: right;\">6543.0</td><td style = \"text-align: right;\">1186.0</td><td style = \"text-align: right;\">24.0</td><td style = \"text-align: right;\">0.0</td><td style = \"text-align: right;\">1699.0</td><td style = \"text-align: right;\">973.0</td><td style = \"text-align: right;\">0.0</td><td style = \"text-align: right;\">0.0</td><td style = \"text-align: right;\">1106.0</td><td style = \"text-align: right;\">0.0</td><td style = \"text-align: right;\">2444.0</td><td style = \"text-align: right;\">1166.0</td><td style = \"text-align: right;\">0.0</td><td style = \"text-align: right;\">65664.0</td><td style = \"text-align: right;\">21172.8</td><td style = \"text-align: right;\">1656.0</td><td style = \"text-align: right;\">1</td><td style = \"text-align: right;\">630.703</td><td style = \"text-align: right;\">3975.33</td><td style = \"text-align: right;\">7326.91</td><td style = \"text-align: right;\">16.6223</td><td style = \"text-align: right;\">125.067</td><td style = \"text-align: right;\">114.636</td><td style = \"text-align: right;\">90.0</td><td style = \"text-align: right;\">142.0</td><td style = \"text-align: right;\">91.2606</td><td style = \"text-align: right;\">100.0</td><td style = \"text-align: right;\">86.0</td><td style = \"text-align: right;\">20.6674</td><td style = \"text-align: right;\">85.4757</td><td style = \"text-align: right;\">102.193</td><td style = \"text-align: right;\">107.059</td><td style = \"text-align: right;\">1000</td><td style = \"text-align: right;\">93.0047</td><td style = \"text-align: right;\">1000</td><td style = \"text-align: right;\">1000</td><td style = \"text-align: right;\">88.2071</td></tr><tr><td style = \"text-align: right;\">&vellip;</td><td style = \"text-align: right;\">&vellip;</td><td style = \"text-align: right;\">&vellip;</td><td style = \"text-align: right;\">&vellip;</td><td style = \"text-align: right;\">&vellip;</td><td style = \"text-align: right;\">&vellip;</td><td style = \"text-align: right;\">&vellip;</td><td style = \"text-align: right;\">&vellip;</td><td style = \"text-align: right;\">&vellip;</td><td style = \"text-align: right;\">&vellip;</td><td style = \"text-align: right;\">&vellip;</td><td style = \"text-align: right;\">&vellip;</td><td style = \"text-align: right;\">&vellip;</td><td style = \"text-align: right;\">&vellip;</td><td style = \"text-align: right;\">&vellip;</td><td style = \"text-align: right;\">&vellip;</td><td style = \"text-align: right;\">&vellip;</td><td style = \"text-align: right;\">&vellip;</td><td style = \"text-align: right;\">&vellip;</td><td style = \"text-align: right;\">&vellip;</td><td style = \"text-align: right;\">&vellip;</td><td style = \"text-align: right;\">&vellip;</td><td style = \"text-align: right;\">&vellip;</td><td style = \"text-align: right;\">&vellip;</td><td style = \"text-align: right;\">&vellip;</td><td style = \"text-align: right;\">&vellip;</td><td style = \"text-align: right;\">&vellip;</td><td style = \"text-align: right;\">&vellip;</td><td style = \"text-align: right;\">&vellip;</td><td style = \"text-align: right;\">&vellip;</td><td style = \"text-align: right;\">&vellip;</td><td style = \"text-align: right;\">&vellip;</td><td style = \"text-align: right;\">&vellip;</td><td style = \"text-align: right;\">&vellip;</td><td style = \"text-align: right;\">&vellip;</td><td style = \"text-align: right;\">&vellip;</td><td style = \"text-align: right;\">&vellip;</td><td style = \"text-align: right;\">&vellip;</td><td style = \"text-align: right;\">&vellip;</td><td style = \"text-align: right;\">&vellip;</td><td style = \"text-align: right;\">&vellip;</td><td style = \"text-align: right;\">&vellip;</td><td style = \"text-align: right;\">&vellip;</td><td style = \"text-align: right;\">&vellip;</td><td style = \"text-align: right;\">&vellip;</td><td style = \"text-align: right;\">&vellip;</td><td style = \"text-align: right;\">&vellip;</td><td style = \"text-align: right;\">&vellip;</td></tr><tr><td class = \"rowNumber\" style = \"font-weight: bold; text-align: right;\">17557</td><td style = \"text-align: left;\">2020-12-31T18:00:00</td><td style = \"text-align: left;\">2020-12-31</td><td style = \"text-align: left;\">18:00:00</td><td style = \"text-align: right;\">69527.0</td><td style = \"text-align: right;\">94.0</td><td style = \"text-align: right;\">7.0</td><td style = \"text-align: right;\">6022.0</td><td style = \"text-align: right;\">50313.0</td><td style = \"text-align: right;\">1952.0</td><td style = \"text-align: right;\">0.0</td><td style = \"text-align: right;\">10282.0</td><td style = \"text-align: right;\">1119.0</td><td style = \"text-align: right;\">35.0</td><td style = \"text-align: right;\">0.0</td><td style = \"text-align: right;\">2000.0</td><td style = \"text-align: right;\">2243.0</td><td style = \"text-align: right;\">0.0</td><td style = \"text-align: right;\">0.0</td><td style = \"text-align: right;\">1125.0</td><td style = \"text-align: right;\">0.0</td><td style = \"text-align: right;\">1235.0</td><td style = \"text-align: right;\">3380.0</td><td style = \"text-align: right;\">0.0</td><td style = \"text-align: right;\">65664.0</td><td style = \"text-align: right;\">21172.8</td><td style = \"text-align: right;\">1656.0</td><td style = \"text-align: right;\">53</td><td style = \"text-align: right;\">544.914</td><td style = \"text-align: right;\">5459.58</td><td style = \"text-align: right;\">5297.07</td><td style = \"text-align: right;\">9.67917</td><td style = \"text-align: right;\">107.501</td><td style = \"text-align: right;\">105.436</td><td style = \"text-align: right;\">90.0</td><td style = \"text-align: right;\">142.0</td><td style = \"text-align: right;\">81.5516</td><td style = \"text-align: right;\">100.0</td><td style = \"text-align: right;\">86.0</td><td style = \"text-align: right;\">20.0177</td><td style = \"text-align: right;\">97.5516</td><td style = \"text-align: right;\">90.2057</td><td style = \"text-align: right;\">100.639</td><td style = \"text-align: right;\">1000</td><td style = \"text-align: right;\">82.9936</td><td style = \"text-align: right;\">1000</td><td style = \"text-align: right;\">1000</td><td style = \"text-align: right;\">78.9669</td></tr><tr><td class = \"rowNumber\" style = \"font-weight: bold; text-align: right;\">17558</td><td style = \"text-align: left;\">2020-12-31T18:30:00</td><td style = \"text-align: left;\">2020-12-31</td><td style = \"text-align: left;\">18:30:00</td><td style = \"text-align: right;\">69985.0</td><td style = \"text-align: right;\">94.0</td><td style = \"text-align: right;\">8.0</td><td style = \"text-align: right;\">6036.0</td><td style = \"text-align: right;\">50508.0</td><td style = \"text-align: right;\">1838.0</td><td style = \"text-align: right;\">0.0</td><td style = \"text-align: right;\">10150.0</td><td style = \"text-align: right;\">1119.0</td><td style = \"text-align: right;\">35.0</td><td style = \"text-align: right;\">0.0</td><td style = \"text-align: right;\">2000.0</td><td style = \"text-align: right;\">2243.0</td><td style = \"text-align: right;\">0.0</td><td style = \"text-align: right;\">0.0</td><td style = \"text-align: right;\">1125.0</td><td style = \"text-align: right;\">0.0</td><td style = \"text-align: right;\">1235.0</td><td style = \"text-align: right;\">3609.0</td><td style = \"text-align: right;\">0.0</td><td style = \"text-align: right;\">65664.0</td><td style = \"text-align: right;\">21172.8</td><td style = \"text-align: right;\">1656.0</td><td style = \"text-align: right;\">53</td><td style = \"text-align: right;\">544.914</td><td style = \"text-align: right;\">5459.58</td><td style = \"text-align: right;\">5297.07</td><td style = \"text-align: right;\">9.67917</td><td style = \"text-align: right;\">107.501</td><td style = \"text-align: right;\">105.436</td><td style = \"text-align: right;\">90.0</td><td style = \"text-align: right;\">142.0</td><td style = \"text-align: right;\">81.5516</td><td style = \"text-align: right;\">100.0</td><td style = \"text-align: right;\">86.0</td><td style = \"text-align: right;\">20.0177</td><td style = \"text-align: right;\">97.5516</td><td style = \"text-align: right;\">90.3798</td><td style = \"text-align: right;\">100.944</td><td style = \"text-align: right;\">1000</td><td style = \"text-align: right;\">87.8852</td><td style = \"text-align: right;\">1000</td><td style = \"text-align: right;\">1000</td><td style = \"text-align: right;\">84.3017</td></tr><tr><td class = \"rowNumber\" style = \"font-weight: bold; text-align: right;\">17559</td><td style = \"text-align: left;\">2020-12-31T19:00:00</td><td style = \"text-align: left;\">2020-12-31</td><td style = \"text-align: left;\">19:00:00</td><td style = \"text-align: right;\">70394.0</td><td style = \"text-align: right;\">94.0</td><td style = \"text-align: right;\">8.0</td><td style = \"text-align: right;\">6099.0</td><td style = \"text-align: right;\">50733.0</td><td style = \"text-align: right;\">1699.0</td><td style = \"text-align: right;\">0.0</td><td style = \"text-align: right;\">9894.0</td><td style = \"text-align: right;\">1111.0</td><td style = \"text-align: right;\">36.0</td><td style = \"text-align: right;\">0.0</td><td style = \"text-align: right;\">2000.0</td><td style = \"text-align: right;\">634.0</td><td style = \"text-align: right;\">0.0</td><td style = \"text-align: right;\">0.0</td><td style = \"text-align: right;\">1352.0</td><td style = \"text-align: right;\">0.0</td><td style = \"text-align: right;\">1035.0</td><td style = \"text-align: right;\">5067.0</td><td style = \"text-align: right;\">0.0</td><td style = \"text-align: right;\">65664.0</td><td style = \"text-align: right;\">21172.8</td><td style = \"text-align: right;\">1656.0</td><td style = \"text-align: right;\">53</td><td style = \"text-align: right;\">544.914</td><td style = \"text-align: right;\">5459.58</td><td style = \"text-align: right;\">5297.07</td><td style = \"text-align: right;\">9.67917</td><td style = \"text-align: right;\">107.501</td><td style = \"text-align: right;\">105.436</td><td style = \"text-align: right;\">90.0</td><td style = \"text-align: right;\">142.0</td><td style = \"text-align: right;\">81.5516</td><td style = \"text-align: right;\">100.0</td><td style = \"text-align: right;\">86.0</td><td style = \"text-align: right;\">20.0177</td><td style = \"text-align: right;\">97.5516</td><td style = \"text-align: right;\">90.6791</td><td style = \"text-align: right;\">100.356</td><td style = \"text-align: right;\">1000</td><td style = \"text-align: right;\">84.4884</td><td style = \"text-align: right;\">1000</td><td style = \"text-align: right;\">1000</td><td style = \"text-align: right;\">77.6283</td></tr><tr><td class = \"rowNumber\" style = \"font-weight: bold; text-align: right;\">17560</td><td style = \"text-align: left;\">2020-12-31T19:30:00</td><td style = \"text-align: left;\">2020-12-31</td><td style = \"text-align: left;\">19:30:00</td><td style = \"text-align: right;\">69919.0</td><td style = \"text-align: right;\">94.0</td><td style = \"text-align: right;\">8.0</td><td style = \"text-align: right;\">6061.0</td><td style = \"text-align: right;\">50830.0</td><td style = \"text-align: right;\">1602.0</td><td style = \"text-align: right;\">0.0</td><td style = \"text-align: right;\">9746.0</td><td style = \"text-align: right;\">1109.0</td><td style = \"text-align: right;\">36.0</td><td style = \"text-align: right;\">0.0</td><td style = \"text-align: right;\">2000.0</td><td style = \"text-align: right;\">634.0</td><td style = \"text-align: right;\">0.0</td><td style = \"text-align: right;\">0.0</td><td style = \"text-align: right;\">1352.0</td><td style = \"text-align: right;\">0.0</td><td style = \"text-align: right;\">1035.0</td><td style = \"text-align: right;\">5114.0</td><td style = \"text-align: right;\">0.0</td><td style = \"text-align: right;\">65664.0</td><td style = \"text-align: right;\">21172.8</td><td style = \"text-align: right;\">1656.0</td><td style = \"text-align: right;\">53</td><td style = \"text-align: right;\">544.914</td><td style = \"text-align: right;\">5459.58</td><td style = \"text-align: right;\">5297.07</td><td style = \"text-align: right;\">9.67917</td><td style = \"text-align: right;\">107.501</td><td style = \"text-align: right;\">105.436</td><td style = \"text-align: right;\">90.0</td><td style = \"text-align: right;\">142.0</td><td style = \"text-align: right;\">81.5516</td><td style = \"text-align: right;\">100.0</td><td style = \"text-align: right;\">86.0</td><td style = \"text-align: right;\">20.0177</td><td style = \"text-align: right;\">97.5516</td><td style = \"text-align: right;\">90.856</td><td style = \"text-align: right;\">103.108</td><td style = \"text-align: right;\">1000</td><td style = \"text-align: right;\">87.0624</td><td style = \"text-align: right;\">1000</td><td style = \"text-align: right;\">1000</td><td style = \"text-align: right;\">88.3766</td></tr><tr><td class = \"rowNumber\" style = \"font-weight: bold; text-align: right;\">17561</td><td style = \"text-align: left;\">2020-12-31T20:00:00</td><td style = \"text-align: left;\">2020-12-31</td><td style = \"text-align: left;\">20:00:00</td><td style = \"text-align: right;\">68928.0</td><td style = \"text-align: right;\">94.0</td><td style = \"text-align: right;\">8.0</td><td style = \"text-align: right;\">6111.0</td><td style = \"text-align: right;\">50832.0</td><td style = \"text-align: right;\">1518.0</td><td style = \"text-align: right;\">0.0</td><td style = \"text-align: right;\">8928.0</td><td style = \"text-align: right;\">1108.0</td><td style = \"text-align: right;\">36.0</td><td style = \"text-align: right;\">0.0</td><td style = \"text-align: right;\">2000.0</td><td style = \"text-align: right;\">0.0</td><td style = \"text-align: right;\">705.0</td><td style = \"text-align: right;\">0.0</td><td style = \"text-align: right;\">2611.0</td><td style = \"text-align: right;\">0.0</td><td style = \"text-align: right;\">1495.0</td><td style = \"text-align: right;\">4950.0</td><td style = \"text-align: right;\">0.0</td><td style = \"text-align: right;\">65664.0</td><td style = \"text-align: right;\">21172.8</td><td style = \"text-align: right;\">1656.0</td><td style = \"text-align: right;\">53</td><td style = \"text-align: right;\">544.914</td><td style = \"text-align: right;\">5459.58</td><td style = \"text-align: right;\">5297.07</td><td style = \"text-align: right;\">9.67917</td><td style = \"text-align: right;\">107.501</td><td style = \"text-align: right;\">105.436</td><td style = \"text-align: right;\">90.0</td><td style = \"text-align: right;\">142.0</td><td style = \"text-align: right;\">81.5516</td><td style = \"text-align: right;\">100.0</td><td style = \"text-align: right;\">86.0</td><td style = \"text-align: right;\">20.0177</td><td style = \"text-align: right;\">97.5516</td><td style = \"text-align: right;\">91.6953</td><td style = \"text-align: right;\">97.1204</td><td style = \"text-align: right;\">1000</td><td style = \"text-align: right;\">1000</td><td style = \"text-align: right;\">1000</td><td style = \"text-align: right;\">1000</td><td style = \"text-align: right;\">77.2655</td></tr><tr><td class = \"rowNumber\" style = \"font-weight: bold; text-align: right;\">17562</td><td style = \"text-align: left;\">2020-12-31T20:30:00</td><td style = \"text-align: left;\">2020-12-31</td><td style = \"text-align: left;\">20:30:00</td><td style = \"text-align: right;\">67312.0</td><td style = \"text-align: right;\">94.0</td><td style = \"text-align: right;\">9.0</td><td style = \"text-align: right;\">6077.0</td><td style = \"text-align: right;\">50714.0</td><td style = \"text-align: right;\">1486.0</td><td style = \"text-align: right;\">0.0</td><td style = \"text-align: right;\">9979.0</td><td style = \"text-align: right;\">1122.0</td><td style = \"text-align: right;\">36.0</td><td style = \"text-align: right;\">0.0</td><td style = \"text-align: right;\">2000.0</td><td style = \"text-align: right;\">0.0</td><td style = \"text-align: right;\">705.0</td><td style = \"text-align: right;\">0.0</td><td style = \"text-align: right;\">2611.0</td><td style = \"text-align: right;\">0.0</td><td style = \"text-align: right;\">1495.0</td><td style = \"text-align: right;\">5178.0</td><td style = \"text-align: right;\">0.0</td><td style = \"text-align: right;\">65664.0</td><td style = \"text-align: right;\">21172.8</td><td style = \"text-align: right;\">1656.0</td><td style = \"text-align: right;\">53</td><td style = \"text-align: right;\">544.914</td><td style = \"text-align: right;\">5459.58</td><td style = \"text-align: right;\">5297.07</td><td style = \"text-align: right;\">9.67917</td><td style = \"text-align: right;\">107.501</td><td style = \"text-align: right;\">105.436</td><td style = \"text-align: right;\">90.0</td><td style = \"text-align: right;\">142.0</td><td style = \"text-align: right;\">81.5516</td><td style = \"text-align: right;\">100.0</td><td style = \"text-align: right;\">86.0</td><td style = \"text-align: right;\">20.0177</td><td style = \"text-align: right;\">97.5516</td><td style = \"text-align: right;\">90.5948</td><td style = \"text-align: right;\">102.204</td><td style = \"text-align: right;\">1000</td><td style = \"text-align: right;\">1000</td><td style = \"text-align: right;\">1000</td><td style = \"text-align: right;\">1000</td><td style = \"text-align: right;\">81.132</td></tr><tr><td class = \"rowNumber\" style = \"font-weight: bold; text-align: right;\">17563</td><td style = \"text-align: left;\">2020-12-31T21:00:00</td><td style = \"text-align: left;\">2020-12-31</td><td style = \"text-align: left;\">21:00:00</td><td style = \"text-align: right;\">65608.0</td><td style = \"text-align: right;\">93.0</td><td style = \"text-align: right;\">8.0</td><td style = \"text-align: right;\">6077.0</td><td style = \"text-align: right;\">50678.0</td><td style = \"text-align: right;\">1466.0</td><td style = \"text-align: right;\">0.0</td><td style = \"text-align: right;\">8146.0</td><td style = \"text-align: right;\">1126.0</td><td style = \"text-align: right;\">37.0</td><td style = \"text-align: right;\">0.0</td><td style = \"text-align: right;\">2000.0</td><td style = \"text-align: right;\">0.0</td><td style = \"text-align: right;\">1218.0</td><td style = \"text-align: right;\">0.0</td><td style = \"text-align: right;\">2347.0</td><td style = \"text-align: right;\">0.0</td><td style = \"text-align: right;\">1541.0</td><td style = \"text-align: right;\">4637.0</td><td style = \"text-align: right;\">0.0</td><td style = \"text-align: right;\">65664.0</td><td style = \"text-align: right;\">21172.8</td><td style = \"text-align: right;\">1656.0</td><td style = \"text-align: right;\">53</td><td style = \"text-align: right;\">544.914</td><td style = \"text-align: right;\">5459.58</td><td style = \"text-align: right;\">5297.07</td><td style = \"text-align: right;\">9.67917</td><td style = \"text-align: right;\">107.501</td><td style = \"text-align: right;\">105.436</td><td style = \"text-align: right;\">90.0</td><td style = \"text-align: right;\">142.0</td><td style = \"text-align: right;\">81.5516</td><td style = \"text-align: right;\">100.0</td><td style = \"text-align: right;\">86.0</td><td style = \"text-align: right;\">20.0177</td><td style = \"text-align: right;\">97.5516</td><td style = \"text-align: right;\">92.5013</td><td style = \"text-align: right;\">104.66</td><td style = \"text-align: right;\">1000</td><td style = \"text-align: right;\">1000</td><td style = \"text-align: right;\">1000</td><td style = \"text-align: right;\">1000</td><td style = \"text-align: right;\">88.5005</td></tr><tr><td class = \"rowNumber\" style = \"font-weight: bold; text-align: right;\">17564</td><td style = \"text-align: left;\">2020-12-31T21:30:00</td><td style = \"text-align: left;\">2020-12-31</td><td style = \"text-align: left;\">21:30:00</td><td style = \"text-align: right;\">64423.0</td><td style = \"text-align: right;\">94.0</td><td style = \"text-align: right;\">8.0</td><td style = \"text-align: right;\">5712.0</td><td style = \"text-align: right;\">50680.0</td><td style = \"text-align: right;\">1319.0</td><td style = \"text-align: right;\">0.0</td><td style = \"text-align: right;\">7755.0</td><td style = \"text-align: right;\">1120.0</td><td style = \"text-align: right;\">35.0</td><td style = \"text-align: right;\">0.0</td><td style = \"text-align: right;\">2000.0</td><td style = \"text-align: right;\">0.0</td><td style = \"text-align: right;\">1218.0</td><td style = \"text-align: right;\">0.0</td><td style = \"text-align: right;\">2347.0</td><td style = \"text-align: right;\">0.0</td><td style = \"text-align: right;\">1541.0</td><td style = \"text-align: right;\">4636.0</td><td style = \"text-align: right;\">0.0</td><td style = \"text-align: right;\">65664.0</td><td style = \"text-align: right;\">21172.8</td><td style = \"text-align: right;\">1656.0</td><td style = \"text-align: right;\">53</td><td style = \"text-align: right;\">544.914</td><td style = \"text-align: right;\">5459.58</td><td style = \"text-align: right;\">5297.07</td><td style = \"text-align: right;\">9.67917</td><td style = \"text-align: right;\">107.501</td><td style = \"text-align: right;\">105.436</td><td style = \"text-align: right;\">90.0</td><td style = \"text-align: right;\">142.0</td><td style = \"text-align: right;\">81.5516</td><td style = \"text-align: right;\">100.0</td><td style = \"text-align: right;\">86.0</td><td style = \"text-align: right;\">20.0177</td><td style = \"text-align: right;\">97.5516</td><td style = \"text-align: right;\">92.9916</td><td style = \"text-align: right;\">102.943</td><td style = \"text-align: right;\">1000</td><td style = \"text-align: right;\">1000</td><td style = \"text-align: right;\">1000</td><td style = \"text-align: right;\">1000</td><td style = \"text-align: right;\">81.5656</td></tr><tr><td class = \"rowNumber\" style = \"font-weight: bold; text-align: right;\">17565</td><td style = \"text-align: left;\">2020-12-31T22:00:00</td><td style = \"text-align: left;\">2020-12-31</td><td style = \"text-align: left;\">22:00:00</td><td style = \"text-align: right;\">63505.0</td><td style = \"text-align: right;\">93.0</td><td style = \"text-align: right;\">8.0</td><td style = \"text-align: right;\">5583.0</td><td style = \"text-align: right;\">50726.0</td><td style = \"text-align: right;\">1246.0</td><td style = \"text-align: right;\">0.0</td><td style = \"text-align: right;\">7146.0</td><td style = \"text-align: right;\">1117.0</td><td style = \"text-align: right;\">35.0</td><td style = \"text-align: right;\">0.0</td><td style = \"text-align: right;\">2000.0</td><td style = \"text-align: right;\">306.0</td><td style = \"text-align: right;\">0.0</td><td style = \"text-align: right;\">0.0</td><td style = \"text-align: right;\">1149.0</td><td style = \"text-align: right;\">0.0</td><td style = \"text-align: right;\">2100.0</td><td style = \"text-align: right;\">4339.0</td><td style = \"text-align: right;\">0.0</td><td style = \"text-align: right;\">65664.0</td><td style = \"text-align: right;\">21172.8</td><td style = \"text-align: right;\">1656.0</td><td style = \"text-align: right;\">53</td><td style = \"text-align: right;\">544.914</td><td style = \"text-align: right;\">5459.58</td><td style = \"text-align: right;\">5297.07</td><td style = \"text-align: right;\">9.67917</td><td style = \"text-align: right;\">107.501</td><td style = \"text-align: right;\">105.436</td><td style = \"text-align: right;\">90.0</td><td style = \"text-align: right;\">142.0</td><td style = \"text-align: right;\">81.5516</td><td style = \"text-align: right;\">100.0</td><td style = \"text-align: right;\">86.0</td><td style = \"text-align: right;\">20.0177</td><td style = \"text-align: right;\">97.5516</td><td style = \"text-align: right;\">93.7</td><td style = \"text-align: right;\">99.5008</td><td style = \"text-align: right;\">1000</td><td style = \"text-align: right;\">84.866</td><td style = \"text-align: right;\">1000</td><td style = \"text-align: right;\">1000</td><td style = \"text-align: right;\">80.988</td></tr><tr><td class = \"rowNumber\" style = \"font-weight: bold; text-align: right;\">17566</td><td style = \"text-align: left;\">2020-12-31T22:30:00</td><td style = \"text-align: left;\">2020-12-31</td><td style = \"text-align: left;\">22:30:00</td><td style = \"text-align: right;\">64331.0</td><td style = \"text-align: right;\">93.0</td><td style = \"text-align: right;\">8.0</td><td style = \"text-align: right;\">5573.0</td><td style = \"text-align: right;\">50719.0</td><td style = \"text-align: right;\">1210.0</td><td style = \"text-align: right;\">0.0</td><td style = \"text-align: right;\">7136.0</td><td style = \"text-align: right;\">1121.0</td><td style = \"text-align: right;\">35.0</td><td style = \"text-align: right;\">0.0</td><td style = \"text-align: right;\">2000.0</td><td style = \"text-align: right;\">306.0</td><td style = \"text-align: right;\">0.0</td><td style = \"text-align: right;\">0.0</td><td style = \"text-align: right;\">1149.0</td><td style = \"text-align: right;\">0.0</td><td style = \"text-align: right;\">2100.0</td><td style = \"text-align: right;\">4553.0</td><td style = \"text-align: right;\">0.0</td><td style = \"text-align: right;\">65664.0</td><td style = \"text-align: right;\">21172.8</td><td style = \"text-align: right;\">1656.0</td><td style = \"text-align: right;\">53</td><td style = \"text-align: right;\">544.914</td><td style = \"text-align: right;\">5459.58</td><td style = \"text-align: right;\">5297.07</td><td style = \"text-align: right;\">9.67917</td><td style = \"text-align: right;\">107.501</td><td style = \"text-align: right;\">105.436</td><td style = \"text-align: right;\">90.0</td><td style = \"text-align: right;\">142.0</td><td style = \"text-align: right;\">81.5516</td><td style = \"text-align: right;\">100.0</td><td style = \"text-align: right;\">86.0</td><td style = \"text-align: right;\">20.0177</td><td style = \"text-align: right;\">97.5516</td><td style = \"text-align: right;\">93.7141</td><td style = \"text-align: right;\">106.003</td><td style = \"text-align: right;\">1000</td><td style = \"text-align: right;\">87.5503</td><td style = \"text-align: right;\">1000</td><td style = \"text-align: right;\">1000</td><td style = \"text-align: right;\">90.3762</td></tr><tr><td class = \"rowNumber\" style = \"font-weight: bold; text-align: right;\">17567</td><td style = \"text-align: left;\">2020-12-31T23:00:00</td><td style = \"text-align: left;\">2020-12-31</td><td style = \"text-align: left;\">23:00:00</td><td style = \"text-align: right;\">66853.0</td><td style = \"text-align: right;\">94.0</td><td style = \"text-align: right;\">8.0</td><td style = \"text-align: right;\">5731.0</td><td style = \"text-align: right;\">50679.0</td><td style = \"text-align: right;\">1129.0</td><td style = \"text-align: right;\">0.0</td><td style = \"text-align: right;\">8148.0</td><td style = \"text-align: right;\">1124.0</td><td style = \"text-align: right;\">35.0</td><td style = \"text-align: right;\">0.0</td><td style = \"text-align: right;\">2000.0</td><td style = \"text-align: right;\">1906.0</td><td style = \"text-align: right;\">0.0</td><td style = \"text-align: right;\">0.0</td><td style = \"text-align: right;\">669.0</td><td style = \"text-align: right;\">0.0</td><td style = \"text-align: right;\">1773.0</td><td style = \"text-align: right;\">4062.0</td><td style = \"text-align: right;\">0.0</td><td style = \"text-align: right;\">65664.0</td><td style = \"text-align: right;\">21172.8</td><td style = \"text-align: right;\">1656.0</td><td style = \"text-align: right;\">53</td><td style = \"text-align: right;\">544.914</td><td style = \"text-align: right;\">5459.58</td><td style = \"text-align: right;\">5297.07</td><td style = \"text-align: right;\">9.67917</td><td style = \"text-align: right;\">107.501</td><td style = \"text-align: right;\">105.436</td><td style = \"text-align: right;\">90.0</td><td style = \"text-align: right;\">142.0</td><td style = \"text-align: right;\">81.5516</td><td style = \"text-align: right;\">100.0</td><td style = \"text-align: right;\">86.0</td><td style = \"text-align: right;\">20.0177</td><td style = \"text-align: right;\">97.5516</td><td style = \"text-align: right;\">92.5683</td><td style = \"text-align: right;\">101.711</td><td style = \"text-align: right;\">1000</td><td style = \"text-align: right;\">86.3187</td><td style = \"text-align: right;\">1000</td><td style = \"text-align: right;\">1000</td><td style = \"text-align: right;\">83.2673</td></tr><tr><td class = \"rowNumber\" style = \"font-weight: bold; text-align: right;\">17568</td><td style = \"text-align: left;\">2020-12-31T23:30:00</td><td style = \"text-align: left;\">2020-12-31</td><td style = \"text-align: left;\">23:30:00</td><td style = \"text-align: right;\">66750.0</td><td style = \"text-align: right;\">93.0</td><td style = \"text-align: right;\">8.0</td><td style = \"text-align: right;\">5690.0</td><td style = \"text-align: right;\">50637.0</td><td style = \"text-align: right;\">1011.0</td><td style = \"text-align: right;\">0.0</td><td style = \"text-align: right;\">7205.0</td><td style = \"text-align: right;\">1120.0</td><td style = \"text-align: right;\">36.0</td><td style = \"text-align: right;\">0.0</td><td style = \"text-align: right;\">2000.0</td><td style = \"text-align: right;\">1906.0</td><td style = \"text-align: right;\">0.0</td><td style = \"text-align: right;\">0.0</td><td style = \"text-align: right;\">669.0</td><td style = \"text-align: right;\">0.0</td><td style = \"text-align: right;\">1773.0</td><td style = \"text-align: right;\">4289.0</td><td style = \"text-align: right;\">0.0</td><td style = \"text-align: right;\">65664.0</td><td style = \"text-align: right;\">21172.8</td><td style = \"text-align: right;\">1656.0</td><td style = \"text-align: right;\">53</td><td style = \"text-align: right;\">544.914</td><td style = \"text-align: right;\">5459.58</td><td style = \"text-align: right;\">5297.07</td><td style = \"text-align: right;\">9.67917</td><td style = \"text-align: right;\">107.501</td><td style = \"text-align: right;\">105.436</td><td style = \"text-align: right;\">90.0</td><td style = \"text-align: right;\">142.0</td><td style = \"text-align: right;\">81.5516</td><td style = \"text-align: right;\">100.0</td><td style = \"text-align: right;\">86.0</td><td style = \"text-align: right;\">20.0177</td><td style = \"text-align: right;\">97.5516</td><td style = \"text-align: right;\">93.6117</td><td style = \"text-align: right;\">106.347</td><td style = \"text-align: right;\">1000</td><td style = \"text-align: right;\">95.7729</td><td style = \"text-align: right;\">1000</td><td style = \"text-align: right;\">1000</td><td style = \"text-align: right;\">84.1215</td></tr></tbody></table></div>"
      ],
      "text/latex": [
       "\\begin{tabular}{r|cccccccc}\n",
       "\t& DateTime & Date & Time & Consumption & Fuel & Coal & Gas & \\\\\n",
       "\t\\hline\n",
       "\t& DateTime & Date & Time & Float64 & Float64 & Float64 & Float64 & \\\\\n",
       "\t\\hline\n",
       "\t1 & 2020-01-01T00:00:00 & 2020-01-01 & 00:00:00 & 67068.0 & 300.0 & 14.0 & 6515.0 & $\\dots$ \\\\\n",
       "\t2 & 2020-01-01T00:30:00 & 2020-01-01 & 00:30:00 & 66103.0 & 107.0 & 13.0 & 6692.0 & $\\dots$ \\\\\n",
       "\t3 & 2020-01-01T01:00:00 & 2020-01-01 & 01:00:00 & 63943.0 & 106.0 & 13.0 & 6257.0 & $\\dots$ \\\\\n",
       "\t4 & 2020-01-01T01:30:00 & 2020-01-01 & 01:30:00 & 63904.0 & 107.0 & 14.0 & 5630.0 & $\\dots$ \\\\\n",
       "\t5 & 2020-01-01T02:00:00 & 2020-01-01 & 02:00:00 & 63408.0 & 107.0 & 14.0 & 5337.0 & $\\dots$ \\\\\n",
       "\t6 & 2020-01-01T02:30:00 & 2020-01-01 & 02:30:00 & 62711.0 & 107.0 & 15.0 & 4495.0 & $\\dots$ \\\\\n",
       "\t7 & 2020-01-01T03:00:00 & 2020-01-01 & 03:00:00 & 60825.0 & 107.0 & 14.0 & 3660.0 & $\\dots$ \\\\\n",
       "\t8 & 2020-01-01T03:30:00 & 2020-01-01 & 03:30:00 & 59332.0 & 107.0 & 14.0 & 2942.0 & $\\dots$ \\\\\n",
       "\t9 & 2020-01-01T04:00:00 & 2020-01-01 & 04:00:00 & 58004.0 & 107.0 & 13.0 & 2942.0 & $\\dots$ \\\\\n",
       "\t10 & 2020-01-01T04:30:00 & 2020-01-01 & 04:30:00 & 57125.0 & 107.0 & 14.0 & 2963.0 & $\\dots$ \\\\\n",
       "\t11 & 2020-01-01T05:00:00 & 2020-01-01 & 05:00:00 & 56432.0 & 107.0 & 14.0 & 2947.0 & $\\dots$ \\\\\n",
       "\t12 & 2020-01-01T05:30:00 & 2020-01-01 & 05:30:00 & 56707.0 & 107.0 & 14.0 & 2956.0 & $\\dots$ \\\\\n",
       "\t13 & 2020-01-01T06:00:00 & 2020-01-01 & 06:00:00 & 56455.0 & 108.0 & 14.0 & 2961.0 & $\\dots$ \\\\\n",
       "\t14 & 2020-01-01T06:30:00 & 2020-01-01 & 06:30:00 & 56894.0 & 108.0 & 14.0 & 2970.0 & $\\dots$ \\\\\n",
       "\t15 & 2020-01-01T07:00:00 & 2020-01-01 & 07:00:00 & 56722.0 & 107.0 & 15.0 & 2977.0 & $\\dots$ \\\\\n",
       "\t16 & 2020-01-01T07:30:00 & 2020-01-01 & 07:30:00 & 56815.0 & 109.0 & 11.0 & 2979.0 & $\\dots$ \\\\\n",
       "\t17 & 2020-01-01T08:00:00 & 2020-01-01 & 08:00:00 & 56967.0 & 108.0 & 11.0 & 2944.0 & $\\dots$ \\\\\n",
       "\t18 & 2020-01-01T08:30:00 & 2020-01-01 & 08:30:00 & 56623.0 & 108.0 & 11.0 & 2950.0 & $\\dots$ \\\\\n",
       "\t19 & 2020-01-01T09:00:00 & 2020-01-01 & 09:00:00 & 56587.0 & 108.0 & 12.0 & 3208.0 & $\\dots$ \\\\\n",
       "\t20 & 2020-01-01T09:30:00 & 2020-01-01 & 09:30:00 & 57222.0 & 108.0 & 12.0 & 3245.0 & $\\dots$ \\\\\n",
       "\t21 & 2020-01-01T10:00:00 & 2020-01-01 & 10:00:00 & 58060.0 & 108.0 & 15.0 & 3432.0 & $\\dots$ \\\\\n",
       "\t22 & 2020-01-01T10:30:00 & 2020-01-01 & 10:30:00 & 58877.0 & 108.0 & 15.0 & 3412.0 & $\\dots$ \\\\\n",
       "\t23 & 2020-01-01T11:00:00 & 2020-01-01 & 11:00:00 & 59617.0 & 108.0 & 14.0 & 3421.0 & $\\dots$ \\\\\n",
       "\t24 & 2020-01-01T11:30:00 & 2020-01-01 & 11:30:00 & 60615.0 & 108.0 & 16.0 & 3523.0 & $\\dots$ \\\\\n",
       "\t25 & 2020-01-01T12:00:00 & 2020-01-01 & 12:00:00 & 61617.0 & 109.0 & 15.0 & 3537.0 & $\\dots$ \\\\\n",
       "\t26 & 2020-01-01T12:30:00 & 2020-01-01 & 12:30:00 & 63039.0 & 109.0 & 15.0 & 3537.0 & $\\dots$ \\\\\n",
       "\t27 & 2020-01-01T13:00:00 & 2020-01-01 & 13:00:00 & 63962.0 & 108.0 & 16.0 & 3578.0 & $\\dots$ \\\\\n",
       "\t28 & 2020-01-01T13:30:00 & 2020-01-01 & 13:30:00 & 62722.0 & 107.0 & 15.0 & 3562.0 & $\\dots$ \\\\\n",
       "\t29 & 2020-01-01T14:00:00 & 2020-01-01 & 14:00:00 & 61452.0 & 108.0 & 15.0 & 3547.0 & $\\dots$ \\\\\n",
       "\t30 & 2020-01-01T14:30:00 & 2020-01-01 & 14:30:00 & 60391.0 & 108.0 & 15.0 & 3627.0 & $\\dots$ \\\\\n",
       "\t$\\dots$ & $\\dots$ & $\\dots$ & $\\dots$ & $\\dots$ & $\\dots$ & $\\dots$ & $\\dots$ &  \\\\\n",
       "\\end{tabular}\n"
      ],
      "text/plain": [
       "\u001b[1m17568×47 DataFrame\n",
       "\u001b[1m   Row │\u001b[1m DateTime            \u001b[1m Date       \u001b[1m Time     \u001b[1m Consumption \u001b[1m Fuel    \u001b[1m Coal ⋯\n",
       "       │\u001b[90m DateTime            \u001b[90m Date       \u001b[90m Time     \u001b[90m Float64     \u001b[90m Float64 \u001b[90m Floa ⋯\n",
       "───────┼────────────────────────────────────────────────────────────────────────\n",
       "     1 │ 2020-01-01T00:00:00  2020-01-01  00:00:00      67068.0    300.0     1 ⋯\n",
       "     2 │ 2020-01-01T00:30:00  2020-01-01  00:30:00      66103.0    107.0     1\n",
       "     3 │ 2020-01-01T01:00:00  2020-01-01  01:00:00      63943.0    106.0     1\n",
       "     4 │ 2020-01-01T01:30:00  2020-01-01  01:30:00      63904.0    107.0     1\n",
       "     5 │ 2020-01-01T02:00:00  2020-01-01  02:00:00      63408.0    107.0     1 ⋯\n",
       "     6 │ 2020-01-01T02:30:00  2020-01-01  02:30:00      62711.0    107.0     1\n",
       "     7 │ 2020-01-01T03:00:00  2020-01-01  03:00:00      60825.0    107.0     1\n",
       "     8 │ 2020-01-01T03:30:00  2020-01-01  03:30:00      59332.0    107.0     1\n",
       "     9 │ 2020-01-01T04:00:00  2020-01-01  04:00:00      58004.0    107.0     1 ⋯\n",
       "    10 │ 2020-01-01T04:30:00  2020-01-01  04:30:00      57125.0    107.0     1\n",
       "    11 │ 2020-01-01T05:00:00  2020-01-01  05:00:00      56432.0    107.0     1\n",
       "   ⋮   │          ⋮               ⋮          ⋮           ⋮          ⋮        ⋮ ⋱\n",
       " 17559 │ 2020-12-31T19:00:00  2020-12-31  19:00:00      70394.0     94.0\n",
       " 17560 │ 2020-12-31T19:30:00  2020-12-31  19:30:00      69919.0     94.0       ⋯\n",
       " 17561 │ 2020-12-31T20:00:00  2020-12-31  20:00:00      68928.0     94.0\n",
       " 17562 │ 2020-12-31T20:30:00  2020-12-31  20:30:00      67312.0     94.0\n",
       " 17563 │ 2020-12-31T21:00:00  2020-12-31  21:00:00      65608.0     93.0\n",
       " 17564 │ 2020-12-31T21:30:00  2020-12-31  21:30:00      64423.0     94.0       ⋯\n",
       " 17565 │ 2020-12-31T22:00:00  2020-12-31  22:00:00      63505.0     93.0\n",
       " 17566 │ 2020-12-31T22:30:00  2020-12-31  22:30:00      64331.0     93.0\n",
       " 17567 │ 2020-12-31T23:00:00  2020-12-31  23:00:00      66853.0     94.0\n",
       " 17568 │ 2020-12-31T23:30:00  2020-12-31  23:30:00      66750.0     93.0       ⋯\n",
       "\u001b[36m                                               42 columns and 17547 rows omitted"
      ]
     },
     "execution_count": 9,
     "metadata": {},
     "output_type": "execute_result"
    }
   ],
   "source": [
    "df_baseline = transform_data(df)"
   ]
  },
  {
   "cell_type": "code",
   "execution_count": 10,
   "metadata": {},
   "outputs": [],
   "source": [
    "# for each source, add coefficient lambda = p * cost to produce 1 MWh of energy with this source\n",
    "lambda_factor = 10\n",
    "df_baseline[!, :Lambda_Hydraulic] = lambda_factor .* df_baseline[!, :Hydraulic_cost]\n",
    "df_baseline[!, :Lambda_Bioenergy] = lambda_factor .* df_baseline[!, :Bioenergy_cost]\n",
    "df_baseline[!, :Lambda_Wind] = lambda_factor .* df_baseline[!, :Wind_cost]\n",
    "df_baseline[!, :Lambda_Solar] = lambda_factor .* df_baseline[!, :Solar_cost]\n",
    "df_baseline[!, :Lambda_Nuclear] = lambda_factor .* df_baseline[!, :Nuclear_cost]\n",
    "df_baseline[!, :Lambda_Gas] = lambda_factor .* df_baseline[!, :Gas_cost]\n",
    "df_baseline[!, :Lambda_Coal] = lambda_factor .* df_baseline[!, :Coal_cost]\n",
    "df_baseline[!, :Lambda_Fuel] = lambda_factor .* df_baseline[!, :Fuel_cost];"
   ]
  },
  {
   "cell_type": "code",
   "execution_count": 45,
   "metadata": {},
   "outputs": [
    {
     "data": {
      "text/plain": [
       "convert_to_df (generic function with 1 method)"
      ]
     },
     "execution_count": 45,
     "metadata": {},
     "output_type": "execute_result"
    }
   ],
   "source": [
    "# some information\n",
    "sources = [\"Hydraulic\", \"Bioenergy\", \"Wind\", \"Solar\", \"Nuclear\", \"Gas\", \"Coal\", \"Fuel\"]\n",
    "neighbors = [\"England\", \"Spain\", \"Italy\", \"Switzerland\", \"Germany_Belgium\"]\n",
    "\n",
    "function lambda_baseline_cost(x, y, z, df_base)\n",
    "    # for each row of the dataframe, compute a cost\n",
    "    # x is the amount of energy produced by each source\n",
    "    # y is the amount of energy imported from each country\n",
    "    # z is the amount of energy exported to each country\n",
    "    T = size(df_base, 1)\n",
    "\n",
    "    # add production cost\n",
    "    production_cost = 0\n",
    "    for i in 1:size(sources, 1)\n",
    "        # add cost of producing energy with each source\n",
    "        production_cost += sum(x[:, i] .* df_base[!, Symbol(sources[i] * \"_cost\")])\n",
    "        # add lambda cost of exceeding maximum cap\n",
    "        production_cost += sum(x[:, i] .- df_base[!, Symbol(sources[i] * \"_cap\")] .* df_base[!, Symbol(\"Lambda_\" * sources[i])])\n",
    "    end\n",
    "\n",
    "    # add import cost\n",
    "    import_cost = 0\n",
    "    for i in 1:size(neighbors, 1)\n",
    "        # add cost of importing energy from each neighbor\n",
    "        import_cost += sum(y[:, i] .* df_base[!, Symbol(neighbors[i] * \"_Price\")])\n",
    "    end\n",
    "\n",
    "    # add export cost\n",
    "    export_cost = 0\n",
    "    for i in 1:size(neighbors, 1)\n",
    "        # add cost of exporting energy to each neighbor\n",
    "        export_cost += sum(z[:, i] .* df_base[!, \"Export_Price\"])\n",
    "    end    \n",
    "\n",
    "    # return the total cost\n",
    "    return production_cost + import_cost + export_cost\n",
    "end\n",
    "\n",
    "\n",
    "function real_baseline_cost(x, y, z, df_base)\n",
    "    # for each row of the dataframe, compute a cost\n",
    "    # x is the amount of energy produced by each source\n",
    "    # y is the amount of energy imported from each country\n",
    "    # z is the amount of energy exported to each country\n",
    "\n",
    "    # add production cost\n",
    "    production_cost = 0\n",
    "    for i in 1:size(sources, 1)\n",
    "        # add cost of producing energy with each source\n",
    "        production_cost += sum(x[:, i] .* df_base[!, Symbol(sources[i] * \"_cost\")])\n",
    "    end\n",
    "\n",
    "    # add import cost\n",
    "    import_cost = 0\n",
    "    for i in 1:size(neighbors, 1)\n",
    "        # add cost of importing energy from each neighbor\n",
    "        import_cost += sum(y[:, i] .* df_base[!, Symbol(neighbors[i] * \"_Price\")])\n",
    "    end\n",
    "\n",
    "    # add export revenue\n",
    "    export_revenue = 0\n",
    "    for i in 1:size(neighbors, 1)\n",
    "        # add cost of exporting energy to each neighbor\n",
    "        export_revenue += sum(z[:, i] .* df_base[!, \"Export_Price\"])\n",
    "    end    \n",
    "\n",
    "    # return the total cost\n",
    "    return production_cost + import_cost - export_revenue\n",
    "end\n",
    "\n",
    "\n",
    "#function to convert the optimal values to a dataframe\n",
    "function convert_to_df(x, y, z, df_base)\n",
    "    # create a new dataframe\n",
    "    df = DataFrame()\n",
    "\n",
    "    # add the time column\n",
    "    df[!, :Time] = df_base[!, :Time]\n",
    "\n",
    "    # add the production columns\n",
    "    for i in 1:size(sources, 1)\n",
    "        df[!, Symbol(sources[i])] = x[:, i]\n",
    "    end\n",
    "\n",
    "    # add the import columns\n",
    "    for i in 1:size(neighbors, 1)\n",
    "        df[!, Symbol(neighbors[i] * \"_import\")] = y[:, i]\n",
    "    end\n",
    "\n",
    "    # add the export columns\n",
    "    for i in 1:size(neighbors, 1)\n",
    "        df[!, Symbol(neighbors[i] * \"_export\")] = z[:, i]\n",
    "    end\n",
    "\n",
    "    # return the dataframe\n",
    "    return df\n",
    "end\n"
   ]
  },
  {
   "cell_type": "code",
   "execution_count": 38,
   "metadata": {},
   "outputs": [
    {
     "data": {
      "text/plain": [
       "baseline_optimizer (generic function with 1 method)"
      ]
     },
     "execution_count": 38,
     "metadata": {},
     "output_type": "execute_result"
    }
   ],
   "source": [
    "# function to build a Gurobi Optimizer to optimize the baseline_cost\n",
    "function baseline_optimizer(df_base)\n",
    "\n",
    "    # create a Gurobi Optimizer\n",
    "    model = Model(Gurobi.Optimizer)\n",
    "    set_optimizer_attribute(model, \"OutputFlag\", 0)\n",
    "\n",
    "    # add variables\n",
    "    T = size(df_base, 1)\n",
    "    @variable(model, x[1:T, 1:8] >= 0) # production of energy with each source\n",
    "    @variable(model, y[1:T, 1:5] >= 0) # import of energy from each neighbor\n",
    "    @variable(model, z[1:T, 1:5] >= 0) # export of energy to each neighbor\n",
    "\n",
    "    # add objective\n",
    "    #@objective(model, Min, lambda_baseline_cost(x, y, z, df_base))\n",
    "    @objective(model, Min, real_baseline_cost(x, y, z, df_base))\n",
    "\n",
    "\n",
    "    # add constraints\n",
    "    # Demand constraint, we need to produce enough energy for France\n",
    "    @constraint(model, [t in 1:T], sum(x[t, :]) + sum(y[t, :]) - sum(z[t, :]) >= df_base[t, :Consumption])\n",
    "\n",
    "    # maximum import available constraint\n",
    "    @constraint(model, [t in 1:T, i in 1:5], y[t, i] <= df_base[t, Symbol(neighbors[i] * \"_import\")])\n",
    "\n",
    "    # maximum export available constraint\n",
    "    @constraint(model, [t in 1:T, i in 1:5], z[t, i] <= df_base[t, Symbol(neighbors[i] * \"_export\")])\n",
    "\n",
    "    # maximum production constraint\n",
    "    @constraint(model, [t in 1:T, i in 1:8], x[t, i] <= df_base[t, Symbol(sources[i] * \"_cap\")])\n",
    "\n",
    "    \n",
    "    # optimize\n",
    "    optimize!(model)\n",
    "\n",
    "    # return the optimizer\n",
    "    return model\n",
    "end"
   ]
  },
  {
   "cell_type": "code",
   "execution_count": 39,
   "metadata": {},
   "outputs": [
    {
     "name": "stdout",
     "output_type": "stream",
     "text": [
      "Set parameter Username\n",
      "Academic license - for non-commercial use only - expires 2023-08-18\n",
      "Lambda Baseline cost: -1.1973843970551196e12\n",
      "Real baseline cost: 4.811987163800417e10\n"
     ]
    }
   ],
   "source": [
    "model_1 = baseline_optimizer(df_baseline);\n",
    "\n",
    "# get the optimal values\n",
    "x_opt = value.(model_1[:x])\n",
    "y_opt = value.(model_1[:y])\n",
    "z_opt = value.(model_1[:z])\n",
    "\n",
    "# convert the optimal values to a dataframe\n",
    "df_opt = convert_to_df(x_opt, y_opt, z_opt, df_baseline)\n",
    "\n",
    "\n",
    "# compute the cost\n",
    "println(\"Lambda Baseline cost: \", lambda_baseline_cost(x_opt, y_opt, z_opt, df_baseline))\n",
    "println(\"Real baseline cost: \", real_baseline_cost(x_opt, y_opt, z_opt, df_baseline));"
   ]
  },
  {
   "cell_type": "code",
   "execution_count": 40,
   "metadata": {},
   "outputs": [
    {
     "data": {
      "text/html": [
       "<div><div style = \"float: left;\"><span>17568×19 DataFrame</span></div><div style = \"float: right;\"><span style = \"font-style: italic;\">17543 rows omitted</span></div><div style = \"clear: both;\"></div></div><div class = \"data-frame\" style = \"overflow-x: scroll;\"><table class = \"data-frame\" style = \"margin-bottom: 6px;\"><thead><tr class = \"header\"><th class = \"rowNumber\" style = \"font-weight: bold; text-align: right;\">Row</th><th style = \"text-align: left;\">Time</th><th style = \"text-align: left;\">Hydraulic</th><th style = \"text-align: left;\">Bioenergy</th><th style = \"text-align: left;\">Wind</th><th style = \"text-align: left;\">Solar</th><th style = \"text-align: left;\">Nuclear</th><th style = \"text-align: left;\">Gas</th><th style = \"text-align: left;\">Coal</th><th style = \"text-align: left;\">Fuel</th><th style = \"text-align: left;\">England_import</th><th style = \"text-align: left;\">Spain_import</th><th style = \"text-align: left;\">Italy_import</th><th style = \"text-align: left;\">Switzerland_import</th><th style = \"text-align: left;\">Germany_Belgium_import</th><th style = \"text-align: left;\">England_export</th><th style = \"text-align: left;\">Spain_export</th><th style = \"text-align: left;\">Italy_export</th><th style = \"text-align: left;\">Switzerland_export</th><th style = \"text-align: left;\">Germany_Belgium_export</th></tr><tr class = \"subheader headerLastRow\"><th class = \"rowNumber\" style = \"font-weight: bold; text-align: right;\"></th><th title = \"Time\" style = \"text-align: left;\">Time</th><th title = \"Float64\" style = \"text-align: left;\">Float64</th><th title = \"Float64\" style = \"text-align: left;\">Float64</th><th title = \"Float64\" style = \"text-align: left;\">Float64</th><th title = \"Float64\" style = \"text-align: left;\">Float64</th><th title = \"Float64\" style = \"text-align: left;\">Float64</th><th title = \"Float64\" style = \"text-align: left;\">Float64</th><th title = \"Float64\" style = \"text-align: left;\">Float64</th><th title = \"Float64\" style = \"text-align: left;\">Float64</th><th title = \"Float64\" style = \"text-align: left;\">Float64</th><th title = \"Float64\" style = \"text-align: left;\">Float64</th><th title = \"Float64\" style = \"text-align: left;\">Float64</th><th title = \"Float64\" style = \"text-align: left;\">Float64</th><th title = \"Float64\" style = \"text-align: left;\">Float64</th><th title = \"Float64\" style = \"text-align: left;\">Float64</th><th title = \"Float64\" style = \"text-align: left;\">Float64</th><th title = \"Float64\" style = \"text-align: left;\">Float64</th><th title = \"Float64\" style = \"text-align: left;\">Float64</th><th title = \"Float64\" style = \"text-align: left;\">Float64</th></tr></thead><tbody><tr><td class = \"rowNumber\" style = \"font-weight: bold; text-align: right;\">1</td><td style = \"text-align: left;\">00:00:00</td><td style = \"text-align: right;\">21172.8</td><td style = \"text-align: right;\">1656.0</td><td style = \"text-align: right;\">3975.33</td><td style = \"text-align: right;\">0.0</td><td style = \"text-align: right;\">32795.3</td><td style = \"text-align: right;\">7326.91</td><td style = \"text-align: right;\">16.6223</td><td style = \"text-align: right;\">125.067</td><td style = \"text-align: right;\">0.0</td><td style = \"text-align: right;\">0.0</td><td style = \"text-align: right;\">0.0</td><td style = \"text-align: right;\">0.0</td><td style = \"text-align: right;\">0.0</td><td style = \"text-align: right;\">0.0</td><td style = \"text-align: right;\">0.0</td><td style = \"text-align: right;\">0.0</td><td style = \"text-align: right;\">0.0</td><td style = \"text-align: right;\">0.0</td></tr><tr><td class = \"rowNumber\" style = \"font-weight: bold; text-align: right;\">2</td><td style = \"text-align: left;\">00:30:00</td><td style = \"text-align: right;\">21172.8</td><td style = \"text-align: right;\">1656.0</td><td style = \"text-align: right;\">3975.33</td><td style = \"text-align: right;\">0.0</td><td style = \"text-align: right;\">31830.3</td><td style = \"text-align: right;\">7326.91</td><td style = \"text-align: right;\">16.6223</td><td style = \"text-align: right;\">125.067</td><td style = \"text-align: right;\">0.0</td><td style = \"text-align: right;\">0.0</td><td style = \"text-align: right;\">0.0</td><td style = \"text-align: right;\">0.0</td><td style = \"text-align: right;\">0.0</td><td style = \"text-align: right;\">0.0</td><td style = \"text-align: right;\">0.0</td><td style = \"text-align: right;\">0.0</td><td style = \"text-align: right;\">0.0</td><td style = \"text-align: right;\">0.0</td></tr><tr><td class = \"rowNumber\" style = \"font-weight: bold; text-align: right;\">3</td><td style = \"text-align: left;\">01:00:00</td><td style = \"text-align: right;\">21172.8</td><td style = \"text-align: right;\">1656.0</td><td style = \"text-align: right;\">3975.33</td><td style = \"text-align: right;\">0.0</td><td style = \"text-align: right;\">29312.3</td><td style = \"text-align: right;\">7326.91</td><td style = \"text-align: right;\">16.6223</td><td style = \"text-align: right;\">125.067</td><td style = \"text-align: right;\">0.0</td><td style = \"text-align: right;\">358.0</td><td style = \"text-align: right;\">0.0</td><td style = \"text-align: right;\">0.0</td><td style = \"text-align: right;\">0.0</td><td style = \"text-align: right;\">0.0</td><td style = \"text-align: right;\">0.0</td><td style = \"text-align: right;\">0.0</td><td style = \"text-align: right;\">0.0</td><td style = \"text-align: right;\">0.0</td></tr><tr><td class = \"rowNumber\" style = \"font-weight: bold; text-align: right;\">4</td><td style = \"text-align: left;\">01:30:00</td><td style = \"text-align: right;\">21172.8</td><td style = \"text-align: right;\">1656.0</td><td style = \"text-align: right;\">3975.33</td><td style = \"text-align: right;\">0.0</td><td style = \"text-align: right;\">29273.3</td><td style = \"text-align: right;\">7326.91</td><td style = \"text-align: right;\">16.6223</td><td style = \"text-align: right;\">125.067</td><td style = \"text-align: right;\">0.0</td><td style = \"text-align: right;\">358.0</td><td style = \"text-align: right;\">0.0</td><td style = \"text-align: right;\">0.0</td><td style = \"text-align: right;\">0.0</td><td style = \"text-align: right;\">0.0</td><td style = \"text-align: right;\">0.0</td><td style = \"text-align: right;\">0.0</td><td style = \"text-align: right;\">0.0</td><td style = \"text-align: right;\">0.0</td></tr><tr><td class = \"rowNumber\" style = \"font-weight: bold; text-align: right;\">5</td><td style = \"text-align: left;\">02:00:00</td><td style = \"text-align: right;\">21172.8</td><td style = \"text-align: right;\">1656.0</td><td style = \"text-align: right;\">3975.33</td><td style = \"text-align: right;\">0.0</td><td style = \"text-align: right;\">28834.3</td><td style = \"text-align: right;\">7326.91</td><td style = \"text-align: right;\">16.6223</td><td style = \"text-align: right;\">125.067</td><td style = \"text-align: right;\">0.0</td><td style = \"text-align: right;\">301.0</td><td style = \"text-align: right;\">0.0</td><td style = \"text-align: right;\">0.0</td><td style = \"text-align: right;\">0.0</td><td style = \"text-align: right;\">0.0</td><td style = \"text-align: right;\">0.0</td><td style = \"text-align: right;\">0.0</td><td style = \"text-align: right;\">0.0</td><td style = \"text-align: right;\">0.0</td></tr><tr><td class = \"rowNumber\" style = \"font-weight: bold; text-align: right;\">6</td><td style = \"text-align: left;\">02:30:00</td><td style = \"text-align: right;\">21172.8</td><td style = \"text-align: right;\">1656.0</td><td style = \"text-align: right;\">3975.33</td><td style = \"text-align: right;\">0.0</td><td style = \"text-align: right;\">28137.3</td><td style = \"text-align: right;\">7326.91</td><td style = \"text-align: right;\">16.6223</td><td style = \"text-align: right;\">125.067</td><td style = \"text-align: right;\">0.0</td><td style = \"text-align: right;\">301.0</td><td style = \"text-align: right;\">0.0</td><td style = \"text-align: right;\">0.0</td><td style = \"text-align: right;\">0.0</td><td style = \"text-align: right;\">0.0</td><td style = \"text-align: right;\">0.0</td><td style = \"text-align: right;\">0.0</td><td style = \"text-align: right;\">0.0</td><td style = \"text-align: right;\">0.0</td></tr><tr><td class = \"rowNumber\" style = \"font-weight: bold; text-align: right;\">7</td><td style = \"text-align: left;\">03:00:00</td><td style = \"text-align: right;\">21172.8</td><td style = \"text-align: right;\">1656.0</td><td style = \"text-align: right;\">3975.33</td><td style = \"text-align: right;\">0.0</td><td style = \"text-align: right;\">25938.3</td><td style = \"text-align: right;\">7326.91</td><td style = \"text-align: right;\">16.6223</td><td style = \"text-align: right;\">125.067</td><td style = \"text-align: right;\">0.0</td><td style = \"text-align: right;\">614.0</td><td style = \"text-align: right;\">0.0</td><td style = \"text-align: right;\">0.0</td><td style = \"text-align: right;\">0.0</td><td style = \"text-align: right;\">0.0</td><td style = \"text-align: right;\">0.0</td><td style = \"text-align: right;\">0.0</td><td style = \"text-align: right;\">0.0</td><td style = \"text-align: right;\">0.0</td></tr><tr><td class = \"rowNumber\" style = \"font-weight: bold; text-align: right;\">8</td><td style = \"text-align: left;\">03:30:00</td><td style = \"text-align: right;\">21172.8</td><td style = \"text-align: right;\">1656.0</td><td style = \"text-align: right;\">3975.33</td><td style = \"text-align: right;\">0.0</td><td style = \"text-align: right;\">24445.3</td><td style = \"text-align: right;\">7326.91</td><td style = \"text-align: right;\">16.6223</td><td style = \"text-align: right;\">125.067</td><td style = \"text-align: right;\">0.0</td><td style = \"text-align: right;\">614.0</td><td style = \"text-align: right;\">0.0</td><td style = \"text-align: right;\">0.0</td><td style = \"text-align: right;\">0.0</td><td style = \"text-align: right;\">0.0</td><td style = \"text-align: right;\">0.0</td><td style = \"text-align: right;\">0.0</td><td style = \"text-align: right;\">0.0</td><td style = \"text-align: right;\">0.0</td></tr><tr><td class = \"rowNumber\" style = \"font-weight: bold; text-align: right;\">9</td><td style = \"text-align: left;\">04:00:00</td><td style = \"text-align: right;\">21172.8</td><td style = \"text-align: right;\">1656.0</td><td style = \"text-align: right;\">3975.33</td><td style = \"text-align: right;\">0.0</td><td style = \"text-align: right;\">22622.3</td><td style = \"text-align: right;\">7326.91</td><td style = \"text-align: right;\">16.6223</td><td style = \"text-align: right;\">125.067</td><td style = \"text-align: right;\">0.0</td><td style = \"text-align: right;\">1109.0</td><td style = \"text-align: right;\">0.0</td><td style = \"text-align: right;\">0.0</td><td style = \"text-align: right;\">0.0</td><td style = \"text-align: right;\">0.0</td><td style = \"text-align: right;\">0.0</td><td style = \"text-align: right;\">0.0</td><td style = \"text-align: right;\">0.0</td><td style = \"text-align: right;\">0.0</td></tr><tr><td class = \"rowNumber\" style = \"font-weight: bold; text-align: right;\">10</td><td style = \"text-align: left;\">04:30:00</td><td style = \"text-align: right;\">21172.8</td><td style = \"text-align: right;\">1656.0</td><td style = \"text-align: right;\">3975.33</td><td style = \"text-align: right;\">0.0</td><td style = \"text-align: right;\">21743.3</td><td style = \"text-align: right;\">7326.91</td><td style = \"text-align: right;\">16.6223</td><td style = \"text-align: right;\">125.067</td><td style = \"text-align: right;\">0.0</td><td style = \"text-align: right;\">1109.0</td><td style = \"text-align: right;\">0.0</td><td style = \"text-align: right;\">0.0</td><td style = \"text-align: right;\">0.0</td><td style = \"text-align: right;\">0.0</td><td style = \"text-align: right;\">0.0</td><td style = \"text-align: right;\">0.0</td><td style = \"text-align: right;\">0.0</td><td style = \"text-align: right;\">0.0</td></tr><tr><td class = \"rowNumber\" style = \"font-weight: bold; text-align: right;\">11</td><td style = \"text-align: left;\">05:00:00</td><td style = \"text-align: right;\">21172.8</td><td style = \"text-align: right;\">1656.0</td><td style = \"text-align: right;\">3975.33</td><td style = \"text-align: right;\">0.0</td><td style = \"text-align: right;\">21038.3</td><td style = \"text-align: right;\">7326.91</td><td style = \"text-align: right;\">16.6223</td><td style = \"text-align: right;\">125.067</td><td style = \"text-align: right;\">0.0</td><td style = \"text-align: right;\">1121.0</td><td style = \"text-align: right;\">0.0</td><td style = \"text-align: right;\">0.0</td><td style = \"text-align: right;\">0.0</td><td style = \"text-align: right;\">0.0</td><td style = \"text-align: right;\">0.0</td><td style = \"text-align: right;\">0.0</td><td style = \"text-align: right;\">0.0</td><td style = \"text-align: right;\">0.0</td></tr><tr><td class = \"rowNumber\" style = \"font-weight: bold; text-align: right;\">12</td><td style = \"text-align: left;\">05:30:00</td><td style = \"text-align: right;\">21172.8</td><td style = \"text-align: right;\">1656.0</td><td style = \"text-align: right;\">3975.33</td><td style = \"text-align: right;\">0.0</td><td style = \"text-align: right;\">63761.3</td><td style = \"text-align: right;\">7326.91</td><td style = \"text-align: right;\">16.6223</td><td style = \"text-align: right;\">125.067</td><td style = \"text-align: right;\">0.0</td><td style = \"text-align: right;\">1121.0</td><td style = \"text-align: right;\">0.0</td><td style = \"text-align: right;\">0.0</td><td style = \"text-align: right;\">0.0</td><td style = \"text-align: right;\">13632.0</td><td style = \"text-align: right;\">0.0</td><td style = \"text-align: right;\">8472.0</td><td style = \"text-align: right;\">20344.0</td><td style = \"text-align: right;\">0.0</td></tr><tr><td class = \"rowNumber\" style = \"font-weight: bold; text-align: right;\">13</td><td style = \"text-align: left;\">06:00:00</td><td style = \"text-align: right;\">21172.8</td><td style = \"text-align: right;\">1656.0</td><td style = \"text-align: right;\">3975.33</td><td style = \"text-align: right;\">0.0</td><td style = \"text-align: right;\">21209.3</td><td style = \"text-align: right;\">7326.91</td><td style = \"text-align: right;\">16.6223</td><td style = \"text-align: right;\">125.067</td><td style = \"text-align: right;\">0.0</td><td style = \"text-align: right;\">973.0</td><td style = \"text-align: right;\">0.0</td><td style = \"text-align: right;\">0.0</td><td style = \"text-align: right;\">0.0</td><td style = \"text-align: right;\">0.0</td><td style = \"text-align: right;\">0.0</td><td style = \"text-align: right;\">0.0</td><td style = \"text-align: right;\">0.0</td><td style = \"text-align: right;\">0.0</td></tr><tr><td style = \"text-align: right;\">&vellip;</td><td style = \"text-align: right;\">&vellip;</td><td style = \"text-align: right;\">&vellip;</td><td style = \"text-align: right;\">&vellip;</td><td style = \"text-align: right;\">&vellip;</td><td style = \"text-align: right;\">&vellip;</td><td style = \"text-align: right;\">&vellip;</td><td style = \"text-align: right;\">&vellip;</td><td style = \"text-align: right;\">&vellip;</td><td style = \"text-align: right;\">&vellip;</td><td style = \"text-align: right;\">&vellip;</td><td style = \"text-align: right;\">&vellip;</td><td style = \"text-align: right;\">&vellip;</td><td style = \"text-align: right;\">&vellip;</td><td style = \"text-align: right;\">&vellip;</td><td style = \"text-align: right;\">&vellip;</td><td style = \"text-align: right;\">&vellip;</td><td style = \"text-align: right;\">&vellip;</td><td style = \"text-align: right;\">&vellip;</td><td style = \"text-align: right;\">&vellip;</td></tr><tr><td class = \"rowNumber\" style = \"font-weight: bold; text-align: right;\">17557</td><td style = \"text-align: left;\">18:00:00</td><td style = \"text-align: right;\">21172.8</td><td style = \"text-align: right;\">1656.0</td><td style = \"text-align: right;\">5459.58</td><td style = \"text-align: right;\">0.0</td><td style = \"text-align: right;\">33581.4</td><td style = \"text-align: right;\">5297.07</td><td style = \"text-align: right;\">9.67917</td><td style = \"text-align: right;\">107.501</td><td style = \"text-align: right;\">0.0</td><td style = \"text-align: right;\">2243.0</td><td style = \"text-align: right;\">0.0</td><td style = \"text-align: right;\">0.0</td><td style = \"text-align: right;\">0.0</td><td style = \"text-align: right;\">0.0</td><td style = \"text-align: right;\">0.0</td><td style = \"text-align: right;\">0.0</td><td style = \"text-align: right;\">0.0</td><td style = \"text-align: right;\">0.0</td></tr><tr><td class = \"rowNumber\" style = \"font-weight: bold; text-align: right;\">17558</td><td style = \"text-align: left;\">18:30:00</td><td style = \"text-align: right;\">21172.8</td><td style = \"text-align: right;\">1656.0</td><td style = \"text-align: right;\">5459.58</td><td style = \"text-align: right;\">0.0</td><td style = \"text-align: right;\">34039.4</td><td style = \"text-align: right;\">5297.07</td><td style = \"text-align: right;\">9.67917</td><td style = \"text-align: right;\">107.501</td><td style = \"text-align: right;\">0.0</td><td style = \"text-align: right;\">2243.0</td><td style = \"text-align: right;\">0.0</td><td style = \"text-align: right;\">0.0</td><td style = \"text-align: right;\">0.0</td><td style = \"text-align: right;\">0.0</td><td style = \"text-align: right;\">0.0</td><td style = \"text-align: right;\">0.0</td><td style = \"text-align: right;\">0.0</td><td style = \"text-align: right;\">0.0</td></tr><tr><td class = \"rowNumber\" style = \"font-weight: bold; text-align: right;\">17559</td><td style = \"text-align: left;\">19:00:00</td><td style = \"text-align: right;\">21172.8</td><td style = \"text-align: right;\">1656.0</td><td style = \"text-align: right;\">5459.58</td><td style = \"text-align: right;\">0.0</td><td style = \"text-align: right;\">36057.4</td><td style = \"text-align: right;\">5297.07</td><td style = \"text-align: right;\">9.67917</td><td style = \"text-align: right;\">107.501</td><td style = \"text-align: right;\">0.0</td><td style = \"text-align: right;\">634.0</td><td style = \"text-align: right;\">0.0</td><td style = \"text-align: right;\">0.0</td><td style = \"text-align: right;\">0.0</td><td style = \"text-align: right;\">0.0</td><td style = \"text-align: right;\">0.0</td><td style = \"text-align: right;\">0.0</td><td style = \"text-align: right;\">0.0</td><td style = \"text-align: right;\">0.0</td></tr><tr><td class = \"rowNumber\" style = \"font-weight: bold; text-align: right;\">17560</td><td style = \"text-align: left;\">19:30:00</td><td style = \"text-align: right;\">21172.8</td><td style = \"text-align: right;\">1656.0</td><td style = \"text-align: right;\">5459.58</td><td style = \"text-align: right;\">0.0</td><td style = \"text-align: right;\">35582.4</td><td style = \"text-align: right;\">5297.07</td><td style = \"text-align: right;\">9.67917</td><td style = \"text-align: right;\">107.501</td><td style = \"text-align: right;\">0.0</td><td style = \"text-align: right;\">634.0</td><td style = \"text-align: right;\">0.0</td><td style = \"text-align: right;\">0.0</td><td style = \"text-align: right;\">0.0</td><td style = \"text-align: right;\">0.0</td><td style = \"text-align: right;\">0.0</td><td style = \"text-align: right;\">0.0</td><td style = \"text-align: right;\">0.0</td><td style = \"text-align: right;\">0.0</td></tr><tr><td class = \"rowNumber\" style = \"font-weight: bold; text-align: right;\">17561</td><td style = \"text-align: left;\">20:00:00</td><td style = \"text-align: right;\">21172.8</td><td style = \"text-align: right;\">1656.0</td><td style = \"text-align: right;\">5459.58</td><td style = \"text-align: right;\">0.0</td><td style = \"text-align: right;\">35225.4</td><td style = \"text-align: right;\">5297.07</td><td style = \"text-align: right;\">9.67917</td><td style = \"text-align: right;\">107.501</td><td style = \"text-align: right;\">0.0</td><td style = \"text-align: right;\">0.0</td><td style = \"text-align: right;\">0.0</td><td style = \"text-align: right;\">0.0</td><td style = \"text-align: right;\">0.0</td><td style = \"text-align: right;\">0.0</td><td style = \"text-align: right;\">0.0</td><td style = \"text-align: right;\">0.0</td><td style = \"text-align: right;\">0.0</td><td style = \"text-align: right;\">0.0</td></tr><tr><td class = \"rowNumber\" style = \"font-weight: bold; text-align: right;\">17562</td><td style = \"text-align: left;\">20:30:00</td><td style = \"text-align: right;\">21172.8</td><td style = \"text-align: right;\">1656.0</td><td style = \"text-align: right;\">5459.58</td><td style = \"text-align: right;\">0.0</td><td style = \"text-align: right;\">33609.4</td><td style = \"text-align: right;\">5297.07</td><td style = \"text-align: right;\">9.67917</td><td style = \"text-align: right;\">107.501</td><td style = \"text-align: right;\">0.0</td><td style = \"text-align: right;\">0.0</td><td style = \"text-align: right;\">0.0</td><td style = \"text-align: right;\">0.0</td><td style = \"text-align: right;\">0.0</td><td style = \"text-align: right;\">0.0</td><td style = \"text-align: right;\">0.0</td><td style = \"text-align: right;\">0.0</td><td style = \"text-align: right;\">0.0</td><td style = \"text-align: right;\">0.0</td></tr><tr><td class = \"rowNumber\" style = \"font-weight: bold; text-align: right;\">17563</td><td style = \"text-align: left;\">21:00:00</td><td style = \"text-align: right;\">21172.8</td><td style = \"text-align: right;\">1656.0</td><td style = \"text-align: right;\">5459.58</td><td style = \"text-align: right;\">0.0</td><td style = \"text-align: right;\">31905.4</td><td style = \"text-align: right;\">5297.07</td><td style = \"text-align: right;\">9.67917</td><td style = \"text-align: right;\">107.501</td><td style = \"text-align: right;\">0.0</td><td style = \"text-align: right;\">0.0</td><td style = \"text-align: right;\">0.0</td><td style = \"text-align: right;\">0.0</td><td style = \"text-align: right;\">0.0</td><td style = \"text-align: right;\">0.0</td><td style = \"text-align: right;\">0.0</td><td style = \"text-align: right;\">0.0</td><td style = \"text-align: right;\">0.0</td><td style = \"text-align: right;\">0.0</td></tr><tr><td class = \"rowNumber\" style = \"font-weight: bold; text-align: right;\">17564</td><td style = \"text-align: left;\">21:30:00</td><td style = \"text-align: right;\">21172.8</td><td style = \"text-align: right;\">1656.0</td><td style = \"text-align: right;\">5459.58</td><td style = \"text-align: right;\">0.0</td><td style = \"text-align: right;\">30720.4</td><td style = \"text-align: right;\">5297.07</td><td style = \"text-align: right;\">9.67917</td><td style = \"text-align: right;\">107.501</td><td style = \"text-align: right;\">0.0</td><td style = \"text-align: right;\">0.0</td><td style = \"text-align: right;\">0.0</td><td style = \"text-align: right;\">0.0</td><td style = \"text-align: right;\">0.0</td><td style = \"text-align: right;\">0.0</td><td style = \"text-align: right;\">0.0</td><td style = \"text-align: right;\">0.0</td><td style = \"text-align: right;\">0.0</td><td style = \"text-align: right;\">0.0</td></tr><tr><td class = \"rowNumber\" style = \"font-weight: bold; text-align: right;\">17565</td><td style = \"text-align: left;\">22:00:00</td><td style = \"text-align: right;\">21172.8</td><td style = \"text-align: right;\">1656.0</td><td style = \"text-align: right;\">5459.58</td><td style = \"text-align: right;\">0.0</td><td style = \"text-align: right;\">29496.4</td><td style = \"text-align: right;\">5297.07</td><td style = \"text-align: right;\">9.67917</td><td style = \"text-align: right;\">107.501</td><td style = \"text-align: right;\">0.0</td><td style = \"text-align: right;\">306.0</td><td style = \"text-align: right;\">0.0</td><td style = \"text-align: right;\">0.0</td><td style = \"text-align: right;\">0.0</td><td style = \"text-align: right;\">0.0</td><td style = \"text-align: right;\">0.0</td><td style = \"text-align: right;\">0.0</td><td style = \"text-align: right;\">0.0</td><td style = \"text-align: right;\">0.0</td></tr><tr><td class = \"rowNumber\" style = \"font-weight: bold; text-align: right;\">17566</td><td style = \"text-align: left;\">22:30:00</td><td style = \"text-align: right;\">21172.8</td><td style = \"text-align: right;\">1656.0</td><td style = \"text-align: right;\">5459.58</td><td style = \"text-align: right;\">0.0</td><td style = \"text-align: right;\">65664.0</td><td style = \"text-align: right;\">5297.07</td><td style = \"text-align: right;\">9.67917</td><td style = \"text-align: right;\">107.501</td><td style = \"text-align: right;\">0.0</td><td style = \"text-align: right;\">306.0</td><td style = \"text-align: right;\">0.0</td><td style = \"text-align: right;\">0.0</td><td style = \"text-align: right;\">0.0</td><td style = \"text-align: right;\">9349.63</td><td style = \"text-align: right;\">0.0</td><td style = \"text-align: right;\">9192.0</td><td style = \"text-align: right;\">16800.0</td><td style = \"text-align: right;\">0.0</td></tr><tr><td class = \"rowNumber\" style = \"font-weight: bold; text-align: right;\">17567</td><td style = \"text-align: left;\">23:00:00</td><td style = \"text-align: right;\">21172.8</td><td style = \"text-align: right;\">1656.0</td><td style = \"text-align: right;\">5459.58</td><td style = \"text-align: right;\">0.0</td><td style = \"text-align: right;\">31244.4</td><td style = \"text-align: right;\">5297.07</td><td style = \"text-align: right;\">9.67917</td><td style = \"text-align: right;\">107.501</td><td style = \"text-align: right;\">0.0</td><td style = \"text-align: right;\">1906.0</td><td style = \"text-align: right;\">0.0</td><td style = \"text-align: right;\">0.0</td><td style = \"text-align: right;\">0.0</td><td style = \"text-align: right;\">0.0</td><td style = \"text-align: right;\">0.0</td><td style = \"text-align: right;\">0.0</td><td style = \"text-align: right;\">0.0</td><td style = \"text-align: right;\">0.0</td></tr><tr><td class = \"rowNumber\" style = \"font-weight: bold; text-align: right;\">17568</td><td style = \"text-align: left;\">23:30:00</td><td style = \"text-align: right;\">21172.8</td><td style = \"text-align: right;\">1656.0</td><td style = \"text-align: right;\">5459.58</td><td style = \"text-align: right;\">0.0</td><td style = \"text-align: right;\">65664.0</td><td style = \"text-align: right;\">5297.07</td><td style = \"text-align: right;\">9.67917</td><td style = \"text-align: right;\">107.501</td><td style = \"text-align: right;\">0.0</td><td style = \"text-align: right;\">1906.0</td><td style = \"text-align: right;\">0.0</td><td style = \"text-align: right;\">0.0</td><td style = \"text-align: right;\">0.0</td><td style = \"text-align: right;\">16000.0</td><td style = \"text-align: right;\">0.0</td><td style = \"text-align: right;\">5352.0</td><td style = \"text-align: right;\">13170.6</td><td style = \"text-align: right;\">0.0</td></tr></tbody></table></div>"
      ],
      "text/latex": [
       "\\begin{tabular}{r|cccccccccc}\n",
       "\t& Time & Hydraulic & Bioenergy & Wind & Solar & Nuclear & Gas & Coal & Fuel & \\\\\n",
       "\t\\hline\n",
       "\t& Time & Float64 & Float64 & Float64 & Float64 & Float64 & Float64 & Float64 & Float64 & \\\\\n",
       "\t\\hline\n",
       "\t1 & 00:00:00 & 21172.8 & 1656.0 & 3975.33 & 0.0 & 32795.3 & 7326.91 & 16.6223 & 125.067 & $\\dots$ \\\\\n",
       "\t2 & 00:30:00 & 21172.8 & 1656.0 & 3975.33 & 0.0 & 31830.3 & 7326.91 & 16.6223 & 125.067 & $\\dots$ \\\\\n",
       "\t3 & 01:00:00 & 21172.8 & 1656.0 & 3975.33 & 0.0 & 29312.3 & 7326.91 & 16.6223 & 125.067 & $\\dots$ \\\\\n",
       "\t4 & 01:30:00 & 21172.8 & 1656.0 & 3975.33 & 0.0 & 29273.3 & 7326.91 & 16.6223 & 125.067 & $\\dots$ \\\\\n",
       "\t5 & 02:00:00 & 21172.8 & 1656.0 & 3975.33 & 0.0 & 28834.3 & 7326.91 & 16.6223 & 125.067 & $\\dots$ \\\\\n",
       "\t6 & 02:30:00 & 21172.8 & 1656.0 & 3975.33 & 0.0 & 28137.3 & 7326.91 & 16.6223 & 125.067 & $\\dots$ \\\\\n",
       "\t7 & 03:00:00 & 21172.8 & 1656.0 & 3975.33 & 0.0 & 25938.3 & 7326.91 & 16.6223 & 125.067 & $\\dots$ \\\\\n",
       "\t8 & 03:30:00 & 21172.8 & 1656.0 & 3975.33 & 0.0 & 24445.3 & 7326.91 & 16.6223 & 125.067 & $\\dots$ \\\\\n",
       "\t9 & 04:00:00 & 21172.8 & 1656.0 & 3975.33 & 0.0 & 22622.3 & 7326.91 & 16.6223 & 125.067 & $\\dots$ \\\\\n",
       "\t10 & 04:30:00 & 21172.8 & 1656.0 & 3975.33 & 0.0 & 21743.3 & 7326.91 & 16.6223 & 125.067 & $\\dots$ \\\\\n",
       "\t11 & 05:00:00 & 21172.8 & 1656.0 & 3975.33 & 0.0 & 21038.3 & 7326.91 & 16.6223 & 125.067 & $\\dots$ \\\\\n",
       "\t12 & 05:30:00 & 21172.8 & 1656.0 & 3975.33 & 0.0 & 63761.3 & 7326.91 & 16.6223 & 125.067 & $\\dots$ \\\\\n",
       "\t13 & 06:00:00 & 21172.8 & 1656.0 & 3975.33 & 0.0 & 21209.3 & 7326.91 & 16.6223 & 125.067 & $\\dots$ \\\\\n",
       "\t14 & 06:30:00 & 21172.8 & 1656.0 & 3975.33 & 0.0 & 21648.3 & 7326.91 & 16.6223 & 125.067 & $\\dots$ \\\\\n",
       "\t15 & 07:00:00 & 21172.8 & 1656.0 & 3975.33 & 0.0 & 21725.3 & 7326.91 & 16.6223 & 125.067 & $\\dots$ \\\\\n",
       "\t16 & 07:30:00 & 21172.8 & 1656.0 & 3975.33 & 0.0 & 21818.3 & 7326.91 & 16.6223 & 125.067 & $\\dots$ \\\\\n",
       "\t17 & 08:00:00 & 21172.8 & 1656.0 & 3975.33 & 0.0 & 60298.3 & 7326.91 & 16.6223 & 125.067 & $\\dots$ \\\\\n",
       "\t18 & 08:30:00 & 21172.8 & 1656.0 & 3975.33 & 0.0 & 21714.3 & 7326.91 & 16.6223 & 125.067 & $\\dots$ \\\\\n",
       "\t19 & 09:00:00 & 21172.8 & 1656.0 & 3975.33 & 0.0 & 22183.3 & 7326.91 & 16.6223 & 125.067 & $\\dots$ \\\\\n",
       "\t20 & 09:30:00 & 21172.8 & 1656.0 & 3975.33 & 0.0 & 22818.3 & 7326.91 & 16.6223 & 125.067 & $\\dots$ \\\\\n",
       "\t21 & 10:00:00 & 21172.8 & 1656.0 & 3975.33 & 0.0 & 23199.3 & 7326.91 & 16.6223 & 125.067 & $\\dots$ \\\\\n",
       "\t22 & 10:30:00 & 21172.8 & 1656.0 & 3975.33 & 0.0 & 24016.3 & 7326.91 & 16.6223 & 125.067 & $\\dots$ \\\\\n",
       "\t23 & 11:00:00 & 21172.8 & 1656.0 & 3975.33 & 0.0 & 57194.3 & 7326.91 & 16.6223 & 125.067 & $\\dots$ \\\\\n",
       "\t24 & 11:30:00 & 21172.8 & 1656.0 & 3975.33 & 0.0 & 58192.3 & 7326.91 & 16.6223 & 125.067 & $\\dots$ \\\\\n",
       "\t25 & 12:00:00 & 21172.8 & 1656.0 & 3975.33 & 0.0 & 57580.3 & 7326.91 & 16.6223 & 125.067 & $\\dots$ \\\\\n",
       "\t26 & 12:30:00 & 21172.8 & 1656.0 & 3975.33 & 0.0 & 28058.3 & 7326.91 & 16.6223 & 125.067 & $\\dots$ \\\\\n",
       "\t27 & 13:00:00 & 21172.8 & 1656.0 & 3975.33 & 0.0 & 29689.3 & 7326.91 & 16.6223 & 125.067 & $\\dots$ \\\\\n",
       "\t28 & 13:30:00 & 21172.8 & 1656.0 & 3975.33 & 0.0 & 28449.3 & 7326.91 & 16.6223 & 125.067 & $\\dots$ \\\\\n",
       "\t29 & 14:00:00 & 21172.8 & 1656.0 & 3975.33 & 0.0 & 27179.3 & 7326.91 & 16.6223 & 125.067 & $\\dots$ \\\\\n",
       "\t30 & 14:30:00 & 21172.8 & 1656.0 & 3975.33 & 0.0 & 55241.3 & 7326.91 & 16.6223 & 125.067 & $\\dots$ \\\\\n",
       "\t$\\dots$ & $\\dots$ & $\\dots$ & $\\dots$ & $\\dots$ & $\\dots$ & $\\dots$ & $\\dots$ & $\\dots$ & $\\dots$ &  \\\\\n",
       "\\end{tabular}\n"
      ],
      "text/plain": [
       "\u001b[1m17568×19 DataFrame\n",
       "\u001b[1m   Row │\u001b[1m Time     \u001b[1m Hydraulic \u001b[1m Bioenergy \u001b[1m Wind    \u001b[1m Solar   \u001b[1m Nuclear \u001b[1m Gas     \u001b[1m C ⋯\n",
       "       │\u001b[90m Time     \u001b[90m Float64   \u001b[90m Float64   \u001b[90m Float64 \u001b[90m Float64 \u001b[90m Float64 \u001b[90m Float64 \u001b[90m F ⋯\n",
       "───────┼────────────────────────────────────────────────────────────────────────\n",
       "     1 │ 00:00:00    21172.8     1656.0  3975.33      0.0  32795.3  7326.91  1 ⋯\n",
       "     2 │ 00:30:00    21172.8     1656.0  3975.33      0.0  31830.3  7326.91  1\n",
       "     3 │ 01:00:00    21172.8     1656.0  3975.33      0.0  29312.3  7326.91  1\n",
       "     4 │ 01:30:00    21172.8     1656.0  3975.33      0.0  29273.3  7326.91  1\n",
       "     5 │ 02:00:00    21172.8     1656.0  3975.33      0.0  28834.3  7326.91  1 ⋯\n",
       "     6 │ 02:30:00    21172.8     1656.0  3975.33      0.0  28137.3  7326.91  1\n",
       "     7 │ 03:00:00    21172.8     1656.0  3975.33      0.0  25938.3  7326.91  1\n",
       "     8 │ 03:30:00    21172.8     1656.0  3975.33      0.0  24445.3  7326.91  1\n",
       "     9 │ 04:00:00    21172.8     1656.0  3975.33      0.0  22622.3  7326.91  1 ⋯\n",
       "    10 │ 04:30:00    21172.8     1656.0  3975.33      0.0  21743.3  7326.91  1\n",
       "    11 │ 05:00:00    21172.8     1656.0  3975.33      0.0  21038.3  7326.91  1\n",
       "   ⋮   │    ⋮          ⋮          ⋮         ⋮        ⋮        ⋮        ⋮       ⋱\n",
       " 17559 │ 19:00:00    21172.8     1656.0  5459.58      0.0  36057.4  5297.07\n",
       " 17560 │ 19:30:00    21172.8     1656.0  5459.58      0.0  35582.4  5297.07    ⋯\n",
       " 17561 │ 20:00:00    21172.8     1656.0  5459.58      0.0  35225.4  5297.07\n",
       " 17562 │ 20:30:00    21172.8     1656.0  5459.58      0.0  33609.4  5297.07\n",
       " 17563 │ 21:00:00    21172.8     1656.0  5459.58      0.0  31905.4  5297.07\n",
       " 17564 │ 21:30:00    21172.8     1656.0  5459.58      0.0  30720.4  5297.07    ⋯\n",
       " 17565 │ 22:00:00    21172.8     1656.0  5459.58      0.0  29496.4  5297.07\n",
       " 17566 │ 22:30:00    21172.8     1656.0  5459.58      0.0  65664.0  5297.07\n",
       " 17567 │ 23:00:00    21172.8     1656.0  5459.58      0.0  31244.4  5297.07\n",
       " 17568 │ 23:30:00    21172.8     1656.0  5459.58      0.0  65664.0  5297.07    ⋯\n",
       "\u001b[36m                                               12 columns and 17547 rows omitted"
      ]
     },
     "execution_count": 40,
     "metadata": {},
     "output_type": "execute_result"
    }
   ],
   "source": [
    "df_opt"
   ]
  },
  {
   "cell_type": "markdown",
   "metadata": {},
   "source": [
    "### Crisis scenario"
   ]
  },
  {
   "cell_type": "code",
   "execution_count": 46,
   "metadata": {},
   "outputs": [
    {
     "data": {
      "text/plain": [
       "crisis_df (generic function with 1 method)"
      ]
     },
     "execution_count": 46,
     "metadata": {},
     "output_type": "execute_result"
    }
   ],
   "source": [
    "function crisis_df(df, boost_coef)\n",
    "    # make all import columns of Switzerland Italy Germany_Belgium and England to zero\n",
    "    df[!, :Switzerland_import] .= 0\n",
    "    df[!, :Italy_import] .= 0\n",
    "    df[!, :Germany_Belgium_import] .= 0\n",
    "    df[!, :England_import] .= 0\n",
    "\n",
    "    # boost export demand by 50%\n",
    "    df[!, :Switzerland_export] .= df[!, :Switzerland_export] * boost_coef\n",
    "    df[!, :Italy_export] .= df[!, :Italy_export] * boost_coef\n",
    "    df[!, :Germany_Belgium_export] .= df[!, :Germany_Belgium_export] * boost_coef\n",
    "    df[!, :England_export] .= df[!, :England_export] * boost_coef\n",
    "    \n",
    "    return df\n",
    "end"
   ]
  },
  {
   "cell_type": "code",
   "execution_count": 47,
   "metadata": {},
   "outputs": [],
   "source": [
    "df_crisis = crisis_df(df_baseline, 2);"
   ]
  },
  {
   "cell_type": "code",
   "execution_count": 53,
   "metadata": {},
   "outputs": [
    {
     "data": {
      "text/plain": [
       "crisis_optimizer (generic function with 1 method)"
      ]
     },
     "execution_count": 53,
     "metadata": {},
     "output_type": "execute_result"
    }
   ],
   "source": [
    "# function very similar to baseline_optimizer, but with an additional constraint\n",
    "function crisis_optimizer(df_base, alpha)\n",
    "\n",
    "    # create a Gurobi Optimizer\n",
    "    model = Model(Gurobi.Optimizer)\n",
    "    set_optimizer_attribute(model, \"OutputFlag\", 0)\n",
    "\n",
    "    # add variables\n",
    "    T = size(df_base, 1)\n",
    "    @variable(model, x[1:T, 1:8] >= 0) # production of energy with each source\n",
    "    @variable(model, y[1:T, 1:5] >= 0) # import of energy from each neighbor\n",
    "    @variable(model, z[1:T, 1:5] >= 0) # export of energy to each neighbor\n",
    "\n",
    "    # add objective\n",
    "    #@objective(model, Min, lambda_baseline_cost(x, y, z, df_base))\n",
    "    @objective(model, Min, real_baseline_cost(x, y, z, df_base))\n",
    "\n",
    "\n",
    "    # add constraints\n",
    "    # Demand constraint, we need to produce enough energy for France\n",
    "    @constraint(model, [t in 1:T], sum(x[t, :]) + sum(y[t, :]) - sum(z[t, :]) >= df_base[t, :Consumption])\n",
    "\n",
    "    # maximum import available constraint\n",
    "    @constraint(model, [t in 1:T, i in 1:5], y[t, i] <= df_base[t, Symbol(neighbors[i] * \"_import\")])\n",
    "\n",
    "    # maximum export available constraint\n",
    "    @constraint(model, [t in 1:T, i in 1:5], z[t, i] <= df_base[t, Symbol(neighbors[i] * \"_export\")])\n",
    "\n",
    "    # maximum production constraint\n",
    "    @constraint(model, [t in 1:T, i in 1:8], x[t, i] <= df_base[t, Symbol(sources[i] * \"_cap\")])\n",
    "\n",
    "    # crisis constraint, we need to satisfy at least alpha percent of the neighbors demand\n",
    "    @constraint(model, [t in 1:T, i in 1:5], z[t, i] >= alpha * df_base[t, Symbol(neighbors[i] * \"_export\")])\n",
    "\n",
    "    \n",
    "    # optimize\n",
    "    optimize!(model)\n",
    "\n",
    "    # return the optimizer\n",
    "    return model\n",
    "end"
   ]
  },
  {
   "cell_type": "code",
   "execution_count": 56,
   "metadata": {},
   "outputs": [
    {
     "name": "stdout",
     "output_type": "stream",
     "text": [
      "Set parameter Username\n",
      "Academic license - for non-commercial use only - expires 2023-08-18\n"
     ]
    },
    {
     "ename": "LoadError",
     "evalue": "Result index of attribute MathOptInterface.VariablePrimal(1) out of bounds. There are currently 0 solution(s) in the model.",
     "output_type": "error",
     "traceback": [
      "Result index of attribute MathOptInterface.VariablePrimal(1) out of bounds. There are currently 0 solution(s) in the model.",
      "",
      "Stacktrace:",
      "  [1] check_result_index_bounds",
      "    @ /Users/iai/builds/e7x1Q22r/0/InterpretableAI/SystemImage/SysImgBuilder/.julia/packages/MathOptInterface/Ohzb2/src/attributes.jl:207 [inlined]",
      "  [2] get(model::Gurobi.Optimizer, attr::MathOptInterface.VariablePrimal, x::MathOptInterface.VariableIndex)",
      "    @ Gurobi ~/.julia/packages/Gurobi/VPomg/src/MOI_wrapper/MOI_wrapper.jl:2846",
      "  [3] get(b::MathOptInterface.Bridges.LazyBridgeOptimizer{Gurobi.Optimizer}, attr::MathOptInterface.VariablePrimal, index::MathOptInterface.VariableIndex)",
      "    @ MathOptInterface.Bridges /Users/iai/builds/e7x1Q22r/0/InterpretableAI/SystemImage/SysImgBuilder/.julia/packages/MathOptInterface/Ohzb2/src/Bridges/bridge_optimizer.jl:1116",
      "  [4] get(model::MathOptInterface.Utilities.CachingOptimizer{MathOptInterface.Bridges.LazyBridgeOptimizer{Gurobi.Optimizer}, MathOptInterface.Utilities.UniversalFallback{MathOptInterface.Utilities.Model{Float64}}}, attr::MathOptInterface.VariablePrimal, index::MathOptInterface.VariableIndex)",
      "    @ MathOptInterface.Utilities /Users/iai/builds/e7x1Q22r/0/InterpretableAI/SystemImage/SysImgBuilder/.julia/packages/MathOptInterface/Ohzb2/src/Utilities/cachingoptimizer.jl:911",
      "  [5] _moi_get_result(::MathOptInterface.Utilities.CachingOptimizer{MathOptInterface.Bridges.LazyBridgeOptimizer{Gurobi.Optimizer}, MathOptInterface.Utilities.UniversalFallback{MathOptInterface.Utilities.Model{Float64}}}, ::MathOptInterface.VariablePrimal, ::Vararg{Any})",
      "    @ JuMP /Users/iai/builds/e7x1Q22r/0/InterpretableAI/SystemImage/SysImgBuilder/.julia/packages/JuMP/gVq7V/src/JuMP.jl:1155",
      "  [6] get(model::Model, attr::MathOptInterface.VariablePrimal, v::VariableRef)",
      "    @ JuMP /Users/iai/builds/e7x1Q22r/0/InterpretableAI/SystemImage/SysImgBuilder/.julia/packages/JuMP/gVq7V/src/JuMP.jl:1212",
      "  [7] value(v::VariableRef; result::Int64)",
      "    @ JuMP /Users/iai/builds/e7x1Q22r/0/InterpretableAI/SystemImage/SysImgBuilder/.julia/packages/JuMP/gVq7V/src/variables.jl:1032",
      "  [8] value",
      "    @ /Users/iai/builds/e7x1Q22r/0/InterpretableAI/SystemImage/SysImgBuilder/.julia/packages/JuMP/gVq7V/src/variables.jl:1031 [inlined]",
      "  [9] _broadcast_getindex_evalf",
      "    @ ./broadcast.jl:670 [inlined]",
      " [10] _broadcast_getindex",
      "    @ ./broadcast.jl:643 [inlined]",
      " [11] getindex",
      "    @ ./broadcast.jl:597 [inlined]",
      " [12] macro expansion",
      "    @ ./broadcast.jl:961 [inlined]",
      " [13] macro expansion",
      "    @ ./simdloop.jl:77 [inlined]",
      " [14] copyto!",
      "    @ ./broadcast.jl:960 [inlined]",
      " [15] copyto!",
      "    @ ./broadcast.jl:913 [inlined]",
      " [16] copy",
      "    @ ./broadcast.jl:885 [inlined]",
      " [17] materialize(bc::Base.Broadcast.Broadcasted{Base.Broadcast.DefaultArrayStyle{2}, Nothing, typeof(value), Tuple{Matrix{VariableRef}}})",
      "    @ Base.Broadcast ./broadcast.jl:860",
      " [18] top-level scope",
      "    @ In[56]:4",
      " [19] eval",
      "    @ ./boot.jl:368 [inlined]",
      " [20] include_string(mapexpr::typeof(REPL.softscope), mod::Module, code::String, filename::String)",
      "    @ Base ./loading.jl:1428"
     ]
    }
   ],
   "source": [
    "model_2 = crisis_optimizer(df_crisis, 0.1);\n",
    "\n",
    "# get the optimal values\n",
    "x_opt = value.(model_2[:x])\n",
    "y_opt = value.(model_2[:y])\n",
    "z_opt = value.(model_2[:z])\n",
    "\n",
    "# convert the optimal values to a dataframe\n",
    "df_crisis_opt = convert_to_df(x_opt, y_opt, z_opt, df_crisis)\n",
    "\n",
    "\n",
    "# compute the cost\n",
    "println(\"Lambda Baseline cost: \", lambda_baseline_cost(x_opt, y_opt, z_opt, df_crisis))\n",
    "println(\"Real baseline cost: \", real_baseline_cost(x_opt, y_opt, z_opt, df_crisis));"
   ]
  },
  {
   "cell_type": "code",
   "execution_count": 52,
   "metadata": {},
   "outputs": [
    {
     "data": {
      "text/html": [
       "<div><div style = \"float: left;\"><span>17568×19 DataFrame</span></div><div style = \"float: right;\"><span style = \"font-style: italic;\">17543 rows omitted</span></div><div style = \"clear: both;\"></div></div><div class = \"data-frame\" style = \"overflow-x: scroll;\"><table class = \"data-frame\" style = \"margin-bottom: 6px;\"><thead><tr class = \"header\"><th class = \"rowNumber\" style = \"font-weight: bold; text-align: right;\">Row</th><th style = \"text-align: left;\">Time</th><th style = \"text-align: left;\">Hydraulic</th><th style = \"text-align: left;\">Bioenergy</th><th style = \"text-align: left;\">Wind</th><th style = \"text-align: left;\">Solar</th><th style = \"text-align: left;\">Nuclear</th><th style = \"text-align: left;\">Gas</th><th style = \"text-align: left;\">Coal</th><th style = \"text-align: left;\">Fuel</th><th style = \"text-align: left;\">England_import</th><th style = \"text-align: left;\">Spain_import</th><th style = \"text-align: left;\">Italy_import</th><th style = \"text-align: left;\">Switzerland_import</th><th style = \"text-align: left;\">Germany_Belgium_import</th><th style = \"text-align: left;\">England_export</th><th style = \"text-align: left;\">Spain_export</th><th style = \"text-align: left;\">Italy_export</th><th style = \"text-align: left;\">Switzerland_export</th><th style = \"text-align: left;\">Germany_Belgium_export</th></tr><tr class = \"subheader headerLastRow\"><th class = \"rowNumber\" style = \"font-weight: bold; text-align: right;\"></th><th title = \"Time\" style = \"text-align: left;\">Time</th><th title = \"Float64\" style = \"text-align: left;\">Float64</th><th title = \"Float64\" style = \"text-align: left;\">Float64</th><th title = \"Float64\" style = \"text-align: left;\">Float64</th><th title = \"Float64\" style = \"text-align: left;\">Float64</th><th title = \"Float64\" style = \"text-align: left;\">Float64</th><th title = \"Float64\" style = \"text-align: left;\">Float64</th><th title = \"Float64\" style = \"text-align: left;\">Float64</th><th title = \"Float64\" style = \"text-align: left;\">Float64</th><th title = \"Float64\" style = \"text-align: left;\">Float64</th><th title = \"Float64\" style = \"text-align: left;\">Float64</th><th title = \"Float64\" style = \"text-align: left;\">Float64</th><th title = \"Float64\" style = \"text-align: left;\">Float64</th><th title = \"Float64\" style = \"text-align: left;\">Float64</th><th title = \"Float64\" style = \"text-align: left;\">Float64</th><th title = \"Float64\" style = \"text-align: left;\">Float64</th><th title = \"Float64\" style = \"text-align: left;\">Float64</th><th title = \"Float64\" style = \"text-align: left;\">Float64</th><th title = \"Float64\" style = \"text-align: left;\">Float64</th></tr></thead><tbody><tr><td class = \"rowNumber\" style = \"font-weight: bold; text-align: right;\">1</td><td style = \"text-align: left;\">00:00:00</td><td style = \"text-align: right;\">2.54996e5</td><td style = \"text-align: right;\">0.0</td><td style = \"text-align: right;\">0.0</td><td style = \"text-align: right;\">0.0</td><td style = \"text-align: right;\">0.0</td><td style = \"text-align: right;\">0.0</td><td style = \"text-align: right;\">0.0</td><td style = \"text-align: right;\">0.0</td><td style = \"text-align: right;\">0.0</td><td style = \"text-align: right;\">0.0</td><td style = \"text-align: right;\">0.0</td><td style = \"text-align: right;\">0.0</td><td style = \"text-align: right;\">0.0</td><td style = \"text-align: right;\">53982.7</td><td style = \"text-align: right;\">223.74</td><td style = \"text-align: right;\">61902.7</td><td style = \"text-align: right;\">71818.6</td><td style = \"text-align: right;\">0.0</td></tr><tr><td class = \"rowNumber\" style = \"font-weight: bold; text-align: right;\">2</td><td style = \"text-align: left;\">00:30:00</td><td style = \"text-align: right;\">2.54031e5</td><td style = \"text-align: right;\">0.0</td><td style = \"text-align: right;\">0.0</td><td style = \"text-align: right;\">0.0</td><td style = \"text-align: right;\">0.0</td><td style = \"text-align: right;\">0.0</td><td style = \"text-align: right;\">0.0</td><td style = \"text-align: right;\">0.0</td><td style = \"text-align: right;\">0.0</td><td style = \"text-align: right;\">0.0</td><td style = \"text-align: right;\">0.0</td><td style = \"text-align: right;\">0.0</td><td style = \"text-align: right;\">0.0</td><td style = \"text-align: right;\">53982.7</td><td style = \"text-align: right;\">223.74</td><td style = \"text-align: right;\">61902.7</td><td style = \"text-align: right;\">71818.6</td><td style = \"text-align: right;\">0.0</td></tr><tr><td class = \"rowNumber\" style = \"font-weight: bold; text-align: right;\">3</td><td style = \"text-align: left;\">01:00:00</td><td style = \"text-align: right;\">2.57128e5</td><td style = \"text-align: right;\">0.0</td><td style = \"text-align: right;\">0.0</td><td style = \"text-align: right;\">0.0</td><td style = \"text-align: right;\">0.0</td><td style = \"text-align: right;\">0.0</td><td style = \"text-align: right;\">0.0</td><td style = \"text-align: right;\">0.0</td><td style = \"text-align: right;\">0.0</td><td style = \"text-align: right;\">0.0</td><td style = \"text-align: right;\">0.0</td><td style = \"text-align: right;\">0.0</td><td style = \"text-align: right;\">0.0</td><td style = \"text-align: right;\">53982.7</td><td style = \"text-align: right;\">0.0</td><td style = \"text-align: right;\">59146.6</td><td style = \"text-align: right;\">80055.4</td><td style = \"text-align: right;\">0.0</td></tr><tr><td class = \"rowNumber\" style = \"font-weight: bold; text-align: right;\">4</td><td style = \"text-align: left;\">01:30:00</td><td style = \"text-align: right;\">2.57089e5</td><td style = \"text-align: right;\">0.0</td><td style = \"text-align: right;\">0.0</td><td style = \"text-align: right;\">0.0</td><td style = \"text-align: right;\">0.0</td><td style = \"text-align: right;\">0.0</td><td style = \"text-align: right;\">0.0</td><td style = \"text-align: right;\">0.0</td><td style = \"text-align: right;\">0.0</td><td style = \"text-align: right;\">0.0</td><td style = \"text-align: right;\">0.0</td><td style = \"text-align: right;\">0.0</td><td style = \"text-align: right;\">0.0</td><td style = \"text-align: right;\">53982.7</td><td style = \"text-align: right;\">0.0</td><td style = \"text-align: right;\">59146.6</td><td style = \"text-align: right;\">80055.4</td><td style = \"text-align: right;\">0.0</td></tr><tr><td class = \"rowNumber\" style = \"font-weight: bold; text-align: right;\">5</td><td style = \"text-align: left;\">02:00:00</td><td style = \"text-align: right;\">242305.0</td><td style = \"text-align: right;\">0.0</td><td style = \"text-align: right;\">0.0</td><td style = \"text-align: right;\">0.0</td><td style = \"text-align: right;\">0.0</td><td style = \"text-align: right;\">0.0</td><td style = \"text-align: right;\">0.0</td><td style = \"text-align: right;\">0.0</td><td style = \"text-align: right;\">0.0</td><td style = \"text-align: right;\">0.0</td><td style = \"text-align: right;\">0.0</td><td style = \"text-align: right;\">0.0</td><td style = \"text-align: right;\">0.0</td><td style = \"text-align: right;\">53982.7</td><td style = \"text-align: right;\">0.0</td><td style = \"text-align: right;\">46886.4</td><td style = \"text-align: right;\">78027.8</td><td style = \"text-align: right;\">0.0</td></tr><tr><td class = \"rowNumber\" style = \"font-weight: bold; text-align: right;\">6</td><td style = \"text-align: left;\">02:30:00</td><td style = \"text-align: right;\">241608.0</td><td style = \"text-align: right;\">0.0</td><td style = \"text-align: right;\">0.0</td><td style = \"text-align: right;\">0.0</td><td style = \"text-align: right;\">0.0</td><td style = \"text-align: right;\">0.0</td><td style = \"text-align: right;\">0.0</td><td style = \"text-align: right;\">0.0</td><td style = \"text-align: right;\">0.0</td><td style = \"text-align: right;\">0.0</td><td style = \"text-align: right;\">0.0</td><td style = \"text-align: right;\">0.0</td><td style = \"text-align: right;\">0.0</td><td style = \"text-align: right;\">53982.7</td><td style = \"text-align: right;\">0.0</td><td style = \"text-align: right;\">46886.4</td><td style = \"text-align: right;\">78027.8</td><td style = \"text-align: right;\">0.0</td></tr><tr><td class = \"rowNumber\" style = \"font-weight: bold; text-align: right;\">7</td><td style = \"text-align: left;\">03:00:00</td><td style = \"text-align: right;\">2.33608e5</td><td style = \"text-align: right;\">0.0</td><td style = \"text-align: right;\">0.0</td><td style = \"text-align: right;\">0.0</td><td style = \"text-align: right;\">0.0</td><td style = \"text-align: right;\">0.0</td><td style = \"text-align: right;\">0.0</td><td style = \"text-align: right;\">0.0</td><td style = \"text-align: right;\">0.0</td><td style = \"text-align: right;\">0.0</td><td style = \"text-align: right;\">0.0</td><td style = \"text-align: right;\">0.0</td><td style = \"text-align: right;\">0.0</td><td style = \"text-align: right;\">53982.7</td><td style = \"text-align: right;\">0.0</td><td style = \"text-align: right;\">44352.0</td><td style = \"text-align: right;\">74448.0</td><td style = \"text-align: right;\">0.0</td></tr><tr><td class = \"rowNumber\" style = \"font-weight: bold; text-align: right;\">8</td><td style = \"text-align: left;\">03:30:00</td><td style = \"text-align: right;\">2.32115e5</td><td style = \"text-align: right;\">0.0</td><td style = \"text-align: right;\">0.0</td><td style = \"text-align: right;\">0.0</td><td style = \"text-align: right;\">0.0</td><td style = \"text-align: right;\">0.0</td><td style = \"text-align: right;\">0.0</td><td style = \"text-align: right;\">0.0</td><td style = \"text-align: right;\">0.0</td><td style = \"text-align: right;\">0.0</td><td style = \"text-align: right;\">0.0</td><td style = \"text-align: right;\">0.0</td><td style = \"text-align: right;\">0.0</td><td style = \"text-align: right;\">53982.7</td><td style = \"text-align: right;\">0.0</td><td style = \"text-align: right;\">44352.0</td><td style = \"text-align: right;\">74448.0</td><td style = \"text-align: right;\">0.0</td></tr><tr><td class = \"rowNumber\" style = \"font-weight: bold; text-align: right;\">9</td><td style = \"text-align: left;\">04:00:00</td><td style = \"text-align: right;\">218780.0</td><td style = \"text-align: right;\">0.0</td><td style = \"text-align: right;\">0.0</td><td style = \"text-align: right;\">0.0</td><td style = \"text-align: right;\">0.0</td><td style = \"text-align: right;\">0.0</td><td style = \"text-align: right;\">0.0</td><td style = \"text-align: right;\">0.0</td><td style = \"text-align: right;\">0.0</td><td style = \"text-align: right;\">0.0</td><td style = \"text-align: right;\">0.0</td><td style = \"text-align: right;\">0.0</td><td style = \"text-align: right;\">0.0</td><td style = \"text-align: right;\">53982.7</td><td style = \"text-align: right;\">0.0</td><td style = \"text-align: right;\">30697.9</td><td style = \"text-align: right;\">76095.4</td><td style = \"text-align: right;\">0.0</td></tr><tr><td class = \"rowNumber\" style = \"font-weight: bold; text-align: right;\">10</td><td style = \"text-align: left;\">04:30:00</td><td style = \"text-align: right;\">217901.0</td><td style = \"text-align: right;\">0.0</td><td style = \"text-align: right;\">0.0</td><td style = \"text-align: right;\">0.0</td><td style = \"text-align: right;\">0.0</td><td style = \"text-align: right;\">0.0</td><td style = \"text-align: right;\">0.0</td><td style = \"text-align: right;\">0.0</td><td style = \"text-align: right;\">0.0</td><td style = \"text-align: right;\">0.0</td><td style = \"text-align: right;\">0.0</td><td style = \"text-align: right;\">0.0</td><td style = \"text-align: right;\">0.0</td><td style = \"text-align: right;\">53982.7</td><td style = \"text-align: right;\">0.0</td><td style = \"text-align: right;\">30697.9</td><td style = \"text-align: right;\">76095.4</td><td style = \"text-align: right;\">0.0</td></tr><tr><td class = \"rowNumber\" style = \"font-weight: bold; text-align: right;\">11</td><td style = \"text-align: left;\">05:00:00</td><td style = \"text-align: right;\">2.24526e5</td><td style = \"text-align: right;\">0.0</td><td style = \"text-align: right;\">0.0</td><td style = \"text-align: right;\">0.0</td><td style = \"text-align: right;\">0.0</td><td style = \"text-align: right;\">0.0</td><td style = \"text-align: right;\">0.0</td><td style = \"text-align: right;\">0.0</td><td style = \"text-align: right;\">0.0</td><td style = \"text-align: right;\">0.0</td><td style = \"text-align: right;\">0.0</td><td style = \"text-align: right;\">0.0</td><td style = \"text-align: right;\">0.0</td><td style = \"text-align: right;\">53982.7</td><td style = \"text-align: right;\">0.0</td><td style = \"text-align: right;\">33549.1</td><td style = \"text-align: right;\">80562.2</td><td style = \"text-align: right;\">0.0</td></tr><tr><td class = \"rowNumber\" style = \"font-weight: bold; text-align: right;\">12</td><td style = \"text-align: left;\">05:30:00</td><td style = \"text-align: right;\">2.24801e5</td><td style = \"text-align: right;\">0.0</td><td style = \"text-align: right;\">0.0</td><td style = \"text-align: right;\">0.0</td><td style = \"text-align: right;\">0.0</td><td style = \"text-align: right;\">0.0</td><td style = \"text-align: right;\">0.0</td><td style = \"text-align: right;\">0.0</td><td style = \"text-align: right;\">0.0</td><td style = \"text-align: right;\">0.0</td><td style = \"text-align: right;\">0.0</td><td style = \"text-align: right;\">0.0</td><td style = \"text-align: right;\">0.0</td><td style = \"text-align: right;\">53982.7</td><td style = \"text-align: right;\">0.0</td><td style = \"text-align: right;\">33549.1</td><td style = \"text-align: right;\">80562.2</td><td style = \"text-align: right;\">0.0</td></tr><tr><td class = \"rowNumber\" style = \"font-weight: bold; text-align: right;\">13</td><td style = \"text-align: left;\">06:00:00</td><td style = \"text-align: right;\">2.22743e5</td><td style = \"text-align: right;\">0.0</td><td style = \"text-align: right;\">0.0</td><td style = \"text-align: right;\">0.0</td><td style = \"text-align: right;\">0.0</td><td style = \"text-align: right;\">0.0</td><td style = \"text-align: right;\">0.0</td><td style = \"text-align: right;\">0.0</td><td style = \"text-align: right;\">0.0</td><td style = \"text-align: right;\">0.0</td><td style = \"text-align: right;\">0.0</td><td style = \"text-align: right;\">0.0</td><td style = \"text-align: right;\">0.0</td><td style = \"text-align: right;\">53824.3</td><td style = \"text-align: right;\">0.0</td><td style = \"text-align: right;\">35038.1</td><td style = \"text-align: right;\">77425.9</td><td style = \"text-align: right;\">0.0</td></tr><tr><td style = \"text-align: right;\">&vellip;</td><td style = \"text-align: right;\">&vellip;</td><td style = \"text-align: right;\">&vellip;</td><td style = \"text-align: right;\">&vellip;</td><td style = \"text-align: right;\">&vellip;</td><td style = \"text-align: right;\">&vellip;</td><td style = \"text-align: right;\">&vellip;</td><td style = \"text-align: right;\">&vellip;</td><td style = \"text-align: right;\">&vellip;</td><td style = \"text-align: right;\">&vellip;</td><td style = \"text-align: right;\">&vellip;</td><td style = \"text-align: right;\">&vellip;</td><td style = \"text-align: right;\">&vellip;</td><td style = \"text-align: right;\">&vellip;</td><td style = \"text-align: right;\">&vellip;</td><td style = \"text-align: right;\">&vellip;</td><td style = \"text-align: right;\">&vellip;</td><td style = \"text-align: right;\">&vellip;</td><td style = \"text-align: right;\">&vellip;</td><td style = \"text-align: right;\">&vellip;</td></tr><tr><td class = \"rowNumber\" style = \"font-weight: bold; text-align: right;\">17557</td><td style = \"text-align: left;\">18:00:00</td><td style = \"text-align: right;\">2.07652e5</td><td style = \"text-align: right;\">0.0</td><td style = \"text-align: right;\">0.0</td><td style = \"text-align: right;\">0.0</td><td style = \"text-align: right;\">0.0</td><td style = \"text-align: right;\">0.0</td><td style = \"text-align: right;\">0.0</td><td style = \"text-align: right;\">0.0</td><td style = \"text-align: right;\">0.0</td><td style = \"text-align: right;\">0.0</td><td style = \"text-align: right;\">0.0</td><td style = \"text-align: right;\">0.0</td><td style = \"text-align: right;\">0.0</td><td style = \"text-align: right;\">63360.0</td><td style = \"text-align: right;\">0.0</td><td style = \"text-align: right;\">35640.0</td><td style = \"text-align: right;\">39124.8</td><td style = \"text-align: right;\">0.0</td></tr><tr><td class = \"rowNumber\" style = \"font-weight: bold; text-align: right;\">17558</td><td style = \"text-align: left;\">18:30:00</td><td style = \"text-align: right;\">2.0811e5</td><td style = \"text-align: right;\">0.0</td><td style = \"text-align: right;\">0.0</td><td style = \"text-align: right;\">0.0</td><td style = \"text-align: right;\">0.0</td><td style = \"text-align: right;\">0.0</td><td style = \"text-align: right;\">0.0</td><td style = \"text-align: right;\">0.0</td><td style = \"text-align: right;\">0.0</td><td style = \"text-align: right;\">0.0</td><td style = \"text-align: right;\">0.0</td><td style = \"text-align: right;\">0.0</td><td style = \"text-align: right;\">0.0</td><td style = \"text-align: right;\">63360.0</td><td style = \"text-align: right;\">0.0</td><td style = \"text-align: right;\">35640.0</td><td style = \"text-align: right;\">39124.8</td><td style = \"text-align: right;\">0.0</td></tr><tr><td class = \"rowNumber\" style = \"font-weight: bold; text-align: right;\">17559</td><td style = \"text-align: left;\">19:00:00</td><td style = \"text-align: right;\">2.09374e5</td><td style = \"text-align: right;\">0.0</td><td style = \"text-align: right;\">0.0</td><td style = \"text-align: right;\">0.0</td><td style = \"text-align: right;\">0.0</td><td style = \"text-align: right;\">0.0</td><td style = \"text-align: right;\">0.0</td><td style = \"text-align: right;\">0.0</td><td style = \"text-align: right;\">0.0</td><td style = \"text-align: right;\">0.0</td><td style = \"text-align: right;\">0.0</td><td style = \"text-align: right;\">0.0</td><td style = \"text-align: right;\">0.0</td><td style = \"text-align: right;\">63360.0</td><td style = \"text-align: right;\">0.0</td><td style = \"text-align: right;\">42831.4</td><td style = \"text-align: right;\">32788.8</td><td style = \"text-align: right;\">0.0</td></tr><tr><td class = \"rowNumber\" style = \"font-weight: bold; text-align: right;\">17560</td><td style = \"text-align: left;\">19:30:00</td><td style = \"text-align: right;\">2.08899e5</td><td style = \"text-align: right;\">0.0</td><td style = \"text-align: right;\">0.0</td><td style = \"text-align: right;\">0.0</td><td style = \"text-align: right;\">0.0</td><td style = \"text-align: right;\">0.0</td><td style = \"text-align: right;\">0.0</td><td style = \"text-align: right;\">0.0</td><td style = \"text-align: right;\">0.0</td><td style = \"text-align: right;\">0.0</td><td style = \"text-align: right;\">0.0</td><td style = \"text-align: right;\">0.0</td><td style = \"text-align: right;\">0.0</td><td style = \"text-align: right;\">63360.0</td><td style = \"text-align: right;\">0.0</td><td style = \"text-align: right;\">42831.4</td><td style = \"text-align: right;\">32788.8</td><td style = \"text-align: right;\">0.0</td></tr><tr><td class = \"rowNumber\" style = \"font-weight: bold; text-align: right;\">17561</td><td style = \"text-align: left;\">20:00:00</td><td style = \"text-align: right;\">263064.0</td><td style = \"text-align: right;\">0.0</td><td style = \"text-align: right;\">0.0</td><td style = \"text-align: right;\">0.0</td><td style = \"text-align: right;\">0.0</td><td style = \"text-align: right;\">0.0</td><td style = \"text-align: right;\">0.0</td><td style = \"text-align: right;\">0.0</td><td style = \"text-align: right;\">0.0</td><td style = \"text-align: right;\">0.0</td><td style = \"text-align: right;\">0.0</td><td style = \"text-align: right;\">0.0</td><td style = \"text-align: right;\">0.0</td><td style = \"text-align: right;\">63360.0</td><td style = \"text-align: right;\">697.95</td><td style = \"text-align: right;\">82716.5</td><td style = \"text-align: right;\">47361.6</td><td style = \"text-align: right;\">0.0</td></tr><tr><td class = \"rowNumber\" style = \"font-weight: bold; text-align: right;\">17562</td><td style = \"text-align: left;\">20:30:00</td><td style = \"text-align: right;\">261448.0</td><td style = \"text-align: right;\">0.0</td><td style = \"text-align: right;\">0.0</td><td style = \"text-align: right;\">0.0</td><td style = \"text-align: right;\">0.0</td><td style = \"text-align: right;\">0.0</td><td style = \"text-align: right;\">0.0</td><td style = \"text-align: right;\">0.0</td><td style = \"text-align: right;\">0.0</td><td style = \"text-align: right;\">0.0</td><td style = \"text-align: right;\">0.0</td><td style = \"text-align: right;\">0.0</td><td style = \"text-align: right;\">0.0</td><td style = \"text-align: right;\">63360.0</td><td style = \"text-align: right;\">697.95</td><td style = \"text-align: right;\">82716.5</td><td style = \"text-align: right;\">47361.6</td><td style = \"text-align: right;\">0.0</td></tr><tr><td class = \"rowNumber\" style = \"font-weight: bold; text-align: right;\">17563</td><td style = \"text-align: left;\">21:00:00</td><td style = \"text-align: right;\">2.53346e5</td><td style = \"text-align: right;\">0.0</td><td style = \"text-align: right;\">0.0</td><td style = \"text-align: right;\">0.0</td><td style = \"text-align: right;\">0.0</td><td style = \"text-align: right;\">0.0</td><td style = \"text-align: right;\">0.0</td><td style = \"text-align: right;\">0.0</td><td style = \"text-align: right;\">0.0</td><td style = \"text-align: right;\">0.0</td><td style = \"text-align: right;\">0.0</td><td style = \"text-align: right;\">0.0</td><td style = \"text-align: right;\">0.0</td><td style = \"text-align: right;\">63360.0</td><td style = \"text-align: right;\">1205.82</td><td style = \"text-align: right;\">74353.0</td><td style = \"text-align: right;\">48818.9</td><td style = \"text-align: right;\">0.0</td></tr><tr><td class = \"rowNumber\" style = \"font-weight: bold; text-align: right;\">17564</td><td style = \"text-align: left;\">21:30:00</td><td style = \"text-align: right;\">2.52161e5</td><td style = \"text-align: right;\">0.0</td><td style = \"text-align: right;\">0.0</td><td style = \"text-align: right;\">0.0</td><td style = \"text-align: right;\">0.0</td><td style = \"text-align: right;\">0.0</td><td style = \"text-align: right;\">0.0</td><td style = \"text-align: right;\">0.0</td><td style = \"text-align: right;\">0.0</td><td style = \"text-align: right;\">0.0</td><td style = \"text-align: right;\">0.0</td><td style = \"text-align: right;\">0.0</td><td style = \"text-align: right;\">0.0</td><td style = \"text-align: right;\">63360.0</td><td style = \"text-align: right;\">1205.82</td><td style = \"text-align: right;\">74353.0</td><td style = \"text-align: right;\">48818.9</td><td style = \"text-align: right;\">0.0</td></tr><tr><td class = \"rowNumber\" style = \"font-weight: bold; text-align: right;\">17565</td><td style = \"text-align: left;\">22:00:00</td><td style = \"text-align: right;\">2.29793e5</td><td style = \"text-align: right;\">0.0</td><td style = \"text-align: right;\">0.0</td><td style = \"text-align: right;\">0.0</td><td style = \"text-align: right;\">0.0</td><td style = \"text-align: right;\">0.0</td><td style = \"text-align: right;\">0.0</td><td style = \"text-align: right;\">0.0</td><td style = \"text-align: right;\">0.0</td><td style = \"text-align: right;\">0.0</td><td style = \"text-align: right;\">0.0</td><td style = \"text-align: right;\">0.0</td><td style = \"text-align: right;\">0.0</td><td style = \"text-align: right;\">63360.0</td><td style = \"text-align: right;\">0.0</td><td style = \"text-align: right;\">36400.3</td><td style = \"text-align: right;\">66528.0</td><td style = \"text-align: right;\">0.0</td></tr><tr><td class = \"rowNumber\" style = \"font-weight: bold; text-align: right;\">17566</td><td style = \"text-align: left;\">22:30:00</td><td style = \"text-align: right;\">2.30619e5</td><td style = \"text-align: right;\">0.0</td><td style = \"text-align: right;\">0.0</td><td style = \"text-align: right;\">0.0</td><td style = \"text-align: right;\">0.0</td><td style = \"text-align: right;\">0.0</td><td style = \"text-align: right;\">0.0</td><td style = \"text-align: right;\">0.0</td><td style = \"text-align: right;\">0.0</td><td style = \"text-align: right;\">0.0</td><td style = \"text-align: right;\">0.0</td><td style = \"text-align: right;\">0.0</td><td style = \"text-align: right;\">0.0</td><td style = \"text-align: right;\">63360.0</td><td style = \"text-align: right;\">0.0</td><td style = \"text-align: right;\">36400.3</td><td style = \"text-align: right;\">66528.0</td><td style = \"text-align: right;\">0.0</td></tr><tr><td class = \"rowNumber\" style = \"font-weight: bold; text-align: right;\">17567</td><td style = \"text-align: left;\">23:00:00</td><td style = \"text-align: right;\">2.07576e5</td><td style = \"text-align: right;\">0.0</td><td style = \"text-align: right;\">0.0</td><td style = \"text-align: right;\">0.0</td><td style = \"text-align: right;\">0.0</td><td style = \"text-align: right;\">0.0</td><td style = \"text-align: right;\">0.0</td><td style = \"text-align: right;\">0.0</td><td style = \"text-align: right;\">0.0</td><td style = \"text-align: right;\">0.0</td><td style = \"text-align: right;\">0.0</td><td style = \"text-align: right;\">0.0</td><td style = \"text-align: right;\">0.0</td><td style = \"text-align: right;\">63360.0</td><td style = \"text-align: right;\">0.0</td><td style = \"text-align: right;\">21193.9</td><td style = \"text-align: right;\">56168.6</td><td style = \"text-align: right;\">0.0</td></tr><tr><td class = \"rowNumber\" style = \"font-weight: bold; text-align: right;\">17568</td><td style = \"text-align: left;\">23:30:00</td><td style = \"text-align: right;\">2.07473e5</td><td style = \"text-align: right;\">0.0</td><td style = \"text-align: right;\">0.0</td><td style = \"text-align: right;\">0.0</td><td style = \"text-align: right;\">0.0</td><td style = \"text-align: right;\">0.0</td><td style = \"text-align: right;\">0.0</td><td style = \"text-align: right;\">0.0</td><td style = \"text-align: right;\">0.0</td><td style = \"text-align: right;\">0.0</td><td style = \"text-align: right;\">0.0</td><td style = \"text-align: right;\">0.0</td><td style = \"text-align: right;\">0.0</td><td style = \"text-align: right;\">63360.0</td><td style = \"text-align: right;\">0.0</td><td style = \"text-align: right;\">21193.9</td><td style = \"text-align: right;\">56168.6</td><td style = \"text-align: right;\">0.0</td></tr></tbody></table></div>"
      ],
      "text/latex": [
       "\\begin{tabular}{r|cccccccccc}\n",
       "\t& Time & Hydraulic & Bioenergy & Wind & Solar & Nuclear & Gas & Coal & Fuel & \\\\\n",
       "\t\\hline\n",
       "\t& Time & Float64 & Float64 & Float64 & Float64 & Float64 & Float64 & Float64 & Float64 & \\\\\n",
       "\t\\hline\n",
       "\t1 & 00:00:00 & 2.54996e5 & 0.0 & 0.0 & 0.0 & 0.0 & 0.0 & 0.0 & 0.0 & $\\dots$ \\\\\n",
       "\t2 & 00:30:00 & 2.54031e5 & 0.0 & 0.0 & 0.0 & 0.0 & 0.0 & 0.0 & 0.0 & $\\dots$ \\\\\n",
       "\t3 & 01:00:00 & 2.57128e5 & 0.0 & 0.0 & 0.0 & 0.0 & 0.0 & 0.0 & 0.0 & $\\dots$ \\\\\n",
       "\t4 & 01:30:00 & 2.57089e5 & 0.0 & 0.0 & 0.0 & 0.0 & 0.0 & 0.0 & 0.0 & $\\dots$ \\\\\n",
       "\t5 & 02:00:00 & 242305.0 & 0.0 & 0.0 & 0.0 & 0.0 & 0.0 & 0.0 & 0.0 & $\\dots$ \\\\\n",
       "\t6 & 02:30:00 & 241608.0 & 0.0 & 0.0 & 0.0 & 0.0 & 0.0 & 0.0 & 0.0 & $\\dots$ \\\\\n",
       "\t7 & 03:00:00 & 2.33608e5 & 0.0 & 0.0 & 0.0 & 0.0 & 0.0 & 0.0 & 0.0 & $\\dots$ \\\\\n",
       "\t8 & 03:30:00 & 2.32115e5 & 0.0 & 0.0 & 0.0 & 0.0 & 0.0 & 0.0 & 0.0 & $\\dots$ \\\\\n",
       "\t9 & 04:00:00 & 218780.0 & 0.0 & 0.0 & 0.0 & 0.0 & 0.0 & 0.0 & 0.0 & $\\dots$ \\\\\n",
       "\t10 & 04:30:00 & 217901.0 & 0.0 & 0.0 & 0.0 & 0.0 & 0.0 & 0.0 & 0.0 & $\\dots$ \\\\\n",
       "\t11 & 05:00:00 & 2.24526e5 & 0.0 & 0.0 & 0.0 & 0.0 & 0.0 & 0.0 & 0.0 & $\\dots$ \\\\\n",
       "\t12 & 05:30:00 & 2.24801e5 & 0.0 & 0.0 & 0.0 & 0.0 & 0.0 & 0.0 & 0.0 & $\\dots$ \\\\\n",
       "\t13 & 06:00:00 & 2.22743e5 & 0.0 & 0.0 & 0.0 & 0.0 & 0.0 & 0.0 & 0.0 & $\\dots$ \\\\\n",
       "\t14 & 06:30:00 & 2.23182e5 & 0.0 & 0.0 & 0.0 & 0.0 & 0.0 & 0.0 & 0.0 & $\\dots$ \\\\\n",
       "\t15 & 07:00:00 & 2.24214e5 & 0.0 & 0.0 & 0.0 & 0.0 & 0.0 & 0.0 & 0.0 & $\\dots$ \\\\\n",
       "\t16 & 07:30:00 & 2.24307e5 & 0.0 & 0.0 & 0.0 & 0.0 & 0.0 & 0.0 & 0.0 & $\\dots$ \\\\\n",
       "\t17 & 08:00:00 & 2.08397e5 & 0.0 & 0.0 & 0.0 & 0.0 & 0.0 & 0.0 & 0.0 & $\\dots$ \\\\\n",
       "\t18 & 08:30:00 & 2.08053e5 & 0.0 & 0.0 & 0.0 & 0.0 & 0.0 & 0.0 & 0.0 & $\\dots$ \\\\\n",
       "\t19 & 09:00:00 & 2.09728e5 & 0.0 & 0.0 & 0.0 & 0.0 & 0.0 & 0.0 & 0.0 & $\\dots$ \\\\\n",
       "\t20 & 09:30:00 & 2.10363e5 & 0.0 & 0.0 & 0.0 & 0.0 & 0.0 & 0.0 & 0.0 & $\\dots$ \\\\\n",
       "\t21 & 10:00:00 & 1.93365e5 & 0.0 & 0.0 & 0.0 & 0.0 & 0.0 & 0.0 & 0.0 & $\\dots$ \\\\\n",
       "\t22 & 10:30:00 & 1.94182e5 & 0.0 & 0.0 & 0.0 & 0.0 & 0.0 & 0.0 & 0.0 & $\\dots$ \\\\\n",
       "\t23 & 11:00:00 & 1.86495e5 & 0.0 & 0.0 & 0.0 & 0.0 & 0.0 & 0.0 & 0.0 & $\\dots$ \\\\\n",
       "\t24 & 11:30:00 & 1.87493e5 & 0.0 & 0.0 & 0.0 & 0.0 & 0.0 & 0.0 & 0.0 & $\\dots$ \\\\\n",
       "\t25 & 12:00:00 & 1.84155e5 & 0.0 & 0.0 & 0.0 & 0.0 & 0.0 & 0.0 & 0.0 & $\\dots$ \\\\\n",
       "\t26 & 12:30:00 & 1.77055e5 & 0.0 & 0.0 & 0.0 & 0.0 & 0.0 & 0.0 & 0.0 & $\\dots$ \\\\\n",
       "\t27 & 13:00:00 & 1.87579e5 & 0.0 & 0.0 & 0.0 & 0.0 & 0.0 & 0.0 & 0.0 & $\\dots$ \\\\\n",
       "\t28 & 13:30:00 & 1.81682e5 & 0.0 & 0.0 & 0.0 & 0.0 & 0.0 & 0.0 & 0.0 & $\\dots$ \\\\\n",
       "\t29 & 14:00:00 & 1.7563e5 & 0.0 & 0.0 & 0.0 & 0.0 & 0.0 & 0.0 & 0.0 & $\\dots$ \\\\\n",
       "\t30 & 14:30:00 & 1.74569e5 & 0.0 & 0.0 & 0.0 & 0.0 & 0.0 & 0.0 & 0.0 & $\\dots$ \\\\\n",
       "\t$\\dots$ & $\\dots$ & $\\dots$ & $\\dots$ & $\\dots$ & $\\dots$ & $\\dots$ & $\\dots$ & $\\dots$ & $\\dots$ &  \\\\\n",
       "\\end{tabular}\n"
      ],
      "text/plain": [
       "\u001b[1m17568×19 DataFrame\n",
       "\u001b[1m   Row │\u001b[1m Time     \u001b[1m Hydraulic      \u001b[1m Bioenergy \u001b[1m Wind    \u001b[1m Solar   \u001b[1m Nuclear \u001b[1m Gas   ⋯\n",
       "       │\u001b[90m Time     \u001b[90m Float64        \u001b[90m Float64   \u001b[90m Float64 \u001b[90m Float64 \u001b[90m Float64 \u001b[90m Float ⋯\n",
       "───────┼────────────────────────────────────────────────────────────────────────\n",
       "     1 │ 00:00:00       2.54996e5        0.0      0.0      0.0      0.0      0 ⋯\n",
       "     2 │ 00:30:00       2.54031e5        0.0      0.0      0.0      0.0      0\n",
       "     3 │ 01:00:00       2.57128e5        0.0      0.0      0.0      0.0      0\n",
       "     4 │ 01:30:00       2.57089e5        0.0      0.0      0.0      0.0      0\n",
       "     5 │ 02:00:00  242305.0              0.0      0.0      0.0      0.0      0 ⋯\n",
       "     6 │ 02:30:00  241608.0              0.0      0.0      0.0      0.0      0\n",
       "     7 │ 03:00:00       2.33608e5        0.0      0.0      0.0      0.0      0\n",
       "     8 │ 03:30:00       2.32115e5        0.0      0.0      0.0      0.0      0\n",
       "     9 │ 04:00:00  218780.0              0.0      0.0      0.0      0.0      0 ⋯\n",
       "    10 │ 04:30:00  217901.0              0.0      0.0      0.0      0.0      0\n",
       "    11 │ 05:00:00       2.24526e5        0.0      0.0      0.0      0.0      0\n",
       "   ⋮   │    ⋮            ⋮             ⋮         ⋮        ⋮        ⋮        ⋮  ⋱\n",
       " 17559 │ 19:00:00       2.09374e5        0.0      0.0      0.0      0.0      0\n",
       " 17560 │ 19:30:00       2.08899e5        0.0      0.0      0.0      0.0      0 ⋯\n",
       " 17561 │ 20:00:00  263064.0              0.0      0.0      0.0      0.0      0\n",
       " 17562 │ 20:30:00  261448.0              0.0      0.0      0.0      0.0      0\n",
       " 17563 │ 21:00:00       2.53346e5        0.0      0.0      0.0      0.0      0\n",
       " 17564 │ 21:30:00       2.52161e5        0.0      0.0      0.0      0.0      0 ⋯\n",
       " 17565 │ 22:00:00       2.29793e5        0.0      0.0      0.0      0.0      0\n",
       " 17566 │ 22:30:00       2.30619e5        0.0      0.0      0.0      0.0      0\n",
       " 17567 │ 23:00:00       2.07576e5        0.0      0.0      0.0      0.0      0\n",
       " 17568 │ 23:30:00       2.07473e5        0.0      0.0      0.0      0.0      0 ⋯\n",
       "\u001b[36m                                               13 columns and 17547 rows omitted"
      ]
     },
     "execution_count": 52,
     "metadata": {},
     "output_type": "execute_result"
    }
   ],
   "source": [
    "df_crisis_opt"
   ]
  },
  {
   "cell_type": "markdown",
   "metadata": {},
   "source": [
    "$\\textbf{Feedback}$\n",
    "\n",
    "No need of the $\\lambda$ additional cost: even when $\\alpha = 1$, there are feasible solutions. \n",
    "\n",
    "Next step: boost the export demand (of how much? $10\\%$ ? ... $100\\%$ ?)"
   ]
  },
  {
   "cell_type": "markdown",
   "metadata": {},
   "source": [
    "### Sustainable Energies"
   ]
  },
  {
   "cell_type": "code",
   "execution_count": 22,
   "metadata": {},
   "outputs": [],
   "source": [
    "eco_costs = compute_eco_costs(df)\n",
    "carbon_footprints = compute_carbon_footprints(df)\n",
    "neighbors_footprints = compute_neighbors_footprints(df);"
   ]
  },
  {
   "cell_type": "code",
   "execution_count": 23,
   "metadata": {},
   "outputs": [
    {
     "data": {
      "text/html": [
       "<div><div style = \"float: left;\"><span>5×2 DataFrame</span></div><div style = \"clear: both;\"></div></div><div class = \"data-frame\" style = \"overflow-x: scroll;\"><table class = \"data-frame\" style = \"margin-bottom: 6px;\"><thead><tr class = \"header\"><th class = \"rowNumber\" style = \"font-weight: bold; text-align: right;\">Row</th><th style = \"text-align: left;\">Country</th><th style = \"text-align: left;\">Carbon_footprint</th></tr><tr class = \"subheader headerLastRow\"><th class = \"rowNumber\" style = \"font-weight: bold; text-align: right;\"></th><th title = \"String\" style = \"text-align: left;\">String</th><th title = \"Float64\" style = \"text-align: left;\">Float64</th></tr></thead><tbody><tr><td class = \"rowNumber\" style = \"font-weight: bold; text-align: right;\">1</td><td style = \"text-align: left;\">Switzerland</td><td style = \"text-align: right;\">11.0129</td></tr><tr><td class = \"rowNumber\" style = \"font-weight: bold; text-align: right;\">2</td><td style = \"text-align: left;\">Spain</td><td style = \"text-align: right;\">142.357</td></tr><tr><td class = \"rowNumber\" style = \"font-weight: bold; text-align: right;\">3</td><td style = \"text-align: left;\">England</td><td style = \"text-align: right;\">153.825</td></tr><tr><td class = \"rowNumber\" style = \"font-weight: bold; text-align: right;\">4</td><td style = \"text-align: left;\">Italy</td><td style = \"text-align: right;\">165.708</td></tr><tr><td class = \"rowNumber\" style = \"font-weight: bold; text-align: right;\">5</td><td style = \"text-align: left;\">Germany_Belgium</td><td style = \"text-align: right;\">214.932</td></tr></tbody></table></div>"
      ],
      "text/latex": [
       "\\begin{tabular}{r|cc}\n",
       "\t& Country & Carbon\\_footprint\\\\\n",
       "\t\\hline\n",
       "\t& String & Float64\\\\\n",
       "\t\\hline\n",
       "\t1 & Switzerland & 11.0129 \\\\\n",
       "\t2 & Spain & 142.357 \\\\\n",
       "\t3 & England & 153.825 \\\\\n",
       "\t4 & Italy & 165.708 \\\\\n",
       "\t5 & Germany\\_Belgium & 214.932 \\\\\n",
       "\\end{tabular}\n"
      ],
      "text/plain": [
       "\u001b[1m5×2 DataFrame\n",
       "\u001b[1m Row │\u001b[1m Country         \u001b[1m Carbon_footprint\n",
       "     │\u001b[90m String          \u001b[90m Float64\n",
       "─────┼───────────────────────────────────\n",
       "   1 │ Switzerland               11.0129\n",
       "   2 │ Spain                    142.357\n",
       "   3 │ England                  153.825\n",
       "   4 │ Italy                    165.708\n",
       "   5 │ Germany_Belgium          214.932"
      ]
     },
     "execution_count": 23,
     "metadata": {},
     "output_type": "execute_result"
    }
   ],
   "source": [
    "neighbors_footprints"
   ]
  },
  {
   "cell_type": "code",
   "execution_count": 24,
   "metadata": {},
   "outputs": [
    {
     "data": {
      "text/plain": [
       "6.0"
      ]
     },
     "execution_count": 24,
     "metadata": {},
     "output_type": "execute_result"
    }
   ],
   "source": [
    "carbon_footprints[carbon_footprints[!, :Source] .== \"Nuclear\", :Mean_footprint][1]"
   ]
  },
  {
   "cell_type": "code",
   "execution_count": 25,
   "metadata": {},
   "outputs": [
    {
     "data": {
      "text/plain": [
       "sustainable_df (generic function with 1 method)"
      ]
     },
     "execution_count": 25,
     "metadata": {},
     "output_type": "execute_result"
    }
   ],
   "source": [
    "function sustainable_df(df)\n",
    "    # add carbon_footprint column for each source\n",
    "    df[!, :Hydraulic_footprint] .= carbon_footprints[carbon_footprints[!, :Source] .== \"Hydraulic\", :Mean_footprint][1]\n",
    "    df[!, :Nuclear_footprint] .= carbon_footprints[carbon_footprints[!, :Source] .== \"Nuclear\", :Mean_footprint][1]\n",
    "    df[!, :Wind_footprint] .= carbon_footprints[carbon_footprints[!, :Source] .== \"Wind\", :Mean_footprint][1]\n",
    "    df[!, :Bioenergy_footprint] .= carbon_footprints[carbon_footprints[!, :Source] .== \"Bioenergy\", :Mean_footprint][1]\n",
    "    df[!, :Solar_footprint] .= carbon_footprints[carbon_footprints[!, :Source] .== \"Solar\", :Mean_footprint][1]\n",
    "    df[!, :Gas_footprint] .= carbon_footprints[carbon_footprints[!, :Source] .== \"Gas\", :Mean_footprint][1]\n",
    "    df[!, :Fuel_footprint] .= carbon_footprints[carbon_footprints[!, :Source] .== \"Fuel\", :Mean_footprint][1]\n",
    "    df[!, :Coal_footprint] .= carbon_footprints[carbon_footprints[!, :Source] .== \"Coal\", :Mean_footprint][1]\n",
    "\n",
    "    # add neighbors_footprint column for each neighbor\n",
    "    df[!, :Switzerland_footprint] .= neighbors_footprints[neighbors_footprints[!, :Country] .== \"Switzerland\", :Carbon_footprint][1]\n",
    "    df[!, :Spain_footprint] .= neighbors_footprints[neighbors_footprints[!, :Country] .== \"Spain\", :Carbon_footprint][1]\n",
    "    df[!, :England_footprint] .= neighbors_footprints[neighbors_footprints[!, :Country] .== \"England\", :Carbon_footprint][1]\n",
    "    df[!, :Italy_footprint] .= neighbors_footprints[neighbors_footprints[!, :Country] .== \"Italy\", :Carbon_footprint][1]\n",
    "    df[!, :Germany_Belgium_footprint] .= neighbors_footprints[neighbors_footprints[!, :Country] .== \"Germany_Belgium\", :Carbon_footprint][1]\n",
    "\n",
    "    # return the dataframe\n",
    "    return df\n",
    "end"
   ]
  },
  {
   "cell_type": "code",
   "execution_count": 26,
   "metadata": {},
   "outputs": [],
   "source": [
    "df_sustainable = sustainable_df(df_baseline);"
   ]
  },
  {
   "cell_type": "code",
   "execution_count": 27,
   "metadata": {},
   "outputs": [
    {
     "data": {
      "text/plain": [
       "real_sustainable_cost (generic function with 1 method)"
      ]
     },
     "execution_count": 27,
     "metadata": {},
     "output_type": "execute_result"
    }
   ],
   "source": [
    "# sustainable cost function\n",
    "function lambda_sustainable_cost(x, y, z, df_base, beta)\n",
    "    # for each row of the dataframe, compute a cost\n",
    "    # x is the amount of energy produced by each source\n",
    "    # y is the amount of energy imported from each country\n",
    "    # z is the amount of energy exported to each country\n",
    "    T = size(df_base, 1)\n",
    "\n",
    "    # add production cost\n",
    "    production_cost = 0\n",
    "    for i in 1:size(sources, 1)\n",
    "        # add cost of producing energy with each source\n",
    "        production_cost += sum(x[:, i] .* ((1-beta) .* df_base[!, Symbol(sources[i] * \"_cost\")] .+ beta .* df_base[!, Symbol(sources[i] * \"_footprint\")]))\n",
    "        production_cost += sum((x[:, i] - df_base[!, Symbol(sources[i])] ) .* df_base[!, Symbol(\"Lambda_\" * sources[i])])\n",
    "\n",
    "    end\n",
    "\n",
    "    # add import cost\n",
    "    import_cost = 0\n",
    "    for i in 1:size(neighbors, 1)\n",
    "        # add cost of importing energy from each neighbor\n",
    "        import_cost += sum(y[:, i] .* ((1-beta) .* df_base[!, Symbol(neighbors[i] * \"_Price\")] .+ beta .* df_base[!, Symbol(neighbors[i] * \"_footprint\")]))\n",
    "    end\n",
    "\n",
    "    # add export cost\n",
    "    export_cost = 0\n",
    "    for i in 1:size(neighbors, 1)\n",
    "        # add cost of exporting energy to each neighbor\n",
    "        export_cost += sum(z[:, i] .* df_base[!, \"Export_Price\"])\n",
    "    end    \n",
    "\n",
    "    # return the total cost\n",
    "    return production_cost + import_cost + export_cost\n",
    "end\n",
    "\n",
    "\n",
    "function real_sustainable_cost(x, y, z, df_base, beta)\n",
    "    # for each row of the dataframe, compute a cost\n",
    "    # x is the amount of energy produced by each source\n",
    "    # y is the amount of energy imported from each country\n",
    "    # z is the amount of energy exported to each country\n",
    "    T = size(df_base, 1)\n",
    "\n",
    "    # add production cost\n",
    "    production_cost = 0\n",
    "    for i in 1:size(sources, 1)\n",
    "        # add cost of producing energy with each source\n",
    "        production_cost += sum(x[:, i] .* ((1-beta) .* df_base[!, Symbol(sources[i] * \"_cost\")] .+ beta .* df_base[!, Symbol(sources[i] * \"_footprint\")]))\n",
    "    end\n",
    "\n",
    "    # add import cost\n",
    "    import_cost = 0\n",
    "    for i in 1:size(neighbors, 1)\n",
    "        # add cost of importing energy from each neighbor\n",
    "        import_cost += sum(y[:, i] .* ((1-beta) .* df_base[!, Symbol(neighbors[i] * \"_Price\")] .+ beta .* df_base[!, Symbol(neighbors[i] * \"_footprint\")]))\n",
    "    end\n",
    "\n",
    "    # add export cost\n",
    "    export_cost = 0\n",
    "    for i in 1:size(neighbors, 1)\n",
    "        # add cost of exporting energy to each neighbor\n",
    "        export_cost += sum(z[:, i] .* df_base[!, \"Export_Price\"])\n",
    "    end    \n",
    "\n",
    "    # return the total cost\n",
    "    return production_cost + import_cost + export_cost\n",
    "end"
   ]
  },
  {
   "cell_type": "code",
   "execution_count": 28,
   "metadata": {},
   "outputs": [
    {
     "data": {
      "text/plain": [
       "sustainable_optimizer (generic function with 1 method)"
      ]
     },
     "execution_count": 28,
     "metadata": {},
     "output_type": "execute_result"
    }
   ],
   "source": [
    "# function to build a Gurobi Optimizer to optimize the sustainable cost\n",
    "function sustainable_optimizer(df_base, beta)\n",
    "\n",
    "    # create a Gurobi Optimizer\n",
    "    model = Model(Gurobi.Optimizer)\n",
    "    set_optimizer_attribute(model, \"OutputFlag\", 0)\n",
    "\n",
    "    # add variables\n",
    "    T = size(df_base, 1)\n",
    "    @variable(model, x[1:T, 1:8] >= 0) # production of energy with each source\n",
    "    @variable(model, y[1:T, 1:5] >= 0) # import of energy from each neighbor\n",
    "    @variable(model, z[1:T, 1:5] >= 0) # export of energy to each neighbor\n",
    "\n",
    "    \n",
    "    # add objective\n",
    "    #@objective(model, Min, lambda_sustainable_cost(x, y, z, df_base, beta))\n",
    "    @objective(model, Min, real_sustainable_cost(x, y, z, df_base, beta))\n",
    "\n",
    "\n",
    "    # add constraints\n",
    "    # Demand constraint, we need to produce enough energy for France\n",
    "    @constraint(model, [t in 1:T], sum(x[t, :]) + sum(y[t, :]) - sum(z[t, :]) >= df_base[t, :Consumption])\n",
    "\n",
    "    # maximum import available constraint\n",
    "    @constraint(model, [t in 1:T, i in 1:5], y[t, i] <= df_base[t, Symbol(neighbors[i] * \"_import\")])\n",
    "\n",
    "    # maximum export available constraint\n",
    "    @constraint(model, [t in 1:T, i in 1:5], z[t, i] <= df_base[t, Symbol(neighbors[i] * \"_export\")])\n",
    "\n",
    "    # maximum production constraint\n",
    "    @constraint(model, [t in 1:T, i in 1:8], x[t, i] <= df_base[t, Symbol(sources[i] * \"_cap\")])\n",
    "\n",
    "    \n",
    "    # optimize\n",
    "    optimize!(model)\n",
    "\n",
    "    # return the optimizer\n",
    "    return model\n",
    "end"
   ]
  },
  {
   "cell_type": "code",
   "execution_count": 29,
   "metadata": {},
   "outputs": [
    {
     "name": "stdout",
     "output_type": "stream",
     "text": [
      "Set parameter Username\n",
      "Academic license - for non-commercial use only - expires 2023-08-18\n",
      "Lambda baseline cost: -2.2625959238743433e11\n",
      "Real baseline cost: 5.193953671175134e10\n"
     ]
    }
   ],
   "source": [
    "model_3 = sustainable_optimizer(df_sustainable, 1);\n",
    "\n",
    "# get the optimal values\n",
    "x_opt = value.(model_3[:x])\n",
    "y_opt = value.(model_3[:y])\n",
    "z_opt = value.(model_3[:z])\n",
    "\n",
    "# convert the optimal values to a dataframe\n",
    "df_sustainable_opt = convert_to_df(x_opt, y_opt, z_opt, df_sustainable);\n",
    "\n",
    "# compute the cost of the optimal solution\n",
    "println(\"Lambda baseline cost: \", lambda_baseline_cost(x_opt, y_opt, z_opt, df_sustainable))\n",
    "println(\"Real baseline cost: \", real_baseline_cost(x_opt, y_opt, z_opt, df_sustainable))\n"
   ]
  },
  {
   "cell_type": "code",
   "execution_count": 30,
   "metadata": {},
   "outputs": [
    {
     "data": {
      "text/html": [
       "<div><div style = \"float: left;\"><span>17568×19 DataFrame</span></div><div style = \"float: right;\"><span style = \"font-style: italic;\">17543 rows omitted</span></div><div style = \"clear: both;\"></div></div><div class = \"data-frame\" style = \"overflow-x: scroll;\"><table class = \"data-frame\" style = \"margin-bottom: 6px;\"><thead><tr class = \"header\"><th class = \"rowNumber\" style = \"font-weight: bold; text-align: right;\">Row</th><th style = \"text-align: left;\">Time</th><th style = \"text-align: left;\">Hydraulic</th><th style = \"text-align: left;\">Bioenergy</th><th style = \"text-align: left;\">Wind</th><th style = \"text-align: left;\">Solar</th><th style = \"text-align: left;\">Nuclear</th><th style = \"text-align: left;\">Gas</th><th style = \"text-align: left;\">Coal</th><th style = \"text-align: left;\">Fuel</th><th style = \"text-align: left;\">England_import</th><th style = \"text-align: left;\">Spain_import</th><th style = \"text-align: left;\">Italy_import</th><th style = \"text-align: left;\">Switzerland_import</th><th style = \"text-align: left;\">Germany_Belgium_import</th><th style = \"text-align: left;\">England_export</th><th style = \"text-align: left;\">Spain_export</th><th style = \"text-align: left;\">Italy_export</th><th style = \"text-align: left;\">Switzerland_export</th><th style = \"text-align: left;\">Germany_Belgium_export</th></tr><tr class = \"subheader headerLastRow\"><th class = \"rowNumber\" style = \"font-weight: bold; text-align: right;\"></th><th title = \"Time\" style = \"text-align: left;\">Time</th><th title = \"Float64\" style = \"text-align: left;\">Float64</th><th title = \"Float64\" style = \"text-align: left;\">Float64</th><th title = \"Float64\" style = \"text-align: left;\">Float64</th><th title = \"Float64\" style = \"text-align: left;\">Float64</th><th title = \"Float64\" style = \"text-align: left;\">Float64</th><th title = \"Float64\" style = \"text-align: left;\">Float64</th><th title = \"Float64\" style = \"text-align: left;\">Float64</th><th title = \"Float64\" style = \"text-align: left;\">Float64</th><th title = \"Float64\" style = \"text-align: left;\">Float64</th><th title = \"Float64\" style = \"text-align: left;\">Float64</th><th title = \"Float64\" style = \"text-align: left;\">Float64</th><th title = \"Float64\" style = \"text-align: left;\">Float64</th><th title = \"Float64\" style = \"text-align: left;\">Float64</th><th title = \"Float64\" style = \"text-align: left;\">Float64</th><th title = \"Float64\" style = \"text-align: left;\">Float64</th><th title = \"Float64\" style = \"text-align: left;\">Float64</th><th title = \"Float64\" style = \"text-align: left;\">Float64</th><th title = \"Float64\" style = \"text-align: left;\">Float64</th></tr></thead><tbody><tr><td class = \"rowNumber\" style = \"font-weight: bold; text-align: right;\">1</td><td style = \"text-align: left;\">00:00:00</td><td style = \"text-align: right;\">21172.8</td><td style = \"text-align: right;\">0.0</td><td style = \"text-align: right;\">0.0</td><td style = \"text-align: right;\">0.0</td><td style = \"text-align: right;\">45895.2</td><td style = \"text-align: right;\">0.0</td><td style = \"text-align: right;\">0.0</td><td style = \"text-align: right;\">0.0</td><td style = \"text-align: right;\">0.0</td><td style = \"text-align: right;\">0.0</td><td style = \"text-align: right;\">0.0</td><td style = \"text-align: right;\">0.0</td><td style = \"text-align: right;\">0.0</td><td style = \"text-align: right;\">0.0</td><td style = \"text-align: right;\">0.0</td><td style = \"text-align: right;\">0.0</td><td style = \"text-align: right;\">0.0</td><td style = \"text-align: right;\">0.0</td></tr><tr><td class = \"rowNumber\" style = \"font-weight: bold; text-align: right;\">2</td><td style = \"text-align: left;\">00:30:00</td><td style = \"text-align: right;\">21172.8</td><td style = \"text-align: right;\">0.0</td><td style = \"text-align: right;\">0.0</td><td style = \"text-align: right;\">0.0</td><td style = \"text-align: right;\">44930.2</td><td style = \"text-align: right;\">0.0</td><td style = \"text-align: right;\">0.0</td><td style = \"text-align: right;\">0.0</td><td style = \"text-align: right;\">0.0</td><td style = \"text-align: right;\">0.0</td><td style = \"text-align: right;\">0.0</td><td style = \"text-align: right;\">0.0</td><td style = \"text-align: right;\">0.0</td><td style = \"text-align: right;\">0.0</td><td style = \"text-align: right;\">0.0</td><td style = \"text-align: right;\">0.0</td><td style = \"text-align: right;\">0.0</td><td style = \"text-align: right;\">0.0</td></tr><tr><td class = \"rowNumber\" style = \"font-weight: bold; text-align: right;\">3</td><td style = \"text-align: left;\">01:00:00</td><td style = \"text-align: right;\">21172.8</td><td style = \"text-align: right;\">0.0</td><td style = \"text-align: right;\">0.0</td><td style = \"text-align: right;\">0.0</td><td style = \"text-align: right;\">42770.2</td><td style = \"text-align: right;\">0.0</td><td style = \"text-align: right;\">0.0</td><td style = \"text-align: right;\">0.0</td><td style = \"text-align: right;\">0.0</td><td style = \"text-align: right;\">0.0</td><td style = \"text-align: right;\">0.0</td><td style = \"text-align: right;\">0.0</td><td style = \"text-align: right;\">0.0</td><td style = \"text-align: right;\">0.0</td><td style = \"text-align: right;\">0.0</td><td style = \"text-align: right;\">0.0</td><td style = \"text-align: right;\">0.0</td><td style = \"text-align: right;\">0.0</td></tr><tr><td class = \"rowNumber\" style = \"font-weight: bold; text-align: right;\">4</td><td style = \"text-align: left;\">01:30:00</td><td style = \"text-align: right;\">21172.8</td><td style = \"text-align: right;\">0.0</td><td style = \"text-align: right;\">0.0</td><td style = \"text-align: right;\">0.0</td><td style = \"text-align: right;\">42731.2</td><td style = \"text-align: right;\">0.0</td><td style = \"text-align: right;\">0.0</td><td style = \"text-align: right;\">0.0</td><td style = \"text-align: right;\">0.0</td><td style = \"text-align: right;\">0.0</td><td style = \"text-align: right;\">0.0</td><td style = \"text-align: right;\">0.0</td><td style = \"text-align: right;\">0.0</td><td style = \"text-align: right;\">0.0</td><td style = \"text-align: right;\">0.0</td><td style = \"text-align: right;\">0.0</td><td style = \"text-align: right;\">0.0</td><td style = \"text-align: right;\">0.0</td></tr><tr><td class = \"rowNumber\" style = \"font-weight: bold; text-align: right;\">5</td><td style = \"text-align: left;\">02:00:00</td><td style = \"text-align: right;\">21172.8</td><td style = \"text-align: right;\">0.0</td><td style = \"text-align: right;\">0.0</td><td style = \"text-align: right;\">0.0</td><td style = \"text-align: right;\">42235.2</td><td style = \"text-align: right;\">0.0</td><td style = \"text-align: right;\">0.0</td><td style = \"text-align: right;\">0.0</td><td style = \"text-align: right;\">0.0</td><td style = \"text-align: right;\">0.0</td><td style = \"text-align: right;\">0.0</td><td style = \"text-align: right;\">0.0</td><td style = \"text-align: right;\">0.0</td><td style = \"text-align: right;\">0.0</td><td style = \"text-align: right;\">0.0</td><td style = \"text-align: right;\">0.0</td><td style = \"text-align: right;\">0.0</td><td style = \"text-align: right;\">0.0</td></tr><tr><td class = \"rowNumber\" style = \"font-weight: bold; text-align: right;\">6</td><td style = \"text-align: left;\">02:30:00</td><td style = \"text-align: right;\">21172.8</td><td style = \"text-align: right;\">0.0</td><td style = \"text-align: right;\">0.0</td><td style = \"text-align: right;\">0.0</td><td style = \"text-align: right;\">41538.2</td><td style = \"text-align: right;\">0.0</td><td style = \"text-align: right;\">0.0</td><td style = \"text-align: right;\">0.0</td><td style = \"text-align: right;\">0.0</td><td style = \"text-align: right;\">0.0</td><td style = \"text-align: right;\">0.0</td><td style = \"text-align: right;\">0.0</td><td style = \"text-align: right;\">0.0</td><td style = \"text-align: right;\">0.0</td><td style = \"text-align: right;\">0.0</td><td style = \"text-align: right;\">0.0</td><td style = \"text-align: right;\">0.0</td><td style = \"text-align: right;\">0.0</td></tr><tr><td class = \"rowNumber\" style = \"font-weight: bold; text-align: right;\">7</td><td style = \"text-align: left;\">03:00:00</td><td style = \"text-align: right;\">21172.8</td><td style = \"text-align: right;\">0.0</td><td style = \"text-align: right;\">0.0</td><td style = \"text-align: right;\">0.0</td><td style = \"text-align: right;\">39652.2</td><td style = \"text-align: right;\">0.0</td><td style = \"text-align: right;\">0.0</td><td style = \"text-align: right;\">0.0</td><td style = \"text-align: right;\">0.0</td><td style = \"text-align: right;\">0.0</td><td style = \"text-align: right;\">0.0</td><td style = \"text-align: right;\">0.0</td><td style = \"text-align: right;\">0.0</td><td style = \"text-align: right;\">0.0</td><td style = \"text-align: right;\">0.0</td><td style = \"text-align: right;\">0.0</td><td style = \"text-align: right;\">0.0</td><td style = \"text-align: right;\">0.0</td></tr><tr><td class = \"rowNumber\" style = \"font-weight: bold; text-align: right;\">8</td><td style = \"text-align: left;\">03:30:00</td><td style = \"text-align: right;\">21172.8</td><td style = \"text-align: right;\">0.0</td><td style = \"text-align: right;\">0.0</td><td style = \"text-align: right;\">0.0</td><td style = \"text-align: right;\">38159.2</td><td style = \"text-align: right;\">0.0</td><td style = \"text-align: right;\">0.0</td><td style = \"text-align: right;\">0.0</td><td style = \"text-align: right;\">0.0</td><td style = \"text-align: right;\">0.0</td><td style = \"text-align: right;\">0.0</td><td style = \"text-align: right;\">0.0</td><td style = \"text-align: right;\">0.0</td><td style = \"text-align: right;\">0.0</td><td style = \"text-align: right;\">0.0</td><td style = \"text-align: right;\">0.0</td><td style = \"text-align: right;\">0.0</td><td style = \"text-align: right;\">0.0</td></tr><tr><td class = \"rowNumber\" style = \"font-weight: bold; text-align: right;\">9</td><td style = \"text-align: left;\">04:00:00</td><td style = \"text-align: right;\">21172.8</td><td style = \"text-align: right;\">0.0</td><td style = \"text-align: right;\">0.0</td><td style = \"text-align: right;\">0.0</td><td style = \"text-align: right;\">36831.2</td><td style = \"text-align: right;\">0.0</td><td style = \"text-align: right;\">0.0</td><td style = \"text-align: right;\">0.0</td><td style = \"text-align: right;\">0.0</td><td style = \"text-align: right;\">0.0</td><td style = \"text-align: right;\">0.0</td><td style = \"text-align: right;\">0.0</td><td style = \"text-align: right;\">0.0</td><td style = \"text-align: right;\">0.0</td><td style = \"text-align: right;\">0.0</td><td style = \"text-align: right;\">0.0</td><td style = \"text-align: right;\">0.0</td><td style = \"text-align: right;\">0.0</td></tr><tr><td class = \"rowNumber\" style = \"font-weight: bold; text-align: right;\">10</td><td style = \"text-align: left;\">04:30:00</td><td style = \"text-align: right;\">21172.8</td><td style = \"text-align: right;\">0.0</td><td style = \"text-align: right;\">0.0</td><td style = \"text-align: right;\">0.0</td><td style = \"text-align: right;\">35952.2</td><td style = \"text-align: right;\">0.0</td><td style = \"text-align: right;\">0.0</td><td style = \"text-align: right;\">0.0</td><td style = \"text-align: right;\">0.0</td><td style = \"text-align: right;\">0.0</td><td style = \"text-align: right;\">0.0</td><td style = \"text-align: right;\">0.0</td><td style = \"text-align: right;\">0.0</td><td style = \"text-align: right;\">0.0</td><td style = \"text-align: right;\">0.0</td><td style = \"text-align: right;\">0.0</td><td style = \"text-align: right;\">0.0</td><td style = \"text-align: right;\">0.0</td></tr><tr><td class = \"rowNumber\" style = \"font-weight: bold; text-align: right;\">11</td><td style = \"text-align: left;\">05:00:00</td><td style = \"text-align: right;\">21172.8</td><td style = \"text-align: right;\">0.0</td><td style = \"text-align: right;\">0.0</td><td style = \"text-align: right;\">0.0</td><td style = \"text-align: right;\">35259.2</td><td style = \"text-align: right;\">0.0</td><td style = \"text-align: right;\">0.0</td><td style = \"text-align: right;\">0.0</td><td style = \"text-align: right;\">0.0</td><td style = \"text-align: right;\">0.0</td><td style = \"text-align: right;\">0.0</td><td style = \"text-align: right;\">0.0</td><td style = \"text-align: right;\">0.0</td><td style = \"text-align: right;\">0.0</td><td style = \"text-align: right;\">0.0</td><td style = \"text-align: right;\">0.0</td><td style = \"text-align: right;\">0.0</td><td style = \"text-align: right;\">0.0</td></tr><tr><td class = \"rowNumber\" style = \"font-weight: bold; text-align: right;\">12</td><td style = \"text-align: left;\">05:30:00</td><td style = \"text-align: right;\">21172.8</td><td style = \"text-align: right;\">0.0</td><td style = \"text-align: right;\">0.0</td><td style = \"text-align: right;\">0.0</td><td style = \"text-align: right;\">35534.2</td><td style = \"text-align: right;\">0.0</td><td style = \"text-align: right;\">0.0</td><td style = \"text-align: right;\">0.0</td><td style = \"text-align: right;\">0.0</td><td style = \"text-align: right;\">0.0</td><td style = \"text-align: right;\">0.0</td><td style = \"text-align: right;\">0.0</td><td style = \"text-align: right;\">0.0</td><td style = \"text-align: right;\">0.0</td><td style = \"text-align: right;\">0.0</td><td style = \"text-align: right;\">0.0</td><td style = \"text-align: right;\">0.0</td><td style = \"text-align: right;\">0.0</td></tr><tr><td class = \"rowNumber\" style = \"font-weight: bold; text-align: right;\">13</td><td style = \"text-align: left;\">06:00:00</td><td style = \"text-align: right;\">21172.8</td><td style = \"text-align: right;\">0.0</td><td style = \"text-align: right;\">0.0</td><td style = \"text-align: right;\">0.0</td><td style = \"text-align: right;\">35282.2</td><td style = \"text-align: right;\">0.0</td><td style = \"text-align: right;\">0.0</td><td style = \"text-align: right;\">0.0</td><td style = \"text-align: right;\">0.0</td><td style = \"text-align: right;\">0.0</td><td style = \"text-align: right;\">0.0</td><td style = \"text-align: right;\">0.0</td><td style = \"text-align: right;\">0.0</td><td style = \"text-align: right;\">0.0</td><td style = \"text-align: right;\">0.0</td><td style = \"text-align: right;\">0.0</td><td style = \"text-align: right;\">0.0</td><td style = \"text-align: right;\">0.0</td></tr><tr><td style = \"text-align: right;\">&vellip;</td><td style = \"text-align: right;\">&vellip;</td><td style = \"text-align: right;\">&vellip;</td><td style = \"text-align: right;\">&vellip;</td><td style = \"text-align: right;\">&vellip;</td><td style = \"text-align: right;\">&vellip;</td><td style = \"text-align: right;\">&vellip;</td><td style = \"text-align: right;\">&vellip;</td><td style = \"text-align: right;\">&vellip;</td><td style = \"text-align: right;\">&vellip;</td><td style = \"text-align: right;\">&vellip;</td><td style = \"text-align: right;\">&vellip;</td><td style = \"text-align: right;\">&vellip;</td><td style = \"text-align: right;\">&vellip;</td><td style = \"text-align: right;\">&vellip;</td><td style = \"text-align: right;\">&vellip;</td><td style = \"text-align: right;\">&vellip;</td><td style = \"text-align: right;\">&vellip;</td><td style = \"text-align: right;\">&vellip;</td><td style = \"text-align: right;\">&vellip;</td></tr><tr><td class = \"rowNumber\" style = \"font-weight: bold; text-align: right;\">17557</td><td style = \"text-align: left;\">18:00:00</td><td style = \"text-align: right;\">21172.8</td><td style = \"text-align: right;\">0.0</td><td style = \"text-align: right;\">0.0</td><td style = \"text-align: right;\">0.0</td><td style = \"text-align: right;\">48354.2</td><td style = \"text-align: right;\">0.0</td><td style = \"text-align: right;\">0.0</td><td style = \"text-align: right;\">0.0</td><td style = \"text-align: right;\">0.0</td><td style = \"text-align: right;\">0.0</td><td style = \"text-align: right;\">0.0</td><td style = \"text-align: right;\">0.0</td><td style = \"text-align: right;\">0.0</td><td style = \"text-align: right;\">0.0</td><td style = \"text-align: right;\">0.0</td><td style = \"text-align: right;\">0.0</td><td style = \"text-align: right;\">0.0</td><td style = \"text-align: right;\">0.0</td></tr><tr><td class = \"rowNumber\" style = \"font-weight: bold; text-align: right;\">17558</td><td style = \"text-align: left;\">18:30:00</td><td style = \"text-align: right;\">21172.8</td><td style = \"text-align: right;\">0.0</td><td style = \"text-align: right;\">0.0</td><td style = \"text-align: right;\">0.0</td><td style = \"text-align: right;\">48812.2</td><td style = \"text-align: right;\">0.0</td><td style = \"text-align: right;\">0.0</td><td style = \"text-align: right;\">0.0</td><td style = \"text-align: right;\">0.0</td><td style = \"text-align: right;\">0.0</td><td style = \"text-align: right;\">0.0</td><td style = \"text-align: right;\">0.0</td><td style = \"text-align: right;\">0.0</td><td style = \"text-align: right;\">0.0</td><td style = \"text-align: right;\">0.0</td><td style = \"text-align: right;\">0.0</td><td style = \"text-align: right;\">0.0</td><td style = \"text-align: right;\">0.0</td></tr><tr><td class = \"rowNumber\" style = \"font-weight: bold; text-align: right;\">17559</td><td style = \"text-align: left;\">19:00:00</td><td style = \"text-align: right;\">21172.8</td><td style = \"text-align: right;\">0.0</td><td style = \"text-align: right;\">0.0</td><td style = \"text-align: right;\">0.0</td><td style = \"text-align: right;\">49221.2</td><td style = \"text-align: right;\">0.0</td><td style = \"text-align: right;\">0.0</td><td style = \"text-align: right;\">0.0</td><td style = \"text-align: right;\">0.0</td><td style = \"text-align: right;\">0.0</td><td style = \"text-align: right;\">0.0</td><td style = \"text-align: right;\">0.0</td><td style = \"text-align: right;\">0.0</td><td style = \"text-align: right;\">0.0</td><td style = \"text-align: right;\">0.0</td><td style = \"text-align: right;\">0.0</td><td style = \"text-align: right;\">0.0</td><td style = \"text-align: right;\">0.0</td></tr><tr><td class = \"rowNumber\" style = \"font-weight: bold; text-align: right;\">17560</td><td style = \"text-align: left;\">19:30:00</td><td style = \"text-align: right;\">21172.8</td><td style = \"text-align: right;\">0.0</td><td style = \"text-align: right;\">0.0</td><td style = \"text-align: right;\">0.0</td><td style = \"text-align: right;\">48746.2</td><td style = \"text-align: right;\">0.0</td><td style = \"text-align: right;\">0.0</td><td style = \"text-align: right;\">0.0</td><td style = \"text-align: right;\">0.0</td><td style = \"text-align: right;\">0.0</td><td style = \"text-align: right;\">0.0</td><td style = \"text-align: right;\">0.0</td><td style = \"text-align: right;\">0.0</td><td style = \"text-align: right;\">0.0</td><td style = \"text-align: right;\">0.0</td><td style = \"text-align: right;\">0.0</td><td style = \"text-align: right;\">0.0</td><td style = \"text-align: right;\">0.0</td></tr><tr><td class = \"rowNumber\" style = \"font-weight: bold; text-align: right;\">17561</td><td style = \"text-align: left;\">20:00:00</td><td style = \"text-align: right;\">21172.8</td><td style = \"text-align: right;\">0.0</td><td style = \"text-align: right;\">0.0</td><td style = \"text-align: right;\">0.0</td><td style = \"text-align: right;\">47755.2</td><td style = \"text-align: right;\">0.0</td><td style = \"text-align: right;\">0.0</td><td style = \"text-align: right;\">0.0</td><td style = \"text-align: right;\">0.0</td><td style = \"text-align: right;\">0.0</td><td style = \"text-align: right;\">0.0</td><td style = \"text-align: right;\">0.0</td><td style = \"text-align: right;\">0.0</td><td style = \"text-align: right;\">0.0</td><td style = \"text-align: right;\">0.0</td><td style = \"text-align: right;\">0.0</td><td style = \"text-align: right;\">0.0</td><td style = \"text-align: right;\">0.0</td></tr><tr><td class = \"rowNumber\" style = \"font-weight: bold; text-align: right;\">17562</td><td style = \"text-align: left;\">20:30:00</td><td style = \"text-align: right;\">21172.8</td><td style = \"text-align: right;\">0.0</td><td style = \"text-align: right;\">0.0</td><td style = \"text-align: right;\">0.0</td><td style = \"text-align: right;\">46139.2</td><td style = \"text-align: right;\">0.0</td><td style = \"text-align: right;\">0.0</td><td style = \"text-align: right;\">0.0</td><td style = \"text-align: right;\">0.0</td><td style = \"text-align: right;\">0.0</td><td style = \"text-align: right;\">0.0</td><td style = \"text-align: right;\">0.0</td><td style = \"text-align: right;\">0.0</td><td style = \"text-align: right;\">0.0</td><td style = \"text-align: right;\">0.0</td><td style = \"text-align: right;\">0.0</td><td style = \"text-align: right;\">0.0</td><td style = \"text-align: right;\">0.0</td></tr><tr><td class = \"rowNumber\" style = \"font-weight: bold; text-align: right;\">17563</td><td style = \"text-align: left;\">21:00:00</td><td style = \"text-align: right;\">21172.8</td><td style = \"text-align: right;\">0.0</td><td style = \"text-align: right;\">0.0</td><td style = \"text-align: right;\">0.0</td><td style = \"text-align: right;\">44435.2</td><td style = \"text-align: right;\">0.0</td><td style = \"text-align: right;\">0.0</td><td style = \"text-align: right;\">0.0</td><td style = \"text-align: right;\">0.0</td><td style = \"text-align: right;\">0.0</td><td style = \"text-align: right;\">0.0</td><td style = \"text-align: right;\">0.0</td><td style = \"text-align: right;\">0.0</td><td style = \"text-align: right;\">0.0</td><td style = \"text-align: right;\">0.0</td><td style = \"text-align: right;\">0.0</td><td style = \"text-align: right;\">0.0</td><td style = \"text-align: right;\">0.0</td></tr><tr><td class = \"rowNumber\" style = \"font-weight: bold; text-align: right;\">17564</td><td style = \"text-align: left;\">21:30:00</td><td style = \"text-align: right;\">21172.8</td><td style = \"text-align: right;\">0.0</td><td style = \"text-align: right;\">0.0</td><td style = \"text-align: right;\">0.0</td><td style = \"text-align: right;\">43250.2</td><td style = \"text-align: right;\">0.0</td><td style = \"text-align: right;\">0.0</td><td style = \"text-align: right;\">0.0</td><td style = \"text-align: right;\">0.0</td><td style = \"text-align: right;\">0.0</td><td style = \"text-align: right;\">0.0</td><td style = \"text-align: right;\">0.0</td><td style = \"text-align: right;\">0.0</td><td style = \"text-align: right;\">0.0</td><td style = \"text-align: right;\">0.0</td><td style = \"text-align: right;\">0.0</td><td style = \"text-align: right;\">0.0</td><td style = \"text-align: right;\">0.0</td></tr><tr><td class = \"rowNumber\" style = \"font-weight: bold; text-align: right;\">17565</td><td style = \"text-align: left;\">22:00:00</td><td style = \"text-align: right;\">21172.8</td><td style = \"text-align: right;\">0.0</td><td style = \"text-align: right;\">0.0</td><td style = \"text-align: right;\">0.0</td><td style = \"text-align: right;\">42332.2</td><td style = \"text-align: right;\">0.0</td><td style = \"text-align: right;\">0.0</td><td style = \"text-align: right;\">0.0</td><td style = \"text-align: right;\">0.0</td><td style = \"text-align: right;\">0.0</td><td style = \"text-align: right;\">0.0</td><td style = \"text-align: right;\">0.0</td><td style = \"text-align: right;\">0.0</td><td style = \"text-align: right;\">0.0</td><td style = \"text-align: right;\">0.0</td><td style = \"text-align: right;\">0.0</td><td style = \"text-align: right;\">0.0</td><td style = \"text-align: right;\">0.0</td></tr><tr><td class = \"rowNumber\" style = \"font-weight: bold; text-align: right;\">17566</td><td style = \"text-align: left;\">22:30:00</td><td style = \"text-align: right;\">21172.8</td><td style = \"text-align: right;\">0.0</td><td style = \"text-align: right;\">0.0</td><td style = \"text-align: right;\">0.0</td><td style = \"text-align: right;\">43158.2</td><td style = \"text-align: right;\">0.0</td><td style = \"text-align: right;\">0.0</td><td style = \"text-align: right;\">0.0</td><td style = \"text-align: right;\">0.0</td><td style = \"text-align: right;\">0.0</td><td style = \"text-align: right;\">0.0</td><td style = \"text-align: right;\">0.0</td><td style = \"text-align: right;\">0.0</td><td style = \"text-align: right;\">0.0</td><td style = \"text-align: right;\">0.0</td><td style = \"text-align: right;\">0.0</td><td style = \"text-align: right;\">0.0</td><td style = \"text-align: right;\">0.0</td></tr><tr><td class = \"rowNumber\" style = \"font-weight: bold; text-align: right;\">17567</td><td style = \"text-align: left;\">23:00:00</td><td style = \"text-align: right;\">21172.8</td><td style = \"text-align: right;\">0.0</td><td style = \"text-align: right;\">0.0</td><td style = \"text-align: right;\">0.0</td><td style = \"text-align: right;\">45680.2</td><td style = \"text-align: right;\">0.0</td><td style = \"text-align: right;\">0.0</td><td style = \"text-align: right;\">0.0</td><td style = \"text-align: right;\">0.0</td><td style = \"text-align: right;\">0.0</td><td style = \"text-align: right;\">0.0</td><td style = \"text-align: right;\">0.0</td><td style = \"text-align: right;\">0.0</td><td style = \"text-align: right;\">0.0</td><td style = \"text-align: right;\">0.0</td><td style = \"text-align: right;\">0.0</td><td style = \"text-align: right;\">0.0</td><td style = \"text-align: right;\">0.0</td></tr><tr><td class = \"rowNumber\" style = \"font-weight: bold; text-align: right;\">17568</td><td style = \"text-align: left;\">23:30:00</td><td style = \"text-align: right;\">21172.8</td><td style = \"text-align: right;\">0.0</td><td style = \"text-align: right;\">0.0</td><td style = \"text-align: right;\">0.0</td><td style = \"text-align: right;\">45577.2</td><td style = \"text-align: right;\">0.0</td><td style = \"text-align: right;\">0.0</td><td style = \"text-align: right;\">0.0</td><td style = \"text-align: right;\">0.0</td><td style = \"text-align: right;\">0.0</td><td style = \"text-align: right;\">0.0</td><td style = \"text-align: right;\">0.0</td><td style = \"text-align: right;\">0.0</td><td style = \"text-align: right;\">0.0</td><td style = \"text-align: right;\">0.0</td><td style = \"text-align: right;\">0.0</td><td style = \"text-align: right;\">0.0</td><td style = \"text-align: right;\">0.0</td></tr></tbody></table></div>"
      ],
      "text/latex": [
       "\\begin{tabular}{r|cccccccccc}\n",
       "\t& Time & Hydraulic & Bioenergy & Wind & Solar & Nuclear & Gas & Coal & Fuel & \\\\\n",
       "\t\\hline\n",
       "\t& Time & Float64 & Float64 & Float64 & Float64 & Float64 & Float64 & Float64 & Float64 & \\\\\n",
       "\t\\hline\n",
       "\t1 & 00:00:00 & 21172.8 & 0.0 & 0.0 & 0.0 & 45895.2 & 0.0 & 0.0 & 0.0 & $\\dots$ \\\\\n",
       "\t2 & 00:30:00 & 21172.8 & 0.0 & 0.0 & 0.0 & 44930.2 & 0.0 & 0.0 & 0.0 & $\\dots$ \\\\\n",
       "\t3 & 01:00:00 & 21172.8 & 0.0 & 0.0 & 0.0 & 42770.2 & 0.0 & 0.0 & 0.0 & $\\dots$ \\\\\n",
       "\t4 & 01:30:00 & 21172.8 & 0.0 & 0.0 & 0.0 & 42731.2 & 0.0 & 0.0 & 0.0 & $\\dots$ \\\\\n",
       "\t5 & 02:00:00 & 21172.8 & 0.0 & 0.0 & 0.0 & 42235.2 & 0.0 & 0.0 & 0.0 & $\\dots$ \\\\\n",
       "\t6 & 02:30:00 & 21172.8 & 0.0 & 0.0 & 0.0 & 41538.2 & 0.0 & 0.0 & 0.0 & $\\dots$ \\\\\n",
       "\t7 & 03:00:00 & 21172.8 & 0.0 & 0.0 & 0.0 & 39652.2 & 0.0 & 0.0 & 0.0 & $\\dots$ \\\\\n",
       "\t8 & 03:30:00 & 21172.8 & 0.0 & 0.0 & 0.0 & 38159.2 & 0.0 & 0.0 & 0.0 & $\\dots$ \\\\\n",
       "\t9 & 04:00:00 & 21172.8 & 0.0 & 0.0 & 0.0 & 36831.2 & 0.0 & 0.0 & 0.0 & $\\dots$ \\\\\n",
       "\t10 & 04:30:00 & 21172.8 & 0.0 & 0.0 & 0.0 & 35952.2 & 0.0 & 0.0 & 0.0 & $\\dots$ \\\\\n",
       "\t11 & 05:00:00 & 21172.8 & 0.0 & 0.0 & 0.0 & 35259.2 & 0.0 & 0.0 & 0.0 & $\\dots$ \\\\\n",
       "\t12 & 05:30:00 & 21172.8 & 0.0 & 0.0 & 0.0 & 35534.2 & 0.0 & 0.0 & 0.0 & $\\dots$ \\\\\n",
       "\t13 & 06:00:00 & 21172.8 & 0.0 & 0.0 & 0.0 & 35282.2 & 0.0 & 0.0 & 0.0 & $\\dots$ \\\\\n",
       "\t14 & 06:30:00 & 21172.8 & 0.0 & 0.0 & 0.0 & 35721.2 & 0.0 & 0.0 & 0.0 & $\\dots$ \\\\\n",
       "\t15 & 07:00:00 & 21172.8 & 0.0 & 0.0 & 0.0 & 35549.2 & 0.0 & 0.0 & 0.0 & $\\dots$ \\\\\n",
       "\t16 & 07:30:00 & 21172.8 & 0.0 & 0.0 & 0.0 & 35642.2 & 0.0 & 0.0 & 0.0 & $\\dots$ \\\\\n",
       "\t17 & 08:00:00 & 21172.8 & 0.0 & 0.0 & 0.0 & 35794.2 & 0.0 & 0.0 & 0.0 & $\\dots$ \\\\\n",
       "\t18 & 08:30:00 & 21172.8 & 0.0 & 0.0 & 0.0 & 35450.2 & 0.0 & 0.0 & 0.0 & $\\dots$ \\\\\n",
       "\t19 & 09:00:00 & 21172.8 & 0.0 & 0.0 & 0.0 & 35414.2 & 0.0 & 0.0 & 0.0 & $\\dots$ \\\\\n",
       "\t20 & 09:30:00 & 21172.8 & 0.0 & 0.0 & 0.0 & 36049.2 & 0.0 & 0.0 & 0.0 & $\\dots$ \\\\\n",
       "\t21 & 10:00:00 & 21172.8 & 0.0 & 0.0 & 0.0 & 36887.2 & 0.0 & 0.0 & 0.0 & $\\dots$ \\\\\n",
       "\t22 & 10:30:00 & 21172.8 & 0.0 & 0.0 & 0.0 & 37704.2 & 0.0 & 0.0 & 0.0 & $\\dots$ \\\\\n",
       "\t23 & 11:00:00 & 21172.8 & 0.0 & 0.0 & 0.0 & 38444.2 & 0.0 & 0.0 & 0.0 & $\\dots$ \\\\\n",
       "\t24 & 11:30:00 & 21172.8 & 0.0 & 0.0 & 0.0 & 39442.2 & 0.0 & 0.0 & 0.0 & $\\dots$ \\\\\n",
       "\t25 & 12:00:00 & 21172.8 & 0.0 & 0.0 & 0.0 & 40444.2 & 0.0 & 0.0 & 0.0 & $\\dots$ \\\\\n",
       "\t26 & 12:30:00 & 21172.8 & 0.0 & 0.0 & 0.0 & 41866.2 & 0.0 & 0.0 & 0.0 & $\\dots$ \\\\\n",
       "\t27 & 13:00:00 & 21172.8 & 0.0 & 0.0 & 0.0 & 42789.2 & 0.0 & 0.0 & 0.0 & $\\dots$ \\\\\n",
       "\t28 & 13:30:00 & 21172.8 & 0.0 & 0.0 & 0.0 & 41549.2 & 0.0 & 0.0 & 0.0 & $\\dots$ \\\\\n",
       "\t29 & 14:00:00 & 21172.8 & 0.0 & 0.0 & 0.0 & 40279.2 & 0.0 & 0.0 & 0.0 & $\\dots$ \\\\\n",
       "\t30 & 14:30:00 & 21172.8 & 0.0 & 0.0 & 0.0 & 39218.2 & 0.0 & 0.0 & 0.0 & $\\dots$ \\\\\n",
       "\t$\\dots$ & $\\dots$ & $\\dots$ & $\\dots$ & $\\dots$ & $\\dots$ & $\\dots$ & $\\dots$ & $\\dots$ & $\\dots$ &  \\\\\n",
       "\\end{tabular}\n"
      ],
      "text/plain": [
       "\u001b[1m17568×19 DataFrame\n",
       "\u001b[1m   Row │\u001b[1m Time     \u001b[1m Hydraulic \u001b[1m Bioenergy \u001b[1m Wind    \u001b[1m Solar   \u001b[1m Nuclear \u001b[1m Gas     \u001b[1m C ⋯\n",
       "       │\u001b[90m Time     \u001b[90m Float64   \u001b[90m Float64   \u001b[90m Float64 \u001b[90m Float64 \u001b[90m Float64 \u001b[90m Float64 \u001b[90m F ⋯\n",
       "───────┼────────────────────────────────────────────────────────────────────────\n",
       "     1 │ 00:00:00    21172.8        0.0      0.0      0.0  45895.2      0.0    ⋯\n",
       "     2 │ 00:30:00    21172.8        0.0      0.0      0.0  44930.2      0.0\n",
       "     3 │ 01:00:00    21172.8        0.0      0.0      0.0  42770.2      0.0\n",
       "     4 │ 01:30:00    21172.8        0.0      0.0      0.0  42731.2      0.0\n",
       "     5 │ 02:00:00    21172.8        0.0      0.0      0.0  42235.2      0.0    ⋯\n",
       "     6 │ 02:30:00    21172.8        0.0      0.0      0.0  41538.2      0.0\n",
       "     7 │ 03:00:00    21172.8        0.0      0.0      0.0  39652.2      0.0\n",
       "     8 │ 03:30:00    21172.8        0.0      0.0      0.0  38159.2      0.0\n",
       "     9 │ 04:00:00    21172.8        0.0      0.0      0.0  36831.2      0.0    ⋯\n",
       "    10 │ 04:30:00    21172.8        0.0      0.0      0.0  35952.2      0.0\n",
       "    11 │ 05:00:00    21172.8        0.0      0.0      0.0  35259.2      0.0\n",
       "   ⋮   │    ⋮          ⋮          ⋮         ⋮        ⋮        ⋮        ⋮       ⋱\n",
       " 17559 │ 19:00:00    21172.8        0.0      0.0      0.0  49221.2      0.0\n",
       " 17560 │ 19:30:00    21172.8        0.0      0.0      0.0  48746.2      0.0    ⋯\n",
       " 17561 │ 20:00:00    21172.8        0.0      0.0      0.0  47755.2      0.0\n",
       " 17562 │ 20:30:00    21172.8        0.0      0.0      0.0  46139.2      0.0\n",
       " 17563 │ 21:00:00    21172.8        0.0      0.0      0.0  44435.2      0.0\n",
       " 17564 │ 21:30:00    21172.8        0.0      0.0      0.0  43250.2      0.0    ⋯\n",
       " 17565 │ 22:00:00    21172.8        0.0      0.0      0.0  42332.2      0.0\n",
       " 17566 │ 22:30:00    21172.8        0.0      0.0      0.0  43158.2      0.0\n",
       " 17567 │ 23:00:00    21172.8        0.0      0.0      0.0  45680.2      0.0\n",
       " 17568 │ 23:30:00    21172.8        0.0      0.0      0.0  45577.2      0.0    ⋯\n",
       "\u001b[36m                                               12 columns and 17547 rows omitted"
      ]
     },
     "execution_count": 30,
     "metadata": {},
     "output_type": "execute_result"
    }
   ],
   "source": [
    "df_sustainable_opt"
   ]
  },
  {
   "cell_type": "code",
   "execution_count": null,
   "metadata": {},
   "outputs": [],
   "source": []
  },
  {
   "cell_type": "code",
   "execution_count": null,
   "metadata": {},
   "outputs": [],
   "source": []
  }
 ],
 "metadata": {
  "kernelspec": {
   "display_name": "Julia (IAI) (fk le bogos) 1.8.2",
   "language": "julia",
   "name": "julia-(iai)-(fk-le-bogos)-1.8"
  },
  "language_info": {
   "file_extension": ".jl",
   "mimetype": "application/julia",
   "name": "julia",
   "version": "1.8.2"
  }
 },
 "nbformat": 4,
 "nbformat_minor": 2
}
