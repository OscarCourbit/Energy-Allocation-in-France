{
 "cells": [
  {
   "cell_type": "markdown",
   "metadata": {},
   "source": [
    "# Energy Allocation"
   ]
  },
  {
   "cell_type": "code",
   "execution_count": 1,
   "metadata": {},
   "outputs": [],
   "source": [
    "#using Pkg\n",
    "#Pkg.add(\"XLSX\")"
   ]
  },
  {
   "cell_type": "code",
   "execution_count": 1,
   "metadata": {},
   "outputs": [],
   "source": [
    "using XLSX, Gurobi, StatsBase, CSV, DataFrames, \n",
    "JuMP, LinearAlgebra, Distributions, Random,\n",
    "GLMNet, ScikitLearn, MLBase, CategoricalArrays, Plots,\n",
    "Dates, Clustering, Distances, StatsPlots, ProgressMeter, \n",
    "StableRNGs, ParallelKMeans, JuMP, Gurobi"
   ]
  },
  {
   "cell_type": "code",
   "execution_count": 2,
   "metadata": {},
   "outputs": [],
   "source": [
    "# Read xlsm file\n",
    "initial_df = DataFrame(XLSX.readtable(\"eCO2mix_RTE_Annuel-Definitif_2020.xlsm\", \"eCO2mix_RTE_Annuel-Definitif_20\"));\n",
    "seed = 1234;"
   ]
  },
  {
   "cell_type": "code",
   "execution_count": 3,
   "metadata": {},
   "outputs": [],
   "source": [
    "# Let's clean the data\n",
    "\n",
    "# Remove all rows with missing values\n",
    "df = dropmissing(initial_df, disallowmissing=true);\n",
    "\n",
    "# remove every columns before the Date column and after the Ech. comm. Allemagne-Belgique column\n",
    "df = df[:, 3:23]\n",
    "\n",
    "# put the columns PrÈvision J-1, PrÈvision J, Pompage, Ech. physiques\n",
    "prev_pomp_df = df[:, [4, 5, 13, 15]]\n",
    "# drom column 4,5,13,15\n",
    "df = df[:, Not([4, 5, 13, 15])]\n",
    "\n",
    "# rename the columns\n",
    "rename!(df, Symbol.([\"Date\", \"Time\", \"Consumption\", \"Fuel\", \"Coal\", \"Gas\", \"Nuclear\", \"Wind\", \"Solar\", \"Hydraulic\", \"Bioenergy\", \"CO2\", \"England\", \"Spain\", \"Italy\", \"Switzerland\", \"Germany_Belgium\"]))\n",
    "\n",
    "# for each country, we will divide in import and export, depending on the sign of the corresponding column\n",
    "\n",
    "neighbors_columns = [\"England\", \"Spain\", \"Italy\", \"Switzerland\", \"Germany_Belgium\"]\n",
    "for col in neighbors_columns\n",
    "    # create a new import column, which values are positive if the original column is positive, and 0 otherwise\n",
    "    df[!, Symbol(col * \"_import\")] = max.(df[!, Symbol(col)], 0)\n",
    "    # create a new export column, which values are positive if the original column is negative, and 0 otherwise\n",
    "    df[!, Symbol(col * \"_export\")] = max.(-df[!, Symbol(col)], 0)\n",
    "end\n",
    "\n",
    "# drop the original columns\n",
    "df = df[:, Not(neighbors_columns)]\n",
    "\n",
    "\n",
    "# convert the date column to a string\n",
    "df[!, :Date] = string.(df[!, :Date])\n",
    "# convert the time column to a string\n",
    "df[!, :Time] = string.(df[!, :Time])\n",
    "# merge the date and time columns into a single column\n",
    "df[!, :DateTime] = df[!, :Date] .* \" \" .* df[!, :Time]\n",
    "# convert the DateTime column to a DateTime type\n",
    "df[!, :DateTime] = DateTime.(df[!, :DateTime], \"yyyy-mm-dd HH:MM:SS\")\n",
    "# convert date and time columns to a DateTime type\n",
    "df[!, :Date] = Date.(df[!, :Date], \"yyyy-mm-dd\")\n",
    "df[!, :Time] = Time.(df[!, :Time], \"HH:MM:SS\")\n",
    "\n",
    "# sort the dataframe by DateTime\n",
    "df = sort(df, :DateTime)\n",
    "# put the DateTime column as the first column\n",
    "df = df[:, [end; 1:end-1]]\n",
    "\n",
    "# the units are in MWh\n",
    "# convert the Any type to Float64\n",
    "df[!, :Consumption] = convert(Array{Float64}, df[!, :Consumption])\n",
    "df[!, :Fuel] = convert(Array{Float64}, df[!, :Fuel])\n",
    "df[!, :Coal] = convert(Array{Float64}, df[!, :Coal])\n",
    "df[!, :Gas] = convert(Array{Float64}, df[!, :Gas])\n",
    "df[!, :Nuclear] = convert(Array{Float64}, df[!, :Nuclear])\n",
    "df[!, :Wind] = convert(Array{Float64}, df[!, :Wind])\n",
    "df[!, :Solar] = convert(Array{Float64}, df[!, :Solar])\n",
    "df[!, :Hydraulic] = convert(Array{Float64}, df[!, :Hydraulic])\n",
    "df[!, :Bioenergy] = convert(Array{Float64}, df[!, :Bioenergy])\n",
    "df[!, :CO2] = convert(Array{Float64}, df[!, :CO2])\n",
    "df[!, :England_import] = convert(Array{Float64}, df[!, :England_import])\n",
    "df[!, :England_export] = convert(Array{Float64}, df[!, :England_export])\n",
    "df[!, :Spain_import] = convert(Array{Float64}, df[!, :Spain_import])\n",
    "df[!, :Spain_export] = convert(Array{Float64}, df[!, :Spain_export])\n",
    "df[!, :Italy_import] = convert(Array{Float64}, df[!, :Italy_import])\n",
    "df[!, :Italy_export] = convert(Array{Float64}, df[!, :Italy_export])\n",
    "df[!, :Switzerland_import] = convert(Array{Float64}, df[!, :Switzerland_import])\n",
    "df[!, :Switzerland_export] = convert(Array{Float64}, df[!, :Switzerland_export])\n",
    "df[!, :Germany_Belgium_import] = convert(Array{Float64}, df[!, :Germany_Belgium_import])\n",
    "df[!, :Germany_Belgium_export] = convert(Array{Float64}, df[!, :Germany_Belgium_export]);\n"
   ]
  },
  {
   "cell_type": "markdown",
   "metadata": {},
   "source": [
    "### Pre-processing"
   ]
  },
  {
   "cell_type": "code",
   "execution_count": 4,
   "metadata": {},
   "outputs": [
    {
     "data": {
      "text/plain": [
       "transform_data (generic function with 1 method)"
      ]
     },
     "execution_count": 4,
     "metadata": {},
     "output_type": "execute_result"
    }
   ],
   "source": [
    "Random.seed!(seed)\n",
    "\n",
    "function transform_data(df; push_nuclear=0.2, push_solar=0.15)\n",
    "    Random.seed!(seed)\n",
    "    inc_nuc = 1 + push_nuclear\n",
    "    inc_sol = 1 + push_solar\n",
    "    \n",
    "    # get max value of nuclear production overall\n",
    "    max_nuclear = maximum(df[!, :Nuclear])\n",
    "    df[!, :Nuclear_cap] = fill(max_nuclear* inc_nuc, size(df[!, :Nuclear]))\n",
    "    #max_hydraulic = maximum(df[!, :Hydraulic])\n",
    "    #df[!, :Hydraulic_cap] = fill(max_hydraulic* inc_nuc, size(df[!, :Hydraulic]))\n",
    "    max_bioenergy = maximum(df[!, :Bioenergy])\n",
    "    df[!, :Bioenergy_cap] = fill(max_bioenergy* inc_nuc, size(df[!, :Bioenergy]))\n",
    "\n",
    "\n",
    "    df[!, :Week] = Dates.week.(df[!, :Date])\n",
    "    # get the average production of gas, coal, fuel, solar and wind (and the maximum for hydraulic) for each week of the year in one dataframe\n",
    "    df_weekly = combine(groupby(df, :Week), :Solar => mean => :Solar_cap, :Wind => mean => :Wind_cap, :Gas => mean => :Gas_cap, :Coal => mean => :Coal_cap, :Fuel => mean => :Fuel_cap, :Hydraulic => maximum => :Hydraulic_cap)\n",
    "    # sort the dataframe by week\n",
    "    df_weekly = sort(df_weekly, :Week)\n",
    "    # add 20% to each column of df_weekly\n",
    "    df_weekly[!, :Solar_cap] = df_weekly[!, :Solar_cap] * inc_sol\n",
    "    df_weekly[!, :Wind_cap] = df_weekly[!, :Wind_cap] * inc_sol\n",
    "    df_weekly[!, :Gas_cap] = df_weekly[!, :Gas_cap] * inc_sol\n",
    "    df_weekly[!, :Coal_cap] = df_weekly[!, :Coal_cap] * inc_sol\n",
    "    df_weekly[!, :Fuel_cap] = df_weekly[!, :Fuel_cap] * inc_sol\n",
    "    \n",
    "    df_weekly[!, :Hydraulic_cap] = df_weekly[!, :Hydraulic_cap] * inc_nuc\n",
    "    # sort the dataframe by week\n",
    "    df_weekly = sort(df_weekly, :Week)\n",
    "    # merge the two dataframes df and df_weekly on week column\n",
    "    df = leftjoin(df, df_weekly, on=:Week)\n",
    "\n",
    "    cost_nuclear = 59.8:2:109.8\n",
    "    cost_wind = 90:1:90\n",
    "    cost_hydraulic = 15:0.5:20\n",
    "    cost_solar = 142:1:142\n",
    "    cost_gas = 70:2:100\n",
    "    cost_coal = 100:1:100\n",
    "    cost_fuel = 86:1:86\n",
    "    cost_bioenergy = 85:2:122\n",
    "\n",
    "    # create a vector of size 53 for each type of energy cost with random values in the range defined above\n",
    "    cost_nuclear = rand(cost_nuclear, 53)\n",
    "    # vary the costs with a random number in the std of the range of values\n",
    "    cost_nuclear = cost_nuclear .+ randn(53) * std(cost_nuclear)\n",
    "\n",
    "    cost_hydraulic = rand(cost_hydraulic, 53)\n",
    "    cost_hydraulic = cost_hydraulic .+ randn(53) * std(cost_hydraulic)\n",
    "\n",
    "    cost_gas = rand(cost_gas, 53)\n",
    "    cost_gas = cost_gas .+ randn(53) * std(cost_gas)\n",
    "\n",
    "    cost_bioenergy = rand(cost_bioenergy, 53)\n",
    "    cost_bioenergy = cost_bioenergy .+ randn(53) * std(cost_bioenergy)\n",
    "\n",
    "    cost_wind = rand(cost_wind, 53)\n",
    "    cost_wind = cost_wind .+ randn(53) * std(cost_wind)\n",
    "\n",
    "    cost_solar = rand(cost_solar, 53)\n",
    "    cost_solar = cost_solar .+ randn(53) * std(cost_solar)\n",
    "\n",
    "    cost_coal = rand(cost_coal, 53)\n",
    "    cost_coal = cost_coal .+ randn(53) * std(cost_coal)\n",
    "\n",
    "    cost_fuel = rand(cost_fuel, 53)\n",
    "    cost_fuel = cost_fuel .+ randn(53) * std(cost_fuel)\n",
    "\n",
    "    # create a dataframe with the cost of each type of energy\n",
    "    df_cost = DataFrame(Week = 1:53, Nuclear_cost = cost_nuclear, Wind_cost = cost_wind, Solar_cost = cost_solar, Gas_cost = cost_gas, Coal_cost = cost_coal, Fuel_cost = cost_fuel, Hydraulic_cost = cost_hydraulic, Bioenergy_cost = cost_bioenergy)\n",
    "\n",
    "    # sort the dataframe by week\n",
    "    df_cost = sort(df_cost, :Week)\n",
    "\n",
    "    # merge the two dataframes df and df_cost on week column\n",
    "    df = leftjoin(df, df_cost, on=:Week)\n",
    "\n",
    "    \n",
    "\n",
    "    df[!, :Total_cost] = (df[!, :Nuclear] .* df[!, :Nuclear_cost] .+ df[!, :Wind] .* df[!, :Wind_cost] .+ df[!, :Solar] .* df[!, :Solar_cost] .+ df[!, :Gas] .* df[!, :Gas_cost] .+ df[!, :Coal] .* df[!, :Coal_cost] .+ df[!, :Fuel] .* df[!, :Fuel_cost] .+ df[!, :Hydraulic] .* df[!, :Hydraulic_cost] .+ df[!, :Bioenergy] .* df[!, :Bioenergy_cost]) ./ (df[!, :Nuclear] .+ df[!, :Wind] .+ df[!, :Solar] .+ df[!, :Gas] .+ df[!, :Coal] .+ df[!, :Fuel] .+ df[!, :Hydraulic] .+ df[!, :Bioenergy])\n",
    "    # Create a column called \"Export_Price\" which is the Total_cost + (10 plus or minus 3%, randomly)\n",
    "    df[!, :Export_Price] = df[!, :Total_cost] .+ (df[!, :Total_cost] .* (0.1 .+ randn(size(df)[1]) * 0.03))\n",
    "\n",
    "    # Create a column called \"England_Price\"\n",
    "    # It is equal to 1000 if England_import==0 and Export_Price minus (10% plus or minus 3%) otherwise\n",
    "    df[!, :England_Price] = ifelse.(df[!, :England_import] .== 0, 1000, df[!, :Export_Price] .- (df[!, :Export_Price] .* (0.1 .+ randn(size(df)[1]) * 0.03)))\n",
    "    df[!, :Spain_Price] = ifelse.(df[!, :Spain_import] .== 0, 1000, df[!, :Export_Price] .- (df[!, :Export_Price] .* (0.15 .+ randn(size(df)[1]) * 0.03)))\n",
    "    df[!, :Italy_Price] = ifelse.(df[!, :Italy_import] .== 0, 1000, df[!, :Export_Price] .- (df[!, :Export_Price] .* (0.07 .+ randn(size(df)[1]) * 0.03)))\n",
    "    df[!, :Switzerland_Price] = ifelse.(df[!, :Switzerland_import] .== 0, 1000, df[!, :Export_Price] .- (df[!, :Export_Price] .* (0.1 .+ randn(size(df)[1]) * 0.03)))\n",
    "    df[!, :Germany_Belgium_Price] = ifelse.(df[!, :Germany_Belgium_import] .== 0, 1000, df[!, :Export_Price] .- (df[!, :Export_Price] .* (0.2 .+ randn(size(df)[1]) * 0.03)))\n",
    "\n",
    "    return df\n",
    "end"
   ]
  },
  {
   "cell_type": "markdown",
   "metadata": {},
   "source": [
    "### Eco-cost synthetic data"
   ]
  },
  {
   "cell_type": "markdown",
   "metadata": {},
   "source": [
    "For each source s, at each time t, we need an Eco-cost $f_{s,t}$"
   ]
  },
  {
   "cell_type": "code",
   "execution_count": 5,
   "metadata": {},
   "outputs": [
    {
     "data": {
      "text/plain": [
       "0.11652081241930631"
      ]
     },
     "execution_count": 5,
     "metadata": {},
     "output_type": "execute_result"
    }
   ],
   "source": [
    "Eco_cost_footprint = [0.0347, 0.0003, 0.0175, 0.0003, 0.0281, 0.0002, 0.0030, 0.0164, 0.0130, 0.0193, 0.0172, 0.0067, 0.0226, 0.0065, 0.0109, 0.0024, 0.0136, 0.0099, 0.0154, 0.0270, 0.0099, 0.0095, 0.0084, 0.0006, 0.0091, 0.0156]\n",
    "carbon_footprint_equiv = [0.30, 0.0023, 0.15, 0.00, 0.24, 0.0017, 0.03, 0.14, 0.11, 0.17, 0.15, 0.06, 0.19, 0.06, 0.09, 0.02, 0.12, 0.09, 0.13, 0.23, 0.08, 0.08, 0.07, 0.01, 0.08, 0.13]\n",
    "\n",
    "# compute the mean of carbon_footprint_equiv / Eco_cost_footprint\n",
    "mean_Eco_cost_carbon_footprint_equiv =  1 / mean(carbon_footprint_equiv ./ Eco_cost_footprint)"
   ]
  },
  {
   "cell_type": "code",
   "execution_count": 6,
   "metadata": {},
   "outputs": [
    {
     "data": {
      "text/plain": [
       "compute_eco_costs (generic function with 1 method)"
      ]
     },
     "execution_count": 6,
     "metadata": {},
     "output_type": "execute_result"
    }
   ],
   "source": [
    "function compute_eco_costs(df)\n",
    "\n",
    "    # compute mean of CO2 column in different units\n",
    "    CO2 = df[!, :CO2]\n",
    "    mean_CO2 = mean(CO2)\n",
    "    mean_CO2_GJ = mean_CO2 * 3.6\n",
    "\n",
    "    # add values human_health, eco_toxicity, resource_scarcity, carbon_footprint for each source of energy, based on US Idemat Data\n",
    "    fuel_info = [0.00246, 0.00821, 0.00007, 0.0281]\n",
    "    coal_info = [0.00340, 0.00497, 0.00046, 0.0347]\n",
    "    gas_info = [0.00324, 0.00294, 0.00013, 0.0175]\n",
    "    nuclear_info = [0.00008, 0.00051, 0.03812, 0.0003]\n",
    "\n",
    "    # we approximate all renewable energy sources with the same values\n",
    "    hydraulic_info = [0.00002, 0.00003, 0.00017, 0.0002]\n",
    "    bioenergy_info = [0.00002, 0.00003, 0.00017, 0.0002]\n",
    "    wind_info = [0.00002, 0.00003, 0.00017, 0.0002]\n",
    "    solar_info = [0.00002, 0.00003, 0.00017, 0.0002]\n",
    "\n",
    "    # get the mean production of each source of energy\n",
    "    mean_hydraulic = mean(df[!, :Hydraulic])\n",
    "    mean_bioenergy = mean(df[!, :Bioenergy])\n",
    "    mean_wind = mean(df[!, :Wind])\n",
    "    mean_solar = mean(df[!, :Solar])\n",
    "    mean_nuclear = mean(df[!, :Nuclear])\n",
    "    mean_gas = mean(df[!, :Gas])\n",
    "    mean_coal = mean(df[!, :Coal])\n",
    "    mean_fuel = mean(df[!, :Fuel])\n",
    "\n",
    "    # get the percentage of use of each source of energy\n",
    "    total_production = mean_hydraulic + mean_bioenergy + mean_wind + mean_solar + mean_nuclear + mean_gas + mean_coal + mean_fuel\n",
    "    percentage_hydraulic = mean_hydraulic / total_production\n",
    "    percentage_bioenergy = mean_bioenergy / total_production\n",
    "    percentage_wind = mean_wind / total_production\n",
    "    percentage_solar = mean_solar / total_production\n",
    "    percentage_nuclear = mean_nuclear / total_production\n",
    "    percentage_gas = mean_gas / total_production\n",
    "    percentage_coal = mean_coal / total_production\n",
    "    percentage_fuel = mean_fuel / total_production\n",
    "\n",
    "    # sum infos using the percentage of use of each source of energy\n",
    "    sum_info = percentage_hydraulic * hydraulic_info + percentage_bioenergy * bioenergy_info + percentage_wind * wind_info + percentage_solar * solar_info + percentage_nuclear * nuclear_info + percentage_gas * gas_info + percentage_coal * coal_info + percentage_fuel * fuel_info;\n",
    "\n",
    "\n",
    "    idemat_eco_cost_per_GJ = 18.19 # in euros/GJ\n",
    "    idemat_carbon_footprint_per_GJ = 20.40 # in kg/GJ\n",
    "\n",
    "    idemat_eco_costs = [0.21, 0.78, 14.83, 2.37] # in euros/GJ\n",
    "    idemat_proportions = idemat_eco_costs / sum(idemat_eco_costs)\n",
    "    # for each value in sum_info, determine the percentage of use of each source of energy\n",
    "\n",
    "    # percentages of impact of each source of energy on eco_cost\n",
    "    percentages_hydraulic = percentage_hydraulic .* hydraulic_info ./ sum_info .* idemat_proportions\n",
    "    percentages_bioenergy = percentage_bioenergy .* bioenergy_info ./ sum_info .* idemat_proportions\n",
    "    percentages_wind = percentage_wind .* wind_info ./ sum_info .* idemat_proportions\n",
    "    percentages_solar = percentage_solar .* solar_info ./ sum_info .* idemat_proportions\n",
    "    percentages_nuclear = percentage_nuclear .* nuclear_info ./ sum_info .* idemat_proportions\n",
    "    percentages_gas = percentage_gas .* gas_info ./ sum_info .* idemat_proportions\n",
    "    percentages_coal = percentage_coal .* coal_info ./ sum_info .* idemat_proportions\n",
    "    percentages_fuel = percentage_fuel .* fuel_info ./ sum_info .* idemat_proportions\n",
    "\n",
    "\n",
    "    idemat_eco_cost_per_MWh = idemat_eco_cost_per_GJ  / 3.6\n",
    "    idemat_carbon_footprint_per_MWh = idemat_carbon_footprint_per_GJ / 3.6\n",
    "\n",
    "    real_eco_cost_per_MWh = idemat_eco_cost_per_MWh / idemat_carbon_footprint_per_MWh * mean_CO2\n",
    "    real_eco_costs = idemat_proportions * real_eco_cost_per_MWh # in euros/MWh\n",
    "\n",
    "    # in euros/MWh\n",
    "    eco_costs_hydraulic = percentages_hydraulic .* real_eco_cost_per_MWh\n",
    "    eco_costs_bioenergy = percentages_bioenergy .* real_eco_cost_per_MWh\n",
    "    eco_costs_wind = percentages_wind .* real_eco_cost_per_MWh\n",
    "    eco_costs_solar = percentages_solar .* real_eco_cost_per_MWh\n",
    "    eco_costs_nuclear = percentages_nuclear .* real_eco_cost_per_MWh\n",
    "    eco_costs_gas = percentages_gas .* real_eco_cost_per_MWh\n",
    "    eco_costs_coal = percentages_coal .* real_eco_cost_per_MWh\n",
    "    eco_costs_fuel = percentages_fuel .* real_eco_cost_per_MWh\n",
    "\n",
    "    Hydraulic_Eco_cost = sum(eco_costs_hydraulic)\n",
    "    Bioenergy_Eco_cost = sum(eco_costs_bioenergy)\n",
    "    Wind_Eco_cost = sum(eco_costs_wind)\n",
    "    Solar_Eco_cost = sum(eco_costs_solar)\n",
    "    Nuclear_Eco_cost = sum(eco_costs_nuclear)\n",
    "    Gas_Eco_cost = sum(eco_costs_gas)\n",
    "    Coal_Eco_cost = sum(eco_costs_coal)\n",
    "    Fuel_Eco_cost = sum(eco_costs_fuel)\n",
    "\n",
    "    # create a little dataframe with the results\n",
    "    eco_costs = DataFrame(Source = [\"Hydraulic\", \"Bioenergy\", \"Wind\", \"Solar\", \"Nuclear\", \"Gas\", \"Coal\", \"Fuel\"],\n",
    "        Eco_cost = [Hydraulic_Eco_cost, Bioenergy_Eco_cost, Wind_Eco_cost, Solar_Eco_cost, Nuclear_Eco_cost, Gas_Eco_cost, Coal_Eco_cost, Fuel_Eco_cost])\n",
    "    \n",
    "    # sort the dataframe by the eco_cost\n",
    "    eco_costs = eco_costs[sortperm(eco_costs.Eco_cost), :]\n",
    "\n",
    "    # return the dataframe\n",
    "    return eco_costs\n",
    "end"
   ]
  },
  {
   "cell_type": "code",
   "execution_count": 7,
   "metadata": {},
   "outputs": [
    {
     "data": {
      "text/plain": [
       "compute_carbon_footprints (generic function with 1 method)"
      ]
     },
     "execution_count": 7,
     "metadata": {},
     "output_type": "execute_result"
    }
   ],
   "source": [
    "function compute_carbon_footprints(df)\n",
    "    # in kg/MWh\n",
    "    nuclear_footprint_estimates = [0.006, 0.006] * 1000\n",
    "    hydraulic_footprint_estimates = [0.006, 0.004] * 1000\n",
    "    wind_footprint_estimates = [0.0141, 0.0073] * 1000\n",
    "    solar_footprint_estimates = [0.0439, 0.055] * 1000\n",
    "    bioenergy_footprint_estimates = [0.045, 0.045] * 1000\n",
    "    gas_footprint_estimates = [0.418, 0.406] * 1000\n",
    "    fuel_footprint_estimates = [0.73, 0.704] * 1000\n",
    "    coal_footprint_estimates = [1.06, 1.038] * 1000\n",
    "\n",
    "    # store the mean of these estimates in a dataframe\n",
    "    mean_nuclear_footprint = mean(nuclear_footprint_estimates)\n",
    "    mean_hydraulic_footprint = mean(hydraulic_footprint_estimates)\n",
    "    mean_wind_footprint = mean(wind_footprint_estimates)\n",
    "    mean_solar_footprint = mean(solar_footprint_estimates)\n",
    "    mean_bioenergy_footprint = mean(bioenergy_footprint_estimates)\n",
    "    mean_gas_footprint = mean(gas_footprint_estimates)\n",
    "    mean_fuel_footprint = mean(fuel_footprint_estimates)\n",
    "    mean_coal_footprint = mean(coal_footprint_estimates)\n",
    "\n",
    "    # store the mean of these estimates in a dataframe\n",
    "    mean_footprints = DataFrame(Source = [\"Hydraulic\", \"Bioenergy\", \"Wind\", \"Solar\", \"Nuclear\", \"Gas\", \"Coal\", \"Fuel\"],\n",
    "        Mean_footprint = [mean_hydraulic_footprint, mean_bioenergy_footprint, mean_wind_footprint, mean_solar_footprint, mean_nuclear_footprint, mean_gas_footprint, mean_coal_footprint, mean_fuel_footprint])\n",
    "    \n",
    "    # sort the dataframe by the mean_footprint\n",
    "    mean_footprints = mean_footprints[sortperm(mean_footprints.Mean_footprint), :]\n",
    "\n",
    "    # return the dataframe\n",
    "    return mean_footprints\n",
    "end\n"
   ]
  },
  {
   "cell_type": "code",
   "execution_count": 8,
   "metadata": {},
   "outputs": [
    {
     "data": {
      "text/plain": [
       "compute_neighbors_eco_costs (generic function with 1 method)"
      ]
     },
     "execution_count": 8,
     "metadata": {},
     "output_type": "execute_result"
    }
   ],
   "source": [
    "function compute_neighbors_footprints(df)\n",
    "\n",
    "    # compute carbon footprint for other countries\n",
    "    idemat_France_carbon_footprint = 20.40 # in Kg/GJ\n",
    "    idemat_England_carbon_footprint = 77.80 # in Kg/GJ\n",
    "    idemat_Spain_carbon_footprint = 72.00 # in Kg/GJ\n",
    "    idemat_Italy_carbon_footprint = 83.81 # in Kg/GJ\n",
    "    idemat_Switzerland_carbon_footprint = 5.57 # in Kg/GJ\n",
    "    idemat_Germany_carbon_footprint = 116.92 # in Kg/GJ\n",
    "    idemat_Belgium_carbon_footprint = 57.48 # in Kg/GJ\n",
    "\n",
    "    idemat_Germany_Belgium_carbon_footprint = 580 / 673 * idemat_Germany_carbon_footprint  + 93 / 673 * idemat_Belgium_carbon_footprint\n",
    "\n",
    "    England_proportional_footprint = idemat_England_carbon_footprint / idemat_France_carbon_footprint\n",
    "    Spain_proportional_footprint = idemat_Spain_carbon_footprint / idemat_France_carbon_footprint\n",
    "    Italy_proportional_footprint = idemat_Italy_carbon_footprint / idemat_France_carbon_footprint\n",
    "    Switzerland_proportional_footprint = idemat_Switzerland_carbon_footprint / idemat_France_carbon_footprint\n",
    "    Germany_Belgium_proportional_footprint = idemat_Germany_Belgium_carbon_footprint / idemat_France_carbon_footprint\n",
    "\n",
    "    mean_Hydraulic = mean(df[!, :Hydraulic])\n",
    "    mean_Bioenergy = mean(df[!, :Bioenergy])\n",
    "    mean_Wind = mean(df[!, :Wind])\n",
    "    mean_Solar = mean(df[!, :Solar])\n",
    "    mean_Nuclear = mean(df[!, :Nuclear])\n",
    "    mean_Gas = mean(df[!, :Gas])\n",
    "    mean_Coal = mean(df[!, :Coal])\n",
    "    mean_Fuel = mean(df[!, :Fuel])\n",
    "\n",
    "    mean_total = mean_Hydraulic + mean_Bioenergy + mean_Wind + mean_Solar + mean_Nuclear + mean_Gas + mean_Coal + mean_Fuel\n",
    "\n",
    "    carbon_footprints_df = compute_carbon_footprints(df) # in Kg/MWh\n",
    "    total_carbon_footprint = 0\n",
    "    for source in carbon_footprints_df.Source\n",
    "        percentage = mean(df[!, Symbol(source)]) / mean_total\n",
    "        total_carbon_footprint += carbon_footprints_df[carbon_footprints_df.Source .== source, :Mean_footprint][1] * percentage\n",
    "    end\n",
    "\n",
    "    England_carbon_footprint = total_carbon_footprint * England_proportional_footprint\n",
    "    Spain_carbon_footprint = total_carbon_footprint * Spain_proportional_footprint\n",
    "    Italy_carbon_footprint = total_carbon_footprint * Italy_proportional_footprint\n",
    "    Switzerland_carbon_footprint = total_carbon_footprint * Switzerland_proportional_footprint\n",
    "    Germany_Belgium_carbon_footprint = total_carbon_footprint * Germany_Belgium_proportional_footprint\n",
    "\n",
    "    # return a dataframe with the carbon footprint of the neighbors\n",
    "    neighbors_carbon_footprints = DataFrame(Country = [\"England\", \"Spain\", \"Italy\", \"Switzerland\", \"Germany_Belgium\"],\n",
    "        Carbon_footprint = [England_carbon_footprint, Spain_carbon_footprint, Italy_carbon_footprint, Switzerland_carbon_footprint, Germany_Belgium_carbon_footprint])\n",
    "\n",
    "    # sort the dataframe by the carbon_footprint\n",
    "    neighbors_carbon_footprints = neighbors_carbon_footprints[sortperm(neighbors_carbon_footprints.Carbon_footprint), :]\n",
    "\n",
    "    # return the dataframe\n",
    "    return neighbors_carbon_footprints\n",
    "\n",
    "end\n",
    "\n",
    "\n",
    "function compute_neighbors_eco_costs(df)\n",
    "\n",
    "    idemat_France_eco_cost = 18.19 # in euros/GJ\n",
    "    idemat_England_eco_cost = 14.16 # in euros/GJ\n",
    "    idemat_Spain_eco_cost = 15.54 # in euros/GJ\n",
    "    idemat_Italy_eco_cost = 10.78 # in euros/GJ\n",
    "    idemat_Switzerland_eco_cost = 8.85 # in euros/GJ\n",
    "    idemat_Germany_eco_cost = 18.48 # in euros/GJ\n",
    "    idemat_Belgium_eco_cost = 17.14 # in euros/GJ\n",
    "\n",
    "    idemat_Germany_Belgium_eco_cost = 580 / 673 * idemat_Germany_eco_cost  + 93 / 673 * idemat_Belgium_eco_cost\n",
    "\n",
    "    England_proportional_eco_cost = idemat_England_eco_cost / idemat_France_eco_cost\n",
    "    Spain_proportional_eco_cost = idemat_Spain_eco_cost / idemat_France_eco_cost\n",
    "    Italy_proportional_eco_cost = idemat_Italy_eco_cost / idemat_France_eco_cost\n",
    "    Switzerland_proportional_eco_cost = idemat_Switzerland_eco_cost / idemat_France_eco_cost\n",
    "    Germany_Belgium_proportional_eco_cost = idemat_Germany_Belgium_eco_cost / idemat_France_eco_cost\n",
    "\n",
    "    mean_Hydraulic = mean(df[!, :Hydraulic])\n",
    "    mean_Bioenergy = mean(df[!, :Bioenergy])\n",
    "    mean_Wind = mean(df[!, :Wind])\n",
    "    mean_Solar = mean(df[!, :Solar])\n",
    "    mean_Nuclear = mean(df[!, :Nuclear])\n",
    "    mean_Gas = mean(df[!, :Gas])\n",
    "    mean_Coal = mean(df[!, :Coal])\n",
    "    mean_Fuel = mean(df[!, :Fuel])\n",
    "\n",
    "    mean_total = mean_Hydraulic + mean_Bioenergy + mean_Wind + mean_Solar + mean_Nuclear + mean_Gas + mean_Coal + mean_Fuel\n",
    "\n",
    "    eco_costs_df = compute_eco_costs(df) # in Kg/MWh\n",
    "    total_eco_cost = 0\n",
    "    for source in eco_costs_df.Source\n",
    "        percentage = mean(df[!, Symbol(source)]) / mean_total\n",
    "        total_eco_cost += eco_costs_df[eco_costs_df.Source .== source, :Eco_cost][1] * percentage\n",
    "    end\n",
    "\n",
    "    England_eco_cost = total_eco_cost * England_proportional_eco_cost\n",
    "    Spain_eco_cost = total_eco_cost * Spain_proportional_eco_cost\n",
    "    Italy_eco_cost = total_eco_cost * Italy_proportional_eco_cost\n",
    "    Switzerland_eco_cost = total_eco_cost * Switzerland_proportional_eco_cost\n",
    "    Germany_Belgium_eco_cost = total_eco_cost * Germany_Belgium_proportional_eco_cost\n",
    "\n",
    "    # return a dataframe with the eco cost of the neighbors\n",
    "    neighbors_eco_costs = DataFrame(Country = [\"England\", \"Spain\", \"Italy\", \"Switzerland\", \"Germany_Belgium\"],\n",
    "        Eco_cost = [England_eco_cost, Spain_eco_cost, Italy_eco_cost, Switzerland_eco_cost, Germany_Belgium_eco_cost]) \n",
    "\n",
    "    \n",
    "    # sort the dataframe by the Eco cost\n",
    "    neighbors_eco_costs = neighbors_eco_costs[sortperm(neighbors_eco_costs.Eco_cost), :]\n",
    "\n",
    "    # return the dataframe\n",
    "    return neighbors_eco_costs\n",
    "end\n",
    "    "
   ]
  },
  {
   "cell_type": "code",
   "execution_count": 9,
   "metadata": {},
   "outputs": [
    {
     "data": {
      "text/plain": [
       "rebalance_impact (generic function with 1 method)"
      ]
     },
     "execution_count": 9,
     "metadata": {},
     "output_type": "execute_result"
    }
   ],
   "source": [
    "eco_costs = compute_eco_costs(df)\n",
    "carbon_footprints = compute_carbon_footprints(df)\n",
    "neighbors_footprints = compute_neighbors_footprints(df)\n",
    "neighbors_eco_costs = compute_neighbors_eco_costs(df);\n",
    "\n",
    "# some information\n",
    "sources = [\"Hydraulic\", \"Bioenergy\", \"Wind\", \"Solar\", \"Nuclear\", \"Gas\", \"Coal\", \"Fuel\"]\n",
    "neighbors = [\"England\", \"Spain\", \"Italy\", \"Switzerland\", \"Germany_Belgium\"]\n",
    "\n",
    "\n",
    "# functions for impacts\n",
    "function env_impact(coef_eco_cost)\n",
    "    # create a list of impact for each source\n",
    "    impact = zeros(8)\n",
    "    for i in 1:8\n",
    "        # impact[i] = (1-coef_eco_cost) * carbon_footprints[source is sources[i]] + coef_eco_cost * eco_costs[source is sources[i]]\n",
    "        mean_footprint = carbon_footprints[carbon_footprints.Source .== sources[i], :][!, :Mean_footprint][1]\n",
    "        eco_cost = eco_costs[eco_costs.Source .== sources[i], :][!, :Eco_cost][1]\n",
    "        impact[i] = (1-coef_eco_cost) * mean_footprint + coef_eco_cost * eco_cost\n",
    "    end\n",
    "\n",
    "    # create a dataframe with the impact\n",
    "    df_impact = DataFrame(Source = sources, Impact = impact)\n",
    "    # sort the dataframe by impact\n",
    "    df_impact = sort(df_impact, :Impact, rev = false)\n",
    "\n",
    "    return df_impact\n",
    "end\n",
    "\n",
    "\n",
    "function neighbors_impact(coef_eco_cost)\n",
    "    # create a list of impact for each neighbor\n",
    "    impact = zeros(5)\n",
    "    for i in 1:5\n",
    "        carbon_footprint = neighbors_footprints[neighbors_footprints.Country .== neighbors[i], :][!, :Carbon_footprint][1]\n",
    "        eco_cost = neighbors_eco_costs[neighbors_eco_costs.Country .== neighbors[i], :][!, :Eco_cost][1]\n",
    "        impact[i] = (1-coef_eco_cost) * carbon_footprint + coef_eco_cost * eco_cost\n",
    "    end\n",
    "\n",
    "    # create a dataframe with the impact\n",
    "    df_impact = DataFrame(Country = neighbors, Impact = impact)\n",
    "    # sort the dataframe by impact\n",
    "    df_impact = sort(df_impact, :Impact, rev = false)\n",
    "\n",
    "    return df_impact\n",
    "end    \n",
    "\n",
    "\n",
    "\n",
    "function sustainable_df(df_base, df_impact, df_neigh_impact)\n",
    "    # copy of df\n",
    "    df_sust = copy(df_base)\n",
    "    # add carbon_footprint column for each source\n",
    "    df_sust[!, :Hydraulic_impact] .= df_impact[df_impact.Source .== \"Hydraulic\", :Impact][1]\n",
    "    df_sust[!, :Nuclear_impact] .= df_impact[df_impact.Source .== \"Nuclear\", :Impact][1]\n",
    "    df_sust[!, :Wind_impact] .= df_impact[df_impact.Source .== \"Wind\", :Impact][1]\n",
    "    df_sust[!, :Solar_impact] .= df_impact[df_impact.Source .== \"Solar\", :Impact][1]\n",
    "    df_sust[!, :Bioenergy_impact] .= df_impact[df_impact.Source .== \"Bioenergy\", :Impact][1]\n",
    "    df_sust[!, :Fuel_impact] .= df_impact[df_impact.Source .== \"Fuel\", :Impact][1]\n",
    "    df_sust[!, :Coal_impact] .= df_impact[df_impact.Source .== \"Coal\", :Impact][1]\n",
    "    df_sust[!, :Gas_impact] .= df_impact[df_impact.Source .== \"Gas\", :Impact][1]\n",
    "\n",
    "    # total impact\n",
    "    df_sust[!, :Total_impact] = (df_sust[!, :Nuclear] .* df_sust[!, :Nuclear_impact] .+ df_sust[!, :Wind] .* df_sust[!, :Wind_impact] .+ df_sust[!, :Solar] .* df_sust[!, :Solar_impact] .+ df_sust[!, :Gas] .* df_sust[!, :Gas_impact] .+ df_sust[!, :Coal] .* df_sust[!, :Coal_impact] .+ df_sust[!, :Fuel] .* df_sust[!, :Fuel_impact] .+ df_sust[!, :Hydraulic] .* df_sust[!, :Hydraulic_impact] .+ df_sust[!, :Bioenergy] .* df_sust[!, :Bioenergy_impact]) ./ (df_sust[!, :Nuclear] .+ df_sust[!, :Wind] .+ df_sust[!, :Solar] .+ df_sust[!, :Gas] .+ df_sust[!, :Coal] .+ df_sust[!, :Fuel] .+ df_sust[!, :Hydraulic] .+ df_sust[!, :Bioenergy])\n",
    "\n",
    "\n",
    "    # add carbon_footprint for each neighbor country\n",
    "    df_sust[!, :Switzerland_impact] .= df_neigh_impact[df_neigh_impact[!, :Country] .== \"Switzerland\", :Impact][1]\n",
    "    df_sust[!, :Italy_impact] .= df_neigh_impact[df_neigh_impact[!, :Country] .== \"Italy\", :Impact][1]\n",
    "    df_sust[!, :Germany_Belgium_impact] .= df_neigh_impact[df_neigh_impact[!, :Country] .== \"Germany_Belgium\", :Impact][1]\n",
    "    df_sust[!, :England_impact] .= df_neigh_impact[df_neigh_impact[!, :Country] .== \"England\", :Impact][1]\n",
    "    df_sust[!, :Spain_impact] .= df_neigh_impact[df_neigh_impact[!, :Country] .== \"Spain\", :Impact][1]\n",
    "\n",
    "    # return the dataframe\n",
    "    return df_sust\n",
    "end\n",
    "\n",
    "\n",
    "function rebalance_impact(df_base)\n",
    "    df_sust = copy(df_base)\n",
    "    max_cost = maximum(df_sust[!, :Total_cost])\n",
    "    max_impact = maximum(df_sust[!, :Total_impact])\n",
    "\n",
    "    # rebalance impact based on cost\n",
    "    for source in sources\n",
    "        df_sust[!, Symbol(source * \"_impact\")] .= df_sust[!, Symbol(source * \"_impact\")] .* max_cost ./ max_impact\n",
    "    end\n",
    "\n",
    "    for neighbor in neighbors\n",
    "        df_sust[!, Symbol(neighbor * \"_impact\")] .= df_sust[!, Symbol(neighbor * \"_impact\")] .* max_cost ./ max_impact\n",
    "    end\n",
    "\n",
    "    df_sust[!, :Total_impact] .= df_sust[!, :Total_impact] .* max_cost ./ max_impact\n",
    "\n",
    "    return df_sust\n",
    "end"
   ]
  },
  {
   "cell_type": "code",
   "execution_count": 10,
   "metadata": {},
   "outputs": [],
   "source": [
    "coef_eco_cost = 0.7\n",
    "df_env_impact = env_impact(coef_eco_cost)\n",
    "df_neighbors_impact = neighbors_impact(coef_eco_cost);"
   ]
  },
  {
   "cell_type": "markdown",
   "metadata": {},
   "source": [
    "## Optimization Formulation"
   ]
  },
  {
   "cell_type": "markdown",
   "metadata": {},
   "source": [
    "### Some useful functions"
   ]
  },
  {
   "cell_type": "code",
   "execution_count": 11,
   "metadata": {},
   "outputs": [],
   "source": [
    "# transform dataframe\n",
    "df_transformed = transform_data(df)\n",
    "df_baseline = sustainable_df(df_transformed, df_env_impact, df_neighbors_impact);\n",
    "df_baseline = rebalance_impact(df_baseline);"
   ]
  },
  {
   "cell_type": "code",
   "execution_count": 12,
   "metadata": {},
   "outputs": [],
   "source": [
    "# total hydraulic production from MWh to TWh\n",
    "#sum(df_baseline[!, :Hydraulic]) / 1000000\n",
    "\n",
    "# print 20 biggest values in hydraulic column\n",
    "#sort(df_baseline[!, :Hydraulic], rev = true)[1:20]\n",
    "\n",
    "# print mean of hydraulic column\n",
    "#mean(df_baseline[!, :Hydraulic])"
   ]
  },
  {
   "cell_type": "code",
   "execution_count": 13,
   "metadata": {},
   "outputs": [],
   "source": [
    "# for each source, add coefficient lambda = p * cost to produce 1 MWh of energy with this source\n",
    "lambda_factor = 10\n",
    "df_baseline[!, :Lambda_Hydraulic] = lambda_factor .* df_baseline[!, :Hydraulic_cost]\n",
    "df_baseline[!, :Lambda_Bioenergy] = lambda_factor .* df_baseline[!, :Bioenergy_cost]\n",
    "df_baseline[!, :Lambda_Wind] = lambda_factor .* df_baseline[!, :Wind_cost]\n",
    "df_baseline[!, :Lambda_Solar] = lambda_factor .* df_baseline[!, :Solar_cost]\n",
    "df_baseline[!, :Lambda_Nuclear] = lambda_factor .* df_baseline[!, :Nuclear_cost]\n",
    "df_baseline[!, :Lambda_Gas] = lambda_factor .* df_baseline[!, :Gas_cost]\n",
    "df_baseline[!, :Lambda_Coal] = lambda_factor .* df_baseline[!, :Coal_cost]\n",
    "df_baseline[!, :Lambda_Fuel] = lambda_factor .* df_baseline[!, :Fuel_cost];"
   ]
  },
  {
   "cell_type": "code",
   "execution_count": 14,
   "metadata": {},
   "outputs": [
    {
     "data": {
      "text/plain": [
       "compute_national_impact (generic function with 1 method)"
      ]
     },
     "execution_count": 14,
     "metadata": {},
     "output_type": "execute_result"
    }
   ],
   "source": [
    "function lambda_baseline_cost(x, y, z, df_base)\n",
    "    # for each row of the dataframe, compute a cost\n",
    "    # x is the amount of energy produced by each source\n",
    "    # y is the amount of energy imported from each country\n",
    "    # z is the amount of energy exported to each country\n",
    "    T = size(df_base, 1)\n",
    "\n",
    "    # add production cost\n",
    "    production_cost = 0\n",
    "    for i in 1:size(sources, 1)\n",
    "        # add cost of producing energy with each source\n",
    "        production_cost += sum(x[:, i] .* df_base[!, Symbol(sources[i] * \"_cost\")])\n",
    "        # add lambda cost of exceeding maximum cap\n",
    "        production_cost += sum(x[:, i] .- df_base[!, Symbol(sources[i] * \"_cap\")] .* df_base[!, Symbol(\"Lambda_\" * sources[i])])\n",
    "    end\n",
    "\n",
    "    # add import cost\n",
    "    import_cost = 0\n",
    "    for i in 1:size(neighbors, 1)\n",
    "        # add cost of importing energy from each neighbor\n",
    "        import_cost += sum(y[:, i] .* df_base[!, Symbol(neighbors[i] * \"_Price\")])\n",
    "    end\n",
    "\n",
    "    # add export revenue\n",
    "    export_revenue = 0\n",
    "    for i in 1:size(neighbors, 1)\n",
    "        # add cost of exporting energy to each neighbor\n",
    "        export_revenue += sum(z[:, i] .* df_base[!, \"Export_Price\"])\n",
    "    end     \n",
    "\n",
    "    # return the total cost\n",
    "    return production_cost + import_cost - export_revenue\n",
    "end\n",
    "\n",
    "\n",
    "function real_baseline_cost(x, y, z, df_base)\n",
    "    # for each row of the dataframe, compute a cost\n",
    "    # x is the amount of energy produced by each source\n",
    "    # y is the amount of energy imported from each country\n",
    "    # z is the amount of energy exported to each country\n",
    "\n",
    "    # add production cost\n",
    "    production_cost = 0\n",
    "    for i in 1:size(sources, 1)\n",
    "        # add cost of producing energy with each source\n",
    "        production_cost += sum(x[:, i] .* df_base[!, Symbol(sources[i] * \"_cost\")])\n",
    "    end\n",
    "\n",
    "    # add import cost\n",
    "    import_cost = 0\n",
    "    for i in 1:size(neighbors, 1)\n",
    "        # add cost of importing energy from each neighbor\n",
    "        import_cost += sum(y[:, i] .* df_base[!, Symbol(neighbors[i] * \"_Price\")])\n",
    "    end\n",
    "\n",
    "    # add export revenue\n",
    "    export_revenue = 0\n",
    "    for i in 1:size(neighbors, 1)\n",
    "        # add cost of exporting energy to each neighbor\n",
    "        export_revenue += sum(z[:, i] .* df_base[!, \"Export_Price\"])\n",
    "    end    \n",
    "\n",
    "    # return the total cost\n",
    "    return production_cost + import_cost - export_revenue\n",
    "end\n",
    "\n",
    "\n",
    "#function to convert the optimal values to a dataframe\n",
    "function convert_to_df(x, y, z, df_base)\n",
    "    # create a new dataframe\n",
    "    df_convert = DataFrame()\n",
    "\n",
    "    # add the time column, and Date column\n",
    "    df_convert[!, :Time] = df_base[!, :Time]\n",
    "    df_convert[!, :Date] = df_base[!, :Date]\n",
    "\n",
    "    # add the production columns\n",
    "    for i in 1:size(sources, 1)\n",
    "        df_convert[!, Symbol(sources[i])] = x[:, i]\n",
    "    end\n",
    "\n",
    "    # add the import columns\n",
    "    for i in 1:size(neighbors, 1)\n",
    "        df_convert[!, Symbol(neighbors[i] * \"_import\")] = y[:, i]\n",
    "    end\n",
    "\n",
    "    # add the export columns\n",
    "    for i in 1:size(neighbors, 1)\n",
    "        df_convert[!, Symbol(neighbors[i] * \"_export\")] = z[:, i]\n",
    "    end\n",
    "\n",
    "    # return the dataframe\n",
    "    return df_convert\n",
    "end\n",
    "\n",
    "\n",
    "# daily info\n",
    "function daily_total(df_base)\n",
    "    # copy of df_base\n",
    "    df_daily = copy(df_base)\n",
    "    # create day column from the Date column\n",
    "    df_daily[!, :Day] = Dates.day.(df_daily[!, :Date])\n",
    "    # drop the Time and Date columns\n",
    "    df_daily = select(df_daily, Not([:Time, :Date]))\n",
    "    # group by day\n",
    "    df_daily = combine(groupby(df_daily, :Day), :Hydraulic => sum, :Bioenergy => sum, :Wind => sum, :Solar => sum, :Nuclear => sum, :Gas => sum, :Coal => sum, :Fuel => sum, :England_import => sum, :Spain_import => sum, :Italy_import => sum, :Switzerland_import => sum, :Germany_Belgium_import => sum, :England_export => sum, :Spain_export => sum, :Italy_export => sum, :Switzerland_export => sum, :Germany_Belgium_export => sum)\n",
    "    \n",
    "    # return the dataframe\n",
    "    return df_daily\n",
    "end\n",
    "\n",
    "\n",
    "function daily_average(df_base)\n",
    "    # copy of df_base\n",
    "    df_daily = copy(df_base)\n",
    "    # create day column from the Date column\n",
    "    df_daily[!, :Day] = Dates.day.(df_daily[!, :Date])\n",
    "    # drop the Time and Date columns\n",
    "    df_daily = select(df_daily, Not([:Time, :Date]))\n",
    "    # group by day\n",
    "    df_daily = combine(groupby(df_daily, :Day), :Hydraulic => mean, :Bioenergy => mean, :Wind => mean, :Solar => mean, :Nuclear => mean, :Gas => mean, :Coal => mean, :Fuel => mean, :England_import => mean, :Spain_import => mean, :Italy_import => mean, :Switzerland_import => mean, :Germany_Belgium_import => mean, :England_export => mean, :Spain_export => mean, :Italy_export => mean, :Switzerland_export => mean, :Germany_Belgium_export => mean)\n",
    "    \n",
    "    # return the dataframe\n",
    "    return df_daily\n",
    "end\n",
    "    \n",
    "\n",
    "\n",
    "### Functions to compute results\n",
    "function compute_production_cost(x_optim, df_base)\n",
    "\n",
    "    production_cost = 0\n",
    "    for i in 1:size(sources, 1)\n",
    "        # add cost of producing energy with each source\n",
    "        production_cost += sum(x_optim[:, i] .* df_base[!, Symbol(sources[i] * \"_cost\")])\n",
    "    end\n",
    "\n",
    "    return production_cost\n",
    "end\n",
    "\n",
    "\n",
    "function compute_total_impact(x, y, df_base)\n",
    "    T = size(df_base, 1)\n",
    "\n",
    "    # add production cost\n",
    "    production_impact = 0\n",
    "    for i in 1:size(sources, 1)\n",
    "        # add cost of producing energy with each source\n",
    "        production_impact += sum(x[:, i] .* df_base[!, Symbol(sources[i] * \"_impact\")])\n",
    "    end\n",
    "\n",
    "    # add import cost\n",
    "    import_impact = 0\n",
    "    for i in 1:size(neighbors, 1)\n",
    "        # add cost of importing energy from each neighbor\n",
    "        import_impact += sum(y[:, i] .* df_base[!, Symbol(neighbors[i] * \"_impact\")])\n",
    "    end   \n",
    "\n",
    "    # return the total impact\n",
    "    return production_impact + import_impact\n",
    "end\n",
    "\n",
    "\n",
    "function compute_national_impact(x, y, z, df_base)\n",
    "    # we do the same, but we only consider the production impact for the energy that is used in our country, not for the energy that is used in our export\n",
    "    # it means that we remove some z to each x, proportionnaly\n",
    "    x_local = copy(x)\n",
    "    T = size(x, 1)\n",
    "    for t in 1:T\n",
    "        x_tot = sum(x[t,:])\n",
    "        x_percentages = x[t,:] / x_tot\n",
    "        z_tot = sum(z[t,:])\n",
    "        x_local[t,:] .= x[t,:] .- z_tot * x_percentages\n",
    "    end\n",
    "\n",
    "    local_impact = compute_total_impact(x_local, y, df_base)\n",
    "    return local_impact\n",
    "end"
   ]
  },
  {
   "cell_type": "markdown",
   "metadata": {},
   "source": [
    "### RTE baseline"
   ]
  },
  {
   "cell_type": "code",
   "execution_count": 15,
   "metadata": {},
   "outputs": [
    {
     "name": "stdout",
     "output_type": "stream",
     "text": [
      "Real baseline cost: 7.168127901958434e10\n",
      "Production cost: 7.982802098431168e10\n",
      "Environmental impact: 8.130534684212953e10\n",
      "National impact: 7.24489486868747e10"
     ]
    }
   ],
   "source": [
    "### RTE baseline cost\n",
    "T = size(df_baseline, 1)\n",
    "x_rte = zeros(T, 8)\n",
    "y_rte = zeros(T, 5)\n",
    "z_rte = zeros(T, 5)\n",
    "\n",
    "for i in 1:size(sources, 1)\n",
    "    x_rte[:, i] .= df_baseline[!, Symbol(sources[i])]\n",
    "end\n",
    "\n",
    "for i in 1:size(neighbors, 1)\n",
    "    y_rte[:, i] .= df_baseline[!, Symbol(neighbors[i] * \"_import\")]\n",
    "    z_rte[:, i] .= df_baseline[!, Symbol(neighbors[i] * \"_export\")]\n",
    "end\n",
    "\n",
    "# compute the cost\n",
    "\n",
    "total_cost_rte = real_baseline_cost(x_rte, y_rte, z_rte, df_baseline)\n",
    "production_cost_rte = compute_production_cost(x_rte, df_baseline)\n",
    "total_impact_rte = compute_total_impact(x_rte, y_rte, df_baseline)\n",
    "national_impact_rte = compute_national_impact(x_rte, y_rte, z_rte, df_baseline)\n",
    "\n",
    "println(\"Real baseline cost: \", total_cost_rte);\n",
    "println(\"Production cost: \", production_cost_rte);\n",
    "println(\"Environmental impact: \", total_impact_rte)\n",
    "print(\"National impact: \", national_impact_rte)"
   ]
  },
  {
   "cell_type": "markdown",
   "metadata": {},
   "source": [
    "### Baseline scenario"
   ]
  },
  {
   "cell_type": "code",
   "execution_count": 16,
   "metadata": {},
   "outputs": [
    {
     "data": {
      "text/plain": [
       "baseline_optimizer (generic function with 1 method)"
      ]
     },
     "execution_count": 16,
     "metadata": {},
     "output_type": "execute_result"
    }
   ],
   "source": [
    "# function to build a Gurobi Optimizer to optimize the baseline_cost\n",
    "function baseline_optimizer(df_base)\n",
    "\n",
    "    # create a Gurobi Optimizer\n",
    "    model = Model(Gurobi.Optimizer)\n",
    "    set_optimizer_attribute(model, \"OutputFlag\", 0)\n",
    "\n",
    "    # add variables\n",
    "    T = size(df_base, 1)\n",
    "    @variable(model, x[1:T, 1:8] >= 0) # production of energy with each source\n",
    "    @variable(model, y[1:T, 1:5] >= 0) # import of energy from each neighbor\n",
    "    @variable(model, z[1:T, 1:5] >= 0) # export of energy to each neighbor\n",
    "\n",
    "    # add objective\n",
    "    #@objective(model, Min, lambda_baseline_cost(x, y, z, df_base))\n",
    "    @objective(model, Min, real_baseline_cost(x, y, z, df_base))\n",
    "\n",
    "\n",
    "    # add constraints\n",
    "    # Demand constraint, we need to produce enough energy for France\n",
    "    @constraint(model, [t in 1:T], sum(x[t, :]) + sum(y[t, :]) - sum(z[t, :]) >= df_base[t, :Consumption])\n",
    "\n",
    "    # maximum import available constraint\n",
    "    @constraint(model, [t in 1:T, i in 1:5], y[t, i] <= df_base[t, Symbol(neighbors[i] * \"_import\")])\n",
    "\n",
    "    # maximum export available constraint\n",
    "    @constraint(model, [t in 1:T, i in 1:5], z[t, i] <= df_base[t, Symbol(neighbors[i] * \"_export\")])\n",
    "\n",
    "    # maximum production constraint\n",
    "    @constraint(model, [t in 1:T, i in 1:8], x[t, i] <= df_base[t, Symbol(sources[i] * \"_cap\")])\n",
    "\n",
    "    \n",
    "    # optimize\n",
    "    optimize!(model)\n",
    "\n",
    "    # return the optimizer\n",
    "    return model\n",
    "end"
   ]
  },
  {
   "cell_type": "code",
   "execution_count": 17,
   "metadata": {},
   "outputs": [
    {
     "name": "stdout",
     "output_type": "stream",
     "text": [
      "Set parameter Username\n",
      "Academic license - for non-commercial use only - expires 2023-08-18\n",
      "Real baseline cost: 5.6845365247899124e10\n",
      "Production cost: 5.919372222370016e10\n",
      "Environmental impact: 6.432565761378133e10\n",
      "National impact: 6.097841405539017e10\n",
      "\n",
      "Proportional total cost: 0.7930294496052194\n",
      "Proportional Production cost: 0.7415155918162282\n",
      "Proportional Environmental impact: 0.7911614686138952\n",
      "Proportional National impact: 0.8416742431824604"
     ]
    }
   ],
   "source": [
    "model_1 = baseline_optimizer(df_baseline);\n",
    "\n",
    "# get the optimal values\n",
    "x_opt_baseline = value.(model_1[:x])\n",
    "y_opt_baseline = value.(model_1[:y])\n",
    "z_opt_baseline = value.(model_1[:z])\n",
    "\n",
    "# convert the optimal values to a dataframe\n",
    "df_opt_baseline = convert_to_df(x_opt_baseline, y_opt_baseline, z_opt_baseline, df_baseline)\n",
    "\n",
    "\n",
    "# compute the cost\n",
    "println(\"Real baseline cost: \", real_baseline_cost(x_opt_baseline, y_opt_baseline, z_opt_baseline, df_baseline));\n",
    "println(\"Production cost: \", compute_production_cost(x_opt_baseline, df_baseline));\n",
    "println(\"Environmental impact: \", compute_total_impact(x_opt_baseline, y_opt_baseline, df_baseline))\n",
    "print(\"National impact: \", compute_national_impact(x_opt_baseline, y_opt_baseline, z_opt_baseline, df_baseline))\n",
    "\n",
    "# compute proportional cost (compared to rte)\n",
    "println(\"\\n\")\n",
    "println(\"Proportional total cost: \", real_baseline_cost(x_opt_baseline, y_opt_baseline, z_opt_baseline, df_baseline) / total_cost_rte);\n",
    "println(\"Proportional Production cost: \", compute_production_cost(x_opt_baseline, df_baseline) / production_cost_rte);\n",
    "println(\"Proportional Environmental impact: \", compute_total_impact(x_opt_baseline, y_opt_baseline, df_baseline) / total_impact_rte)\n",
    "print(\"Proportional National impact: \", compute_national_impact(x_opt_baseline, y_opt_baseline, z_opt_baseline, df_baseline) / national_impact_rte)"
   ]
  },
  {
   "cell_type": "code",
   "execution_count": 18,
   "metadata": {},
   "outputs": [
    {
     "name": "stdout",
     "output_type": "stream",
     "text": [
      "Mean production of Hydraulic in RTE: 7377.761384335155\n",
      "Mean production of Hydraulic in optimized: 15377.357377049182\n",
      " \n",
      "Mean production of Bioenergy in RTE: 1101.8541666666667\n",
      "Mean production of Bioenergy in optimized: 570.0983606557377\n",
      " \n",
      "Mean production of Wind in RTE: 4519.61327413479\n",
      "Mean production of Wind in optimized: 2580.4131773679433\n",
      " \n",
      "Mean production of Solar in RTE: 1418.623235428051\n",
      "Mean production of Solar in optimized: 0.0\n",
      " \n",
      "Mean production of Nuclear in RTE: 38161.20446265938\n",
      "Mean production of Nuclear in optimized: 30452.90454804188\n",
      " \n",
      "Mean production of Gas in RTE: 3924.005806010929\n",
      "Mean production of Gas in optimized: 3179.3721653005477\n",
      " \n",
      "Mean production of Coal in RTE: 155.61236338797815\n",
      "Mean production of Coal in optimized: 50.201872723133\n",
      " \n",
      "Mean production of Fuel in RTE: 105.55265255009107\n",
      "Mean production of Fuel in optimized: 71.2095343806922\n",
      " \n"
     ]
    }
   ],
   "source": [
    "# compare mean production values in RTE and optimized\n",
    "for i in 1:size(sources, 1)\n",
    "    println(\"Mean production of \", sources[i], \" in RTE: \", mean(df_baseline[!, Symbol(sources[i])]))\n",
    "    println(\"Mean production of \", sources[i], \" in optimized: \", mean(x_opt_baseline[:, i]))\n",
    "    println(\" \")\n",
    "end"
   ]
  },
  {
   "cell_type": "code",
   "execution_count": 19,
   "metadata": {},
   "outputs": [
    {
     "data": {
      "text/html": [
       "<div><div style = \"float: left;\"><span>31×19 DataFrame</span></div><div style = \"float: right;\"><span style = \"font-style: italic;\">6 rows omitted</span></div><div style = \"clear: both;\"></div></div><div class = \"data-frame\" style = \"overflow-x: scroll;\"><table class = \"data-frame\" style = \"margin-bottom: 6px;\"><thead><tr class = \"header\"><th class = \"rowNumber\" style = \"font-weight: bold; text-align: right;\">Row</th><th style = \"text-align: left;\">Day</th><th style = \"text-align: left;\">Hydraulic_mean</th><th style = \"text-align: left;\">Bioenergy_mean</th><th style = \"text-align: left;\">Wind_mean</th><th style = \"text-align: left;\">Solar_mean</th><th style = \"text-align: left;\">Nuclear_mean</th><th style = \"text-align: left;\">Gas_mean</th><th style = \"text-align: left;\">Coal_mean</th><th style = \"text-align: left;\">Fuel_mean</th><th style = \"text-align: left;\">England_import_mean</th><th style = \"text-align: left;\">Spain_import_mean</th><th style = \"text-align: left;\">Italy_import_mean</th><th style = \"text-align: left;\">Switzerland_import_mean</th><th style = \"text-align: left;\">Germany_Belgium_import_mean</th><th style = \"text-align: left;\">England_export_mean</th><th style = \"text-align: left;\">Spain_export_mean</th><th style = \"text-align: left;\">Italy_export_mean</th><th style = \"text-align: left;\">Switzerland_export_mean</th><th style = \"text-align: left;\">Germany_Belgium_export_mean</th></tr><tr class = \"subheader headerLastRow\"><th class = \"rowNumber\" style = \"font-weight: bold; text-align: right;\"></th><th title = \"Int64\" style = \"text-align: left;\">Int64</th><th title = \"Float64\" style = \"text-align: left;\">Float64</th><th title = \"Float64\" style = \"text-align: left;\">Float64</th><th title = \"Float64\" style = \"text-align: left;\">Float64</th><th title = \"Float64\" style = \"text-align: left;\">Float64</th><th title = \"Float64\" style = \"text-align: left;\">Float64</th><th title = \"Float64\" style = \"text-align: left;\">Float64</th><th title = \"Float64\" style = \"text-align: left;\">Float64</th><th title = \"Float64\" style = \"text-align: left;\">Float64</th><th title = \"Float64\" style = \"text-align: left;\">Float64</th><th title = \"Float64\" style = \"text-align: left;\">Float64</th><th title = \"Float64\" style = \"text-align: left;\">Float64</th><th title = \"Float64\" style = \"text-align: left;\">Float64</th><th title = \"Float64\" style = \"text-align: left;\">Float64</th><th title = \"Float64\" style = \"text-align: left;\">Float64</th><th title = \"Float64\" style = \"text-align: left;\">Float64</th><th title = \"Float64\" style = \"text-align: left;\">Float64</th><th title = \"Float64\" style = \"text-align: left;\">Float64</th><th title = \"Float64\" style = \"text-align: left;\">Float64</th></tr></thead><tbody><tr><td class = \"rowNumber\" style = \"font-weight: bold; text-align: right;\">1</td><td style = \"text-align: right;\">1</td><td style = \"text-align: right;\">15553.9</td><td style = \"text-align: right;\">414.0</td><td style = \"text-align: right;\">2227.72</td><td style = \"text-align: right;\">0.0</td><td style = \"text-align: right;\">29744.1</td><td style = \"text-align: right;\">3076.88</td><td style = \"text-align: right;\">21.6001</td><td style = \"text-align: right;\">82.3526</td><td style = \"text-align: right;\">145.167</td><td style = \"text-align: right;\">687.835</td><td style = \"text-align: right;\">61.9531</td><td style = \"text-align: right;\">149.601</td><td style = \"text-align: right;\">1115.13</td><td style = \"text-align: right;\">709.519</td><td style = \"text-align: right;\">555.781</td><td style = \"text-align: right;\">902.372</td><td style = \"text-align: right;\">921.342</td><td style = \"text-align: right;\">454.571</td></tr><tr><td class = \"rowNumber\" style = \"font-weight: bold; text-align: right;\">2</td><td style = \"text-align: right;\">2</td><td style = \"text-align: right;\">15550.6</td><td style = \"text-align: right;\">552.0</td><td style = \"text-align: right;\">2726.47</td><td style = \"text-align: right;\">0.0</td><td style = \"text-align: right;\">29616.5</td><td style = \"text-align: right;\">3389.73</td><td style = \"text-align: right;\">22.3126</td><td style = \"text-align: right;\">83.4701</td><td style = \"text-align: right;\">190.632</td><td style = \"text-align: right;\">773.116</td><td style = \"text-align: right;\">77.9931</td><td style = \"text-align: right;\">129.927</td><td style = \"text-align: right;\">620.642</td><td style = \"text-align: right;\">452.434</td><td style = \"text-align: right;\">264.925</td><td style = \"text-align: right;\">766.984</td><td style = \"text-align: right;\">607.109</td><td style = \"text-align: right;\">471.752</td></tr><tr><td class = \"rowNumber\" style = \"font-weight: bold; text-align: right;\">3</td><td style = \"text-align: right;\">3</td><td style = \"text-align: right;\">15532.1</td><td style = \"text-align: right;\">690.0</td><td style = \"text-align: right;\">2371.99</td><td style = \"text-align: right;\">0.0</td><td style = \"text-align: right;\">29913.6</td><td style = \"text-align: right;\">3373.58</td><td style = \"text-align: right;\">17.0555</td><td style = \"text-align: right;\">80.6413</td><td style = \"text-align: right;\">136.925</td><td style = \"text-align: right;\">680.573</td><td style = \"text-align: right;\">26.8177</td><td style = \"text-align: right;\">101.444</td><td style = \"text-align: right;\">1191.59</td><td style = \"text-align: right;\">514.573</td><td style = \"text-align: right;\">263.903</td><td style = \"text-align: right;\">741.078</td><td style = \"text-align: right;\">578.873</td><td style = \"text-align: right;\">221.618</td></tr><tr><td class = \"rowNumber\" style = \"font-weight: bold; text-align: right;\">4</td><td style = \"text-align: right;\">4</td><td style = \"text-align: right;\">15540.0</td><td style = \"text-align: right;\">690.0</td><td style = \"text-align: right;\">2371.99</td><td style = \"text-align: right;\">0.0</td><td style = \"text-align: right;\">30700.3</td><td style = \"text-align: right;\">3314.57</td><td style = \"text-align: right;\">17.0555</td><td style = \"text-align: right;\">72.2893</td><td style = \"text-align: right;\">180.514</td><td style = \"text-align: right;\">645.675</td><td style = \"text-align: right;\">15.8385</td><td style = \"text-align: right;\">99.1319</td><td style = \"text-align: right;\">1398.56</td><td style = \"text-align: right;\">618.359</td><td style = \"text-align: right;\">255.137</td><td style = \"text-align: right;\">859.925</td><td style = \"text-align: right;\">855.014</td><td style = \"text-align: right;\">770.062</td></tr><tr><td class = \"rowNumber\" style = \"font-weight: bold; text-align: right;\">5</td><td style = \"text-align: right;\">5</td><td style = \"text-align: right;\">15605.6</td><td style = \"text-align: right;\">690.0</td><td style = \"text-align: right;\">2371.99</td><td style = \"text-align: right;\">0.0</td><td style = \"text-align: right;\">29864.6</td><td style = \"text-align: right;\">3314.57</td><td style = \"text-align: right;\">17.0555</td><td style = \"text-align: right;\">80.8247</td><td style = \"text-align: right;\">171.231</td><td style = \"text-align: right;\">603.111</td><td style = \"text-align: right;\">2.78125</td><td style = \"text-align: right;\">127.238</td><td style = \"text-align: right;\">1337.16</td><td style = \"text-align: right;\">494.993</td><td style = \"text-align: right;\">405.458</td><td style = \"text-align: right;\">841.021</td><td style = \"text-align: right;\">750.266</td><td style = \"text-align: right;\">421.95</td></tr><tr><td class = \"rowNumber\" style = \"font-weight: bold; text-align: right;\">6</td><td style = \"text-align: right;\">6</td><td style = \"text-align: right;\">15383.1</td><td style = \"text-align: right;\">828.0</td><td style = \"text-align: right;\">2579.39</td><td style = \"text-align: right;\">0.0</td><td style = \"text-align: right;\">30003.6</td><td style = \"text-align: right;\">3381.49</td><td style = \"text-align: right;\">20.7833</td><td style = \"text-align: right;\">89.1932</td><td style = \"text-align: right;\">153.866</td><td style = \"text-align: right;\">785.09</td><td style = \"text-align: right;\">30.151</td><td style = \"text-align: right;\">100.021</td><td style = \"text-align: right;\">1582.2</td><td style = \"text-align: right;\">569.925</td><td style = \"text-align: right;\">424.806</td><td style = \"text-align: right;\">700.931</td><td style = \"text-align: right;\">674.905</td><td style = \"text-align: right;\">324.255</td></tr><tr><td class = \"rowNumber\" style = \"font-weight: bold; text-align: right;\">7</td><td style = \"text-align: right;\">7</td><td style = \"text-align: right;\">15296.0</td><td style = \"text-align: right;\">828.0</td><td style = \"text-align: right;\">2579.39</td><td style = \"text-align: right;\">0.0</td><td style = \"text-align: right;\">29840.9</td><td style = \"text-align: right;\">3818.84</td><td style = \"text-align: right;\">20.7833</td><td style = \"text-align: right;\">88.0124</td><td style = \"text-align: right;\">137.835</td><td style = \"text-align: right;\">673.373</td><td style = \"text-align: right;\">112.722</td><td style = \"text-align: right;\">201.965</td><td style = \"text-align: right;\">1007.58</td><td style = \"text-align: right;\">414.398</td><td style = \"text-align: right;\">389.109</td><td style = \"text-align: right;\">560.092</td><td style = \"text-align: right;\">597.472</td><td style = \"text-align: right;\">508.052</td></tr><tr><td class = \"rowNumber\" style = \"font-weight: bold; text-align: right;\">8</td><td style = \"text-align: right;\">8</td><td style = \"text-align: right;\">15329.4</td><td style = \"text-align: right;\">690.0</td><td style = \"text-align: right;\">2497.93</td><td style = \"text-align: right;\">0.0</td><td style = \"text-align: right;\">28995.9</td><td style = \"text-align: right;\">3964.78</td><td style = \"text-align: right;\">20.7647</td><td style = \"text-align: right;\">88.1273</td><td style = \"text-align: right;\">48.9844</td><td style = \"text-align: right;\">670.262</td><td style = \"text-align: right;\">105.863</td><td style = \"text-align: right;\">228.589</td><td style = \"text-align: right;\">969.887</td><td style = \"text-align: right;\">465.398</td><td style = \"text-align: right;\">528.99</td><td style = \"text-align: right;\">660.295</td><td style = \"text-align: right;\">704.28</td><td style = \"text-align: right;\">711.615</td></tr><tr><td class = \"rowNumber\" style = \"font-weight: bold; text-align: right;\">9</td><td style = \"text-align: right;\">9</td><td style = \"text-align: right;\">15647.8</td><td style = \"text-align: right;\">690.0</td><td style = \"text-align: right;\">2675.03</td><td style = \"text-align: right;\">0.0</td><td style = \"text-align: right;\">28791.6</td><td style = \"text-align: right;\">3883.67</td><td style = \"text-align: right;\">20.0523</td><td style = \"text-align: right;\">92.7995</td><td style = \"text-align: right;\">181.123</td><td style = \"text-align: right;\">644.906</td><td style = \"text-align: right;\">78.5833</td><td style = \"text-align: right;\">192.53</td><td style = \"text-align: right;\">688.681</td><td style = \"text-align: right;\">376.943</td><td style = \"text-align: right;\">501.795</td><td style = \"text-align: right;\">515.451</td><td style = \"text-align: right;\">532.611</td><td style = \"text-align: right;\">589.2</td></tr><tr><td class = \"rowNumber\" style = \"font-weight: bold; text-align: right;\">10</td><td style = \"text-align: right;\">10</td><td style = \"text-align: right;\">15560.2</td><td style = \"text-align: right;\">552.0</td><td style = \"text-align: right;\">2831.39</td><td style = \"text-align: right;\">0.0</td><td style = \"text-align: right;\">29224.2</td><td style = \"text-align: right;\">3516.25</td><td style = \"text-align: right;\">29.5324</td><td style = \"text-align: right;\">83.5165</td><td style = \"text-align: right;\">240.059</td><td style = \"text-align: right;\">668.396</td><td style = \"text-align: right;\">49.7674</td><td style = \"text-align: right;\">166.082</td><td style = \"text-align: right;\">831.889</td><td style = \"text-align: right;\">352.858</td><td style = \"text-align: right;\">444.948</td><td style = \"text-align: right;\">592.307</td><td style = \"text-align: right;\">468.418</td><td style = \"text-align: right;\">553.116</td></tr><tr><td class = \"rowNumber\" style = \"font-weight: bold; text-align: right;\">11</td><td style = \"text-align: right;\">11</td><td style = \"text-align: right;\">15660.1</td><td style = \"text-align: right;\">552.0</td><td style = \"text-align: right;\">3339.99</td><td style = \"text-align: right;\">0.0</td><td style = \"text-align: right;\">27783.6</td><td style = \"text-align: right;\">3671.5</td><td style = \"text-align: right;\">31.2391</td><td style = \"text-align: right;\">91.8697</td><td style = \"text-align: right;\">189.382</td><td style = \"text-align: right;\">785.776</td><td style = \"text-align: right;\">16.1979</td><td style = \"text-align: right;\">110.024</td><td style = \"text-align: right;\">967.056</td><td style = \"text-align: right;\">451.484</td><td style = \"text-align: right;\">436.085</td><td style = \"text-align: right;\">852.618</td><td style = \"text-align: right;\">672.898</td><td style = \"text-align: right;\">455.085</td></tr><tr><td class = \"rowNumber\" style = \"font-weight: bold; text-align: right;\">12</td><td style = \"text-align: right;\">12</td><td style = \"text-align: right;\">15664.4</td><td style = \"text-align: right;\">552.0</td><td style = \"text-align: right;\">3339.99</td><td style = \"text-align: right;\">0.0</td><td style = \"text-align: right;\">27707.3</td><td style = \"text-align: right;\">3671.5</td><td style = \"text-align: right;\">31.2391</td><td style = \"text-align: right;\">83.3342</td><td style = \"text-align: right;\">36.0451</td><td style = \"text-align: right;\">535.538</td><td style = \"text-align: right;\">29.2292</td><td style = \"text-align: right;\">116.026</td><td style = \"text-align: right;\">1441.03</td><td style = \"text-align: right;\">613.266</td><td style = \"text-align: right;\">612.766</td><td style = \"text-align: right;\">809.036</td><td style = \"text-align: right;\">696.898</td><td style = \"text-align: right;\">280.161</td></tr><tr><td class = \"rowNumber\" style = \"font-weight: bold; text-align: right;\">13</td><td style = \"text-align: right;\">13</td><td style = \"text-align: right;\">15588.1</td><td style = \"text-align: right;\">414.0</td><td style = \"text-align: right;\">3075.65</td><td style = \"text-align: right;\">0.0</td><td style = \"text-align: right;\">29791.3</td><td style = \"text-align: right;\">3355.2</td><td style = \"text-align: right;\">29.726</td><td style = \"text-align: right;\">61.0735</td><td style = \"text-align: right;\">135.378</td><td style = \"text-align: right;\">476.434</td><td style = \"text-align: right;\">36.3924</td><td style = \"text-align: right;\">60.0087</td><td style = \"text-align: right;\">884.889</td><td style = \"text-align: right;\">507.356</td><td style = \"text-align: right;\">656.507</td><td style = \"text-align: right;\">798.17</td><td style = \"text-align: right;\">751.998</td><td style = \"text-align: right;\">415.248</td></tr><tr><td style = \"text-align: right;\">&vellip;</td><td style = \"text-align: right;\">&vellip;</td><td style = \"text-align: right;\">&vellip;</td><td style = \"text-align: right;\">&vellip;</td><td style = \"text-align: right;\">&vellip;</td><td style = \"text-align: right;\">&vellip;</td><td style = \"text-align: right;\">&vellip;</td><td style = \"text-align: right;\">&vellip;</td><td style = \"text-align: right;\">&vellip;</td><td style = \"text-align: right;\">&vellip;</td><td style = \"text-align: right;\">&vellip;</td><td style = \"text-align: right;\">&vellip;</td><td style = \"text-align: right;\">&vellip;</td><td style = \"text-align: right;\">&vellip;</td><td style = \"text-align: right;\">&vellip;</td><td style = \"text-align: right;\">&vellip;</td><td style = \"text-align: right;\">&vellip;</td><td style = \"text-align: right;\">&vellip;</td><td style = \"text-align: right;\">&vellip;</td><td style = \"text-align: right;\">&vellip;</td></tr><tr><td class = \"rowNumber\" style = \"font-weight: bold; text-align: right;\">20</td><td style = \"text-align: right;\">20</td><td style = \"text-align: right;\">15351.0</td><td style = \"text-align: right;\">552.0</td><td style = \"text-align: right;\">1523.98</td><td style = \"text-align: right;\">0.0</td><td style = \"text-align: right;\">32789.0</td><td style = \"text-align: right;\">2722.62</td><td style = \"text-align: right;\">68.518</td><td style = \"text-align: right;\">49.9252</td><td style = \"text-align: right;\">83.0104</td><td style = \"text-align: right;\">595.953</td><td style = \"text-align: right;\">22.5608</td><td style = \"text-align: right;\">40.4878</td><td style = \"text-align: right;\">922.719</td><td style = \"text-align: right;\">763.858</td><td style = \"text-align: right;\">845.507</td><td style = \"text-align: right;\">1271.64</td><td style = \"text-align: right;\">1059.1</td><td style = \"text-align: right;\">515.5</td></tr><tr><td class = \"rowNumber\" style = \"font-weight: bold; text-align: right;\">21</td><td style = \"text-align: right;\">21</td><td style = \"text-align: right;\">15012.1</td><td style = \"text-align: right;\">828.0</td><td style = \"text-align: right;\">2936.31</td><td style = \"text-align: right;\">0.0</td><td style = \"text-align: right;\">30353.5</td><td style = \"text-align: right;\">3320.53</td><td style = \"text-align: right;\">98.1045</td><td style = \"text-align: right;\">68.7319</td><td style = \"text-align: right;\">201.608</td><td style = \"text-align: right;\">361.373</td><td style = \"text-align: right;\">55.3056</td><td style = \"text-align: right;\">77.7031</td><td style = \"text-align: right;\">1266.88</td><td style = \"text-align: right;\">512.359</td><td style = \"text-align: right;\">916.363</td><td style = \"text-align: right;\">1148.54</td><td style = \"text-align: right;\">959.135</td><td style = \"text-align: right;\">422.507</td></tr><tr><td class = \"rowNumber\" style = \"font-weight: bold; text-align: right;\">22</td><td style = \"text-align: right;\">22</td><td style = \"text-align: right;\">14929.0</td><td style = \"text-align: right;\">690.0</td><td style = \"text-align: right;\">2768.52</td><td style = \"text-align: right;\">0.0</td><td style = \"text-align: right;\">29367.7</td><td style = \"text-align: right;\">3314.26</td><td style = \"text-align: right;\">98.1045</td><td style = \"text-align: right;\">70.5156</td><td style = \"text-align: right;\">281.724</td><td style = \"text-align: right;\">433.019</td><td style = \"text-align: right;\">22.6215</td><td style = \"text-align: right;\">167.915</td><td style = \"text-align: right;\">1576.19</td><td style = \"text-align: right;\">417.378</td><td style = \"text-align: right;\">947.604</td><td style = \"text-align: right;\">1133.05</td><td style = \"text-align: right;\">826.589</td><td style = \"text-align: right;\">203.512</td></tr><tr><td class = \"rowNumber\" style = \"font-weight: bold; text-align: right;\">23</td><td style = \"text-align: right;\">23</td><td style = \"text-align: right;\">15110.1</td><td style = \"text-align: right;\">552.0</td><td style = \"text-align: right;\">2842.85</td><td style = \"text-align: right;\">0.0</td><td style = \"text-align: right;\">30163.8</td><td style = \"text-align: right;\">3007.74</td><td style = \"text-align: right;\">143.184</td><td style = \"text-align: right;\">71.4637</td><td style = \"text-align: right;\">286.217</td><td style = \"text-align: right;\">332.719</td><td style = \"text-align: right;\">82.2934</td><td style = \"text-align: right;\">127.418</td><td style = \"text-align: right;\">1032.04</td><td style = \"text-align: right;\">523.427</td><td style = \"text-align: right;\">846.523</td><td style = \"text-align: right;\">997.549</td><td style = \"text-align: right;\">827.16</td><td style = \"text-align: right;\">387.861</td></tr><tr><td class = \"rowNumber\" style = \"font-weight: bold; text-align: right;\">24</td><td style = \"text-align: right;\">24</td><td style = \"text-align: right;\">15013.9</td><td style = \"text-align: right;\">552.0</td><td style = \"text-align: right;\">2842.85</td><td style = \"text-align: right;\">0.0</td><td style = \"text-align: right;\">30124.1</td><td style = \"text-align: right;\">3533.04</td><td style = \"text-align: right;\">143.184</td><td style = \"text-align: right;\">71.4637</td><td style = \"text-align: right;\">235.304</td><td style = \"text-align: right;\">437.087</td><td style = \"text-align: right;\">54.6979</td><td style = \"text-align: right;\">207.443</td><td style = \"text-align: right;\">1060.95</td><td style = \"text-align: right;\">540.516</td><td style = \"text-align: right;\">833.984</td><td style = \"text-align: right;\">931.224</td><td style = \"text-align: right;\">741.571</td><td style = \"text-align: right;\">604.007</td></tr><tr><td class = \"rowNumber\" style = \"font-weight: bold; text-align: right;\">25</td><td style = \"text-align: right;\">25</td><td style = \"text-align: right;\">14908.1</td><td style = \"text-align: right;\">552.0</td><td style = \"text-align: right;\">2597.2</td><td style = \"text-align: right;\">0.0</td><td style = \"text-align: right;\">30554.1</td><td style = \"text-align: right;\">3366.38</td><td style = \"text-align: right;\">143.184</td><td style = \"text-align: right;\">63.1499</td><td style = \"text-align: right;\">119.533</td><td style = \"text-align: right;\">651.188</td><td style = \"text-align: right;\">38.8299</td><td style = \"text-align: right;\">92.2934</td><td style = \"text-align: right;\">1150.8</td><td style = \"text-align: right;\">603.429</td><td style = \"text-align: right;\">947.842</td><td style = \"text-align: right;\">900.828</td><td style = \"text-align: right;\">918.877</td><td style = \"text-align: right;\">534.934</td></tr><tr><td class = \"rowNumber\" style = \"font-weight: bold; text-align: right;\">26</td><td style = \"text-align: right;\">26</td><td style = \"text-align: right;\">14948.4</td><td style = \"text-align: right;\">552.0</td><td style = \"text-align: right;\">2597.2</td><td style = \"text-align: right;\">0.0</td><td style = \"text-align: right;\">30724.4</td><td style = \"text-align: right;\">3614.53</td><td style = \"text-align: right;\">143.184</td><td style = \"text-align: right;\">71.144</td><td style = \"text-align: right;\">160.047</td><td style = \"text-align: right;\">774.161</td><td style = \"text-align: right;\">34.6528</td><td style = \"text-align: right;\">91.5747</td><td style = \"text-align: right;\">946.667</td><td style = \"text-align: right;\">565.071</td><td style = \"text-align: right;\">581.432</td><td style = \"text-align: right;\">894.698</td><td style = \"text-align: right;\">943.439</td><td style = \"text-align: right;\">744.628</td></tr><tr><td class = \"rowNumber\" style = \"font-weight: bold; text-align: right;\">27</td><td style = \"text-align: right;\">27</td><td style = \"text-align: right;\">15148.2</td><td style = \"text-align: right;\">552.0</td><td style = \"text-align: right;\">3386.53</td><td style = \"text-align: right;\">0.0</td><td style = \"text-align: right;\">29661.2</td><td style = \"text-align: right;\">3674.3</td><td style = \"text-align: right;\">99.7094</td><td style = \"text-align: right;\">87.9995</td><td style = \"text-align: right;\">102.932</td><td style = \"text-align: right;\">879.115</td><td style = \"text-align: right;\">14.8212</td><td style = \"text-align: right;\">122.266</td><td style = \"text-align: right;\">926.844</td><td style = \"text-align: right;\">517.161</td><td style = \"text-align: right;\">432.024</td><td style = \"text-align: right;\">655.908</td><td style = \"text-align: right;\">609.924</td><td style = \"text-align: right;\">379.8</td></tr><tr><td class = \"rowNumber\" style = \"font-weight: bold; text-align: right;\">28</td><td style = \"text-align: right;\">28</td><td style = \"text-align: right;\">15530.5</td><td style = \"text-align: right;\">276.0</td><td style = \"text-align: right;\">1974.19</td><td style = \"text-align: right;\">0.0</td><td style = \"text-align: right;\">32934.8</td><td style = \"text-align: right;\">3076.39</td><td style = \"text-align: right;\">70.1229</td><td style = \"text-align: right;\">69.1928</td><td style = \"text-align: right;\">199.307</td><td style = \"text-align: right;\">552.616</td><td style = \"text-align: right;\">0.760417</td><td style = \"text-align: right;\">152.863</td><td style = \"text-align: right;\">965.21</td><td style = \"text-align: right;\">721.189</td><td style = \"text-align: right;\">651.372</td><td style = \"text-align: right;\">1182.98</td><td style = \"text-align: right;\">885.174</td><td style = \"text-align: right;\">506.533</td></tr><tr><td class = \"rowNumber\" style = \"font-weight: bold; text-align: right;\">29</td><td style = \"text-align: right;\">29</td><td style = \"text-align: right;\">15408.3</td><td style = \"text-align: right;\">414.0</td><td style = \"text-align: right;\">2415.25</td><td style = \"text-align: right;\">0.0</td><td style = \"text-align: right;\">31739.2</td><td style = \"text-align: right;\">3008.71</td><td style = \"text-align: right;\">70.1229</td><td style = \"text-align: right;\">74.9856</td><td style = \"text-align: right;\">179.892</td><td style = \"text-align: right;\">748.413</td><td style = \"text-align: right;\">39.033</td><td style = \"text-align: right;\">147.849</td><td style = \"text-align: right;\">1075.31</td><td style = \"text-align: right;\">812.976</td><td style = \"text-align: right;\">532.613</td><td style = \"text-align: right;\">960.97</td><td style = \"text-align: right;\">975.58</td><td style = \"text-align: right;\">670.887</td></tr><tr><td class = \"rowNumber\" style = \"font-weight: bold; text-align: right;\">30</td><td style = \"text-align: right;\">30</td><td style = \"text-align: right;\">15096.8</td><td style = \"text-align: right;\">301.091</td><td style = \"text-align: right;\">1702.83</td><td style = \"text-align: right;\">0.0</td><td style = \"text-align: right;\">34173.4</td><td style = \"text-align: right;\">1934.16</td><td style = \"text-align: right;\">22.1493</td><td style = \"text-align: right;\">60.5138</td><td style = \"text-align: right;\">214.25</td><td style = \"text-align: right;\">713.996</td><td style = \"text-align: right;\">12.3239</td><td style = \"text-align: right;\">138.492</td><td style = \"text-align: right;\">1413.64</td><td style = \"text-align: right;\">816.0</td><td style = \"text-align: right;\">460.235</td><td style = \"text-align: right;\">1077.66</td><td style = \"text-align: right;\">1057.85</td><td style = \"text-align: right;\">735.919</td></tr><tr><td class = \"rowNumber\" style = \"font-weight: bold; text-align: right;\">31</td><td style = \"text-align: right;\">31</td><td style = \"text-align: right;\">15300.5</td><td style = \"text-align: right;\">236.571</td><td style = \"text-align: right;\">1919.77</td><td style = \"text-align: right;\">0.0</td><td style = \"text-align: right;\">32820.6</td><td style = \"text-align: right;\">2413.97</td><td style = \"text-align: right;\">34.8061</td><td style = \"text-align: right;\">70.8306</td><td style = \"text-align: right;\">202.0</td><td style = \"text-align: right;\">613.164</td><td style = \"text-align: right;\">43.6667</td><td style = \"text-align: right;\">183.324</td><td style = \"text-align: right;\">1062.18</td><td style = \"text-align: right;\">849.905</td><td style = \"text-align: right;\">828.929</td><td style = \"text-align: right;\">852.015</td><td style = \"text-align: right;\">1073.11</td><td style = \"text-align: right;\">702.11</td></tr></tbody></table></div>"
      ],
      "text/latex": [
       "\\begin{tabular}{r|cccccccc}\n",
       "\t& Day & Hydraulic\\_mean & Bioenergy\\_mean & Wind\\_mean & Solar\\_mean & Nuclear\\_mean & Gas\\_mean & \\\\\n",
       "\t\\hline\n",
       "\t& Int64 & Float64 & Float64 & Float64 & Float64 & Float64 & Float64 & \\\\\n",
       "\t\\hline\n",
       "\t1 & 1 & 15553.9 & 414.0 & 2227.72 & 0.0 & 29744.1 & 3076.88 & $\\dots$ \\\\\n",
       "\t2 & 2 & 15550.6 & 552.0 & 2726.47 & 0.0 & 29616.5 & 3389.73 & $\\dots$ \\\\\n",
       "\t3 & 3 & 15532.1 & 690.0 & 2371.99 & 0.0 & 29913.6 & 3373.58 & $\\dots$ \\\\\n",
       "\t4 & 4 & 15540.0 & 690.0 & 2371.99 & 0.0 & 30700.3 & 3314.57 & $\\dots$ \\\\\n",
       "\t5 & 5 & 15605.6 & 690.0 & 2371.99 & 0.0 & 29864.6 & 3314.57 & $\\dots$ \\\\\n",
       "\t6 & 6 & 15383.1 & 828.0 & 2579.39 & 0.0 & 30003.6 & 3381.49 & $\\dots$ \\\\\n",
       "\t7 & 7 & 15296.0 & 828.0 & 2579.39 & 0.0 & 29840.9 & 3818.84 & $\\dots$ \\\\\n",
       "\t8 & 8 & 15329.4 & 690.0 & 2497.93 & 0.0 & 28995.9 & 3964.78 & $\\dots$ \\\\\n",
       "\t9 & 9 & 15647.8 & 690.0 & 2675.03 & 0.0 & 28791.6 & 3883.67 & $\\dots$ \\\\\n",
       "\t10 & 10 & 15560.2 & 552.0 & 2831.39 & 0.0 & 29224.2 & 3516.25 & $\\dots$ \\\\\n",
       "\t11 & 11 & 15660.1 & 552.0 & 3339.99 & 0.0 & 27783.6 & 3671.5 & $\\dots$ \\\\\n",
       "\t12 & 12 & 15664.4 & 552.0 & 3339.99 & 0.0 & 27707.3 & 3671.5 & $\\dots$ \\\\\n",
       "\t13 & 13 & 15588.1 & 414.0 & 3075.65 & 0.0 & 29791.3 & 3355.2 & $\\dots$ \\\\\n",
       "\t14 & 14 & 15700.4 & 414.0 & 3075.65 & 0.0 & 31347.0 & 2618.29 & $\\dots$ \\\\\n",
       "\t15 & 15 & 15785.8 & 552.0 & 2989.38 & 0.0 & 30248.0 & 2633.66 & $\\dots$ \\\\\n",
       "\t16 & 16 & 15333.7 & 690.0 & 3093.52 & 0.0 & 29799.2 & 2655.98 & $\\dots$ \\\\\n",
       "\t17 & 17 & 15437.9 & 552.0 & 2171.78 & 0.0 & 32196.7 & 2495.98 & $\\dots$ \\\\\n",
       "\t18 & 18 & 15358.0 & 552.0 & 1908.83 & 0.0 & 32379.9 & 2507.38 & $\\dots$ \\\\\n",
       "\t19 & 19 & 15358.7 & 552.0 & 1908.83 & 0.0 & 31982.6 & 2507.38 & $\\dots$ \\\\\n",
       "\t20 & 20 & 15351.0 & 552.0 & 1523.98 & 0.0 & 32789.0 & 2722.62 & $\\dots$ \\\\\n",
       "\t21 & 21 & 15012.1 & 828.0 & 2936.31 & 0.0 & 30353.5 & 3320.53 & $\\dots$ \\\\\n",
       "\t22 & 22 & 14929.0 & 690.0 & 2768.52 & 0.0 & 29367.7 & 3314.26 & $\\dots$ \\\\\n",
       "\t23 & 23 & 15110.1 & 552.0 & 2842.85 & 0.0 & 30163.8 & 3007.74 & $\\dots$ \\\\\n",
       "\t24 & 24 & 15013.9 & 552.0 & 2842.85 & 0.0 & 30124.1 & 3533.04 & $\\dots$ \\\\\n",
       "\t25 & 25 & 14908.1 & 552.0 & 2597.2 & 0.0 & 30554.1 & 3366.38 & $\\dots$ \\\\\n",
       "\t26 & 26 & 14948.4 & 552.0 & 2597.2 & 0.0 & 30724.4 & 3614.53 & $\\dots$ \\\\\n",
       "\t27 & 27 & 15148.2 & 552.0 & 3386.53 & 0.0 & 29661.2 & 3674.3 & $\\dots$ \\\\\n",
       "\t28 & 28 & 15530.5 & 276.0 & 1974.19 & 0.0 & 32934.8 & 3076.39 & $\\dots$ \\\\\n",
       "\t29 & 29 & 15408.3 & 414.0 & 2415.25 & 0.0 & 31739.2 & 3008.71 & $\\dots$ \\\\\n",
       "\t30 & 30 & 15096.8 & 301.091 & 1702.83 & 0.0 & 34173.4 & 1934.16 & $\\dots$ \\\\\n",
       "\t$\\dots$ & $\\dots$ & $\\dots$ & $\\dots$ & $\\dots$ & $\\dots$ & $\\dots$ & $\\dots$ &  \\\\\n",
       "\\end{tabular}\n"
      ],
      "text/plain": [
       "\u001b[1m31×19 DataFrame\n",
       "\u001b[1m Row │\u001b[1m Day   \u001b[1m Hydraulic_mean \u001b[1m Bioenergy_mean \u001b[1m Wind_mean \u001b[1m Solar_mean \u001b[1m Nuclear_m ⋯\n",
       "     │\u001b[90m Int64 \u001b[90m Float64        \u001b[90m Float64        \u001b[90m Float64   \u001b[90m Float64    \u001b[90m Float64   ⋯\n",
       "─────┼──────────────────────────────────────────────────────────────────────────\n",
       "   1 │     1         15553.9         414.0      2227.72         0.0       2974 ⋯\n",
       "   2 │     2         15550.6         552.0      2726.47         0.0       2961\n",
       "   3 │     3         15532.1         690.0      2371.99         0.0       2991\n",
       "   4 │     4         15540.0         690.0      2371.99         0.0       3070\n",
       "   5 │     5         15605.6         690.0      2371.99         0.0       2986 ⋯\n",
       "   6 │     6         15383.1         828.0      2579.39         0.0       3000\n",
       "   7 │     7         15296.0         828.0      2579.39         0.0       2984\n",
       "   8 │     8         15329.4         690.0      2497.93         0.0       2899\n",
       "   9 │     9         15647.8         690.0      2675.03         0.0       2879 ⋯\n",
       "  10 │    10         15560.2         552.0      2831.39         0.0       2922\n",
       "  11 │    11         15660.1         552.0      3339.99         0.0       2778\n",
       "  ⋮  │   ⋮          ⋮               ⋮             ⋮          ⋮            ⋮    ⋱\n",
       "  22 │    22         14929.0         690.0      2768.52         0.0       2936\n",
       "  23 │    23         15110.1         552.0      2842.85         0.0       3016 ⋯\n",
       "  24 │    24         15013.9         552.0      2842.85         0.0       3012\n",
       "  25 │    25         14908.1         552.0      2597.2          0.0       3055\n",
       "  26 │    26         14948.4         552.0      2597.2          0.0       3072\n",
       "  27 │    27         15148.2         552.0      3386.53         0.0       2966 ⋯\n",
       "  28 │    28         15530.5         276.0      1974.19         0.0       3293\n",
       "  29 │    29         15408.3         414.0      2415.25         0.0       3173\n",
       "  30 │    30         15096.8         301.091    1702.83         0.0       3417\n",
       "  31 │    31         15300.5         236.571    1919.77         0.0       3282 ⋯\n",
       "\u001b[36m                                                  14 columns and 10 rows omitted"
      ]
     },
     "execution_count": 19,
     "metadata": {},
     "output_type": "execute_result"
    }
   ],
   "source": [
    "#df_opt_baseline\n",
    "#daily_total(df_opt_baseline)\n",
    "daily_average(df_opt_baseline)"
   ]
  },
  {
   "cell_type": "markdown",
   "metadata": {},
   "source": [
    "About daily average: we use all sources and import / export, high constraints on hydraulic wich is irrelevant."
   ]
  },
  {
   "cell_type": "markdown",
   "metadata": {},
   "source": [
    "### Crisis scenario"
   ]
  },
  {
   "cell_type": "code",
   "execution_count": 20,
   "metadata": {},
   "outputs": [
    {
     "data": {
      "text/plain": [
       "crisis_df (generic function with 1 method)"
      ]
     },
     "execution_count": 20,
     "metadata": {},
     "output_type": "execute_result"
    }
   ],
   "source": [
    "function crisis_df(df_base, boost_coef)\n",
    "    # copy of df\n",
    "    df_cris = copy(df_base)\n",
    "\n",
    "    # make all import columns of Switzerland Italy Germany_Belgium and England to zero\n",
    "    df_cris[!, :Switzerland_import] .= 0\n",
    "    df_cris[!, :Italy_import] .= 0\n",
    "    df_cris[!, :Germany_Belgium_import] .= 0\n",
    "    df_cris[!, :England_import] .= 0\n",
    "\n",
    "    # boost export demand by boost_coef\n",
    "    df_cris[!, :Switzerland_export] .= df_cris[!, :Switzerland_export] .* boost_coef\n",
    "    df_cris[!, :Italy_export] .= df_cris[!, :Italy_export] .* boost_coef\n",
    "    df_cris[!, :Germany_Belgium_export] .= df_cris[!, :Germany_Belgium_export] .* boost_coef\n",
    "    df_cris[!, :England_export] .= df_cris[!, :England_export] .* boost_coef\n",
    "    \n",
    "    return df_cris\n",
    "end"
   ]
  },
  {
   "cell_type": "code",
   "execution_count": 21,
   "metadata": {},
   "outputs": [],
   "source": [
    "df_crisis = crisis_df(df_baseline, 3);"
   ]
  },
  {
   "cell_type": "code",
   "execution_count": 22,
   "metadata": {},
   "outputs": [
    {
     "data": {
      "text/plain": [
       "crisis_optimizer (generic function with 1 method)"
      ]
     },
     "execution_count": 22,
     "metadata": {},
     "output_type": "execute_result"
    }
   ],
   "source": [
    "# function very similar to baseline_optimizer, but with an additional constraint\n",
    "function crisis_optimizer(df_base, alpha)\n",
    "\n",
    "    # create a Gurobi Optimizer\n",
    "    model = Model(Gurobi.Optimizer)\n",
    "    set_optimizer_attribute(model, \"OutputFlag\", 0)\n",
    "\n",
    "    # add variables\n",
    "    T = size(df_base, 1)\n",
    "    @variable(model, x[1:T, 1:8] >= 0) # production of energy with each source\n",
    "    @variable(model, y[1:T, 1:5] >= 0) # import of energy from each neighbor\n",
    "    @variable(model, z[1:T, 1:5] >= 0) # export of energy to each neighbor\n",
    "\n",
    "    # add objective\n",
    "    #@objective(model, Min, lambda_baseline_cost(x, y, z, df_base))\n",
    "    @objective(model, Min, real_baseline_cost(x, y, z, df_base))\n",
    "\n",
    "\n",
    "    # add constraints\n",
    "    # Demand constraint, we need to produce enough energy for France\n",
    "    @constraint(model, [t in 1:T], sum(x[t, :]) + sum(y[t, :]) - sum(z[t, :]) >= df_base[t, :Consumption])\n",
    "\n",
    "    # maximum import available constraint\n",
    "    @constraint(model, [t in 1:T, i in 1:5], y[t, i] <= df_base[t, Symbol(neighbors[i] * \"_import\")])\n",
    "\n",
    "    # maximum export available constraint\n",
    "    @constraint(model, [t in 1:T, i in 1:5], z[t, i] <= df_base[t, Symbol(neighbors[i] * \"_export\")])\n",
    "\n",
    "    # maximum production constraint\n",
    "    @constraint(model, [t in 1:T, i in 1:8], x[t, i] <= df_base[t, Symbol(sources[i] * \"_cap\")])\n",
    "\n",
    "    # crisis constraint, we need to satisfy at least alpha percent of the neighbors demand\n",
    "    @constraint(model, [t in 1:T, i in 1:5], z[t, i] >= alpha * df_base[t, Symbol(neighbors[i] * \"_export\")])\n",
    "\n",
    "    \n",
    "    # optimize\n",
    "    optimize!(model)\n",
    "\n",
    "    # return the optimizer\n",
    "    return model\n",
    "end"
   ]
  },
  {
   "cell_type": "code",
   "execution_count": 26,
   "metadata": {},
   "outputs": [
    {
     "name": "stdout",
     "output_type": "stream",
     "text": [
      "Set parameter Username\n",
      "Academic license - for non-commercial use only - expires 2023-08-18\n",
      "Real baseline cost: 5.7400439502447426e10\n",
      "Production cost: 8.202939274207741e10\n",
      "Environmental impact: 7.454481811713634e10\n",
      "National impact: 5.6773026007629654e10\n",
      "\n",
      "Proportional total cost: 0.800773092884752\n",
      "Proportional Production cost: 1.0275764290611484\n",
      "Proportional Environmental impact: 0.9168501336311854\n",
      "Proportional National impact: 0.7836280171987507"
     ]
    }
   ],
   "source": [
    "model_2 = crisis_optimizer(df_crisis, 0.8);\n",
    "\n",
    "# get the optimal values\n",
    "x_opt_crisis = value.(model_2[:x])\n",
    "y_opt_crisis = value.(model_2[:y])\n",
    "z_opt_crisis = value.(model_2[:z])\n",
    "\n",
    "# convert the optimal values to a dataframe\n",
    "df_opt_crisis = convert_to_df(x_opt_crisis, y_opt_crisis, z_opt_crisis, df_crisis)\n",
    "\n",
    "\n",
    "# compute the cost\n",
    "println(\"Real baseline cost: \", real_baseline_cost(x_opt_crisis, y_opt_crisis, z_opt_crisis, df_crisis));\n",
    "println(\"Production cost: \", compute_production_cost(x_opt_crisis, df_crisis));\n",
    "println(\"Environmental impact: \", compute_total_impact(x_opt_crisis, y_opt_crisis, df_crisis))\n",
    "print(\"National impact: \", compute_national_impact(x_opt_crisis, y_opt_crisis, z_opt_crisis, df_crisis))\n",
    "\n",
    "# compute proportional cost (compared to rte)\n",
    "println(\"\\n\")\n",
    "println(\"Proportional total cost: \", real_baseline_cost(x_opt_crisis, y_opt_crisis, z_opt_crisis, df_crisis) / total_cost_rte);\n",
    "println(\"Proportional Production cost: \", compute_production_cost(x_opt_crisis, df_crisis) / production_cost_rte);\n",
    "println(\"Proportional Environmental impact: \", compute_total_impact(x_opt_crisis, y_opt_crisis, df_crisis) / total_impact_rte)\n",
    "print(\"Proportional National impact: \", compute_national_impact(x_opt_crisis, y_opt_crisis, z_opt_crisis, df_crisis) / national_impact_rte)"
   ]
  },
  {
   "cell_type": "code",
   "execution_count": 27,
   "metadata": {},
   "outputs": [
    {
     "data": {
      "text/html": [
       "<div><div style = \"float: left;\"><span>31×19 DataFrame</span></div><div style = \"float: right;\"><span style = \"font-style: italic;\">6 rows omitted</span></div><div style = \"clear: both;\"></div></div><div class = \"data-frame\" style = \"overflow-x: scroll;\"><table class = \"data-frame\" style = \"margin-bottom: 6px;\"><thead><tr class = \"header\"><th class = \"rowNumber\" style = \"font-weight: bold; text-align: right;\">Row</th><th style = \"text-align: left;\">Day</th><th style = \"text-align: left;\">Hydraulic_mean</th><th style = \"text-align: left;\">Bioenergy_mean</th><th style = \"text-align: left;\">Wind_mean</th><th style = \"text-align: left;\">Solar_mean</th><th style = \"text-align: left;\">Nuclear_mean</th><th style = \"text-align: left;\">Gas_mean</th><th style = \"text-align: left;\">Coal_mean</th><th style = \"text-align: left;\">Fuel_mean</th><th style = \"text-align: left;\">England_import_mean</th><th style = \"text-align: left;\">Spain_import_mean</th><th style = \"text-align: left;\">Italy_import_mean</th><th style = \"text-align: left;\">Switzerland_import_mean</th><th style = \"text-align: left;\">Germany_Belgium_import_mean</th><th style = \"text-align: left;\">England_export_mean</th><th style = \"text-align: left;\">Spain_export_mean</th><th style = \"text-align: left;\">Italy_export_mean</th><th style = \"text-align: left;\">Switzerland_export_mean</th><th style = \"text-align: left;\">Germany_Belgium_export_mean</th></tr><tr class = \"subheader headerLastRow\"><th class = \"rowNumber\" style = \"font-weight: bold; text-align: right;\"></th><th title = \"Int64\" style = \"text-align: left;\">Int64</th><th title = \"Float64\" style = \"text-align: left;\">Float64</th><th title = \"Float64\" style = \"text-align: left;\">Float64</th><th title = \"Float64\" style = \"text-align: left;\">Float64</th><th title = \"Float64\" style = \"text-align: left;\">Float64</th><th title = \"Float64\" style = \"text-align: left;\">Float64</th><th title = \"Float64\" style = \"text-align: left;\">Float64</th><th title = \"Float64\" style = \"text-align: left;\">Float64</th><th title = \"Float64\" style = \"text-align: left;\">Float64</th><th title = \"Float64\" style = \"text-align: left;\">Float64</th><th title = \"Float64\" style = \"text-align: left;\">Float64</th><th title = \"Float64\" style = \"text-align: left;\">Float64</th><th title = \"Float64\" style = \"text-align: left;\">Float64</th><th title = \"Float64\" style = \"text-align: left;\">Float64</th><th title = \"Float64\" style = \"text-align: left;\">Float64</th><th title = \"Float64\" style = \"text-align: left;\">Float64</th><th title = \"Float64\" style = \"text-align: left;\">Float64</th><th title = \"Float64\" style = \"text-align: left;\">Float64</th><th title = \"Float64\" style = \"text-align: left;\">Float64</th></tr></thead><tbody><tr><td class = \"rowNumber\" style = \"font-weight: bold; text-align: right;\">1</td><td style = \"text-align: right;\">1</td><td style = \"text-align: right;\">15553.9</td><td style = \"text-align: right;\">414.0</td><td style = \"text-align: right;\">2309.28</td><td style = \"text-align: right;\">0.0</td><td style = \"text-align: right;\">42864.1</td><td style = \"text-align: right;\">3077.45</td><td style = \"text-align: right;\">23.5007</td><td style = \"text-align: right;\">88.4209</td><td style = \"text-align: right;\">0.0</td><td style = \"text-align: right;\">700.734</td><td style = \"text-align: right;\">0.0</td><td style = \"text-align: right;\">0.0</td><td style = \"text-align: right;\">0.0</td><td style = \"text-align: right;\">3358.58</td><td style = \"text-align: right;\">1010.77</td><td style = \"text-align: right;\">4241.43</td><td style = \"text-align: right;\">4060.31</td><td style = \"text-align: right;\">2623.59</td></tr><tr><td class = \"rowNumber\" style = \"font-weight: bold; text-align: right;\">2</td><td style = \"text-align: right;\">2</td><td style = \"text-align: right;\">15550.6</td><td style = \"text-align: right;\">580.827</td><td style = \"text-align: right;\">2770.31</td><td style = \"text-align: right;\">0.0</td><td style = \"text-align: right;\">44296.1</td><td style = \"text-align: right;\">3389.73</td><td style = \"text-align: right;\">22.3126</td><td style = \"text-align: right;\">88.1061</td><td style = \"text-align: right;\">0.0</td><td style = \"text-align: right;\">774.017</td><td style = \"text-align: right;\">0.0</td><td style = \"text-align: right;\">0.0</td><td style = \"text-align: right;\">0.0</td><td style = \"text-align: right;\">2968.74</td><td style = \"text-align: right;\">782.891</td><td style = \"text-align: right;\">4686.9</td><td style = \"text-align: right;\">3995.28</td><td style = \"text-align: right;\">3867.98</td></tr><tr><td class = \"rowNumber\" style = \"font-weight: bold; text-align: right;\">3</td><td style = \"text-align: right;\">3</td><td style = \"text-align: right;\">15532.1</td><td style = \"text-align: right;\">690.0</td><td style = \"text-align: right;\">2545.86</td><td style = \"text-align: right;\">0.0</td><td style = \"text-align: right;\">45478.4</td><td style = \"text-align: right;\">3380.88</td><td style = \"text-align: right;\">27.8619</td><td style = \"text-align: right;\">87.903</td><td style = \"text-align: right;\">0.0</td><td style = \"text-align: right;\">690.34</td><td style = \"text-align: right;\">0.0</td><td style = \"text-align: right;\">0.0</td><td style = \"text-align: right;\">0.0</td><td style = \"text-align: right;\">3195.79</td><td style = \"text-align: right;\">886.703</td><td style = \"text-align: right;\">5071.63</td><td style = \"text-align: right;\">4250.08</td><td style = \"text-align: right;\">3232.88</td></tr><tr><td class = \"rowNumber\" style = \"font-weight: bold; text-align: right;\">4</td><td style = \"text-align: right;\">4</td><td style = \"text-align: right;\">15540.0</td><td style = \"text-align: right;\">690.0</td><td style = \"text-align: right;\">2372.25</td><td style = \"text-align: right;\">0.0</td><td style = \"text-align: right;\">46744.8</td><td style = \"text-align: right;\">3314.57</td><td style = \"text-align: right;\">17.0555</td><td style = \"text-align: right;\">72.6305</td><td style = \"text-align: right;\">0.0</td><td style = \"text-align: right;\">664.883</td><td style = \"text-align: right;\">0.0</td><td style = \"text-align: right;\">0.0</td><td style = \"text-align: right;\">0.0</td><td style = \"text-align: right;\">3333.21</td><td style = \"text-align: right;\">708.803</td><td style = \"text-align: right;\">5315.02</td><td style = \"text-align: right;\">4623.33</td><td style = \"text-align: right;\">3748.35</td></tr><tr><td class = \"rowNumber\" style = \"font-weight: bold; text-align: right;\">5</td><td style = \"text-align: right;\">5</td><td style = \"text-align: right;\">15605.6</td><td style = \"text-align: right;\">703.653</td><td style = \"text-align: right;\">2376.91</td><td style = \"text-align: right;\">0.0</td><td style = \"text-align: right;\">44654.5</td><td style = \"text-align: right;\">3314.57</td><td style = \"text-align: right;\">17.0555</td><td style = \"text-align: right;\">83.0758</td><td style = \"text-align: right;\">0.0</td><td style = \"text-align: right;\">625.904</td><td style = \"text-align: right;\">0.0</td><td style = \"text-align: right;\">0.0</td><td style = \"text-align: right;\">0.0</td><td style = \"text-align: right;\">3042.22</td><td style = \"text-align: right;\">979.536</td><td style = \"text-align: right;\">5239.52</td><td style = \"text-align: right;\">4336.59</td><td style = \"text-align: right;\">2510.92</td></tr><tr><td class = \"rowNumber\" style = \"font-weight: bold; text-align: right;\">6</td><td style = \"text-align: right;\">6</td><td style = \"text-align: right;\">15383.1</td><td style = \"text-align: right;\">828.0</td><td style = \"text-align: right;\">2579.39</td><td style = \"text-align: right;\">0.0</td><td style = \"text-align: right;\">43996.3</td><td style = \"text-align: right;\">3381.49</td><td style = \"text-align: right;\">20.7833</td><td style = \"text-align: right;\">89.1932</td><td style = \"text-align: right;\">0.0</td><td style = \"text-align: right;\">785.09</td><td style = \"text-align: right;\">0.0</td><td style = \"text-align: right;\">0.0</td><td style = \"text-align: right;\">0.0</td><td style = \"text-align: right;\">3384.48</td><td style = \"text-align: right;\">851.911</td><td style = \"text-align: right;\">4670.23</td><td style = \"text-align: right;\">4050.35</td><td style = \"text-align: right;\">1864.39</td></tr><tr><td class = \"rowNumber\" style = \"font-weight: bold; text-align: right;\">7</td><td style = \"text-align: right;\">7</td><td style = \"text-align: right;\">15296.0</td><td style = \"text-align: right;\">828.0</td><td style = \"text-align: right;\">2579.39</td><td style = \"text-align: right;\">0.0</td><td style = \"text-align: right;\">44015.5</td><td style = \"text-align: right;\">3818.84</td><td style = \"text-align: right;\">20.7833</td><td style = \"text-align: right;\">88.0124</td><td style = \"text-align: right;\">0.0</td><td style = \"text-align: right;\">673.373</td><td style = \"text-align: right;\">0.0</td><td style = \"text-align: right;\">0.0</td><td style = \"text-align: right;\">0.0</td><td style = \"text-align: right;\">2848.37</td><td style = \"text-align: right;\">943.633</td><td style = \"text-align: right;\">3968.96</td><td style = \"text-align: right;\">3989.05</td><td style = \"text-align: right;\">3433.56</td></tr><tr><td class = \"rowNumber\" style = \"font-weight: bold; text-align: right;\">8</td><td style = \"text-align: right;\">8</td><td style = \"text-align: right;\">15329.4</td><td style = \"text-align: right;\">690.0</td><td style = \"text-align: right;\">2497.93</td><td style = \"text-align: right;\">0.0</td><td style = \"text-align: right;\">44186.8</td><td style = \"text-align: right;\">3964.78</td><td style = \"text-align: right;\">20.7647</td><td style = \"text-align: right;\">88.1273</td><td style = \"text-align: right;\">0.0</td><td style = \"text-align: right;\">670.262</td><td style = \"text-align: right;\">0.0</td><td style = \"text-align: right;\">0.0</td><td style = \"text-align: right;\">0.0</td><td style = \"text-align: right;\">3015.56</td><td style = \"text-align: right;\">1211.53</td><td style = \"text-align: right;\">4380.64</td><td style = \"text-align: right;\">4386.45</td><td style = \"text-align: right;\">3913.97</td></tr><tr><td class = \"rowNumber\" style = \"font-weight: bold; text-align: right;\">9</td><td style = \"text-align: right;\">9</td><td style = \"text-align: right;\">15647.8</td><td style = \"text-align: right;\">690.0</td><td style = \"text-align: right;\">2675.03</td><td style = \"text-align: right;\">0.0</td><td style = \"text-align: right;\">43370.3</td><td style = \"text-align: right;\">3883.67</td><td style = \"text-align: right;\">20.0523</td><td style = \"text-align: right;\">92.7995</td><td style = \"text-align: right;\">0.0</td><td style = \"text-align: right;\">644.906</td><td style = \"text-align: right;\">0.0</td><td style = \"text-align: right;\">0.0</td><td style = \"text-align: right;\">0.0</td><td style = \"text-align: right;\">3029.98</td><td style = \"text-align: right;\">1064.99</td><td style = \"text-align: right;\">4045.95</td><td style = \"text-align: right;\">4027.75</td><td style = \"text-align: right;\">3785.08</td></tr><tr><td class = \"rowNumber\" style = \"font-weight: bold; text-align: right;\">10</td><td style = \"text-align: right;\">10</td><td style = \"text-align: right;\">15560.2</td><td style = \"text-align: right;\">552.0</td><td style = \"text-align: right;\">2831.39</td><td style = \"text-align: right;\">0.0</td><td style = \"text-align: right;\">43493.9</td><td style = \"text-align: right;\">3516.25</td><td style = \"text-align: right;\">29.5324</td><td style = \"text-align: right;\">83.7065</td><td style = \"text-align: right;\">0.0</td><td style = \"text-align: right;\">668.396</td><td style = \"text-align: right;\">0.0</td><td style = \"text-align: right;\">0.0</td><td style = \"text-align: right;\">0.0</td><td style = \"text-align: right;\">2691.89</td><td style = \"text-align: right;\">969.987</td><td style = \"text-align: right;\">4600.68</td><td style = \"text-align: right;\">3917.45</td><td style = \"text-align: right;\">3213.72</td></tr><tr><td class = \"rowNumber\" style = \"font-weight: bold; text-align: right;\">11</td><td style = \"text-align: right;\">11</td><td style = \"text-align: right;\">15660.1</td><td style = \"text-align: right;\">552.0</td><td style = \"text-align: right;\">3339.99</td><td style = \"text-align: right;\">0.0</td><td style = \"text-align: right;\">43416.2</td><td style = \"text-align: right;\">3671.5</td><td style = \"text-align: right;\">31.2391</td><td style = \"text-align: right;\">91.8697</td><td style = \"text-align: right;\">0.0</td><td style = \"text-align: right;\">785.776</td><td style = \"text-align: right;\">0.0</td><td style = \"text-align: right;\">0.0</td><td style = \"text-align: right;\">0.0</td><td style = \"text-align: right;\">3023.69</td><td style = \"text-align: right;\">1069.82</td><td style = \"text-align: right;\">5409.8</td><td style = \"text-align: right;\">4556.97</td><td style = \"text-align: right;\">3157.77</td></tr><tr><td class = \"rowNumber\" style = \"font-weight: bold; text-align: right;\">12</td><td style = \"text-align: right;\">12</td><td style = \"text-align: right;\">15664.4</td><td style = \"text-align: right;\">552.0</td><td style = \"text-align: right;\">3339.99</td><td style = \"text-align: right;\">0.0</td><td style = \"text-align: right;\">43054.8</td><td style = \"text-align: right;\">3671.5</td><td style = \"text-align: right;\">31.2391</td><td style = \"text-align: right;\">83.3342</td><td style = \"text-align: right;\">0.0</td><td style = \"text-align: right;\">535.538</td><td style = \"text-align: right;\">0.0</td><td style = \"text-align: right;\">0.0</td><td style = \"text-align: right;\">0.0</td><td style = \"text-align: right;\">3736.17</td><td style = \"text-align: right;\">1294.01</td><td style = \"text-align: right;\">5035.09</td><td style = \"text-align: right;\">4352.38</td><td style = \"text-align: right;\">2319.59</td></tr><tr><td class = \"rowNumber\" style = \"font-weight: bold; text-align: right;\">13</td><td style = \"text-align: right;\">13</td><td style = \"text-align: right;\">15588.1</td><td style = \"text-align: right;\">414.0</td><td style = \"text-align: right;\">3075.65</td><td style = \"text-align: right;\">0.0</td><td style = \"text-align: right;\">44626.1</td><td style = \"text-align: right;\">3355.2</td><td style = \"text-align: right;\">29.726</td><td style = \"text-align: right;\">61.0735</td><td style = \"text-align: right;\">0.0</td><td style = \"text-align: right;\">476.434</td><td style = \"text-align: right;\">0.0</td><td style = \"text-align: right;\">0.0</td><td style = \"text-align: right;\">0.0</td><td style = \"text-align: right;\">3123.16</td><td style = \"text-align: right;\">1394.78</td><td style = \"text-align: right;\">4683.69</td><td style = \"text-align: right;\">4560.27</td><td style = \"text-align: right;\">3085.48</td></tr><tr><td style = \"text-align: right;\">&vellip;</td><td style = \"text-align: right;\">&vellip;</td><td style = \"text-align: right;\">&vellip;</td><td style = \"text-align: right;\">&vellip;</td><td style = \"text-align: right;\">&vellip;</td><td style = \"text-align: right;\">&vellip;</td><td style = \"text-align: right;\">&vellip;</td><td style = \"text-align: right;\">&vellip;</td><td style = \"text-align: right;\">&vellip;</td><td style = \"text-align: right;\">&vellip;</td><td style = \"text-align: right;\">&vellip;</td><td style = \"text-align: right;\">&vellip;</td><td style = \"text-align: right;\">&vellip;</td><td style = \"text-align: right;\">&vellip;</td><td style = \"text-align: right;\">&vellip;</td><td style = \"text-align: right;\">&vellip;</td><td style = \"text-align: right;\">&vellip;</td><td style = \"text-align: right;\">&vellip;</td><td style = \"text-align: right;\">&vellip;</td><td style = \"text-align: right;\">&vellip;</td></tr><tr><td class = \"rowNumber\" style = \"font-weight: bold; text-align: right;\">20</td><td style = \"text-align: right;\">20</td><td style = \"text-align: right;\">15351.0</td><td style = \"text-align: right;\">552.0</td><td style = \"text-align: right;\">1663.42</td><td style = \"text-align: right;\">0.0</td><td style = \"text-align: right;\">47358.9</td><td style = \"text-align: right;\">2722.62</td><td style = \"text-align: right;\">68.518</td><td style = \"text-align: right;\">55.6974</td><td style = \"text-align: right;\">0.0</td><td style = \"text-align: right;\">598.389</td><td style = \"text-align: right;\">0.0</td><td style = \"text-align: right;\">0.0</td><td style = \"text-align: right;\">0.0</td><td style = \"text-align: right;\">3352.06</td><td style = \"text-align: right;\">1244.91</td><td style = \"text-align: right;\">5607.72</td><td style = \"text-align: right;\">4567.85</td><td style = \"text-align: right;\">3331.9</td></tr><tr><td class = \"rowNumber\" style = \"font-weight: bold; text-align: right;\">21</td><td style = \"text-align: right;\">21</td><td style = \"text-align: right;\">15012.1</td><td style = \"text-align: right;\">828.0</td><td style = \"text-align: right;\">3044.96</td><td style = \"text-align: right;\">0.0</td><td style = \"text-align: right;\">44409.9</td><td style = \"text-align: right;\">3329.21</td><td style = \"text-align: right;\">98.1045</td><td style = \"text-align: right;\">74.1835</td><td style = \"text-align: right;\">0.0</td><td style = \"text-align: right;\">387.684</td><td style = \"text-align: right;\">0.0</td><td style = \"text-align: right;\">0.0</td><td style = \"text-align: right;\">0.0</td><td style = \"text-align: right;\">2717.9</td><td style = \"text-align: right;\">1441.98</td><td style = \"text-align: right;\">5259.62</td><td style = \"text-align: right;\">4775.64</td><td style = \"text-align: right;\">2367.83</td></tr><tr><td class = \"rowNumber\" style = \"font-weight: bold; text-align: right;\">22</td><td style = \"text-align: right;\">22</td><td style = \"text-align: right;\">14929.0</td><td style = \"text-align: right;\">690.0</td><td style = \"text-align: right;\">2768.52</td><td style = \"text-align: right;\">0.0</td><td style = \"text-align: right;\">43194.1</td><td style = \"text-align: right;\">3314.26</td><td style = \"text-align: right;\">98.1045</td><td style = \"text-align: right;\">70.5156</td><td style = \"text-align: right;\">0.0</td><td style = \"text-align: right;\">433.019</td><td style = \"text-align: right;\">0.0</td><td style = \"text-align: right;\">0.0</td><td style = \"text-align: right;\">0.0</td><td style = \"text-align: right;\">2448.61</td><td style = \"text-align: right;\">1542.01</td><td style = \"text-align: right;\">5492.26</td><td style = \"text-align: right;\">4026.89</td><td style = \"text-align: right;\">1796.32</td></tr><tr><td class = \"rowNumber\" style = \"font-weight: bold; text-align: right;\">23</td><td style = \"text-align: right;\">23</td><td style = \"text-align: right;\">15110.1</td><td style = \"text-align: right;\">552.0</td><td style = \"text-align: right;\">2843.19</td><td style = \"text-align: right;\">0.0</td><td style = \"text-align: right;\">43941.4</td><td style = \"text-align: right;\">3007.74</td><td style = \"text-align: right;\">143.184</td><td style = \"text-align: right;\">71.739</td><td style = \"text-align: right;\">0.0</td><td style = \"text-align: right;\">332.719</td><td style = \"text-align: right;\">0.0</td><td style = \"text-align: right;\">0.0</td><td style = \"text-align: right;\">0.0</td><td style = \"text-align: right;\">2585.03</td><td style = \"text-align: right;\">1395.88</td><td style = \"text-align: right;\">4929.14</td><td style = \"text-align: right;\">4228.58</td><td style = \"text-align: right;\">2694.22</td></tr><tr><td class = \"rowNumber\" style = \"font-weight: bold; text-align: right;\">24</td><td style = \"text-align: right;\">24</td><td style = \"text-align: right;\">15013.9</td><td style = \"text-align: right;\">552.0</td><td style = \"text-align: right;\">2952.25</td><td style = \"text-align: right;\">0.0</td><td style = \"text-align: right;\">43550.8</td><td style = \"text-align: right;\">3533.04</td><td style = \"text-align: right;\">143.184</td><td style = \"text-align: right;\">75.6885</td><td style = \"text-align: right;\">0.0</td><td style = \"text-align: right;\">438.34</td><td style = \"text-align: right;\">0.0</td><td style = \"text-align: right;\">0.0</td><td style = \"text-align: right;\">0.0</td><td style = \"text-align: right;\">2798.13</td><td style = \"text-align: right;\">1392.39</td><td style = \"text-align: right;\">4899.36</td><td style = \"text-align: right;\">3782.56</td><td style = \"text-align: right;\">2762.1</td></tr><tr><td class = \"rowNumber\" style = \"font-weight: bold; text-align: right;\">25</td><td style = \"text-align: right;\">25</td><td style = \"text-align: right;\">14908.1</td><td style = \"text-align: right;\">552.0</td><td style = \"text-align: right;\">2597.58</td><td style = \"text-align: right;\">0.0</td><td style = \"text-align: right;\">44705.3</td><td style = \"text-align: right;\">3366.38</td><td style = \"text-align: right;\">143.184</td><td style = \"text-align: right;\">63.3984</td><td style = \"text-align: right;\">0.0</td><td style = \"text-align: right;\">651.188</td><td style = \"text-align: right;\">0.0</td><td style = \"text-align: right;\">0.0</td><td style = \"text-align: right;\">0.0</td><td style = \"text-align: right;\">3152.37</td><td style = \"text-align: right;\">1404.81</td><td style = \"text-align: right;\">4611.19</td><td style = \"text-align: right;\">4655.1</td><td style = \"text-align: right;\">2832.86</td></tr><tr><td class = \"rowNumber\" style = \"font-weight: bold; text-align: right;\">26</td><td style = \"text-align: right;\">26</td><td style = \"text-align: right;\">14948.4</td><td style = \"text-align: right;\">552.0</td><td style = \"text-align: right;\">2854.03</td><td style = \"text-align: right;\">0.0</td><td style = \"text-align: right;\">45407.1</td><td style = \"text-align: right;\">3614.53</td><td style = \"text-align: right;\">143.184</td><td style = \"text-align: right;\">76.8598</td><td style = \"text-align: right;\">0.0</td><td style = \"text-align: right;\">774.161</td><td style = \"text-align: right;\">0.0</td><td style = \"text-align: right;\">0.0</td><td style = \"text-align: right;\">0.0</td><td style = \"text-align: right;\">3138.96</td><td style = \"text-align: right;\">898.402</td><td style = \"text-align: right;\">4731.46</td><td style = \"text-align: right;\">4886.78</td><td style = \"text-align: right;\">3785.98</td></tr><tr><td class = \"rowNumber\" style = \"font-weight: bold; text-align: right;\">27</td><td style = \"text-align: right;\">27</td><td style = \"text-align: right;\">15148.2</td><td style = \"text-align: right;\">552.0</td><td style = \"text-align: right;\">3520.37</td><td style = \"text-align: right;\">0.0</td><td style = \"text-align: right;\">45146.2</td><td style = \"text-align: right;\">3674.3</td><td style = \"text-align: right;\">99.7094</td><td style = \"text-align: right;\">93.2183</td><td style = \"text-align: right;\">0.0</td><td style = \"text-align: right;\">879.115</td><td style = \"text-align: right;\">0.0</td><td style = \"text-align: right;\">0.0</td><td style = \"text-align: right;\">0.0</td><td style = \"text-align: right;\">3630.54</td><td style = \"text-align: right;\">898.058</td><td style = \"text-align: right;\">4793.03</td><td style = \"text-align: right;\">4729.93</td><td style = \"text-align: right;\">3000.43</td></tr><tr><td class = \"rowNumber\" style = \"font-weight: bold; text-align: right;\">28</td><td style = \"text-align: right;\">28</td><td style = \"text-align: right;\">15530.5</td><td style = \"text-align: right;\">276.0</td><td style = \"text-align: right;\">2046.94</td><td style = \"text-align: right;\">0.0</td><td style = \"text-align: right;\">46898.2</td><td style = \"text-align: right;\">3301.84</td><td style = \"text-align: right;\">70.1229</td><td style = \"text-align: right;\">73.669</td><td style = \"text-align: right;\">0.0</td><td style = \"text-align: right;\">557.13</td><td style = \"text-align: right;\">0.0</td><td style = \"text-align: right;\">0.0</td><td style = \"text-align: right;\">0.0</td><td style = \"text-align: right;\">3456.48</td><td style = \"text-align: right;\">1116.82</td><td style = \"text-align: right;\">5473.46</td><td style = \"text-align: right;\">4298.25</td><td style = \"text-align: right;\">2554.68</td></tr><tr><td class = \"rowNumber\" style = \"font-weight: bold; text-align: right;\">29</td><td style = \"text-align: right;\">29</td><td style = \"text-align: right;\">15408.3</td><td style = \"text-align: right;\">414.0</td><td style = \"text-align: right;\">2415.25</td><td style = \"text-align: right;\">0.0</td><td style = \"text-align: right;\">45303.2</td><td style = \"text-align: right;\">3026.07</td><td style = \"text-align: right;\">70.1229</td><td style = \"text-align: right;\">74.9856</td><td style = \"text-align: right;\">0.0</td><td style = \"text-align: right;\">750.18</td><td style = \"text-align: right;\">0.0</td><td style = \"text-align: right;\">0.0</td><td style = \"text-align: right;\">0.0</td><td style = \"text-align: right;\">3549.02</td><td style = \"text-align: right;\">897.025</td><td style = \"text-align: right;\">4647.37</td><td style = \"text-align: right;\">4124.69</td><td style = \"text-align: right;\">2875.94</td></tr><tr><td class = \"rowNumber\" style = \"font-weight: bold; text-align: right;\">30</td><td style = \"text-align: right;\">30</td><td style = \"text-align: right;\">15096.8</td><td style = \"text-align: right;\">301.091</td><td style = \"text-align: right;\">1752.5</td><td style = \"text-align: right;\">0.0</td><td style = \"text-align: right;\">47303.4</td><td style = \"text-align: right;\">2106.26</td><td style = \"text-align: right;\">22.1493</td><td style = \"text-align: right;\">64.0062</td><td style = \"text-align: right;\">0.0</td><td style = \"text-align: right;\">718.689</td><td style = \"text-align: right;\">0.0</td><td style = \"text-align: right;\">0.0</td><td style = \"text-align: right;\">0.0</td><td style = \"text-align: right;\">3168.42</td><td style = \"text-align: right;\">765.477</td><td style = \"text-align: right;\">4552.44</td><td style = \"text-align: right;\">4220.55</td><td style = \"text-align: right;\">3021.98</td></tr><tr><td class = \"rowNumber\" style = \"font-weight: bold; text-align: right;\">31</td><td style = \"text-align: right;\">31</td><td style = \"text-align: right;\">15300.5</td><td style = \"text-align: right;\">236.571</td><td style = \"text-align: right;\">1919.77</td><td style = \"text-align: right;\">0.0</td><td style = \"text-align: right;\">45445.8</td><td style = \"text-align: right;\">2430.4</td><td style = \"text-align: right;\">34.8061</td><td style = \"text-align: right;\">70.8306</td><td style = \"text-align: right;\">0.0</td><td style = \"text-align: right;\">613.164</td><td style = \"text-align: right;\">0.0</td><td style = \"text-align: right;\">0.0</td><td style = \"text-align: right;\">0.0</td><td style = \"text-align: right;\">3396.69</td><td style = \"text-align: right;\">1232.79</td><td style = \"text-align: right;\">4022.89</td><td style = \"text-align: right;\">4268.53</td><td style = \"text-align: right;\">2535.64</td></tr></tbody></table></div>"
      ],
      "text/latex": [
       "\\begin{tabular}{r|cccccccc}\n",
       "\t& Day & Hydraulic\\_mean & Bioenergy\\_mean & Wind\\_mean & Solar\\_mean & Nuclear\\_mean & Gas\\_mean & \\\\\n",
       "\t\\hline\n",
       "\t& Int64 & Float64 & Float64 & Float64 & Float64 & Float64 & Float64 & \\\\\n",
       "\t\\hline\n",
       "\t1 & 1 & 15553.9 & 414.0 & 2309.28 & 0.0 & 42864.1 & 3077.45 & $\\dots$ \\\\\n",
       "\t2 & 2 & 15550.6 & 580.827 & 2770.31 & 0.0 & 44296.1 & 3389.73 & $\\dots$ \\\\\n",
       "\t3 & 3 & 15532.1 & 690.0 & 2545.86 & 0.0 & 45478.4 & 3380.88 & $\\dots$ \\\\\n",
       "\t4 & 4 & 15540.0 & 690.0 & 2372.25 & 0.0 & 46744.8 & 3314.57 & $\\dots$ \\\\\n",
       "\t5 & 5 & 15605.6 & 703.653 & 2376.91 & 0.0 & 44654.5 & 3314.57 & $\\dots$ \\\\\n",
       "\t6 & 6 & 15383.1 & 828.0 & 2579.39 & 0.0 & 43996.3 & 3381.49 & $\\dots$ \\\\\n",
       "\t7 & 7 & 15296.0 & 828.0 & 2579.39 & 0.0 & 44015.5 & 3818.84 & $\\dots$ \\\\\n",
       "\t8 & 8 & 15329.4 & 690.0 & 2497.93 & 0.0 & 44186.8 & 3964.78 & $\\dots$ \\\\\n",
       "\t9 & 9 & 15647.8 & 690.0 & 2675.03 & 0.0 & 43370.3 & 3883.67 & $\\dots$ \\\\\n",
       "\t10 & 10 & 15560.2 & 552.0 & 2831.39 & 0.0 & 43493.9 & 3516.25 & $\\dots$ \\\\\n",
       "\t11 & 11 & 15660.1 & 552.0 & 3339.99 & 0.0 & 43416.2 & 3671.5 & $\\dots$ \\\\\n",
       "\t12 & 12 & 15664.4 & 552.0 & 3339.99 & 0.0 & 43054.8 & 3671.5 & $\\dots$ \\\\\n",
       "\t13 & 13 & 15588.1 & 414.0 & 3075.65 & 0.0 & 44626.1 & 3355.2 & $\\dots$ \\\\\n",
       "\t14 & 14 & 15700.4 & 414.0 & 3086.67 & 0.0 & 47714.6 & 2621.49 & $\\dots$ \\\\\n",
       "\t15 & 15 & 15785.8 & 552.0 & 3009.39 & 0.0 & 44738.9 & 2633.66 & $\\dots$ \\\\\n",
       "\t16 & 16 & 15333.7 & 690.0 & 3189.77 & 0.0 & 44118.8 & 2657.1 & $\\dots$ \\\\\n",
       "\t17 & 17 & 15437.9 & 552.0 & 2386.13 & 0.0 & 46469.9 & 2495.98 & $\\dots$ \\\\\n",
       "\t18 & 18 & 15358.0 & 552.0 & 2189.56 & 0.0 & 46468.5 & 2507.38 & $\\dots$ \\\\\n",
       "\t19 & 19 & 15358.7 & 552.0 & 2089.0 & 0.0 & 46678.6 & 2507.38 & $\\dots$ \\\\\n",
       "\t20 & 20 & 15351.0 & 552.0 & 1663.42 & 0.0 & 47358.9 & 2722.62 & $\\dots$ \\\\\n",
       "\t21 & 21 & 15012.1 & 828.0 & 3044.96 & 0.0 & 44409.9 & 3329.21 & $\\dots$ \\\\\n",
       "\t22 & 22 & 14929.0 & 690.0 & 2768.52 & 0.0 & 43194.1 & 3314.26 & $\\dots$ \\\\\n",
       "\t23 & 23 & 15110.1 & 552.0 & 2843.19 & 0.0 & 43941.4 & 3007.74 & $\\dots$ \\\\\n",
       "\t24 & 24 & 15013.9 & 552.0 & 2952.25 & 0.0 & 43550.8 & 3533.04 & $\\dots$ \\\\\n",
       "\t25 & 25 & 14908.1 & 552.0 & 2597.58 & 0.0 & 44705.3 & 3366.38 & $\\dots$ \\\\\n",
       "\t26 & 26 & 14948.4 & 552.0 & 2854.03 & 0.0 & 45407.1 & 3614.53 & $\\dots$ \\\\\n",
       "\t27 & 27 & 15148.2 & 552.0 & 3520.37 & 0.0 & 45146.2 & 3674.3 & $\\dots$ \\\\\n",
       "\t28 & 28 & 15530.5 & 276.0 & 2046.94 & 0.0 & 46898.2 & 3301.84 & $\\dots$ \\\\\n",
       "\t29 & 29 & 15408.3 & 414.0 & 2415.25 & 0.0 & 45303.2 & 3026.07 & $\\dots$ \\\\\n",
       "\t30 & 30 & 15096.8 & 301.091 & 1752.5 & 0.0 & 47303.4 & 2106.26 & $\\dots$ \\\\\n",
       "\t$\\dots$ & $\\dots$ & $\\dots$ & $\\dots$ & $\\dots$ & $\\dots$ & $\\dots$ & $\\dots$ &  \\\\\n",
       "\\end{tabular}\n"
      ],
      "text/plain": [
       "\u001b[1m31×19 DataFrame\n",
       "\u001b[1m Row │\u001b[1m Day   \u001b[1m Hydraulic_mean \u001b[1m Bioenergy_mean \u001b[1m Wind_mean \u001b[1m Solar_mean \u001b[1m Nuclear_m ⋯\n",
       "     │\u001b[90m Int64 \u001b[90m Float64        \u001b[90m Float64        \u001b[90m Float64   \u001b[90m Float64    \u001b[90m Float64   ⋯\n",
       "─────┼──────────────────────────────────────────────────────────────────────────\n",
       "   1 │     1         15553.9         414.0      2309.28         0.0       4286 ⋯\n",
       "   2 │     2         15550.6         580.827    2770.31         0.0       4429\n",
       "   3 │     3         15532.1         690.0      2545.86         0.0       4547\n",
       "   4 │     4         15540.0         690.0      2372.25         0.0       4674\n",
       "   5 │     5         15605.6         703.653    2376.91         0.0       4465 ⋯\n",
       "   6 │     6         15383.1         828.0      2579.39         0.0       4399\n",
       "   7 │     7         15296.0         828.0      2579.39         0.0       4401\n",
       "   8 │     8         15329.4         690.0      2497.93         0.0       4418\n",
       "   9 │     9         15647.8         690.0      2675.03         0.0       4337 ⋯\n",
       "  10 │    10         15560.2         552.0      2831.39         0.0       4349\n",
       "  11 │    11         15660.1         552.0      3339.99         0.0       4341\n",
       "  ⋮  │   ⋮          ⋮               ⋮             ⋮          ⋮            ⋮    ⋱\n",
       "  22 │    22         14929.0         690.0      2768.52         0.0       4319\n",
       "  23 │    23         15110.1         552.0      2843.19         0.0       4394 ⋯\n",
       "  24 │    24         15013.9         552.0      2952.25         0.0       4355\n",
       "  25 │    25         14908.1         552.0      2597.58         0.0       4470\n",
       "  26 │    26         14948.4         552.0      2854.03         0.0       4540\n",
       "  27 │    27         15148.2         552.0      3520.37         0.0       4514 ⋯\n",
       "  28 │    28         15530.5         276.0      2046.94         0.0       4689\n",
       "  29 │    29         15408.3         414.0      2415.25         0.0       4530\n",
       "  30 │    30         15096.8         301.091    1752.5          0.0       4730\n",
       "  31 │    31         15300.5         236.571    1919.77         0.0       4544 ⋯\n",
       "\u001b[36m                                                  14 columns and 10 rows omitted"
      ]
     },
     "execution_count": 27,
     "metadata": {},
     "output_type": "execute_result"
    }
   ],
   "source": [
    "#df_opt_crisis\n",
    "#daily_total(df_opt_crisis)\n",
    "daily_average(df_opt_crisis)"
   ]
  },
  {
   "cell_type": "code",
   "execution_count": 28,
   "metadata": {},
   "outputs": [
    {
     "name": "stdout",
     "output_type": "stream",
     "text": [
      "Set parameter Username\n",
      "Academic license - for non-commercial use only - expires 2023-08-18\n",
      "Set parameter Username\n",
      "Academic license - for non-commercial use only - expires 2023-08-18\n",
      "Set parameter Username\n",
      "Academic license - for non-commercial use only - expires 2023-08-18\n",
      "Set parameter Username\n",
      "Academic license - for non-commercial use only - expires 2023-08-18\n",
      "Set parameter Username\n",
      "Academic license - for non-commercial use only - expires 2023-08-18\n",
      "Set parameter Username\n",
      "Academic license - for non-commercial use only - expires 2023-08-18\n",
      "Set parameter Username\n",
      "Academic license - for non-commercial use only - expires 2023-08-18\n",
      "Set parameter Username\n",
      "Academic license - for non-commercial use only - expires 2023-08-18\n",
      "Set parameter Username\n",
      "Academic license - for non-commercial use only - expires 2023-08-18\n",
      "Set parameter Username\n",
      "Academic license - for non-commercial use only - expires 2023-08-18\n"
     ]
    }
   ],
   "source": [
    "# for each alpha, compute the production cost, the real_baseline_cost, the total impact and the national impact\n",
    "# and store them in a dataframe\n",
    "alphas_df = DataFrame(alpha = Float64[], production_cost = Float64[], real_baseline_cost = Float64[], total_impact = Float64[], national_impact = Float64[])\n",
    "# use 10 alpha from 0 to 0.6, included\n",
    "for alpha in range(0, 0.8, length = 10)\n",
    "    model = crisis_optimizer(df_crisis, alpha)\n",
    "    # if we find a solution, we store the results\n",
    "    if termination_status(model) == MOI.OPTIMAL\n",
    "        x_opt = value.(model[:x])\n",
    "        y_opt = value.(model[:y])\n",
    "        z_opt = value.(model[:z])\n",
    "        push!(alphas_df, (alpha, compute_production_cost(x_opt, df_crisis), real_baseline_cost(x_opt, y_opt, z_opt, df_crisis), compute_total_impact(x_opt, y_opt, df_crisis), compute_national_impact(x_opt, y_opt, z_opt, df_crisis)))\n",
    "    end\n",
    "end\n"
   ]
  },
  {
   "cell_type": "code",
   "execution_count": 31,
   "metadata": {},
   "outputs": [
    {
     "data": {
      "text/plain": [
       "\"/Users/oscarcourbit/Desktop/Bureau - MacBook Pro de Oscar/MIT/Classes/15.093 -  Optimization Methods/Term Project/Energy-Allocation-in-France/crisis_cost.png\""
      ]
     },
     "execution_count": 31,
     "metadata": {},
     "output_type": "execute_result"
    }
   ],
   "source": [
    "# plot the results, title on the top left, x axis on the bottom, y axis on the left\n",
    "p = plot(alphas_df.alpha, alphas_df.production_cost, label = \"Production cost\", title = \"Crisis\", xlabel = \"alpha\", ylabel = \"cost\", legend = :topleft)\n",
    "plot!(p, alphas_df.alpha, alphas_df.real_baseline_cost, label = \"Total cost\")\n",
    "\n",
    "# save the plot\n",
    "#savefig(p, \"crisis_cost.png\")"
   ]
  },
  {
   "cell_type": "code",
   "execution_count": 32,
   "metadata": {},
   "outputs": [
    {
     "data": {
      "text/plain": [
       "\"/Users/oscarcourbit/Desktop/Bureau - MacBook Pro de Oscar/MIT/Classes/15.093 -  Optimization Methods/Term Project/Energy-Allocation-in-France/crisis_impact.png\""
      ]
     },
     "execution_count": 32,
     "metadata": {},
     "output_type": "execute_result"
    }
   ],
   "source": [
    "p2 = plot(alphas_df.alpha, alphas_df.total_impact, label = \"Total impact\", title = \"Crisis\", xlabel = \"alpha\", ylabel = \"impact\", legend = :topleft)\n",
    "plot!(p2, alphas_df.alpha, alphas_df.national_impact, label = \"National impact\")\n",
    "\n",
    "# save the plot\n",
    "#savefig(p2, \"crisis_impact.png\")"
   ]
  },
  {
   "cell_type": "markdown",
   "metadata": {},
   "source": [
    "With first results, we could use boost = 5 and alpha = 0.5 => max_boost = 2.5\n",
    "\n",
    "Same with second results\n",
    "\n",
    "With third results, we could use boost = 3 and alpha = 0.6 => max_boost = 1.8\n"
   ]
  },
  {
   "cell_type": "markdown",
   "metadata": {},
   "source": [
    "### Sustainable Energies"
   ]
  },
  {
   "cell_type": "code",
   "execution_count": 41,
   "metadata": {},
   "outputs": [
    {
     "data": {
      "text/plain": [
       "real_sustainable_cost (generic function with 1 method)"
      ]
     },
     "execution_count": 41,
     "metadata": {},
     "output_type": "execute_result"
    }
   ],
   "source": [
    "# sustainable cost function\n",
    "function lambda_sustainable_cost(x, y, z, df_base, beta)\n",
    "    # for each row of the dataframe, compute a cost\n",
    "    # x is the amount of energy produced by each source\n",
    "    # y is the amount of energy imported from each country\n",
    "    # z is the amount of energy exported to each country\n",
    "    T = size(df_base, 1)\n",
    "\n",
    "    # add production cost\n",
    "    production_cost = 0\n",
    "    for i in 1:size(sources, 1)\n",
    "        # add cost of producing energy with each source\n",
    "        production_cost += sum(x[:, i] .* ((1-beta) .* df_base[!, Symbol(sources[i] * \"_cost\")] .+ beta .* df_base[!, Symbol(sources[i] * \"_impact\")]))\n",
    "        production_cost += sum((x[:, i] - df_base[!, Symbol(sources[i])] ) .* df_base[!, Symbol(\"Lambda_\" * sources[i])])\n",
    "\n",
    "    end\n",
    "\n",
    "    # add import cost\n",
    "    import_cost = 0\n",
    "    for i in 1:size(neighbors, 1)\n",
    "        # add cost of importing energy from each neighbor\n",
    "        import_cost += sum(y[:, i] .* ((1-beta) .* df_base[!, Symbol(neighbors[i] * \"_Price\")] .+ beta .* df_base[!, Symbol(neighbors[i] * \"_impact\")]))\n",
    "    end\n",
    "\n",
    "    # add export revenue\n",
    "    export_revenue = 0\n",
    "    for i in 1:size(neighbors, 1)\n",
    "        # add cost of exporting energy to each neighbor\n",
    "        export_revenue += sum(z[:, i] .* beta .* df_base[!, \"Export_Price\"])\n",
    "    end     \n",
    "\n",
    "    # return the total cost\n",
    "    return production_cost + import_cost - export_revenue\n",
    "end\n",
    "\n",
    "\n",
    "function real_sustainable_cost(x, y, z, df_base, beta)\n",
    "    # for each row of the dataframe, compute a cost\n",
    "    # x is the amount of energy produced by each source\n",
    "    # y is the amount of energy imported from each country\n",
    "    # z is the amount of energy exported to each country\n",
    "    T = size(df_base, 1)\n",
    "\n",
    "    # add production cost\n",
    "    production_cost = 0\n",
    "    for i in 1:size(sources, 1)\n",
    "        # add cost of producing energy with each source\n",
    "        production_cost += sum(x[:, i] .* ((1-beta) .* df_base[!, Symbol(sources[i] * \"_cost\")] .+ beta .* df_base[!, Symbol(sources[i] * \"_impact\")]))\n",
    "    end\n",
    "\n",
    "    # add import cost\n",
    "    import_cost = 0\n",
    "    for i in 1:size(neighbors, 1)\n",
    "        # add cost of importing energy from each neighbor\n",
    "        import_cost += sum(y[:, i] .* ((1-beta) .* df_base[!, Symbol(neighbors[i] * \"_Price\")] .+ beta .* df_base[!, Symbol(neighbors[i] * \"_impact\")]))\n",
    "    end\n",
    "\n",
    "    # add export revenue\n",
    "    export_revenue = 0\n",
    "    for i in 1:size(neighbors, 1)\n",
    "        # add cost of exporting energy to each neighbor\n",
    "        export_revenue += sum(z[:, i] .* (1-beta) .* df_base[!, \"Export_Price\"])\n",
    "    end  \n",
    "\n",
    "    # return the total cost\n",
    "    return production_cost + import_cost - export_revenue\n",
    "end\n"
   ]
  },
  {
   "cell_type": "code",
   "execution_count": 42,
   "metadata": {},
   "outputs": [
    {
     "data": {
      "text/plain": [
       "sustainable_optimizer (generic function with 1 method)"
      ]
     },
     "execution_count": 42,
     "metadata": {},
     "output_type": "execute_result"
    }
   ],
   "source": [
    "# function to build a Gurobi Optimizer to optimize the sustainable cost\n",
    "function sustainable_optimizer(df_base, beta)\n",
    "\n",
    "    # create a Gurobi Optimizer\n",
    "    model = Model(Gurobi.Optimizer)\n",
    "    set_optimizer_attribute(model, \"OutputFlag\", 0)\n",
    "\n",
    "    # add variables\n",
    "    T = size(df_base, 1)\n",
    "    @variable(model, x[1:T, 1:8] >= 0) # production of energy with each source\n",
    "    @variable(model, y[1:T, 1:5] >= 0) # import of energy from each neighbor\n",
    "    @variable(model, z[1:T, 1:5] >= 0) # export of energy to each neighbor\n",
    "\n",
    "    \n",
    "    # add objective\n",
    "    #@objective(model, Min, lambda_sustainable_cost(x, y, z, df_base, beta))\n",
    "    @objective(model, Min, real_sustainable_cost(x, y, z, df_base, beta))\n",
    "\n",
    "\n",
    "    # add constraints\n",
    "    # Demand constraint, we need to produce enough energy for France\n",
    "    @constraint(model, [t in 1:T], sum(x[t, :]) + sum(y[t, :]) - sum(z[t, :]) >= df_base[t, :Consumption])\n",
    "\n",
    "    # maximum import available constraint\n",
    "    @constraint(model, [t in 1:T, i in 1:5], y[t, i] <= df_base[t, Symbol(neighbors[i] * \"_import\")])\n",
    "\n",
    "    # maximum export available constraint\n",
    "    @constraint(model, [t in 1:T, i in 1:5], z[t, i] <= df_base[t, Symbol(neighbors[i] * \"_export\")])\n",
    "\n",
    "    # maximum production constraint\n",
    "    @constraint(model, [t in 1:T, i in 1:8], x[t, i] <= df_base[t, Symbol(sources[i] * \"_cap\")])\n",
    "\n",
    "    \n",
    "    # optimize\n",
    "    optimize!(model)\n",
    "\n",
    "    # return the optimizer\n",
    "    return model\n",
    "end"
   ]
  },
  {
   "cell_type": "code",
   "execution_count": 50,
   "metadata": {},
   "outputs": [
    {
     "name": "stdout",
     "output_type": "stream",
     "text": [
      "Set parameter Username\n",
      "Academic license - for non-commercial use only - expires 2023-08-18\n",
      "Real baseline cost: 6.963291707617268e10\n",
      "Production cost: 6.943045106478091e10\n",
      "Environmental impact: 3.917007848688179e10\n",
      "National impact: 3.917007848688179e10\n",
      "\n",
      "Proportional total cost: 0.9714240318891072\n",
      "Proportional Production cost: 0.8697503734738187\n",
      "Proportional Environmental impact: 0.48176509919991206\n",
      "Proportional National impact: 0.5406576519995533"
     ]
    }
   ],
   "source": [
    "model_3 = sustainable_optimizer(df_baseline, 0.9);\n",
    "\n",
    "# get the optimal values\n",
    "x_opt_sustainable = value.(model_3[:x])\n",
    "y_opt_sustainable = value.(model_3[:y])\n",
    "z_opt_sustainable = value.(model_3[:z])\n",
    "\n",
    "# convert the optimal values to a dataframe\n",
    "df_opt_sustainable = convert_to_df(x_opt_sustainable, y_opt_sustainable, z_opt_sustainable, df_baseline);\n",
    "\n",
    "# compute the cost of the optimal solution\n",
    "println(\"Real baseline cost: \", real_baseline_cost(x_opt_sustainable, y_opt_sustainable, z_opt_sustainable, df_baseline));\n",
    "println(\"Production cost: \", compute_production_cost(x_opt_sustainable, df_baseline));\n",
    "println(\"Environmental impact: \", compute_total_impact(x_opt_sustainable, y_opt_sustainable, df_baseline))\n",
    "print(\"National impact: \", compute_national_impact(x_opt_sustainable, y_opt_sustainable, z_opt_sustainable, df_baseline))\n",
    "\n",
    "# compute proportional cost (compared to rte)\n",
    "println(\"\\n\")\n",
    "println(\"Proportional total cost: \", real_baseline_cost(x_opt_sustainable, y_opt_sustainable, z_opt_sustainable, df_baseline) / total_cost_rte);\n",
    "println(\"Proportional Production cost: \", compute_production_cost(x_opt_sustainable, df_baseline) / production_cost_rte);\n",
    "println(\"Proportional Environmental impact: \", compute_total_impact(x_opt_sustainable, y_opt_sustainable, df_baseline) / total_impact_rte)\n",
    "print(\"Proportional National impact: \", compute_national_impact(x_opt_sustainable, y_opt_sustainable, z_opt_sustainable, df_baseline) / national_impact_rte)"
   ]
  },
  {
   "cell_type": "code",
   "execution_count": 51,
   "metadata": {},
   "outputs": [
    {
     "data": {
      "text/html": [
       "<div><div style = \"float: left;\"><span>31×19 DataFrame</span></div><div style = \"float: right;\"><span style = \"font-style: italic;\">6 rows omitted</span></div><div style = \"clear: both;\"></div></div><div class = \"data-frame\" style = \"overflow-x: scroll;\"><table class = \"data-frame\" style = \"margin-bottom: 6px;\"><thead><tr class = \"header\"><th class = \"rowNumber\" style = \"font-weight: bold; text-align: right;\">Row</th><th style = \"text-align: left;\">Day</th><th style = \"text-align: left;\">Hydraulic_mean</th><th style = \"text-align: left;\">Bioenergy_mean</th><th style = \"text-align: left;\">Wind_mean</th><th style = \"text-align: left;\">Solar_mean</th><th style = \"text-align: left;\">Nuclear_mean</th><th style = \"text-align: left;\">Gas_mean</th><th style = \"text-align: left;\">Coal_mean</th><th style = \"text-align: left;\">Fuel_mean</th><th style = \"text-align: left;\">England_import_mean</th><th style = \"text-align: left;\">Spain_import_mean</th><th style = \"text-align: left;\">Italy_import_mean</th><th style = \"text-align: left;\">Switzerland_import_mean</th><th style = \"text-align: left;\">Germany_Belgium_import_mean</th><th style = \"text-align: left;\">England_export_mean</th><th style = \"text-align: left;\">Spain_export_mean</th><th style = \"text-align: left;\">Italy_export_mean</th><th style = \"text-align: left;\">Switzerland_export_mean</th><th style = \"text-align: left;\">Germany_Belgium_export_mean</th></tr><tr class = \"subheader headerLastRow\"><th class = \"rowNumber\" style = \"font-weight: bold; text-align: right;\"></th><th title = \"Int64\" style = \"text-align: left;\">Int64</th><th title = \"Float64\" style = \"text-align: left;\">Float64</th><th title = \"Float64\" style = \"text-align: left;\">Float64</th><th title = \"Float64\" style = \"text-align: left;\">Float64</th><th title = \"Float64\" style = \"text-align: left;\">Float64</th><th title = \"Float64\" style = \"text-align: left;\">Float64</th><th title = \"Float64\" style = \"text-align: left;\">Float64</th><th title = \"Float64\" style = \"text-align: left;\">Float64</th><th title = \"Float64\" style = \"text-align: left;\">Float64</th><th title = \"Float64\" style = \"text-align: left;\">Float64</th><th title = \"Float64\" style = \"text-align: left;\">Float64</th><th title = \"Float64\" style = \"text-align: left;\">Float64</th><th title = \"Float64\" style = \"text-align: left;\">Float64</th><th title = \"Float64\" style = \"text-align: left;\">Float64</th><th title = \"Float64\" style = \"text-align: left;\">Float64</th><th title = \"Float64\" style = \"text-align: left;\">Float64</th><th title = \"Float64\" style = \"text-align: left;\">Float64</th><th title = \"Float64\" style = \"text-align: left;\">Float64</th><th title = \"Float64\" style = \"text-align: left;\">Float64</th></tr></thead><tbody><tr><td class = \"rowNumber\" style = \"font-weight: bold; text-align: right;\">1</td><td style = \"text-align: right;\">1</td><td style = \"text-align: right;\">8936.25</td><td style = \"text-align: right;\">1656.0</td><td style = \"text-align: right;\">5873.34</td><td style = \"text-align: right;\">1538.72</td><td style = \"text-align: right;\">31560.2</td><td style = \"text-align: right;\">0.0</td><td style = \"text-align: right;\">0.0</td><td style = \"text-align: right;\">0.0</td><td style = \"text-align: right;\">0.0</td><td style = \"text-align: right;\">0.0</td><td style = \"text-align: right;\">0.0</td><td style = \"text-align: right;\">172.149</td><td style = \"text-align: right;\">0.0</td><td style = \"text-align: right;\">0.0</td><td style = \"text-align: right;\">0.0</td><td style = \"text-align: right;\">0.0</td><td style = \"text-align: right;\">0.0</td><td style = \"text-align: right;\">0.0</td></tr><tr><td class = \"rowNumber\" style = \"font-weight: bold; text-align: right;\">2</td><td style = \"text-align: right;\">2</td><td style = \"text-align: right;\">8945.57</td><td style = \"text-align: right;\">1656.0</td><td style = \"text-align: right;\">5322.38</td><td style = \"text-align: right;\">1524.98</td><td style = \"text-align: right;\">33571.9</td><td style = \"text-align: right;\">0.0</td><td style = \"text-align: right;\">0.0</td><td style = \"text-align: right;\">0.0</td><td style = \"text-align: right;\">0.0</td><td style = \"text-align: right;\">0.0</td><td style = \"text-align: right;\">0.0</td><td style = \"text-align: right;\">149.347</td><td style = \"text-align: right;\">0.0</td><td style = \"text-align: right;\">0.0</td><td style = \"text-align: right;\">0.0</td><td style = \"text-align: right;\">0.0</td><td style = \"text-align: right;\">0.0</td><td style = \"text-align: right;\">0.0</td></tr><tr><td class = \"rowNumber\" style = \"font-weight: bold; text-align: right;\">3</td><td style = \"text-align: right;\">3</td><td style = \"text-align: right;\">9060.7</td><td style = \"text-align: right;\">1656.0</td><td style = \"text-align: right;\">4967.91</td><td style = \"text-align: right;\">1587.62</td><td style = \"text-align: right;\">34399.0</td><td style = \"text-align: right;\">0.0</td><td style = \"text-align: right;\">0.0</td><td style = \"text-align: right;\">0.0</td><td style = \"text-align: right;\">0.0</td><td style = \"text-align: right;\">0.0</td><td style = \"text-align: right;\">0.0</td><td style = \"text-align: right;\">125.057</td><td style = \"text-align: right;\">0.0</td><td style = \"text-align: right;\">0.0</td><td style = \"text-align: right;\">0.0</td><td style = \"text-align: right;\">0.0</td><td style = \"text-align: right;\">0.0</td><td style = \"text-align: right;\">0.0</td></tr><tr><td class = \"rowNumber\" style = \"font-weight: bold; text-align: right;\">4</td><td style = \"text-align: right;\">4</td><td style = \"text-align: right;\">9183.03</td><td style = \"text-align: right;\">1656.0</td><td style = \"text-align: right;\">4732.58</td><td style = \"text-align: right;\">1637.61</td><td style = \"text-align: right;\">34362.2</td><td style = \"text-align: right;\">0.0</td><td style = \"text-align: right;\">0.0</td><td style = \"text-align: right;\">0.0</td><td style = \"text-align: right;\">0.0</td><td style = \"text-align: right;\">0.0</td><td style = \"text-align: right;\">0.0</td><td style = \"text-align: right;\">115.99</td><td style = \"text-align: right;\">0.0</td><td style = \"text-align: right;\">0.0</td><td style = \"text-align: right;\">0.0</td><td style = \"text-align: right;\">0.0</td><td style = \"text-align: right;\">0.0</td><td style = \"text-align: right;\">0.0</td></tr><tr><td class = \"rowNumber\" style = \"font-weight: bold; text-align: right;\">5</td><td style = \"text-align: right;\">5</td><td style = \"text-align: right;\">9225.89</td><td style = \"text-align: right;\">1656.0</td><td style = \"text-align: right;\">4872.19</td><td style = \"text-align: right;\">1643.44</td><td style = \"text-align: right;\">33737.3</td><td style = \"text-align: right;\">0.0</td><td style = \"text-align: right;\">0.0</td><td style = \"text-align: right;\">0.0</td><td style = \"text-align: right;\">0.0</td><td style = \"text-align: right;\">0.0</td><td style = \"text-align: right;\">0.0</td><td style = \"text-align: right;\">137.66</td><td style = \"text-align: right;\">0.0</td><td style = \"text-align: right;\">0.0</td><td style = \"text-align: right;\">0.0</td><td style = \"text-align: right;\">0.0</td><td style = \"text-align: right;\">0.0</td><td style = \"text-align: right;\">0.0</td></tr><tr><td class = \"rowNumber\" style = \"font-weight: bold; text-align: right;\">6</td><td style = \"text-align: right;\">6</td><td style = \"text-align: right;\">8949.28</td><td style = \"text-align: right;\">1656.0</td><td style = \"text-align: right;\">4627.36</td><td style = \"text-align: right;\">1700.01</td><td style = \"text-align: right;\">35208.1</td><td style = \"text-align: right;\">0.0</td><td style = \"text-align: right;\">0.0</td><td style = \"text-align: right;\">0.0</td><td style = \"text-align: right;\">0.0</td><td style = \"text-align: right;\">0.0</td><td style = \"text-align: right;\">0.0</td><td style = \"text-align: right;\">101.285</td><td style = \"text-align: right;\">0.0</td><td style = \"text-align: right;\">0.0</td><td style = \"text-align: right;\">0.0</td><td style = \"text-align: right;\">0.0</td><td style = \"text-align: right;\">0.0</td><td style = \"text-align: right;\">0.0</td></tr><tr><td class = \"rowNumber\" style = \"font-weight: bold; text-align: right;\">7</td><td style = \"text-align: right;\">7</td><td style = \"text-align: right;\">8971.47</td><td style = \"text-align: right;\">1656.0</td><td style = \"text-align: right;\">4499.78</td><td style = \"text-align: right;\">1685.14</td><td style = \"text-align: right;\">35111.0</td><td style = \"text-align: right;\">0.0</td><td style = \"text-align: right;\">0.0</td><td style = \"text-align: right;\">0.0</td><td style = \"text-align: right;\">0.0</td><td style = \"text-align: right;\">0.0</td><td style = \"text-align: right;\">0.0</td><td style = \"text-align: right;\">212.965</td><td style = \"text-align: right;\">0.0</td><td style = \"text-align: right;\">0.0</td><td style = \"text-align: right;\">0.0</td><td style = \"text-align: right;\">0.0</td><td style = \"text-align: right;\">0.0</td><td style = \"text-align: right;\">0.0</td></tr><tr><td class = \"rowNumber\" style = \"font-weight: bold; text-align: right;\">8</td><td style = \"text-align: right;\">8</td><td style = \"text-align: right;\">9094.82</td><td style = \"text-align: right;\">1656.0</td><td style = \"text-align: right;\">4418.33</td><td style = \"text-align: right;\">1676.48</td><td style = \"text-align: right;\">33453.0</td><td style = \"text-align: right;\">0.0</td><td style = \"text-align: right;\">0.0</td><td style = \"text-align: right;\">0.0</td><td style = \"text-align: right;\">0.0</td><td style = \"text-align: right;\">0.0</td><td style = \"text-align: right;\">0.0</td><td style = \"text-align: right;\">241.33</td><td style = \"text-align: right;\">0.0</td><td style = \"text-align: right;\">0.0</td><td style = \"text-align: right;\">0.0</td><td style = \"text-align: right;\">0.0</td><td style = \"text-align: right;\">0.0</td><td style = \"text-align: right;\">0.0</td></tr><tr><td class = \"rowNumber\" style = \"font-weight: bold; text-align: right;\">9</td><td style = \"text-align: right;\">9</td><td style = \"text-align: right;\">9051.41</td><td style = \"text-align: right;\">1656.0</td><td style = \"text-align: right;\">4486.44</td><td style = \"text-align: right;\">1719.52</td><td style = \"text-align: right;\">33948.3</td><td style = \"text-align: right;\">0.0</td><td style = \"text-align: right;\">0.0</td><td style = \"text-align: right;\">0.0</td><td style = \"text-align: right;\">0.0</td><td style = \"text-align: right;\">0.0</td><td style = \"text-align: right;\">0.0</td><td style = \"text-align: right;\">209.128</td><td style = \"text-align: right;\">0.0</td><td style = \"text-align: right;\">0.0</td><td style = \"text-align: right;\">0.0</td><td style = \"text-align: right;\">0.0</td><td style = \"text-align: right;\">0.0</td><td style = \"text-align: right;\">0.0</td></tr><tr><td class = \"rowNumber\" style = \"font-weight: bold; text-align: right;\">10</td><td style = \"text-align: right;\">10</td><td style = \"text-align: right;\">8925.86</td><td style = \"text-align: right;\">1656.0</td><td style = \"text-align: right;\">4780.01</td><td style = \"text-align: right;\">1658.86</td><td style = \"text-align: right;\">34132.1</td><td style = \"text-align: right;\">0.0</td><td style = \"text-align: right;\">0.0</td><td style = \"text-align: right;\">0.0</td><td style = \"text-align: right;\">0.0</td><td style = \"text-align: right;\">0.0</td><td style = \"text-align: right;\">0.0</td><td style = \"text-align: right;\">188.84</td><td style = \"text-align: right;\">0.0</td><td style = \"text-align: right;\">0.0</td><td style = \"text-align: right;\">0.0</td><td style = \"text-align: right;\">0.0</td><td style = \"text-align: right;\">0.0</td><td style = \"text-align: right;\">0.0</td></tr><tr><td class = \"rowNumber\" style = \"font-weight: bold; text-align: right;\">11</td><td style = \"text-align: right;\">11</td><td style = \"text-align: right;\">9031.1</td><td style = \"text-align: right;\">1656.0</td><td style = \"text-align: right;\">5061.91</td><td style = \"text-align: right;\">1631.04</td><td style = \"text-align: right;\">32818.4</td><td style = \"text-align: right;\">0.0</td><td style = \"text-align: right;\">0.0</td><td style = \"text-align: right;\">0.0</td><td style = \"text-align: right;\">0.0</td><td style = \"text-align: right;\">0.0</td><td style = \"text-align: right;\">0.0</td><td style = \"text-align: right;\">132.113</td><td style = \"text-align: right;\">0.0</td><td style = \"text-align: right;\">0.0</td><td style = \"text-align: right;\">0.0</td><td style = \"text-align: right;\">0.0</td><td style = \"text-align: right;\">0.0</td><td style = \"text-align: right;\">0.0</td></tr><tr><td class = \"rowNumber\" style = \"font-weight: bold; text-align: right;\">12</td><td style = \"text-align: right;\">12</td><td style = \"text-align: right;\">9014.17</td><td style = \"text-align: right;\">1656.0</td><td style = \"text-align: right;\">4703.06</td><td style = \"text-align: right;\">1637.87</td><td style = \"text-align: right;\">33042.1</td><td style = \"text-align: right;\">0.0</td><td style = \"text-align: right;\">0.0</td><td style = \"text-align: right;\">0.0</td><td style = \"text-align: right;\">0.0</td><td style = \"text-align: right;\">0.0</td><td style = \"text-align: right;\">0.0</td><td style = \"text-align: right;\">142.363</td><td style = \"text-align: right;\">0.0</td><td style = \"text-align: right;\">0.0</td><td style = \"text-align: right;\">0.0</td><td style = \"text-align: right;\">0.0</td><td style = \"text-align: right;\">0.0</td><td style = \"text-align: right;\">0.0</td></tr><tr><td class = \"rowNumber\" style = \"font-weight: bold; text-align: right;\">13</td><td style = \"text-align: right;\">13</td><td style = \"text-align: right;\">8904.08</td><td style = \"text-align: right;\">1656.0</td><td style = \"text-align: right;\">4955.05</td><td style = \"text-align: right;\">1582.97</td><td style = \"text-align: right;\">33580.0</td><td style = \"text-align: right;\">0.0</td><td style = \"text-align: right;\">0.0</td><td style = \"text-align: right;\">0.0</td><td style = \"text-align: right;\">0.0</td><td style = \"text-align: right;\">0.0</td><td style = \"text-align: right;\">0.0</td><td style = \"text-align: right;\">100.769</td><td style = \"text-align: right;\">0.0</td><td style = \"text-align: right;\">0.0</td><td style = \"text-align: right;\">0.0</td><td style = \"text-align: right;\">0.0</td><td style = \"text-align: right;\">0.0</td><td style = \"text-align: right;\">0.0</td></tr><tr><td style = \"text-align: right;\">&vellip;</td><td style = \"text-align: right;\">&vellip;</td><td style = \"text-align: right;\">&vellip;</td><td style = \"text-align: right;\">&vellip;</td><td style = \"text-align: right;\">&vellip;</td><td style = \"text-align: right;\">&vellip;</td><td style = \"text-align: right;\">&vellip;</td><td style = \"text-align: right;\">&vellip;</td><td style = \"text-align: right;\">&vellip;</td><td style = \"text-align: right;\">&vellip;</td><td style = \"text-align: right;\">&vellip;</td><td style = \"text-align: right;\">&vellip;</td><td style = \"text-align: right;\">&vellip;</td><td style = \"text-align: right;\">&vellip;</td><td style = \"text-align: right;\">&vellip;</td><td style = \"text-align: right;\">&vellip;</td><td style = \"text-align: right;\">&vellip;</td><td style = \"text-align: right;\">&vellip;</td><td style = \"text-align: right;\">&vellip;</td><td style = \"text-align: right;\">&vellip;</td></tr><tr><td class = \"rowNumber\" style = \"font-weight: bold; text-align: right;\">20</td><td style = \"text-align: right;\">20</td><td style = \"text-align: right;\">8836.11</td><td style = \"text-align: right;\">1656.0</td><td style = \"text-align: right;\">4671.59</td><td style = \"text-align: right;\">1667.67</td><td style = \"text-align: right;\">33341.5</td><td style = \"text-align: right;\">0.0</td><td style = \"text-align: right;\">0.0</td><td style = \"text-align: right;\">0.0</td><td style = \"text-align: right;\">0.0</td><td style = \"text-align: right;\">0.0</td><td style = \"text-align: right;\">0.0</td><td style = \"text-align: right;\">93.2517</td><td style = \"text-align: right;\">0.0</td><td style = \"text-align: right;\">0.0</td><td style = \"text-align: right;\">0.0</td><td style = \"text-align: right;\">0.0</td><td style = \"text-align: right;\">0.0</td><td style = \"text-align: right;\">0.0</td></tr><tr><td class = \"rowNumber\" style = \"font-weight: bold; text-align: right;\">21</td><td style = \"text-align: right;\">21</td><td style = \"text-align: right;\">8743.72</td><td style = \"text-align: right;\">1656.0</td><td style = \"text-align: right;\">5220.64</td><td style = \"text-align: right;\">1617.71</td><td style = \"text-align: right;\">33259.9</td><td style = \"text-align: right;\">0.0</td><td style = \"text-align: right;\">0.0</td><td style = \"text-align: right;\">0.0</td><td style = \"text-align: right;\">0.0</td><td style = \"text-align: right;\">0.0</td><td style = \"text-align: right;\">0.0</td><td style = \"text-align: right;\">123.184</td><td style = \"text-align: right;\">0.0</td><td style = \"text-align: right;\">0.0</td><td style = \"text-align: right;\">0.0</td><td style = \"text-align: right;\">0.0</td><td style = \"text-align: right;\">0.0</td><td style = \"text-align: right;\">0.0</td></tr><tr><td class = \"rowNumber\" style = \"font-weight: bold; text-align: right;\">22</td><td style = \"text-align: right;\">22</td><td style = \"text-align: right;\">8632.34</td><td style = \"text-align: right;\">1656.0</td><td style = \"text-align: right;\">5346.35</td><td style = \"text-align: right;\">1636.06</td><td style = \"text-align: right;\">32728.8</td><td style = \"text-align: right;\">0.0</td><td style = \"text-align: right;\">0.0</td><td style = \"text-align: right;\">0.0</td><td style = \"text-align: right;\">0.0</td><td style = \"text-align: right;\">0.0</td><td style = \"text-align: right;\">0.0</td><td style = \"text-align: right;\">191.875</td><td style = \"text-align: right;\">0.0</td><td style = \"text-align: right;\">0.0</td><td style = \"text-align: right;\">0.0</td><td style = \"text-align: right;\">0.0</td><td style = \"text-align: right;\">0.0</td><td style = \"text-align: right;\">0.0</td></tr><tr><td class = \"rowNumber\" style = \"font-weight: bold; text-align: right;\">23</td><td style = \"text-align: right;\">23</td><td style = \"text-align: right;\">8609.4</td><td style = \"text-align: right;\">1656.0</td><td style = \"text-align: right;\">5420.68</td><td style = \"text-align: right;\">1642.19</td><td style = \"text-align: right;\">32677.3</td><td style = \"text-align: right;\">0.0</td><td style = \"text-align: right;\">0.0</td><td style = \"text-align: right;\">0.0</td><td style = \"text-align: right;\">0.0</td><td style = \"text-align: right;\">0.0</td><td style = \"text-align: right;\">0.0</td><td style = \"text-align: right;\">163.667</td><td style = \"text-align: right;\">0.0</td><td style = \"text-align: right;\">0.0</td><td style = \"text-align: right;\">0.0</td><td style = \"text-align: right;\">0.0</td><td style = \"text-align: right;\">0.0</td><td style = \"text-align: right;\">0.0</td></tr><tr><td class = \"rowNumber\" style = \"font-weight: bold; text-align: right;\">24</td><td style = \"text-align: right;\">24</td><td style = \"text-align: right;\">8628.26</td><td style = \"text-align: right;\">1656.0</td><td style = \"text-align: right;\">5593.99</td><td style = \"text-align: right;\">1594.78</td><td style = \"text-align: right;\">32901.8</td><td style = \"text-align: right;\">0.0</td><td style = \"text-align: right;\">0.0</td><td style = \"text-align: right;\">0.0</td><td style = \"text-align: right;\">0.0</td><td style = \"text-align: right;\">0.0</td><td style = \"text-align: right;\">0.0</td><td style = \"text-align: right;\">249.875</td><td style = \"text-align: right;\">0.0</td><td style = \"text-align: right;\">0.0</td><td style = \"text-align: right;\">0.0</td><td style = \"text-align: right;\">0.0</td><td style = \"text-align: right;\">0.0</td><td style = \"text-align: right;\">0.0</td></tr><tr><td class = \"rowNumber\" style = \"font-weight: bold; text-align: right;\">25</td><td style = \"text-align: right;\">25</td><td style = \"text-align: right;\">8569.84</td><td style = \"text-align: right;\">1656.0</td><td style = \"text-align: right;\">5702.25</td><td style = \"text-align: right;\">1616.58</td><td style = \"text-align: right;\">32667.9</td><td style = \"text-align: right;\">0.0</td><td style = \"text-align: right;\">0.0</td><td style = \"text-align: right;\">0.0</td><td style = \"text-align: right;\">0.0</td><td style = \"text-align: right;\">0.0</td><td style = \"text-align: right;\">0.0</td><td style = \"text-align: right;\">118.309</td><td style = \"text-align: right;\">0.0</td><td style = \"text-align: right;\">0.0</td><td style = \"text-align: right;\">0.0</td><td style = \"text-align: right;\">0.0</td><td style = \"text-align: right;\">0.0</td><td style = \"text-align: right;\">0.0</td></tr><tr><td class = \"rowNumber\" style = \"font-weight: bold; text-align: right;\">26</td><td style = \"text-align: right;\">26</td><td style = \"text-align: right;\">8668.39</td><td style = \"text-align: right;\">1656.0</td><td style = \"text-align: right;\">5770.75</td><td style = \"text-align: right;\">1629.6</td><td style = \"text-align: right;\">33083.7</td><td style = \"text-align: right;\">0.0</td><td style = \"text-align: right;\">0.0</td><td style = \"text-align: right;\">0.0</td><td style = \"text-align: right;\">0.0</td><td style = \"text-align: right;\">0.0</td><td style = \"text-align: right;\">0.0</td><td style = \"text-align: right;\">120.207</td><td style = \"text-align: right;\">0.0</td><td style = \"text-align: right;\">0.0</td><td style = \"text-align: right;\">0.0</td><td style = \"text-align: right;\">0.0</td><td style = \"text-align: right;\">0.0</td><td style = \"text-align: right;\">0.0</td></tr><tr><td class = \"rowNumber\" style = \"font-weight: bold; text-align: right;\">27</td><td style = \"text-align: right;\">27</td><td style = \"text-align: right;\">8636.15</td><td style = \"text-align: right;\">1656.0</td><td style = \"text-align: right;\">6539.15</td><td style = \"text-align: right;\">1613.83</td><td style = \"text-align: right;\">33473.4</td><td style = \"text-align: right;\">0.0</td><td style = \"text-align: right;\">0.0</td><td style = \"text-align: right;\">0.0</td><td style = \"text-align: right;\">0.0</td><td style = \"text-align: right;\">0.0</td><td style = \"text-align: right;\">0.0</td><td style = \"text-align: right;\">142.618</td><td style = \"text-align: right;\">0.0</td><td style = \"text-align: right;\">0.0</td><td style = \"text-align: right;\">0.0</td><td style = \"text-align: right;\">0.0</td><td style = \"text-align: right;\">0.0</td><td style = \"text-align: right;\">0.0</td></tr><tr><td class = \"rowNumber\" style = \"font-weight: bold; text-align: right;\">28</td><td style = \"text-align: right;\">28</td><td style = \"text-align: right;\">8880.25</td><td style = \"text-align: right;\">1656.0</td><td style = \"text-align: right;\">6045.23</td><td style = \"text-align: right;\">1608.67</td><td style = \"text-align: right;\">33477.4</td><td style = \"text-align: right;\">0.0</td><td style = \"text-align: right;\">0.0</td><td style = \"text-align: right;\">0.0</td><td style = \"text-align: right;\">0.0</td><td style = \"text-align: right;\">0.0</td><td style = \"text-align: right;\">0.0</td><td style = \"text-align: right;\">187.102</td><td style = \"text-align: right;\">0.0</td><td style = \"text-align: right;\">0.0</td><td style = \"text-align: right;\">0.0</td><td style = \"text-align: right;\">0.0</td><td style = \"text-align: right;\">0.0</td><td style = \"text-align: right;\">0.0</td></tr><tr><td class = \"rowNumber\" style = \"font-weight: bold; text-align: right;\">29</td><td style = \"text-align: right;\">29</td><td style = \"text-align: right;\">8798.82</td><td style = \"text-align: right;\">1656.0</td><td style = \"text-align: right;\">6192.78</td><td style = \"text-align: right;\">1586.69</td><td style = \"text-align: right;\">32967.4</td><td style = \"text-align: right;\">0.0</td><td style = \"text-align: right;\">0.0</td><td style = \"text-align: right;\">0.0</td><td style = \"text-align: right;\">0.0</td><td style = \"text-align: right;\">0.0</td><td style = \"text-align: right;\">0.0</td><td style = \"text-align: right;\">166.411</td><td style = \"text-align: right;\">0.0</td><td style = \"text-align: right;\">0.0</td><td style = \"text-align: right;\">0.0</td><td style = \"text-align: right;\">0.0</td><td style = \"text-align: right;\">0.0</td><td style = \"text-align: right;\">0.0</td></tr><tr><td class = \"rowNumber\" style = \"font-weight: bold; text-align: right;\">30</td><td style = \"text-align: right;\">30</td><td style = \"text-align: right;\">8566.89</td><td style = \"text-align: right;\">1656.0</td><td style = \"text-align: right;\">5866.68</td><td style = \"text-align: right;\">1618.39</td><td style = \"text-align: right;\">33769.8</td><td style = \"text-align: right;\">0.0</td><td style = \"text-align: right;\">0.0</td><td style = \"text-align: right;\">0.0</td><td style = \"text-align: right;\">0.0</td><td style = \"text-align: right;\">0.0</td><td style = \"text-align: right;\">0.0</td><td style = \"text-align: right;\">158.182</td><td style = \"text-align: right;\">0.0</td><td style = \"text-align: right;\">0.0</td><td style = \"text-align: right;\">0.0</td><td style = \"text-align: right;\">0.0</td><td style = \"text-align: right;\">0.0</td><td style = \"text-align: right;\">0.0</td></tr><tr><td class = \"rowNumber\" style = \"font-weight: bold; text-align: right;\">31</td><td style = \"text-align: right;\">31</td><td style = \"text-align: right;\">8662.81</td><td style = \"text-align: right;\">1656.0</td><td style = \"text-align: right;\">5601.18</td><td style = \"text-align: right;\">1761.08</td><td style = \"text-align: right;\">32711.7</td><td style = \"text-align: right;\">0.0</td><td style = \"text-align: right;\">0.0</td><td style = \"text-align: right;\">0.0</td><td style = \"text-align: right;\">0.0</td><td style = \"text-align: right;\">0.0</td><td style = \"text-align: right;\">0.0</td><td style = \"text-align: right;\">202.527</td><td style = \"text-align: right;\">0.0</td><td style = \"text-align: right;\">0.0</td><td style = \"text-align: right;\">0.0</td><td style = \"text-align: right;\">0.0</td><td style = \"text-align: right;\">0.0</td><td style = \"text-align: right;\">0.0</td></tr></tbody></table></div>"
      ],
      "text/latex": [
       "\\begin{tabular}{r|cccccccc}\n",
       "\t& Day & Hydraulic\\_mean & Bioenergy\\_mean & Wind\\_mean & Solar\\_mean & Nuclear\\_mean & Gas\\_mean & \\\\\n",
       "\t\\hline\n",
       "\t& Int64 & Float64 & Float64 & Float64 & Float64 & Float64 & Float64 & \\\\\n",
       "\t\\hline\n",
       "\t1 & 1 & 8936.25 & 1656.0 & 5873.34 & 1538.72 & 31560.2 & 0.0 & $\\dots$ \\\\\n",
       "\t2 & 2 & 8945.57 & 1656.0 & 5322.38 & 1524.98 & 33571.9 & 0.0 & $\\dots$ \\\\\n",
       "\t3 & 3 & 9060.7 & 1656.0 & 4967.91 & 1587.62 & 34399.0 & 0.0 & $\\dots$ \\\\\n",
       "\t4 & 4 & 9183.03 & 1656.0 & 4732.58 & 1637.61 & 34362.2 & 0.0 & $\\dots$ \\\\\n",
       "\t5 & 5 & 9225.89 & 1656.0 & 4872.19 & 1643.44 & 33737.3 & 0.0 & $\\dots$ \\\\\n",
       "\t6 & 6 & 8949.28 & 1656.0 & 4627.36 & 1700.01 & 35208.1 & 0.0 & $\\dots$ \\\\\n",
       "\t7 & 7 & 8971.47 & 1656.0 & 4499.78 & 1685.14 & 35111.0 & 0.0 & $\\dots$ \\\\\n",
       "\t8 & 8 & 9094.82 & 1656.0 & 4418.33 & 1676.48 & 33453.0 & 0.0 & $\\dots$ \\\\\n",
       "\t9 & 9 & 9051.41 & 1656.0 & 4486.44 & 1719.52 & 33948.3 & 0.0 & $\\dots$ \\\\\n",
       "\t10 & 10 & 8925.86 & 1656.0 & 4780.01 & 1658.86 & 34132.1 & 0.0 & $\\dots$ \\\\\n",
       "\t11 & 11 & 9031.1 & 1656.0 & 5061.91 & 1631.04 & 32818.4 & 0.0 & $\\dots$ \\\\\n",
       "\t12 & 12 & 9014.17 & 1656.0 & 4703.06 & 1637.87 & 33042.1 & 0.0 & $\\dots$ \\\\\n",
       "\t13 & 13 & 8904.08 & 1656.0 & 4955.05 & 1582.97 & 33580.0 & 0.0 & $\\dots$ \\\\\n",
       "\t14 & 14 & 8954.03 & 1656.0 & 5302.53 & 1551.08 & 33047.4 & 0.0 & $\\dots$ \\\\\n",
       "\t15 & 15 & 8950.95 & 1656.0 & 5216.26 & 1582.7 & 32776.5 & 0.0 & $\\dots$ \\\\\n",
       "\t16 & 16 & 8823.8 & 1656.0 & 4854.55 & 1615.17 & 33436.2 & 0.0 & $\\dots$ \\\\\n",
       "\t17 & 17 & 8793.64 & 1656.0 & 4938.15 & 1655.29 & 33387.8 & 0.0 & $\\dots$ \\\\\n",
       "\t18 & 18 & 8661.34 & 1656.0 & 4675.21 & 1719.92 & 33012.6 & 0.0 & $\\dots$ \\\\\n",
       "\t19 & 19 & 8639.13 & 1656.0 & 5089.82 & 1685.19 & 32163.3 & 0.0 & $\\dots$ \\\\\n",
       "\t20 & 20 & 8836.11 & 1656.0 & 4671.59 & 1667.67 & 33341.5 & 0.0 & $\\dots$ \\\\\n",
       "\t21 & 21 & 8743.72 & 1656.0 & 5220.64 & 1617.71 & 33259.9 & 0.0 & $\\dots$ \\\\\n",
       "\t22 & 22 & 8632.34 & 1656.0 & 5346.35 & 1636.06 & 32728.8 & 0.0 & $\\dots$ \\\\\n",
       "\t23 & 23 & 8609.4 & 1656.0 & 5420.68 & 1642.19 & 32677.3 & 0.0 & $\\dots$ \\\\\n",
       "\t24 & 24 & 8628.26 & 1656.0 & 5593.99 & 1594.78 & 32901.8 & 0.0 & $\\dots$ \\\\\n",
       "\t25 & 25 & 8569.84 & 1656.0 & 5702.25 & 1616.58 & 32667.9 & 0.0 & $\\dots$ \\\\\n",
       "\t26 & 26 & 8668.39 & 1656.0 & 5770.75 & 1629.6 & 33083.7 & 0.0 & $\\dots$ \\\\\n",
       "\t27 & 27 & 8636.15 & 1656.0 & 6539.15 & 1613.83 & 33473.4 & 0.0 & $\\dots$ \\\\\n",
       "\t28 & 28 & 8880.25 & 1656.0 & 6045.23 & 1608.67 & 33477.4 & 0.0 & $\\dots$ \\\\\n",
       "\t29 & 29 & 8798.82 & 1656.0 & 6192.78 & 1586.69 & 32967.4 & 0.0 & $\\dots$ \\\\\n",
       "\t30 & 30 & 8566.89 & 1656.0 & 5866.68 & 1618.39 & 33769.8 & 0.0 & $\\dots$ \\\\\n",
       "\t$\\dots$ & $\\dots$ & $\\dots$ & $\\dots$ & $\\dots$ & $\\dots$ & $\\dots$ & $\\dots$ &  \\\\\n",
       "\\end{tabular}\n"
      ],
      "text/plain": [
       "\u001b[1m31×19 DataFrame\n",
       "\u001b[1m Row │\u001b[1m Day   \u001b[1m Hydraulic_mean \u001b[1m Bioenergy_mean \u001b[1m Wind_mean \u001b[1m Solar_mean \u001b[1m Nuclear_m ⋯\n",
       "     │\u001b[90m Int64 \u001b[90m Float64        \u001b[90m Float64        \u001b[90m Float64   \u001b[90m Float64    \u001b[90m Float64   ⋯\n",
       "─────┼──────────────────────────────────────────────────────────────────────────\n",
       "   1 │     1         8936.25          1656.0    5873.34     1538.72       3156 ⋯\n",
       "   2 │     2         8945.57          1656.0    5322.38     1524.98       3357\n",
       "   3 │     3         9060.7           1656.0    4967.91     1587.62       3439\n",
       "   4 │     4         9183.03          1656.0    4732.58     1637.61       3436\n",
       "   5 │     5         9225.89          1656.0    4872.19     1643.44       3373 ⋯\n",
       "   6 │     6         8949.28          1656.0    4627.36     1700.01       3520\n",
       "   7 │     7         8971.47          1656.0    4499.78     1685.14       3511\n",
       "   8 │     8         9094.82          1656.0    4418.33     1676.48       3345\n",
       "   9 │     9         9051.41          1656.0    4486.44     1719.52       3394 ⋯\n",
       "  10 │    10         8925.86          1656.0    4780.01     1658.86       3413\n",
       "  11 │    11         9031.1           1656.0    5061.91     1631.04       3281\n",
       "  ⋮  │   ⋮          ⋮               ⋮             ⋮          ⋮            ⋮    ⋱\n",
       "  22 │    22         8632.34          1656.0    5346.35     1636.06       3272\n",
       "  23 │    23         8609.4           1656.0    5420.68     1642.19       3267 ⋯\n",
       "  24 │    24         8628.26          1656.0    5593.99     1594.78       3290\n",
       "  25 │    25         8569.84          1656.0    5702.25     1616.58       3266\n",
       "  26 │    26         8668.39          1656.0    5770.75     1629.6        3308\n",
       "  27 │    27         8636.15          1656.0    6539.15     1613.83       3347 ⋯\n",
       "  28 │    28         8880.25          1656.0    6045.23     1608.67       3347\n",
       "  29 │    29         8798.82          1656.0    6192.78     1586.69       3296\n",
       "  30 │    30         8566.89          1656.0    5866.68     1618.39       3376\n",
       "  31 │    31         8662.81          1656.0    5601.18     1761.08       3271 ⋯\n",
       "\u001b[36m                                                  14 columns and 10 rows omitted"
      ]
     },
     "execution_count": 51,
     "metadata": {},
     "output_type": "execute_result"
    }
   ],
   "source": [
    "#df_opt_sustainable\n",
    "#daily_total(df_opt_sustainable)\n",
    "daily_average(df_opt_sustainable)"
   ]
  },
  {
   "cell_type": "markdown",
   "metadata": {},
   "source": [
    "same idea, too much tension on hydraulic in first and second results\n",
    "\n",
    "Third results: we do not use solar for beta = 0.2 ; only when we push beta towards 1"
   ]
  },
  {
   "cell_type": "code",
   "execution_count": 52,
   "metadata": {},
   "outputs": [
    {
     "name": "stdout",
     "output_type": "stream",
     "text": [
      "Set parameter Username\n",
      "Academic license - for non-commercial use only - expires 2023-08-18\n",
      "Set parameter Username\n",
      "Academic license - for non-commercial use only - expires 2023-08-18\n",
      "Set parameter Username\n",
      "Academic license - for non-commercial use only - expires 2023-08-18\n",
      "Set parameter Username\n",
      "Academic license - for non-commercial use only - expires 2023-08-18\n",
      "Set parameter Username\n",
      "Academic license - for non-commercial use only - expires 2023-08-18\n",
      "Set parameter Username\n",
      "Academic license - for non-commercial use only - expires 2023-08-18\n",
      "Set parameter Username\n",
      "Academic license - for non-commercial use only - expires 2023-08-18\n",
      "Set parameter Username\n",
      "Academic license - for non-commercial use only - expires 2023-08-18\n",
      "Set parameter Username\n",
      "Academic license - for non-commercial use only - expires 2023-08-18\n",
      "Set parameter Username\n",
      "Academic license - for non-commercial use only - expires 2023-08-18\n"
     ]
    }
   ],
   "source": [
    "# for each beta, compute the production cost, the real_baseline_cost, the total impact and the national impact\n",
    "# and store them in a dataframe\n",
    "betas_df = DataFrame(beta = Float64[], production_cost = Float64[], real_baseline_cost = Float64[], total_impact = Float64[], national_impact = Float64[])\n",
    "# use 10 values of beta between 0 and 1\n",
    "for beta in range(0, 1, length=10)\n",
    "    model = sustainable_optimizer(df_baseline, beta)\n",
    "    # if the model has a solution, store the values\n",
    "    if termination_status(model) == MOI.OPTIMAL\n",
    "        x_opt = value.(model[:x])\n",
    "        y_opt = value.(model[:y])\n",
    "        z_opt = value.(model[:z])\n",
    "        push!(betas_df, (beta, compute_production_cost(x_opt, df_baseline), real_baseline_cost(x_opt, y_opt, z_opt, df_baseline), compute_total_impact(x_opt, y_opt, df_baseline), compute_national_impact(x_opt, y_opt, z_opt, df_baseline)))\n",
    "    end\n",
    "end"
   ]
  },
  {
   "cell_type": "code",
   "execution_count": 57,
   "metadata": {},
   "outputs": [
    {
     "data": {
      "text/plain": [
       "\"/Users/oscarcourbit/Desktop/Bureau - MacBook Pro de Oscar/MIT/Classes/15.093 -  Optimization Methods/Term Project/Energy-Allocation-in-France/sustainable_costs.png\""
      ]
     },
     "execution_count": 57,
     "metadata": {},
     "output_type": "execute_result"
    }
   ],
   "source": [
    "# plot the results, title on the top left, x axis on the bottom, y axis on the left\n",
    "p = plot(betas_df.beta, betas_df.production_cost, label=\"Production cost\", title=\"Costs for different values of beta\", xlabel=\"beta\", ylabel=\"cost\", legend=:topleft)\n",
    "plot!(p, betas_df.beta, betas_df.real_baseline_cost, label=\"Total cost\")\n",
    "\n",
    "# save the plot\n",
    "#savefig(p, \"sustainable_costs.png\")"
   ]
  },
  {
   "cell_type": "code",
   "execution_count": 59,
   "metadata": {},
   "outputs": [
    {
     "data": {
      "image/svg+xml": "<?xml version=\"1.0\" encoding=\"utf-8\"?>\n<svg xmlns=\"http://www.w3.org/2000/svg\" xmlns:xlink=\"http://www.w3.org/1999/xlink\" width=\"600\" height=\"400\" viewBox=\"0 0 2400 1600\">\n<defs>\n  <clipPath id=\"clip970\">\n    <rect x=\"0\" y=\"0\" width=\"2400\" height=\"1600\"/>\n  </clipPath>\n</defs>\n<path clip-path=\"url(#clip970)\" d=\"\nM0 1600 L2400 1600 L2400 0 L0 0  Z\n  \" fill=\"#ffffff\" fill-rule=\"evenodd\" fill-opacity=\"1\"/>\n<defs>\n  <clipPath id=\"clip971\">\n    <rect x=\"480\" y=\"0\" width=\"1681\" height=\"1600\"/>\n  </clipPath>\n</defs>\n<path clip-path=\"url(#clip970)\" d=\"\nM362.46 1423.18 L2352.76 1423.18 L2352.76 123.472 L362.46 123.472  Z\n  \" fill=\"#ffffff\" fill-rule=\"evenodd\" fill-opacity=\"1\"/>\n<defs>\n  <clipPath id=\"clip972\">\n    <rect x=\"362\" y=\"123\" width=\"1991\" height=\"1301\"/>\n  </clipPath>\n</defs>\n<polyline clip-path=\"url(#clip972)\" style=\"stroke:#000000; stroke-linecap:round; stroke-linejoin:round; stroke-width:2; stroke-opacity:0.1; fill:none\" points=\"\n  418.789,1423.18 418.789,123.472 \n  \"/>\n<polyline clip-path=\"url(#clip972)\" style=\"stroke:#000000; stroke-linecap:round; stroke-linejoin:round; stroke-width:2; stroke-opacity:0.1; fill:none\" points=\"\n  888.198,1423.18 888.198,123.472 \n  \"/>\n<polyline clip-path=\"url(#clip972)\" style=\"stroke:#000000; stroke-linecap:round; stroke-linejoin:round; stroke-width:2; stroke-opacity:0.1; fill:none\" points=\"\n  1357.61,1423.18 1357.61,123.472 \n  \"/>\n<polyline clip-path=\"url(#clip972)\" style=\"stroke:#000000; stroke-linecap:round; stroke-linejoin:round; stroke-width:2; stroke-opacity:0.1; fill:none\" points=\"\n  1827.02,1423.18 1827.02,123.472 \n  \"/>\n<polyline clip-path=\"url(#clip972)\" style=\"stroke:#000000; stroke-linecap:round; stroke-linejoin:round; stroke-width:2; stroke-opacity:0.1; fill:none\" points=\"\n  2296.43,1423.18 2296.43,123.472 \n  \"/>\n<polyline clip-path=\"url(#clip970)\" style=\"stroke:#000000; stroke-linecap:round; stroke-linejoin:round; stroke-width:4; stroke-opacity:1; fill:none\" points=\"\n  362.46,1423.18 2352.76,1423.18 \n  \"/>\n<polyline clip-path=\"url(#clip970)\" style=\"stroke:#000000; stroke-linecap:round; stroke-linejoin:round; stroke-width:4; stroke-opacity:1; fill:none\" points=\"\n  418.789,1423.18 418.789,1404.28 \n  \"/>\n<polyline clip-path=\"url(#clip970)\" style=\"stroke:#000000; stroke-linecap:round; stroke-linejoin:round; stroke-width:4; stroke-opacity:1; fill:none\" points=\"\n  888.198,1423.18 888.198,1404.28 \n  \"/>\n<polyline clip-path=\"url(#clip970)\" style=\"stroke:#000000; stroke-linecap:round; stroke-linejoin:round; stroke-width:4; stroke-opacity:1; fill:none\" points=\"\n  1357.61,1423.18 1357.61,1404.28 \n  \"/>\n<polyline clip-path=\"url(#clip970)\" style=\"stroke:#000000; stroke-linecap:round; stroke-linejoin:round; stroke-width:4; stroke-opacity:1; fill:none\" points=\"\n  1827.02,1423.18 1827.02,1404.28 \n  \"/>\n<polyline clip-path=\"url(#clip970)\" style=\"stroke:#000000; stroke-linecap:round; stroke-linejoin:round; stroke-width:4; stroke-opacity:1; fill:none\" points=\"\n  2296.43,1423.18 2296.43,1404.28 \n  \"/>\n<path clip-path=\"url(#clip970)\" d=\"M381.092 1454.1 Q377.481 1454.1 375.652 1457.66 Q373.847 1461.2 373.847 1468.33 Q373.847 1475.44 375.652 1479.01 Q377.481 1482.55 381.092 1482.55 Q384.726 1482.55 386.532 1479.01 Q388.361 1475.44 388.361 1468.33 Q388.361 1461.2 386.532 1457.66 Q384.726 1454.1 381.092 1454.1 M381.092 1450.39 Q386.902 1450.39 389.958 1455 Q393.037 1459.58 393.037 1468.33 Q393.037 1477.06 389.958 1481.67 Q386.902 1486.25 381.092 1486.25 Q375.282 1486.25 372.203 1481.67 Q369.148 1477.06 369.148 1468.33 Q369.148 1459.58 372.203 1455 Q375.282 1450.39 381.092 1450.39 Z\" fill=\"#000000\" fill-rule=\"evenodd\" fill-opacity=\"1\" /><path clip-path=\"url(#clip970)\" d=\"M401.254 1479.7 L406.138 1479.7 L406.138 1485.58 L401.254 1485.58 L401.254 1479.7 Z\" fill=\"#000000\" fill-rule=\"evenodd\" fill-opacity=\"1\" /><path clip-path=\"url(#clip970)\" d=\"M426.323 1454.1 Q422.712 1454.1 420.884 1457.66 Q419.078 1461.2 419.078 1468.33 Q419.078 1475.44 420.884 1479.01 Q422.712 1482.55 426.323 1482.55 Q429.958 1482.55 431.763 1479.01 Q433.592 1475.44 433.592 1468.33 Q433.592 1461.2 431.763 1457.66 Q429.958 1454.1 426.323 1454.1 M426.323 1450.39 Q432.134 1450.39 435.189 1455 Q438.268 1459.58 438.268 1468.33 Q438.268 1477.06 435.189 1481.67 Q432.134 1486.25 426.323 1486.25 Q420.513 1486.25 417.435 1481.67 Q414.379 1477.06 414.379 1468.33 Q414.379 1459.58 417.435 1455 Q420.513 1450.39 426.323 1450.39 Z\" fill=\"#000000\" fill-rule=\"evenodd\" fill-opacity=\"1\" /><path clip-path=\"url(#clip970)\" d=\"M456.485 1454.1 Q452.874 1454.1 451.045 1457.66 Q449.24 1461.2 449.24 1468.33 Q449.24 1475.44 451.045 1479.01 Q452.874 1482.55 456.485 1482.55 Q460.119 1482.55 461.925 1479.01 Q463.754 1475.44 463.754 1468.33 Q463.754 1461.2 461.925 1457.66 Q460.119 1454.1 456.485 1454.1 M456.485 1450.39 Q462.295 1450.39 465.351 1455 Q468.43 1459.58 468.43 1468.33 Q468.43 1477.06 465.351 1481.67 Q462.295 1486.25 456.485 1486.25 Q450.675 1486.25 447.596 1481.67 Q444.541 1477.06 444.541 1468.33 Q444.541 1459.58 447.596 1455 Q450.675 1450.39 456.485 1450.39 Z\" fill=\"#000000\" fill-rule=\"evenodd\" fill-opacity=\"1\" /><path clip-path=\"url(#clip970)\" d=\"M850.999 1454.1 Q847.388 1454.1 845.56 1457.66 Q843.754 1461.2 843.754 1468.33 Q843.754 1475.44 845.56 1479.01 Q847.388 1482.55 850.999 1482.55 Q854.634 1482.55 856.439 1479.01 Q858.268 1475.44 858.268 1468.33 Q858.268 1461.2 856.439 1457.66 Q854.634 1454.1 850.999 1454.1 M850.999 1450.39 Q856.809 1450.39 859.865 1455 Q862.944 1459.58 862.944 1468.33 Q862.944 1477.06 859.865 1481.67 Q856.809 1486.25 850.999 1486.25 Q845.189 1486.25 842.11 1481.67 Q839.055 1477.06 839.055 1468.33 Q839.055 1459.58 842.11 1455 Q845.189 1450.39 850.999 1450.39 Z\" fill=\"#000000\" fill-rule=\"evenodd\" fill-opacity=\"1\" /><path clip-path=\"url(#clip970)\" d=\"M871.161 1479.7 L876.045 1479.7 L876.045 1485.58 L871.161 1485.58 L871.161 1479.7 Z\" fill=\"#000000\" fill-rule=\"evenodd\" fill-opacity=\"1\" /><path clip-path=\"url(#clip970)\" d=\"M890.258 1481.64 L906.578 1481.64 L906.578 1485.58 L884.633 1485.58 L884.633 1481.64 Q887.295 1478.89 891.879 1474.26 Q896.485 1469.61 897.666 1468.27 Q899.911 1465.74 900.791 1464.01 Q901.694 1462.25 901.694 1460.56 Q901.694 1457.8 899.749 1456.07 Q897.828 1454.33 894.726 1454.33 Q892.527 1454.33 890.073 1455.09 Q887.643 1455.86 884.865 1457.41 L884.865 1452.69 Q887.689 1451.55 890.143 1450.97 Q892.596 1450.39 894.633 1450.39 Q900.004 1450.39 903.198 1453.08 Q906.393 1455.77 906.393 1460.26 Q906.393 1462.39 905.582 1464.31 Q904.795 1466.2 902.689 1468.8 Q902.11 1469.47 899.008 1472.69 Q895.906 1475.88 890.258 1481.64 Z\" fill=\"#000000\" fill-rule=\"evenodd\" fill-opacity=\"1\" /><path clip-path=\"url(#clip970)\" d=\"M916.439 1451.02 L934.795 1451.02 L934.795 1454.96 L920.721 1454.96 L920.721 1463.43 Q921.74 1463.08 922.758 1462.92 Q923.777 1462.73 924.795 1462.73 Q930.582 1462.73 933.962 1465.9 Q937.341 1469.08 937.341 1474.49 Q937.341 1480.07 933.869 1483.17 Q930.397 1486.25 924.078 1486.25 Q921.902 1486.25 919.633 1485.88 Q917.388 1485.51 914.98 1484.77 L914.98 1480.07 Q917.064 1481.2 919.286 1481.76 Q921.508 1482.32 923.985 1482.32 Q927.99 1482.32 930.328 1480.21 Q932.666 1478.1 932.666 1474.49 Q932.666 1470.88 930.328 1468.77 Q927.99 1466.67 923.985 1466.67 Q922.11 1466.67 920.235 1467.08 Q918.383 1467.5 916.439 1468.38 L916.439 1451.02 Z\" fill=\"#000000\" fill-rule=\"evenodd\" fill-opacity=\"1\" /><path clip-path=\"url(#clip970)\" d=\"M1319.91 1454.1 Q1316.3 1454.1 1314.47 1457.66 Q1312.67 1461.2 1312.67 1468.33 Q1312.67 1475.44 1314.47 1479.01 Q1316.3 1482.55 1319.91 1482.55 Q1323.55 1482.55 1325.35 1479.01 Q1327.18 1475.44 1327.18 1468.33 Q1327.18 1461.2 1325.35 1457.66 Q1323.55 1454.1 1319.91 1454.1 M1319.91 1450.39 Q1325.72 1450.39 1328.78 1455 Q1331.86 1459.58 1331.86 1468.33 Q1331.86 1477.06 1328.78 1481.67 Q1325.72 1486.25 1319.91 1486.25 Q1314.1 1486.25 1311.02 1481.67 Q1307.97 1477.06 1307.97 1468.33 Q1307.97 1459.58 1311.02 1455 Q1314.1 1450.39 1319.91 1450.39 Z\" fill=\"#000000\" fill-rule=\"evenodd\" fill-opacity=\"1\" /><path clip-path=\"url(#clip970)\" d=\"M1340.07 1479.7 L1344.96 1479.7 L1344.96 1485.58 L1340.07 1485.58 L1340.07 1479.7 Z\" fill=\"#000000\" fill-rule=\"evenodd\" fill-opacity=\"1\" /><path clip-path=\"url(#clip970)\" d=\"M1355.19 1451.02 L1373.55 1451.02 L1373.55 1454.96 L1359.47 1454.96 L1359.47 1463.43 Q1360.49 1463.08 1361.51 1462.92 Q1362.53 1462.73 1363.55 1462.73 Q1369.33 1462.73 1372.71 1465.9 Q1376.09 1469.08 1376.09 1474.49 Q1376.09 1480.07 1372.62 1483.17 Q1369.15 1486.25 1362.83 1486.25 Q1360.65 1486.25 1358.38 1485.88 Q1356.14 1485.51 1353.73 1484.77 L1353.73 1480.07 Q1355.81 1481.2 1358.04 1481.76 Q1360.26 1482.32 1362.74 1482.32 Q1366.74 1482.32 1369.08 1480.21 Q1371.42 1478.1 1371.42 1474.49 Q1371.42 1470.88 1369.08 1468.77 Q1366.74 1466.67 1362.74 1466.67 Q1360.86 1466.67 1358.99 1467.08 Q1357.13 1467.5 1355.19 1468.38 L1355.19 1451.02 Z\" fill=\"#000000\" fill-rule=\"evenodd\" fill-opacity=\"1\" /><path clip-path=\"url(#clip970)\" d=\"M1395.3 1454.1 Q1391.69 1454.1 1389.86 1457.66 Q1388.06 1461.2 1388.06 1468.33 Q1388.06 1475.44 1389.86 1479.01 Q1391.69 1482.55 1395.3 1482.55 Q1398.94 1482.55 1400.74 1479.01 Q1402.57 1475.44 1402.57 1468.33 Q1402.57 1461.2 1400.74 1457.66 Q1398.94 1454.1 1395.3 1454.1 M1395.3 1450.39 Q1401.11 1450.39 1404.17 1455 Q1407.25 1459.58 1407.25 1468.33 Q1407.25 1477.06 1404.17 1481.67 Q1401.11 1486.25 1395.3 1486.25 Q1389.49 1486.25 1386.42 1481.67 Q1383.36 1477.06 1383.36 1468.33 Q1383.36 1459.58 1386.42 1455 Q1389.49 1450.39 1395.3 1450.39 Z\" fill=\"#000000\" fill-rule=\"evenodd\" fill-opacity=\"1\" /><path clip-path=\"url(#clip970)\" d=\"M1789.82 1454.1 Q1786.21 1454.1 1784.38 1457.66 Q1782.57 1461.2 1782.57 1468.33 Q1782.57 1475.44 1784.38 1479.01 Q1786.21 1482.55 1789.82 1482.55 Q1793.45 1482.55 1795.26 1479.01 Q1797.09 1475.44 1797.09 1468.33 Q1797.09 1461.2 1795.26 1457.66 Q1793.45 1454.1 1789.82 1454.1 M1789.82 1450.39 Q1795.63 1450.39 1798.68 1455 Q1801.76 1459.58 1801.76 1468.33 Q1801.76 1477.06 1798.68 1481.67 Q1795.63 1486.25 1789.82 1486.25 Q1784.01 1486.25 1780.93 1481.67 Q1777.87 1477.06 1777.87 1468.33 Q1777.87 1459.58 1780.93 1455 Q1784.01 1450.39 1789.82 1450.39 Z\" fill=\"#000000\" fill-rule=\"evenodd\" fill-opacity=\"1\" /><path clip-path=\"url(#clip970)\" d=\"M1809.98 1479.7 L1814.86 1479.7 L1814.86 1485.58 L1809.98 1485.58 L1809.98 1479.7 Z\" fill=\"#000000\" fill-rule=\"evenodd\" fill-opacity=\"1\" /><path clip-path=\"url(#clip970)\" d=\"M1823.87 1451.02 L1846.09 1451.02 L1846.09 1453.01 L1833.54 1485.58 L1828.66 1485.58 L1840.47 1454.96 L1823.87 1454.96 L1823.87 1451.02 Z\" fill=\"#000000\" fill-rule=\"evenodd\" fill-opacity=\"1\" /><path clip-path=\"url(#clip970)\" d=\"M1855.26 1451.02 L1873.61 1451.02 L1873.61 1454.96 L1859.54 1454.96 L1859.54 1463.43 Q1860.56 1463.08 1861.58 1462.92 Q1862.6 1462.73 1863.61 1462.73 Q1869.4 1462.73 1872.78 1465.9 Q1876.16 1469.08 1876.16 1474.49 Q1876.16 1480.07 1872.69 1483.17 Q1869.22 1486.25 1862.9 1486.25 Q1860.72 1486.25 1858.45 1485.88 Q1856.21 1485.51 1853.8 1484.77 L1853.8 1480.07 Q1855.88 1481.2 1858.11 1481.76 Q1860.33 1482.32 1862.8 1482.32 Q1866.81 1482.32 1869.15 1480.21 Q1871.48 1478.1 1871.48 1474.49 Q1871.48 1470.88 1869.15 1468.77 Q1866.81 1466.67 1862.8 1466.67 Q1860.93 1466.67 1859.05 1467.08 Q1857.2 1467.5 1855.26 1468.38 L1855.26 1451.02 Z\" fill=\"#000000\" fill-rule=\"evenodd\" fill-opacity=\"1\" /><path clip-path=\"url(#clip970)\" d=\"M2248.5 1481.64 L2256.14 1481.64 L2256.14 1455.28 L2247.83 1456.95 L2247.83 1452.69 L2256.09 1451.02 L2260.77 1451.02 L2260.77 1481.64 L2268.41 1481.64 L2268.41 1485.58 L2248.5 1485.58 L2248.5 1481.64 Z\" fill=\"#000000\" fill-rule=\"evenodd\" fill-opacity=\"1\" /><path clip-path=\"url(#clip970)\" d=\"M2277.85 1479.7 L2282.73 1479.7 L2282.73 1485.58 L2277.85 1485.58 L2277.85 1479.7 Z\" fill=\"#000000\" fill-rule=\"evenodd\" fill-opacity=\"1\" /><path clip-path=\"url(#clip970)\" d=\"M2302.92 1454.1 Q2299.31 1454.1 2297.48 1457.66 Q2295.67 1461.2 2295.67 1468.33 Q2295.67 1475.44 2297.48 1479.01 Q2299.31 1482.55 2302.92 1482.55 Q2306.55 1482.55 2308.36 1479.01 Q2310.19 1475.44 2310.19 1468.33 Q2310.19 1461.2 2308.36 1457.66 Q2306.55 1454.1 2302.92 1454.1 M2302.92 1450.39 Q2308.73 1450.39 2311.79 1455 Q2314.86 1459.58 2314.86 1468.33 Q2314.86 1477.06 2311.79 1481.67 Q2308.73 1486.25 2302.92 1486.25 Q2297.11 1486.25 2294.03 1481.67 Q2290.98 1477.06 2290.98 1468.33 Q2290.98 1459.58 2294.03 1455 Q2297.11 1450.39 2302.92 1450.39 Z\" fill=\"#000000\" fill-rule=\"evenodd\" fill-opacity=\"1\" /><path clip-path=\"url(#clip970)\" d=\"M2333.08 1454.1 Q2329.47 1454.1 2327.64 1457.66 Q2325.84 1461.2 2325.84 1468.33 Q2325.84 1475.44 2327.64 1479.01 Q2329.47 1482.55 2333.08 1482.55 Q2336.72 1482.55 2338.52 1479.01 Q2340.35 1475.44 2340.35 1468.33 Q2340.35 1461.2 2338.52 1457.66 Q2336.72 1454.1 2333.08 1454.1 M2333.08 1450.39 Q2338.89 1450.39 2341.95 1455 Q2345.03 1459.58 2345.03 1468.33 Q2345.03 1477.06 2341.95 1481.67 Q2338.89 1486.25 2333.08 1486.25 Q2327.27 1486.25 2324.19 1481.67 Q2321.14 1477.06 2321.14 1468.33 Q2321.14 1459.58 2324.19 1455 Q2327.27 1450.39 2333.08 1450.39 Z\" fill=\"#000000\" fill-rule=\"evenodd\" fill-opacity=\"1\" /><path clip-path=\"url(#clip970)\" d=\"M1315.85 1550.25 Q1315.85 1543.79 1313.18 1540.13 Q1310.53 1536.44 1305.89 1536.44 Q1301.24 1536.44 1298.57 1540.13 Q1295.92 1543.79 1295.92 1550.25 Q1295.92 1556.71 1298.57 1560.4 Q1301.24 1564.07 1305.89 1564.07 Q1310.53 1564.07 1313.18 1560.4 Q1315.85 1556.71 1315.85 1550.25 M1295.92 1537.81 Q1297.77 1534.62 1300.57 1533.1 Q1303.4 1531.54 1307.32 1531.54 Q1313.81 1531.54 1317.85 1536.69 Q1321.93 1541.85 1321.93 1550.25 Q1321.93 1558.65 1317.85 1563.81 Q1313.81 1568.97 1307.32 1568.97 Q1303.4 1568.97 1300.57 1567.44 Q1297.77 1565.88 1295.92 1562.7 L1295.92 1568.04 L1290.04 1568.04 L1290.04 1518.52 L1295.92 1518.52 L1295.92 1537.81 Z\" fill=\"#000000\" fill-rule=\"evenodd\" fill-opacity=\"1\" /><path clip-path=\"url(#clip970)\" d=\"M1362.13 1548.76 L1362.13 1551.62 L1335.2 1551.62 Q1335.58 1557.67 1338.83 1560.85 Q1342.11 1564 1347.93 1564 Q1351.31 1564 1354.46 1563.17 Q1357.64 1562.35 1360.76 1560.69 L1360.76 1566.23 Q1357.61 1567.57 1354.3 1568.27 Q1350.99 1568.97 1347.58 1568.97 Q1339.05 1568.97 1334.05 1564 Q1329.09 1559.04 1329.09 1550.57 Q1329.09 1541.82 1333.8 1536.69 Q1338.54 1531.54 1346.56 1531.54 Q1353.76 1531.54 1357.93 1536.18 Q1362.13 1540.8 1362.13 1548.76 M1356.27 1547.04 Q1356.21 1542.23 1353.57 1539.37 Q1350.96 1536.5 1346.63 1536.5 Q1341.73 1536.5 1338.77 1539.27 Q1335.84 1542.04 1335.39 1547.07 L1356.27 1547.04 Z\" fill=\"#000000\" fill-rule=\"evenodd\" fill-opacity=\"1\" /><path clip-path=\"url(#clip970)\" d=\"M1377.53 1522.27 L1377.53 1532.4 L1389.6 1532.4 L1389.6 1536.95 L1377.53 1536.95 L1377.53 1556.3 Q1377.53 1560.66 1378.71 1561.9 Q1379.92 1563.14 1383.58 1563.14 L1389.6 1563.14 L1389.6 1568.04 L1383.58 1568.04 Q1376.8 1568.04 1374.22 1565.53 Q1371.64 1562.98 1371.64 1556.3 L1371.64 1536.95 L1367.35 1536.95 L1367.35 1532.4 L1371.64 1532.4 L1371.64 1522.27 L1377.53 1522.27 Z\" fill=\"#000000\" fill-rule=\"evenodd\" fill-opacity=\"1\" /><path clip-path=\"url(#clip970)\" d=\"M1413.5 1550.12 Q1406.4 1550.12 1403.66 1551.75 Q1400.93 1553.37 1400.93 1557.29 Q1400.93 1560.4 1402.96 1562.25 Q1405.03 1564.07 1408.57 1564.07 Q1413.43 1564.07 1416.36 1560.63 Q1419.32 1557.16 1419.32 1551.43 L1419.32 1550.12 L1413.5 1550.12 M1425.18 1547.71 L1425.18 1568.04 L1419.32 1568.04 L1419.32 1562.63 Q1417.32 1565.88 1414.33 1567.44 Q1411.33 1568.97 1407.01 1568.97 Q1401.53 1568.97 1398.28 1565.91 Q1395.07 1562.82 1395.07 1557.67 Q1395.07 1551.65 1399.08 1548.6 Q1403.12 1545.54 1411.11 1545.54 L1419.32 1545.54 L1419.32 1544.97 Q1419.32 1540.93 1416.65 1538.73 Q1414.01 1536.5 1409.2 1536.5 Q1406.15 1536.5 1403.25 1537.23 Q1400.35 1537.97 1397.68 1539.43 L1397.68 1534.02 Q1400.89 1532.78 1403.92 1532.17 Q1406.94 1531.54 1409.81 1531.54 Q1417.54 1531.54 1421.36 1535.55 Q1425.18 1539.56 1425.18 1547.71 Z\" fill=\"#000000\" fill-rule=\"evenodd\" fill-opacity=\"1\" /><polyline clip-path=\"url(#clip972)\" style=\"stroke:#000000; stroke-linecap:round; stroke-linejoin:round; stroke-width:2; stroke-opacity:0.1; fill:none\" points=\"\n  362.46,1354.01 2352.76,1354.01 \n  \"/>\n<polyline clip-path=\"url(#clip972)\" style=\"stroke:#000000; stroke-linecap:round; stroke-linejoin:round; stroke-width:2; stroke-opacity:0.1; fill:none\" points=\"\n  362.46,963.795 2352.76,963.795 \n  \"/>\n<polyline clip-path=\"url(#clip972)\" style=\"stroke:#000000; stroke-linecap:round; stroke-linejoin:round; stroke-width:2; stroke-opacity:0.1; fill:none\" points=\"\n  362.46,573.579 2352.76,573.579 \n  \"/>\n<polyline clip-path=\"url(#clip972)\" style=\"stroke:#000000; stroke-linecap:round; stroke-linejoin:round; stroke-width:2; stroke-opacity:0.1; fill:none\" points=\"\n  362.46,183.363 2352.76,183.363 \n  \"/>\n<polyline clip-path=\"url(#clip970)\" style=\"stroke:#000000; stroke-linecap:round; stroke-linejoin:round; stroke-width:4; stroke-opacity:1; fill:none\" points=\"\n  362.46,1423.18 362.46,123.472 \n  \"/>\n<polyline clip-path=\"url(#clip970)\" style=\"stroke:#000000; stroke-linecap:round; stroke-linejoin:round; stroke-width:4; stroke-opacity:1; fill:none\" points=\"\n  362.46,1354.01 381.357,1354.01 \n  \"/>\n<polyline clip-path=\"url(#clip970)\" style=\"stroke:#000000; stroke-linecap:round; stroke-linejoin:round; stroke-width:4; stroke-opacity:1; fill:none\" points=\"\n  362.46,963.795 381.357,963.795 \n  \"/>\n<polyline clip-path=\"url(#clip970)\" style=\"stroke:#000000; stroke-linecap:round; stroke-linejoin:round; stroke-width:4; stroke-opacity:1; fill:none\" points=\"\n  362.46,573.579 381.357,573.579 \n  \"/>\n<polyline clip-path=\"url(#clip970)\" style=\"stroke:#000000; stroke-linecap:round; stroke-linejoin:round; stroke-width:4; stroke-opacity:1; fill:none\" points=\"\n  362.46,183.363 381.357,183.363 \n  \"/>\n<path clip-path=\"url(#clip970)\" d=\"M129.862 1347.25 L118.056 1365.7 L129.862 1365.7 L129.862 1347.25 M128.635 1343.18 L134.515 1343.18 L134.515 1365.7 L139.445 1365.7 L139.445 1369.59 L134.515 1369.59 L134.515 1377.74 L129.862 1377.74 L129.862 1369.59 L114.26 1369.59 L114.26 1365.08 L128.635 1343.18 Z\" fill=\"#000000\" fill-rule=\"evenodd\" fill-opacity=\"1\" /><path clip-path=\"url(#clip970)\" d=\"M147.177 1371.86 L152.061 1371.86 L152.061 1377.74 L147.177 1377.74 L147.177 1371.86 Z\" fill=\"#000000\" fill-rule=\"evenodd\" fill-opacity=\"1\" /><path clip-path=\"url(#clip970)\" d=\"M172.246 1346.26 Q168.635 1346.26 166.806 1349.82 Q165.001 1353.36 165.001 1360.49 Q165.001 1367.6 166.806 1371.16 Q168.635 1374.71 172.246 1374.71 Q175.88 1374.71 177.686 1371.16 Q179.514 1367.6 179.514 1360.49 Q179.514 1353.36 177.686 1349.82 Q175.88 1346.26 172.246 1346.26 M172.246 1342.55 Q178.056 1342.55 181.112 1347.16 Q184.19 1351.74 184.19 1360.49 Q184.19 1369.22 181.112 1373.83 Q178.056 1378.41 172.246 1378.41 Q166.436 1378.41 163.357 1373.83 Q160.302 1369.22 160.302 1360.49 Q160.302 1351.74 163.357 1347.16 Q166.436 1342.55 172.246 1342.55 Z\" fill=\"#000000\" fill-rule=\"evenodd\" fill-opacity=\"1\" /><path clip-path=\"url(#clip970)\" d=\"M220.579 1352.28 L210 1362.9 L220.579 1373.48 L217.824 1376.28 L207.199 1365.66 L196.575 1376.28 L193.843 1373.48 L204.399 1362.9 L193.843 1352.28 L196.575 1349.47 L207.199 1360.1 L217.824 1349.47 L220.579 1352.28 Z\" fill=\"#000000\" fill-rule=\"evenodd\" fill-opacity=\"1\" /><path clip-path=\"url(#clip970)\" d=\"M232.94 1373.8 L240.579 1373.8 L240.579 1347.44 L232.269 1349.1 L232.269 1344.85 L240.533 1343.18 L245.209 1343.18 L245.209 1373.8 L252.847 1373.8 L252.847 1377.74 L232.94 1377.74 L232.94 1373.8 Z\" fill=\"#000000\" fill-rule=\"evenodd\" fill-opacity=\"1\" /><path clip-path=\"url(#clip970)\" d=\"M272.292 1346.26 Q268.681 1346.26 266.852 1349.82 Q265.046 1353.36 265.046 1360.49 Q265.046 1367.6 266.852 1371.16 Q268.681 1374.71 272.292 1374.71 Q275.926 1374.71 277.732 1371.16 Q279.56 1367.6 279.56 1360.49 Q279.56 1353.36 277.732 1349.82 Q275.926 1346.26 272.292 1346.26 M272.292 1342.55 Q278.102 1342.55 281.157 1347.16 Q284.236 1351.74 284.236 1360.49 Q284.236 1369.22 281.157 1373.83 Q278.102 1378.41 272.292 1378.41 Q266.482 1378.41 263.403 1373.83 Q260.347 1369.22 260.347 1360.49 Q260.347 1351.74 263.403 1347.16 Q266.482 1342.55 272.292 1342.55 Z\" fill=\"#000000\" fill-rule=\"evenodd\" fill-opacity=\"1\" /><path clip-path=\"url(#clip970)\" d=\"M284.782 1347.13 L290.988 1347.13 L290.988 1325.71 L284.236 1327.06 L284.236 1323.6 L290.95 1322.25 L294.75 1322.25 L294.75 1347.13 L300.956 1347.13 L300.956 1350.33 L284.782 1350.33 L284.782 1347.13 Z\" fill=\"#000000\" fill-rule=\"evenodd\" fill-opacity=\"1\" /><path clip-path=\"url(#clip970)\" d=\"M316.755 1324.75 Q313.821 1324.75 312.335 1327.65 Q310.868 1330.52 310.868 1336.32 Q310.868 1342.09 312.335 1344.99 Q313.821 1347.86 316.755 1347.86 Q319.708 1347.86 321.175 1344.99 Q322.66 1342.09 322.66 1336.32 Q322.66 1330.52 321.175 1327.65 Q319.708 1324.75 316.755 1324.75 M316.755 1321.74 Q321.475 1321.74 323.958 1325.48 Q326.46 1329.21 326.46 1336.32 Q326.46 1343.41 323.958 1347.15 Q321.475 1350.87 316.755 1350.87 Q312.034 1350.87 309.533 1347.15 Q307.05 1343.41 307.05 1336.32 Q307.05 1329.21 309.533 1325.48 Q312.034 1321.74 316.755 1321.74 Z\" fill=\"#000000\" fill-rule=\"evenodd\" fill-opacity=\"1\" /><path clip-path=\"url(#clip970)\" d=\"M117.061 952.962 L135.417 952.962 L135.417 956.898 L121.343 956.898 L121.343 965.37 Q122.362 965.022 123.38 964.86 Q124.399 964.675 125.418 964.675 Q131.205 964.675 134.584 967.847 Q137.964 971.018 137.964 976.434 Q137.964 982.013 134.492 985.115 Q131.019 988.194 124.7 988.194 Q122.524 988.194 120.255 987.823 Q118.01 987.453 115.603 986.712 L115.603 982.013 Q117.686 983.147 119.908 983.703 Q122.13 984.258 124.607 984.258 Q128.612 984.258 130.95 982.152 Q133.288 980.046 133.288 976.434 Q133.288 972.823 130.95 970.717 Q128.612 968.61 124.607 968.61 Q122.732 968.61 120.857 969.027 Q119.006 969.444 117.061 970.323 L117.061 952.962 Z\" fill=\"#000000\" fill-rule=\"evenodd\" fill-opacity=\"1\" /><path clip-path=\"url(#clip970)\" d=\"M147.177 981.643 L152.061 981.643 L152.061 987.522 L147.177 987.522 L147.177 981.643 Z\" fill=\"#000000\" fill-rule=\"evenodd\" fill-opacity=\"1\" /><path clip-path=\"url(#clip970)\" d=\"M172.246 956.041 Q168.635 956.041 166.806 959.606 Q165.001 963.147 165.001 970.277 Q165.001 977.384 166.806 980.948 Q168.635 984.49 172.246 984.49 Q175.88 984.49 177.686 980.948 Q179.514 977.384 179.514 970.277 Q179.514 963.147 177.686 959.606 Q175.88 956.041 172.246 956.041 M172.246 952.337 Q178.056 952.337 181.112 956.944 Q184.19 961.527 184.19 970.277 Q184.19 979.004 181.112 983.61 Q178.056 988.194 172.246 988.194 Q166.436 988.194 163.357 983.61 Q160.302 979.004 160.302 970.277 Q160.302 961.527 163.357 956.944 Q166.436 952.337 172.246 952.337 Z\" fill=\"#000000\" fill-rule=\"evenodd\" fill-opacity=\"1\" /><path clip-path=\"url(#clip970)\" d=\"M220.579 962.06 L210 972.684 L220.579 983.263 L217.824 986.064 L207.199 975.439 L196.575 986.064 L193.843 983.263 L204.399 972.684 L193.843 962.06 L196.575 959.259 L207.199 969.884 L217.824 959.259 L220.579 962.06 Z\" fill=\"#000000\" fill-rule=\"evenodd\" fill-opacity=\"1\" /><path clip-path=\"url(#clip970)\" d=\"M232.94 983.587 L240.579 983.587 L240.579 957.222 L232.269 958.888 L232.269 954.629 L240.533 952.962 L245.209 952.962 L245.209 983.587 L252.847 983.587 L252.847 987.522 L232.94 987.522 L232.94 983.587 Z\" fill=\"#000000\" fill-rule=\"evenodd\" fill-opacity=\"1\" /><path clip-path=\"url(#clip970)\" d=\"M272.292 956.041 Q268.681 956.041 266.852 959.606 Q265.046 963.147 265.046 970.277 Q265.046 977.384 266.852 980.948 Q268.681 984.49 272.292 984.49 Q275.926 984.49 277.732 980.948 Q279.56 977.384 279.56 970.277 Q279.56 963.147 277.732 959.606 Q275.926 956.041 272.292 956.041 M272.292 952.337 Q278.102 952.337 281.157 956.944 Q284.236 961.527 284.236 970.277 Q284.236 979.004 281.157 983.61 Q278.102 988.194 272.292 988.194 Q266.482 988.194 263.403 983.61 Q260.347 979.004 260.347 970.277 Q260.347 961.527 263.403 956.944 Q266.482 952.337 272.292 952.337 Z\" fill=\"#000000\" fill-rule=\"evenodd\" fill-opacity=\"1\" /><path clip-path=\"url(#clip970)\" d=\"M284.782 956.915 L290.988 956.915 L290.988 935.493 L284.236 936.847 L284.236 933.386 L290.95 932.032 L294.75 932.032 L294.75 956.915 L300.956 956.915 L300.956 960.112 L284.782 960.112 L284.782 956.915 Z\" fill=\"#000000\" fill-rule=\"evenodd\" fill-opacity=\"1\" /><path clip-path=\"url(#clip970)\" d=\"M316.755 934.533 Q313.821 934.533 312.335 937.43 Q310.868 940.307 310.868 946.1 Q310.868 951.874 312.335 954.771 Q313.821 957.648 316.755 957.648 Q319.708 957.648 321.175 954.771 Q322.66 951.874 322.66 946.1 Q322.66 940.307 321.175 937.43 Q319.708 934.533 316.755 934.533 M316.755 931.524 Q321.475 931.524 323.958 935.267 Q326.46 938.991 326.46 946.1 Q326.46 953.191 323.958 956.933 Q321.475 960.657 316.755 960.657 Q312.034 960.657 309.533 956.933 Q307.05 953.191 307.05 946.1 Q307.05 938.991 309.533 935.267 Q312.034 931.524 316.755 931.524 Z\" fill=\"#000000\" fill-rule=\"evenodd\" fill-opacity=\"1\" /><path clip-path=\"url(#clip970)\" d=\"M127.593 578.163 Q124.445 578.163 122.593 580.316 Q120.765 582.468 120.765 586.218 Q120.765 589.945 122.593 592.121 Q124.445 594.274 127.593 594.274 Q130.742 594.274 132.57 592.121 Q134.422 589.945 134.422 586.218 Q134.422 582.468 132.57 580.316 Q130.742 578.163 127.593 578.163 M136.876 563.51 L136.876 567.769 Q135.117 566.936 133.311 566.496 Q131.529 566.057 129.769 566.057 Q125.14 566.057 122.686 569.181 Q120.255 572.306 119.908 578.626 Q121.274 576.612 123.334 575.547 Q125.394 574.459 127.871 574.459 Q133.08 574.459 136.089 577.631 Q139.121 580.779 139.121 586.218 Q139.121 591.542 135.973 594.76 Q132.825 597.978 127.593 597.978 Q121.598 597.978 118.427 593.394 Q115.256 588.788 115.256 580.061 Q115.256 571.867 119.144 567.006 Q123.033 562.121 129.584 562.121 Q131.343 562.121 133.126 562.469 Q134.931 562.816 136.876 563.51 Z\" fill=\"#000000\" fill-rule=\"evenodd\" fill-opacity=\"1\" /><path clip-path=\"url(#clip970)\" d=\"M147.177 591.427 L152.061 591.427 L152.061 597.306 L147.177 597.306 L147.177 591.427 Z\" fill=\"#000000\" fill-rule=\"evenodd\" fill-opacity=\"1\" /><path clip-path=\"url(#clip970)\" d=\"M172.246 565.825 Q168.635 565.825 166.806 569.39 Q165.001 572.931 165.001 580.061 Q165.001 587.168 166.806 590.732 Q168.635 594.274 172.246 594.274 Q175.88 594.274 177.686 590.732 Q179.514 587.168 179.514 580.061 Q179.514 572.931 177.686 569.39 Q175.88 565.825 172.246 565.825 M172.246 562.121 Q178.056 562.121 181.112 566.728 Q184.19 571.311 184.19 580.061 Q184.19 588.788 181.112 593.394 Q178.056 597.978 172.246 597.978 Q166.436 597.978 163.357 593.394 Q160.302 588.788 160.302 580.061 Q160.302 571.311 163.357 566.728 Q166.436 562.121 172.246 562.121 Z\" fill=\"#000000\" fill-rule=\"evenodd\" fill-opacity=\"1\" /><path clip-path=\"url(#clip970)\" d=\"M220.579 571.844 L210 582.468 L220.579 593.047 L217.824 595.848 L207.199 585.223 L196.575 595.848 L193.843 593.047 L204.399 582.468 L193.843 571.844 L196.575 569.043 L207.199 579.668 L217.824 569.043 L220.579 571.844 Z\" fill=\"#000000\" fill-rule=\"evenodd\" fill-opacity=\"1\" /><path clip-path=\"url(#clip970)\" d=\"M232.94 593.371 L240.579 593.371 L240.579 567.006 L232.269 568.672 L232.269 564.413 L240.533 562.746 L245.209 562.746 L245.209 593.371 L252.847 593.371 L252.847 597.306 L232.94 597.306 L232.94 593.371 Z\" fill=\"#000000\" fill-rule=\"evenodd\" fill-opacity=\"1\" /><path clip-path=\"url(#clip970)\" d=\"M272.292 565.825 Q268.681 565.825 266.852 569.39 Q265.046 572.931 265.046 580.061 Q265.046 587.168 266.852 590.732 Q268.681 594.274 272.292 594.274 Q275.926 594.274 277.732 590.732 Q279.56 587.168 279.56 580.061 Q279.56 572.931 277.732 569.39 Q275.926 565.825 272.292 565.825 M272.292 562.121 Q278.102 562.121 281.157 566.728 Q284.236 571.311 284.236 580.061 Q284.236 588.788 281.157 593.394 Q278.102 597.978 272.292 597.978 Q266.482 597.978 263.403 593.394 Q260.347 588.788 260.347 580.061 Q260.347 571.311 263.403 566.728 Q266.482 562.121 272.292 562.121 Z\" fill=\"#000000\" fill-rule=\"evenodd\" fill-opacity=\"1\" /><path clip-path=\"url(#clip970)\" d=\"M284.782 566.699 L290.988 566.699 L290.988 545.277 L284.236 546.631 L284.236 543.17 L290.95 541.816 L294.75 541.816 L294.75 566.699 L300.956 566.699 L300.956 569.896 L284.782 569.896 L284.782 566.699 Z\" fill=\"#000000\" fill-rule=\"evenodd\" fill-opacity=\"1\" /><path clip-path=\"url(#clip970)\" d=\"M316.755 544.317 Q313.821 544.317 312.335 547.214 Q310.868 550.091 310.868 555.884 Q310.868 561.658 312.335 564.555 Q313.821 567.432 316.755 567.432 Q319.708 567.432 321.175 564.555 Q322.66 561.658 322.66 555.884 Q322.66 550.091 321.175 547.214 Q319.708 544.317 316.755 544.317 M316.755 541.308 Q321.475 541.308 323.958 545.051 Q326.46 548.775 326.46 555.884 Q326.46 562.975 323.958 566.717 Q321.475 570.441 316.755 570.441 Q312.034 570.441 309.533 566.717 Q307.05 562.975 307.05 555.884 Q307.05 548.775 309.533 545.051 Q312.034 541.308 316.755 541.308 Z\" fill=\"#000000\" fill-rule=\"evenodd\" fill-opacity=\"1\" /><path clip-path=\"url(#clip970)\" d=\"M115.834 172.53 L138.056 172.53 L138.056 174.521 L125.51 207.09 L120.626 207.09 L132.431 176.465 L115.834 176.465 L115.834 172.53 Z\" fill=\"#000000\" fill-rule=\"evenodd\" fill-opacity=\"1\" /><path clip-path=\"url(#clip970)\" d=\"M147.177 201.211 L152.061 201.211 L152.061 207.09 L147.177 207.09 L147.177 201.211 Z\" fill=\"#000000\" fill-rule=\"evenodd\" fill-opacity=\"1\" /><path clip-path=\"url(#clip970)\" d=\"M172.246 175.609 Q168.635 175.609 166.806 179.174 Q165.001 182.715 165.001 189.845 Q165.001 196.951 166.806 200.516 Q168.635 204.058 172.246 204.058 Q175.88 204.058 177.686 200.516 Q179.514 196.951 179.514 189.845 Q179.514 182.715 177.686 179.174 Q175.88 175.609 172.246 175.609 M172.246 171.905 Q178.056 171.905 181.112 176.512 Q184.19 181.095 184.19 189.845 Q184.19 198.572 181.112 203.178 Q178.056 207.762 172.246 207.762 Q166.436 207.762 163.357 203.178 Q160.302 198.572 160.302 189.845 Q160.302 181.095 163.357 176.512 Q166.436 171.905 172.246 171.905 Z\" fill=\"#000000\" fill-rule=\"evenodd\" fill-opacity=\"1\" /><path clip-path=\"url(#clip970)\" d=\"M220.579 181.627 L210 192.252 L220.579 202.831 L217.824 205.632 L207.199 195.007 L196.575 205.632 L193.843 202.831 L204.399 192.252 L193.843 181.627 L196.575 178.827 L207.199 189.452 L217.824 178.827 L220.579 181.627 Z\" fill=\"#000000\" fill-rule=\"evenodd\" fill-opacity=\"1\" /><path clip-path=\"url(#clip970)\" d=\"M232.94 203.155 L240.579 203.155 L240.579 176.79 L232.269 178.456 L232.269 174.197 L240.533 172.53 L245.209 172.53 L245.209 203.155 L252.847 203.155 L252.847 207.09 L232.94 207.09 L232.94 203.155 Z\" fill=\"#000000\" fill-rule=\"evenodd\" fill-opacity=\"1\" /><path clip-path=\"url(#clip970)\" d=\"M272.292 175.609 Q268.681 175.609 266.852 179.174 Q265.046 182.715 265.046 189.845 Q265.046 196.951 266.852 200.516 Q268.681 204.058 272.292 204.058 Q275.926 204.058 277.732 200.516 Q279.56 196.951 279.56 189.845 Q279.56 182.715 277.732 179.174 Q275.926 175.609 272.292 175.609 M272.292 171.905 Q278.102 171.905 281.157 176.512 Q284.236 181.095 284.236 189.845 Q284.236 198.572 281.157 203.178 Q278.102 207.762 272.292 207.762 Q266.482 207.762 263.403 203.178 Q260.347 198.572 260.347 189.845 Q260.347 181.095 263.403 176.512 Q266.482 171.905 272.292 171.905 Z\" fill=\"#000000\" fill-rule=\"evenodd\" fill-opacity=\"1\" /><path clip-path=\"url(#clip970)\" d=\"M284.782 176.483 L290.988 176.483 L290.988 155.061 L284.236 156.415 L284.236 152.954 L290.95 151.6 L294.75 151.6 L294.75 176.483 L300.956 176.483 L300.956 179.68 L284.782 179.68 L284.782 176.483 Z\" fill=\"#000000\" fill-rule=\"evenodd\" fill-opacity=\"1\" /><path clip-path=\"url(#clip970)\" d=\"M316.755 154.101 Q313.821 154.101 312.335 156.998 Q310.868 159.875 310.868 165.668 Q310.868 171.442 312.335 174.339 Q313.821 177.216 316.755 177.216 Q319.708 177.216 321.175 174.339 Q322.66 171.442 322.66 165.668 Q322.66 159.875 321.175 156.998 Q319.708 154.101 316.755 154.101 M316.755 151.092 Q321.475 151.092 323.958 154.835 Q326.46 158.559 326.46 165.668 Q326.46 172.759 323.958 176.501 Q321.475 180.225 316.755 180.225 Q312.034 180.225 309.533 176.501 Q307.05 172.759 307.05 165.668 Q307.05 158.559 309.533 154.835 Q312.034 151.092 316.755 151.092 Z\" fill=\"#000000\" fill-rule=\"evenodd\" fill-opacity=\"1\" /><path clip-path=\"url(#clip970)\" d=\"M28.3562 881.638 L28.3562 875.782 L64.0042 875.782 L64.0042 881.638 L28.3562 881.638 M14.479 881.638 L14.479 875.782 L21.895 875.782 L21.895 881.638 L14.479 881.638 Z\" fill=\"#000000\" fill-rule=\"evenodd\" fill-opacity=\"1\" /><path clip-path=\"url(#clip970)\" d=\"M35.1993 835.774 Q31.2526 833.577 29.3747 830.522 Q27.4968 827.466 27.4968 823.329 Q27.4968 817.759 31.4117 814.735 Q35.2948 811.711 42.4881 811.711 L64.0042 811.711 L64.0042 817.599 L42.679 817.599 Q37.5546 817.599 35.072 819.414 Q32.5894 821.228 32.5894 824.952 Q32.5894 829.503 35.6131 832.145 Q38.6368 834.787 43.8567 834.787 L64.0042 834.787 L64.0042 840.675 L42.679 840.675 Q37.5228 840.675 35.072 842.489 Q32.5894 844.304 32.5894 848.091 Q32.5894 852.579 35.6449 855.221 Q38.6686 857.863 43.8567 857.863 L64.0042 857.863 L64.0042 863.751 L28.3562 863.751 L28.3562 857.863 L33.8944 857.863 Q30.616 855.857 29.0564 853.056 Q27.4968 850.256 27.4968 846.404 Q27.4968 842.521 29.4702 839.816 Q31.4436 837.079 35.1993 835.774 Z\" fill=\"#000000\" fill-rule=\"evenodd\" fill-opacity=\"1\" /><path clip-path=\"url(#clip970)\" d=\"M58.657 794.365 L77.5631 794.365 L77.5631 800.253 L28.3562 800.253 L28.3562 794.365 L33.7671 794.365 Q30.5842 792.519 29.0564 789.718 Q27.4968 786.885 27.4968 782.97 Q27.4968 776.477 32.6531 772.435 Q37.8093 768.361 46.212 768.361 Q54.6147 768.361 59.771 772.435 Q64.9272 776.477 64.9272 782.97 Q64.9272 786.885 63.3994 789.718 Q61.8398 792.519 58.657 794.365 M46.212 774.44 Q39.7508 774.44 36.0905 777.114 Q32.3984 779.755 32.3984 784.402 Q32.3984 789.049 36.0905 791.723 Q39.7508 794.365 46.212 794.365 Q52.6732 794.365 56.3653 791.723 Q60.0256 789.049 60.0256 784.402 Q60.0256 779.755 56.3653 777.114 Q52.6732 774.44 46.212 774.44 Z\" fill=\"#000000\" fill-rule=\"evenodd\" fill-opacity=\"1\" /><path clip-path=\"url(#clip970)\" d=\"M46.0847 742.452 Q46.0847 749.55 47.7079 752.287 Q49.3312 755.025 53.2461 755.025 Q56.3653 755.025 58.2114 752.988 Q60.0256 750.919 60.0256 747.386 Q60.0256 742.516 56.5881 739.588 Q53.1188 736.628 47.3897 736.628 L46.0847 736.628 L46.0847 742.452 M43.6657 730.771 L64.0042 730.771 L64.0042 736.628 L58.5933 736.628 Q61.8398 738.633 63.3994 741.625 Q64.9272 744.617 64.9272 748.945 Q64.9272 754.42 61.8716 757.666 Q58.7843 760.881 53.6281 760.881 Q47.6125 760.881 44.5569 756.871 Q41.5014 752.828 41.5014 744.839 L41.5014 736.628 L40.9285 736.628 Q36.8862 736.628 34.6901 739.301 Q32.4621 741.943 32.4621 746.749 Q32.4621 749.805 33.1941 752.701 Q33.9262 755.597 35.3903 758.271 L29.9795 758.271 Q28.7381 755.056 28.1334 752.033 Q27.4968 749.009 27.4968 746.144 Q27.4968 738.41 31.5072 734.591 Q35.5176 730.771 43.6657 730.771 Z\" fill=\"#000000\" fill-rule=\"evenodd\" fill-opacity=\"1\" /><path clip-path=\"url(#clip970)\" d=\"M29.7248 693.054 L35.1993 693.054 Q33.8307 695.537 33.1623 698.052 Q32.4621 700.534 32.4621 703.08 Q32.4621 708.778 36.0905 711.929 Q39.6872 715.08 46.212 715.08 Q52.7369 715.08 56.3653 711.929 Q59.9619 708.778 59.9619 703.08 Q59.9619 700.534 59.2935 698.052 Q58.5933 695.537 57.2247 693.054 L62.6355 693.054 Q63.7814 695.505 64.3543 698.147 Q64.9272 700.757 64.9272 703.717 Q64.9272 711.77 59.8664 716.512 Q54.8057 721.255 46.212 721.255 Q37.491 721.255 32.4939 716.48 Q27.4968 711.674 27.4968 703.335 Q27.4968 700.63 28.0697 698.052 Q28.6108 695.473 29.7248 693.054 Z\" fill=\"#000000\" fill-rule=\"evenodd\" fill-opacity=\"1\" /><path clip-path=\"url(#clip970)\" d=\"M18.2347 677.076 L28.3562 677.076 L28.3562 665.013 L32.9077 665.013 L32.9077 677.076 L52.2594 677.076 Q56.6199 677.076 57.8613 675.899 Q59.1026 674.689 59.1026 671.029 L59.1026 665.013 L64.0042 665.013 L64.0042 671.029 Q64.0042 677.809 61.4897 680.387 Q58.9434 682.965 52.2594 682.965 L32.9077 682.965 L32.9077 687.262 L28.3562 687.262 L28.3562 682.965 L18.2347 682.965 L18.2347 677.076 Z\" fill=\"#000000\" fill-rule=\"evenodd\" fill-opacity=\"1\" /><path clip-path=\"url(#clip970)\" d=\"M339.494 12.096 L377.735 12.096 L377.735 18.9825 L347.677 18.9825 L347.677 36.8875 L376.479 36.8875 L376.479 43.7741 L347.677 43.7741 L347.677 65.6895 L378.464 65.6895 L378.464 72.576 L339.494 72.576 L339.494 12.096 Z\" fill=\"#000000\" fill-rule=\"evenodd\" fill-opacity=\"1\" /><path clip-path=\"url(#clip970)\" d=\"M429.303 45.1919 L429.303 72.576 L421.849 72.576 L421.849 45.4349 Q421.849 38.994 419.337 35.7938 Q416.826 32.5936 411.803 32.5936 Q405.767 32.5936 402.283 36.4419 Q398.799 40.2903 398.799 46.9338 L398.799 72.576 L391.305 72.576 L391.305 27.2059 L398.799 27.2059 L398.799 34.2544 Q401.473 30.163 405.078 28.1376 Q408.724 26.1121 413.463 26.1121 Q421.282 26.1121 425.292 30.9732 Q429.303 35.7938 429.303 45.1919 Z\" fill=\"#000000\" fill-rule=\"evenodd\" fill-opacity=\"1\" /><path clip-path=\"url(#clip970)\" d=\"M438.822 27.2059 L446.721 27.2059 L460.9 65.2844 L475.078 27.2059 L482.977 27.2059 L465.963 72.576 L455.836 72.576 L438.822 27.2059 Z\" fill=\"#000000\" fill-rule=\"evenodd\" fill-opacity=\"1\" /><path clip-path=\"url(#clip970)\" d=\"M493.266 27.2059 L500.72 27.2059 L500.72 72.576 L493.266 72.576 L493.266 27.2059 M493.266 9.54393 L500.72 9.54393 L500.72 18.9825 L493.266 18.9825 L493.266 9.54393 Z\" fill=\"#000000\" fill-rule=\"evenodd\" fill-opacity=\"1\" /><path clip-path=\"url(#clip970)\" d=\"M542.606 34.1734 Q541.351 33.4443 539.852 33.1202 Q538.393 32.7556 536.611 32.7556 Q530.292 32.7556 526.889 36.8875 Q523.527 40.9789 523.527 48.6757 L523.527 72.576 L516.032 72.576 L516.032 27.2059 L523.527 27.2059 L523.527 34.2544 Q525.876 30.1225 529.643 28.1376 Q533.411 26.1121 538.798 26.1121 Q539.568 26.1121 540.5 26.2337 Q541.432 26.3147 542.566 26.5172 L542.606 34.1734 Z\" fill=\"#000000\" fill-rule=\"evenodd\" fill-opacity=\"1\" /><path clip-path=\"url(#clip970)\" d=\"M566.183 32.4315 Q560.187 32.4315 556.703 37.1306 Q553.22 41.7891 553.22 49.9314 Q553.22 58.0738 556.663 62.7728 Q560.147 67.4314 566.183 67.4314 Q572.137 67.4314 575.621 62.7323 Q579.105 58.0333 579.105 49.9314 Q579.105 41.8701 575.621 37.1711 Q572.137 32.4315 566.183 32.4315 M566.183 26.1121 Q575.905 26.1121 581.454 32.4315 Q587.004 38.7509 587.004 49.9314 Q587.004 61.0714 581.454 67.4314 Q575.905 73.7508 566.183 73.7508 Q556.42 73.7508 550.87 67.4314 Q545.361 61.0714 545.361 49.9314 Q545.361 38.7509 550.87 32.4315 Q556.42 26.1121 566.183 26.1121 Z\" fill=\"#000000\" fill-rule=\"evenodd\" fill-opacity=\"1\" /><path clip-path=\"url(#clip970)\" d=\"M637.073 45.1919 L637.073 72.576 L629.62 72.576 L629.62 45.4349 Q629.62 38.994 627.108 35.7938 Q624.597 32.5936 619.573 32.5936 Q613.538 32.5936 610.054 36.4419 Q606.57 40.2903 606.57 46.9338 L606.57 72.576 L599.076 72.576 L599.076 27.2059 L606.57 27.2059 L606.57 34.2544 Q609.244 30.163 612.849 28.1376 Q616.495 26.1121 621.234 26.1121 Q629.053 26.1121 633.063 30.9732 Q637.073 35.7938 637.073 45.1919 Z\" fill=\"#000000\" fill-rule=\"evenodd\" fill-opacity=\"1\" /><path clip-path=\"url(#clip970)\" d=\"M687.264 35.9153 Q690.059 30.8922 693.948 28.5022 Q697.837 26.1121 703.103 26.1121 Q710.192 26.1121 714.041 31.0947 Q717.889 36.0368 717.889 45.1919 L717.889 72.576 L710.395 72.576 L710.395 45.4349 Q710.395 38.913 708.086 35.7533 Q705.777 32.5936 701.037 32.5936 Q695.244 32.5936 691.882 36.4419 Q688.52 40.2903 688.52 46.9338 L688.52 72.576 L681.026 72.576 L681.026 45.4349 Q681.026 38.8725 678.717 35.7533 Q676.408 32.5936 671.587 32.5936 Q665.875 32.5936 662.513 36.4824 Q659.151 40.3308 659.151 46.9338 L659.151 72.576 L651.657 72.576 L651.657 27.2059 L659.151 27.2059 L659.151 34.2544 Q661.703 30.082 665.268 28.0971 Q668.832 26.1121 673.734 26.1121 Q678.676 26.1121 682.119 28.6237 Q685.603 31.1352 687.264 35.9153 Z\" fill=\"#000000\" fill-rule=\"evenodd\" fill-opacity=\"1\" /><path clip-path=\"url(#clip970)\" d=\"M771.563 48.0275 L771.563 51.6733 L737.293 51.6733 Q737.779 59.3701 741.911 63.421 Q746.083 67.4314 753.496 67.4314 Q757.79 67.4314 761.801 66.3781 Q765.852 65.3249 769.822 63.2184 L769.822 70.267 Q765.811 71.9684 761.598 72.8596 Q757.385 73.7508 753.051 73.7508 Q742.194 73.7508 735.834 67.4314 Q729.515 61.1119 729.515 50.3365 Q729.515 39.1965 735.51 32.6746 Q741.546 26.1121 751.754 26.1121 Q760.91 26.1121 766.216 32.0264 Q771.563 37.9003 771.563 48.0275 M764.11 45.84 Q764.029 39.7232 760.666 36.0774 Q757.345 32.4315 751.836 32.4315 Q745.597 32.4315 741.83 35.9558 Q738.103 39.4801 737.536 45.8805 L764.11 45.84 Z\" fill=\"#000000\" fill-rule=\"evenodd\" fill-opacity=\"1\" /><path clip-path=\"url(#clip970)\" d=\"M821.511 45.1919 L821.511 72.576 L814.057 72.576 L814.057 45.4349 Q814.057 38.994 811.546 35.7938 Q809.034 32.5936 804.011 32.5936 Q797.975 32.5936 794.492 36.4419 Q791.008 40.2903 791.008 46.9338 L791.008 72.576 L783.514 72.576 L783.514 27.2059 L791.008 27.2059 L791.008 34.2544 Q793.681 30.163 797.287 28.1376 Q800.932 26.1121 805.672 26.1121 Q813.49 26.1121 817.501 30.9732 Q821.511 35.7938 821.511 45.1919 Z\" fill=\"#000000\" fill-rule=\"evenodd\" fill-opacity=\"1\" /><path clip-path=\"url(#clip970)\" d=\"M843.751 14.324 L843.751 27.2059 L859.103 27.2059 L859.103 32.9987 L843.751 32.9987 L843.751 57.6282 Q843.751 63.1779 845.249 64.7578 Q846.789 66.3376 851.447 66.3376 L859.103 66.3376 L859.103 72.576 L851.447 72.576 Q842.819 72.576 839.538 69.3758 Q836.256 66.1351 836.256 57.6282 L836.256 32.9987 L830.788 32.9987 L830.788 27.2059 L836.256 27.2059 L836.256 14.324 L843.751 14.324 Z\" fill=\"#000000\" fill-rule=\"evenodd\" fill-opacity=\"1\" /><path clip-path=\"url(#clip970)\" d=\"M889.526 49.7694 Q880.492 49.7694 877.008 51.8354 Q873.525 53.9013 873.525 58.8839 Q873.525 62.8538 876.117 65.2034 Q878.75 67.5124 883.247 67.5124 Q889.445 67.5124 893.172 63.1374 Q896.939 58.7219 896.939 51.4303 L896.939 49.7694 L889.526 49.7694 M904.393 46.6907 L904.393 72.576 L896.939 72.576 L896.939 65.6895 Q894.387 69.8214 890.579 71.8063 Q886.771 73.7508 881.262 73.7508 Q874.294 73.7508 870.162 69.8619 Q866.071 65.9325 866.071 59.3701 Q866.071 51.7138 871.175 47.825 Q876.32 43.9361 886.488 43.9361 L896.939 43.9361 L896.939 43.2069 Q896.939 38.0623 893.536 35.2672 Q890.174 32.4315 884.057 32.4315 Q880.168 32.4315 876.482 33.3632 Q872.796 34.295 869.393 36.1584 L869.393 29.2718 Q873.484 27.692 877.333 26.9223 Q881.181 26.1121 884.827 26.1121 Q894.67 26.1121 899.531 31.2163 Q904.393 36.3204 904.393 46.6907 Z\" fill=\"#000000\" fill-rule=\"evenodd\" fill-opacity=\"1\" /><path clip-path=\"url(#clip970)\" d=\"M919.745 9.54393 L927.199 9.54393 L927.199 72.576 L919.745 72.576 L919.745 9.54393 Z\" fill=\"#000000\" fill-rule=\"evenodd\" fill-opacity=\"1\" /><path clip-path=\"url(#clip970)\" d=\"M969.167 27.2059 L976.62 27.2059 L976.62 72.576 L969.167 72.576 L969.167 27.2059 M969.167 9.54393 L976.62 9.54393 L976.62 18.9825 L969.167 18.9825 L969.167 9.54393 Z\" fill=\"#000000\" fill-rule=\"evenodd\" fill-opacity=\"1\" /><path clip-path=\"url(#clip970)\" d=\"M1027.54 35.9153 Q1030.34 30.8922 1034.22 28.5022 Q1038.11 26.1121 1043.38 26.1121 Q1050.47 26.1121 1054.32 31.0947 Q1058.16 36.0368 1058.16 45.1919 L1058.16 72.576 L1050.67 72.576 L1050.67 45.4349 Q1050.67 38.913 1048.36 35.7533 Q1046.05 32.5936 1041.31 32.5936 Q1035.52 32.5936 1032.16 36.4419 Q1028.8 40.2903 1028.8 46.9338 L1028.8 72.576 L1021.3 72.576 L1021.3 45.4349 Q1021.3 38.8725 1018.99 35.7533 Q1016.68 32.5936 1011.86 32.5936 Q1006.15 32.5936 1002.79 36.4824 Q999.427 40.3308 999.427 46.9338 L999.427 72.576 L991.933 72.576 L991.933 27.2059 L999.427 27.2059 L999.427 34.2544 Q1001.98 30.082 1005.54 28.0971 Q1009.11 26.1121 1014.01 26.1121 Q1018.95 26.1121 1022.4 28.6237 Q1025.88 31.1352 1027.54 35.9153 Z\" fill=\"#000000\" fill-rule=\"evenodd\" fill-opacity=\"1\" /><path clip-path=\"url(#clip970)\" d=\"M1080.24 65.7705 L1080.24 89.8329 L1072.75 89.8329 L1072.75 27.2059 L1080.24 27.2059 L1080.24 34.0924 Q1082.59 30.0415 1086.16 28.0971 Q1089.76 26.1121 1094.74 26.1121 Q1103.01 26.1121 1108.15 32.6746 Q1113.34 39.2371 1113.34 49.9314 Q1113.34 60.6258 1108.15 67.1883 Q1103.01 73.7508 1094.74 73.7508 Q1089.76 73.7508 1086.16 71.8063 Q1082.59 69.8214 1080.24 65.7705 M1105.6 49.9314 Q1105.6 41.7081 1102.2 37.0496 Q1098.84 32.3505 1092.92 32.3505 Q1087.01 32.3505 1083.6 37.0496 Q1080.24 41.7081 1080.24 49.9314 Q1080.24 58.1548 1083.6 62.8538 Q1087.01 67.5124 1092.92 67.5124 Q1098.84 67.5124 1102.2 62.8538 Q1105.6 58.1548 1105.6 49.9314 Z\" fill=\"#000000\" fill-rule=\"evenodd\" fill-opacity=\"1\" /><path clip-path=\"url(#clip970)\" d=\"M1146.31 49.7694 Q1137.28 49.7694 1133.8 51.8354 Q1130.31 53.9013 1130.31 58.8839 Q1130.31 62.8538 1132.9 65.2034 Q1135.54 67.5124 1140.03 67.5124 Q1146.23 67.5124 1149.96 63.1374 Q1153.73 58.7219 1153.73 51.4303 L1153.73 49.7694 L1146.31 49.7694 M1161.18 46.6907 L1161.18 72.576 L1153.73 72.576 L1153.73 65.6895 Q1151.17 69.8214 1147.37 71.8063 Q1143.56 73.7508 1138.05 73.7508 Q1131.08 73.7508 1126.95 69.8619 Q1122.86 65.9325 1122.86 59.3701 Q1122.86 51.7138 1127.96 47.825 Q1133.11 43.9361 1143.27 43.9361 L1153.73 43.9361 L1153.73 43.2069 Q1153.73 38.0623 1150.32 35.2672 Q1146.96 32.4315 1140.84 32.4315 Q1136.95 32.4315 1133.27 33.3632 Q1129.58 34.295 1126.18 36.1584 L1126.18 29.2718 Q1130.27 27.692 1134.12 26.9223 Q1137.97 26.1121 1141.61 26.1121 Q1151.46 26.1121 1156.32 31.2163 Q1161.18 36.3204 1161.18 46.6907 Z\" fill=\"#000000\" fill-rule=\"evenodd\" fill-opacity=\"1\" /><path clip-path=\"url(#clip970)\" d=\"M1209.18 28.9478 L1209.18 35.9153 Q1206.02 34.1734 1202.82 33.3227 Q1199.66 32.4315 1196.42 32.4315 Q1189.17 32.4315 1185.16 37.0496 Q1181.15 41.6271 1181.15 49.9314 Q1181.15 58.2358 1185.16 62.8538 Q1189.17 67.4314 1196.42 67.4314 Q1199.66 67.4314 1202.82 66.5807 Q1206.02 65.6895 1209.18 63.9476 L1209.18 70.8341 Q1206.06 72.2924 1202.7 73.0216 Q1199.38 73.7508 1195.61 73.7508 Q1185.36 73.7508 1179.33 67.3098 Q1173.29 60.8689 1173.29 49.9314 Q1173.29 38.832 1179.37 32.472 Q1185.48 26.1121 1196.1 26.1121 Q1199.54 26.1121 1202.82 26.8413 Q1206.1 27.5299 1209.18 28.9478 Z\" fill=\"#000000\" fill-rule=\"evenodd\" fill-opacity=\"1\" /><path clip-path=\"url(#clip970)\" d=\"M1229.52 14.324 L1229.52 27.2059 L1244.87 27.2059 L1244.87 32.9987 L1229.52 32.9987 L1229.52 57.6282 Q1229.52 63.1779 1231.02 64.7578 Q1232.56 66.3376 1237.21 66.3376 L1244.87 66.3376 L1244.87 72.576 L1237.21 72.576 Q1228.59 72.576 1225.31 69.3758 Q1222.02 66.1351 1222.02 57.6282 L1222.02 32.9987 L1216.56 32.9987 L1216.56 27.2059 L1222.02 27.2059 L1222.02 14.324 L1229.52 14.324 Z\" fill=\"#000000\" fill-rule=\"evenodd\" fill-opacity=\"1\" /><path clip-path=\"url(#clip970)\" d=\"M1304.01 9.54393 L1304.01 15.7418 L1296.88 15.7418 Q1292.87 15.7418 1291.29 17.3622 Q1289.76 18.9825 1289.76 23.1955 L1289.76 27.2059 L1302.03 27.2059 L1302.03 32.9987 L1289.76 32.9987 L1289.76 72.576 L1282.26 72.576 L1282.26 32.9987 L1275.13 32.9987 L1275.13 27.2059 L1282.26 27.2059 L1282.26 24.0462 Q1282.26 16.471 1285.79 13.0277 Q1289.31 9.54393 1296.97 9.54393 L1304.01 9.54393 Z\" fill=\"#000000\" fill-rule=\"evenodd\" fill-opacity=\"1\" /><path clip-path=\"url(#clip970)\" d=\"M1327.83 32.4315 Q1321.84 32.4315 1318.35 37.1306 Q1314.87 41.7891 1314.87 49.9314 Q1314.87 58.0738 1318.31 62.7728 Q1321.8 67.4314 1327.83 67.4314 Q1333.79 67.4314 1337.27 62.7323 Q1340.76 58.0333 1340.76 49.9314 Q1340.76 41.8701 1337.27 37.1711 Q1333.79 32.4315 1327.83 32.4315 M1327.83 26.1121 Q1337.56 26.1121 1343.11 32.4315 Q1348.66 38.7509 1348.66 49.9314 Q1348.66 61.0714 1343.11 67.4314 Q1337.56 73.7508 1327.83 73.7508 Q1318.07 73.7508 1312.52 67.4314 Q1307.01 61.0714 1307.01 49.9314 Q1307.01 38.7509 1312.52 32.4315 Q1318.07 26.1121 1327.83 26.1121 Z\" fill=\"#000000\" fill-rule=\"evenodd\" fill-opacity=\"1\" /><path clip-path=\"url(#clip970)\" d=\"M1387.3 34.1734 Q1386.05 33.4443 1384.55 33.1202 Q1383.09 32.7556 1381.31 32.7556 Q1374.99 32.7556 1371.58 36.8875 Q1368.22 40.9789 1368.22 48.6757 L1368.22 72.576 L1360.73 72.576 L1360.73 27.2059 L1368.22 27.2059 L1368.22 34.2544 Q1370.57 30.1225 1374.34 28.1376 Q1378.11 26.1121 1383.49 26.1121 Q1384.26 26.1121 1385.19 26.2337 Q1386.13 26.3147 1387.26 26.5172 L1387.3 34.1734 Z\" fill=\"#000000\" fill-rule=\"evenodd\" fill-opacity=\"1\" /><path clip-path=\"url(#clip970)\" d=\"M1451.35 34.0924 L1451.35 9.54393 L1458.8 9.54393 L1458.8 72.576 L1451.35 72.576 L1451.35 65.7705 Q1449 69.8214 1445.39 71.8063 Q1441.83 73.7508 1436.8 73.7508 Q1428.58 73.7508 1423.39 67.1883 Q1418.25 60.6258 1418.25 49.9314 Q1418.25 39.2371 1423.39 32.6746 Q1428.58 26.1121 1436.8 26.1121 Q1441.83 26.1121 1445.39 28.0971 Q1449 30.0415 1451.35 34.0924 M1425.95 49.9314 Q1425.95 58.1548 1429.31 62.8538 Q1432.71 67.5124 1438.63 67.5124 Q1444.54 67.5124 1447.94 62.8538 Q1451.35 58.1548 1451.35 49.9314 Q1451.35 41.7081 1447.94 37.0496 Q1444.54 32.3505 1438.63 32.3505 Q1432.71 32.3505 1429.31 37.0496 Q1425.95 41.7081 1425.95 49.9314 Z\" fill=\"#000000\" fill-rule=\"evenodd\" fill-opacity=\"1\" /><path clip-path=\"url(#clip970)\" d=\"M1474.15 27.2059 L1481.61 27.2059 L1481.61 72.576 L1474.15 72.576 L1474.15 27.2059 M1474.15 9.54393 L1481.61 9.54393 L1481.61 18.9825 L1474.15 18.9825 L1474.15 9.54393 Z\" fill=\"#000000\" fill-rule=\"evenodd\" fill-opacity=\"1\" /><path clip-path=\"url(#clip970)\" d=\"M1520.17 9.54393 L1520.17 15.7418 L1513.04 15.7418 Q1509.03 15.7418 1507.45 17.3622 Q1505.91 18.9825 1505.91 23.1955 L1505.91 27.2059 L1518.19 27.2059 L1518.19 32.9987 L1505.91 32.9987 L1505.91 72.576 L1498.42 72.576 L1498.42 32.9987 L1491.29 32.9987 L1491.29 27.2059 L1498.42 27.2059 L1498.42 24.0462 Q1498.42 16.471 1501.94 13.0277 Q1505.47 9.54393 1513.12 9.54393 L1520.17 9.54393 Z\" fill=\"#000000\" fill-rule=\"evenodd\" fill-opacity=\"1\" /><path clip-path=\"url(#clip970)\" d=\"M1549.38 9.54393 L1549.38 15.7418 L1542.25 15.7418 Q1538.24 15.7418 1536.66 17.3622 Q1535.12 18.9825 1535.12 23.1955 L1535.12 27.2059 L1547.39 27.2059 L1547.39 32.9987 L1535.12 32.9987 L1535.12 72.576 L1527.62 72.576 L1527.62 32.9987 L1520.49 32.9987 L1520.49 27.2059 L1527.62 27.2059 L1527.62 24.0462 Q1527.62 16.471 1531.15 13.0277 Q1534.67 9.54393 1542.33 9.54393 L1549.38 9.54393 Z\" fill=\"#000000\" fill-rule=\"evenodd\" fill-opacity=\"1\" /><path clip-path=\"url(#clip970)\" d=\"M1594.42 48.0275 L1594.42 51.6733 L1560.15 51.6733 Q1560.64 59.3701 1564.77 63.421 Q1568.94 67.4314 1576.36 67.4314 Q1580.65 67.4314 1584.66 66.3781 Q1588.71 65.3249 1592.68 63.2184 L1592.68 70.267 Q1588.67 71.9684 1584.46 72.8596 Q1580.25 73.7508 1575.91 73.7508 Q1565.05 73.7508 1558.69 67.4314 Q1552.38 61.1119 1552.38 50.3365 Q1552.38 39.1965 1558.37 32.6746 Q1564.41 26.1121 1574.61 26.1121 Q1583.77 26.1121 1589.08 32.0264 Q1594.42 37.9003 1594.42 48.0275 M1586.97 45.84 Q1586.89 39.7232 1583.53 36.0774 Q1580.2 32.4315 1574.7 32.4315 Q1568.46 32.4315 1564.69 35.9558 Q1560.96 39.4801 1560.4 45.8805 L1586.97 45.84 Z\" fill=\"#000000\" fill-rule=\"evenodd\" fill-opacity=\"1\" /><path clip-path=\"url(#clip970)\" d=\"M1632.95 34.1734 Q1631.69 33.4443 1630.19 33.1202 Q1628.73 32.7556 1626.95 32.7556 Q1620.63 32.7556 1617.23 36.8875 Q1613.87 40.9789 1613.87 48.6757 L1613.87 72.576 L1606.37 72.576 L1606.37 27.2059 L1613.87 27.2059 L1613.87 34.2544 Q1616.22 30.1225 1619.98 28.1376 Q1623.75 26.1121 1629.14 26.1121 Q1629.91 26.1121 1630.84 26.2337 Q1631.77 26.3147 1632.91 26.5172 L1632.95 34.1734 Z\" fill=\"#000000\" fill-rule=\"evenodd\" fill-opacity=\"1\" /><path clip-path=\"url(#clip970)\" d=\"M1677.75 48.0275 L1677.75 51.6733 L1643.48 51.6733 Q1643.97 59.3701 1648.1 63.421 Q1652.27 67.4314 1659.68 67.4314 Q1663.98 67.4314 1667.99 66.3781 Q1672.04 65.3249 1676.01 63.2184 L1676.01 70.267 Q1672 71.9684 1667.79 72.8596 Q1663.57 73.7508 1659.24 73.7508 Q1648.38 73.7508 1642.02 67.4314 Q1635.7 61.1119 1635.7 50.3365 Q1635.7 39.1965 1641.7 32.6746 Q1647.73 26.1121 1657.94 26.1121 Q1667.1 26.1121 1672.4 32.0264 Q1677.75 37.9003 1677.75 48.0275 M1670.3 45.84 Q1670.22 39.7232 1666.85 36.0774 Q1663.53 32.4315 1658.02 32.4315 Q1651.78 32.4315 1648.02 35.9558 Q1644.29 39.4801 1643.72 45.8805 L1670.3 45.84 Z\" fill=\"#000000\" fill-rule=\"evenodd\" fill-opacity=\"1\" /><path clip-path=\"url(#clip970)\" d=\"M1727.7 45.1919 L1727.7 72.576 L1720.24 72.576 L1720.24 45.4349 Q1720.24 38.994 1717.73 35.7938 Q1715.22 32.5936 1710.2 32.5936 Q1704.16 32.5936 1700.68 36.4419 Q1697.2 40.2903 1697.2 46.9338 L1697.2 72.576 L1689.7 72.576 L1689.7 27.2059 L1697.2 27.2059 L1697.2 34.2544 Q1699.87 30.163 1703.47 28.1376 Q1707.12 26.1121 1711.86 26.1121 Q1719.68 26.1121 1723.69 30.9732 Q1727.7 35.7938 1727.7 45.1919 Z\" fill=\"#000000\" fill-rule=\"evenodd\" fill-opacity=\"1\" /><path clip-path=\"url(#clip970)\" d=\"M1749.94 14.324 L1749.94 27.2059 L1765.29 27.2059 L1765.29 32.9987 L1749.94 32.9987 L1749.94 57.6282 Q1749.94 63.1779 1751.44 64.7578 Q1752.98 66.3376 1757.63 66.3376 L1765.29 66.3376 L1765.29 72.576 L1757.63 72.576 Q1749.01 72.576 1745.72 69.3758 Q1742.44 66.1351 1742.44 57.6282 L1742.44 32.9987 L1736.97 32.9987 L1736.97 27.2059 L1742.44 27.2059 L1742.44 14.324 L1749.94 14.324 Z\" fill=\"#000000\" fill-rule=\"evenodd\" fill-opacity=\"1\" /><path clip-path=\"url(#clip970)\" d=\"M1796.12 27.2059 L1804.02 27.2059 L1818.2 65.2844 L1832.37 27.2059 L1840.27 27.2059 L1823.26 72.576 L1813.13 72.576 L1796.12 27.2059 Z\" fill=\"#000000\" fill-rule=\"evenodd\" fill-opacity=\"1\" /><path clip-path=\"url(#clip970)\" d=\"M1871.18 49.7694 Q1862.15 49.7694 1858.66 51.8354 Q1855.18 53.9013 1855.18 58.8839 Q1855.18 62.8538 1857.77 65.2034 Q1860.41 67.5124 1864.9 67.5124 Q1871.1 67.5124 1874.83 63.1374 Q1878.59 58.7219 1878.59 51.4303 L1878.59 49.7694 L1871.18 49.7694 M1886.05 46.6907 L1886.05 72.576 L1878.59 72.576 L1878.59 65.6895 Q1876.04 69.8214 1872.23 71.8063 Q1868.43 73.7508 1862.92 73.7508 Q1855.95 73.7508 1851.82 69.8619 Q1847.73 65.9325 1847.73 59.3701 Q1847.73 51.7138 1852.83 47.825 Q1857.98 43.9361 1868.14 43.9361 L1878.59 43.9361 L1878.59 43.2069 Q1878.59 38.0623 1875.19 35.2672 Q1871.83 32.4315 1865.71 32.4315 Q1861.82 32.4315 1858.14 33.3632 Q1854.45 34.295 1851.05 36.1584 L1851.05 29.2718 Q1855.14 27.692 1858.99 26.9223 Q1862.84 26.1121 1866.48 26.1121 Q1876.33 26.1121 1881.19 31.2163 Q1886.05 36.3204 1886.05 46.6907 Z\" fill=\"#000000\" fill-rule=\"evenodd\" fill-opacity=\"1\" /><path clip-path=\"url(#clip970)\" d=\"M1901.4 9.54393 L1908.85 9.54393 L1908.85 72.576 L1901.4 72.576 L1901.4 9.54393 Z\" fill=\"#000000\" fill-rule=\"evenodd\" fill-opacity=\"1\" /><path clip-path=\"url(#clip970)\" d=\"M1923.68 54.671 L1923.68 27.2059 L1931.13 27.2059 L1931.13 54.3874 Q1931.13 60.8284 1933.65 64.0691 Q1936.16 67.2693 1941.18 67.2693 Q1947.22 67.2693 1950.7 63.421 Q1954.22 59.5726 1954.22 52.9291 L1954.22 27.2059 L1961.68 27.2059 L1961.68 72.576 L1954.22 72.576 L1954.22 65.6084 Q1951.51 69.7404 1947.91 71.7658 Q1944.34 73.7508 1939.6 73.7508 Q1931.78 73.7508 1927.73 68.8897 Q1923.68 64.0286 1923.68 54.671 M1942.44 26.1121 L1942.44 26.1121 Z\" fill=\"#000000\" fill-rule=\"evenodd\" fill-opacity=\"1\" /><path clip-path=\"url(#clip970)\" d=\"M2015.84 48.0275 L2015.84 51.6733 L1981.57 51.6733 Q1982.05 59.3701 1986.19 63.421 Q1990.36 67.4314 1997.77 67.4314 Q2002.07 67.4314 2006.08 66.3781 Q2010.13 65.3249 2014.1 63.2184 L2014.1 70.267 Q2010.09 71.9684 2005.87 72.8596 Q2001.66 73.7508 1997.33 73.7508 Q1986.47 73.7508 1980.11 67.4314 Q1973.79 61.1119 1973.79 50.3365 Q1973.79 39.1965 1979.79 32.6746 Q1985.82 26.1121 1996.03 26.1121 Q2005.19 26.1121 2010.49 32.0264 Q2015.84 37.9003 2015.84 48.0275 M2008.39 45.84 Q2008.3 39.7232 2004.94 36.0774 Q2001.62 32.4315 1996.11 32.4315 Q1989.87 32.4315 1986.11 35.9558 Q1982.38 39.4801 1981.81 45.8805 L2008.39 45.84 Z\" fill=\"#000000\" fill-rule=\"evenodd\" fill-opacity=\"1\" /><path clip-path=\"url(#clip970)\" d=\"M2057 28.5427 L2057 35.5912 Q2053.84 33.9709 2050.43 33.1607 Q2047.03 32.3505 2043.39 32.3505 Q2037.84 32.3505 2035.04 34.0519 Q2032.29 35.7533 2032.29 39.156 Q2032.29 41.7486 2034.27 43.2475 Q2036.26 44.7058 2042.25 46.0426 L2044.8 46.6097 Q2052.74 48.3111 2056.06 51.4303 Q2059.43 54.509 2059.43 60.0587 Q2059.43 66.3781 2054.4 70.0644 Q2049.42 73.7508 2040.67 73.7508 Q2037.03 73.7508 2033.06 73.0216 Q2029.13 72.3329 2024.75 70.9151 L2024.75 63.2184 Q2028.88 65.3654 2032.89 66.4591 Q2036.9 67.5124 2040.83 67.5124 Q2046.1 67.5124 2048.94 65.73 Q2051.77 63.9071 2051.77 60.6258 Q2051.77 57.5877 2049.7 55.9673 Q2047.68 54.3469 2040.75 52.8481 L2038.16 52.2405 Q2031.23 50.7821 2028.15 47.7845 Q2025.08 44.7463 2025.08 39.4801 Q2025.08 33.0797 2029.61 29.5959 Q2034.15 26.1121 2042.49 26.1121 Q2046.63 26.1121 2050.27 26.7198 Q2053.92 27.3274 2057 28.5427 Z\" fill=\"#000000\" fill-rule=\"evenodd\" fill-opacity=\"1\" /><path clip-path=\"url(#clip970)\" d=\"M2115.25 32.4315 Q2109.25 32.4315 2105.77 37.1306 Q2102.29 41.7891 2102.29 49.9314 Q2102.29 58.0738 2105.73 62.7728 Q2109.21 67.4314 2115.25 67.4314 Q2121.2 67.4314 2124.69 62.7323 Q2128.17 58.0333 2128.17 49.9314 Q2128.17 41.8701 2124.69 37.1711 Q2121.2 32.4315 2115.25 32.4315 M2115.25 26.1121 Q2124.97 26.1121 2130.52 32.4315 Q2136.07 38.7509 2136.07 49.9314 Q2136.07 61.0714 2130.52 67.4314 Q2124.97 73.7508 2115.25 73.7508 Q2105.49 73.7508 2099.94 67.4314 Q2094.43 61.0714 2094.43 49.9314 Q2094.43 38.7509 2099.94 32.4315 Q2105.49 26.1121 2115.25 26.1121 Z\" fill=\"#000000\" fill-rule=\"evenodd\" fill-opacity=\"1\" /><path clip-path=\"url(#clip970)\" d=\"M2171.39 9.54393 L2171.39 15.7418 L2164.26 15.7418 Q2160.25 15.7418 2158.67 17.3622 Q2157.13 18.9825 2157.13 23.1955 L2157.13 27.2059 L2169.41 27.2059 L2169.41 32.9987 L2157.13 32.9987 L2157.13 72.576 L2149.64 72.576 L2149.64 32.9987 L2142.51 32.9987 L2142.51 27.2059 L2149.64 27.2059 L2149.64 24.0462 Q2149.64 16.471 2153.16 13.0277 Q2156.69 9.54393 2164.35 9.54393 L2171.39 9.54393 Z\" fill=\"#000000\" fill-rule=\"evenodd\" fill-opacity=\"1\" /><path clip-path=\"url(#clip970)\" d=\"M2236.57 49.9314 Q2236.57 41.7081 2233.17 37.0496 Q2229.81 32.3505 2223.89 32.3505 Q2217.98 32.3505 2214.58 37.0496 Q2211.21 41.7081 2211.21 49.9314 Q2211.21 58.1548 2214.58 62.8538 Q2217.98 67.5124 2223.89 67.5124 Q2229.81 67.5124 2233.17 62.8538 Q2236.57 58.1548 2236.57 49.9314 M2211.21 34.0924 Q2213.56 30.0415 2217.13 28.0971 Q2220.73 26.1121 2225.72 26.1121 Q2233.98 26.1121 2239.12 32.6746 Q2244.31 39.2371 2244.31 49.9314 Q2244.31 60.6258 2239.12 67.1883 Q2233.98 73.7508 2225.72 73.7508 Q2220.73 73.7508 2217.13 71.8063 Q2213.56 69.8214 2211.21 65.7705 L2211.21 72.576 L2203.72 72.576 L2203.72 9.54393 L2211.21 9.54393 L2211.21 34.0924 Z\" fill=\"#000000\" fill-rule=\"evenodd\" fill-opacity=\"1\" /><path clip-path=\"url(#clip970)\" d=\"M2295.47 48.0275 L2295.47 51.6733 L2261.2 51.6733 Q2261.69 59.3701 2265.82 63.421 Q2269.99 67.4314 2277.41 67.4314 Q2281.7 67.4314 2285.71 66.3781 Q2289.76 65.3249 2293.73 63.2184 L2293.73 70.267 Q2289.72 71.9684 2285.51 72.8596 Q2281.29 73.7508 2276.96 73.7508 Q2266.1 73.7508 2259.74 67.4314 Q2253.42 61.1119 2253.42 50.3365 Q2253.42 39.1965 2259.42 32.6746 Q2265.46 26.1121 2275.66 26.1121 Q2284.82 26.1121 2290.13 32.0264 Q2295.47 37.9003 2295.47 48.0275 M2288.02 45.84 Q2287.94 39.7232 2284.58 36.0774 Q2281.25 32.4315 2275.75 32.4315 Q2269.51 32.4315 2265.74 35.9558 Q2262.01 39.4801 2261.45 45.8805 L2288.02 45.84 Z\" fill=\"#000000\" fill-rule=\"evenodd\" fill-opacity=\"1\" /><path clip-path=\"url(#clip970)\" d=\"M2315.08 14.324 L2315.08 27.2059 L2330.43 27.2059 L2330.43 32.9987 L2315.08 32.9987 L2315.08 57.6282 Q2315.08 63.1779 2316.58 64.7578 Q2318.12 66.3376 2322.78 66.3376 L2330.43 66.3376 L2330.43 72.576 L2322.78 72.576 Q2314.15 72.576 2310.87 69.3758 Q2307.59 66.1351 2307.59 57.6282 L2307.59 32.9987 L2302.12 32.9987 L2302.12 27.2059 L2307.59 27.2059 L2307.59 14.324 L2315.08 14.324 Z\" fill=\"#000000\" fill-rule=\"evenodd\" fill-opacity=\"1\" /><path clip-path=\"url(#clip970)\" d=\"M2360.85 49.7694 Q2351.82 49.7694 2348.34 51.8354 Q2344.85 53.9013 2344.85 58.8839 Q2344.85 62.8538 2347.45 65.2034 Q2350.08 67.5124 2354.58 67.5124 Q2360.77 67.5124 2364.5 63.1374 Q2368.27 58.7219 2368.27 51.4303 L2368.27 49.7694 L2360.85 49.7694 M2375.72 46.6907 L2375.72 72.576 L2368.27 72.576 L2368.27 65.6895 Q2365.72 69.8214 2361.91 71.8063 Q2358.1 73.7508 2352.59 73.7508 Q2345.62 73.7508 2341.49 69.8619 Q2337.4 65.9325 2337.4 59.3701 Q2337.4 51.7138 2342.5 47.825 Q2347.65 43.9361 2357.82 43.9361 L2368.27 43.9361 L2368.27 43.2069 Q2368.27 38.0623 2364.87 35.2672 Q2361.5 32.4315 2355.39 32.4315 Q2351.5 32.4315 2347.81 33.3632 Q2344.12 34.295 2340.72 36.1584 L2340.72 29.2718 Q2344.81 27.692 2348.66 26.9223 Q2352.51 26.1121 2356.16 26.1121 Q2366 26.1121 2370.86 31.2163 Q2375.72 36.3204 2375.72 46.6907 Z\" fill=\"#000000\" fill-rule=\"evenodd\" fill-opacity=\"1\" /><polyline clip-path=\"url(#clip972)\" style=\"stroke:#009af9; stroke-linecap:round; stroke-linejoin:round; stroke-width:4; stroke-opacity:1; fill:none\" points=\"\n  418.789,160.256 627.415,1132.75 836.042,1302.32 1044.67,1329.51 1253.29,1359.55 1461.92,1364.02 1670.55,1367.5 1879.17,1375.49 2087.8,1386.4 2296.43,1386.4 \n  \n  \"/>\n<polyline clip-path=\"url(#clip972)\" style=\"stroke:#e26f46; stroke-linecap:round; stroke-linejoin:round; stroke-width:4; stroke-opacity:1; fill:none\" points=\"\n  418.789,306.162 627.415,1167.64 836.042,1304.89 1044.67,1329.51 1253.29,1359.55 1461.92,1364.02 1670.55,1367.5 1879.17,1375.49 2087.8,1386.4 2296.43,1386.4 \n  \n  \"/>\n<path clip-path=\"url(#clip970)\" d=\"\nM428.803 322.316 L1019.92 322.316 L1019.92 166.796 L428.803 166.796  Z\n  \" fill=\"#ffffff\" fill-rule=\"evenodd\" fill-opacity=\"1\"/>\n<polyline clip-path=\"url(#clip970)\" style=\"stroke:#000000; stroke-linecap:round; stroke-linejoin:round; stroke-width:4; stroke-opacity:1; fill:none\" points=\"\n  428.803,322.316 1019.92,322.316 1019.92,166.796 428.803,166.796 428.803,322.316 \n  \"/>\n<polyline clip-path=\"url(#clip970)\" style=\"stroke:#009af9; stroke-linecap:round; stroke-linejoin:round; stroke-width:4; stroke-opacity:1; fill:none\" points=\"\n  450.917,218.636 583.604,218.636 \n  \"/>\n<path clip-path=\"url(#clip970)\" d=\"M605.718 201.356 L634.954 201.356 L634.954 205.291 L622.685 205.291 L622.685 235.916 L617.986 235.916 L617.986 205.291 L605.718 205.291 L605.718 201.356 Z\" fill=\"#000000\" fill-rule=\"evenodd\" fill-opacity=\"1\" /><path clip-path=\"url(#clip970)\" d=\"M641.273 212.976 Q637.847 212.976 635.857 215.661 Q633.866 218.323 633.866 222.976 Q633.866 227.629 635.834 230.314 Q637.824 232.976 641.273 232.976 Q644.676 232.976 646.667 230.291 Q648.658 227.606 648.658 222.976 Q648.658 218.37 646.667 215.684 Q644.676 212.976 641.273 212.976 M641.273 209.365 Q646.829 209.365 650 212.976 Q653.171 216.587 653.171 222.976 Q653.171 229.342 650 232.976 Q646.829 236.587 641.273 236.587 Q635.695 236.587 632.523 232.976 Q629.375 229.342 629.375 222.976 Q629.375 216.587 632.523 212.976 Q635.695 209.365 641.273 209.365 Z\" fill=\"#000000\" fill-rule=\"evenodd\" fill-opacity=\"1\" /><path clip-path=\"url(#clip970)\" d=\"M664.445 202.629 L664.445 209.99 L673.218 209.99 L673.218 213.3 L664.445 213.3 L664.445 227.374 Q664.445 230.545 665.301 231.448 Q666.181 232.351 668.843 232.351 L673.218 232.351 L673.218 235.916 L668.843 235.916 Q663.912 235.916 662.037 234.087 Q660.162 232.235 660.162 227.374 L660.162 213.3 L657.037 213.3 L657.037 209.99 L660.162 209.99 L660.162 202.629 L664.445 202.629 Z\" fill=\"#000000\" fill-rule=\"evenodd\" fill-opacity=\"1\" /><path clip-path=\"url(#clip970)\" d=\"M690.602 222.883 Q685.44 222.883 683.449 224.064 Q681.458 225.244 681.458 228.092 Q681.458 230.36 682.94 231.703 Q684.444 233.022 687.014 233.022 Q690.555 233.022 692.685 230.522 Q694.838 227.999 694.838 223.832 L694.838 222.883 L690.602 222.883 M699.097 221.124 L699.097 235.916 L694.838 235.916 L694.838 231.981 Q693.38 234.342 691.204 235.476 Q689.028 236.587 685.88 236.587 Q681.898 236.587 679.537 234.365 Q677.199 232.119 677.199 228.369 Q677.199 223.994 680.116 221.772 Q683.056 219.55 688.866 219.55 L694.838 219.55 L694.838 219.133 Q694.838 216.194 692.893 214.596 Q690.972 212.976 687.477 212.976 Q685.255 212.976 683.148 213.508 Q681.042 214.041 679.097 215.106 L679.097 211.17 Q681.435 210.268 683.634 209.828 Q685.833 209.365 687.917 209.365 Q693.542 209.365 696.319 212.282 Q699.097 215.198 699.097 221.124 Z\" fill=\"#000000\" fill-rule=\"evenodd\" fill-opacity=\"1\" /><path clip-path=\"url(#clip970)\" d=\"M707.87 199.897 L712.129 199.897 L712.129 235.916 L707.87 235.916 L707.87 199.897 Z\" fill=\"#000000\" fill-rule=\"evenodd\" fill-opacity=\"1\" /><path clip-path=\"url(#clip970)\" d=\"M736.111 209.99 L740.37 209.99 L740.37 235.916 L736.111 235.916 L736.111 209.99 M736.111 199.897 L740.37 199.897 L740.37 205.291 L736.111 205.291 L736.111 199.897 Z\" fill=\"#000000\" fill-rule=\"evenodd\" fill-opacity=\"1\" /><path clip-path=\"url(#clip970)\" d=\"M769.467 214.967 Q771.064 212.096 773.287 210.731 Q775.509 209.365 778.518 209.365 Q782.569 209.365 784.768 212.212 Q786.967 215.036 786.967 220.268 L786.967 235.916 L782.685 235.916 L782.685 220.407 Q782.685 216.68 781.365 214.874 Q780.046 213.069 777.337 213.069 Q774.027 213.069 772.106 215.268 Q770.185 217.467 770.185 221.263 L770.185 235.916 L765.902 235.916 L765.902 220.407 Q765.902 216.657 764.583 214.874 Q763.263 213.069 760.509 213.069 Q757.245 213.069 755.324 215.291 Q753.402 217.49 753.402 221.263 L753.402 235.916 L749.12 235.916 L749.12 209.99 L753.402 209.99 L753.402 214.018 Q754.861 211.633 756.898 210.499 Q758.935 209.365 761.736 209.365 Q764.56 209.365 766.527 210.8 Q768.518 212.235 769.467 214.967 Z\" fill=\"#000000\" fill-rule=\"evenodd\" fill-opacity=\"1\" /><path clip-path=\"url(#clip970)\" d=\"M799.583 232.027 L799.583 245.777 L795.3 245.777 L795.3 209.99 L799.583 209.99 L799.583 213.925 Q800.925 211.61 802.962 210.499 Q805.022 209.365 807.87 209.365 Q812.592 209.365 815.532 213.115 Q818.495 216.865 818.495 222.976 Q818.495 229.087 815.532 232.837 Q812.592 236.587 807.87 236.587 Q805.022 236.587 802.962 235.476 Q800.925 234.342 799.583 232.027 M814.073 222.976 Q814.073 218.277 812.129 215.615 Q810.208 212.93 806.828 212.93 Q803.448 212.93 801.504 215.615 Q799.583 218.277 799.583 222.976 Q799.583 227.675 801.504 230.36 Q803.448 233.022 806.828 233.022 Q810.208 233.022 812.129 230.36 Q814.073 227.675 814.073 222.976 Z\" fill=\"#000000\" fill-rule=\"evenodd\" fill-opacity=\"1\" /><path clip-path=\"url(#clip970)\" d=\"M837.337 222.883 Q832.175 222.883 830.184 224.064 Q828.194 225.244 828.194 228.092 Q828.194 230.36 829.675 231.703 Q831.18 233.022 833.749 233.022 Q837.291 233.022 839.42 230.522 Q841.573 227.999 841.573 223.832 L841.573 222.883 L837.337 222.883 M845.832 221.124 L845.832 235.916 L841.573 235.916 L841.573 231.981 Q840.115 234.342 837.939 235.476 Q835.763 236.587 832.615 236.587 Q828.633 236.587 826.272 234.365 Q823.934 232.119 823.934 228.369 Q823.934 223.994 826.851 221.772 Q829.791 219.55 835.601 219.55 L841.573 219.55 L841.573 219.133 Q841.573 216.194 839.629 214.596 Q837.707 212.976 834.212 212.976 Q831.99 212.976 829.883 213.508 Q827.777 214.041 825.833 215.106 L825.833 211.17 Q828.17 210.268 830.37 209.828 Q832.569 209.365 834.652 209.365 Q840.277 209.365 843.055 212.282 Q845.832 215.198 845.832 221.124 Z\" fill=\"#000000\" fill-rule=\"evenodd\" fill-opacity=\"1\" /><path clip-path=\"url(#clip970)\" d=\"M873.263 210.985 L873.263 214.967 Q871.457 213.971 869.629 213.485 Q867.823 212.976 865.971 212.976 Q861.828 212.976 859.536 215.615 Q857.244 218.231 857.244 222.976 Q857.244 227.721 859.536 230.36 Q861.828 232.976 865.971 232.976 Q867.823 232.976 869.629 232.49 Q871.457 231.981 873.263 230.985 L873.263 234.92 Q871.48 235.754 869.559 236.17 Q867.661 236.587 865.508 236.587 Q859.652 236.587 856.203 232.906 Q852.754 229.226 852.754 222.976 Q852.754 216.633 856.226 212.999 Q859.721 209.365 865.786 209.365 Q867.754 209.365 869.629 209.782 Q871.504 210.175 873.263 210.985 Z\" fill=\"#000000\" fill-rule=\"evenodd\" fill-opacity=\"1\" /><path clip-path=\"url(#clip970)\" d=\"M884.883 202.629 L884.883 209.99 L893.656 209.99 L893.656 213.3 L884.883 213.3 L884.883 227.374 Q884.883 230.545 885.74 231.448 Q886.619 232.351 889.281 232.351 L893.656 232.351 L893.656 235.916 L889.281 235.916 Q884.351 235.916 882.476 234.087 Q880.601 232.235 880.601 227.374 L880.601 213.3 L877.476 213.3 L877.476 209.99 L880.601 209.99 L880.601 202.629 L884.883 202.629 Z\" fill=\"#000000\" fill-rule=\"evenodd\" fill-opacity=\"1\" /><polyline clip-path=\"url(#clip970)\" style=\"stroke:#e26f46; stroke-linecap:round; stroke-linejoin:round; stroke-width:4; stroke-opacity:1; fill:none\" points=\"\n  450.917,270.476 583.604,270.476 \n  \"/>\n<path clip-path=\"url(#clip970)\" d=\"M605.718 253.196 L612.014 253.196 L627.338 282.108 L627.338 253.196 L631.875 253.196 L631.875 287.756 L625.579 287.756 L610.255 258.844 L610.255 287.756 L605.718 287.756 L605.718 253.196 Z\" fill=\"#000000\" fill-rule=\"evenodd\" fill-opacity=\"1\" /><path clip-path=\"url(#clip970)\" d=\"M652.778 274.723 Q647.616 274.723 645.625 275.904 Q643.634 277.084 643.634 279.932 Q643.634 282.2 645.116 283.543 Q646.621 284.862 649.19 284.862 Q652.732 284.862 654.861 282.362 Q657.014 279.839 657.014 275.672 L657.014 274.723 L652.778 274.723 M661.273 272.964 L661.273 287.756 L657.014 287.756 L657.014 283.821 Q655.556 286.182 653.38 287.316 Q651.204 288.427 648.056 288.427 Q644.074 288.427 641.713 286.205 Q639.375 283.959 639.375 280.209 Q639.375 275.834 642.292 273.612 Q645.232 271.39 651.042 271.39 L657.014 271.39 L657.014 270.973 Q657.014 268.034 655.07 266.436 Q653.148 264.816 649.653 264.816 Q647.431 264.816 645.324 265.348 Q643.218 265.881 641.273 266.946 L641.273 263.01 Q643.611 262.108 645.81 261.668 Q648.009 261.205 650.093 261.205 Q655.718 261.205 658.495 264.122 Q661.273 267.038 661.273 272.964 Z\" fill=\"#000000\" fill-rule=\"evenodd\" fill-opacity=\"1\" /><path clip-path=\"url(#clip970)\" d=\"M674.259 254.469 L674.259 261.83 L683.032 261.83 L683.032 265.14 L674.259 265.14 L674.259 279.214 Q674.259 282.385 675.116 283.288 Q675.995 284.191 678.657 284.191 L683.032 284.191 L683.032 287.756 L678.657 287.756 Q673.727 287.756 671.852 285.927 Q669.977 284.075 669.977 279.214 L669.977 265.14 L666.852 265.14 L666.852 261.83 L669.977 261.83 L669.977 254.469 L674.259 254.469 Z\" fill=\"#000000\" fill-rule=\"evenodd\" fill-opacity=\"1\" /><path clip-path=\"url(#clip970)\" d=\"M688.634 261.83 L692.893 261.83 L692.893 287.756 L688.634 287.756 L688.634 261.83 M688.634 251.737 L692.893 251.737 L692.893 257.131 L688.634 257.131 L688.634 251.737 Z\" fill=\"#000000\" fill-rule=\"evenodd\" fill-opacity=\"1\" /><path clip-path=\"url(#clip970)\" d=\"M711.852 264.816 Q708.426 264.816 706.435 267.501 Q704.444 270.163 704.444 274.816 Q704.444 279.469 706.412 282.154 Q708.403 284.816 711.852 284.816 Q715.254 284.816 717.245 282.131 Q719.236 279.446 719.236 274.816 Q719.236 270.21 717.245 267.524 Q715.254 264.816 711.852 264.816 M711.852 261.205 Q717.407 261.205 720.578 264.816 Q723.75 268.427 723.75 274.816 Q723.75 281.182 720.578 284.816 Q717.407 288.427 711.852 288.427 Q706.273 288.427 703.102 284.816 Q699.954 281.182 699.954 274.816 Q699.954 268.427 703.102 264.816 Q706.273 261.205 711.852 261.205 Z\" fill=\"#000000\" fill-rule=\"evenodd\" fill-opacity=\"1\" /><path clip-path=\"url(#clip970)\" d=\"M752.361 272.108 L752.361 287.756 L748.101 287.756 L748.101 272.247 Q748.101 268.566 746.666 266.737 Q745.231 264.909 742.361 264.909 Q738.912 264.909 736.921 267.108 Q734.93 269.307 734.93 273.103 L734.93 287.756 L730.648 287.756 L730.648 261.83 L734.93 261.83 L734.93 265.858 Q736.458 263.52 738.518 262.362 Q740.602 261.205 743.31 261.205 Q747.777 261.205 750.069 263.983 Q752.361 266.737 752.361 272.108 Z\" fill=\"#000000\" fill-rule=\"evenodd\" fill-opacity=\"1\" /><path clip-path=\"url(#clip970)\" d=\"M772.638 274.723 Q767.476 274.723 765.486 275.904 Q763.495 277.084 763.495 279.932 Q763.495 282.2 764.976 283.543 Q766.481 284.862 769.05 284.862 Q772.592 284.862 774.722 282.362 Q776.874 279.839 776.874 275.672 L776.874 274.723 L772.638 274.723 M781.134 272.964 L781.134 287.756 L776.874 287.756 L776.874 283.821 Q775.416 286.182 773.24 287.316 Q771.064 288.427 767.916 288.427 Q763.935 288.427 761.574 286.205 Q759.236 283.959 759.236 280.209 Q759.236 275.834 762.152 273.612 Q765.092 271.39 770.902 271.39 L776.874 271.39 L776.874 270.973 Q776.874 268.034 774.93 266.436 Q773.009 264.816 769.513 264.816 Q767.291 264.816 765.185 265.348 Q763.078 265.881 761.134 266.946 L761.134 263.01 Q763.472 262.108 765.671 261.668 Q767.87 261.205 769.953 261.205 Q775.578 261.205 778.356 264.122 Q781.134 267.038 781.134 272.964 Z\" fill=\"#000000\" fill-rule=\"evenodd\" fill-opacity=\"1\" /><path clip-path=\"url(#clip970)\" d=\"M789.907 251.737 L794.166 251.737 L794.166 287.756 L789.907 287.756 L789.907 251.737 Z\" fill=\"#000000\" fill-rule=\"evenodd\" fill-opacity=\"1\" /><path clip-path=\"url(#clip970)\" d=\"M818.147 261.83 L822.407 261.83 L822.407 287.756 L818.147 287.756 L818.147 261.83 M818.147 251.737 L822.407 251.737 L822.407 257.131 L818.147 257.131 L818.147 251.737 Z\" fill=\"#000000\" fill-rule=\"evenodd\" fill-opacity=\"1\" /><path clip-path=\"url(#clip970)\" d=\"M851.504 266.807 Q853.101 263.936 855.323 262.571 Q857.545 261.205 860.555 261.205 Q864.605 261.205 866.805 264.052 Q869.004 266.876 869.004 272.108 L869.004 287.756 L864.721 287.756 L864.721 272.247 Q864.721 268.52 863.402 266.714 Q862.082 264.909 859.374 264.909 Q856.064 264.909 854.143 267.108 Q852.221 269.307 852.221 273.103 L852.221 287.756 L847.939 287.756 L847.939 272.247 Q847.939 268.497 846.619 266.714 Q845.3 264.909 842.545 264.909 Q839.282 264.909 837.36 267.131 Q835.439 269.33 835.439 273.103 L835.439 287.756 L831.157 287.756 L831.157 261.83 L835.439 261.83 L835.439 265.858 Q836.897 263.473 838.934 262.339 Q840.971 261.205 843.772 261.205 Q846.596 261.205 848.564 262.64 Q850.555 264.075 851.504 266.807 Z\" fill=\"#000000\" fill-rule=\"evenodd\" fill-opacity=\"1\" /><path clip-path=\"url(#clip970)\" d=\"M881.619 283.867 L881.619 297.617 L877.337 297.617 L877.337 261.83 L881.619 261.83 L881.619 265.765 Q882.962 263.45 884.999 262.339 Q887.059 261.205 889.906 261.205 Q894.628 261.205 897.568 264.955 Q900.531 268.705 900.531 274.816 Q900.531 280.927 897.568 284.677 Q894.628 288.427 889.906 288.427 Q887.059 288.427 884.999 287.316 Q882.962 286.182 881.619 283.867 M896.11 274.816 Q896.11 270.117 894.166 267.455 Q892.244 264.77 888.865 264.77 Q885.485 264.77 883.541 267.455 Q881.619 270.117 881.619 274.816 Q881.619 279.515 883.541 282.2 Q885.485 284.862 888.865 284.862 Q892.244 284.862 894.166 282.2 Q896.11 279.515 896.11 274.816 Z\" fill=\"#000000\" fill-rule=\"evenodd\" fill-opacity=\"1\" /><path clip-path=\"url(#clip970)\" d=\"M919.374 274.723 Q914.212 274.723 912.221 275.904 Q910.23 277.084 910.23 279.932 Q910.23 282.2 911.712 283.543 Q913.216 284.862 915.786 284.862 Q919.327 284.862 921.457 282.362 Q923.61 279.839 923.61 275.672 L923.61 274.723 L919.374 274.723 M927.869 272.964 L927.869 287.756 L923.61 287.756 L923.61 283.821 Q922.151 286.182 919.976 287.316 Q917.8 288.427 914.652 288.427 Q910.67 288.427 908.309 286.205 Q905.971 283.959 905.971 280.209 Q905.971 275.834 908.888 273.612 Q911.827 271.39 917.638 271.39 L923.61 271.39 L923.61 270.973 Q923.61 268.034 921.665 266.436 Q919.744 264.816 916.249 264.816 Q914.027 264.816 911.92 265.348 Q909.814 265.881 907.869 266.946 L907.869 263.01 Q910.207 262.108 912.406 261.668 Q914.605 261.205 916.689 261.205 Q922.314 261.205 925.091 264.122 Q927.869 267.038 927.869 272.964 Z\" fill=\"#000000\" fill-rule=\"evenodd\" fill-opacity=\"1\" /><path clip-path=\"url(#clip970)\" d=\"M955.299 262.825 L955.299 266.807 Q953.494 265.811 951.665 265.325 Q949.86 264.816 948.008 264.816 Q943.864 264.816 941.573 267.455 Q939.281 270.071 939.281 274.816 Q939.281 279.561 941.573 282.2 Q943.864 284.816 948.008 284.816 Q949.86 284.816 951.665 284.33 Q953.494 283.821 955.299 282.825 L955.299 286.76 Q953.517 287.594 951.596 288.01 Q949.698 288.427 947.545 288.427 Q941.688 288.427 938.239 284.746 Q934.79 281.066 934.79 274.816 Q934.79 268.473 938.263 264.839 Q941.758 261.205 947.823 261.205 Q949.79 261.205 951.665 261.622 Q953.54 262.015 955.299 262.825 Z\" fill=\"#000000\" fill-rule=\"evenodd\" fill-opacity=\"1\" /><path clip-path=\"url(#clip970)\" d=\"M966.92 254.469 L966.92 261.83 L975.693 261.83 L975.693 265.14 L966.92 265.14 L966.92 279.214 Q966.92 282.385 967.776 283.288 Q968.656 284.191 971.318 284.191 L975.693 284.191 L975.693 287.756 L971.318 287.756 Q966.387 287.756 964.512 285.927 Q962.637 284.075 962.637 279.214 L962.637 265.14 L959.512 265.14 L959.512 261.83 L962.637 261.83 L962.637 254.469 L966.92 254.469 Z\" fill=\"#000000\" fill-rule=\"evenodd\" fill-opacity=\"1\" /></svg>\n"
     },
     "execution_count": 59,
     "metadata": {},
     "output_type": "execute_result"
    }
   ],
   "source": [
    "p2 = plot(betas_df.beta, betas_df.total_impact, label=\"Total impact\", title=\"Environmental impact for different values of beta\", xlabel=\"beta\", ylabel=\"impact\", legend=:topleft)\n",
    "plot!(p2, betas_df.beta, betas_df.national_impact, label=\"National impact\")\n",
    "\n",
    "# save the plot\n",
    "#savefig(p2, \"sustainable_impact.png\")"
   ]
  },
  {
   "cell_type": "code",
   "execution_count": 60,
   "metadata": {},
   "outputs": [
    {
     "data": {
      "text/plain": [
       "\"/Users/oscarcourbit/Desktop/Bureau - MacBook Pro de Oscar/MIT/Classes/15.093 -  Optimization Methods/Term Project/Energy-Allocation-in-France/sustainable_cost_impact.png\""
      ]
     },
     "execution_count": 60,
     "metadata": {},
     "output_type": "execute_result"
    }
   ],
   "source": [
    "# plot the total cost depending on the total impact\n",
    "p3 = plot(betas_df.total_impact, betas_df.real_baseline_cost, label=\"Total cost\", title=\"Total cost depending on the total impact\", xlabel=\"Total impact\", ylabel=\"Total cost\", legend=:topleft)\n",
    "\n",
    "# save the plot\n",
    "#savefig(p3, \"sustainable_cost_impact.png\")"
   ]
  },
  {
   "cell_type": "code",
   "execution_count": 61,
   "metadata": {},
   "outputs": [
    {
     "data": {
      "text/plain": [
       "\"/Users/oscarcourbit/Desktop/Bureau - MacBook Pro de Oscar/MIT/Classes/15.093 -  Optimization Methods/Term Project/Energy-Allocation-in-France/sustainable_impact_cost.png\""
      ]
     },
     "execution_count": 61,
     "metadata": {},
     "output_type": "execute_result"
    }
   ],
   "source": [
    "# plot the total impact depending on the total cost\n",
    "p4 = plot(betas_df.real_baseline_cost, betas_df.total_impact, label=\"Total impact\", title=\"Total impact depending on the total cost\", xlabel=\"Total cost\", ylabel=\"Total impact\", legend=:topleft)\n",
    "\n",
    "# save the plot\n",
    "#savefig(p4, \"sustainable_impact_cost.png\")"
   ]
  },
  {
   "cell_type": "markdown",
   "metadata": {},
   "source": [
    "### Results"
   ]
  },
  {
   "cell_type": "code",
   "execution_count": 62,
   "metadata": {},
   "outputs": [
    {
     "name": "stdout",
     "output_type": "stream",
     "text": [
      "Set parameter Username\n",
      "Academic license - for non-commercial use only - expires 2023-08-18\n",
      "Set parameter Username\n",
      "Academic license - for non-commercial use only - expires 2023-08-18\n"
     ]
    },
    {
     "data": {
      "text/html": [
       "<div><div style = \"float: left;\"><span>4×5 DataFrame</span></div><div style = \"clear: both;\"></div></div><div class = \"data-frame\" style = \"overflow-x: scroll;\"><table class = \"data-frame\" style = \"margin-bottom: 6px;\"><thead><tr class = \"header\"><th class = \"rowNumber\" style = \"font-weight: bold; text-align: right;\">Row</th><th style = \"text-align: left;\">cost</th><th style = \"text-align: left;\">production_cost</th><th style = \"text-align: left;\">total_impact</th><th style = \"text-align: left;\">national_impact</th><th style = \"text-align: left;\">solution</th></tr><tr class = \"subheader headerLastRow\"><th class = \"rowNumber\" style = \"font-weight: bold; text-align: right;\"></th><th title = \"Float64\" style = \"text-align: left;\">Float64</th><th title = \"Float64\" style = \"text-align: left;\">Float64</th><th title = \"Float64\" style = \"text-align: left;\">Float64</th><th title = \"Float64\" style = \"text-align: left;\">Float64</th><th title = \"String\" style = \"text-align: left;\">String</th></tr></thead><tbody><tr><td class = \"rowNumber\" style = \"font-weight: bold; text-align: right;\">1</td><td style = \"text-align: right;\">7.16813e10</td><td style = \"text-align: right;\">7.9828e10</td><td style = \"text-align: right;\">8.13053e10</td><td style = \"text-align: right;\">7.24489e10</td><td style = \"text-align: left;\">RTE</td></tr><tr><td class = \"rowNumber\" style = \"font-weight: bold; text-align: right;\">2</td><td style = \"text-align: right;\">6.47958e10</td><td style = \"text-align: right;\">6.7125e10</td><td style = \"text-align: right;\">7.05921e10</td><td style = \"text-align: right;\">6.6853e10</td><td style = \"text-align: left;\">Baseline</td></tr><tr><td class = \"rowNumber\" style = \"font-weight: bold; text-align: right;\">3</td><td style = \"text-align: right;\">6.49619e10</td><td style = \"text-align: right;\">7.02839e10</td><td style = \"text-align: right;\">7.24938e10</td><td style = \"text-align: right;\">6.63907e10</td><td style = \"text-align: left;\">Crisis</td></tr><tr><td class = \"rowNumber\" style = \"font-weight: bold; text-align: right;\">4</td><td style = \"text-align: right;\">6.67688e10</td><td style = \"text-align: right;\">6.66976e10</td><td style = \"text-align: right;\">4.15152e10</td><td style = \"text-align: right;\">4.13869e10</td><td style = \"text-align: left;\">Sustainable</td></tr></tbody></table></div>"
      ],
      "text/latex": [
       "\\begin{tabular}{r|ccccc}\n",
       "\t& cost & production\\_cost & total\\_impact & national\\_impact & solution\\\\\n",
       "\t\\hline\n",
       "\t& Float64 & Float64 & Float64 & Float64 & String\\\\\n",
       "\t\\hline\n",
       "\t1 & 7.16813e10 & 7.9828e10 & 8.13053e10 & 7.24489e10 & RTE \\\\\n",
       "\t2 & 6.47958e10 & 6.7125e10 & 7.05921e10 & 6.6853e10 & Baseline \\\\\n",
       "\t3 & 6.49619e10 & 7.02839e10 & 7.24938e10 & 6.63907e10 & Crisis \\\\\n",
       "\t4 & 6.67688e10 & 6.66976e10 & 4.15152e10 & 4.13869e10 & Sustainable \\\\\n",
       "\\end{tabular}\n"
      ],
      "text/plain": [
       "\u001b[1m4×5 DataFrame\n",
       "\u001b[1m Row │\u001b[1m cost       \u001b[1m production_cost \u001b[1m total_impact \u001b[1m national_impact \u001b[1m solution    ⋯\n",
       "     │\u001b[90m Float64    \u001b[90m Float64         \u001b[90m Float64      \u001b[90m Float64         \u001b[90m String      ⋯\n",
       "─────┼──────────────────────────────────────────────────────────────────────────\n",
       "   1 │ 7.16813e10       7.9828e10     8.13053e10       7.24489e10  RTE         ⋯\n",
       "   2 │ 6.47958e10       6.7125e10     7.05921e10       6.6853e10   Baseline\n",
       "   3 │ 6.49619e10       7.02839e10    7.24938e10       6.63907e10  Crisis\n",
       "   4 │ 6.67688e10       6.66976e10    4.15152e10       4.13869e10  Sustainable"
      ]
     },
     "execution_count": 62,
     "metadata": {},
     "output_type": "execute_result"
    }
   ],
   "source": [
    "# create a dataframe with total cost, production cost, total impact and national impact,\n",
    "# for the RTE solution, the baseline solution, the crisis solution with alpha = 0.5 and the sustainable solution with beta = 0.2\n",
    "\n",
    "df_costs = DataFrame(cost = Float64[], production_cost = Float64[], total_impact = Float64[], national_impact = Float64[], solution = String[])\n",
    "push!(df_costs, (total_cost_rte, production_cost_rte, total_impact_rte, national_impact_rte, \"RTE\"))\n",
    "push!(df_costs, (real_baseline_cost(x_opt_baseline, y_opt_baseline, z_opt_baseline, df_baseline), compute_production_cost(x_opt_baseline, df_baseline), compute_total_impact(x_opt_baseline, y_opt_baseline, df_baseline), compute_national_impact(x_opt_baseline, y_opt_baseline, z_opt_baseline, df_baseline), \"Baseline\"))\n",
    "\n",
    "# compute the optimal solution for the crisis with alpha = 0.5\n",
    "model_crisis = crisis_optimizer(df_baseline, 0.5)\n",
    "x_opt_crisis = value.(model_crisis[:x])\n",
    "y_opt_crisis = value.(model_crisis[:y])\n",
    "z_opt_crisis = value.(model_crisis[:z])\n",
    "push!(df_costs, (real_baseline_cost(x_opt_crisis, y_opt_crisis, z_opt_crisis, df_baseline), compute_production_cost(x_opt_crisis, df_baseline), compute_total_impact(x_opt_crisis, y_opt_crisis, df_baseline), compute_national_impact(x_opt_crisis, y_opt_crisis, z_opt_crisis, df_baseline), \"Crisis\"))\n",
    "\n",
    "# compute the optimal solution for the sustainable solution with beta = 0.2\n",
    "model_sustainable = sustainable_optimizer(df_baseline, 0.2)\n",
    "x_opt_sustainable = value.(model_sustainable[:x])\n",
    "y_opt_sustainable = value.(model_sustainable[:y])\n",
    "z_opt_sustainable = value.(model_sustainable[:z])\n",
    "push!(df_costs, (real_baseline_cost(x_opt_sustainable, y_opt_sustainable, z_opt_sustainable, df_baseline), compute_production_cost(x_opt_sustainable, df_baseline), compute_total_impact(x_opt_sustainable, y_opt_sustainable, df_baseline), compute_national_impact(x_opt_sustainable, y_opt_sustainable, z_opt_sustainable, df_baseline), \"Sustainable\"))"
   ]
  },
  {
   "cell_type": "code",
   "execution_count": 63,
   "metadata": {},
   "outputs": [
    {
     "data": {
      "text/plain": [
       "\"df_costs_3.csv\""
      ]
     },
     "execution_count": 63,
     "metadata": {},
     "output_type": "execute_result"
    }
   ],
   "source": [
    "# export the dataframe to a csv file\n",
    "CSV.write(\"df_costs_3.csv\", df_costs)"
   ]
  },
  {
   "cell_type": "code",
   "execution_count": 66,
   "metadata": {},
   "outputs": [
    {
     "data": {
      "text/plain": [
       "\"/Users/oscarcourbit/Desktop/Bureau - MacBook Pro de Oscar/MIT/Classes/15.093 -  Optimization Methods/Term Project/Energy-Allocation-in-France/solutions_costs.png\""
      ]
     },
     "execution_count": 66,
     "metadata": {},
     "output_type": "execute_result"
    }
   ],
   "source": [
    "# plot the results, title on the top left, x axis on the bottom, y axis on the left\n",
    "p5 = plot(df_costs.solution, df_costs.cost, label=\"Total cost\", title=\"Total cost for different solutions\", xlabel=\"Solution\", ylabel=\"Total cost\", legend=:topleft)\n",
    "plot!(p5, df_costs.solution, df_costs.production_cost, label=\"Production cost\")\n",
    "\n",
    "# save the plot\n",
    "#savefig(p5, \"solutions_costs.png\")"
   ]
  },
  {
   "cell_type": "code",
   "execution_count": 67,
   "metadata": {},
   "outputs": [
    {
     "data": {
      "text/plain": [
       "\"/Users/oscarcourbit/Desktop/Bureau - MacBook Pro de Oscar/MIT/Classes/15.093 -  Optimization Methods/Term Project/Energy-Allocation-in-France/solutions_impact.png\""
      ]
     },
     "execution_count": 67,
     "metadata": {},
     "output_type": "execute_result"
    }
   ],
   "source": [
    "# plot the total impact depending on the total cost\n",
    "p6 = plot(df_costs.solution, df_costs.total_impact, label=\"Total impact\", title=\"Total impact for different solutions\", xlabel=\"Solution\", ylabel=\"Total impact\", legend=:topleft)\n",
    "plot!(p6, df_costs.solution, df_costs.national_impact, label=\"National impact\")\n",
    "\n",
    "# save the plot\n",
    "#savefig(p6, \"solutions_impact.png\")"
   ]
  },
  {
   "cell_type": "code",
   "execution_count": null,
   "metadata": {},
   "outputs": [],
   "source": []
  }
 ],
 "metadata": {
  "kernelspec": {
   "display_name": "Julia (IAI) (fk le bogos) 1.8.2",
   "language": "julia",
   "name": "julia-(iai)-(fk-le-bogos)-1.8"
  },
  "language_info": {
   "file_extension": ".jl",
   "mimetype": "application/julia",
   "name": "julia",
   "version": "1.8.2"
  }
 },
 "nbformat": 4,
 "nbformat_minor": 2
}
