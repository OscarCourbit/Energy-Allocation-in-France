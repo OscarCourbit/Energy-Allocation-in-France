{
 "cells": [
  {
   "cell_type": "markdown",
   "metadata": {},
   "source": [
    "# Energy Allocation"
   ]
  },
  {
   "cell_type": "code",
   "execution_count": 1,
   "metadata": {},
   "outputs": [],
   "source": [
    "#using Pkg\n",
    "#Pkg.add(\"XLSX\")"
   ]
  },
  {
   "cell_type": "code",
   "execution_count": 1,
   "metadata": {},
   "outputs": [],
   "source": [
    "using XLSX, Gurobi, StatsBase, CSV, DataFrames, \n",
    "JuMP, LinearAlgebra, Distributions, Random,\n",
    "GLMNet, ScikitLearn, MLBase, CategoricalArrays, Plots,\n",
    "Dates, Clustering, Distances, StatsPlots, ProgressMeter, \n",
    "StableRNGs, ParallelKMeans, JuMP, Gurobi"
   ]
  },
  {
   "cell_type": "code",
   "execution_count": 2,
   "metadata": {},
   "outputs": [],
   "source": [
    "# Read xlsm file\n",
    "initial_df = DataFrame(XLSX.readtable(\"eCO2mix_RTE_Annuel-Definitif_2020.xlsm\", \"eCO2mix_RTE_Annuel-Definitif_20\"));\n",
    "seed = 1234;"
   ]
  },
  {
   "cell_type": "code",
   "execution_count": 3,
   "metadata": {},
   "outputs": [],
   "source": [
    "# Let's clean the data\n",
    "\n",
    "# Remove all rows with missing values\n",
    "df = dropmissing(initial_df, disallowmissing=true);\n",
    "\n",
    "# remove every columns before the Date column and after the Ech. comm. Allemagne-Belgique column\n",
    "df = df[:, 3:23]\n",
    "\n",
    "# put the columns PrÈvision J-1, PrÈvision J, Pompage, Ech. physiques\n",
    "prev_pomp_df = df[:, [4, 5, 13, 15]]\n",
    "# drom column 4,5,13,15\n",
    "df = df[:, Not([4, 5, 13, 15])]\n",
    "\n",
    "# rename the columns\n",
    "rename!(df, Symbol.([\"Date\", \"Time\", \"Consumption\", \"Fuel\", \"Coal\", \"Gas\", \"Nuclear\", \"Wind\", \"Solar\", \"Hydraulic\", \"Bioenergy\", \"CO2\", \"England\", \"Spain\", \"Italy\", \"Switzerland\", \"Germany_Belgium\"]))\n",
    "\n",
    "# for each country, we will divide in import and export, depending on the sign of the corresponding column\n",
    "\n",
    "neighbors_columns = [\"England\", \"Spain\", \"Italy\", \"Switzerland\", \"Germany_Belgium\"]\n",
    "for col in neighbors_columns\n",
    "    # create a new import column, which values are positive if the original column is positive, and 0 otherwise\n",
    "    df[!, Symbol(col * \"_import\")] = max.(df[!, Symbol(col)], 0)\n",
    "    # create a new export column, which values are positive if the original column is negative, and 0 otherwise\n",
    "    df[!, Symbol(col * \"_export\")] = max.(-df[!, Symbol(col)], 0)\n",
    "end\n",
    "\n",
    "# drop the original columns\n",
    "df = df[:, Not(neighbors_columns)]\n",
    "\n",
    "\n",
    "# convert the date column to a string\n",
    "df[!, :Date] = string.(df[!, :Date])\n",
    "# convert the time column to a string\n",
    "df[!, :Time] = string.(df[!, :Time])\n",
    "# merge the date and time columns into a single column\n",
    "df[!, :DateTime] = df[!, :Date] .* \" \" .* df[!, :Time]\n",
    "# convert the DateTime column to a DateTime type\n",
    "df[!, :DateTime] = DateTime.(df[!, :DateTime], \"yyyy-mm-dd HH:MM:SS\")\n",
    "# convert date and time columns to a DateTime type\n",
    "df[!, :Date] = Date.(df[!, :Date], \"yyyy-mm-dd\")\n",
    "df[!, :Time] = Time.(df[!, :Time], \"HH:MM:SS\")\n",
    "\n",
    "# sort the dataframe by DateTime\n",
    "df = sort(df, :DateTime)\n",
    "# put the DateTime column as the first column\n",
    "df = df[:, [end; 1:end-1]]\n",
    "\n",
    "# the units are in MWh\n",
    "# convert the Any type to Float64\n",
    "df[!, :Consumption] = convert(Array{Float64}, df[!, :Consumption])\n",
    "df[!, :Fuel] = convert(Array{Float64}, df[!, :Fuel])\n",
    "df[!, :Coal] = convert(Array{Float64}, df[!, :Coal])\n",
    "df[!, :Gas] = convert(Array{Float64}, df[!, :Gas])\n",
    "df[!, :Nuclear] = convert(Array{Float64}, df[!, :Nuclear])\n",
    "df[!, :Wind] = convert(Array{Float64}, df[!, :Wind])\n",
    "df[!, :Solar] = convert(Array{Float64}, df[!, :Solar])\n",
    "df[!, :Hydraulic] = convert(Array{Float64}, df[!, :Hydraulic])\n",
    "df[!, :Bioenergy] = convert(Array{Float64}, df[!, :Bioenergy])\n",
    "df[!, :CO2] = convert(Array{Float64}, df[!, :CO2])\n",
    "df[!, :England_import] = convert(Array{Float64}, df[!, :England_import])\n",
    "df[!, :England_export] = convert(Array{Float64}, df[!, :England_export])\n",
    "df[!, :Spain_import] = convert(Array{Float64}, df[!, :Spain_import])\n",
    "df[!, :Spain_export] = convert(Array{Float64}, df[!, :Spain_export])\n",
    "df[!, :Italy_import] = convert(Array{Float64}, df[!, :Italy_import])\n",
    "df[!, :Italy_export] = convert(Array{Float64}, df[!, :Italy_export])\n",
    "df[!, :Switzerland_import] = convert(Array{Float64}, df[!, :Switzerland_import])\n",
    "df[!, :Switzerland_export] = convert(Array{Float64}, df[!, :Switzerland_export])\n",
    "df[!, :Germany_Belgium_import] = convert(Array{Float64}, df[!, :Germany_Belgium_import])\n",
    "df[!, :Germany_Belgium_export] = convert(Array{Float64}, df[!, :Germany_Belgium_export]);\n"
   ]
  },
  {
   "cell_type": "markdown",
   "metadata": {},
   "source": [
    "### Pre-processing"
   ]
  },
  {
   "cell_type": "code",
   "execution_count": 4,
   "metadata": {},
   "outputs": [
    {
     "data": {
      "text/plain": [
       "transform_data (generic function with 1 method)"
      ]
     },
     "execution_count": 4,
     "metadata": {},
     "output_type": "execute_result"
    }
   ],
   "source": [
    "Random.seed!(seed)\n",
    "\n",
    "function transform_data(df; push_nuclear=0.2, push_solar=0.15)\n",
    "    Random.seed!(seed)\n",
    "    inc_nuc = 1 + push_nuclear\n",
    "    inc_sol = 1 + push_solar\n",
    "    \n",
    "    # get max value of nuclear production overall\n",
    "    max_nuclear = maximum(df[!, :Nuclear])\n",
    "    df[!, :Nuclear_cap] = fill(max_nuclear* inc_nuc, size(df[!, :Nuclear]))\n",
    "    #max_hydraulic = maximum(df[!, :Hydraulic])\n",
    "    #df[!, :Hydraulic_cap] = fill(max_hydraulic* inc_nuc, size(df[!, :Hydraulic]))\n",
    "    max_bioenergy = maximum(df[!, :Bioenergy])\n",
    "    df[!, :Bioenergy_cap] = fill(max_bioenergy* inc_nuc, size(df[!, :Bioenergy]))\n",
    "\n",
    "\n",
    "    df[!, :Week] = Dates.week.(df[!, :Date])\n",
    "    # get the average production of gas, coal, fuel, solar and wind (and the maximum for hydraulic) for each week of the year in one dataframe\n",
    "    df_weekly = combine(groupby(df, :Week), :Solar => mean => :Solar_cap, :Wind => mean => :Wind_cap, :Gas => mean => :Gas_cap, :Coal => mean => :Coal_cap, :Fuel => mean => :Fuel_cap, :Hydraulic => mean => :Hydraulic_cap)\n",
    "    # sort the dataframe by week\n",
    "    df_weekly = sort(df_weekly, :Week)\n",
    "    # add 20% to each column of df_weekly\n",
    "    df_weekly[!, :Solar_cap] = df_weekly[!, :Solar_cap] * inc_sol\n",
    "    df_weekly[!, :Wind_cap] = df_weekly[!, :Wind_cap] * inc_sol\n",
    "    df_weekly[!, :Gas_cap] = df_weekly[!, :Gas_cap] * inc_sol\n",
    "    df_weekly[!, :Coal_cap] = df_weekly[!, :Coal_cap] * inc_sol\n",
    "    df_weekly[!, :Fuel_cap] = df_weekly[!, :Fuel_cap] * inc_sol\n",
    "    \n",
    "    df_weekly[!, :Hydraulic_cap] = df_weekly[!, :Hydraulic_cap] * inc_nuc\n",
    "    # sort the dataframe by week\n",
    "    df_weekly = sort(df_weekly, :Week)\n",
    "    # merge the two dataframes df and df_weekly on week column\n",
    "    df = leftjoin(df, df_weekly, on=:Week)\n",
    "\n",
    "    cost_nuclear = 59.8:2:109.8\n",
    "    cost_wind = 90:1:90\n",
    "    cost_hydraulic = 15:0.5:20\n",
    "    cost_solar = 142:1:142\n",
    "    cost_gas = 70:2:100\n",
    "    cost_coal = 100:1:100\n",
    "    cost_fuel = 86:1:86\n",
    "    cost_bioenergy = 85:2:122\n",
    "\n",
    "    # create a vector of size 53 for each type of energy cost with random values in the range defined above\n",
    "    cost_nuclear = rand(cost_nuclear, 53)\n",
    "    # vary the costs with a random number in the std of the range of values\n",
    "    cost_nuclear = cost_nuclear .+ randn(53) * std(cost_nuclear)\n",
    "\n",
    "    cost_hydraulic = rand(cost_hydraulic, 53)\n",
    "    cost_hydraulic = cost_hydraulic .+ randn(53) * std(cost_hydraulic)\n",
    "\n",
    "    cost_gas = rand(cost_gas, 53)\n",
    "    cost_gas = cost_gas .+ randn(53) * std(cost_gas)\n",
    "\n",
    "    cost_bioenergy = rand(cost_bioenergy, 53)\n",
    "    cost_bioenergy = cost_bioenergy .+ randn(53) * std(cost_bioenergy)\n",
    "\n",
    "    cost_wind = rand(cost_wind, 53)\n",
    "    cost_wind = cost_wind .+ randn(53) * std(cost_wind)\n",
    "\n",
    "    cost_solar = rand(cost_solar, 53)\n",
    "    cost_solar = cost_solar .+ randn(53) * std(cost_solar)\n",
    "\n",
    "    cost_coal = rand(cost_coal, 53)\n",
    "    cost_coal = cost_coal .+ randn(53) * std(cost_coal)\n",
    "\n",
    "    cost_fuel = rand(cost_fuel, 53)\n",
    "    cost_fuel = cost_fuel .+ randn(53) * std(cost_fuel)\n",
    "\n",
    "    # create a dataframe with the cost of each type of energy\n",
    "    df_cost = DataFrame(Week = 1:53, Nuclear_cost = cost_nuclear, Wind_cost = cost_wind, Solar_cost = cost_solar, Gas_cost = cost_gas, Coal_cost = cost_coal, Fuel_cost = cost_fuel, Hydraulic_cost = cost_hydraulic, Bioenergy_cost = cost_bioenergy)\n",
    "\n",
    "    # sort the dataframe by week\n",
    "    df_cost = sort(df_cost, :Week)\n",
    "\n",
    "    # merge the two dataframes df and df_cost on week column\n",
    "    df = leftjoin(df, df_cost, on=:Week)\n",
    "\n",
    "    \n",
    "\n",
    "    df[!, :Total_cost] = (df[!, :Nuclear] .* df[!, :Nuclear_cost] .+ df[!, :Wind] .* df[!, :Wind_cost] .+ df[!, :Solar] .* df[!, :Solar_cost] .+ df[!, :Gas] .* df[!, :Gas_cost] .+ df[!, :Coal] .* df[!, :Coal_cost] .+ df[!, :Fuel] .* df[!, :Fuel_cost] .+ df[!, :Hydraulic] .* df[!, :Hydraulic_cost] .+ df[!, :Bioenergy] .* df[!, :Bioenergy_cost]) ./ (df[!, :Nuclear] .+ df[!, :Wind] .+ df[!, :Solar] .+ df[!, :Gas] .+ df[!, :Coal] .+ df[!, :Fuel] .+ df[!, :Hydraulic] .+ df[!, :Bioenergy])\n",
    "    # Create a column called \"Export_Price\" which is the Total_cost + (10 plus or minus 3%, randomly)\n",
    "    df[!, :Export_Price] = df[!, :Total_cost] .+ (df[!, :Total_cost] .* (0.1 .+ randn(size(df)[1]) * 0.03))\n",
    "\n",
    "    # Create a column called \"England_Price\"\n",
    "    # It is equal to 1000 if England_import==0 and Export_Price minus (10% plus or minus 3%) otherwise\n",
    "    df[!, :England_Price] = ifelse.(df[!, :England_import] .== 0, 1000, df[!, :Export_Price] .- (df[!, :Export_Price] .* (0.1 .+ randn(size(df)[1]) * 0.03)))\n",
    "    df[!, :Spain_Price] = ifelse.(df[!, :Spain_import] .== 0, 1000, df[!, :Export_Price] .- (df[!, :Export_Price] .* (0.15 .+ randn(size(df)[1]) * 0.03)))\n",
    "    df[!, :Italy_Price] = ifelse.(df[!, :Italy_import] .== 0, 1000, df[!, :Export_Price] .- (df[!, :Export_Price] .* (0.07 .+ randn(size(df)[1]) * 0.03)))\n",
    "    df[!, :Switzerland_Price] = ifelse.(df[!, :Switzerland_import] .== 0, 1000, df[!, :Export_Price] .- (df[!, :Export_Price] .* (0.1 .+ randn(size(df)[1]) * 0.03)))\n",
    "    df[!, :Germany_Belgium_Price] = ifelse.(df[!, :Germany_Belgium_import] .== 0, 1000, df[!, :Export_Price] .- (df[!, :Export_Price] .* (0.2 .+ randn(size(df)[1]) * 0.03)))\n",
    "\n",
    "    return df\n",
    "end"
   ]
  },
  {
   "cell_type": "markdown",
   "metadata": {},
   "source": [
    "### Eco-cost synthetic data"
   ]
  },
  {
   "cell_type": "markdown",
   "metadata": {},
   "source": [
    "For each source s, at each time t, we need an Eco-cost $f_{s,t}$"
   ]
  },
  {
   "cell_type": "code",
   "execution_count": 5,
   "metadata": {},
   "outputs": [
    {
     "data": {
      "text/plain": [
       "0.11652081241930631"
      ]
     },
     "execution_count": 5,
     "metadata": {},
     "output_type": "execute_result"
    }
   ],
   "source": [
    "Eco_cost_footprint = [0.0347, 0.0003, 0.0175, 0.0003, 0.0281, 0.0002, 0.0030, 0.0164, 0.0130, 0.0193, 0.0172, 0.0067, 0.0226, 0.0065, 0.0109, 0.0024, 0.0136, 0.0099, 0.0154, 0.0270, 0.0099, 0.0095, 0.0084, 0.0006, 0.0091, 0.0156]\n",
    "carbon_footprint_equiv = [0.30, 0.0023, 0.15, 0.00, 0.24, 0.0017, 0.03, 0.14, 0.11, 0.17, 0.15, 0.06, 0.19, 0.06, 0.09, 0.02, 0.12, 0.09, 0.13, 0.23, 0.08, 0.08, 0.07, 0.01, 0.08, 0.13]\n",
    "\n",
    "# compute the mean of carbon_footprint_equiv / Eco_cost_footprint\n",
    "mean_Eco_cost_carbon_footprint_equiv =  1 / mean(carbon_footprint_equiv ./ Eco_cost_footprint)"
   ]
  },
  {
   "cell_type": "code",
   "execution_count": 6,
   "metadata": {},
   "outputs": [
    {
     "data": {
      "text/plain": [
       "compute_eco_costs (generic function with 1 method)"
      ]
     },
     "execution_count": 6,
     "metadata": {},
     "output_type": "execute_result"
    }
   ],
   "source": [
    "function compute_eco_costs(df)\n",
    "\n",
    "    # compute mean of CO2 column in different units\n",
    "    CO2 = df[!, :CO2]\n",
    "    mean_CO2 = mean(CO2)\n",
    "    mean_CO2_GJ = mean_CO2 * 3.6\n",
    "\n",
    "    # add values human_health, eco_toxicity, resource_scarcity, carbon_footprint for each source of energy, based on US Idemat Data\n",
    "    fuel_info = [0.00246, 0.00821, 0.00007, 0.0281]\n",
    "    coal_info = [0.00340, 0.00497, 0.00046, 0.0347]\n",
    "    gas_info = [0.00324, 0.00294, 0.00013, 0.0175]\n",
    "    nuclear_info = [0.00008, 0.00051, 0.03812, 0.0003]\n",
    "\n",
    "    # we approximate all renewable energy sources with the same values\n",
    "    hydraulic_info = [0.00002, 0.00003, 0.00017, 0.0002]\n",
    "    bioenergy_info = [0.00002, 0.00003, 0.00017, 0.0002]\n",
    "    wind_info = [0.00002, 0.00003, 0.00017, 0.0002]\n",
    "    solar_info = [0.00002, 0.00003, 0.00017, 0.0002]\n",
    "\n",
    "    # get the mean production of each source of energy\n",
    "    mean_hydraulic = mean(df[!, :Hydraulic])\n",
    "    mean_bioenergy = mean(df[!, :Bioenergy])\n",
    "    mean_wind = mean(df[!, :Wind])\n",
    "    mean_solar = mean(df[!, :Solar])\n",
    "    mean_nuclear = mean(df[!, :Nuclear])\n",
    "    mean_gas = mean(df[!, :Gas])\n",
    "    mean_coal = mean(df[!, :Coal])\n",
    "    mean_fuel = mean(df[!, :Fuel])\n",
    "\n",
    "    # get the percentage of use of each source of energy\n",
    "    total_production = mean_hydraulic + mean_bioenergy + mean_wind + mean_solar + mean_nuclear + mean_gas + mean_coal + mean_fuel\n",
    "    percentage_hydraulic = mean_hydraulic / total_production\n",
    "    percentage_bioenergy = mean_bioenergy / total_production\n",
    "    percentage_wind = mean_wind / total_production\n",
    "    percentage_solar = mean_solar / total_production\n",
    "    percentage_nuclear = mean_nuclear / total_production\n",
    "    percentage_gas = mean_gas / total_production\n",
    "    percentage_coal = mean_coal / total_production\n",
    "    percentage_fuel = mean_fuel / total_production\n",
    "\n",
    "    # sum infos using the percentage of use of each source of energy\n",
    "    sum_info = percentage_hydraulic * hydraulic_info + percentage_bioenergy * bioenergy_info + percentage_wind * wind_info + percentage_solar * solar_info + percentage_nuclear * nuclear_info + percentage_gas * gas_info + percentage_coal * coal_info + percentage_fuel * fuel_info;\n",
    "\n",
    "\n",
    "    idemat_eco_cost_per_GJ = 18.19 # in euros/GJ\n",
    "    idemat_carbon_footprint_per_GJ = 20.40 # in kg/GJ\n",
    "\n",
    "    idemat_eco_costs = [0.21, 0.78, 14.83, 2.37] # in euros/GJ\n",
    "    idemat_proportions = idemat_eco_costs / sum(idemat_eco_costs)\n",
    "    # for each value in sum_info, determine the percentage of use of each source of energy\n",
    "\n",
    "    # percentages of impact of each source of energy on eco_cost\n",
    "    percentages_hydraulic = percentage_hydraulic .* hydraulic_info ./ sum_info .* idemat_proportions\n",
    "    percentages_bioenergy = percentage_bioenergy .* bioenergy_info ./ sum_info .* idemat_proportions\n",
    "    percentages_wind = percentage_wind .* wind_info ./ sum_info .* idemat_proportions\n",
    "    percentages_solar = percentage_solar .* solar_info ./ sum_info .* idemat_proportions\n",
    "    percentages_nuclear = percentage_nuclear .* nuclear_info ./ sum_info .* idemat_proportions\n",
    "    percentages_gas = percentage_gas .* gas_info ./ sum_info .* idemat_proportions\n",
    "    percentages_coal = percentage_coal .* coal_info ./ sum_info .* idemat_proportions\n",
    "    percentages_fuel = percentage_fuel .* fuel_info ./ sum_info .* idemat_proportions\n",
    "\n",
    "\n",
    "    idemat_eco_cost_per_MWh = idemat_eco_cost_per_GJ  / 3.6\n",
    "    idemat_carbon_footprint_per_MWh = idemat_carbon_footprint_per_GJ / 3.6\n",
    "\n",
    "    real_eco_cost_per_MWh = idemat_eco_cost_per_MWh / idemat_carbon_footprint_per_MWh * mean_CO2\n",
    "    real_eco_costs = idemat_proportions * real_eco_cost_per_MWh # in euros/MWh\n",
    "\n",
    "    # in euros/MWh\n",
    "    eco_costs_hydraulic = percentages_hydraulic .* real_eco_cost_per_MWh\n",
    "    eco_costs_bioenergy = percentages_bioenergy .* real_eco_cost_per_MWh\n",
    "    eco_costs_wind = percentages_wind .* real_eco_cost_per_MWh\n",
    "    eco_costs_solar = percentages_solar .* real_eco_cost_per_MWh\n",
    "    eco_costs_nuclear = percentages_nuclear .* real_eco_cost_per_MWh\n",
    "    eco_costs_gas = percentages_gas .* real_eco_cost_per_MWh\n",
    "    eco_costs_coal = percentages_coal .* real_eco_cost_per_MWh\n",
    "    eco_costs_fuel = percentages_fuel .* real_eco_cost_per_MWh\n",
    "\n",
    "    Hydraulic_Eco_cost = sum(eco_costs_hydraulic)\n",
    "    Bioenergy_Eco_cost = sum(eco_costs_bioenergy)\n",
    "    Wind_Eco_cost = sum(eco_costs_wind)\n",
    "    Solar_Eco_cost = sum(eco_costs_solar)\n",
    "    Nuclear_Eco_cost = sum(eco_costs_nuclear)\n",
    "    Gas_Eco_cost = sum(eco_costs_gas)\n",
    "    Coal_Eco_cost = sum(eco_costs_coal)\n",
    "    Fuel_Eco_cost = sum(eco_costs_fuel)\n",
    "\n",
    "    # create a little dataframe with the results\n",
    "    eco_costs = DataFrame(Source = [\"Hydraulic\", \"Bioenergy\", \"Wind\", \"Solar\", \"Nuclear\", \"Gas\", \"Coal\", \"Fuel\"],\n",
    "        Eco_cost = [Hydraulic_Eco_cost, Bioenergy_Eco_cost, Wind_Eco_cost, Solar_Eco_cost, Nuclear_Eco_cost, Gas_Eco_cost, Coal_Eco_cost, Fuel_Eco_cost])\n",
    "    \n",
    "    # sort the dataframe by the eco_cost\n",
    "    eco_costs = eco_costs[sortperm(eco_costs.Eco_cost), :]\n",
    "\n",
    "    # return the dataframe\n",
    "    return eco_costs\n",
    "end"
   ]
  },
  {
   "cell_type": "code",
   "execution_count": 7,
   "metadata": {},
   "outputs": [
    {
     "data": {
      "text/plain": [
       "compute_carbon_footprints (generic function with 1 method)"
      ]
     },
     "execution_count": 7,
     "metadata": {},
     "output_type": "execute_result"
    }
   ],
   "source": [
    "function compute_carbon_footprints(df)\n",
    "    # in kg/MWh\n",
    "    nuclear_footprint_estimates = [0.006, 0.006] * 1000\n",
    "    hydraulic_footprint_estimates = [0.006, 0.004] * 1000\n",
    "    wind_footprint_estimates = [0.0141, 0.0073] * 1000\n",
    "    solar_footprint_estimates = [0.0439, 0.055] * 1000\n",
    "    bioenergy_footprint_estimates = [0.045, 0.045] * 1000\n",
    "    gas_footprint_estimates = [0.418, 0.406] * 1000\n",
    "    fuel_footprint_estimates = [0.73, 0.704] * 1000\n",
    "    coal_footprint_estimates = [1.06, 1.038] * 1000\n",
    "\n",
    "    # store the mean of these estimates in a dataframe\n",
    "    mean_nuclear_footprint = mean(nuclear_footprint_estimates)\n",
    "    mean_hydraulic_footprint = mean(hydraulic_footprint_estimates)\n",
    "    mean_wind_footprint = mean(wind_footprint_estimates)\n",
    "    mean_solar_footprint = mean(solar_footprint_estimates)\n",
    "    mean_bioenergy_footprint = mean(bioenergy_footprint_estimates)\n",
    "    mean_gas_footprint = mean(gas_footprint_estimates)\n",
    "    mean_fuel_footprint = mean(fuel_footprint_estimates)\n",
    "    mean_coal_footprint = mean(coal_footprint_estimates)\n",
    "\n",
    "    # store the mean of these estimates in a dataframe\n",
    "    mean_footprints = DataFrame(Source = [\"Hydraulic\", \"Bioenergy\", \"Wind\", \"Solar\", \"Nuclear\", \"Gas\", \"Coal\", \"Fuel\"],\n",
    "        Mean_footprint = [mean_hydraulic_footprint, mean_bioenergy_footprint, mean_wind_footprint, mean_solar_footprint, mean_nuclear_footprint, mean_gas_footprint, mean_coal_footprint, mean_fuel_footprint])\n",
    "    \n",
    "    # sort the dataframe by the mean_footprint\n",
    "    mean_footprints = mean_footprints[sortperm(mean_footprints.Mean_footprint), :]\n",
    "\n",
    "    # return the dataframe\n",
    "    return mean_footprints\n",
    "end\n"
   ]
  },
  {
   "cell_type": "code",
   "execution_count": 8,
   "metadata": {},
   "outputs": [
    {
     "data": {
      "text/plain": [
       "compute_neighbors_eco_costs (generic function with 1 method)"
      ]
     },
     "execution_count": 8,
     "metadata": {},
     "output_type": "execute_result"
    }
   ],
   "source": [
    "function compute_neighbors_footprints(df)\n",
    "\n",
    "    # compute carbon footprint for other countries\n",
    "    idemat_France_carbon_footprint = 20.40 # in Kg/GJ\n",
    "    idemat_England_carbon_footprint = 77.80 # in Kg/GJ\n",
    "    idemat_Spain_carbon_footprint = 72.00 # in Kg/GJ\n",
    "    idemat_Italy_carbon_footprint = 83.81 # in Kg/GJ\n",
    "    idemat_Switzerland_carbon_footprint = 5.57 # in Kg/GJ\n",
    "    idemat_Germany_carbon_footprint = 116.92 # in Kg/GJ\n",
    "    idemat_Belgium_carbon_footprint = 57.48 # in Kg/GJ\n",
    "\n",
    "    idemat_Germany_Belgium_carbon_footprint = 580 / 673 * idemat_Germany_carbon_footprint  + 93 / 673 * idemat_Belgium_carbon_footprint\n",
    "\n",
    "    England_proportional_footprint = idemat_England_carbon_footprint / idemat_France_carbon_footprint\n",
    "    Spain_proportional_footprint = idemat_Spain_carbon_footprint / idemat_France_carbon_footprint\n",
    "    Italy_proportional_footprint = idemat_Italy_carbon_footprint / idemat_France_carbon_footprint\n",
    "    Switzerland_proportional_footprint = idemat_Switzerland_carbon_footprint / idemat_France_carbon_footprint\n",
    "    Germany_Belgium_proportional_footprint = idemat_Germany_Belgium_carbon_footprint / idemat_France_carbon_footprint\n",
    "\n",
    "    mean_Hydraulic = mean(df[!, :Hydraulic])\n",
    "    mean_Bioenergy = mean(df[!, :Bioenergy])\n",
    "    mean_Wind = mean(df[!, :Wind])\n",
    "    mean_Solar = mean(df[!, :Solar])\n",
    "    mean_Nuclear = mean(df[!, :Nuclear])\n",
    "    mean_Gas = mean(df[!, :Gas])\n",
    "    mean_Coal = mean(df[!, :Coal])\n",
    "    mean_Fuel = mean(df[!, :Fuel])\n",
    "\n",
    "    mean_total = mean_Hydraulic + mean_Bioenergy + mean_Wind + mean_Solar + mean_Nuclear + mean_Gas + mean_Coal + mean_Fuel\n",
    "\n",
    "    carbon_footprints_df = compute_carbon_footprints(df) # in Kg/MWh\n",
    "    total_carbon_footprint = 0\n",
    "    for source in carbon_footprints_df.Source\n",
    "        percentage = mean(df[!, Symbol(source)]) / mean_total\n",
    "        total_carbon_footprint += carbon_footprints_df[carbon_footprints_df.Source .== source, :Mean_footprint][1] * percentage\n",
    "    end\n",
    "\n",
    "    England_carbon_footprint = total_carbon_footprint * England_proportional_footprint\n",
    "    Spain_carbon_footprint = total_carbon_footprint * Spain_proportional_footprint\n",
    "    Italy_carbon_footprint = total_carbon_footprint * Italy_proportional_footprint\n",
    "    Switzerland_carbon_footprint = total_carbon_footprint * Switzerland_proportional_footprint\n",
    "    Germany_Belgium_carbon_footprint = total_carbon_footprint * Germany_Belgium_proportional_footprint\n",
    "\n",
    "    # return a dataframe with the carbon footprint of the neighbors\n",
    "    neighbors_carbon_footprints = DataFrame(Country = [\"England\", \"Spain\", \"Italy\", \"Switzerland\", \"Germany_Belgium\"],\n",
    "        Carbon_footprint = [England_carbon_footprint, Spain_carbon_footprint, Italy_carbon_footprint, Switzerland_carbon_footprint, Germany_Belgium_carbon_footprint])\n",
    "\n",
    "    # sort the dataframe by the carbon_footprint\n",
    "    neighbors_carbon_footprints = neighbors_carbon_footprints[sortperm(neighbors_carbon_footprints.Carbon_footprint), :]\n",
    "\n",
    "    # return the dataframe\n",
    "    return neighbors_carbon_footprints\n",
    "\n",
    "end\n",
    "\n",
    "\n",
    "function compute_neighbors_eco_costs(df)\n",
    "\n",
    "    idemat_France_eco_cost = 18.19 # in euros/GJ\n",
    "    idemat_England_eco_cost = 14.16 # in euros/GJ\n",
    "    idemat_Spain_eco_cost = 15.54 # in euros/GJ\n",
    "    idemat_Italy_eco_cost = 10.78 # in euros/GJ\n",
    "    idemat_Switzerland_eco_cost = 8.85 # in euros/GJ\n",
    "    idemat_Germany_eco_cost = 18.48 # in euros/GJ\n",
    "    idemat_Belgium_eco_cost = 17.14 # in euros/GJ\n",
    "\n",
    "    idemat_Germany_Belgium_eco_cost = 580 / 673 * idemat_Germany_eco_cost  + 93 / 673 * idemat_Belgium_eco_cost\n",
    "\n",
    "    England_proportional_eco_cost = idemat_England_eco_cost / idemat_France_eco_cost\n",
    "    Spain_proportional_eco_cost = idemat_Spain_eco_cost / idemat_France_eco_cost\n",
    "    Italy_proportional_eco_cost = idemat_Italy_eco_cost / idemat_France_eco_cost\n",
    "    Switzerland_proportional_eco_cost = idemat_Switzerland_eco_cost / idemat_France_eco_cost\n",
    "    Germany_Belgium_proportional_eco_cost = idemat_Germany_Belgium_eco_cost / idemat_France_eco_cost\n",
    "\n",
    "    mean_Hydraulic = mean(df[!, :Hydraulic])\n",
    "    mean_Bioenergy = mean(df[!, :Bioenergy])\n",
    "    mean_Wind = mean(df[!, :Wind])\n",
    "    mean_Solar = mean(df[!, :Solar])\n",
    "    mean_Nuclear = mean(df[!, :Nuclear])\n",
    "    mean_Gas = mean(df[!, :Gas])\n",
    "    mean_Coal = mean(df[!, :Coal])\n",
    "    mean_Fuel = mean(df[!, :Fuel])\n",
    "\n",
    "    mean_total = mean_Hydraulic + mean_Bioenergy + mean_Wind + mean_Solar + mean_Nuclear + mean_Gas + mean_Coal + mean_Fuel\n",
    "\n",
    "    eco_costs_df = compute_eco_costs(df) # in Kg/MWh\n",
    "    total_eco_cost = 0\n",
    "    for source in eco_costs_df.Source\n",
    "        percentage = mean(df[!, Symbol(source)]) / mean_total\n",
    "        total_eco_cost += eco_costs_df[eco_costs_df.Source .== source, :Eco_cost][1] * percentage\n",
    "    end\n",
    "\n",
    "    England_eco_cost = total_eco_cost * England_proportional_eco_cost\n",
    "    Spain_eco_cost = total_eco_cost * Spain_proportional_eco_cost\n",
    "    Italy_eco_cost = total_eco_cost * Italy_proportional_eco_cost\n",
    "    Switzerland_eco_cost = total_eco_cost * Switzerland_proportional_eco_cost\n",
    "    Germany_Belgium_eco_cost = total_eco_cost * Germany_Belgium_proportional_eco_cost\n",
    "\n",
    "    # return a dataframe with the eco cost of the neighbors\n",
    "    neighbors_eco_costs = DataFrame(Country = [\"England\", \"Spain\", \"Italy\", \"Switzerland\", \"Germany_Belgium\"],\n",
    "        Eco_cost = [England_eco_cost, Spain_eco_cost, Italy_eco_cost, Switzerland_eco_cost, Germany_Belgium_eco_cost]) \n",
    "\n",
    "    \n",
    "    # sort the dataframe by the Eco cost\n",
    "    neighbors_eco_costs = neighbors_eco_costs[sortperm(neighbors_eco_costs.Eco_cost), :]\n",
    "\n",
    "    # return the dataframe\n",
    "    return neighbors_eco_costs\n",
    "end\n",
    "    "
   ]
  },
  {
   "cell_type": "code",
   "execution_count": 9,
   "metadata": {},
   "outputs": [
    {
     "data": {
      "text/plain": [
       "rebalance_impact (generic function with 1 method)"
      ]
     },
     "execution_count": 9,
     "metadata": {},
     "output_type": "execute_result"
    }
   ],
   "source": [
    "eco_costs = compute_eco_costs(df)\n",
    "carbon_footprints = compute_carbon_footprints(df)\n",
    "neighbors_footprints = compute_neighbors_footprints(df)\n",
    "neighbors_eco_costs = compute_neighbors_eco_costs(df);\n",
    "\n",
    "# some information\n",
    "sources = [\"Hydraulic\", \"Bioenergy\", \"Wind\", \"Solar\", \"Nuclear\", \"Gas\", \"Coal\", \"Fuel\"]\n",
    "neighbors = [\"England\", \"Spain\", \"Italy\", \"Switzerland\", \"Germany_Belgium\"]\n",
    "\n",
    "\n",
    "# functions for impacts\n",
    "function env_impact(coef_eco_cost)\n",
    "    # create a list of impact for each source\n",
    "    impact = zeros(8)\n",
    "    for i in 1:8\n",
    "        # impact[i] = (1-coef_eco_cost) * carbon_footprints[source is sources[i]] + coef_eco_cost * eco_costs[source is sources[i]]\n",
    "        mean_footprint = carbon_footprints[carbon_footprints.Source .== sources[i], :][!, :Mean_footprint][1]\n",
    "        eco_cost = eco_costs[eco_costs.Source .== sources[i], :][!, :Eco_cost][1]\n",
    "        impact[i] = (1-coef_eco_cost) * mean_footprint + coef_eco_cost * eco_cost\n",
    "    end\n",
    "\n",
    "    # create a dataframe with the impact\n",
    "    df_impact = DataFrame(Source = sources, Impact = impact)\n",
    "    # sort the dataframe by impact\n",
    "    df_impact = sort(df_impact, :Impact, rev = false)\n",
    "\n",
    "    return df_impact\n",
    "end\n",
    "\n",
    "\n",
    "function neighbors_impact(coef_eco_cost)\n",
    "    # create a list of impact for each neighbor\n",
    "    impact = zeros(5)\n",
    "    for i in 1:5\n",
    "        carbon_footprint = neighbors_footprints[neighbors_footprints.Country .== neighbors[i], :][!, :Carbon_footprint][1]\n",
    "        eco_cost = neighbors_eco_costs[neighbors_eco_costs.Country .== neighbors[i], :][!, :Eco_cost][1]\n",
    "        impact[i] = (1-coef_eco_cost) * carbon_footprint + coef_eco_cost * eco_cost\n",
    "    end\n",
    "\n",
    "    # create a dataframe with the impact\n",
    "    df_impact = DataFrame(Country = neighbors, Impact = impact)\n",
    "    # sort the dataframe by impact\n",
    "    df_impact = sort(df_impact, :Impact, rev = false)\n",
    "\n",
    "    return df_impact\n",
    "end    \n",
    "\n",
    "\n",
    "\n",
    "function sustainable_df(df_base, df_impact, df_neigh_impact)\n",
    "    # copy of df\n",
    "    df_sust = copy(df_base)\n",
    "    # add carbon_footprint column for each source\n",
    "    df_sust[!, :Hydraulic_impact] .= df_impact[df_impact.Source .== \"Hydraulic\", :Impact][1]\n",
    "    df_sust[!, :Nuclear_impact] .= df_impact[df_impact.Source .== \"Nuclear\", :Impact][1]\n",
    "    df_sust[!, :Wind_impact] .= df_impact[df_impact.Source .== \"Wind\", :Impact][1]\n",
    "    df_sust[!, :Solar_impact] .= df_impact[df_impact.Source .== \"Solar\", :Impact][1]\n",
    "    df_sust[!, :Bioenergy_impact] .= df_impact[df_impact.Source .== \"Bioenergy\", :Impact][1]\n",
    "    df_sust[!, :Fuel_impact] .= df_impact[df_impact.Source .== \"Fuel\", :Impact][1]\n",
    "    df_sust[!, :Coal_impact] .= df_impact[df_impact.Source .== \"Coal\", :Impact][1]\n",
    "    df_sust[!, :Gas_impact] .= df_impact[df_impact.Source .== \"Gas\", :Impact][1]\n",
    "\n",
    "    # total impact\n",
    "    df_sust[!, :Total_impact] = (df_sust[!, :Nuclear] .* df_sust[!, :Nuclear_impact] .+ df_sust[!, :Wind] .* df_sust[!, :Wind_impact] .+ df_sust[!, :Solar] .* df_sust[!, :Solar_impact] .+ df_sust[!, :Gas] .* df_sust[!, :Gas_impact] .+ df_sust[!, :Coal] .* df_sust[!, :Coal_impact] .+ df_sust[!, :Fuel] .* df_sust[!, :Fuel_impact] .+ df_sust[!, :Hydraulic] .* df_sust[!, :Hydraulic_impact] .+ df_sust[!, :Bioenergy] .* df_sust[!, :Bioenergy_impact]) ./ (df_sust[!, :Nuclear] .+ df_sust[!, :Wind] .+ df_sust[!, :Solar] .+ df_sust[!, :Gas] .+ df_sust[!, :Coal] .+ df_sust[!, :Fuel] .+ df_sust[!, :Hydraulic] .+ df_sust[!, :Bioenergy])\n",
    "\n",
    "\n",
    "    # add carbon_footprint for each neighbor country\n",
    "    df_sust[!, :Switzerland_impact] .= df_neigh_impact[df_neigh_impact[!, :Country] .== \"Switzerland\", :Impact][1]\n",
    "    df_sust[!, :Italy_impact] .= df_neigh_impact[df_neigh_impact[!, :Country] .== \"Italy\", :Impact][1]\n",
    "    df_sust[!, :Germany_Belgium_impact] .= df_neigh_impact[df_neigh_impact[!, :Country] .== \"Germany_Belgium\", :Impact][1]\n",
    "    df_sust[!, :England_impact] .= df_neigh_impact[df_neigh_impact[!, :Country] .== \"England\", :Impact][1]\n",
    "    df_sust[!, :Spain_impact] .= df_neigh_impact[df_neigh_impact[!, :Country] .== \"Spain\", :Impact][1]\n",
    "\n",
    "    # return the dataframe\n",
    "    return df_sust\n",
    "end\n",
    "\n",
    "\n",
    "function rebalance_impact(df_base)\n",
    "    df_sust = copy(df_base)\n",
    "    max_cost = maximum(df_sust[!, :Total_cost])\n",
    "    max_impact = maximum(df_sust[!, :Total_impact])\n",
    "\n",
    "    # rebalance impact based on cost\n",
    "    for source in sources\n",
    "        df_sust[!, Symbol(source * \"_impact\")] .= df_sust[!, Symbol(source * \"_impact\")] .* max_cost ./ max_impact\n",
    "    end\n",
    "\n",
    "    for neighbor in neighbors\n",
    "        df_sust[!, Symbol(neighbor * \"_impact\")] .= df_sust[!, Symbol(neighbor * \"_impact\")] .* max_cost ./ max_impact\n",
    "    end\n",
    "\n",
    "    df_sust[!, :Total_impact] .= df_sust[!, :Total_impact] .* max_cost ./ max_impact\n",
    "\n",
    "    return df_sust\n",
    "end"
   ]
  },
  {
   "cell_type": "code",
   "execution_count": 10,
   "metadata": {},
   "outputs": [],
   "source": [
    "coef_eco_cost = 0.7\n",
    "df_env_impact = env_impact(coef_eco_cost)\n",
    "df_neighbors_impact = neighbors_impact(coef_eco_cost);"
   ]
  },
  {
   "cell_type": "code",
   "execution_count": 11,
   "metadata": {},
   "outputs": [
    {
     "data": {
      "text/html": [
       "<div><div style = \"float: left;\"><span>5×2 DataFrame</span></div><div style = \"clear: both;\"></div></div><div class = \"data-frame\" style = \"overflow-x: scroll;\"><table class = \"data-frame\" style = \"margin-bottom: 6px;\"><thead><tr class = \"header\"><th class = \"rowNumber\" style = \"font-weight: bold; text-align: right;\">Row</th><th style = \"text-align: left;\">Country</th><th style = \"text-align: left;\">Impact</th></tr><tr class = \"subheader headerLastRow\"><th class = \"rowNumber\" style = \"font-weight: bold; text-align: right;\"></th><th title = \"String\" style = \"text-align: left;\">String</th><th title = \"Float64\" style = \"text-align: left;\">Float64</th></tr></thead><tbody><tr><td class = \"rowNumber\" style = \"font-weight: bold; text-align: right;\">1</td><td style = \"text-align: left;\">Switzerland</td><td style = \"text-align: right;\">9.10914</td></tr><tr><td class = \"rowNumber\" style = \"font-weight: bold; text-align: right;\">2</td><td style = \"text-align: left;\">Spain</td><td style = \"text-align: right;\">52.9008</td></tr><tr><td class = \"rowNumber\" style = \"font-weight: bold; text-align: right;\">3</td><td style = \"text-align: left;\">England</td><td style = \"text-align: right;\">55.4359</td></tr><tr><td class = \"rowNumber\" style = \"font-weight: bold; text-align: right;\">4</td><td style = \"text-align: left;\">Italy</td><td style = \"text-align: right;\">56.7836</td></tr><tr><td class = \"rowNumber\" style = \"font-weight: bold; text-align: right;\">5</td><td style = \"text-align: left;\">Germany_Belgium</td><td style = \"text-align: right;\">76.4803</td></tr></tbody></table></div>"
      ],
      "text/latex": [
       "\\begin{tabular}{r|cc}\n",
       "\t& Country & Impact\\\\\n",
       "\t\\hline\n",
       "\t& String & Float64\\\\\n",
       "\t\\hline\n",
       "\t1 & Switzerland & 9.10914 \\\\\n",
       "\t2 & Spain & 52.9008 \\\\\n",
       "\t3 & England & 55.4359 \\\\\n",
       "\t4 & Italy & 56.7836 \\\\\n",
       "\t5 & Germany\\_Belgium & 76.4803 \\\\\n",
       "\\end{tabular}\n"
      ],
      "text/plain": [
       "\u001b[1m5×2 DataFrame\n",
       "\u001b[1m Row │\u001b[1m Country         \u001b[1m Impact\n",
       "     │\u001b[90m String          \u001b[90m Float64\n",
       "─────┼───────────────────────────\n",
       "   1 │ Switzerland       9.10914\n",
       "   2 │ Spain            52.9008\n",
       "   3 │ England          55.4359\n",
       "   4 │ Italy            56.7836\n",
       "   5 │ Germany_Belgium  76.4803"
      ]
     },
     "execution_count": 11,
     "metadata": {},
     "output_type": "execute_result"
    }
   ],
   "source": [
    "df_neighbors_impact"
   ]
  },
  {
   "cell_type": "markdown",
   "metadata": {},
   "source": [
    "## Optimization Formulation"
   ]
  },
  {
   "cell_type": "markdown",
   "metadata": {},
   "source": [
    "### Some useful functions"
   ]
  },
  {
   "cell_type": "code",
   "execution_count": 12,
   "metadata": {},
   "outputs": [],
   "source": [
    "# transform dataframe\n",
    "df_transformed = transform_data(df)\n",
    "df_baseline = sustainable_df(df_transformed, df_env_impact, df_neighbors_impact);\n",
    "df_baseline = rebalance_impact(df_baseline);"
   ]
  },
  {
   "cell_type": "code",
   "execution_count": 13,
   "metadata": {},
   "outputs": [],
   "source": [
    "# total hydraulic production from MWh to TWh\n",
    "#sum(df_baseline[!, :Hydraulic]) / 1000000\n",
    "\n",
    "# print 20 biggest values in hydraulic column\n",
    "#sort(df_baseline[!, :Hydraulic], rev = true)[1:20]\n",
    "\n",
    "# print mean of hydraulic column\n",
    "#mean(df_baseline[!, :Hydraulic])"
   ]
  },
  {
   "cell_type": "code",
   "execution_count": 14,
   "metadata": {},
   "outputs": [],
   "source": [
    "# for each source, add coefficient lambda = p * cost to produce 1 MWh of energy with this source\n",
    "lambda_factor = 10\n",
    "df_baseline[!, :Lambda_Hydraulic] = lambda_factor .* df_baseline[!, :Hydraulic_cost]\n",
    "df_baseline[!, :Lambda_Bioenergy] = lambda_factor .* df_baseline[!, :Bioenergy_cost]\n",
    "df_baseline[!, :Lambda_Wind] = lambda_factor .* df_baseline[!, :Wind_cost]\n",
    "df_baseline[!, :Lambda_Solar] = lambda_factor .* df_baseline[!, :Solar_cost]\n",
    "df_baseline[!, :Lambda_Nuclear] = lambda_factor .* df_baseline[!, :Nuclear_cost]\n",
    "df_baseline[!, :Lambda_Gas] = lambda_factor .* df_baseline[!, :Gas_cost]\n",
    "df_baseline[!, :Lambda_Coal] = lambda_factor .* df_baseline[!, :Coal_cost]\n",
    "df_baseline[!, :Lambda_Fuel] = lambda_factor .* df_baseline[!, :Fuel_cost];"
   ]
  },
  {
   "cell_type": "code",
   "execution_count": 15,
   "metadata": {},
   "outputs": [
    {
     "data": {
      "text/plain": [
       "compute_national_impact (generic function with 1 method)"
      ]
     },
     "execution_count": 15,
     "metadata": {},
     "output_type": "execute_result"
    }
   ],
   "source": [
    "function lambda_baseline_cost(x, y, z, df_base)\n",
    "    # for each row of the dataframe, compute a cost\n",
    "    # x is the amount of energy produced by each source\n",
    "    # y is the amount of energy imported from each country\n",
    "    # z is the amount of energy exported to each country\n",
    "    T = size(df_base, 1)\n",
    "\n",
    "    # add production cost\n",
    "    production_cost = 0\n",
    "    for i in 1:size(sources, 1)\n",
    "        # add cost of producing energy with each source\n",
    "        production_cost += sum(x[:, i] .* df_base[!, Symbol(sources[i] * \"_cost\")])\n",
    "        # add lambda cost of exceeding maximum cap\n",
    "        production_cost += sum(x[:, i] .- df_base[!, Symbol(sources[i] * \"_cap\")] .* df_base[!, Symbol(\"Lambda_\" * sources[i])])\n",
    "    end\n",
    "\n",
    "    # add import cost\n",
    "    import_cost = 0\n",
    "    for i in 1:size(neighbors, 1)\n",
    "        # add cost of importing energy from each neighbor\n",
    "        import_cost += sum(y[:, i] .* df_base[!, Symbol(neighbors[i] * \"_Price\")])\n",
    "    end\n",
    "\n",
    "    # add export revenue\n",
    "    export_revenue = 0\n",
    "    for i in 1:size(neighbors, 1)\n",
    "        # add cost of exporting energy to each neighbor\n",
    "        export_revenue += sum(z[:, i] .* df_base[!, \"Export_Price\"])\n",
    "    end     \n",
    "\n",
    "    # return the total cost\n",
    "    return production_cost + import_cost - export_revenue\n",
    "end\n",
    "\n",
    "\n",
    "function real_baseline_cost(x, y, z, df_base)\n",
    "    # for each row of the dataframe, compute a cost\n",
    "    # x is the amount of energy produced by each source\n",
    "    # y is the amount of energy imported from each country\n",
    "    # z is the amount of energy exported to each country\n",
    "\n",
    "    # add production cost\n",
    "    production_cost = 0\n",
    "    for i in 1:size(sources, 1)\n",
    "        # add cost of producing energy with each source\n",
    "        production_cost += sum(x[:, i] .* df_base[!, Symbol(sources[i] * \"_cost\")])\n",
    "    end\n",
    "\n",
    "    # add import cost\n",
    "    import_cost = 0\n",
    "    for i in 1:size(neighbors, 1)\n",
    "        # add cost of importing energy from each neighbor\n",
    "        import_cost += sum(y[:, i] .* df_base[!, Symbol(neighbors[i] * \"_Price\")])\n",
    "    end\n",
    "\n",
    "    # add export revenue\n",
    "    export_revenue = 0\n",
    "    for i in 1:size(neighbors, 1)\n",
    "        # add cost of exporting energy to each neighbor\n",
    "        export_revenue += sum(z[:, i] .* df_base[!, \"Export_Price\"])\n",
    "    end    \n",
    "\n",
    "    # return the total cost\n",
    "    return production_cost + import_cost - export_revenue\n",
    "end\n",
    "\n",
    "\n",
    "#function to convert the optimal values to a dataframe\n",
    "function convert_to_df(x, y, z, df_base)\n",
    "    # create a new dataframe\n",
    "    df_convert = DataFrame()\n",
    "\n",
    "    # add the time column, and Date column\n",
    "    df_convert[!, :Time] = df_base[!, :Time]\n",
    "    df_convert[!, :Date] = df_base[!, :Date]\n",
    "\n",
    "    # add the production columns\n",
    "    for i in 1:size(sources, 1)\n",
    "        df_convert[!, Symbol(sources[i])] = x[:, i]\n",
    "    end\n",
    "\n",
    "    # add the import columns\n",
    "    for i in 1:size(neighbors, 1)\n",
    "        df_convert[!, Symbol(neighbors[i] * \"_import\")] = y[:, i]\n",
    "    end\n",
    "\n",
    "    # add the export columns\n",
    "    for i in 1:size(neighbors, 1)\n",
    "        df_convert[!, Symbol(neighbors[i] * \"_export\")] = z[:, i]\n",
    "    end\n",
    "\n",
    "    # return the dataframe\n",
    "    return df_convert\n",
    "end\n",
    "\n",
    "\n",
    "# daily info\n",
    "function daily_total(df_base)\n",
    "    # copy of df_base\n",
    "    df_daily = copy(df_base)\n",
    "    # create day column from the Date column\n",
    "    df_daily[!, :Day] = Dates.day.(df_daily[!, :Date])\n",
    "    # drop the Time and Date columns\n",
    "    df_daily = select(df_daily, Not([:Time, :Date]))\n",
    "    # group by day\n",
    "    df_daily = combine(groupby(df_daily, :Day), :Hydraulic => sum, :Bioenergy => sum, :Wind => sum, :Solar => sum, :Nuclear => sum, :Gas => sum, :Coal => sum, :Fuel => sum, :England_import => sum, :Spain_import => sum, :Italy_import => sum, :Switzerland_import => sum, :Germany_Belgium_import => sum, :England_export => sum, :Spain_export => sum, :Italy_export => sum, :Switzerland_export => sum, :Germany_Belgium_export => sum)\n",
    "    \n",
    "    # return the dataframe\n",
    "    return df_daily\n",
    "end\n",
    "\n",
    "\n",
    "function daily_average(df_base)\n",
    "    # copy of df_base\n",
    "    df_daily = copy(df_base)\n",
    "    # create day column from the Date column\n",
    "    df_daily[!, :Day] = Dates.day.(df_daily[!, :Date])\n",
    "    # drop the Time and Date columns\n",
    "    df_daily = select(df_daily, Not([:Time, :Date]))\n",
    "    # group by day\n",
    "    df_daily = combine(groupby(df_daily, :Day), :Hydraulic => mean, :Bioenergy => mean, :Wind => mean, :Solar => mean, :Nuclear => mean, :Gas => mean, :Coal => mean, :Fuel => mean, :England_import => mean, :Spain_import => mean, :Italy_import => mean, :Switzerland_import => mean, :Germany_Belgium_import => mean, :England_export => mean, :Spain_export => mean, :Italy_export => mean, :Switzerland_export => mean, :Germany_Belgium_export => mean)\n",
    "    \n",
    "    # return the dataframe\n",
    "    return df_daily\n",
    "end\n",
    "    \n",
    "\n",
    "\n",
    "### Functions to compute results\n",
    "function compute_production_cost(x_optim, df_base)\n",
    "\n",
    "    production_cost = 0\n",
    "    for i in 1:size(sources, 1)\n",
    "        # add cost of producing energy with each source\n",
    "        production_cost += sum(x_optim[:, i] .* df_base[!, Symbol(sources[i] * \"_cost\")])\n",
    "    end\n",
    "\n",
    "    return production_cost\n",
    "end\n",
    "\n",
    "\n",
    "function compute_total_impact(x, y, df_base)\n",
    "    T = size(df_base, 1)\n",
    "\n",
    "    # add production cost\n",
    "    production_impact = 0\n",
    "    for i in 1:size(sources, 1)\n",
    "        # add cost of producing energy with each source\n",
    "        production_impact += sum(x[:, i] .* df_base[!, Symbol(sources[i] * \"_impact\")])\n",
    "    end\n",
    "\n",
    "    # add import cost\n",
    "    import_impact = 0\n",
    "    for i in 1:size(neighbors, 1)\n",
    "        # add cost of importing energy from each neighbor\n",
    "        import_impact += sum(y[:, i] .* df_base[!, Symbol(neighbors[i] * \"_impact\")])\n",
    "    end   \n",
    "\n",
    "    # return the total impact\n",
    "    return production_impact + import_impact\n",
    "end\n",
    "\n",
    "\n",
    "function compute_national_impact(x, y, z, df_base)\n",
    "    # we do the same, but we only consider the production impact for the energy that is used in our country, not for the energy that is used in our export\n",
    "    # it means that we remove some z to each x, proportionnaly\n",
    "    x_local = copy(x)\n",
    "    T = size(x, 1)\n",
    "    for t in 1:T\n",
    "        x_tot = sum(x[t,:])\n",
    "        x_percentages = x[t,:] / x_tot\n",
    "        z_tot = sum(z[t,:])\n",
    "        x_local[t,:] .= x[t,:] .- z_tot * x_percentages\n",
    "    end\n",
    "\n",
    "    local_impact = compute_total_impact(x_local, y, df_base)\n",
    "    return local_impact\n",
    "end"
   ]
  },
  {
   "cell_type": "markdown",
   "metadata": {},
   "source": [
    "### RTE baseline"
   ]
  },
  {
   "cell_type": "code",
   "execution_count": 16,
   "metadata": {},
   "outputs": [
    {
     "name": "stdout",
     "output_type": "stream",
     "text": [
      "Real baseline cost: 7.168127901958434e10\n",
      "Production cost: 7.982802098431168e10\n",
      "Environmental impact: 8.130534684212953e10\n",
      "National impact: 7.24489486868747e10"
     ]
    }
   ],
   "source": [
    "### RTE baseline cost\n",
    "T = size(df_baseline, 1)\n",
    "x_rte = zeros(T, 8)\n",
    "y_rte = zeros(T, 5)\n",
    "z_rte = zeros(T, 5)\n",
    "\n",
    "for i in 1:size(sources, 1)\n",
    "    x_rte[:, i] .= df_baseline[!, Symbol(sources[i])]\n",
    "end\n",
    "\n",
    "for i in 1:size(neighbors, 1)\n",
    "    y_rte[:, i] .= df_baseline[!, Symbol(neighbors[i] * \"_import\")]\n",
    "    z_rte[:, i] .= df_baseline[!, Symbol(neighbors[i] * \"_export\")]\n",
    "end\n",
    "\n",
    "# compute the cost\n",
    "\n",
    "total_cost_rte = real_baseline_cost(x_rte, y_rte, z_rte, df_baseline)\n",
    "production_cost_rte = compute_production_cost(x_rte, df_baseline)\n",
    "total_impact_rte = compute_total_impact(x_rte, y_rte, df_baseline)\n",
    "national_impact_rte = compute_national_impact(x_rte, y_rte, z_rte, df_baseline)\n",
    "\n",
    "println(\"Real baseline cost: \", total_cost_rte);\n",
    "println(\"Production cost: \", production_cost_rte);\n",
    "println(\"Environmental impact: \", total_impact_rte)\n",
    "print(\"National impact: \", national_impact_rte)"
   ]
  },
  {
   "cell_type": "markdown",
   "metadata": {},
   "source": [
    "### Baseline scenario"
   ]
  },
  {
   "cell_type": "code",
   "execution_count": 17,
   "metadata": {},
   "outputs": [
    {
     "data": {
      "text/plain": [
       "baseline_optimizer (generic function with 1 method)"
      ]
     },
     "execution_count": 17,
     "metadata": {},
     "output_type": "execute_result"
    }
   ],
   "source": [
    "# function to build a Gurobi Optimizer to optimize the baseline_cost\n",
    "function baseline_optimizer(df_base)\n",
    "\n",
    "    # create a Gurobi Optimizer\n",
    "    model = Model(Gurobi.Optimizer)\n",
    "    set_optimizer_attribute(model, \"OutputFlag\", 0)\n",
    "\n",
    "    # add variables\n",
    "    T = size(df_base, 1)\n",
    "    @variable(model, x[1:T, 1:8] >= 0) # production of energy with each source\n",
    "    @variable(model, y[1:T, 1:5] >= 0) # import of energy from each neighbor\n",
    "    @variable(model, z[1:T, 1:5] >= 0) # export of energy to each neighbor\n",
    "\n",
    "    # add objective\n",
    "    #@objective(model, Min, lambda_baseline_cost(x, y, z, df_base))\n",
    "    @objective(model, Min, real_baseline_cost(x, y, z, df_base))\n",
    "\n",
    "\n",
    "    # add constraints\n",
    "    # Demand constraint, we need to produce enough energy for France\n",
    "    @constraint(model, [t in 1:T], sum(x[t, :]) + sum(y[t, :]) - sum(z[t, :]) >= df_base[t, :Consumption])\n",
    "\n",
    "    # maximum import available constraint\n",
    "    @constraint(model, [t in 1:T, i in 1:5], y[t, i] <= df_base[t, Symbol(neighbors[i] * \"_import\")])\n",
    "\n",
    "    # maximum export available constraint\n",
    "    @constraint(model, [t in 1:T, i in 1:5], z[t, i] <= df_base[t, Symbol(neighbors[i] * \"_export\")])\n",
    "\n",
    "    # maximum production constraint\n",
    "    @constraint(model, [t in 1:T, i in 1:8], x[t, i] <= df_base[t, Symbol(sources[i] * \"_cap\")])\n",
    "\n",
    "    \n",
    "    # optimize\n",
    "    optimize!(model)\n",
    "\n",
    "    # return the optimizer\n",
    "    return model\n",
    "end"
   ]
  },
  {
   "cell_type": "code",
   "execution_count": 18,
   "metadata": {},
   "outputs": [
    {
     "name": "stdout",
     "output_type": "stream",
     "text": [
      "Set parameter Username\n",
      "Academic license - for non-commercial use only - expires 2023-08-18\n",
      "Real baseline cost: 6.479581214780376e10\n",
      "Production cost: 6.7125034620891075e10\n",
      "Environmental impact: 7.059214399493503e10\n",
      "National impact: 6.6853036758140015e10\n",
      "\n",
      "Proportional total cost: 0.9039433033847042\n",
      "Proportional Production cost: 0.8408705839530073\n",
      "Proportional Environmental impact: 0.8682349530099623\n",
      "Proportional National impact: 0.9227606193028378"
     ]
    }
   ],
   "source": [
    "model_1 = baseline_optimizer(df_baseline);\n",
    "\n",
    "# get the optimal values\n",
    "x_opt_baseline = value.(model_1[:x])\n",
    "y_opt_baseline = value.(model_1[:y])\n",
    "z_opt_baseline = value.(model_1[:z])\n",
    "\n",
    "# convert the optimal values to a dataframe\n",
    "df_opt_baseline = convert_to_df(x_opt_baseline, y_opt_baseline, z_opt_baseline, df_baseline)\n",
    "\n",
    "\n",
    "# compute the cost\n",
    "println(\"Real baseline cost: \", real_baseline_cost(x_opt_baseline, y_opt_baseline, z_opt_baseline, df_baseline));\n",
    "println(\"Production cost: \", compute_production_cost(x_opt_baseline, df_baseline));\n",
    "println(\"Environmental impact: \", compute_total_impact(x_opt_baseline, y_opt_baseline, df_baseline))\n",
    "print(\"National impact: \", compute_national_impact(x_opt_baseline, y_opt_baseline, z_opt_baseline, df_baseline))\n",
    "\n",
    "# compute proportional cost (compared to rte)\n",
    "println(\"\\n\")\n",
    "println(\"Proportional total cost: \", real_baseline_cost(x_opt_baseline, y_opt_baseline, z_opt_baseline, df_baseline) / total_cost_rte);\n",
    "println(\"Proportional Production cost: \", compute_production_cost(x_opt_baseline, df_baseline) / production_cost_rte);\n",
    "println(\"Proportional Environmental impact: \", compute_total_impact(x_opt_baseline, y_opt_baseline, df_baseline) / total_impact_rte)\n",
    "print(\"Proportional National impact: \", compute_national_impact(x_opt_baseline, y_opt_baseline, z_opt_baseline, df_baseline) / national_impact_rte)"
   ]
  },
  {
   "cell_type": "code",
   "execution_count": 19,
   "metadata": {},
   "outputs": [
    {
     "name": "stdout",
     "output_type": "stream",
     "text": [
      "Mean production of Hydraulic in RTE: 7377.761384335155\n",
      "Mean production of Hydraulic in optimized: 8853.31366120218\n",
      " \n",
      "Mean production of Bioenergy in RTE: 1101.8541666666667\n",
      "Mean production of Bioenergy in optimized: 570.0983606557377\n",
      " \n",
      "Mean production of Wind in RTE: 4519.61327413479\n",
      "Mean production of Wind in optimized: 2580.4131773679433\n",
      " \n",
      "Mean production of Solar in RTE: 1418.623235428051\n",
      "Mean production of Solar in optimized: 0.0\n",
      " \n",
      "Mean production of Nuclear in RTE: 38161.20446265938\n",
      "Mean production of Nuclear in optimized: 36960.11440669827\n",
      " \n",
      "Mean production of Gas in RTE: 3924.005806010929\n",
      "Mean production of Gas in optimized: 3180.327849641395\n",
      " \n",
      "Mean production of Coal in RTE: 155.61236338797815\n",
      "Mean production of Coal in optimized: 50.201872723133\n",
      " \n",
      "Mean production of Fuel in RTE: 105.55265255009107\n",
      "Mean production of Fuel in optimized: 71.2095343806922\n",
      " \n"
     ]
    }
   ],
   "source": [
    "# compare mean production values in RTE and optimized\n",
    "for i in 1:size(sources, 1)\n",
    "    println(\"Mean production of \", sources[i], \" in RTE: \", mean(df_baseline[!, Symbol(sources[i])]))\n",
    "    println(\"Mean production of \", sources[i], \" in optimized: \", mean(x_opt_baseline[:, i]))\n",
    "    println(\" \")\n",
    "end"
   ]
  },
  {
   "cell_type": "code",
   "execution_count": 20,
   "metadata": {},
   "outputs": [
    {
     "name": "stdout",
     "output_type": "stream",
     "text": [
      "Mean import from England in RTE: 186.5127504553734\n",
      "Mean import from England in optimized: 151.8382285974499\n",
      " \n",
      "Mean import from Spain in RTE: 653.2940573770492\n",
      "Mean import from Spain in optimized: 608.2310551449063\n",
      " \n",
      "Mean import from Italy in RTE: 58.72290528233151\n",
      "Mean import from Italy in optimized: 42.79656193078324\n",
      " \n",
      "Mean import from Switzerland in RTE: 145.98827413479052\n",
      "Mean import from Switzerland in optimized: 117.92918943533698\n",
      " \n",
      "Mean import from Germany_Belgium in RTE: 1098.901468579235\n",
      "Mean import from Germany_Belgium in optimized: 1070.7830198575332\n",
      " \n",
      "Mean export to England in RTE: 1187.4317509107468\n",
      "Mean export to England in optimized: 582.8555426465327\n",
      " \n",
      "Mean export to Spain in RTE: 1251.1026867030967\n",
      "Mean export to Spain in optimized: 597.442266580471\n",
      " \n",
      "Mean export to Italy in RTE: 1810.16837431694\n",
      "Mean export to Italy in optimized: 888.739794731289\n",
      " \n",
      "Mean export to Switzerland in RTE: 1647.0419512750454\n",
      "Mean export to Switzerland in optimized: 814.3966551908502\n",
      " \n",
      "Mean export to Germany_Belgium in RTE: 1168.8650387067396\n",
      "Mean export to Germany_Belgium in optimized: 533.3547053896696\n",
      " \n"
     ]
    }
   ],
   "source": [
    "# same for imports and exports\n",
    "for i in 1:size(neighbors, 1)\n",
    "    println(\"Mean import from \", neighbors[i], \" in RTE: \", mean(df_baseline[!, Symbol(neighbors[i] * \"_import\")]))\n",
    "    println(\"Mean import from \", neighbors[i], \" in optimized: \", mean(y_opt_baseline[:, i]))\n",
    "    println(\" \")\n",
    "end\n",
    "\n",
    "for i in 1:size(neighbors, 1)\n",
    "    println(\"Mean export to \", neighbors[i], \" in RTE: \", mean(df_baseline[!, Symbol(neighbors[i] * \"_export\")]))\n",
    "    println(\"Mean export to \", neighbors[i], \" in optimized: \", mean(z_opt_baseline[:, i]))\n",
    "    println(\" \")\n",
    "end"
   ]
  },
  {
   "cell_type": "code",
   "execution_count": 21,
   "metadata": {},
   "outputs": [
    {
     "data": {
      "text/html": [
       "<div><div style = \"float: left;\"><span>31×19 DataFrame</span></div><div style = \"float: right;\"><span style = \"font-style: italic;\">6 rows omitted</span></div><div style = \"clear: both;\"></div></div><div class = \"data-frame\" style = \"overflow-x: scroll;\"><table class = \"data-frame\" style = \"margin-bottom: 6px;\"><thead><tr class = \"header\"><th class = \"rowNumber\" style = \"font-weight: bold; text-align: right;\">Row</th><th style = \"text-align: left;\">Day</th><th style = \"text-align: left;\">Hydraulic_mean</th><th style = \"text-align: left;\">Bioenergy_mean</th><th style = \"text-align: left;\">Wind_mean</th><th style = \"text-align: left;\">Solar_mean</th><th style = \"text-align: left;\">Nuclear_mean</th><th style = \"text-align: left;\">Gas_mean</th><th style = \"text-align: left;\">Coal_mean</th><th style = \"text-align: left;\">Fuel_mean</th><th style = \"text-align: left;\">England_import_mean</th><th style = \"text-align: left;\">Spain_import_mean</th><th style = \"text-align: left;\">Italy_import_mean</th><th style = \"text-align: left;\">Switzerland_import_mean</th><th style = \"text-align: left;\">Germany_Belgium_import_mean</th><th style = \"text-align: left;\">England_export_mean</th><th style = \"text-align: left;\">Spain_export_mean</th><th style = \"text-align: left;\">Italy_export_mean</th><th style = \"text-align: left;\">Switzerland_export_mean</th><th style = \"text-align: left;\">Germany_Belgium_export_mean</th></tr><tr class = \"subheader headerLastRow\"><th class = \"rowNumber\" style = \"font-weight: bold; text-align: right;\"></th><th title = \"Int64\" style = \"text-align: left;\">Int64</th><th title = \"Float64\" style = \"text-align: left;\">Float64</th><th title = \"Float64\" style = \"text-align: left;\">Float64</th><th title = \"Float64\" style = \"text-align: left;\">Float64</th><th title = \"Float64\" style = \"text-align: left;\">Float64</th><th title = \"Float64\" style = \"text-align: left;\">Float64</th><th title = \"Float64\" style = \"text-align: left;\">Float64</th><th title = \"Float64\" style = \"text-align: left;\">Float64</th><th title = \"Float64\" style = \"text-align: left;\">Float64</th><th title = \"Float64\" style = \"text-align: left;\">Float64</th><th title = \"Float64\" style = \"text-align: left;\">Float64</th><th title = \"Float64\" style = \"text-align: left;\">Float64</th><th title = \"Float64\" style = \"text-align: left;\">Float64</th><th title = \"Float64\" style = \"text-align: left;\">Float64</th><th title = \"Float64\" style = \"text-align: left;\">Float64</th><th title = \"Float64\" style = \"text-align: left;\">Float64</th><th title = \"Float64\" style = \"text-align: left;\">Float64</th><th title = \"Float64\" style = \"text-align: left;\">Float64</th><th title = \"Float64\" style = \"text-align: left;\">Float64</th></tr></thead><tbody><tr><td class = \"rowNumber\" style = \"font-weight: bold; text-align: right;\">1</td><td style = \"text-align: right;\">1</td><td style = \"text-align: right;\">8936.25</td><td style = \"text-align: right;\">414.0</td><td style = \"text-align: right;\">2227.72</td><td style = \"text-align: right;\">0.0</td><td style = \"text-align: right;\">36276.3</td><td style = \"text-align: right;\">3076.88</td><td style = \"text-align: right;\">21.6001</td><td style = \"text-align: right;\">82.3526</td><td style = \"text-align: right;\">156.806</td><td style = \"text-align: right;\">697.03</td><td style = \"text-align: right;\">61.9531</td><td style = \"text-align: right;\">149.601</td><td style = \"text-align: right;\">1115.13</td><td style = \"text-align: right;\">700.137</td><td style = \"text-align: right;\">555.781</td><td style = \"text-align: right;\">888.202</td><td style = \"text-align: right;\">900.659</td><td style = \"text-align: right;\">434.174</td></tr><tr><td class = \"rowNumber\" style = \"font-weight: bold; text-align: right;\">2</td><td style = \"text-align: right;\">2</td><td style = \"text-align: right;\">8945.57</td><td style = \"text-align: right;\">552.0</td><td style = \"text-align: right;\">2726.47</td><td style = \"text-align: right;\">0.0</td><td style = \"text-align: right;\">36182.6</td><td style = \"text-align: right;\">3389.73</td><td style = \"text-align: right;\">22.3126</td><td style = \"text-align: right;\">83.4701</td><td style = \"text-align: right;\">190.632</td><td style = \"text-align: right;\">773.116</td><td style = \"text-align: right;\">77.9931</td><td style = \"text-align: right;\">129.927</td><td style = \"text-align: right;\">620.642</td><td style = \"text-align: right;\">452.434</td><td style = \"text-align: right;\">264.925</td><td style = \"text-align: right;\">746.298</td><td style = \"text-align: right;\">600.736</td><td style = \"text-align: right;\">459.857</td></tr><tr><td class = \"rowNumber\" style = \"font-weight: bold; text-align: right;\">3</td><td style = \"text-align: right;\">3</td><td style = \"text-align: right;\">9060.7</td><td style = \"text-align: right;\">690.0</td><td style = \"text-align: right;\">2371.99</td><td style = \"text-align: right;\">0.0</td><td style = \"text-align: right;\">36348.9</td><td style = \"text-align: right;\">3373.58</td><td style = \"text-align: right;\">17.0555</td><td style = \"text-align: right;\">80.6413</td><td style = \"text-align: right;\">136.925</td><td style = \"text-align: right;\">682.82</td><td style = \"text-align: right;\">26.8177</td><td style = \"text-align: right;\">101.444</td><td style = \"text-align: right;\">1191.59</td><td style = \"text-align: right;\">503.596</td><td style = \"text-align: right;\">263.903</td><td style = \"text-align: right;\">737.309</td><td style = \"text-align: right;\">559.795</td><td style = \"text-align: right;\">221.618</td></tr><tr><td class = \"rowNumber\" style = \"font-weight: bold; text-align: right;\">4</td><td style = \"text-align: right;\">4</td><td style = \"text-align: right;\">9183.03</td><td style = \"text-align: right;\">690.0</td><td style = \"text-align: right;\">2371.99</td><td style = \"text-align: right;\">0.0</td><td style = \"text-align: right;\">37055.8</td><td style = \"text-align: right;\">3314.57</td><td style = \"text-align: right;\">17.0555</td><td style = \"text-align: right;\">72.2893</td><td style = \"text-align: right;\">180.514</td><td style = \"text-align: right;\">647.2</td><td style = \"text-align: right;\">15.8385</td><td style = \"text-align: right;\">99.1319</td><td style = \"text-align: right;\">1398.56</td><td style = \"text-align: right;\">618.359</td><td style = \"text-align: right;\">255.137</td><td style = \"text-align: right;\">859.925</td><td style = \"text-align: right;\">855.014</td><td style = \"text-align: right;\">770.062</td></tr><tr><td class = \"rowNumber\" style = \"font-weight: bold; text-align: right;\">5</td><td style = \"text-align: right;\">5</td><td style = \"text-align: right;\">9225.89</td><td style = \"text-align: right;\">690.0</td><td style = \"text-align: right;\">2371.99</td><td style = \"text-align: right;\">0.0</td><td style = \"text-align: right;\">36239.3</td><td style = \"text-align: right;\">3314.57</td><td style = \"text-align: right;\">17.0555</td><td style = \"text-align: right;\">80.8247</td><td style = \"text-align: right;\">171.231</td><td style = \"text-align: right;\">603.111</td><td style = \"text-align: right;\">2.78125</td><td style = \"text-align: right;\">127.238</td><td style = \"text-align: right;\">1342.18</td><td style = \"text-align: right;\">494.993</td><td style = \"text-align: right;\">405.458</td><td style = \"text-align: right;\">841.021</td><td style = \"text-align: right;\">750.266</td><td style = \"text-align: right;\">421.95</td></tr><tr><td class = \"rowNumber\" style = \"font-weight: bold; text-align: right;\">6</td><td style = \"text-align: right;\">6</td><td style = \"text-align: right;\">8949.28</td><td style = \"text-align: right;\">828.0</td><td style = \"text-align: right;\">2579.39</td><td style = \"text-align: right;\">0.0</td><td style = \"text-align: right;\">36437.4</td><td style = \"text-align: right;\">3381.49</td><td style = \"text-align: right;\">20.7833</td><td style = \"text-align: right;\">89.1932</td><td style = \"text-align: right;\">153.866</td><td style = \"text-align: right;\">785.09</td><td style = \"text-align: right;\">30.151</td><td style = \"text-align: right;\">100.021</td><td style = \"text-align: right;\">1582.2</td><td style = \"text-align: right;\">569.925</td><td style = \"text-align: right;\">424.806</td><td style = \"text-align: right;\">700.931</td><td style = \"text-align: right;\">674.905</td><td style = \"text-align: right;\">324.255</td></tr><tr><td class = \"rowNumber\" style = \"font-weight: bold; text-align: right;\">7</td><td style = \"text-align: right;\">7</td><td style = \"text-align: right;\">8971.47</td><td style = \"text-align: right;\">828.0</td><td style = \"text-align: right;\">2579.39</td><td style = \"text-align: right;\">0.0</td><td style = \"text-align: right;\">36165.5</td><td style = \"text-align: right;\">3818.84</td><td style = \"text-align: right;\">20.7833</td><td style = \"text-align: right;\">88.0124</td><td style = \"text-align: right;\">137.835</td><td style = \"text-align: right;\">673.373</td><td style = \"text-align: right;\">112.722</td><td style = \"text-align: right;\">201.965</td><td style = \"text-align: right;\">1007.58</td><td style = \"text-align: right;\">414.398</td><td style = \"text-align: right;\">389.109</td><td style = \"text-align: right;\">560.092</td><td style = \"text-align: right;\">597.472</td><td style = \"text-align: right;\">508.052</td></tr><tr><td class = \"rowNumber\" style = \"font-weight: bold; text-align: right;\">8</td><td style = \"text-align: right;\">8</td><td style = \"text-align: right;\">9094.82</td><td style = \"text-align: right;\">690.0</td><td style = \"text-align: right;\">2497.93</td><td style = \"text-align: right;\">0.0</td><td style = \"text-align: right;\">35230.5</td><td style = \"text-align: right;\">3964.78</td><td style = \"text-align: right;\">20.7647</td><td style = \"text-align: right;\">88.1273</td><td style = \"text-align: right;\">48.9844</td><td style = \"text-align: right;\">670.262</td><td style = \"text-align: right;\">105.863</td><td style = \"text-align: right;\">228.589</td><td style = \"text-align: right;\">969.887</td><td style = \"text-align: right;\">465.398</td><td style = \"text-align: right;\">528.99</td><td style = \"text-align: right;\">660.295</td><td style = \"text-align: right;\">704.28</td><td style = \"text-align: right;\">711.615</td></tr><tr><td class = \"rowNumber\" style = \"font-weight: bold; text-align: right;\">9</td><td style = \"text-align: right;\">9</td><td style = \"text-align: right;\">9051.41</td><td style = \"text-align: right;\">690.0</td><td style = \"text-align: right;\">2675.03</td><td style = \"text-align: right;\">0.0</td><td style = \"text-align: right;\">35388.0</td><td style = \"text-align: right;\">3883.67</td><td style = \"text-align: right;\">20.0523</td><td style = \"text-align: right;\">92.7995</td><td style = \"text-align: right;\">181.123</td><td style = \"text-align: right;\">644.906</td><td style = \"text-align: right;\">78.5833</td><td style = \"text-align: right;\">192.53</td><td style = \"text-align: right;\">688.681</td><td style = \"text-align: right;\">376.943</td><td style = \"text-align: right;\">501.795</td><td style = \"text-align: right;\">515.451</td><td style = \"text-align: right;\">532.611</td><td style = \"text-align: right;\">589.2</td></tr><tr><td class = \"rowNumber\" style = \"font-weight: bold; text-align: right;\">10</td><td style = \"text-align: right;\">10</td><td style = \"text-align: right;\">8925.86</td><td style = \"text-align: right;\">552.0</td><td style = \"text-align: right;\">2831.39</td><td style = \"text-align: right;\">0.0</td><td style = \"text-align: right;\">35858.6</td><td style = \"text-align: right;\">3516.25</td><td style = \"text-align: right;\">29.5324</td><td style = \"text-align: right;\">83.5165</td><td style = \"text-align: right;\">240.059</td><td style = \"text-align: right;\">668.396</td><td style = \"text-align: right;\">49.7674</td><td style = \"text-align: right;\">166.082</td><td style = \"text-align: right;\">831.889</td><td style = \"text-align: right;\">352.858</td><td style = \"text-align: right;\">444.948</td><td style = \"text-align: right;\">592.307</td><td style = \"text-align: right;\">468.418</td><td style = \"text-align: right;\">553.116</td></tr><tr><td class = \"rowNumber\" style = \"font-weight: bold; text-align: right;\">11</td><td style = \"text-align: right;\">11</td><td style = \"text-align: right;\">9031.1</td><td style = \"text-align: right;\">552.0</td><td style = \"text-align: right;\">3339.99</td><td style = \"text-align: right;\">0.0</td><td style = \"text-align: right;\">34412.6</td><td style = \"text-align: right;\">3671.5</td><td style = \"text-align: right;\">31.2391</td><td style = \"text-align: right;\">91.8697</td><td style = \"text-align: right;\">189.382</td><td style = \"text-align: right;\">785.776</td><td style = \"text-align: right;\">16.1979</td><td style = \"text-align: right;\">110.024</td><td style = \"text-align: right;\">967.056</td><td style = \"text-align: right;\">451.484</td><td style = \"text-align: right;\">436.085</td><td style = \"text-align: right;\">852.618</td><td style = \"text-align: right;\">672.898</td><td style = \"text-align: right;\">455.085</td></tr><tr><td class = \"rowNumber\" style = \"font-weight: bold; text-align: right;\">12</td><td style = \"text-align: right;\">12</td><td style = \"text-align: right;\">9014.17</td><td style = \"text-align: right;\">552.0</td><td style = \"text-align: right;\">3339.99</td><td style = \"text-align: right;\">0.0</td><td style = \"text-align: right;\">34357.5</td><td style = \"text-align: right;\">3671.5</td><td style = \"text-align: right;\">31.2391</td><td style = \"text-align: right;\">83.3342</td><td style = \"text-align: right;\">36.0451</td><td style = \"text-align: right;\">535.538</td><td style = \"text-align: right;\">29.2292</td><td style = \"text-align: right;\">116.026</td><td style = \"text-align: right;\">1441.03</td><td style = \"text-align: right;\">613.266</td><td style = \"text-align: right;\">612.766</td><td style = \"text-align: right;\">809.036</td><td style = \"text-align: right;\">696.898</td><td style = \"text-align: right;\">280.161</td></tr><tr><td class = \"rowNumber\" style = \"font-weight: bold; text-align: right;\">13</td><td style = \"text-align: right;\">13</td><td style = \"text-align: right;\">8904.08</td><td style = \"text-align: right;\">414.0</td><td style = \"text-align: right;\">3075.65</td><td style = \"text-align: right;\">0.0</td><td style = \"text-align: right;\">36475.4</td><td style = \"text-align: right;\">3355.2</td><td style = \"text-align: right;\">29.726</td><td style = \"text-align: right;\">61.0735</td><td style = \"text-align: right;\">135.378</td><td style = \"text-align: right;\">476.434</td><td style = \"text-align: right;\">36.3924</td><td style = \"text-align: right;\">60.0087</td><td style = \"text-align: right;\">884.889</td><td style = \"text-align: right;\">507.356</td><td style = \"text-align: right;\">656.507</td><td style = \"text-align: right;\">798.17</td><td style = \"text-align: right;\">751.998</td><td style = \"text-align: right;\">415.248</td></tr><tr><td style = \"text-align: right;\">&vellip;</td><td style = \"text-align: right;\">&vellip;</td><td style = \"text-align: right;\">&vellip;</td><td style = \"text-align: right;\">&vellip;</td><td style = \"text-align: right;\">&vellip;</td><td style = \"text-align: right;\">&vellip;</td><td style = \"text-align: right;\">&vellip;</td><td style = \"text-align: right;\">&vellip;</td><td style = \"text-align: right;\">&vellip;</td><td style = \"text-align: right;\">&vellip;</td><td style = \"text-align: right;\">&vellip;</td><td style = \"text-align: right;\">&vellip;</td><td style = \"text-align: right;\">&vellip;</td><td style = \"text-align: right;\">&vellip;</td><td style = \"text-align: right;\">&vellip;</td><td style = \"text-align: right;\">&vellip;</td><td style = \"text-align: right;\">&vellip;</td><td style = \"text-align: right;\">&vellip;</td><td style = \"text-align: right;\">&vellip;</td><td style = \"text-align: right;\">&vellip;</td></tr><tr><td class = \"rowNumber\" style = \"font-weight: bold; text-align: right;\">20</td><td style = \"text-align: right;\">20</td><td style = \"text-align: right;\">8836.11</td><td style = \"text-align: right;\">552.0</td><td style = \"text-align: right;\">1523.98</td><td style = \"text-align: right;\">0.0</td><td style = \"text-align: right;\">39254.8</td><td style = \"text-align: right;\">2722.62</td><td style = \"text-align: right;\">68.518</td><td style = \"text-align: right;\">49.9252</td><td style = \"text-align: right;\">83.0104</td><td style = \"text-align: right;\">595.953</td><td style = \"text-align: right;\">22.5608</td><td style = \"text-align: right;\">46.158</td><td style = \"text-align: right;\">922.719</td><td style = \"text-align: right;\">749.614</td><td style = \"text-align: right;\">838.372</td><td style = \"text-align: right;\">1266.61</td><td style = \"text-align: right;\">1044.62</td><td style = \"text-align: right;\">512.967</td></tr><tr><td class = \"rowNumber\" style = \"font-weight: bold; text-align: right;\">21</td><td style = \"text-align: right;\">21</td><td style = \"text-align: right;\">8743.72</td><td style = \"text-align: right;\">828.0</td><td style = \"text-align: right;\">2936.31</td><td style = \"text-align: right;\">0.0</td><td style = \"text-align: right;\">36582.8</td><td style = \"text-align: right;\">3320.53</td><td style = \"text-align: right;\">98.1045</td><td style = \"text-align: right;\">68.7319</td><td style = \"text-align: right;\">201.608</td><td style = \"text-align: right;\">361.373</td><td style = \"text-align: right;\">55.3056</td><td style = \"text-align: right;\">77.7274</td><td style = \"text-align: right;\">1266.94</td><td style = \"text-align: right;\">502.213</td><td style = \"text-align: right;\">907.608</td><td style = \"text-align: right;\">1137.32</td><td style = \"text-align: right;\">951.628</td><td style = \"text-align: right;\">421.241</td></tr><tr><td class = \"rowNumber\" style = \"font-weight: bold; text-align: right;\">22</td><td style = \"text-align: right;\">22</td><td style = \"text-align: right;\">8632.34</td><td style = \"text-align: right;\">690.0</td><td style = \"text-align: right;\">2768.52</td><td style = \"text-align: right;\">0.0</td><td style = \"text-align: right;\">35664.3</td><td style = \"text-align: right;\">3314.26</td><td style = \"text-align: right;\">98.1045</td><td style = \"text-align: right;\">70.5156</td><td style = \"text-align: right;\">281.724</td><td style = \"text-align: right;\">433.019</td><td style = \"text-align: right;\">22.6215</td><td style = \"text-align: right;\">167.915</td><td style = \"text-align: right;\">1576.19</td><td style = \"text-align: right;\">417.378</td><td style = \"text-align: right;\">947.604</td><td style = \"text-align: right;\">1133.05</td><td style = \"text-align: right;\">826.589</td><td style = \"text-align: right;\">203.512</td></tr><tr><td class = \"rowNumber\" style = \"font-weight: bold; text-align: right;\">23</td><td style = \"text-align: right;\">23</td><td style = \"text-align: right;\">8609.4</td><td style = \"text-align: right;\">552.0</td><td style = \"text-align: right;\">2842.85</td><td style = \"text-align: right;\">0.0</td><td style = \"text-align: right;\">36664.5</td><td style = \"text-align: right;\">3007.74</td><td style = \"text-align: right;\">143.184</td><td style = \"text-align: right;\">71.4637</td><td style = \"text-align: right;\">286.217</td><td style = \"text-align: right;\">332.719</td><td style = \"text-align: right;\">82.2934</td><td style = \"text-align: right;\">127.418</td><td style = \"text-align: right;\">1032.04</td><td style = \"text-align: right;\">523.427</td><td style = \"text-align: right;\">846.523</td><td style = \"text-align: right;\">997.549</td><td style = \"text-align: right;\">827.16</td><td style = \"text-align: right;\">387.861</td></tr><tr><td class = \"rowNumber\" style = \"font-weight: bold; text-align: right;\">24</td><td style = \"text-align: right;\">24</td><td style = \"text-align: right;\">8628.26</td><td style = \"text-align: right;\">552.0</td><td style = \"text-align: right;\">2842.85</td><td style = \"text-align: right;\">0.0</td><td style = \"text-align: right;\">36509.7</td><td style = \"text-align: right;\">3533.04</td><td style = \"text-align: right;\">143.184</td><td style = \"text-align: right;\">71.4637</td><td style = \"text-align: right;\">235.304</td><td style = \"text-align: right;\">437.087</td><td style = \"text-align: right;\">54.6979</td><td style = \"text-align: right;\">207.443</td><td style = \"text-align: right;\">1060.95</td><td style = \"text-align: right;\">540.516</td><td style = \"text-align: right;\">833.984</td><td style = \"text-align: right;\">931.224</td><td style = \"text-align: right;\">741.571</td><td style = \"text-align: right;\">604.007</td></tr><tr><td class = \"rowNumber\" style = \"font-weight: bold; text-align: right;\">25</td><td style = \"text-align: right;\">25</td><td style = \"text-align: right;\">8569.84</td><td style = \"text-align: right;\">552.0</td><td style = \"text-align: right;\">2597.2</td><td style = \"text-align: right;\">0.0</td><td style = \"text-align: right;\">36892.3</td><td style = \"text-align: right;\">3366.38</td><td style = \"text-align: right;\">143.184</td><td style = \"text-align: right;\">63.1499</td><td style = \"text-align: right;\">119.533</td><td style = \"text-align: right;\">651.188</td><td style = \"text-align: right;\">38.8299</td><td style = \"text-align: right;\">92.2934</td><td style = \"text-align: right;\">1150.8</td><td style = \"text-align: right;\">603.429</td><td style = \"text-align: right;\">947.842</td><td style = \"text-align: right;\">900.828</td><td style = \"text-align: right;\">918.877</td><td style = \"text-align: right;\">534.934</td></tr><tr><td class = \"rowNumber\" style = \"font-weight: bold; text-align: right;\">26</td><td style = \"text-align: right;\">26</td><td style = \"text-align: right;\">8668.39</td><td style = \"text-align: right;\">552.0</td><td style = \"text-align: right;\">2597.2</td><td style = \"text-align: right;\">0.0</td><td style = \"text-align: right;\">37002.3</td><td style = \"text-align: right;\">3614.53</td><td style = \"text-align: right;\">143.184</td><td style = \"text-align: right;\">71.144</td><td style = \"text-align: right;\">160.047</td><td style = \"text-align: right;\">774.161</td><td style = \"text-align: right;\">34.6528</td><td style = \"text-align: right;\">91.5747</td><td style = \"text-align: right;\">946.667</td><td style = \"text-align: right;\">565.071</td><td style = \"text-align: right;\">581.432</td><td style = \"text-align: right;\">894.698</td><td style = \"text-align: right;\">941.379</td><td style = \"text-align: right;\">744.628</td></tr><tr><td class = \"rowNumber\" style = \"font-weight: bold; text-align: right;\">27</td><td style = \"text-align: right;\">27</td><td style = \"text-align: right;\">8636.15</td><td style = \"text-align: right;\">552.0</td><td style = \"text-align: right;\">3386.53</td><td style = \"text-align: right;\">0.0</td><td style = \"text-align: right;\">36171.4</td><td style = \"text-align: right;\">3674.3</td><td style = \"text-align: right;\">99.7094</td><td style = \"text-align: right;\">87.9995</td><td style = \"text-align: right;\">102.932</td><td style = \"text-align: right;\">879.115</td><td style = \"text-align: right;\">14.8212</td><td style = \"text-align: right;\">122.266</td><td style = \"text-align: right;\">926.844</td><td style = \"text-align: right;\">517.161</td><td style = \"text-align: right;\">432.024</td><td style = \"text-align: right;\">653.983</td><td style = \"text-align: right;\">609.924</td><td style = \"text-align: right;\">379.8</td></tr><tr><td class = \"rowNumber\" style = \"font-weight: bold; text-align: right;\">28</td><td style = \"text-align: right;\">28</td><td style = \"text-align: right;\">8880.25</td><td style = \"text-align: right;\">276.0</td><td style = \"text-align: right;\">1974.19</td><td style = \"text-align: right;\">0.0</td><td style = \"text-align: right;\">39546.6</td><td style = \"text-align: right;\">3105.53</td><td style = \"text-align: right;\">70.1229</td><td style = \"text-align: right;\">69.1928</td><td style = \"text-align: right;\">199.307</td><td style = \"text-align: right;\">552.928</td><td style = \"text-align: right;\">0.760417</td><td style = \"text-align: right;\">152.863</td><td style = \"text-align: right;\">965.21</td><td style = \"text-align: right;\">714.285</td><td style = \"text-align: right;\">651.372</td><td style = \"text-align: right;\">1182.84</td><td style = \"text-align: right;\">884.125</td><td style = \"text-align: right;\">505.602</td></tr><tr><td class = \"rowNumber\" style = \"font-weight: bold; text-align: right;\">29</td><td style = \"text-align: right;\">29</td><td style = \"text-align: right;\">8798.82</td><td style = \"text-align: right;\">414.0</td><td style = \"text-align: right;\">2415.25</td><td style = \"text-align: right;\">0.0</td><td style = \"text-align: right;\">38348.7</td><td style = \"text-align: right;\">3008.71</td><td style = \"text-align: right;\">70.1229</td><td style = \"text-align: right;\">74.9856</td><td style = \"text-align: right;\">179.892</td><td style = \"text-align: right;\">748.413</td><td style = \"text-align: right;\">39.033</td><td style = \"text-align: right;\">147.849</td><td style = \"text-align: right;\">1075.31</td><td style = \"text-align: right;\">812.976</td><td style = \"text-align: right;\">532.613</td><td style = \"text-align: right;\">960.97</td><td style = \"text-align: right;\">975.58</td><td style = \"text-align: right;\">670.887</td></tr><tr><td class = \"rowNumber\" style = \"font-weight: bold; text-align: right;\">30</td><td style = \"text-align: right;\">30</td><td style = \"text-align: right;\">8566.89</td><td style = \"text-align: right;\">301.091</td><td style = \"text-align: right;\">1702.83</td><td style = \"text-align: right;\">0.0</td><td style = \"text-align: right;\">40701.9</td><td style = \"text-align: right;\">1934.16</td><td style = \"text-align: right;\">22.1493</td><td style = \"text-align: right;\">60.5138</td><td style = \"text-align: right;\">214.25</td><td style = \"text-align: right;\">714.628</td><td style = \"text-align: right;\">12.3239</td><td style = \"text-align: right;\">138.492</td><td style = \"text-align: right;\">1413.64</td><td style = \"text-align: right;\">815.268</td><td style = \"text-align: right;\">460.235</td><td style = \"text-align: right;\">1077.66</td><td style = \"text-align: right;\">1057.85</td><td style = \"text-align: right;\">735.919</td></tr><tr><td class = \"rowNumber\" style = \"font-weight: bold; text-align: right;\">31</td><td style = \"text-align: right;\">31</td><td style = \"text-align: right;\">8662.81</td><td style = \"text-align: right;\">236.571</td><td style = \"text-align: right;\">1919.77</td><td style = \"text-align: right;\">0.0</td><td style = \"text-align: right;\">39458.3</td><td style = \"text-align: right;\">2413.97</td><td style = \"text-align: right;\">34.8061</td><td style = \"text-align: right;\">70.8306</td><td style = \"text-align: right;\">202.0</td><td style = \"text-align: right;\">613.164</td><td style = \"text-align: right;\">43.6667</td><td style = \"text-align: right;\">183.324</td><td style = \"text-align: right;\">1062.18</td><td style = \"text-align: right;\">849.905</td><td style = \"text-align: right;\">828.929</td><td style = \"text-align: right;\">852.015</td><td style = \"text-align: right;\">1073.11</td><td style = \"text-align: right;\">702.11</td></tr></tbody></table></div>"
      ],
      "text/latex": [
       "\\begin{tabular}{r|cccccccc}\n",
       "\t& Day & Hydraulic\\_mean & Bioenergy\\_mean & Wind\\_mean & Solar\\_mean & Nuclear\\_mean & Gas\\_mean & \\\\\n",
       "\t\\hline\n",
       "\t& Int64 & Float64 & Float64 & Float64 & Float64 & Float64 & Float64 & \\\\\n",
       "\t\\hline\n",
       "\t1 & 1 & 8936.25 & 414.0 & 2227.72 & 0.0 & 36276.3 & 3076.88 & $\\dots$ \\\\\n",
       "\t2 & 2 & 8945.57 & 552.0 & 2726.47 & 0.0 & 36182.6 & 3389.73 & $\\dots$ \\\\\n",
       "\t3 & 3 & 9060.7 & 690.0 & 2371.99 & 0.0 & 36348.9 & 3373.58 & $\\dots$ \\\\\n",
       "\t4 & 4 & 9183.03 & 690.0 & 2371.99 & 0.0 & 37055.8 & 3314.57 & $\\dots$ \\\\\n",
       "\t5 & 5 & 9225.89 & 690.0 & 2371.99 & 0.0 & 36239.3 & 3314.57 & $\\dots$ \\\\\n",
       "\t6 & 6 & 8949.28 & 828.0 & 2579.39 & 0.0 & 36437.4 & 3381.49 & $\\dots$ \\\\\n",
       "\t7 & 7 & 8971.47 & 828.0 & 2579.39 & 0.0 & 36165.5 & 3818.84 & $\\dots$ \\\\\n",
       "\t8 & 8 & 9094.82 & 690.0 & 2497.93 & 0.0 & 35230.5 & 3964.78 & $\\dots$ \\\\\n",
       "\t9 & 9 & 9051.41 & 690.0 & 2675.03 & 0.0 & 35388.0 & 3883.67 & $\\dots$ \\\\\n",
       "\t10 & 10 & 8925.86 & 552.0 & 2831.39 & 0.0 & 35858.6 & 3516.25 & $\\dots$ \\\\\n",
       "\t11 & 11 & 9031.1 & 552.0 & 3339.99 & 0.0 & 34412.6 & 3671.5 & $\\dots$ \\\\\n",
       "\t12 & 12 & 9014.17 & 552.0 & 3339.99 & 0.0 & 34357.5 & 3671.5 & $\\dots$ \\\\\n",
       "\t13 & 13 & 8904.08 & 414.0 & 3075.65 & 0.0 & 36475.4 & 3355.2 & $\\dots$ \\\\\n",
       "\t14 & 14 & 8954.03 & 414.0 & 3075.65 & 0.0 & 38093.3 & 2618.29 & $\\dots$ \\\\\n",
       "\t15 & 15 & 8950.95 & 552.0 & 2989.38 & 0.0 & 37082.8 & 2633.66 & $\\dots$ \\\\\n",
       "\t16 & 16 & 8823.8 & 690.0 & 3093.52 & 0.0 & 36307.0 & 2655.98 & $\\dots$ \\\\\n",
       "\t17 & 17 & 8793.64 & 552.0 & 2171.78 & 0.0 & 38777.2 & 2495.98 & $\\dots$ \\\\\n",
       "\t18 & 18 & 8661.34 & 552.0 & 1908.83 & 0.0 & 39011.4 & 2507.38 & $\\dots$ \\\\\n",
       "\t19 & 19 & 8639.13 & 552.0 & 1908.83 & 0.0 & 38618.6 & 2507.38 & $\\dots$ \\\\\n",
       "\t20 & 20 & 8836.11 & 552.0 & 1523.98 & 0.0 & 39254.8 & 2722.62 & $\\dots$ \\\\\n",
       "\t21 & 21 & 8743.72 & 828.0 & 2936.31 & 0.0 & 36582.8 & 3320.53 & $\\dots$ \\\\\n",
       "\t22 & 22 & 8632.34 & 690.0 & 2768.52 & 0.0 & 35664.3 & 3314.26 & $\\dots$ \\\\\n",
       "\t23 & 23 & 8609.4 & 552.0 & 2842.85 & 0.0 & 36664.5 & 3007.74 & $\\dots$ \\\\\n",
       "\t24 & 24 & 8628.26 & 552.0 & 2842.85 & 0.0 & 36509.7 & 3533.04 & $\\dots$ \\\\\n",
       "\t25 & 25 & 8569.84 & 552.0 & 2597.2 & 0.0 & 36892.3 & 3366.38 & $\\dots$ \\\\\n",
       "\t26 & 26 & 8668.39 & 552.0 & 2597.2 & 0.0 & 37002.3 & 3614.53 & $\\dots$ \\\\\n",
       "\t27 & 27 & 8636.15 & 552.0 & 3386.53 & 0.0 & 36171.4 & 3674.3 & $\\dots$ \\\\\n",
       "\t28 & 28 & 8880.25 & 276.0 & 1974.19 & 0.0 & 39546.6 & 3105.53 & $\\dots$ \\\\\n",
       "\t29 & 29 & 8798.82 & 414.0 & 2415.25 & 0.0 & 38348.7 & 3008.71 & $\\dots$ \\\\\n",
       "\t30 & 30 & 8566.89 & 301.091 & 1702.83 & 0.0 & 40701.9 & 1934.16 & $\\dots$ \\\\\n",
       "\t$\\dots$ & $\\dots$ & $\\dots$ & $\\dots$ & $\\dots$ & $\\dots$ & $\\dots$ & $\\dots$ &  \\\\\n",
       "\\end{tabular}\n"
      ],
      "text/plain": [
       "\u001b[1m31×19 DataFrame\n",
       "\u001b[1m Row │\u001b[1m Day   \u001b[1m Hydraulic_mean \u001b[1m Bioenergy_mean \u001b[1m Wind_mean \u001b[1m Solar_mean \u001b[1m Nuclear_m ⋯\n",
       "     │\u001b[90m Int64 \u001b[90m Float64        \u001b[90m Float64        \u001b[90m Float64   \u001b[90m Float64    \u001b[90m Float64   ⋯\n",
       "─────┼──────────────────────────────────────────────────────────────────────────\n",
       "   1 │     1         8936.25         414.0      2227.72         0.0       3627 ⋯\n",
       "   2 │     2         8945.57         552.0      2726.47         0.0       3618\n",
       "   3 │     3         9060.7          690.0      2371.99         0.0       3634\n",
       "   4 │     4         9183.03         690.0      2371.99         0.0       3705\n",
       "   5 │     5         9225.89         690.0      2371.99         0.0       3623 ⋯\n",
       "   6 │     6         8949.28         828.0      2579.39         0.0       3643\n",
       "   7 │     7         8971.47         828.0      2579.39         0.0       3616\n",
       "   8 │     8         9094.82         690.0      2497.93         0.0       3523\n",
       "   9 │     9         9051.41         690.0      2675.03         0.0       3538 ⋯\n",
       "  10 │    10         8925.86         552.0      2831.39         0.0       3585\n",
       "  11 │    11         9031.1          552.0      3339.99         0.0       3441\n",
       "  ⋮  │   ⋮          ⋮               ⋮             ⋮          ⋮            ⋮    ⋱\n",
       "  22 │    22         8632.34         690.0      2768.52         0.0       3566\n",
       "  23 │    23         8609.4          552.0      2842.85         0.0       3666 ⋯\n",
       "  24 │    24         8628.26         552.0      2842.85         0.0       3650\n",
       "  25 │    25         8569.84         552.0      2597.2          0.0       3689\n",
       "  26 │    26         8668.39         552.0      2597.2          0.0       3700\n",
       "  27 │    27         8636.15         552.0      3386.53         0.0       3617 ⋯\n",
       "  28 │    28         8880.25         276.0      1974.19         0.0       3954\n",
       "  29 │    29         8798.82         414.0      2415.25         0.0       3834\n",
       "  30 │    30         8566.89         301.091    1702.83         0.0       4070\n",
       "  31 │    31         8662.81         236.571    1919.77         0.0       3945 ⋯\n",
       "\u001b[36m                                                  14 columns and 10 rows omitted"
      ]
     },
     "execution_count": 21,
     "metadata": {},
     "output_type": "execute_result"
    }
   ],
   "source": [
    "#df_opt_baseline\n",
    "#daily_total(df_opt_baseline)\n",
    "daily_average(df_opt_baseline)"
   ]
  },
  {
   "cell_type": "markdown",
   "metadata": {},
   "source": [
    "About daily average: we use all sources and import / export, high constraints on hydraulic wich is irrelevant."
   ]
  },
  {
   "cell_type": "markdown",
   "metadata": {},
   "source": [
    "### Crisis scenario"
   ]
  },
  {
   "cell_type": "code",
   "execution_count": 22,
   "metadata": {},
   "outputs": [
    {
     "data": {
      "text/plain": [
       "crisis_df (generic function with 1 method)"
      ]
     },
     "execution_count": 22,
     "metadata": {},
     "output_type": "execute_result"
    }
   ],
   "source": [
    "function crisis_df(df_base, boost_coef)\n",
    "    # copy of df\n",
    "    df_cris = copy(df_base)\n",
    "\n",
    "    # make all import columns of Switzerland Italy Germany_Belgium and England to zero\n",
    "    df_cris[!, :Switzerland_import] .= 0\n",
    "    df_cris[!, :Italy_import] .= 0\n",
    "    df_cris[!, :Germany_Belgium_import] .= 0\n",
    "    df_cris[!, :England_import] .= 0\n",
    "\n",
    "    # boost export demand by boost_coef\n",
    "    df_cris[!, :Switzerland_export] .= df_cris[!, :Switzerland_export] .* boost_coef\n",
    "    df_cris[!, :Italy_export] .= df_cris[!, :Italy_export] .* boost_coef\n",
    "    df_cris[!, :Germany_Belgium_export] .= df_cris[!, :Germany_Belgium_export] .* boost_coef\n",
    "    df_cris[!, :England_export] .= df_cris[!, :England_export] .* boost_coef\n",
    "    \n",
    "    return df_cris\n",
    "end"
   ]
  },
  {
   "cell_type": "code",
   "execution_count": 23,
   "metadata": {},
   "outputs": [],
   "source": [
    "df_crisis = crisis_df(df_baseline, 3);"
   ]
  },
  {
   "cell_type": "code",
   "execution_count": 24,
   "metadata": {},
   "outputs": [
    {
     "name": "stdout",
     "output_type": "stream",
     "text": [
      "Mean of England_export: 3562.2952527322404\n",
      "Mean of Spain_export: 1251.1026867030967\n",
      "Mean of Italy_export: 5430.50512295082\n",
      "Mean of Switzerland_export: 4941.125853825137\n",
      "Mean of Germany_Belgium_export: 3506.595116120219\n",
      "Mean of Consumption: 50840.46795309654\n"
     ]
    }
   ],
   "source": [
    "# mean of export columns\n",
    "for neighbor in neighbors\n",
    "    println(\"Mean of \", neighbor, \"_export: \", mean(df_crisis[!, Symbol(neighbor * \"_export\")]))\n",
    "end\n",
    "\n",
    "# mean of french consumption\n",
    "println(\"Mean of Consumption: \", mean(df_crisis[!, :Consumption]))"
   ]
  },
  {
   "cell_type": "code",
   "execution_count": 25,
   "metadata": {},
   "outputs": [
    {
     "name": "stdout",
     "output_type": "stream",
     "text": [
      "Percentage of England_export: 8.39689152376412\n",
      "Percentage of Spain_export: 3.530014705987273\n",
      "Percentage of Italy_export: 11.827291250555916\n",
      "Percentage of Switzerland_export: 76.59623600103005\n",
      "Percentage of Germany_Belgium_export: 5.600568501683497\n"
     ]
    }
   ],
   "source": [
    "Switzerland_population = 8.5 * 10^6\n",
    "Spain_population = 46.7 * 10^6\n",
    "Italy_population = 60.5 * 10^6\n",
    "Germany_Belgium_population = 82.5 * 10^6\n",
    "England_population = 55.9 * 10^6\n",
    "French_population = 66.99 * 10^6\n",
    "\n",
    "# compute the percentage of export demand for each neighbor, compared to french consumption, scaled by the population of each country\n",
    "for neighbor in neighbors\n",
    "    println(\"Percentage of \", neighbor, \"_export: \", (mean(df_crisis[!, Symbol(neighbor * \"_export\")]) / eval(Symbol(neighbor * \"_population\"))) / (mean(df_crisis[!, :Consumption]) / French_population) * 100)\n",
    "end"
   ]
  },
  {
   "cell_type": "code",
   "execution_count": 74,
   "metadata": {},
   "outputs": [
    {
     "data": {
      "text/plain": [
       "4.753560371517028"
      ]
     },
     "execution_count": 74,
     "metadata": {},
     "output_type": "execute_result"
    }
   ],
   "source": [
    "2559 / 323 * 0.6"
   ]
  },
  {
   "cell_type": "code",
   "execution_count": 26,
   "metadata": {},
   "outputs": [
    {
     "data": {
      "text/plain": [
       "crisis_optimizer (generic function with 1 method)"
      ]
     },
     "execution_count": 26,
     "metadata": {},
     "output_type": "execute_result"
    }
   ],
   "source": [
    "# function very similar to baseline_optimizer, but with an additional constraint\n",
    "function crisis_optimizer(df_base, alpha)\n",
    "\n",
    "    # create a Gurobi Optimizer\n",
    "    model = Model(Gurobi.Optimizer)\n",
    "    set_optimizer_attribute(model, \"OutputFlag\", 0)\n",
    "\n",
    "    # add variables\n",
    "    T = size(df_base, 1)\n",
    "    @variable(model, x[1:T, 1:8] >= 0) # production of energy with each source\n",
    "    @variable(model, y[1:T, 1:5] >= 0) # import of energy from each neighbor\n",
    "    @variable(model, z[1:T, 1:5] >= 0) # export of energy to each neighbor\n",
    "\n",
    "    # add objective\n",
    "    #@objective(model, Min, lambda_baseline_cost(x, y, z, df_base))\n",
    "    @objective(model, Min, real_baseline_cost(x, y, z, df_base))\n",
    "\n",
    "\n",
    "    # add constraints\n",
    "    # Demand constraint, we need to produce enough energy for France\n",
    "    @constraint(model, [t in 1:T], sum(x[t, :]) + sum(y[t, :]) - sum(z[t, :]) >= df_base[t, :Consumption])\n",
    "\n",
    "    # maximum import available constraint\n",
    "    @constraint(model, [t in 1:T, i in 1:5], y[t, i] <= df_base[t, Symbol(neighbors[i] * \"_import\")])\n",
    "\n",
    "    # maximum export available constraint\n",
    "    @constraint(model, [t in 1:T, i in 1:5], z[t, i] <= df_base[t, Symbol(neighbors[i] * \"_export\")])\n",
    "\n",
    "    # maximum production constraint\n",
    "    @constraint(model, [t in 1:T, i in 1:8], x[t, i] <= df_base[t, Symbol(sources[i] * \"_cap\")])\n",
    "\n",
    "    # crisis constraint, we need to satisfy at least alpha percent of the neighbors demand\n",
    "    @constraint(model, [t in 1:T, i in 1:5], z[t, i] >= alpha * df_base[t, Symbol(neighbors[i] * \"_export\")])\n",
    "\n",
    "    \n",
    "    # optimize\n",
    "    optimize!(model)\n",
    "\n",
    "    # return the optimizer\n",
    "    return model\n",
    "end"
   ]
  },
  {
   "cell_type": "code",
   "execution_count": 66,
   "metadata": {},
   "outputs": [
    {
     "name": "stdout",
     "output_type": "stream",
     "text": [
      "Set parameter Username\n",
      "Academic license - for non-commercial use only - expires 2023-08-18\n",
      "Real baseline cost: 6.528336714505351e10\n",
      "Production cost: 8.609470554270145e10\n",
      "Environmental impact: 7.843760975545297e10\n",
      "National impact: 6.1935714456261894e10\n",
      "\n",
      "Proportional total cost: 0.9107450095472931\n",
      "Proportional Production cost: 1.0785023163686012\n",
      "Proportional Environmental impact: 0.964728800773154\n",
      "Proportional National impact: 0.8548876909718713"
     ]
    }
   ],
   "source": [
    "model_2 = crisis_optimizer(df_crisis, 0.6);\n",
    "\n",
    "# get the optimal values\n",
    "x_opt_crisis = value.(model_2[:x])\n",
    "y_opt_crisis = value.(model_2[:y])\n",
    "z_opt_crisis = value.(model_2[:z])\n",
    "\n",
    "# convert the optimal values to a dataframe\n",
    "df_opt_crisis = convert_to_df(x_opt_crisis, y_opt_crisis, z_opt_crisis, df_crisis)\n",
    "\n",
    "\n",
    "# compute the cost\n",
    "println(\"Real baseline cost: \", real_baseline_cost(x_opt_crisis, y_opt_crisis, z_opt_crisis, df_crisis));\n",
    "println(\"Production cost: \", compute_production_cost(x_opt_crisis, df_crisis));\n",
    "println(\"Environmental impact: \", compute_total_impact(x_opt_crisis, y_opt_crisis, df_crisis))\n",
    "print(\"National impact: \", compute_national_impact(x_opt_crisis, y_opt_crisis, z_opt_crisis, df_crisis))\n",
    "\n",
    "# compute proportional cost (compared to rte)\n",
    "println(\"\\n\")\n",
    "println(\"Proportional total cost: \", real_baseline_cost(x_opt_crisis, y_opt_crisis, z_opt_crisis, df_crisis) / total_cost_rte);\n",
    "println(\"Proportional Production cost: \", compute_production_cost(x_opt_crisis, df_crisis) / production_cost_rte);\n",
    "println(\"Proportional Environmental impact: \", compute_total_impact(x_opt_crisis, y_opt_crisis, df_crisis) / total_impact_rte)\n",
    "print(\"Proportional National impact: \", compute_national_impact(x_opt_crisis, y_opt_crisis, z_opt_crisis, df_crisis) / national_impact_rte)"
   ]
  },
  {
   "cell_type": "code",
   "execution_count": 67,
   "metadata": {},
   "outputs": [
    {
     "data": {
      "text/html": [
       "<div><div style = \"float: left;\"><span>31×19 DataFrame</span></div><div style = \"float: right;\"><span style = \"font-style: italic;\">6 rows omitted</span></div><div style = \"clear: both;\"></div></div><div class = \"data-frame\" style = \"overflow-x: scroll;\"><table class = \"data-frame\" style = \"margin-bottom: 6px;\"><thead><tr class = \"header\"><th class = \"rowNumber\" style = \"font-weight: bold; text-align: right;\">Row</th><th style = \"text-align: left;\">Day</th><th style = \"text-align: left;\">Hydraulic_mean</th><th style = \"text-align: left;\">Bioenergy_mean</th><th style = \"text-align: left;\">Wind_mean</th><th style = \"text-align: left;\">Solar_mean</th><th style = \"text-align: left;\">Nuclear_mean</th><th style = \"text-align: left;\">Gas_mean</th><th style = \"text-align: left;\">Coal_mean</th><th style = \"text-align: left;\">Fuel_mean</th><th style = \"text-align: left;\">England_import_mean</th><th style = \"text-align: left;\">Spain_import_mean</th><th style = \"text-align: left;\">Italy_import_mean</th><th style = \"text-align: left;\">Switzerland_import_mean</th><th style = \"text-align: left;\">Germany_Belgium_import_mean</th><th style = \"text-align: left;\">England_export_mean</th><th style = \"text-align: left;\">Spain_export_mean</th><th style = \"text-align: left;\">Italy_export_mean</th><th style = \"text-align: left;\">Switzerland_export_mean</th><th style = \"text-align: left;\">Germany_Belgium_export_mean</th></tr><tr class = \"subheader headerLastRow\"><th class = \"rowNumber\" style = \"font-weight: bold; text-align: right;\"></th><th title = \"Int64\" style = \"text-align: left;\">Int64</th><th title = \"Float64\" style = \"text-align: left;\">Float64</th><th title = \"Float64\" style = \"text-align: left;\">Float64</th><th title = \"Float64\" style = \"text-align: left;\">Float64</th><th title = \"Float64\" style = \"text-align: left;\">Float64</th><th title = \"Float64\" style = \"text-align: left;\">Float64</th><th title = \"Float64\" style = \"text-align: left;\">Float64</th><th title = \"Float64\" style = \"text-align: left;\">Float64</th><th title = \"Float64\" style = \"text-align: left;\">Float64</th><th title = \"Float64\" style = \"text-align: left;\">Float64</th><th title = \"Float64\" style = \"text-align: left;\">Float64</th><th title = \"Float64\" style = \"text-align: left;\">Float64</th><th title = \"Float64\" style = \"text-align: left;\">Float64</th><th title = \"Float64\" style = \"text-align: left;\">Float64</th><th title = \"Float64\" style = \"text-align: left;\">Float64</th><th title = \"Float64\" style = \"text-align: left;\">Float64</th><th title = \"Float64\" style = \"text-align: left;\">Float64</th><th title = \"Float64\" style = \"text-align: left;\">Float64</th><th title = \"Float64\" style = \"text-align: left;\">Float64</th></tr></thead><tbody><tr><td class = \"rowNumber\" style = \"font-weight: bold; text-align: right;\">1</td><td style = \"text-align: right;\">1</td><td style = \"text-align: right;\">8936.25</td><td style = \"text-align: right;\">414.0</td><td style = \"text-align: right;\">2524.22</td><td style = \"text-align: right;\">0.0</td><td style = \"text-align: right;\">47168.9</td><td style = \"text-align: right;\">3115.76</td><td style = \"text-align: right;\">57.8932</td><td style = \"text-align: right;\">93.684</td><td style = \"text-align: right;\">0.0</td><td style = \"text-align: right;\">706.505</td><td style = \"text-align: right;\">0.0</td><td style = \"text-align: right;\">0.0</td><td style = \"text-align: right;\">0.0</td><td style = \"text-align: right;\">2956.66</td><td style = \"text-align: right;\">878.039</td><td style = \"text-align: right;\">3643.31</td><td style = \"text-align: right;\">3528.84</td><td style = \"text-align: right;\">2273.68</td></tr><tr><td class = \"rowNumber\" style = \"font-weight: bold; text-align: right;\">2</td><td style = \"text-align: right;\">2</td><td style = \"text-align: right;\">8945.57</td><td style = \"text-align: right;\">575.877</td><td style = \"text-align: right;\">2948.37</td><td style = \"text-align: right;\">0.0</td><td style = \"text-align: right;\">47885.8</td><td style = \"text-align: right;\">3402.67</td><td style = \"text-align: right;\">40.4231</td><td style = \"text-align: right;\">93.9149</td><td style = \"text-align: right;\">0.0</td><td style = \"text-align: right;\">784.257</td><td style = \"text-align: right;\">0.0</td><td style = \"text-align: right;\">0.0</td><td style = \"text-align: right;\">0.0</td><td style = \"text-align: right;\">2495.83</td><td style = \"text-align: right;\">647.093</td><td style = \"text-align: right;\">3899.21</td><td style = \"text-align: right;\">3271.67</td><td style = \"text-align: right;\">3192.93</td></tr><tr><td class = \"rowNumber\" style = \"font-weight: bold; text-align: right;\">3</td><td style = \"text-align: right;\">3</td><td style = \"text-align: right;\">9060.7</td><td style = \"text-align: right;\">690.0</td><td style = \"text-align: right;\">2670.98</td><td style = \"text-align: right;\">0.0</td><td style = \"text-align: right;\">48514.1</td><td style = \"text-align: right;\">3484.62</td><td style = \"text-align: right;\">62.6677</td><td style = \"text-align: right;\">90.5927</td><td style = \"text-align: right;\">0.0</td><td style = \"text-align: right;\">691.562</td><td style = \"text-align: right;\">0.0</td><td style = \"text-align: right;\">0.0</td><td style = \"text-align: right;\">0.0</td><td style = \"text-align: right;\">2650.96</td><td style = \"text-align: right;\">720.13</td><td style = \"text-align: right;\">4115.5</td><td style = \"text-align: right;\">3413.71</td><td style = \"text-align: right;\">2568.69</td></tr><tr><td class = \"rowNumber\" style = \"font-weight: bold; text-align: right;\">4</td><td style = \"text-align: right;\">4</td><td style = \"text-align: right;\">9183.03</td><td style = \"text-align: right;\">690.0</td><td style = \"text-align: right;\">2546.27</td><td style = \"text-align: right;\">0.0</td><td style = \"text-align: right;\">50114.1</td><td style = \"text-align: right;\">3314.57</td><td style = \"text-align: right;\">18.4236</td><td style = \"text-align: right;\">83.2436</td><td style = \"text-align: right;\">0.0</td><td style = \"text-align: right;\">714.645</td><td style = \"text-align: right;\">0.0</td><td style = \"text-align: right;\">0.0</td><td style = \"text-align: right;\">0.0</td><td style = \"text-align: right;\">2842.16</td><td style = \"text-align: right;\">585.619</td><td style = \"text-align: right;\">4327.57</td><td style = \"text-align: right;\">3887.51</td><td style = \"text-align: right;\">3333.96</td></tr><tr><td class = \"rowNumber\" style = \"font-weight: bold; text-align: right;\">5</td><td style = \"text-align: right;\">5</td><td style = \"text-align: right;\">9225.89</td><td style = \"text-align: right;\">701.258</td><td style = \"text-align: right;\">2493.33</td><td style = \"text-align: right;\">0.0</td><td style = \"text-align: right;\">48392.6</td><td style = \"text-align: right;\">3314.57</td><td style = \"text-align: right;\">17.1892</td><td style = \"text-align: right;\">86.0546</td><td style = \"text-align: right;\">0.0</td><td style = \"text-align: right;\">637.606</td><td style = \"text-align: right;\">0.0</td><td style = \"text-align: right;\">0.0</td><td style = \"text-align: right;\">0.0</td><td style = \"text-align: right;\">2535.14</td><td style = \"text-align: right;\">834.139</td><td style = \"text-align: right;\">4390.2</td><td style = \"text-align: right;\">3644.59</td><td style = \"text-align: right;\">2191.99</td></tr><tr><td class = \"rowNumber\" style = \"font-weight: bold; text-align: right;\">6</td><td style = \"text-align: right;\">6</td><td style = \"text-align: right;\">8949.28</td><td style = \"text-align: right;\">828.0</td><td style = \"text-align: right;\">2595.21</td><td style = \"text-align: right;\">0.0</td><td style = \"text-align: right;\">48338.6</td><td style = \"text-align: right;\">3381.49</td><td style = \"text-align: right;\">20.7833</td><td style = \"text-align: right;\">90.3554</td><td style = \"text-align: right;\">0.0</td><td style = \"text-align: right;\">809.781</td><td style = \"text-align: right;\">0.0</td><td style = \"text-align: right;\">0.0</td><td style = \"text-align: right;\">0.0</td><td style = \"text-align: right;\">2921.61</td><td style = \"text-align: right;\">744.521</td><td style = \"text-align: right;\">3988.36</td><td style = \"text-align: right;\">3482.6</td><td style = \"text-align: right;\">1634.39</td></tr><tr><td class = \"rowNumber\" style = \"font-weight: bold; text-align: right;\">7</td><td style = \"text-align: right;\">7</td><td style = \"text-align: right;\">8971.47</td><td style = \"text-align: right;\">828.0</td><td style = \"text-align: right;\">2579.39</td><td style = \"text-align: right;\">0.293865</td><td style = \"text-align: right;\">48180.2</td><td style = \"text-align: right;\">3818.84</td><td style = \"text-align: right;\">20.8234</td><td style = \"text-align: right;\">88.0124</td><td style = \"text-align: right;\">0.0</td><td style = \"text-align: right;\">673.373</td><td style = \"text-align: right;\">0.0</td><td style = \"text-align: right;\">0.0</td><td style = \"text-align: right;\">0.0</td><td style = \"text-align: right;\">2439.77</td><td style = \"text-align: right;\">801.947</td><td style = \"text-align: right;\">3389.52</td><td style = \"text-align: right;\">3436.67</td><td style = \"text-align: right;\">2956.21</td></tr><tr><td class = \"rowNumber\" style = \"font-weight: bold; text-align: right;\">8</td><td style = \"text-align: right;\">8</td><td style = \"text-align: right;\">9094.82</td><td style = \"text-align: right;\">692.875</td><td style = \"text-align: right;\">2497.93</td><td style = \"text-align: right;\">0.0</td><td style = \"text-align: right;\">48213.9</td><td style = \"text-align: right;\">3964.78</td><td style = \"text-align: right;\">20.8451</td><td style = \"text-align: right;\">88.3934</td><td style = \"text-align: right;\">0.0</td><td style = \"text-align: right;\">670.262</td><td style = \"text-align: right;\">0.0</td><td style = \"text-align: right;\">0.0</td><td style = \"text-align: right;\">0.0</td><td style = \"text-align: right;\">2608.86</td><td style = \"text-align: right;\">1038.11</td><td style = \"text-align: right;\">3772.59</td><td style = \"text-align: right;\">3815.13</td><td style = \"text-align: right;\">3469.19</td></tr><tr><td class = \"rowNumber\" style = \"font-weight: bold; text-align: right;\">9</td><td style = \"text-align: right;\">9</td><td style = \"text-align: right;\">9051.41</td><td style = \"text-align: right;\">690.0</td><td style = \"text-align: right;\">2675.03</td><td style = \"text-align: right;\">0.0</td><td style = \"text-align: right;\">47554.4</td><td style = \"text-align: right;\">3883.67</td><td style = \"text-align: right;\">20.0523</td><td style = \"text-align: right;\">93.3697</td><td style = \"text-align: right;\">0.0</td><td style = \"text-align: right;\">644.906</td><td style = \"text-align: right;\">0.0</td><td style = \"text-align: right;\">0.0</td><td style = \"text-align: right;\">0.0</td><td style = \"text-align: right;\">2551.03</td><td style = \"text-align: right;\">921.472</td><td style = \"text-align: right;\">3405.09</td><td style = \"text-align: right;\">3404.05</td><td style = \"text-align: right;\">3260.38</td></tr><tr><td class = \"rowNumber\" style = \"font-weight: bold; text-align: right;\">10</td><td style = \"text-align: right;\">10</td><td style = \"text-align: right;\">8925.86</td><td style = \"text-align: right;\">552.0</td><td style = \"text-align: right;\">2831.39</td><td style = \"text-align: right;\">0.0</td><td style = \"text-align: right;\">47807.6</td><td style = \"text-align: right;\">3516.25</td><td style = \"text-align: right;\">29.5324</td><td style = \"text-align: right;\">83.7065</td><td style = \"text-align: right;\">0.0</td><td style = \"text-align: right;\">668.396</td><td style = \"text-align: right;\">0.0</td><td style = \"text-align: right;\">0.0</td><td style = \"text-align: right;\">0.0</td><td style = \"text-align: right;\">2273.19</td><td style = \"text-align: right;\">834.43</td><td style = \"text-align: right;\">3874.02</td><td style = \"text-align: right;\">3274.35</td><td style = \"text-align: right;\">2817.08</td></tr><tr><td class = \"rowNumber\" style = \"font-weight: bold; text-align: right;\">11</td><td style = \"text-align: right;\">11</td><td style = \"text-align: right;\">9031.1</td><td style = \"text-align: right;\">552.0</td><td style = \"text-align: right;\">3359.4</td><td style = \"text-align: right;\">0.0</td><td style = \"text-align: right;\">47401.2</td><td style = \"text-align: right;\">3671.5</td><td style = \"text-align: right;\">31.2391</td><td style = \"text-align: right;\">94.2282</td><td style = \"text-align: right;\">0.0</td><td style = \"text-align: right;\">785.776</td><td style = \"text-align: right;\">0.0</td><td style = \"text-align: right;\">0.0</td><td style = \"text-align: right;\">0.0</td><td style = \"text-align: right;\">2538.58</td><td style = \"text-align: right;\">884.254</td><td style = \"text-align: right;\">4636.56</td><td style = \"text-align: right;\">3871.52</td><td style = \"text-align: right;\">2664.96</td></tr><tr><td class = \"rowNumber\" style = \"font-weight: bold; text-align: right;\">12</td><td style = \"text-align: right;\">12</td><td style = \"text-align: right;\">9014.17</td><td style = \"text-align: right;\">552.0</td><td style = \"text-align: right;\">3339.99</td><td style = \"text-align: right;\">0.0</td><td style = \"text-align: right;\">47339.5</td><td style = \"text-align: right;\">3671.5</td><td style = \"text-align: right;\">31.2391</td><td style = \"text-align: right;\">86.3968</td><td style = \"text-align: right;\">0.0</td><td style = \"text-align: right;\">535.538</td><td style = \"text-align: right;\">0.0</td><td style = \"text-align: right;\">0.0</td><td style = \"text-align: right;\">0.0</td><td style = \"text-align: right;\">3212.54</td><td style = \"text-align: right;\">1111.18</td><td style = \"text-align: right;\">4365.91</td><td style = \"text-align: right;\">3757.74</td><td style = \"text-align: right;\">1927.4</td></tr><tr><td class = \"rowNumber\" style = \"font-weight: bold; text-align: right;\">13</td><td style = \"text-align: right;\">13</td><td style = \"text-align: right;\">8904.08</td><td style = \"text-align: right;\">414.0</td><td style = \"text-align: right;\">3085.36</td><td style = \"text-align: right;\">0.441263</td><td style = \"text-align: right;\">48904.5</td><td style = \"text-align: right;\">3355.2</td><td style = \"text-align: right;\">29.726</td><td style = \"text-align: right;\">63.8122</td><td style = \"text-align: right;\">0.0</td><td style = \"text-align: right;\">477.322</td><td style = \"text-align: right;\">0.0</td><td style = \"text-align: right;\">0.0</td><td style = \"text-align: right;\">0.0</td><td style = \"text-align: right;\">2670.61</td><td style = \"text-align: right;\">1192.5</td><td style = \"text-align: right;\">4062.15</td><td style = \"text-align: right;\">3933.03</td><td style = \"text-align: right;\">2597.25</td></tr><tr><td style = \"text-align: right;\">&vellip;</td><td style = \"text-align: right;\">&vellip;</td><td style = \"text-align: right;\">&vellip;</td><td style = \"text-align: right;\">&vellip;</td><td style = \"text-align: right;\">&vellip;</td><td style = \"text-align: right;\">&vellip;</td><td style = \"text-align: right;\">&vellip;</td><td style = \"text-align: right;\">&vellip;</td><td style = \"text-align: right;\">&vellip;</td><td style = \"text-align: right;\">&vellip;</td><td style = \"text-align: right;\">&vellip;</td><td style = \"text-align: right;\">&vellip;</td><td style = \"text-align: right;\">&vellip;</td><td style = \"text-align: right;\">&vellip;</td><td style = \"text-align: right;\">&vellip;</td><td style = \"text-align: right;\">&vellip;</td><td style = \"text-align: right;\">&vellip;</td><td style = \"text-align: right;\">&vellip;</td><td style = \"text-align: right;\">&vellip;</td><td style = \"text-align: right;\">&vellip;</td></tr><tr><td class = \"rowNumber\" style = \"font-weight: bold; text-align: right;\">20</td><td style = \"text-align: right;\">20</td><td style = \"text-align: right;\">8836.11</td><td style = \"text-align: right;\">552.0</td><td style = \"text-align: right;\">1872.78</td><td style = \"text-align: right;\">0.0</td><td style = \"text-align: right;\">50956.0</td><td style = \"text-align: right;\">2725.76</td><td style = \"text-align: right;\">68.518</td><td style = \"text-align: right;\">61.5651</td><td style = \"text-align: right;\">0.0</td><td style = \"text-align: right;\">606.084</td><td style = \"text-align: right;\">0.0</td><td style = \"text-align: right;\">0.0</td><td style = \"text-align: right;\">0.0</td><td style = \"text-align: right;\">2860.84</td><td style = \"text-align: right;\">1067.19</td><td style = \"text-align: right;\">4801.31</td><td style = \"text-align: right;\">3888.6</td><td style = \"text-align: right;\">2794.73</td></tr><tr><td class = \"rowNumber\" style = \"font-weight: bold; text-align: right;\">21</td><td style = \"text-align: right;\">21</td><td style = \"text-align: right;\">8743.72</td><td style = \"text-align: right;\">828.0</td><td style = \"text-align: right;\">3247.97</td><td style = \"text-align: right;\">0.0</td><td style = \"text-align: right;\">47986.7</td><td style = \"text-align: right;\">3334.58</td><td style = \"text-align: right;\">98.1045</td><td style = \"text-align: right;\">78.3662</td><td style = \"text-align: right;\">0.0</td><td style = \"text-align: right;\">400.83</td><td style = \"text-align: right;\">0.0</td><td style = \"text-align: right;\">0.0</td><td style = \"text-align: right;\">0.0</td><td style = \"text-align: right;\">2263.71</td><td style = \"text-align: right;\">1261.39</td><td style = \"text-align: right;\">4538.99</td><td style = \"text-align: right;\">4061.75</td><td style = \"text-align: right;\">1971.22</td></tr><tr><td class = \"rowNumber\" style = \"font-weight: bold; text-align: right;\">22</td><td style = \"text-align: right;\">22</td><td style = \"text-align: right;\">8632.34</td><td style = \"text-align: right;\">690.0</td><td style = \"text-align: right;\">2772.35</td><td style = \"text-align: right;\">0.0</td><td style = \"text-align: right;\">47357.6</td><td style = \"text-align: right;\">3314.26</td><td style = \"text-align: right;\">98.1045</td><td style = \"text-align: right;\">71.7922</td><td style = \"text-align: right;\">0.0</td><td style = \"text-align: right;\">437.24</td><td style = \"text-align: right;\">0.0</td><td style = \"text-align: right;\">0.0</td><td style = \"text-align: right;\">0.0</td><td style = \"text-align: right;\">2042.97</td><td style = \"text-align: right;\">1338.54</td><td style = \"text-align: right;\">4830.08</td><td style = \"text-align: right;\">3473.64</td><td style = \"text-align: right;\">1497.07</td></tr><tr><td class = \"rowNumber\" style = \"font-weight: bold; text-align: right;\">23</td><td style = \"text-align: right;\">23</td><td style = \"text-align: right;\">8609.4</td><td style = \"text-align: right;\">552.0</td><td style = \"text-align: right;\">2855.62</td><td style = \"text-align: right;\">0.0</td><td style = \"text-align: right;\">48326.6</td><td style = \"text-align: right;\">3007.74</td><td style = \"text-align: right;\">143.184</td><td style = \"text-align: right;\">72.84</td><td style = \"text-align: right;\">0.0</td><td style = \"text-align: right;\">332.719</td><td style = \"text-align: right;\">0.0</td><td style = \"text-align: right;\">0.0</td><td style = \"text-align: right;\">0.0</td><td style = \"text-align: right;\">2232.52</td><td style = \"text-align: right;\">1215.65</td><td style = \"text-align: right;\">4320.83</td><td style = \"text-align: right;\">3703.03</td><td style = \"text-align: right;\">2258.83</td></tr><tr><td class = \"rowNumber\" style = \"font-weight: bold; text-align: right;\">24</td><td style = \"text-align: right;\">24</td><td style = \"text-align: right;\">8628.26</td><td style = \"text-align: right;\">552.0</td><td style = \"text-align: right;\">2964.95</td><td style = \"text-align: right;\">0.0</td><td style = \"text-align: right;\">47755.4</td><td style = \"text-align: right;\">3533.04</td><td style = \"text-align: right;\">143.184</td><td style = \"text-align: right;\">76.1855</td><td style = \"text-align: right;\">0.0</td><td style = \"text-align: right;\">438.34</td><td style = \"text-align: right;\">0.0</td><td style = \"text-align: right;\">0.0</td><td style = \"text-align: right;\">0.0</td><td style = \"text-align: right;\">2407.68</td><td style = \"text-align: right;\">1215.37</td><td style = \"text-align: right;\">4236.18</td><td style = \"text-align: right;\">3274.64</td><td style = \"text-align: right;\">2332.83</td></tr><tr><td class = \"rowNumber\" style = \"font-weight: bold; text-align: right;\">25</td><td style = \"text-align: right;\">25</td><td style = \"text-align: right;\">8569.84</td><td style = \"text-align: right;\">552.0</td><td style = \"text-align: right;\">2615.21</td><td style = \"text-align: right;\">0.0</td><td style = \"text-align: right;\">48950.0</td><td style = \"text-align: right;\">3366.38</td><td style = \"text-align: right;\">143.184</td><td style = \"text-align: right;\">64.3925</td><td style = \"text-align: right;\">0.0</td><td style = \"text-align: right;\">651.188</td><td style = \"text-align: right;\">0.0</td><td style = \"text-align: right;\">0.0</td><td style = \"text-align: right;\">0.0</td><td style = \"text-align: right;\">2725.91</td><td style = \"text-align: right;\">1263.33</td><td style = \"text-align: right;\">4017.92</td><td style = \"text-align: right;\">4088.79</td><td style = \"text-align: right;\">2485.41</td></tr><tr><td class = \"rowNumber\" style = \"font-weight: bold; text-align: right;\">26</td><td style = \"text-align: right;\">26</td><td style = \"text-align: right;\">8668.39</td><td style = \"text-align: right;\">552.0</td><td style = \"text-align: right;\">2930.25</td><td style = \"text-align: right;\">0.0</td><td style = \"text-align: right;\">49201.2</td><td style = \"text-align: right;\">3614.88</td><td style = \"text-align: right;\">143.184</td><td style = \"text-align: right;\">78.1024</td><td style = \"text-align: right;\">0.0</td><td style = \"text-align: right;\">774.161</td><td style = \"text-align: right;\">0.0</td><td style = \"text-align: right;\">0.0</td><td style = \"text-align: right;\">0.0</td><td style = \"text-align: right;\">2687.95</td><td style = \"text-align: right;\">806.028</td><td style = \"text-align: right;\">4094.77</td><td style = \"text-align: right;\">4221.03</td><td style = \"text-align: right;\">3223.71</td></tr><tr><td class = \"rowNumber\" style = \"font-weight: bold; text-align: right;\">27</td><td style = \"text-align: right;\">27</td><td style = \"text-align: right;\">8636.15</td><td style = \"text-align: right;\">552.0</td><td style = \"text-align: right;\">3656.98</td><td style = \"text-align: right;\">0.0</td><td style = \"text-align: right;\">48708.3</td><td style = \"text-align: right;\">3674.3</td><td style = \"text-align: right;\">99.7094</td><td style = \"text-align: right;\">94.5672</td><td style = \"text-align: right;\">0.0</td><td style = \"text-align: right;\">879.115</td><td style = \"text-align: right;\">0.0</td><td style = \"text-align: right;\">0.0</td><td style = \"text-align: right;\">0.0</td><td style = \"text-align: right;\">3051.5</td><td style = \"text-align: right;\">777.087</td><td style = \"text-align: right;\">3997.11</td><td style = \"text-align: right;\">3922.17</td><td style = \"text-align: right;\">2492.14</td></tr><tr><td class = \"rowNumber\" style = \"font-weight: bold; text-align: right;\">28</td><td style = \"text-align: right;\">28</td><td style = \"text-align: right;\">8880.25</td><td style = \"text-align: right;\">276.0</td><td style = \"text-align: right;\">2286.51</td><td style = \"text-align: right;\">0.0</td><td style = \"text-align: right;\">50918.9</td><td style = \"text-align: right;\">3328.31</td><td style = \"text-align: right;\">70.1229</td><td style = \"text-align: right;\">77.7676</td><td style = \"text-align: right;\">0.0</td><td style = \"text-align: right;\">559.561</td><td style = \"text-align: right;\">0.0</td><td style = \"text-align: right;\">0.0</td><td style = \"text-align: right;\">0.0</td><td style = \"text-align: right;\">2966.54</td><td style = \"text-align: right;\">962.854</td><td style = \"text-align: right;\">4749.77</td><td style = \"text-align: right;\">3638.76</td><td style = \"text-align: right;\">2224.83</td></tr><tr><td class = \"rowNumber\" style = \"font-weight: bold; text-align: right;\">29</td><td style = \"text-align: right;\">29</td><td style = \"text-align: right;\">8798.82</td><td style = \"text-align: right;\">414.0</td><td style = \"text-align: right;\">2461.07</td><td style = \"text-align: right;\">0.0</td><td style = \"text-align: right;\">49858.2</td><td style = \"text-align: right;\">3212.85</td><td style = \"text-align: right;\">70.1229</td><td style = \"text-align: right;\">75.1498</td><td style = \"text-align: right;\">0.0</td><td style = \"text-align: right;\">754.41</td><td style = \"text-align: right;\">0.0</td><td style = \"text-align: right;\">0.0</td><td style = \"text-align: right;\">0.0</td><td style = \"text-align: right;\">3079.85</td><td style = \"text-align: right;\">785.733</td><td style = \"text-align: right;\">4146.51</td><td style = \"text-align: right;\">3671.1</td><td style = \"text-align: right;\">2593.33</td></tr><tr><td class = \"rowNumber\" style = \"font-weight: bold; text-align: right;\">30</td><td style = \"text-align: right;\">30</td><td style = \"text-align: right;\">8566.89</td><td style = \"text-align: right;\">301.091</td><td style = \"text-align: right;\">1954.71</td><td style = \"text-align: right;\">0.0</td><td style = \"text-align: right;\">51281.9</td><td style = \"text-align: right;\">2253.46</td><td style = \"text-align: right;\">38.7356</td><td style = \"text-align: right;\">73.2748</td><td style = \"text-align: right;\">0.0</td><td style = \"text-align: right;\">733.382</td><td style = \"text-align: right;\">0.0</td><td style = \"text-align: right;\">0.0</td><td style = \"text-align: right;\">0.0</td><td style = \"text-align: right;\">2755.46</td><td style = \"text-align: right;\">670.713</td><td style = \"text-align: right;\">3860.47</td><td style = \"text-align: right;\">3584.43</td><td style = \"text-align: right;\">2696.37</td></tr><tr><td class = \"rowNumber\" style = \"font-weight: bold; text-align: right;\">31</td><td style = \"text-align: right;\">31</td><td style = \"text-align: right;\">8662.81</td><td style = \"text-align: right;\">236.571</td><td style = \"text-align: right;\">1919.77</td><td style = \"text-align: right;\">0.0</td><td style = \"text-align: right;\">49837.6</td><td style = \"text-align: right;\">2671.41</td><td style = \"text-align: right;\">34.8061</td><td style = \"text-align: right;\">71.1083</td><td style = \"text-align: right;\">0.0</td><td style = \"text-align: right;\">616.483</td><td style = \"text-align: right;\">0.0</td><td style = \"text-align: right;\">0.0</td><td style = \"text-align: right;\">0.0</td><td style = \"text-align: right;\">2917.32</td><td style = \"text-align: right;\">1091.47</td><td style = \"text-align: right;\">3475.3</td><td style = \"text-align: right;\">3757.01</td><td style = \"text-align: right;\">2214.17</td></tr></tbody></table></div>"
      ],
      "text/latex": [
       "\\begin{tabular}{r|cccccccc}\n",
       "\t& Day & Hydraulic\\_mean & Bioenergy\\_mean & Wind\\_mean & Solar\\_mean & Nuclear\\_mean & Gas\\_mean & \\\\\n",
       "\t\\hline\n",
       "\t& Int64 & Float64 & Float64 & Float64 & Float64 & Float64 & Float64 & \\\\\n",
       "\t\\hline\n",
       "\t1 & 1 & 8936.25 & 414.0 & 2524.22 & 0.0 & 47168.9 & 3115.76 & $\\dots$ \\\\\n",
       "\t2 & 2 & 8945.57 & 575.877 & 2948.37 & 0.0 & 47885.8 & 3402.67 & $\\dots$ \\\\\n",
       "\t3 & 3 & 9060.7 & 690.0 & 2670.98 & 0.0 & 48514.1 & 3484.62 & $\\dots$ \\\\\n",
       "\t4 & 4 & 9183.03 & 690.0 & 2546.27 & 0.0 & 50114.1 & 3314.57 & $\\dots$ \\\\\n",
       "\t5 & 5 & 9225.89 & 701.258 & 2493.33 & 0.0 & 48392.6 & 3314.57 & $\\dots$ \\\\\n",
       "\t6 & 6 & 8949.28 & 828.0 & 2595.21 & 0.0 & 48338.6 & 3381.49 & $\\dots$ \\\\\n",
       "\t7 & 7 & 8971.47 & 828.0 & 2579.39 & 0.293865 & 48180.2 & 3818.84 & $\\dots$ \\\\\n",
       "\t8 & 8 & 9094.82 & 692.875 & 2497.93 & 0.0 & 48213.9 & 3964.78 & $\\dots$ \\\\\n",
       "\t9 & 9 & 9051.41 & 690.0 & 2675.03 & 0.0 & 47554.4 & 3883.67 & $\\dots$ \\\\\n",
       "\t10 & 10 & 8925.86 & 552.0 & 2831.39 & 0.0 & 47807.6 & 3516.25 & $\\dots$ \\\\\n",
       "\t11 & 11 & 9031.1 & 552.0 & 3359.4 & 0.0 & 47401.2 & 3671.5 & $\\dots$ \\\\\n",
       "\t12 & 12 & 9014.17 & 552.0 & 3339.99 & 0.0 & 47339.5 & 3671.5 & $\\dots$ \\\\\n",
       "\t13 & 13 & 8904.08 & 414.0 & 3085.36 & 0.441263 & 48904.5 & 3355.2 & $\\dots$ \\\\\n",
       "\t14 & 14 & 8954.03 & 414.0 & 3271.53 & 0.0 & 51615.5 & 2633.89 & $\\dots$ \\\\\n",
       "\t15 & 15 & 8950.95 & 552.0 & 3092.48 & 0.0 & 49074.9 & 2642.18 & $\\dots$ \\\\\n",
       "\t16 & 16 & 8823.8 & 691.997 & 3339.82 & 0.0 & 47797.0 & 2666.63 & $\\dots$ \\\\\n",
       "\t17 & 17 & 8793.64 & 552.0 & 2583.46 & 0.0 & 50450.7 & 2511.27 & $\\dots$ \\\\\n",
       "\t18 & 18 & 8661.34 & 552.393 & 2542.18 & 0.0 & 50163.5 & 2511.16 & $\\dots$ \\\\\n",
       "\t19 & 19 & 8639.13 & 552.0 & 2354.01 & 0.0 & 50231.4 & 2514.27 & $\\dots$ \\\\\n",
       "\t20 & 20 & 8836.11 & 552.0 & 1872.78 & 0.0 & 50956.0 & 2725.76 & $\\dots$ \\\\\n",
       "\t21 & 21 & 8743.72 & 828.0 & 3247.97 & 0.0 & 47986.7 & 3334.58 & $\\dots$ \\\\\n",
       "\t22 & 22 & 8632.34 & 690.0 & 2772.35 & 0.0 & 47357.6 & 3314.26 & $\\dots$ \\\\\n",
       "\t23 & 23 & 8609.4 & 552.0 & 2855.62 & 0.0 & 48326.6 & 3007.74 & $\\dots$ \\\\\n",
       "\t24 & 24 & 8628.26 & 552.0 & 2964.95 & 0.0 & 47755.4 & 3533.04 & $\\dots$ \\\\\n",
       "\t25 & 25 & 8569.84 & 552.0 & 2615.21 & 0.0 & 48950.0 & 3366.38 & $\\dots$ \\\\\n",
       "\t26 & 26 & 8668.39 & 552.0 & 2930.25 & 0.0 & 49201.2 & 3614.88 & $\\dots$ \\\\\n",
       "\t27 & 27 & 8636.15 & 552.0 & 3656.98 & 0.0 & 48708.3 & 3674.3 & $\\dots$ \\\\\n",
       "\t28 & 28 & 8880.25 & 276.0 & 2286.51 & 0.0 & 50918.9 & 3328.31 & $\\dots$ \\\\\n",
       "\t29 & 29 & 8798.82 & 414.0 & 2461.07 & 0.0 & 49858.2 & 3212.85 & $\\dots$ \\\\\n",
       "\t30 & 30 & 8566.89 & 301.091 & 1954.71 & 0.0 & 51281.9 & 2253.46 & $\\dots$ \\\\\n",
       "\t$\\dots$ & $\\dots$ & $\\dots$ & $\\dots$ & $\\dots$ & $\\dots$ & $\\dots$ & $\\dots$ &  \\\\\n",
       "\\end{tabular}\n"
      ],
      "text/plain": [
       "\u001b[1m31×19 DataFrame\n",
       "\u001b[1m Row │\u001b[1m Day   \u001b[1m Hydraulic_mean \u001b[1m Bioenergy_mean \u001b[1m Wind_mean \u001b[1m Solar_mean \u001b[1m Nuclear_m ⋯\n",
       "     │\u001b[90m Int64 \u001b[90m Float64        \u001b[90m Float64        \u001b[90m Float64   \u001b[90m Float64    \u001b[90m Float64   ⋯\n",
       "─────┼──────────────────────────────────────────────────────────────────────────\n",
       "   1 │     1         8936.25         414.0      2524.22    0.0            4716 ⋯\n",
       "   2 │     2         8945.57         575.877    2948.37    0.0            4788\n",
       "   3 │     3         9060.7          690.0      2670.98    0.0            4851\n",
       "   4 │     4         9183.03         690.0      2546.27    0.0            5011\n",
       "   5 │     5         9225.89         701.258    2493.33    0.0            4839 ⋯\n",
       "   6 │     6         8949.28         828.0      2595.21    0.0            4833\n",
       "   7 │     7         8971.47         828.0      2579.39    0.293865       4818\n",
       "   8 │     8         9094.82         692.875    2497.93    0.0            4821\n",
       "   9 │     9         9051.41         690.0      2675.03    0.0            4755 ⋯\n",
       "  10 │    10         8925.86         552.0      2831.39    0.0            4780\n",
       "  11 │    11         9031.1          552.0      3359.4     0.0            4740\n",
       "  ⋮  │   ⋮          ⋮               ⋮             ⋮          ⋮            ⋮    ⋱\n",
       "  22 │    22         8632.34         690.0      2772.35    0.0            4735\n",
       "  23 │    23         8609.4          552.0      2855.62    0.0            4832 ⋯\n",
       "  24 │    24         8628.26         552.0      2964.95    0.0            4775\n",
       "  25 │    25         8569.84         552.0      2615.21    0.0            4895\n",
       "  26 │    26         8668.39         552.0      2930.25    0.0            4920\n",
       "  27 │    27         8636.15         552.0      3656.98    0.0            4870 ⋯\n",
       "  28 │    28         8880.25         276.0      2286.51    0.0            5091\n",
       "  29 │    29         8798.82         414.0      2461.07    0.0            4985\n",
       "  30 │    30         8566.89         301.091    1954.71    0.0            5128\n",
       "  31 │    31         8662.81         236.571    1919.77    0.0            4983 ⋯\n",
       "\u001b[36m                                                  14 columns and 10 rows omitted"
      ]
     },
     "execution_count": 67,
     "metadata": {},
     "output_type": "execute_result"
    }
   ],
   "source": [
    "#df_opt_crisis\n",
    "#daily_total(df_opt_crisis)\n",
    "daily_average(df_opt_crisis)"
   ]
  },
  {
   "cell_type": "code",
   "execution_count": 68,
   "metadata": {},
   "outputs": [
    {
     "name": "stdout",
     "output_type": "stream",
     "text": [
      "Mean production of Hydraulic in RTE: 7377.761384335155\n",
      "Mean production of Hydraulic in optimized: 8853.31366120218\n",
      " \n",
      "Mean production of Bioenergy in RTE: 1101.8541666666667\n",
      "Mean production of Bioenergy in optimized: 571.422974655624\n",
      " \n",
      "Mean production of Wind in RTE: 4519.61327413479\n",
      "Mean production of Wind in optimized: 2751.0068374367775\n",
      " \n",
      "Mean production of Solar in RTE: 1418.623235428051\n",
      "Mean production of Solar in optimized: 0.024102551852935118\n",
      " \n",
      "Mean production of Nuclear in RTE: 38161.20446265938\n",
      "Mean production of Nuclear in optimized: 48893.3673343359\n",
      " \n",
      "Mean production of Gas in RTE: 3924.005806010929\n",
      "Mean production of Gas in optimized: 3216.7522267217464\n",
      " \n",
      "Mean production of Coal in RTE: 155.61236338797815\n",
      "Mean production of Coal in optimized: 54.14640210962577\n",
      " \n",
      "Mean production of Fuel in RTE: 105.55265255009107\n",
      "Mean production of Fuel in optimized: 77.94389731871804\n",
      " \n"
     ]
    }
   ],
   "source": [
    "# compare mean production values in RTE and optimized\n",
    "for i in 1:size(sources, 1)\n",
    "    println(\"Mean production of \", sources[i], \" in RTE: \", mean(df_baseline[!, Symbol(sources[i])]))\n",
    "    println(\"Mean production of \", sources[i], \" in optimized: \", mean(x_opt_crisis[:, i]))\n",
    "    println(\" \")\n",
    "end"
   ]
  },
  {
   "cell_type": "code",
   "execution_count": 69,
   "metadata": {},
   "outputs": [
    {
     "name": "stdout",
     "output_type": "stream",
     "text": [
      "Mean import from England in RTE: 186.5127504553734\n",
      "Mean import from England in optimized: 0.0\n",
      " \n",
      "Mean import from Spain in RTE: 653.2940573770492\n",
      "Mean import from Spain in optimized: 617.3818558092636\n",
      " \n",
      "Mean import from Italy in RTE: 58.72290528233151\n",
      "Mean import from Italy in optimized: 0.0\n",
      " \n",
      "Mean import from Switzerland in RTE: 145.98827413479052\n",
      "Mean import from Switzerland in optimized: 0.0\n",
      " \n",
      "Mean import from Germany_Belgium in RTE: 1098.901468579235\n",
      "Mean import from Germany_Belgium in optimized: 0.0\n",
      " \n",
      "Mean export to England in RTE: 1187.4317509107468\n",
      "Mean export to England in optimized: 2706.7807746955364\n",
      " \n",
      "Mean export to Spain in RTE: 1251.1026867030967\n",
      "Mean export to Spain in optimized: 955.2690405732963\n",
      " \n",
      "Mean export to Italy in RTE: 1810.16837431694\n",
      "Mean export to Italy in optimized: 4117.845179842002\n",
      " \n",
      "Mean export to Switzerland in RTE: 1647.0419512750454\n",
      "Mean export to Switzerland in optimized: 3738.4969099915834\n",
      " \n",
      "Mean export to Germany_Belgium in RTE: 1168.8650387067396\n",
      "Mean export to Germany_Belgium in optimized: 2676.499433942734\n",
      " \n"
     ]
    }
   ],
   "source": [
    "# same for imports and exports\n",
    "for i in 1:size(neighbors, 1)\n",
    "    println(\"Mean import from \", neighbors[i], \" in RTE: \", mean(df_baseline[!, Symbol(neighbors[i] * \"_import\")]))\n",
    "    println(\"Mean import from \", neighbors[i], \" in optimized: \", mean(y_opt_crisis[:, i]))\n",
    "    println(\" \")\n",
    "end\n",
    "\n",
    "for i in 1:size(neighbors, 1)\n",
    "    println(\"Mean export to \", neighbors[i], \" in RTE: \", mean(df_baseline[!, Symbol(neighbors[i] * \"_export\")]))\n",
    "    println(\"Mean export to \", neighbors[i], \" in optimized: \", mean(z_opt_crisis[:, i]))\n",
    "    println(\" \")\n",
    "end"
   ]
  },
  {
   "cell_type": "code",
   "execution_count": 70,
   "metadata": {},
   "outputs": [
    {
     "name": "stdout",
     "output_type": "stream",
     "text": [
      "Set parameter Username\n",
      "Academic license - for non-commercial use only - expires 2023-08-18\n",
      "Set parameter Username\n",
      "Academic license - for non-commercial use only - expires 2023-08-18\n"
     ]
    },
    {
     "ename": "LoadError",
     "evalue": "InterruptException:",
     "output_type": "error",
     "traceback": [
      "InterruptException:",
      "",
      "Stacktrace:",
      "  [1] macro expansion",
      "    @ /Users/iai/builds/e7x1Q22r/0/InterpretableAI/SystemImage/SysImgBuilder/.julia/packages/MutableArithmetics/maUDe/src/rewrite.jl:294 [inlined]",
      "  [2] macro expansion",
      "    @ /Users/iai/builds/e7x1Q22r/0/InterpretableAI/SystemImage/SysImgBuilder/.julia/packages/JuMP/gVq7V/src/macros.jl:819 [inlined]",
      "  [3] (::var\"#36#44\"{DataFrame, Matrix{VariableRef}, Model})(t::Int64, i::Int64)",
      "    @ Main /Users/iai/builds/e7x1Q22r/0/InterpretableAI/SystemImage/SysImgBuilder/.julia/packages/JuMP/gVq7V/src/Containers/macro.jl:304",
      "  [4] #42",
      "    @ /Users/iai/builds/e7x1Q22r/0/InterpretableAI/SystemImage/SysImgBuilder/.julia/packages/JuMP/gVq7V/src/Containers/container.jl:72 [inlined]",
      "  [5] iterate",
      "    @ ./generator.jl:47 [inlined]",
      "  [6] collect_to!(dest::Matrix{ConstraintRef{Model, MathOptInterface.ConstraintIndex{MathOptInterface.ScalarAffineFunction{Float64}, MathOptInterface.LessThan{Float64}}, ScalarShape}}, itr::Base.Generator{JuMP.Containers.VectorizedProductIterator{Tuple{Base.OneTo{Int64}, Base.OneTo{Int64}}}, JuMP.Containers.var\"#42#43\"{var\"#36#44\"{DataFrame, Matrix{VariableRef}, Model}}}, offs::Int64, st::Tuple{Tuple{Int64, Int64}, Tuple{Int64, Int64}})",
      "    @ Base ./array.jl:845",
      "  [7] collect_to_with_first!(dest::Matrix{ConstraintRef{Model, MathOptInterface.ConstraintIndex{MathOptInterface.ScalarAffineFunction{Float64}, MathOptInterface.LessThan{Float64}}, ScalarShape}}, v1::ConstraintRef{Model, MathOptInterface.ConstraintIndex{MathOptInterface.ScalarAffineFunction{Float64}, MathOptInterface.LessThan{Float64}}, ScalarShape}, itr::Base.Generator{JuMP.Containers.VectorizedProductIterator{Tuple{Base.OneTo{Int64}, Base.OneTo{Int64}}}, JuMP.Containers.var\"#42#43\"{var\"#36#44\"{DataFrame, Matrix{VariableRef}, Model}}}, st::Tuple{Tuple{Int64, Int64}, Tuple{Int64, Int64}})",
      "    @ Base ./array.jl:823",
      "  [8] collect(itr::Base.Generator{JuMP.Containers.VectorizedProductIterator{Tuple{Base.OneTo{Int64}, Base.OneTo{Int64}}}, JuMP.Containers.var\"#42#43\"{var\"#36#44\"{DataFrame, Matrix{VariableRef}, Model}}})",
      "    @ Base ./array.jl:797",
      "  [9] map",
      "    @ ./abstractarray.jl:2961 [inlined]",
      " [10] container",
      "    @ /Users/iai/builds/e7x1Q22r/0/InterpretableAI/SystemImage/SysImgBuilder/.julia/packages/JuMP/gVq7V/src/Containers/container.jl:72 [inlined]",
      " [11] container",
      "    @ /Users/iai/builds/e7x1Q22r/0/InterpretableAI/SystemImage/SysImgBuilder/.julia/packages/JuMP/gVq7V/src/Containers/container.jl:66 [inlined]",
      " [12] crisis_optimizer(df_base::DataFrame, alpha::Float64)",
      "    @ Main ./In[26]:24",
      " [13] top-level scope",
      "    @ ./In[70]:6",
      " [14] eval",
      "    @ ./boot.jl:368 [inlined]",
      " [15] include_string(mapexpr::typeof(REPL.softscope), mod::Module, code::String, filename::String)",
      "    @ Base ./loading.jl:1428"
     ]
    }
   ],
   "source": [
    "# for each alpha, compute the production cost, the real_baseline_cost, the total impact and the national impact\n",
    "# and store them in a dataframe\n",
    "alphas_df = DataFrame(alpha = Float64[], production_cost = Float64[], real_baseline_cost = Float64[], total_impact = Float64[], national_impact = Float64[])\n",
    "# use 10 alpha from 0 to 0.6, included\n",
    "for alpha in range(0, 0.6, length = 30)\n",
    "    model = crisis_optimizer(df_crisis, alpha)\n",
    "    # if we find a solution, we store the results\n",
    "    if termination_status(model) == MOI.OPTIMAL\n",
    "        x_opt = value.(model[:x])\n",
    "        y_opt = value.(model[:y])\n",
    "        z_opt = value.(model[:z])\n",
    "        push!(alphas_df, (alpha, compute_production_cost(x_opt, df_crisis), real_baseline_cost(x_opt, y_opt, z_opt, df_crisis), compute_total_impact(x_opt, y_opt, df_crisis), compute_national_impact(x_opt, y_opt, z_opt, df_crisis)))\n",
    "    end\n",
    "end"
   ]
  },
  {
   "cell_type": "code",
   "execution_count": 31,
   "metadata": {},
   "outputs": [
    {
     "data": {
      "text/plain": [
       "\"/Users/oscarcourbit/Desktop/Bureau - MacBook Pro de Oscar/MIT/Classes/15.093 -  Optimization Methods/Term Project/Energy-Allocation-in-France/crisis_cost.png\""
      ]
     },
     "execution_count": 31,
     "metadata": {},
     "output_type": "execute_result"
    }
   ],
   "source": [
    "# plot the results, title on the top left, x axis on the bottom, y axis on the left\n",
    "p = plot(alphas_df.alpha, alphas_df.production_cost, label = \"Production cost\", title = \"Crisis\", xlabel = \"alpha\", ylabel = \"cost\", legend = :topleft)\n",
    "plot!(p, alphas_df.alpha, alphas_df.real_baseline_cost, label = \"Net cost\")\n",
    "\n",
    "# save the plot\n",
    "#savefig(p, \"crisis_cost.png\")"
   ]
  },
  {
   "cell_type": "code",
   "execution_count": 32,
   "metadata": {},
   "outputs": [
    {
     "data": {
      "text/plain": [
       "\"/Users/oscarcourbit/Desktop/Bureau - MacBook Pro de Oscar/MIT/Classes/15.093 -  Optimization Methods/Term Project/Energy-Allocation-in-France/crisis_impact.png\""
      ]
     },
     "execution_count": 32,
     "metadata": {},
     "output_type": "execute_result"
    }
   ],
   "source": [
    "p2 = plot(alphas_df.alpha, alphas_df.total_impact, label = \"Total impact\", title = \"Crisis\", xlabel = \"alpha\", ylabel = \"impact\", legend = :topleft)\n",
    "plot!(p2, alphas_df.alpha, alphas_df.national_impact, label = \"National impact\")\n",
    "\n",
    "# save the plot\n",
    "#savefig(p2, \"crisis_impact.png\")"
   ]
  },
  {
   "cell_type": "markdown",
   "metadata": {},
   "source": [
    "With first results, we could use boost = 3 and alpha = 0.8 => max_boost = 2.4\n",
    "\n",
    "Same with second results\n",
    "\n",
    "With third results, we could use boost = 3 and alpha = 0.6 => max_boost = 1.8\n"
   ]
  },
  {
   "cell_type": "markdown",
   "metadata": {},
   "source": [
    "### Sustainable Energies"
   ]
  },
  {
   "cell_type": "code",
   "execution_count": 28,
   "metadata": {},
   "outputs": [
    {
     "data": {
      "text/plain": [
       "real_sustainable_cost (generic function with 1 method)"
      ]
     },
     "execution_count": 28,
     "metadata": {},
     "output_type": "execute_result"
    }
   ],
   "source": [
    "# sustainable cost function\n",
    "function lambda_sustainable_cost(x, y, z, df_base, beta)\n",
    "    # for each row of the dataframe, compute a cost\n",
    "    # x is the amount of energy produced by each source\n",
    "    # y is the amount of energy imported from each country\n",
    "    # z is the amount of energy exported to each country\n",
    "    T = size(df_base, 1)\n",
    "\n",
    "    # add production cost\n",
    "    production_cost = 0\n",
    "    for i in 1:size(sources, 1)\n",
    "        # add cost of producing energy with each source\n",
    "        production_cost += sum(x[:, i] .* ((1-beta) .* df_base[!, Symbol(sources[i] * \"_cost\")] .+ beta .* df_base[!, Symbol(sources[i] * \"_impact\")]))\n",
    "        production_cost += sum((x[:, i] - df_base[!, Symbol(sources[i])] ) .* df_base[!, Symbol(\"Lambda_\" * sources[i])])\n",
    "\n",
    "    end\n",
    "\n",
    "    # add import cost\n",
    "    import_cost = 0\n",
    "    for i in 1:size(neighbors, 1)\n",
    "        # add cost of importing energy from each neighbor\n",
    "        import_cost += sum(y[:, i] .* ((1-beta) .* df_base[!, Symbol(neighbors[i] * \"_Price\")] .+ beta .* df_base[!, Symbol(neighbors[i] * \"_impact\")]))\n",
    "    end\n",
    "\n",
    "    # add export revenue\n",
    "    export_revenue = 0\n",
    "    for i in 1:size(neighbors, 1)\n",
    "        # add cost of exporting energy to each neighbor\n",
    "        export_revenue += sum(z[:, i] .* beta .* df_base[!, \"Export_Price\"])\n",
    "    end     \n",
    "\n",
    "    # return the total cost\n",
    "    return production_cost + import_cost - export_revenue\n",
    "end\n",
    "\n",
    "\n",
    "function real_sustainable_cost(x, y, z, df_base, beta)\n",
    "    # for each row of the dataframe, compute a cost\n",
    "    # x is the amount of energy produced by each source\n",
    "    # y is the amount of energy imported from each country\n",
    "    # z is the amount of energy exported to each country\n",
    "    T = size(df_base, 1)\n",
    "\n",
    "    # add production cost\n",
    "    production_cost = 0\n",
    "    for i in 1:size(sources, 1)\n",
    "        # add cost of producing energy with each source\n",
    "        production_cost += sum(x[:, i] .* ((1-beta) .* df_base[!, Symbol(sources[i] * \"_cost\")] .+ beta .* df_base[!, Symbol(sources[i] * \"_impact\")]))\n",
    "    end\n",
    "\n",
    "    # add import cost\n",
    "    import_cost = 0\n",
    "    for i in 1:size(neighbors, 1)\n",
    "        # add cost of importing energy from each neighbor\n",
    "        import_cost += sum(y[:, i] .* ((1-beta) .* df_base[!, Symbol(neighbors[i] * \"_Price\")] .+ beta .* df_base[!, Symbol(neighbors[i] * \"_impact\")]))\n",
    "    end\n",
    "\n",
    "    # add export revenue\n",
    "    export_revenue = 0\n",
    "    for i in 1:size(neighbors, 1)\n",
    "        # add cost of exporting energy to each neighbor\n",
    "        export_revenue += sum(z[:, i] .* (1-beta) .* df_base[!, \"Export_Price\"])\n",
    "    end  \n",
    "\n",
    "    # return the total cost\n",
    "    return production_cost + import_cost - export_revenue\n",
    "end\n"
   ]
  },
  {
   "cell_type": "code",
   "execution_count": 29,
   "metadata": {},
   "outputs": [
    {
     "data": {
      "text/plain": [
       "sustainable_optimizer (generic function with 1 method)"
      ]
     },
     "execution_count": 29,
     "metadata": {},
     "output_type": "execute_result"
    }
   ],
   "source": [
    "# function to build a Gurobi Optimizer to optimize the sustainable cost\n",
    "function sustainable_optimizer(df_base, beta)\n",
    "\n",
    "    # create a Gurobi Optimizer\n",
    "    model = Model(Gurobi.Optimizer)\n",
    "    set_optimizer_attribute(model, \"OutputFlag\", 0)\n",
    "\n",
    "    # add variables\n",
    "    T = size(df_base, 1)\n",
    "    @variable(model, x[1:T, 1:8] >= 0) # production of energy with each source\n",
    "    @variable(model, y[1:T, 1:5] >= 0) # import of energy from each neighbor\n",
    "    @variable(model, z[1:T, 1:5] >= 0) # export of energy to each neighbor\n",
    "\n",
    "    \n",
    "    # add objective\n",
    "    #@objective(model, Min, lambda_sustainable_cost(x, y, z, df_base, beta))\n",
    "    @objective(model, Min, real_sustainable_cost(x, y, z, df_base, beta))\n",
    "\n",
    "\n",
    "    # add constraints\n",
    "    # Demand constraint, we need to produce enough energy for France\n",
    "    @constraint(model, [t in 1:T], sum(x[t, :]) + sum(y[t, :]) - sum(z[t, :]) >= df_base[t, :Consumption])\n",
    "\n",
    "    # maximum import available constraint\n",
    "    @constraint(model, [t in 1:T, i in 1:5], y[t, i] <= df_base[t, Symbol(neighbors[i] * \"_import\")])\n",
    "\n",
    "    # maximum export available constraint\n",
    "    @constraint(model, [t in 1:T, i in 1:5], z[t, i] <= df_base[t, Symbol(neighbors[i] * \"_export\")])\n",
    "\n",
    "    # maximum production constraint\n",
    "    @constraint(model, [t in 1:T, i in 1:8], x[t, i] <= df_base[t, Symbol(sources[i] * \"_cap\")])\n",
    "\n",
    "    \n",
    "    # optimize\n",
    "    optimize!(model)\n",
    "\n",
    "    # return the optimizer\n",
    "    return model\n",
    "end"
   ]
  },
  {
   "cell_type": "code",
   "execution_count": 30,
   "metadata": {},
   "outputs": [
    {
     "name": "stdout",
     "output_type": "stream",
     "text": [
      "Set parameter Username\n",
      "Academic license - for non-commercial use only - expires 2023-08-18\n",
      "Real baseline cost: 6.963291707617268e10\n",
      "Production cost: 6.943045106478091e10\n",
      "Environmental impact: 3.917007848688179e10\n",
      "National impact: 3.917007848688179e10\n",
      "\n",
      "Proportional total cost: 0.9714240318891072\n",
      "Proportional Production cost: 0.8697503734738187\n",
      "Proportional Environmental impact: 0.48176509919991206\n",
      "Proportional National impact: 0.5406576519995533"
     ]
    }
   ],
   "source": [
    "model_3 = sustainable_optimizer(df_baseline, 0.99);\n",
    "\n",
    "# get the optimal values\n",
    "x_opt_sustainable = value.(model_3[:x])\n",
    "y_opt_sustainable = value.(model_3[:y])\n",
    "z_opt_sustainable = value.(model_3[:z])\n",
    "\n",
    "# convert the optimal values to a dataframe\n",
    "df_opt_sustainable = convert_to_df(x_opt_sustainable, y_opt_sustainable, z_opt_sustainable, df_baseline);\n",
    "\n",
    "# compute the cost of the optimal solution\n",
    "println(\"Real baseline cost: \", real_baseline_cost(x_opt_sustainable, y_opt_sustainable, z_opt_sustainable, df_baseline));\n",
    "println(\"Production cost: \", compute_production_cost(x_opt_sustainable, df_baseline));\n",
    "println(\"Environmental impact: \", compute_total_impact(x_opt_sustainable, y_opt_sustainable, df_baseline))\n",
    "print(\"National impact: \", compute_national_impact(x_opt_sustainable, y_opt_sustainable, z_opt_sustainable, df_baseline))\n",
    "\n",
    "# compute proportional cost (compared to rte)\n",
    "println(\"\\n\")\n",
    "println(\"Proportional total cost: \", real_baseline_cost(x_opt_sustainable, y_opt_sustainable, z_opt_sustainable, df_baseline) / total_cost_rte);\n",
    "println(\"Proportional Production cost: \", compute_production_cost(x_opt_sustainable, df_baseline) / production_cost_rte);\n",
    "println(\"Proportional Environmental impact: \", compute_total_impact(x_opt_sustainable, y_opt_sustainable, df_baseline) / total_impact_rte)\n",
    "print(\"Proportional National impact: \", compute_national_impact(x_opt_sustainable, y_opt_sustainable, z_opt_sustainable, df_baseline) / national_impact_rte)"
   ]
  },
  {
   "cell_type": "code",
   "execution_count": 31,
   "metadata": {},
   "outputs": [
    {
     "data": {
      "text/html": [
       "<div><div style = \"float: left;\"><span>31×19 DataFrame</span></div><div style = \"float: right;\"><span style = \"font-style: italic;\">6 rows omitted</span></div><div style = \"clear: both;\"></div></div><div class = \"data-frame\" style = \"overflow-x: scroll;\"><table class = \"data-frame\" style = \"margin-bottom: 6px;\"><thead><tr class = \"header\"><th class = \"rowNumber\" style = \"font-weight: bold; text-align: right;\">Row</th><th style = \"text-align: left;\">Day</th><th style = \"text-align: left;\">Hydraulic_mean</th><th style = \"text-align: left;\">Bioenergy_mean</th><th style = \"text-align: left;\">Wind_mean</th><th style = \"text-align: left;\">Solar_mean</th><th style = \"text-align: left;\">Nuclear_mean</th><th style = \"text-align: left;\">Gas_mean</th><th style = \"text-align: left;\">Coal_mean</th><th style = \"text-align: left;\">Fuel_mean</th><th style = \"text-align: left;\">England_import_mean</th><th style = \"text-align: left;\">Spain_import_mean</th><th style = \"text-align: left;\">Italy_import_mean</th><th style = \"text-align: left;\">Switzerland_import_mean</th><th style = \"text-align: left;\">Germany_Belgium_import_mean</th><th style = \"text-align: left;\">England_export_mean</th><th style = \"text-align: left;\">Spain_export_mean</th><th style = \"text-align: left;\">Italy_export_mean</th><th style = \"text-align: left;\">Switzerland_export_mean</th><th style = \"text-align: left;\">Germany_Belgium_export_mean</th></tr><tr class = \"subheader headerLastRow\"><th class = \"rowNumber\" style = \"font-weight: bold; text-align: right;\"></th><th title = \"Int64\" style = \"text-align: left;\">Int64</th><th title = \"Float64\" style = \"text-align: left;\">Float64</th><th title = \"Float64\" style = \"text-align: left;\">Float64</th><th title = \"Float64\" style = \"text-align: left;\">Float64</th><th title = \"Float64\" style = \"text-align: left;\">Float64</th><th title = \"Float64\" style = \"text-align: left;\">Float64</th><th title = \"Float64\" style = \"text-align: left;\">Float64</th><th title = \"Float64\" style = \"text-align: left;\">Float64</th><th title = \"Float64\" style = \"text-align: left;\">Float64</th><th title = \"Float64\" style = \"text-align: left;\">Float64</th><th title = \"Float64\" style = \"text-align: left;\">Float64</th><th title = \"Float64\" style = \"text-align: left;\">Float64</th><th title = \"Float64\" style = \"text-align: left;\">Float64</th><th title = \"Float64\" style = \"text-align: left;\">Float64</th><th title = \"Float64\" style = \"text-align: left;\">Float64</th><th title = \"Float64\" style = \"text-align: left;\">Float64</th><th title = \"Float64\" style = \"text-align: left;\">Float64</th><th title = \"Float64\" style = \"text-align: left;\">Float64</th><th title = \"Float64\" style = \"text-align: left;\">Float64</th></tr></thead><tbody><tr><td class = \"rowNumber\" style = \"font-weight: bold; text-align: right;\">1</td><td style = \"text-align: right;\">1</td><td style = \"text-align: right;\">8936.25</td><td style = \"text-align: right;\">1656.0</td><td style = \"text-align: right;\">5873.34</td><td style = \"text-align: right;\">1538.72</td><td style = \"text-align: right;\">31560.2</td><td style = \"text-align: right;\">0.0</td><td style = \"text-align: right;\">0.0</td><td style = \"text-align: right;\">0.0</td><td style = \"text-align: right;\">0.0</td><td style = \"text-align: right;\">0.0</td><td style = \"text-align: right;\">0.0</td><td style = \"text-align: right;\">172.149</td><td style = \"text-align: right;\">0.0</td><td style = \"text-align: right;\">0.0</td><td style = \"text-align: right;\">0.0</td><td style = \"text-align: right;\">0.0</td><td style = \"text-align: right;\">0.0</td><td style = \"text-align: right;\">0.0</td></tr><tr><td class = \"rowNumber\" style = \"font-weight: bold; text-align: right;\">2</td><td style = \"text-align: right;\">2</td><td style = \"text-align: right;\">8945.57</td><td style = \"text-align: right;\">1656.0</td><td style = \"text-align: right;\">5322.38</td><td style = \"text-align: right;\">1524.98</td><td style = \"text-align: right;\">33571.9</td><td style = \"text-align: right;\">0.0</td><td style = \"text-align: right;\">0.0</td><td style = \"text-align: right;\">0.0</td><td style = \"text-align: right;\">0.0</td><td style = \"text-align: right;\">0.0</td><td style = \"text-align: right;\">0.0</td><td style = \"text-align: right;\">149.347</td><td style = \"text-align: right;\">0.0</td><td style = \"text-align: right;\">0.0</td><td style = \"text-align: right;\">0.0</td><td style = \"text-align: right;\">0.0</td><td style = \"text-align: right;\">0.0</td><td style = \"text-align: right;\">0.0</td></tr><tr><td class = \"rowNumber\" style = \"font-weight: bold; text-align: right;\">3</td><td style = \"text-align: right;\">3</td><td style = \"text-align: right;\">9060.7</td><td style = \"text-align: right;\">1656.0</td><td style = \"text-align: right;\">4967.91</td><td style = \"text-align: right;\">1587.62</td><td style = \"text-align: right;\">34399.0</td><td style = \"text-align: right;\">0.0</td><td style = \"text-align: right;\">0.0</td><td style = \"text-align: right;\">0.0</td><td style = \"text-align: right;\">0.0</td><td style = \"text-align: right;\">0.0</td><td style = \"text-align: right;\">0.0</td><td style = \"text-align: right;\">125.057</td><td style = \"text-align: right;\">0.0</td><td style = \"text-align: right;\">0.0</td><td style = \"text-align: right;\">0.0</td><td style = \"text-align: right;\">0.0</td><td style = \"text-align: right;\">0.0</td><td style = \"text-align: right;\">0.0</td></tr><tr><td class = \"rowNumber\" style = \"font-weight: bold; text-align: right;\">4</td><td style = \"text-align: right;\">4</td><td style = \"text-align: right;\">9183.03</td><td style = \"text-align: right;\">1656.0</td><td style = \"text-align: right;\">4732.58</td><td style = \"text-align: right;\">1637.61</td><td style = \"text-align: right;\">34362.2</td><td style = \"text-align: right;\">0.0</td><td style = \"text-align: right;\">0.0</td><td style = \"text-align: right;\">0.0</td><td style = \"text-align: right;\">0.0</td><td style = \"text-align: right;\">0.0</td><td style = \"text-align: right;\">0.0</td><td style = \"text-align: right;\">115.99</td><td style = \"text-align: right;\">0.0</td><td style = \"text-align: right;\">0.0</td><td style = \"text-align: right;\">0.0</td><td style = \"text-align: right;\">0.0</td><td style = \"text-align: right;\">0.0</td><td style = \"text-align: right;\">0.0</td></tr><tr><td class = \"rowNumber\" style = \"font-weight: bold; text-align: right;\">5</td><td style = \"text-align: right;\">5</td><td style = \"text-align: right;\">9225.89</td><td style = \"text-align: right;\">1656.0</td><td style = \"text-align: right;\">4872.19</td><td style = \"text-align: right;\">1643.44</td><td style = \"text-align: right;\">33737.3</td><td style = \"text-align: right;\">0.0</td><td style = \"text-align: right;\">0.0</td><td style = \"text-align: right;\">0.0</td><td style = \"text-align: right;\">0.0</td><td style = \"text-align: right;\">0.0</td><td style = \"text-align: right;\">0.0</td><td style = \"text-align: right;\">137.66</td><td style = \"text-align: right;\">0.0</td><td style = \"text-align: right;\">0.0</td><td style = \"text-align: right;\">0.0</td><td style = \"text-align: right;\">0.0</td><td style = \"text-align: right;\">0.0</td><td style = \"text-align: right;\">0.0</td></tr><tr><td class = \"rowNumber\" style = \"font-weight: bold; text-align: right;\">6</td><td style = \"text-align: right;\">6</td><td style = \"text-align: right;\">8949.28</td><td style = \"text-align: right;\">1656.0</td><td style = \"text-align: right;\">4627.36</td><td style = \"text-align: right;\">1700.01</td><td style = \"text-align: right;\">35208.1</td><td style = \"text-align: right;\">0.0</td><td style = \"text-align: right;\">0.0</td><td style = \"text-align: right;\">0.0</td><td style = \"text-align: right;\">0.0</td><td style = \"text-align: right;\">0.0</td><td style = \"text-align: right;\">0.0</td><td style = \"text-align: right;\">101.285</td><td style = \"text-align: right;\">0.0</td><td style = \"text-align: right;\">0.0</td><td style = \"text-align: right;\">0.0</td><td style = \"text-align: right;\">0.0</td><td style = \"text-align: right;\">0.0</td><td style = \"text-align: right;\">0.0</td></tr><tr><td class = \"rowNumber\" style = \"font-weight: bold; text-align: right;\">7</td><td style = \"text-align: right;\">7</td><td style = \"text-align: right;\">8971.47</td><td style = \"text-align: right;\">1656.0</td><td style = \"text-align: right;\">4499.78</td><td style = \"text-align: right;\">1685.14</td><td style = \"text-align: right;\">35111.0</td><td style = \"text-align: right;\">0.0</td><td style = \"text-align: right;\">0.0</td><td style = \"text-align: right;\">0.0</td><td style = \"text-align: right;\">0.0</td><td style = \"text-align: right;\">0.0</td><td style = \"text-align: right;\">0.0</td><td style = \"text-align: right;\">212.965</td><td style = \"text-align: right;\">0.0</td><td style = \"text-align: right;\">0.0</td><td style = \"text-align: right;\">0.0</td><td style = \"text-align: right;\">0.0</td><td style = \"text-align: right;\">0.0</td><td style = \"text-align: right;\">0.0</td></tr><tr><td class = \"rowNumber\" style = \"font-weight: bold; text-align: right;\">8</td><td style = \"text-align: right;\">8</td><td style = \"text-align: right;\">9094.82</td><td style = \"text-align: right;\">1656.0</td><td style = \"text-align: right;\">4418.33</td><td style = \"text-align: right;\">1676.48</td><td style = \"text-align: right;\">33453.0</td><td style = \"text-align: right;\">0.0</td><td style = \"text-align: right;\">0.0</td><td style = \"text-align: right;\">0.0</td><td style = \"text-align: right;\">0.0</td><td style = \"text-align: right;\">0.0</td><td style = \"text-align: right;\">0.0</td><td style = \"text-align: right;\">241.33</td><td style = \"text-align: right;\">0.0</td><td style = \"text-align: right;\">0.0</td><td style = \"text-align: right;\">0.0</td><td style = \"text-align: right;\">0.0</td><td style = \"text-align: right;\">0.0</td><td style = \"text-align: right;\">0.0</td></tr><tr><td class = \"rowNumber\" style = \"font-weight: bold; text-align: right;\">9</td><td style = \"text-align: right;\">9</td><td style = \"text-align: right;\">9051.41</td><td style = \"text-align: right;\">1656.0</td><td style = \"text-align: right;\">4486.44</td><td style = \"text-align: right;\">1719.52</td><td style = \"text-align: right;\">33948.3</td><td style = \"text-align: right;\">0.0</td><td style = \"text-align: right;\">0.0</td><td style = \"text-align: right;\">0.0</td><td style = \"text-align: right;\">0.0</td><td style = \"text-align: right;\">0.0</td><td style = \"text-align: right;\">0.0</td><td style = \"text-align: right;\">209.128</td><td style = \"text-align: right;\">0.0</td><td style = \"text-align: right;\">0.0</td><td style = \"text-align: right;\">0.0</td><td style = \"text-align: right;\">0.0</td><td style = \"text-align: right;\">0.0</td><td style = \"text-align: right;\">0.0</td></tr><tr><td class = \"rowNumber\" style = \"font-weight: bold; text-align: right;\">10</td><td style = \"text-align: right;\">10</td><td style = \"text-align: right;\">8925.86</td><td style = \"text-align: right;\">1656.0</td><td style = \"text-align: right;\">4780.01</td><td style = \"text-align: right;\">1658.86</td><td style = \"text-align: right;\">34132.1</td><td style = \"text-align: right;\">0.0</td><td style = \"text-align: right;\">0.0</td><td style = \"text-align: right;\">0.0</td><td style = \"text-align: right;\">0.0</td><td style = \"text-align: right;\">0.0</td><td style = \"text-align: right;\">0.0</td><td style = \"text-align: right;\">188.84</td><td style = \"text-align: right;\">0.0</td><td style = \"text-align: right;\">0.0</td><td style = \"text-align: right;\">0.0</td><td style = \"text-align: right;\">0.0</td><td style = \"text-align: right;\">0.0</td><td style = \"text-align: right;\">0.0</td></tr><tr><td class = \"rowNumber\" style = \"font-weight: bold; text-align: right;\">11</td><td style = \"text-align: right;\">11</td><td style = \"text-align: right;\">9031.1</td><td style = \"text-align: right;\">1656.0</td><td style = \"text-align: right;\">5061.91</td><td style = \"text-align: right;\">1631.04</td><td style = \"text-align: right;\">32818.4</td><td style = \"text-align: right;\">0.0</td><td style = \"text-align: right;\">0.0</td><td style = \"text-align: right;\">0.0</td><td style = \"text-align: right;\">0.0</td><td style = \"text-align: right;\">0.0</td><td style = \"text-align: right;\">0.0</td><td style = \"text-align: right;\">132.113</td><td style = \"text-align: right;\">0.0</td><td style = \"text-align: right;\">0.0</td><td style = \"text-align: right;\">0.0</td><td style = \"text-align: right;\">0.0</td><td style = \"text-align: right;\">0.0</td><td style = \"text-align: right;\">0.0</td></tr><tr><td class = \"rowNumber\" style = \"font-weight: bold; text-align: right;\">12</td><td style = \"text-align: right;\">12</td><td style = \"text-align: right;\">9014.17</td><td style = \"text-align: right;\">1656.0</td><td style = \"text-align: right;\">4703.06</td><td style = \"text-align: right;\">1637.87</td><td style = \"text-align: right;\">33042.1</td><td style = \"text-align: right;\">0.0</td><td style = \"text-align: right;\">0.0</td><td style = \"text-align: right;\">0.0</td><td style = \"text-align: right;\">0.0</td><td style = \"text-align: right;\">0.0</td><td style = \"text-align: right;\">0.0</td><td style = \"text-align: right;\">142.363</td><td style = \"text-align: right;\">0.0</td><td style = \"text-align: right;\">0.0</td><td style = \"text-align: right;\">0.0</td><td style = \"text-align: right;\">0.0</td><td style = \"text-align: right;\">0.0</td><td style = \"text-align: right;\">0.0</td></tr><tr><td class = \"rowNumber\" style = \"font-weight: bold; text-align: right;\">13</td><td style = \"text-align: right;\">13</td><td style = \"text-align: right;\">8904.08</td><td style = \"text-align: right;\">1656.0</td><td style = \"text-align: right;\">4955.05</td><td style = \"text-align: right;\">1582.97</td><td style = \"text-align: right;\">33580.0</td><td style = \"text-align: right;\">0.0</td><td style = \"text-align: right;\">0.0</td><td style = \"text-align: right;\">0.0</td><td style = \"text-align: right;\">0.0</td><td style = \"text-align: right;\">0.0</td><td style = \"text-align: right;\">0.0</td><td style = \"text-align: right;\">100.769</td><td style = \"text-align: right;\">0.0</td><td style = \"text-align: right;\">0.0</td><td style = \"text-align: right;\">0.0</td><td style = \"text-align: right;\">0.0</td><td style = \"text-align: right;\">0.0</td><td style = \"text-align: right;\">0.0</td></tr><tr><td style = \"text-align: right;\">&vellip;</td><td style = \"text-align: right;\">&vellip;</td><td style = \"text-align: right;\">&vellip;</td><td style = \"text-align: right;\">&vellip;</td><td style = \"text-align: right;\">&vellip;</td><td style = \"text-align: right;\">&vellip;</td><td style = \"text-align: right;\">&vellip;</td><td style = \"text-align: right;\">&vellip;</td><td style = \"text-align: right;\">&vellip;</td><td style = \"text-align: right;\">&vellip;</td><td style = \"text-align: right;\">&vellip;</td><td style = \"text-align: right;\">&vellip;</td><td style = \"text-align: right;\">&vellip;</td><td style = \"text-align: right;\">&vellip;</td><td style = \"text-align: right;\">&vellip;</td><td style = \"text-align: right;\">&vellip;</td><td style = \"text-align: right;\">&vellip;</td><td style = \"text-align: right;\">&vellip;</td><td style = \"text-align: right;\">&vellip;</td><td style = \"text-align: right;\">&vellip;</td></tr><tr><td class = \"rowNumber\" style = \"font-weight: bold; text-align: right;\">20</td><td style = \"text-align: right;\">20</td><td style = \"text-align: right;\">8836.11</td><td style = \"text-align: right;\">1656.0</td><td style = \"text-align: right;\">4671.59</td><td style = \"text-align: right;\">1667.67</td><td style = \"text-align: right;\">33341.5</td><td style = \"text-align: right;\">0.0</td><td style = \"text-align: right;\">0.0</td><td style = \"text-align: right;\">0.0</td><td style = \"text-align: right;\">0.0</td><td style = \"text-align: right;\">0.0</td><td style = \"text-align: right;\">0.0</td><td style = \"text-align: right;\">93.2517</td><td style = \"text-align: right;\">0.0</td><td style = \"text-align: right;\">0.0</td><td style = \"text-align: right;\">0.0</td><td style = \"text-align: right;\">0.0</td><td style = \"text-align: right;\">0.0</td><td style = \"text-align: right;\">0.0</td></tr><tr><td class = \"rowNumber\" style = \"font-weight: bold; text-align: right;\">21</td><td style = \"text-align: right;\">21</td><td style = \"text-align: right;\">8743.72</td><td style = \"text-align: right;\">1656.0</td><td style = \"text-align: right;\">5220.64</td><td style = \"text-align: right;\">1617.71</td><td style = \"text-align: right;\">33259.9</td><td style = \"text-align: right;\">0.0</td><td style = \"text-align: right;\">0.0</td><td style = \"text-align: right;\">0.0</td><td style = \"text-align: right;\">0.0</td><td style = \"text-align: right;\">0.0</td><td style = \"text-align: right;\">0.0</td><td style = \"text-align: right;\">123.184</td><td style = \"text-align: right;\">0.0</td><td style = \"text-align: right;\">0.0</td><td style = \"text-align: right;\">0.0</td><td style = \"text-align: right;\">0.0</td><td style = \"text-align: right;\">0.0</td><td style = \"text-align: right;\">0.0</td></tr><tr><td class = \"rowNumber\" style = \"font-weight: bold; text-align: right;\">22</td><td style = \"text-align: right;\">22</td><td style = \"text-align: right;\">8632.34</td><td style = \"text-align: right;\">1656.0</td><td style = \"text-align: right;\">5346.35</td><td style = \"text-align: right;\">1636.06</td><td style = \"text-align: right;\">32728.8</td><td style = \"text-align: right;\">0.0</td><td style = \"text-align: right;\">0.0</td><td style = \"text-align: right;\">0.0</td><td style = \"text-align: right;\">0.0</td><td style = \"text-align: right;\">0.0</td><td style = \"text-align: right;\">0.0</td><td style = \"text-align: right;\">191.875</td><td style = \"text-align: right;\">0.0</td><td style = \"text-align: right;\">0.0</td><td style = \"text-align: right;\">0.0</td><td style = \"text-align: right;\">0.0</td><td style = \"text-align: right;\">0.0</td><td style = \"text-align: right;\">0.0</td></tr><tr><td class = \"rowNumber\" style = \"font-weight: bold; text-align: right;\">23</td><td style = \"text-align: right;\">23</td><td style = \"text-align: right;\">8609.4</td><td style = \"text-align: right;\">1656.0</td><td style = \"text-align: right;\">5420.68</td><td style = \"text-align: right;\">1642.19</td><td style = \"text-align: right;\">32677.3</td><td style = \"text-align: right;\">0.0</td><td style = \"text-align: right;\">0.0</td><td style = \"text-align: right;\">0.0</td><td style = \"text-align: right;\">0.0</td><td style = \"text-align: right;\">0.0</td><td style = \"text-align: right;\">0.0</td><td style = \"text-align: right;\">163.667</td><td style = \"text-align: right;\">0.0</td><td style = \"text-align: right;\">0.0</td><td style = \"text-align: right;\">0.0</td><td style = \"text-align: right;\">0.0</td><td style = \"text-align: right;\">0.0</td><td style = \"text-align: right;\">0.0</td></tr><tr><td class = \"rowNumber\" style = \"font-weight: bold; text-align: right;\">24</td><td style = \"text-align: right;\">24</td><td style = \"text-align: right;\">8628.26</td><td style = \"text-align: right;\">1656.0</td><td style = \"text-align: right;\">5593.99</td><td style = \"text-align: right;\">1594.78</td><td style = \"text-align: right;\">32901.8</td><td style = \"text-align: right;\">0.0</td><td style = \"text-align: right;\">0.0</td><td style = \"text-align: right;\">0.0</td><td style = \"text-align: right;\">0.0</td><td style = \"text-align: right;\">0.0</td><td style = \"text-align: right;\">0.0</td><td style = \"text-align: right;\">249.875</td><td style = \"text-align: right;\">0.0</td><td style = \"text-align: right;\">0.0</td><td style = \"text-align: right;\">0.0</td><td style = \"text-align: right;\">0.0</td><td style = \"text-align: right;\">0.0</td><td style = \"text-align: right;\">0.0</td></tr><tr><td class = \"rowNumber\" style = \"font-weight: bold; text-align: right;\">25</td><td style = \"text-align: right;\">25</td><td style = \"text-align: right;\">8569.84</td><td style = \"text-align: right;\">1656.0</td><td style = \"text-align: right;\">5702.25</td><td style = \"text-align: right;\">1616.58</td><td style = \"text-align: right;\">32667.9</td><td style = \"text-align: right;\">0.0</td><td style = \"text-align: right;\">0.0</td><td style = \"text-align: right;\">0.0</td><td style = \"text-align: right;\">0.0</td><td style = \"text-align: right;\">0.0</td><td style = \"text-align: right;\">0.0</td><td style = \"text-align: right;\">118.309</td><td style = \"text-align: right;\">0.0</td><td style = \"text-align: right;\">0.0</td><td style = \"text-align: right;\">0.0</td><td style = \"text-align: right;\">0.0</td><td style = \"text-align: right;\">0.0</td><td style = \"text-align: right;\">0.0</td></tr><tr><td class = \"rowNumber\" style = \"font-weight: bold; text-align: right;\">26</td><td style = \"text-align: right;\">26</td><td style = \"text-align: right;\">8668.39</td><td style = \"text-align: right;\">1656.0</td><td style = \"text-align: right;\">5770.75</td><td style = \"text-align: right;\">1629.6</td><td style = \"text-align: right;\">33083.7</td><td style = \"text-align: right;\">0.0</td><td style = \"text-align: right;\">0.0</td><td style = \"text-align: right;\">0.0</td><td style = \"text-align: right;\">0.0</td><td style = \"text-align: right;\">0.0</td><td style = \"text-align: right;\">0.0</td><td style = \"text-align: right;\">120.207</td><td style = \"text-align: right;\">0.0</td><td style = \"text-align: right;\">0.0</td><td style = \"text-align: right;\">0.0</td><td style = \"text-align: right;\">0.0</td><td style = \"text-align: right;\">0.0</td><td style = \"text-align: right;\">0.0</td></tr><tr><td class = \"rowNumber\" style = \"font-weight: bold; text-align: right;\">27</td><td style = \"text-align: right;\">27</td><td style = \"text-align: right;\">8636.15</td><td style = \"text-align: right;\">1656.0</td><td style = \"text-align: right;\">6539.15</td><td style = \"text-align: right;\">1613.83</td><td style = \"text-align: right;\">33473.4</td><td style = \"text-align: right;\">0.0</td><td style = \"text-align: right;\">0.0</td><td style = \"text-align: right;\">0.0</td><td style = \"text-align: right;\">0.0</td><td style = \"text-align: right;\">0.0</td><td style = \"text-align: right;\">0.0</td><td style = \"text-align: right;\">142.618</td><td style = \"text-align: right;\">0.0</td><td style = \"text-align: right;\">0.0</td><td style = \"text-align: right;\">0.0</td><td style = \"text-align: right;\">0.0</td><td style = \"text-align: right;\">0.0</td><td style = \"text-align: right;\">0.0</td></tr><tr><td class = \"rowNumber\" style = \"font-weight: bold; text-align: right;\">28</td><td style = \"text-align: right;\">28</td><td style = \"text-align: right;\">8880.25</td><td style = \"text-align: right;\">1656.0</td><td style = \"text-align: right;\">6045.23</td><td style = \"text-align: right;\">1608.67</td><td style = \"text-align: right;\">33477.4</td><td style = \"text-align: right;\">0.0</td><td style = \"text-align: right;\">0.0</td><td style = \"text-align: right;\">0.0</td><td style = \"text-align: right;\">0.0</td><td style = \"text-align: right;\">0.0</td><td style = \"text-align: right;\">0.0</td><td style = \"text-align: right;\">187.102</td><td style = \"text-align: right;\">0.0</td><td style = \"text-align: right;\">0.0</td><td style = \"text-align: right;\">0.0</td><td style = \"text-align: right;\">0.0</td><td style = \"text-align: right;\">0.0</td><td style = \"text-align: right;\">0.0</td></tr><tr><td class = \"rowNumber\" style = \"font-weight: bold; text-align: right;\">29</td><td style = \"text-align: right;\">29</td><td style = \"text-align: right;\">8798.82</td><td style = \"text-align: right;\">1656.0</td><td style = \"text-align: right;\">6192.78</td><td style = \"text-align: right;\">1586.69</td><td style = \"text-align: right;\">32967.4</td><td style = \"text-align: right;\">0.0</td><td style = \"text-align: right;\">0.0</td><td style = \"text-align: right;\">0.0</td><td style = \"text-align: right;\">0.0</td><td style = \"text-align: right;\">0.0</td><td style = \"text-align: right;\">0.0</td><td style = \"text-align: right;\">166.411</td><td style = \"text-align: right;\">0.0</td><td style = \"text-align: right;\">0.0</td><td style = \"text-align: right;\">0.0</td><td style = \"text-align: right;\">0.0</td><td style = \"text-align: right;\">0.0</td><td style = \"text-align: right;\">0.0</td></tr><tr><td class = \"rowNumber\" style = \"font-weight: bold; text-align: right;\">30</td><td style = \"text-align: right;\">30</td><td style = \"text-align: right;\">8566.89</td><td style = \"text-align: right;\">1656.0</td><td style = \"text-align: right;\">5866.68</td><td style = \"text-align: right;\">1618.39</td><td style = \"text-align: right;\">33769.8</td><td style = \"text-align: right;\">0.0</td><td style = \"text-align: right;\">0.0</td><td style = \"text-align: right;\">0.0</td><td style = \"text-align: right;\">0.0</td><td style = \"text-align: right;\">0.0</td><td style = \"text-align: right;\">0.0</td><td style = \"text-align: right;\">158.182</td><td style = \"text-align: right;\">0.0</td><td style = \"text-align: right;\">0.0</td><td style = \"text-align: right;\">0.0</td><td style = \"text-align: right;\">0.0</td><td style = \"text-align: right;\">0.0</td><td style = \"text-align: right;\">0.0</td></tr><tr><td class = \"rowNumber\" style = \"font-weight: bold; text-align: right;\">31</td><td style = \"text-align: right;\">31</td><td style = \"text-align: right;\">8662.81</td><td style = \"text-align: right;\">1656.0</td><td style = \"text-align: right;\">5601.18</td><td style = \"text-align: right;\">1761.08</td><td style = \"text-align: right;\">32711.7</td><td style = \"text-align: right;\">0.0</td><td style = \"text-align: right;\">0.0</td><td style = \"text-align: right;\">0.0</td><td style = \"text-align: right;\">0.0</td><td style = \"text-align: right;\">0.0</td><td style = \"text-align: right;\">0.0</td><td style = \"text-align: right;\">202.527</td><td style = \"text-align: right;\">0.0</td><td style = \"text-align: right;\">0.0</td><td style = \"text-align: right;\">0.0</td><td style = \"text-align: right;\">0.0</td><td style = \"text-align: right;\">0.0</td><td style = \"text-align: right;\">0.0</td></tr></tbody></table></div>"
      ],
      "text/latex": [
       "\\begin{tabular}{r|cccccccc}\n",
       "\t& Day & Hydraulic\\_mean & Bioenergy\\_mean & Wind\\_mean & Solar\\_mean & Nuclear\\_mean & Gas\\_mean & \\\\\n",
       "\t\\hline\n",
       "\t& Int64 & Float64 & Float64 & Float64 & Float64 & Float64 & Float64 & \\\\\n",
       "\t\\hline\n",
       "\t1 & 1 & 8936.25 & 1656.0 & 5873.34 & 1538.72 & 31560.2 & 0.0 & $\\dots$ \\\\\n",
       "\t2 & 2 & 8945.57 & 1656.0 & 5322.38 & 1524.98 & 33571.9 & 0.0 & $\\dots$ \\\\\n",
       "\t3 & 3 & 9060.7 & 1656.0 & 4967.91 & 1587.62 & 34399.0 & 0.0 & $\\dots$ \\\\\n",
       "\t4 & 4 & 9183.03 & 1656.0 & 4732.58 & 1637.61 & 34362.2 & 0.0 & $\\dots$ \\\\\n",
       "\t5 & 5 & 9225.89 & 1656.0 & 4872.19 & 1643.44 & 33737.3 & 0.0 & $\\dots$ \\\\\n",
       "\t6 & 6 & 8949.28 & 1656.0 & 4627.36 & 1700.01 & 35208.1 & 0.0 & $\\dots$ \\\\\n",
       "\t7 & 7 & 8971.47 & 1656.0 & 4499.78 & 1685.14 & 35111.0 & 0.0 & $\\dots$ \\\\\n",
       "\t8 & 8 & 9094.82 & 1656.0 & 4418.33 & 1676.48 & 33453.0 & 0.0 & $\\dots$ \\\\\n",
       "\t9 & 9 & 9051.41 & 1656.0 & 4486.44 & 1719.52 & 33948.3 & 0.0 & $\\dots$ \\\\\n",
       "\t10 & 10 & 8925.86 & 1656.0 & 4780.01 & 1658.86 & 34132.1 & 0.0 & $\\dots$ \\\\\n",
       "\t11 & 11 & 9031.1 & 1656.0 & 5061.91 & 1631.04 & 32818.4 & 0.0 & $\\dots$ \\\\\n",
       "\t12 & 12 & 9014.17 & 1656.0 & 4703.06 & 1637.87 & 33042.1 & 0.0 & $\\dots$ \\\\\n",
       "\t13 & 13 & 8904.08 & 1656.0 & 4955.05 & 1582.97 & 33580.0 & 0.0 & $\\dots$ \\\\\n",
       "\t14 & 14 & 8954.03 & 1656.0 & 5302.53 & 1551.08 & 33047.4 & 0.0 & $\\dots$ \\\\\n",
       "\t15 & 15 & 8950.95 & 1656.0 & 5216.26 & 1582.7 & 32776.5 & 0.0 & $\\dots$ \\\\\n",
       "\t16 & 16 & 8823.8 & 1656.0 & 4854.55 & 1615.17 & 33436.2 & 0.0 & $\\dots$ \\\\\n",
       "\t17 & 17 & 8793.64 & 1656.0 & 4938.15 & 1655.29 & 33387.8 & 0.0 & $\\dots$ \\\\\n",
       "\t18 & 18 & 8661.34 & 1656.0 & 4675.21 & 1719.92 & 33012.6 & 0.0 & $\\dots$ \\\\\n",
       "\t19 & 19 & 8639.13 & 1656.0 & 5089.82 & 1685.19 & 32163.3 & 0.0 & $\\dots$ \\\\\n",
       "\t20 & 20 & 8836.11 & 1656.0 & 4671.59 & 1667.67 & 33341.5 & 0.0 & $\\dots$ \\\\\n",
       "\t21 & 21 & 8743.72 & 1656.0 & 5220.64 & 1617.71 & 33259.9 & 0.0 & $\\dots$ \\\\\n",
       "\t22 & 22 & 8632.34 & 1656.0 & 5346.35 & 1636.06 & 32728.8 & 0.0 & $\\dots$ \\\\\n",
       "\t23 & 23 & 8609.4 & 1656.0 & 5420.68 & 1642.19 & 32677.3 & 0.0 & $\\dots$ \\\\\n",
       "\t24 & 24 & 8628.26 & 1656.0 & 5593.99 & 1594.78 & 32901.8 & 0.0 & $\\dots$ \\\\\n",
       "\t25 & 25 & 8569.84 & 1656.0 & 5702.25 & 1616.58 & 32667.9 & 0.0 & $\\dots$ \\\\\n",
       "\t26 & 26 & 8668.39 & 1656.0 & 5770.75 & 1629.6 & 33083.7 & 0.0 & $\\dots$ \\\\\n",
       "\t27 & 27 & 8636.15 & 1656.0 & 6539.15 & 1613.83 & 33473.4 & 0.0 & $\\dots$ \\\\\n",
       "\t28 & 28 & 8880.25 & 1656.0 & 6045.23 & 1608.67 & 33477.4 & 0.0 & $\\dots$ \\\\\n",
       "\t29 & 29 & 8798.82 & 1656.0 & 6192.78 & 1586.69 & 32967.4 & 0.0 & $\\dots$ \\\\\n",
       "\t30 & 30 & 8566.89 & 1656.0 & 5866.68 & 1618.39 & 33769.8 & 0.0 & $\\dots$ \\\\\n",
       "\t$\\dots$ & $\\dots$ & $\\dots$ & $\\dots$ & $\\dots$ & $\\dots$ & $\\dots$ & $\\dots$ &  \\\\\n",
       "\\end{tabular}\n"
      ],
      "text/plain": [
       "\u001b[1m31×19 DataFrame\n",
       "\u001b[1m Row │\u001b[1m Day   \u001b[1m Hydraulic_mean \u001b[1m Bioenergy_mean \u001b[1m Wind_mean \u001b[1m Solar_mean \u001b[1m Nuclear_m ⋯\n",
       "     │\u001b[90m Int64 \u001b[90m Float64        \u001b[90m Float64        \u001b[90m Float64   \u001b[90m Float64    \u001b[90m Float64   ⋯\n",
       "─────┼──────────────────────────────────────────────────────────────────────────\n",
       "   1 │     1         8936.25          1656.0    5873.34     1538.72       3156 ⋯\n",
       "   2 │     2         8945.57          1656.0    5322.38     1524.98       3357\n",
       "   3 │     3         9060.7           1656.0    4967.91     1587.62       3439\n",
       "   4 │     4         9183.03          1656.0    4732.58     1637.61       3436\n",
       "   5 │     5         9225.89          1656.0    4872.19     1643.44       3373 ⋯\n",
       "   6 │     6         8949.28          1656.0    4627.36     1700.01       3520\n",
       "   7 │     7         8971.47          1656.0    4499.78     1685.14       3511\n",
       "   8 │     8         9094.82          1656.0    4418.33     1676.48       3345\n",
       "   9 │     9         9051.41          1656.0    4486.44     1719.52       3394 ⋯\n",
       "  10 │    10         8925.86          1656.0    4780.01     1658.86       3413\n",
       "  11 │    11         9031.1           1656.0    5061.91     1631.04       3281\n",
       "  ⋮  │   ⋮          ⋮               ⋮             ⋮          ⋮            ⋮    ⋱\n",
       "  22 │    22         8632.34          1656.0    5346.35     1636.06       3272\n",
       "  23 │    23         8609.4           1656.0    5420.68     1642.19       3267 ⋯\n",
       "  24 │    24         8628.26          1656.0    5593.99     1594.78       3290\n",
       "  25 │    25         8569.84          1656.0    5702.25     1616.58       3266\n",
       "  26 │    26         8668.39          1656.0    5770.75     1629.6        3308\n",
       "  27 │    27         8636.15          1656.0    6539.15     1613.83       3347 ⋯\n",
       "  28 │    28         8880.25          1656.0    6045.23     1608.67       3347\n",
       "  29 │    29         8798.82          1656.0    6192.78     1586.69       3296\n",
       "  30 │    30         8566.89          1656.0    5866.68     1618.39       3376\n",
       "  31 │    31         8662.81          1656.0    5601.18     1761.08       3271 ⋯\n",
       "\u001b[36m                                                  14 columns and 10 rows omitted"
      ]
     },
     "execution_count": 31,
     "metadata": {},
     "output_type": "execute_result"
    }
   ],
   "source": [
    "#df_opt_sustainable\n",
    "#daily_total(df_opt_sustainable)\n",
    "daily_average(df_opt_sustainable)"
   ]
  },
  {
   "cell_type": "code",
   "execution_count": 32,
   "metadata": {},
   "outputs": [
    {
     "name": "stdout",
     "output_type": "stream",
     "text": [
      "Mean production of Hydraulic in RTE: 7377.761384335155\n",
      "Mean production of Hydraulic in optimized: 8853.31366120218\n",
      " \n",
      "Mean production of Bioenergy in RTE: 1101.8541666666667\n",
      "Mean production of Bioenergy in optimized: 1656.0\n",
      " \n",
      "Mean production of Wind in RTE: 4519.61327413479\n",
      "Mean production of Wind in optimized: 5197.555265255012\n",
      " \n",
      "Mean production of Solar in RTE: 1418.623235428051\n",
      "Mean production of Solar in optimized: 1631.4167207422583\n",
      " \n",
      "Mean production of Nuclear in RTE: 38161.20446265938\n",
      "Mean production of Nuclear in optimized: 33356.19403176227\n",
      " \n",
      "Mean production of Gas in RTE: 3924.005806010929\n",
      "Mean production of Gas in optimized: 0.0\n",
      " \n",
      "Mean production of Coal in RTE: 155.61236338797815\n",
      "Mean production of Coal in optimized: 0.0\n",
      " \n",
      "Mean production of Fuel in RTE: 105.55265255009107\n",
      "Mean production of Fuel in optimized: 0.0\n",
      " \n"
     ]
    }
   ],
   "source": [
    "# compare mean production values in RTE and optimized\n",
    "for i in 1:size(sources, 1)\n",
    "    println(\"Mean production of \", sources[i], \" in RTE: \", mean(df_baseline[!, Symbol(sources[i])]))\n",
    "    println(\"Mean production of \", sources[i], \" in optimized: \", mean(x_opt_sustainable[:, i]))\n",
    "    println(\" \")\n",
    "end"
   ]
  },
  {
   "cell_type": "code",
   "execution_count": 33,
   "metadata": {},
   "outputs": [
    {
     "name": "stdout",
     "output_type": "stream",
     "text": [
      "Mean import from England in RTE: 186.5127504553734\n",
      "Mean import from England in optimized: 0.0\n",
      " \n",
      "Mean import from Spain in RTE: 653.2940573770492\n",
      "Mean import from Spain in optimized: 0.0\n",
      " \n",
      "Mean import from Italy in RTE: 58.72290528233151\n",
      "Mean import from Italy in optimized: 0.0\n",
      " \n",
      "Mean import from Switzerland in RTE: 145.98827413479052\n",
      "Mean import from Switzerland in optimized: 145.98827413479052\n",
      " \n",
      "Mean import from Germany_Belgium in RTE: 1098.901468579235\n",
      "Mean import from Germany_Belgium in optimized: 0.0\n",
      " \n",
      "Mean export to England in RTE: 1187.4317509107468\n",
      "Mean export to England in optimized: 0.0\n",
      " \n",
      "Mean export to Spain in RTE: 1251.1026867030967\n",
      "Mean export to Spain in optimized: 0.0\n",
      " \n",
      "Mean export to Italy in RTE: 1810.16837431694\n",
      "Mean export to Italy in optimized: 0.0\n",
      " \n",
      "Mean export to Switzerland in RTE: 1647.0419512750454\n",
      "Mean export to Switzerland in optimized: 0.0\n",
      " \n",
      "Mean export to Germany_Belgium in RTE: 1168.8650387067396\n",
      "Mean export to Germany_Belgium in optimized: 0.0\n",
      " \n"
     ]
    }
   ],
   "source": [
    "# same for imports and exports\n",
    "for i in 1:size(neighbors, 1)\n",
    "    println(\"Mean import from \", neighbors[i], \" in RTE: \", mean(df_baseline[!, Symbol(neighbors[i] * \"_import\")]))\n",
    "    println(\"Mean import from \", neighbors[i], \" in optimized: \", mean(y_opt_sustainable[:, i]))\n",
    "    println(\" \")\n",
    "end\n",
    "\n",
    "for i in 1:size(neighbors, 1)\n",
    "    println(\"Mean export to \", neighbors[i], \" in RTE: \", mean(df_baseline[!, Symbol(neighbors[i] * \"_export\")]))\n",
    "    println(\"Mean export to \", neighbors[i], \" in optimized: \", mean(z_opt_sustainable[:, i]))\n",
    "    println(\" \")\n",
    "end"
   ]
  },
  {
   "cell_type": "markdown",
   "metadata": {},
   "source": [
    "same idea, too much tension on hydraulic in first and second results\n",
    "\n",
    "Third results: we do not use solar for beta = 0.2 ; only when we push beta towards 1"
   ]
  },
  {
   "cell_type": "code",
   "execution_count": 37,
   "metadata": {},
   "outputs": [
    {
     "name": "stdout",
     "output_type": "stream",
     "text": [
      "Set parameter Username\n",
      "Academic license - for non-commercial use only - expires 2023-08-18\n",
      "Set parameter Username\n",
      "Academic license - for non-commercial use only - expires 2023-08-18\n",
      "Set parameter Username\n",
      "Academic license - for non-commercial use only - expires 2023-08-18\n",
      "Set parameter Username\n",
      "Academic license - for non-commercial use only - expires 2023-08-18\n",
      "Set parameter Username\n",
      "Academic license - for non-commercial use only - expires 2023-08-18\n",
      "Set parameter Username\n",
      "Academic license - for non-commercial use only - expires 2023-08-18\n",
      "Set parameter Username\n",
      "Academic license - for non-commercial use only - expires 2023-08-18\n",
      "Set parameter Username\n",
      "Academic license - for non-commercial use only - expires 2023-08-18\n",
      "Set parameter Username\n",
      "Academic license - for non-commercial use only - expires 2023-08-18\n",
      "Set parameter Username\n",
      "Academic license - for non-commercial use only - expires 2023-08-18\n",
      "Set parameter Username\n",
      "Academic license - for non-commercial use only - expires 2023-08-18\n",
      "Set parameter Username\n",
      "Academic license - for non-commercial use only - expires 2023-08-18\n",
      "Set parameter Username\n",
      "Academic license - for non-commercial use only - expires 2023-08-18\n",
      "Set parameter Username\n",
      "Academic license - for non-commercial use only - expires 2023-08-18\n",
      "Set parameter Username\n",
      "Academic license - for non-commercial use only - expires 2023-08-18\n",
      "Set parameter Username\n",
      "Academic license - for non-commercial use only - expires 2023-08-18\n",
      "Set parameter Username\n",
      "Academic license - for non-commercial use only - expires 2023-08-18\n",
      "Set parameter Username\n",
      "Academic license - for non-commercial use only - expires 2023-08-18\n",
      "Set parameter Username\n",
      "Academic license - for non-commercial use only - expires 2023-08-18\n",
      "Set parameter Username\n",
      "Academic license - for non-commercial use only - expires 2023-08-18\n",
      "Set parameter Username\n",
      "Academic license - for non-commercial use only - expires 2023-08-18\n",
      "Set parameter Username\n",
      "Academic license - for non-commercial use only - expires 2023-08-18\n",
      "Set parameter Username\n",
      "Academic license - for non-commercial use only - expires 2023-08-18\n",
      "Set parameter Username\n",
      "Academic license - for non-commercial use only - expires 2023-08-18\n",
      "Set parameter Username\n",
      "Academic license - for non-commercial use only - expires 2023-08-18\n",
      "Set parameter Username\n",
      "Academic license - for non-commercial use only - expires 2023-08-18\n",
      "Set parameter Username\n",
      "Academic license - for non-commercial use only - expires 2023-08-18\n",
      "Set parameter Username\n",
      "Academic license - for non-commercial use only - expires 2023-08-18\n",
      "Set parameter Username\n",
      "Academic license - for non-commercial use only - expires 2023-08-18\n",
      "Set parameter Username\n",
      "Academic license - for non-commercial use only - expires 2023-08-18\n"
     ]
    }
   ],
   "source": [
    "# for each beta, compute the production cost, the real_baseline_cost, the total impact and the national impact\n",
    "# and store them in a dataframe\n",
    "betas_df = DataFrame(beta = Float64[], production_cost = Float64[], real_baseline_cost = Float64[], total_impact = Float64[], national_impact = Float64[])\n",
    "# use 10 values of beta between 0 and 1\n",
    "for beta in range(0, 1, length=30)\n",
    "    model = sustainable_optimizer(df_baseline, beta)\n",
    "    # if the model has a solution, store the values\n",
    "    if termination_status(model) == MOI.OPTIMAL\n",
    "        x_opt = value.(model[:x])\n",
    "        y_opt = value.(model[:y])\n",
    "        z_opt = value.(model[:z])\n",
    "        push!(betas_df, (beta, compute_production_cost(x_opt, df_baseline), real_baseline_cost(x_opt, y_opt, z_opt, df_baseline), compute_total_impact(x_opt, y_opt, df_baseline), compute_national_impact(x_opt, y_opt, z_opt, df_baseline)))\n",
    "    end\n",
    "end"
   ]
  },
  {
   "cell_type": "code",
   "execution_count": 40,
   "metadata": {},
   "outputs": [
    {
     "data": {
      "image/svg+xml": "<?xml version=\"1.0\" encoding=\"utf-8\"?>\n<svg xmlns=\"http://www.w3.org/2000/svg\" xmlns:xlink=\"http://www.w3.org/1999/xlink\" width=\"600\" height=\"400\" viewBox=\"0 0 2400 1600\">\n<defs>\n  <clipPath id=\"clip940\">\n    <rect x=\"0\" y=\"0\" width=\"2400\" height=\"1600\"/>\n  </clipPath>\n</defs>\n<path clip-path=\"url(#clip940)\" d=\"\nM0 1600 L2400 1600 L2400 0 L0 0  Z\n  \" fill=\"#ffffff\" fill-rule=\"evenodd\" fill-opacity=\"1\"/>\n<defs>\n  <clipPath id=\"clip941\">\n    <rect x=\"480\" y=\"0\" width=\"1681\" height=\"1600\"/>\n  </clipPath>\n</defs>\n<path clip-path=\"url(#clip940)\" d=\"\nM391.626 1423.18 L2352.76 1423.18 L2352.76 123.472 L391.626 123.472  Z\n  \" fill=\"#ffffff\" fill-rule=\"evenodd\" fill-opacity=\"1\"/>\n<defs>\n  <clipPath id=\"clip942\">\n    <rect x=\"391\" y=\"123\" width=\"1962\" height=\"1301\"/>\n  </clipPath>\n</defs>\n<polyline clip-path=\"url(#clip942)\" style=\"stroke:#000000; stroke-linecap:round; stroke-linejoin:round; stroke-width:2; stroke-opacity:0.1; fill:none\" points=\"\n  447.13,1423.18 447.13,123.472 \n  \"/>\n<polyline clip-path=\"url(#clip942)\" style=\"stroke:#000000; stroke-linecap:round; stroke-linejoin:round; stroke-width:2; stroke-opacity:0.1; fill:none\" points=\"\n  909.66,1423.18 909.66,123.472 \n  \"/>\n<polyline clip-path=\"url(#clip942)\" style=\"stroke:#000000; stroke-linecap:round; stroke-linejoin:round; stroke-width:2; stroke-opacity:0.1; fill:none\" points=\"\n  1372.19,1423.18 1372.19,123.472 \n  \"/>\n<polyline clip-path=\"url(#clip942)\" style=\"stroke:#000000; stroke-linecap:round; stroke-linejoin:round; stroke-width:2; stroke-opacity:0.1; fill:none\" points=\"\n  1834.72,1423.18 1834.72,123.472 \n  \"/>\n<polyline clip-path=\"url(#clip942)\" style=\"stroke:#000000; stroke-linecap:round; stroke-linejoin:round; stroke-width:2; stroke-opacity:0.1; fill:none\" points=\"\n  2297.25,1423.18 2297.25,123.472 \n  \"/>\n<polyline clip-path=\"url(#clip940)\" style=\"stroke:#000000; stroke-linecap:round; stroke-linejoin:round; stroke-width:4; stroke-opacity:1; fill:none\" points=\"\n  391.626,1423.18 2352.76,1423.18 \n  \"/>\n<polyline clip-path=\"url(#clip940)\" style=\"stroke:#000000; stroke-linecap:round; stroke-linejoin:round; stroke-width:4; stroke-opacity:1; fill:none\" points=\"\n  447.13,1423.18 447.13,1404.28 \n  \"/>\n<polyline clip-path=\"url(#clip940)\" style=\"stroke:#000000; stroke-linecap:round; stroke-linejoin:round; stroke-width:4; stroke-opacity:1; fill:none\" points=\"\n  909.66,1423.18 909.66,1404.28 \n  \"/>\n<polyline clip-path=\"url(#clip940)\" style=\"stroke:#000000; stroke-linecap:round; stroke-linejoin:round; stroke-width:4; stroke-opacity:1; fill:none\" points=\"\n  1372.19,1423.18 1372.19,1404.28 \n  \"/>\n<polyline clip-path=\"url(#clip940)\" style=\"stroke:#000000; stroke-linecap:round; stroke-linejoin:round; stroke-width:4; stroke-opacity:1; fill:none\" points=\"\n  1834.72,1423.18 1834.72,1404.28 \n  \"/>\n<polyline clip-path=\"url(#clip940)\" style=\"stroke:#000000; stroke-linecap:round; stroke-linejoin:round; stroke-width:4; stroke-opacity:1; fill:none\" points=\"\n  2297.25,1423.18 2297.25,1404.28 \n  \"/>\n<path clip-path=\"url(#clip940)\" d=\"M409.433 1454.1 Q405.822 1454.1 403.993 1457.66 Q402.188 1461.2 402.188 1468.33 Q402.188 1475.44 403.993 1479.01 Q405.822 1482.55 409.433 1482.55 Q413.067 1482.55 414.873 1479.01 Q416.702 1475.44 416.702 1468.33 Q416.702 1461.2 414.873 1457.66 Q413.067 1454.1 409.433 1454.1 M409.433 1450.39 Q415.243 1450.39 418.299 1455 Q421.378 1459.58 421.378 1468.33 Q421.378 1477.06 418.299 1481.67 Q415.243 1486.25 409.433 1486.25 Q403.623 1486.25 400.544 1481.67 Q397.489 1477.06 397.489 1468.33 Q397.489 1459.58 400.544 1455 Q403.623 1450.39 409.433 1450.39 Z\" fill=\"#000000\" fill-rule=\"evenodd\" fill-opacity=\"1\" /><path clip-path=\"url(#clip940)\" d=\"M429.595 1479.7 L434.479 1479.7 L434.479 1485.58 L429.595 1485.58 L429.595 1479.7 Z\" fill=\"#000000\" fill-rule=\"evenodd\" fill-opacity=\"1\" /><path clip-path=\"url(#clip940)\" d=\"M454.664 1454.1 Q451.053 1454.1 449.225 1457.66 Q447.419 1461.2 447.419 1468.33 Q447.419 1475.44 449.225 1479.01 Q451.053 1482.55 454.664 1482.55 Q458.299 1482.55 460.104 1479.01 Q461.933 1475.44 461.933 1468.33 Q461.933 1461.2 460.104 1457.66 Q458.299 1454.1 454.664 1454.1 M454.664 1450.39 Q460.475 1450.39 463.53 1455 Q466.609 1459.58 466.609 1468.33 Q466.609 1477.06 463.53 1481.67 Q460.475 1486.25 454.664 1486.25 Q448.854 1486.25 445.776 1481.67 Q442.72 1477.06 442.72 1468.33 Q442.72 1459.58 445.776 1455 Q448.854 1450.39 454.664 1450.39 Z\" fill=\"#000000\" fill-rule=\"evenodd\" fill-opacity=\"1\" /><path clip-path=\"url(#clip940)\" d=\"M484.826 1454.1 Q481.215 1454.1 479.386 1457.66 Q477.581 1461.2 477.581 1468.33 Q477.581 1475.44 479.386 1479.01 Q481.215 1482.55 484.826 1482.55 Q488.461 1482.55 490.266 1479.01 Q492.095 1475.44 492.095 1468.33 Q492.095 1461.2 490.266 1457.66 Q488.461 1454.1 484.826 1454.1 M484.826 1450.39 Q490.636 1450.39 493.692 1455 Q496.771 1459.58 496.771 1468.33 Q496.771 1477.06 493.692 1481.67 Q490.636 1486.25 484.826 1486.25 Q479.016 1486.25 475.937 1481.67 Q472.882 1477.06 472.882 1468.33 Q472.882 1459.58 475.937 1455 Q479.016 1450.39 484.826 1450.39 Z\" fill=\"#000000\" fill-rule=\"evenodd\" fill-opacity=\"1\" /><path clip-path=\"url(#clip940)\" d=\"M872.461 1454.1 Q868.85 1454.1 867.022 1457.66 Q865.216 1461.2 865.216 1468.33 Q865.216 1475.44 867.022 1479.01 Q868.85 1482.55 872.461 1482.55 Q876.096 1482.55 877.901 1479.01 Q879.73 1475.44 879.73 1468.33 Q879.73 1461.2 877.901 1457.66 Q876.096 1454.1 872.461 1454.1 M872.461 1450.39 Q878.272 1450.39 881.327 1455 Q884.406 1459.58 884.406 1468.33 Q884.406 1477.06 881.327 1481.67 Q878.272 1486.25 872.461 1486.25 Q866.651 1486.25 863.573 1481.67 Q860.517 1477.06 860.517 1468.33 Q860.517 1459.58 863.573 1455 Q866.651 1450.39 872.461 1450.39 Z\" fill=\"#000000\" fill-rule=\"evenodd\" fill-opacity=\"1\" /><path clip-path=\"url(#clip940)\" d=\"M892.623 1479.7 L897.508 1479.7 L897.508 1485.58 L892.623 1485.58 L892.623 1479.7 Z\" fill=\"#000000\" fill-rule=\"evenodd\" fill-opacity=\"1\" /><path clip-path=\"url(#clip940)\" d=\"M911.721 1481.64 L928.04 1481.64 L928.04 1485.58 L906.096 1485.58 L906.096 1481.64 Q908.758 1478.89 913.341 1474.26 Q917.947 1469.61 919.128 1468.27 Q921.373 1465.74 922.253 1464.01 Q923.156 1462.25 923.156 1460.56 Q923.156 1457.8 921.211 1456.07 Q919.29 1454.33 916.188 1454.33 Q913.989 1454.33 911.535 1455.09 Q909.105 1455.86 906.327 1457.41 L906.327 1452.69 Q909.151 1451.55 911.605 1450.97 Q914.058 1450.39 916.096 1450.39 Q921.466 1450.39 924.66 1453.08 Q927.855 1455.77 927.855 1460.26 Q927.855 1462.39 927.045 1464.31 Q926.257 1466.2 924.151 1468.8 Q923.572 1469.47 920.47 1472.69 Q917.369 1475.88 911.721 1481.64 Z\" fill=\"#000000\" fill-rule=\"evenodd\" fill-opacity=\"1\" /><path clip-path=\"url(#clip940)\" d=\"M937.901 1451.02 L956.257 1451.02 L956.257 1454.96 L942.183 1454.96 L942.183 1463.43 Q943.202 1463.08 944.22 1462.92 Q945.239 1462.73 946.257 1462.73 Q952.044 1462.73 955.424 1465.9 Q958.804 1469.08 958.804 1474.49 Q958.804 1480.07 955.331 1483.17 Q951.859 1486.25 945.54 1486.25 Q943.364 1486.25 941.095 1485.88 Q938.85 1485.51 936.443 1484.77 L936.443 1480.07 Q938.526 1481.2 940.748 1481.76 Q942.97 1482.32 945.447 1482.32 Q949.452 1482.32 951.79 1480.21 Q954.128 1478.1 954.128 1474.49 Q954.128 1470.88 951.79 1468.77 Q949.452 1466.67 945.447 1466.67 Q943.572 1466.67 941.697 1467.08 Q939.845 1467.5 937.901 1468.38 L937.901 1451.02 Z\" fill=\"#000000\" fill-rule=\"evenodd\" fill-opacity=\"1\" /><path clip-path=\"url(#clip940)\" d=\"M1334.49 1454.1 Q1330.88 1454.1 1329.05 1457.66 Q1327.25 1461.2 1327.25 1468.33 Q1327.25 1475.44 1329.05 1479.01 Q1330.88 1482.55 1334.49 1482.55 Q1338.13 1482.55 1339.93 1479.01 Q1341.76 1475.44 1341.76 1468.33 Q1341.76 1461.2 1339.93 1457.66 Q1338.13 1454.1 1334.49 1454.1 M1334.49 1450.39 Q1340.3 1450.39 1343.36 1455 Q1346.44 1459.58 1346.44 1468.33 Q1346.44 1477.06 1343.36 1481.67 Q1340.3 1486.25 1334.49 1486.25 Q1328.68 1486.25 1325.61 1481.67 Q1322.55 1477.06 1322.55 1468.33 Q1322.55 1459.58 1325.61 1455 Q1328.68 1450.39 1334.49 1450.39 Z\" fill=\"#000000\" fill-rule=\"evenodd\" fill-opacity=\"1\" /><path clip-path=\"url(#clip940)\" d=\"M1354.66 1479.7 L1359.54 1479.7 L1359.54 1485.58 L1354.66 1485.58 L1354.66 1479.7 Z\" fill=\"#000000\" fill-rule=\"evenodd\" fill-opacity=\"1\" /><path clip-path=\"url(#clip940)\" d=\"M1369.77 1451.02 L1388.13 1451.02 L1388.13 1454.96 L1374.05 1454.96 L1374.05 1463.43 Q1375.07 1463.08 1376.09 1462.92 Q1377.11 1462.73 1378.13 1462.73 Q1383.92 1462.73 1387.3 1465.9 Q1390.67 1469.08 1390.67 1474.49 Q1390.67 1480.07 1387.2 1483.17 Q1383.73 1486.25 1377.41 1486.25 Q1375.23 1486.25 1372.97 1485.88 Q1370.72 1485.51 1368.31 1484.77 L1368.31 1480.07 Q1370.4 1481.2 1372.62 1481.76 Q1374.84 1482.32 1377.32 1482.32 Q1381.32 1482.32 1383.66 1480.21 Q1386 1478.1 1386 1474.49 Q1386 1470.88 1383.66 1468.77 Q1381.32 1466.67 1377.32 1466.67 Q1375.44 1466.67 1373.57 1467.08 Q1371.72 1467.5 1369.77 1468.38 L1369.77 1451.02 Z\" fill=\"#000000\" fill-rule=\"evenodd\" fill-opacity=\"1\" /><path clip-path=\"url(#clip940)\" d=\"M1409.89 1454.1 Q1406.28 1454.1 1404.45 1457.66 Q1402.64 1461.2 1402.64 1468.33 Q1402.64 1475.44 1404.45 1479.01 Q1406.28 1482.55 1409.89 1482.55 Q1413.52 1482.55 1415.33 1479.01 Q1417.16 1475.44 1417.16 1468.33 Q1417.16 1461.2 1415.33 1457.66 Q1413.52 1454.1 1409.89 1454.1 M1409.89 1450.39 Q1415.7 1450.39 1418.75 1455 Q1421.83 1459.58 1421.83 1468.33 Q1421.83 1477.06 1418.75 1481.67 Q1415.7 1486.25 1409.89 1486.25 Q1404.08 1486.25 1401 1481.67 Q1397.94 1477.06 1397.94 1468.33 Q1397.94 1459.58 1401 1455 Q1404.08 1450.39 1409.89 1450.39 Z\" fill=\"#000000\" fill-rule=\"evenodd\" fill-opacity=\"1\" /><path clip-path=\"url(#clip940)\" d=\"M1797.52 1454.1 Q1793.91 1454.1 1792.08 1457.66 Q1790.28 1461.2 1790.28 1468.33 Q1790.28 1475.44 1792.08 1479.01 Q1793.91 1482.55 1797.52 1482.55 Q1801.16 1482.55 1802.96 1479.01 Q1804.79 1475.44 1804.79 1468.33 Q1804.79 1461.2 1802.96 1457.66 Q1801.16 1454.1 1797.52 1454.1 M1797.52 1450.39 Q1803.33 1450.39 1806.39 1455 Q1809.47 1459.58 1809.47 1468.33 Q1809.47 1477.06 1806.39 1481.67 Q1803.33 1486.25 1797.52 1486.25 Q1791.71 1486.25 1788.63 1481.67 Q1785.58 1477.06 1785.58 1468.33 Q1785.58 1459.58 1788.63 1455 Q1791.71 1450.39 1797.52 1450.39 Z\" fill=\"#000000\" fill-rule=\"evenodd\" fill-opacity=\"1\" /><path clip-path=\"url(#clip940)\" d=\"M1817.68 1479.7 L1822.57 1479.7 L1822.57 1485.58 L1817.68 1485.58 L1817.68 1479.7 Z\" fill=\"#000000\" fill-rule=\"evenodd\" fill-opacity=\"1\" /><path clip-path=\"url(#clip940)\" d=\"M1831.57 1451.02 L1853.8 1451.02 L1853.8 1453.01 L1841.25 1485.58 L1836.37 1485.58 L1848.17 1454.96 L1831.57 1454.96 L1831.57 1451.02 Z\" fill=\"#000000\" fill-rule=\"evenodd\" fill-opacity=\"1\" /><path clip-path=\"url(#clip940)\" d=\"M1862.96 1451.02 L1881.32 1451.02 L1881.32 1454.96 L1867.24 1454.96 L1867.24 1463.43 Q1868.26 1463.08 1869.28 1462.92 Q1870.3 1462.73 1871.32 1462.73 Q1877.11 1462.73 1880.49 1465.9 Q1883.86 1469.08 1883.86 1474.49 Q1883.86 1480.07 1880.39 1483.17 Q1876.92 1486.25 1870.6 1486.25 Q1868.43 1486.25 1866.16 1485.88 Q1863.91 1485.51 1861.5 1484.77 L1861.5 1480.07 Q1863.59 1481.2 1865.81 1481.76 Q1868.03 1482.32 1870.51 1482.32 Q1874.51 1482.32 1876.85 1480.21 Q1879.19 1478.1 1879.19 1474.49 Q1879.19 1470.88 1876.85 1468.77 Q1874.51 1466.67 1870.51 1466.67 Q1868.63 1466.67 1866.76 1467.08 Q1864.91 1467.5 1862.96 1468.38 L1862.96 1451.02 Z\" fill=\"#000000\" fill-rule=\"evenodd\" fill-opacity=\"1\" /><path clip-path=\"url(#clip940)\" d=\"M2249.32 1481.64 L2256.96 1481.64 L2256.96 1455.28 L2248.65 1456.95 L2248.65 1452.69 L2256.92 1451.02 L2261.59 1451.02 L2261.59 1481.64 L2269.23 1481.64 L2269.23 1485.58 L2249.32 1485.58 L2249.32 1481.64 Z\" fill=\"#000000\" fill-rule=\"evenodd\" fill-opacity=\"1\" /><path clip-path=\"url(#clip940)\" d=\"M2278.68 1479.7 L2283.56 1479.7 L2283.56 1485.58 L2278.68 1485.58 L2278.68 1479.7 Z\" fill=\"#000000\" fill-rule=\"evenodd\" fill-opacity=\"1\" /><path clip-path=\"url(#clip940)\" d=\"M2303.75 1454.1 Q2300.13 1454.1 2298.31 1457.66 Q2296.5 1461.2 2296.5 1468.33 Q2296.5 1475.44 2298.31 1479.01 Q2300.13 1482.55 2303.75 1482.55 Q2307.38 1482.55 2309.19 1479.01 Q2311.01 1475.44 2311.01 1468.33 Q2311.01 1461.2 2309.19 1457.66 Q2307.38 1454.1 2303.75 1454.1 M2303.75 1450.39 Q2309.56 1450.39 2312.61 1455 Q2315.69 1459.58 2315.69 1468.33 Q2315.69 1477.06 2312.61 1481.67 Q2309.56 1486.25 2303.75 1486.25 Q2297.94 1486.25 2294.86 1481.67 Q2291.8 1477.06 2291.8 1468.33 Q2291.8 1459.58 2294.86 1455 Q2297.94 1450.39 2303.75 1450.39 Z\" fill=\"#000000\" fill-rule=\"evenodd\" fill-opacity=\"1\" /><path clip-path=\"url(#clip940)\" d=\"M2333.91 1454.1 Q2330.3 1454.1 2328.47 1457.66 Q2326.66 1461.2 2326.66 1468.33 Q2326.66 1475.44 2328.47 1479.01 Q2330.3 1482.55 2333.91 1482.55 Q2337.54 1482.55 2339.35 1479.01 Q2341.18 1475.44 2341.18 1468.33 Q2341.18 1461.2 2339.35 1457.66 Q2337.54 1454.1 2333.91 1454.1 M2333.91 1450.39 Q2339.72 1450.39 2342.77 1455 Q2345.85 1459.58 2345.85 1468.33 Q2345.85 1477.06 2342.77 1481.67 Q2339.72 1486.25 2333.91 1486.25 Q2328.1 1486.25 2325.02 1481.67 Q2321.96 1477.06 2321.96 1468.33 Q2321.96 1459.58 2325.02 1455 Q2328.1 1450.39 2333.91 1450.39 Z\" fill=\"#000000\" fill-rule=\"evenodd\" fill-opacity=\"1\" /><path clip-path=\"url(#clip940)\" d=\"M1330.43 1550.25 Q1330.43 1543.79 1327.76 1540.13 Q1325.12 1536.44 1320.47 1536.44 Q1315.82 1536.44 1313.15 1540.13 Q1310.51 1543.79 1310.51 1550.25 Q1310.51 1556.71 1313.15 1560.4 Q1315.82 1564.07 1320.47 1564.07 Q1325.12 1564.07 1327.76 1560.4 Q1330.43 1556.71 1330.43 1550.25 M1310.51 1537.81 Q1312.35 1534.62 1315.15 1533.1 Q1317.99 1531.54 1321.9 1531.54 Q1328.39 1531.54 1332.44 1536.69 Q1336.51 1541.85 1336.51 1550.25 Q1336.51 1558.65 1332.44 1563.81 Q1328.39 1568.97 1321.9 1568.97 Q1317.99 1568.97 1315.15 1567.44 Q1312.35 1565.88 1310.51 1562.7 L1310.51 1568.04 L1304.62 1568.04 L1304.62 1518.52 L1310.51 1518.52 L1310.51 1537.81 Z\" fill=\"#000000\" fill-rule=\"evenodd\" fill-opacity=\"1\" /><path clip-path=\"url(#clip940)\" d=\"M1376.71 1548.76 L1376.71 1551.62 L1349.78 1551.62 Q1350.17 1557.67 1353.41 1560.85 Q1356.69 1564 1362.52 1564 Q1365.89 1564 1369.04 1563.17 Q1372.22 1562.35 1375.34 1560.69 L1375.34 1566.23 Q1372.19 1567.57 1368.88 1568.27 Q1365.57 1568.97 1362.16 1568.97 Q1353.63 1568.97 1348.64 1564 Q1343.67 1559.04 1343.67 1550.57 Q1343.67 1541.82 1348.38 1536.69 Q1353.13 1531.54 1361.15 1531.54 Q1368.34 1531.54 1372.51 1536.18 Q1376.71 1540.8 1376.71 1548.76 M1370.85 1547.04 Q1370.79 1542.23 1368.15 1539.37 Q1365.54 1536.5 1361.21 1536.5 Q1356.31 1536.5 1353.35 1539.27 Q1350.42 1542.04 1349.97 1547.07 L1370.85 1547.04 Z\" fill=\"#000000\" fill-rule=\"evenodd\" fill-opacity=\"1\" /><path clip-path=\"url(#clip940)\" d=\"M1392.12 1522.27 L1392.12 1532.4 L1404.18 1532.4 L1404.18 1536.95 L1392.12 1536.95 L1392.12 1556.3 Q1392.12 1560.66 1393.29 1561.9 Q1394.5 1563.14 1398.16 1563.14 L1404.18 1563.14 L1404.18 1568.04 L1398.16 1568.04 Q1391.38 1568.04 1388.81 1565.53 Q1386.23 1562.98 1386.23 1556.3 L1386.23 1536.95 L1381.93 1536.95 L1381.93 1532.4 L1386.23 1532.4 L1386.23 1522.27 L1392.12 1522.27 Z\" fill=\"#000000\" fill-rule=\"evenodd\" fill-opacity=\"1\" /><path clip-path=\"url(#clip940)\" d=\"M1428.08 1550.12 Q1420.98 1550.12 1418.25 1551.75 Q1415.51 1553.37 1415.51 1557.29 Q1415.51 1560.4 1417.55 1562.25 Q1419.62 1564.07 1423.15 1564.07 Q1428.02 1564.07 1430.95 1560.63 Q1433.91 1557.16 1433.91 1551.43 L1433.91 1550.12 L1428.08 1550.12 M1439.76 1547.71 L1439.76 1568.04 L1433.91 1568.04 L1433.91 1562.63 Q1431.9 1565.88 1428.91 1567.44 Q1425.92 1568.97 1421.59 1568.97 Q1416.11 1568.97 1412.87 1565.91 Q1409.65 1562.82 1409.65 1557.67 Q1409.65 1551.65 1413.66 1548.6 Q1417.71 1545.54 1425.69 1545.54 L1433.91 1545.54 L1433.91 1544.97 Q1433.91 1540.93 1431.23 1538.73 Q1428.59 1536.5 1423.79 1536.5 Q1420.73 1536.5 1417.83 1537.23 Q1414.94 1537.97 1412.26 1539.43 L1412.26 1534.02 Q1415.48 1532.78 1418.5 1532.17 Q1421.53 1531.54 1424.39 1531.54 Q1432.12 1531.54 1435.94 1535.55 Q1439.76 1539.56 1439.76 1547.71 Z\" fill=\"#000000\" fill-rule=\"evenodd\" fill-opacity=\"1\" /><polyline clip-path=\"url(#clip942)\" style=\"stroke:#000000; stroke-linecap:round; stroke-linejoin:round; stroke-width:2; stroke-opacity:0.1; fill:none\" points=\"\n  391.626,1334.64 2352.76,1334.64 \n  \"/>\n<polyline clip-path=\"url(#clip942)\" style=\"stroke:#000000; stroke-linecap:round; stroke-linejoin:round; stroke-width:2; stroke-opacity:0.1; fill:none\" points=\"\n  391.626,1081.15 2352.76,1081.15 \n  \"/>\n<polyline clip-path=\"url(#clip942)\" style=\"stroke:#000000; stroke-linecap:round; stroke-linejoin:round; stroke-width:2; stroke-opacity:0.1; fill:none\" points=\"\n  391.626,827.664 2352.76,827.664 \n  \"/>\n<polyline clip-path=\"url(#clip942)\" style=\"stroke:#000000; stroke-linecap:round; stroke-linejoin:round; stroke-width:2; stroke-opacity:0.1; fill:none\" points=\"\n  391.626,574.178 2352.76,574.178 \n  \"/>\n<polyline clip-path=\"url(#clip942)\" style=\"stroke:#000000; stroke-linecap:round; stroke-linejoin:round; stroke-width:2; stroke-opacity:0.1; fill:none\" points=\"\n  391.626,320.692 2352.76,320.692 \n  \"/>\n<polyline clip-path=\"url(#clip940)\" style=\"stroke:#000000; stroke-linecap:round; stroke-linejoin:round; stroke-width:4; stroke-opacity:1; fill:none\" points=\"\n  391.626,1423.18 391.626,123.472 \n  \"/>\n<polyline clip-path=\"url(#clip940)\" style=\"stroke:#000000; stroke-linecap:round; stroke-linejoin:round; stroke-width:4; stroke-opacity:1; fill:none\" points=\"\n  391.626,1334.64 410.524,1334.64 \n  \"/>\n<polyline clip-path=\"url(#clip940)\" style=\"stroke:#000000; stroke-linecap:round; stroke-linejoin:round; stroke-width:4; stroke-opacity:1; fill:none\" points=\"\n  391.626,1081.15 410.524,1081.15 \n  \"/>\n<polyline clip-path=\"url(#clip940)\" style=\"stroke:#000000; stroke-linecap:round; stroke-linejoin:round; stroke-width:4; stroke-opacity:1; fill:none\" points=\"\n  391.626,827.664 410.524,827.664 \n  \"/>\n<polyline clip-path=\"url(#clip940)\" style=\"stroke:#000000; stroke-linecap:round; stroke-linejoin:round; stroke-width:4; stroke-opacity:1; fill:none\" points=\"\n  391.626,574.178 410.524,574.178 \n  \"/>\n<polyline clip-path=\"url(#clip940)\" style=\"stroke:#000000; stroke-linecap:round; stroke-linejoin:round; stroke-width:4; stroke-opacity:1; fill:none\" points=\"\n  391.626,320.692 410.524,320.692 \n  \"/>\n<path clip-path=\"url(#clip940)\" d=\"M126.598 1339.22 Q123.45 1339.22 121.598 1341.37 Q119.769 1343.53 119.769 1347.28 Q119.769 1351 121.598 1353.18 Q123.45 1355.33 126.598 1355.33 Q129.746 1355.33 131.575 1353.18 Q133.427 1351 133.427 1347.28 Q133.427 1343.53 131.575 1341.37 Q129.746 1339.22 126.598 1339.22 M135.88 1324.57 L135.88 1328.83 Q134.121 1327.99 132.316 1327.55 Q130.533 1327.11 128.774 1327.11 Q124.144 1327.11 121.691 1330.24 Q119.26 1333.36 118.913 1339.68 Q120.279 1337.67 122.339 1336.61 Q124.399 1335.52 126.876 1335.52 Q132.084 1335.52 135.093 1338.69 Q138.126 1341.84 138.126 1347.28 Q138.126 1352.6 134.978 1355.82 Q131.83 1359.04 126.598 1359.04 Q120.603 1359.04 117.431 1354.45 Q114.26 1349.85 114.26 1341.12 Q114.26 1332.92 118.149 1328.06 Q122.038 1323.18 128.589 1323.18 Q130.348 1323.18 132.13 1323.53 Q133.936 1323.87 135.88 1324.57 Z\" fill=\"#000000\" fill-rule=\"evenodd\" fill-opacity=\"1\" /><path clip-path=\"url(#clip940)\" d=\"M146.181 1352.48 L151.066 1352.48 L151.066 1358.36 L146.181 1358.36 L146.181 1352.48 Z\" fill=\"#000000\" fill-rule=\"evenodd\" fill-opacity=\"1\" /><path clip-path=\"url(#clip940)\" d=\"M161.297 1323.8 L179.653 1323.8 L179.653 1327.74 L165.579 1327.74 L165.579 1336.21 Q166.598 1335.86 167.616 1335.7 Q168.635 1335.52 169.653 1335.52 Q175.44 1335.52 178.82 1338.69 Q182.2 1341.86 182.2 1347.28 Q182.2 1352.86 178.727 1355.96 Q175.255 1359.04 168.936 1359.04 Q166.76 1359.04 164.491 1358.67 Q162.246 1358.3 159.839 1357.55 L159.839 1352.86 Q161.922 1353.99 164.144 1354.55 Q166.366 1355.1 168.843 1355.1 Q172.848 1355.1 175.186 1352.99 Q177.524 1350.89 177.524 1347.28 Q177.524 1343.67 175.186 1341.56 Q172.848 1339.45 168.843 1339.45 Q166.968 1339.45 165.093 1339.87 Q163.241 1340.29 161.297 1341.17 L161.297 1323.8 Z\" fill=\"#000000\" fill-rule=\"evenodd\" fill-opacity=\"1\" /><path clip-path=\"url(#clip940)\" d=\"M201.412 1326.88 Q197.801 1326.88 195.973 1330.45 Q194.167 1333.99 194.167 1341.12 Q194.167 1348.23 195.973 1351.79 Q197.801 1355.33 201.412 1355.33 Q205.047 1355.33 206.852 1351.79 Q208.681 1348.23 208.681 1341.12 Q208.681 1333.99 206.852 1330.45 Q205.047 1326.88 201.412 1326.88 M201.412 1323.18 Q207.223 1323.18 210.278 1327.79 Q213.357 1332.37 213.357 1341.12 Q213.357 1349.85 210.278 1354.45 Q207.223 1359.04 201.412 1359.04 Q195.602 1359.04 192.524 1354.45 Q189.468 1349.85 189.468 1341.12 Q189.468 1332.37 192.524 1327.79 Q195.602 1323.18 201.412 1323.18 Z\" fill=\"#000000\" fill-rule=\"evenodd\" fill-opacity=\"1\" /><path clip-path=\"url(#clip940)\" d=\"M249.746 1332.9 L239.167 1343.53 L249.746 1354.11 L246.991 1356.91 L236.366 1346.28 L225.741 1356.91 L223.01 1354.11 L233.565 1343.53 L223.01 1332.9 L225.741 1330.1 L236.366 1340.73 L246.991 1330.1 L249.746 1332.9 Z\" fill=\"#000000\" fill-rule=\"evenodd\" fill-opacity=\"1\" /><path clip-path=\"url(#clip940)\" d=\"M262.107 1354.43 L269.745 1354.43 L269.745 1328.06 L261.435 1329.73 L261.435 1325.47 L269.699 1323.8 L274.375 1323.8 L274.375 1354.43 L282.014 1354.43 L282.014 1358.36 L262.107 1358.36 L262.107 1354.43 Z\" fill=\"#000000\" fill-rule=\"evenodd\" fill-opacity=\"1\" /><path clip-path=\"url(#clip940)\" d=\"M301.458 1326.88 Q297.847 1326.88 296.018 1330.45 Q294.213 1333.99 294.213 1341.12 Q294.213 1348.23 296.018 1351.79 Q297.847 1355.33 301.458 1355.33 Q305.092 1355.33 306.898 1351.79 Q308.727 1348.23 308.727 1341.12 Q308.727 1333.99 306.898 1330.45 Q305.092 1326.88 301.458 1326.88 M301.458 1323.18 Q307.268 1323.18 310.324 1327.79 Q313.403 1332.37 313.403 1341.12 Q313.403 1349.85 310.324 1354.45 Q307.268 1359.04 301.458 1359.04 Q295.648 1359.04 292.569 1354.45 Q289.514 1349.85 289.514 1341.12 Q289.514 1332.37 292.569 1327.79 Q295.648 1323.18 301.458 1323.18 Z\" fill=\"#000000\" fill-rule=\"evenodd\" fill-opacity=\"1\" /><path clip-path=\"url(#clip940)\" d=\"M313.948 1327.76 L320.155 1327.76 L320.155 1306.33 L313.403 1307.69 L313.403 1304.23 L320.117 1302.87 L323.916 1302.87 L323.916 1327.76 L330.123 1327.76 L330.123 1330.95 L313.948 1330.95 L313.948 1327.76 Z\" fill=\"#000000\" fill-rule=\"evenodd\" fill-opacity=\"1\" /><path clip-path=\"url(#clip940)\" d=\"M345.921 1305.38 Q342.987 1305.38 341.501 1308.27 Q340.034 1311.15 340.034 1316.94 Q340.034 1322.72 341.501 1325.61 Q342.987 1328.49 345.921 1328.49 Q348.874 1328.49 350.341 1325.61 Q351.827 1322.72 351.827 1316.94 Q351.827 1311.15 350.341 1308.27 Q348.874 1305.38 345.921 1305.38 M345.921 1302.37 Q350.642 1302.37 353.125 1306.11 Q355.626 1309.83 355.626 1316.94 Q355.626 1324.03 353.125 1327.78 Q350.642 1331.5 345.921 1331.5 Q341.2 1331.5 338.699 1327.78 Q336.216 1324.03 336.216 1316.94 Q336.216 1309.83 338.699 1306.11 Q341.2 1302.37 345.921 1302.37 Z\" fill=\"#000000\" fill-rule=\"evenodd\" fill-opacity=\"1\" /><path clip-path=\"url(#clip940)\" d=\"M126.598 1085.73 Q123.45 1085.73 121.598 1087.89 Q119.769 1090.04 119.769 1093.79 Q119.769 1097.52 121.598 1099.69 Q123.45 1101.85 126.598 1101.85 Q129.746 1101.85 131.575 1099.69 Q133.427 1097.52 133.427 1093.79 Q133.427 1090.04 131.575 1087.89 Q129.746 1085.73 126.598 1085.73 M135.88 1071.08 L135.88 1075.34 Q134.121 1074.51 132.316 1074.07 Q130.533 1073.63 128.774 1073.63 Q124.144 1073.63 121.691 1076.75 Q119.26 1079.88 118.913 1086.2 Q120.279 1084.18 122.339 1083.12 Q124.399 1082.03 126.876 1082.03 Q132.084 1082.03 135.093 1085.2 Q138.126 1088.35 138.126 1093.79 Q138.126 1099.11 134.978 1102.33 Q131.83 1105.55 126.598 1105.55 Q120.603 1105.55 117.431 1100.97 Q114.26 1096.36 114.26 1087.63 Q114.26 1079.44 118.149 1074.58 Q122.038 1069.69 128.589 1069.69 Q130.348 1069.69 132.13 1070.04 Q133.936 1070.39 135.88 1071.08 Z\" fill=\"#000000\" fill-rule=\"evenodd\" fill-opacity=\"1\" /><path clip-path=\"url(#clip940)\" d=\"M146.181 1099 L151.066 1099 L151.066 1104.88 L146.181 1104.88 L146.181 1099 Z\" fill=\"#000000\" fill-rule=\"evenodd\" fill-opacity=\"1\" /><path clip-path=\"url(#clip940)\" d=\"M171.829 1085.73 Q168.681 1085.73 166.829 1087.89 Q165.001 1090.04 165.001 1093.79 Q165.001 1097.52 166.829 1099.69 Q168.681 1101.85 171.829 1101.85 Q174.977 1101.85 176.806 1099.69 Q178.658 1097.52 178.658 1093.79 Q178.658 1090.04 176.806 1087.89 Q174.977 1085.73 171.829 1085.73 M181.112 1071.08 L181.112 1075.34 Q179.352 1074.51 177.547 1074.07 Q175.764 1073.63 174.005 1073.63 Q169.376 1073.63 166.922 1076.75 Q164.491 1079.88 164.144 1086.2 Q165.51 1084.18 167.57 1083.12 Q169.63 1082.03 172.107 1082.03 Q177.315 1082.03 180.325 1085.2 Q183.357 1088.35 183.357 1093.79 Q183.357 1099.11 180.209 1102.33 Q177.061 1105.55 171.829 1105.55 Q165.834 1105.55 162.663 1100.97 Q159.491 1096.36 159.491 1087.63 Q159.491 1079.44 163.38 1074.58 Q167.269 1069.69 173.82 1069.69 Q175.579 1069.69 177.362 1070.04 Q179.167 1070.39 181.112 1071.08 Z\" fill=\"#000000\" fill-rule=\"evenodd\" fill-opacity=\"1\" /><path clip-path=\"url(#clip940)\" d=\"M201.412 1073.4 Q197.801 1073.4 195.973 1076.96 Q194.167 1080.5 194.167 1087.63 Q194.167 1094.74 195.973 1098.3 Q197.801 1101.85 201.412 1101.85 Q205.047 1101.85 206.852 1098.3 Q208.681 1094.74 208.681 1087.63 Q208.681 1080.5 206.852 1076.96 Q205.047 1073.4 201.412 1073.4 M201.412 1069.69 Q207.223 1069.69 210.278 1074.3 Q213.357 1078.88 213.357 1087.63 Q213.357 1096.36 210.278 1100.97 Q207.223 1105.55 201.412 1105.55 Q195.602 1105.55 192.524 1100.97 Q189.468 1096.36 189.468 1087.63 Q189.468 1078.88 192.524 1074.3 Q195.602 1069.69 201.412 1069.69 Z\" fill=\"#000000\" fill-rule=\"evenodd\" fill-opacity=\"1\" /><path clip-path=\"url(#clip940)\" d=\"M249.746 1079.42 L239.167 1090.04 L249.746 1100.62 L246.991 1103.42 L236.366 1092.79 L225.741 1103.42 L223.01 1100.62 L233.565 1090.04 L223.01 1079.42 L225.741 1076.61 L236.366 1087.24 L246.991 1076.61 L249.746 1079.42 Z\" fill=\"#000000\" fill-rule=\"evenodd\" fill-opacity=\"1\" /><path clip-path=\"url(#clip940)\" d=\"M262.107 1100.94 L269.745 1100.94 L269.745 1074.58 L261.435 1076.24 L261.435 1071.98 L269.699 1070.32 L274.375 1070.32 L274.375 1100.94 L282.014 1100.94 L282.014 1104.88 L262.107 1104.88 L262.107 1100.94 Z\" fill=\"#000000\" fill-rule=\"evenodd\" fill-opacity=\"1\" /><path clip-path=\"url(#clip940)\" d=\"M301.458 1073.4 Q297.847 1073.4 296.018 1076.96 Q294.213 1080.5 294.213 1087.63 Q294.213 1094.74 296.018 1098.3 Q297.847 1101.85 301.458 1101.85 Q305.092 1101.85 306.898 1098.3 Q308.727 1094.74 308.727 1087.63 Q308.727 1080.5 306.898 1076.96 Q305.092 1073.4 301.458 1073.4 M301.458 1069.69 Q307.268 1069.69 310.324 1074.3 Q313.403 1078.88 313.403 1087.63 Q313.403 1096.36 310.324 1100.97 Q307.268 1105.55 301.458 1105.55 Q295.648 1105.55 292.569 1100.97 Q289.514 1096.36 289.514 1087.63 Q289.514 1078.88 292.569 1074.3 Q295.648 1069.69 301.458 1069.69 Z\" fill=\"#000000\" fill-rule=\"evenodd\" fill-opacity=\"1\" /><path clip-path=\"url(#clip940)\" d=\"M313.948 1074.27 L320.155 1074.27 L320.155 1052.85 L313.403 1054.2 L313.403 1050.74 L320.117 1049.39 L323.916 1049.39 L323.916 1074.27 L330.123 1074.27 L330.123 1077.47 L313.948 1077.47 L313.948 1074.27 Z\" fill=\"#000000\" fill-rule=\"evenodd\" fill-opacity=\"1\" /><path clip-path=\"url(#clip940)\" d=\"M345.921 1051.89 Q342.987 1051.89 341.501 1054.79 Q340.034 1057.66 340.034 1063.46 Q340.034 1069.23 341.501 1072.13 Q342.987 1075 345.921 1075 Q348.874 1075 350.341 1072.13 Q351.827 1069.23 351.827 1063.46 Q351.827 1057.66 350.341 1054.79 Q348.874 1051.89 345.921 1051.89 M345.921 1048.88 Q350.642 1048.88 353.125 1052.62 Q355.626 1056.35 355.626 1063.46 Q355.626 1070.55 353.125 1074.29 Q350.642 1078.01 345.921 1078.01 Q341.2 1078.01 338.699 1074.29 Q336.216 1070.55 336.216 1063.46 Q336.216 1056.35 338.699 1052.62 Q341.2 1048.88 345.921 1048.88 Z\" fill=\"#000000\" fill-rule=\"evenodd\" fill-opacity=\"1\" /><path clip-path=\"url(#clip940)\" d=\"M126.598 832.249 Q123.45 832.249 121.598 834.401 Q119.769 836.554 119.769 840.304 Q119.769 844.031 121.598 846.207 Q123.45 848.36 126.598 848.36 Q129.746 848.36 131.575 846.207 Q133.427 844.031 133.427 840.304 Q133.427 836.554 131.575 834.401 Q129.746 832.249 126.598 832.249 M135.88 817.596 L135.88 821.855 Q134.121 821.022 132.316 820.582 Q130.533 820.142 128.774 820.142 Q124.144 820.142 121.691 823.267 Q119.26 826.392 118.913 832.712 Q120.279 830.698 122.339 829.633 Q124.399 828.545 126.876 828.545 Q132.084 828.545 135.093 831.716 Q138.126 834.864 138.126 840.304 Q138.126 845.628 134.978 848.846 Q131.83 852.063 126.598 852.063 Q120.603 852.063 117.431 847.48 Q114.26 842.874 114.26 834.147 Q114.26 825.952 118.149 821.091 Q122.038 816.207 128.589 816.207 Q130.348 816.207 132.13 816.554 Q133.936 816.901 135.88 817.596 Z\" fill=\"#000000\" fill-rule=\"evenodd\" fill-opacity=\"1\" /><path clip-path=\"url(#clip940)\" d=\"M146.181 845.512 L151.066 845.512 L151.066 851.392 L146.181 851.392 L146.181 845.512 Z\" fill=\"#000000\" fill-rule=\"evenodd\" fill-opacity=\"1\" /><path clip-path=\"url(#clip940)\" d=\"M160.07 816.832 L182.292 816.832 L182.292 818.823 L169.746 851.392 L164.862 851.392 L176.667 820.767 L160.07 820.767 L160.07 816.832 Z\" fill=\"#000000\" fill-rule=\"evenodd\" fill-opacity=\"1\" /><path clip-path=\"url(#clip940)\" d=\"M201.412 819.911 Q197.801 819.911 195.973 823.476 Q194.167 827.017 194.167 834.147 Q194.167 841.253 195.973 844.818 Q197.801 848.36 201.412 848.36 Q205.047 848.36 206.852 844.818 Q208.681 841.253 208.681 834.147 Q208.681 827.017 206.852 823.476 Q205.047 819.911 201.412 819.911 M201.412 816.207 Q207.223 816.207 210.278 820.814 Q213.357 825.397 213.357 834.147 Q213.357 842.874 210.278 847.48 Q207.223 852.063 201.412 852.063 Q195.602 852.063 192.524 847.48 Q189.468 842.874 189.468 834.147 Q189.468 825.397 192.524 820.814 Q195.602 816.207 201.412 816.207 Z\" fill=\"#000000\" fill-rule=\"evenodd\" fill-opacity=\"1\" /><path clip-path=\"url(#clip940)\" d=\"M249.746 825.929 L239.167 836.554 L249.746 847.133 L246.991 849.934 L236.366 839.309 L225.741 849.934 L223.01 847.133 L233.565 836.554 L223.01 825.929 L225.741 823.128 L236.366 833.753 L246.991 823.128 L249.746 825.929 Z\" fill=\"#000000\" fill-rule=\"evenodd\" fill-opacity=\"1\" /><path clip-path=\"url(#clip940)\" d=\"M262.107 847.457 L269.745 847.457 L269.745 821.091 L261.435 822.758 L261.435 818.499 L269.699 816.832 L274.375 816.832 L274.375 847.457 L282.014 847.457 L282.014 851.392 L262.107 851.392 L262.107 847.457 Z\" fill=\"#000000\" fill-rule=\"evenodd\" fill-opacity=\"1\" /><path clip-path=\"url(#clip940)\" d=\"M301.458 819.911 Q297.847 819.911 296.018 823.476 Q294.213 827.017 294.213 834.147 Q294.213 841.253 296.018 844.818 Q297.847 848.36 301.458 848.36 Q305.092 848.36 306.898 844.818 Q308.727 841.253 308.727 834.147 Q308.727 827.017 306.898 823.476 Q305.092 819.911 301.458 819.911 M301.458 816.207 Q307.268 816.207 310.324 820.814 Q313.403 825.397 313.403 834.147 Q313.403 842.874 310.324 847.48 Q307.268 852.063 301.458 852.063 Q295.648 852.063 292.569 847.48 Q289.514 842.874 289.514 834.147 Q289.514 825.397 292.569 820.814 Q295.648 816.207 301.458 816.207 Z\" fill=\"#000000\" fill-rule=\"evenodd\" fill-opacity=\"1\" /><path clip-path=\"url(#clip940)\" d=\"M313.948 820.784 L320.155 820.784 L320.155 799.362 L313.403 800.716 L313.403 797.256 L320.117 795.902 L323.916 795.902 L323.916 820.784 L330.123 820.784 L330.123 823.982 L313.948 823.982 L313.948 820.784 Z\" fill=\"#000000\" fill-rule=\"evenodd\" fill-opacity=\"1\" /><path clip-path=\"url(#clip940)\" d=\"M345.921 798.403 Q342.987 798.403 341.501 801.299 Q340.034 804.177 340.034 809.97 Q340.034 815.744 341.501 818.64 Q342.987 821.518 345.921 821.518 Q348.874 821.518 350.341 818.64 Q351.827 815.744 351.827 809.97 Q351.827 804.177 350.341 801.299 Q348.874 798.403 345.921 798.403 M345.921 795.394 Q350.642 795.394 353.125 799.137 Q355.626 802.861 355.626 809.97 Q355.626 817.06 353.125 820.803 Q350.642 824.527 345.921 824.527 Q341.2 824.527 338.699 820.803 Q336.216 817.06 336.216 809.97 Q336.216 802.861 338.699 799.137 Q341.2 795.394 345.921 795.394 Z\" fill=\"#000000\" fill-rule=\"evenodd\" fill-opacity=\"1\" /><path clip-path=\"url(#clip940)\" d=\"M126.598 578.762 Q123.45 578.762 121.598 580.915 Q119.769 583.068 119.769 586.818 Q119.769 590.545 121.598 592.721 Q123.45 594.873 126.598 594.873 Q129.746 594.873 131.575 592.721 Q133.427 590.545 133.427 586.818 Q133.427 583.068 131.575 580.915 Q129.746 578.762 126.598 578.762 M135.88 564.11 L135.88 568.369 Q134.121 567.536 132.316 567.096 Q130.533 566.656 128.774 566.656 Q124.144 566.656 121.691 569.781 Q119.26 572.906 118.913 579.225 Q120.279 577.212 122.339 576.147 Q124.399 575.059 126.876 575.059 Q132.084 575.059 135.093 578.23 Q138.126 581.378 138.126 586.818 Q138.126 592.142 134.978 595.36 Q131.83 598.577 126.598 598.577 Q120.603 598.577 117.431 593.994 Q114.26 589.387 114.26 580.661 Q114.26 572.466 118.149 567.605 Q122.038 562.721 128.589 562.721 Q130.348 562.721 132.13 563.068 Q133.936 563.415 135.88 564.11 Z\" fill=\"#000000\" fill-rule=\"evenodd\" fill-opacity=\"1\" /><path clip-path=\"url(#clip940)\" d=\"M146.181 592.026 L151.066 592.026 L151.066 597.906 L146.181 597.906 L146.181 592.026 Z\" fill=\"#000000\" fill-rule=\"evenodd\" fill-opacity=\"1\" /><path clip-path=\"url(#clip940)\" d=\"M171.251 581.494 Q167.917 581.494 165.996 583.276 Q164.098 585.059 164.098 588.184 Q164.098 591.309 165.996 593.091 Q167.917 594.873 171.251 594.873 Q174.584 594.873 176.505 593.091 Q178.426 591.286 178.426 588.184 Q178.426 585.059 176.505 583.276 Q174.607 581.494 171.251 581.494 M166.575 579.503 Q163.565 578.762 161.876 576.702 Q160.209 574.642 160.209 571.679 Q160.209 567.536 163.149 565.128 Q166.112 562.721 171.251 562.721 Q176.413 562.721 179.352 565.128 Q182.292 567.536 182.292 571.679 Q182.292 574.642 180.602 576.702 Q178.936 578.762 175.95 579.503 Q179.329 580.29 181.204 582.582 Q183.102 584.874 183.102 588.184 Q183.102 593.207 180.024 595.892 Q176.968 598.577 171.251 598.577 Q165.533 598.577 162.454 595.892 Q159.399 593.207 159.399 588.184 Q159.399 584.874 161.297 582.582 Q163.195 580.29 166.575 579.503 M164.862 572.119 Q164.862 574.804 166.528 576.309 Q168.218 577.813 171.251 577.813 Q174.26 577.813 175.95 576.309 Q177.663 574.804 177.663 572.119 Q177.663 569.434 175.95 567.929 Q174.26 566.425 171.251 566.425 Q168.218 566.425 166.528 567.929 Q164.862 569.434 164.862 572.119 Z\" fill=\"#000000\" fill-rule=\"evenodd\" fill-opacity=\"1\" /><path clip-path=\"url(#clip940)\" d=\"M201.412 566.425 Q197.801 566.425 195.973 569.989 Q194.167 573.531 194.167 580.661 Q194.167 587.767 195.973 591.332 Q197.801 594.873 201.412 594.873 Q205.047 594.873 206.852 591.332 Q208.681 587.767 208.681 580.661 Q208.681 573.531 206.852 569.989 Q205.047 566.425 201.412 566.425 M201.412 562.721 Q207.223 562.721 210.278 567.327 Q213.357 571.911 213.357 580.661 Q213.357 589.387 210.278 593.994 Q207.223 598.577 201.412 598.577 Q195.602 598.577 192.524 593.994 Q189.468 589.387 189.468 580.661 Q189.468 571.911 192.524 567.327 Q195.602 562.721 201.412 562.721 Z\" fill=\"#000000\" fill-rule=\"evenodd\" fill-opacity=\"1\" /><path clip-path=\"url(#clip940)\" d=\"M249.746 572.443 L239.167 583.068 L249.746 593.647 L246.991 596.448 L236.366 585.823 L225.741 596.448 L223.01 593.647 L233.565 583.068 L223.01 572.443 L225.741 569.642 L236.366 580.267 L246.991 569.642 L249.746 572.443 Z\" fill=\"#000000\" fill-rule=\"evenodd\" fill-opacity=\"1\" /><path clip-path=\"url(#clip940)\" d=\"M262.107 593.971 L269.745 593.971 L269.745 567.605 L261.435 569.272 L261.435 565.013 L269.699 563.346 L274.375 563.346 L274.375 593.971 L282.014 593.971 L282.014 597.906 L262.107 597.906 L262.107 593.971 Z\" fill=\"#000000\" fill-rule=\"evenodd\" fill-opacity=\"1\" /><path clip-path=\"url(#clip940)\" d=\"M301.458 566.425 Q297.847 566.425 296.018 569.989 Q294.213 573.531 294.213 580.661 Q294.213 587.767 296.018 591.332 Q297.847 594.873 301.458 594.873 Q305.092 594.873 306.898 591.332 Q308.727 587.767 308.727 580.661 Q308.727 573.531 306.898 569.989 Q305.092 566.425 301.458 566.425 M301.458 562.721 Q307.268 562.721 310.324 567.327 Q313.403 571.911 313.403 580.661 Q313.403 589.387 310.324 593.994 Q307.268 598.577 301.458 598.577 Q295.648 598.577 292.569 593.994 Q289.514 589.387 289.514 580.661 Q289.514 571.911 292.569 567.327 Q295.648 562.721 301.458 562.721 Z\" fill=\"#000000\" fill-rule=\"evenodd\" fill-opacity=\"1\" /><path clip-path=\"url(#clip940)\" d=\"M313.948 567.298 L320.155 567.298 L320.155 545.876 L313.403 547.23 L313.403 543.77 L320.117 542.415 L323.916 542.415 L323.916 567.298 L330.123 567.298 L330.123 570.495 L313.948 570.495 L313.948 567.298 Z\" fill=\"#000000\" fill-rule=\"evenodd\" fill-opacity=\"1\" /><path clip-path=\"url(#clip940)\" d=\"M345.921 544.917 Q342.987 544.917 341.501 547.813 Q340.034 550.691 340.034 556.484 Q340.034 562.258 341.501 565.154 Q342.987 568.032 345.921 568.032 Q348.874 568.032 350.341 565.154 Q351.827 562.258 351.827 556.484 Q351.827 550.691 350.341 547.813 Q348.874 544.917 345.921 544.917 M345.921 541.908 Q350.642 541.908 353.125 545.65 Q355.626 549.374 355.626 556.484 Q355.626 563.574 353.125 567.317 Q350.642 571.041 345.921 571.041 Q341.2 571.041 338.699 567.317 Q336.216 563.574 336.216 556.484 Q336.216 549.374 338.699 545.65 Q341.2 541.908 345.921 541.908 Z\" fill=\"#000000\" fill-rule=\"evenodd\" fill-opacity=\"1\" /><path clip-path=\"url(#clip940)\" d=\"M126.598 325.276 Q123.45 325.276 121.598 327.429 Q119.769 329.582 119.769 333.332 Q119.769 337.059 121.598 339.234 Q123.45 341.387 126.598 341.387 Q129.746 341.387 131.575 339.234 Q133.427 337.059 133.427 333.332 Q133.427 329.582 131.575 327.429 Q129.746 325.276 126.598 325.276 M135.88 310.624 L135.88 314.883 Q134.121 314.049 132.316 313.61 Q130.533 313.17 128.774 313.17 Q124.144 313.17 121.691 316.295 Q119.26 319.42 118.913 325.739 Q120.279 323.725 122.339 322.661 Q124.399 321.573 126.876 321.573 Q132.084 321.573 135.093 324.744 Q138.126 327.892 138.126 333.332 Q138.126 338.656 134.978 341.873 Q131.83 345.091 126.598 345.091 Q120.603 345.091 117.431 340.508 Q114.26 335.901 114.26 327.174 Q114.26 318.98 118.149 314.119 Q122.038 309.235 128.589 309.235 Q130.348 309.235 132.13 309.582 Q133.936 309.929 135.88 310.624 Z\" fill=\"#000000\" fill-rule=\"evenodd\" fill-opacity=\"1\" /><path clip-path=\"url(#clip940)\" d=\"M146.181 338.54 L151.066 338.54 L151.066 344.42 L146.181 344.42 L146.181 338.54 Z\" fill=\"#000000\" fill-rule=\"evenodd\" fill-opacity=\"1\" /><path clip-path=\"url(#clip940)\" d=\"M161.39 343.702 L161.39 339.443 Q163.149 340.276 164.954 340.716 Q166.76 341.156 168.496 341.156 Q173.126 341.156 175.556 338.054 Q178.01 334.929 178.357 328.586 Q177.014 330.577 174.954 331.642 Q172.894 332.707 170.394 332.707 Q165.209 332.707 162.177 329.582 Q159.167 326.434 159.167 320.994 Q159.167 315.67 162.315 312.452 Q165.464 309.235 170.695 309.235 Q176.69 309.235 179.839 313.841 Q183.01 318.424 183.01 327.174 Q183.01 335.346 179.121 340.23 Q175.255 345.091 168.704 345.091 Q166.945 345.091 165.14 344.744 Q163.334 344.397 161.39 343.702 M170.695 329.049 Q173.843 329.049 175.672 326.897 Q177.524 324.744 177.524 320.994 Q177.524 317.267 175.672 315.114 Q173.843 312.938 170.695 312.938 Q167.547 312.938 165.695 315.114 Q163.866 317.267 163.866 320.994 Q163.866 324.744 165.695 326.897 Q167.547 329.049 170.695 329.049 Z\" fill=\"#000000\" fill-rule=\"evenodd\" fill-opacity=\"1\" /><path clip-path=\"url(#clip940)\" d=\"M201.412 312.938 Q197.801 312.938 195.973 316.503 Q194.167 320.045 194.167 327.174 Q194.167 334.281 195.973 337.846 Q197.801 341.387 201.412 341.387 Q205.047 341.387 206.852 337.846 Q208.681 334.281 208.681 327.174 Q208.681 320.045 206.852 316.503 Q205.047 312.938 201.412 312.938 M201.412 309.235 Q207.223 309.235 210.278 313.841 Q213.357 318.424 213.357 327.174 Q213.357 335.901 210.278 340.508 Q207.223 345.091 201.412 345.091 Q195.602 345.091 192.524 340.508 Q189.468 335.901 189.468 327.174 Q189.468 318.424 192.524 313.841 Q195.602 309.235 201.412 309.235 Z\" fill=\"#000000\" fill-rule=\"evenodd\" fill-opacity=\"1\" /><path clip-path=\"url(#clip940)\" d=\"M249.746 318.957 L239.167 329.582 L249.746 340.16 L246.991 342.961 L236.366 332.336 L225.741 342.961 L223.01 340.16 L233.565 329.582 L223.01 318.957 L225.741 316.156 L236.366 326.781 L246.991 316.156 L249.746 318.957 Z\" fill=\"#000000\" fill-rule=\"evenodd\" fill-opacity=\"1\" /><path clip-path=\"url(#clip940)\" d=\"M262.107 340.484 L269.745 340.484 L269.745 314.119 L261.435 315.786 L261.435 311.526 L269.699 309.86 L274.375 309.86 L274.375 340.484 L282.014 340.484 L282.014 344.42 L262.107 344.42 L262.107 340.484 Z\" fill=\"#000000\" fill-rule=\"evenodd\" fill-opacity=\"1\" /><path clip-path=\"url(#clip940)\" d=\"M301.458 312.938 Q297.847 312.938 296.018 316.503 Q294.213 320.045 294.213 327.174 Q294.213 334.281 296.018 337.846 Q297.847 341.387 301.458 341.387 Q305.092 341.387 306.898 337.846 Q308.727 334.281 308.727 327.174 Q308.727 320.045 306.898 316.503 Q305.092 312.938 301.458 312.938 M301.458 309.235 Q307.268 309.235 310.324 313.841 Q313.403 318.424 313.403 327.174 Q313.403 335.901 310.324 340.508 Q307.268 345.091 301.458 345.091 Q295.648 345.091 292.569 340.508 Q289.514 335.901 289.514 327.174 Q289.514 318.424 292.569 313.841 Q295.648 309.235 301.458 309.235 Z\" fill=\"#000000\" fill-rule=\"evenodd\" fill-opacity=\"1\" /><path clip-path=\"url(#clip940)\" d=\"M313.948 313.812 L320.155 313.812 L320.155 292.39 L313.403 293.744 L313.403 290.283 L320.117 288.929 L323.916 288.929 L323.916 313.812 L330.123 313.812 L330.123 317.009 L313.948 317.009 L313.948 313.812 Z\" fill=\"#000000\" fill-rule=\"evenodd\" fill-opacity=\"1\" /><path clip-path=\"url(#clip940)\" d=\"M345.921 291.431 Q342.987 291.431 341.501 294.327 Q340.034 297.205 340.034 302.997 Q340.034 308.771 341.501 311.668 Q342.987 314.545 345.921 314.545 Q348.874 314.545 350.341 311.668 Q351.827 308.771 351.827 302.997 Q351.827 297.205 350.341 294.327 Q348.874 291.431 345.921 291.431 M345.921 288.421 Q350.642 288.421 353.125 292.164 Q355.626 295.888 355.626 302.997 Q355.626 310.088 353.125 313.831 Q350.642 317.555 345.921 317.555 Q341.2 317.555 338.699 313.831 Q336.216 310.088 336.216 302.997 Q336.216 295.888 338.699 292.164 Q341.2 288.421 345.921 288.421 Z\" fill=\"#000000\" fill-rule=\"evenodd\" fill-opacity=\"1\" /><path clip-path=\"url(#clip940)\" d=\"M29.7248 810.168 L35.1993 810.168 Q33.8307 812.65 33.1623 815.165 Q32.4621 817.647 32.4621 820.193 Q32.4621 825.891 36.0905 829.042 Q39.6872 832.193 46.212 832.193 Q52.7369 832.193 56.3653 829.042 Q59.9619 825.891 59.9619 820.193 Q59.9619 817.647 59.2935 815.165 Q58.5933 812.65 57.2247 810.168 L62.6355 810.168 Q63.7814 812.618 64.3543 815.26 Q64.9272 817.87 64.9272 820.83 Q64.9272 828.883 59.8664 833.625 Q54.8057 838.368 46.212 838.368 Q37.491 838.368 32.4939 833.593 Q27.4968 828.787 27.4968 820.448 Q27.4968 817.743 28.0697 815.165 Q28.6108 812.586 29.7248 810.168 Z\" fill=\"#000000\" fill-rule=\"evenodd\" fill-opacity=\"1\" /><path clip-path=\"url(#clip940)\" d=\"M32.4621 786.169 Q32.4621 790.879 36.1542 793.617 Q39.8145 796.354 46.212 796.354 Q52.6095 796.354 56.3017 793.649 Q59.9619 790.911 59.9619 786.169 Q59.9619 781.49 56.2698 778.753 Q52.5777 776.015 46.212 776.015 Q39.8781 776.015 36.186 778.753 Q32.4621 781.49 32.4621 786.169 M27.4968 786.169 Q27.4968 778.53 32.4621 774.169 Q37.4273 769.809 46.212 769.809 Q54.9649 769.809 59.9619 774.169 Q64.9272 778.53 64.9272 786.169 Q64.9272 793.839 59.9619 798.2 Q54.9649 802.529 46.212 802.529 Q37.4273 802.529 32.4621 798.2 Q27.4968 793.839 27.4968 786.169 Z\" fill=\"#000000\" fill-rule=\"evenodd\" fill-opacity=\"1\" /><path clip-path=\"url(#clip940)\" d=\"M29.4065 737.376 L34.9447 737.376 Q33.6716 739.858 33.035 742.532 Q32.3984 745.205 32.3984 748.07 Q32.3984 752.431 33.7352 754.627 Q35.072 756.791 37.7456 756.791 Q39.7826 756.791 40.9603 755.231 Q42.1061 753.672 43.1565 748.961 L43.6021 746.956 Q44.9389 740.718 47.3897 738.108 Q49.8086 735.466 54.1691 735.466 Q59.1344 735.466 62.0308 739.413 Q64.9272 743.328 64.9272 750.203 Q64.9272 753.067 64.3543 756.186 Q63.8132 759.274 62.6992 762.711 L56.6518 762.711 Q58.3387 759.465 59.198 756.314 Q60.0256 753.163 60.0256 750.075 Q60.0256 745.938 58.6251 743.71 Q57.1929 741.482 54.6147 741.482 Q52.2276 741.482 50.9545 743.105 Q49.6813 744.696 48.5037 750.139 L48.0262 752.176 Q46.8804 757.619 44.5251 760.038 Q42.138 762.457 38.0002 762.457 Q32.9713 762.457 30.2341 758.892 Q27.4968 755.327 27.4968 748.77 Q27.4968 745.524 27.9743 742.659 Q28.4517 739.795 29.4065 737.376 Z\" fill=\"#000000\" fill-rule=\"evenodd\" fill-opacity=\"1\" /><path clip-path=\"url(#clip940)\" d=\"M18.2347 720.347 L28.3562 720.347 L28.3562 708.284 L32.9077 708.284 L32.9077 720.347 L52.2594 720.347 Q56.6199 720.347 57.8613 719.17 Q59.1026 717.96 59.1026 714.3 L59.1026 708.284 L64.0042 708.284 L64.0042 714.3 Q64.0042 721.079 61.4897 723.658 Q58.9434 726.236 52.2594 726.236 L32.9077 726.236 L32.9077 730.533 L28.3562 730.533 L28.3562 726.236 L18.2347 726.236 L18.2347 720.347 Z\" fill=\"#000000\" fill-rule=\"evenodd\" fill-opacity=\"1\" /><path clip-path=\"url(#clip940)\" d=\"M745.03 16.7545 L745.03 25.383 Q740.898 21.5346 736.199 19.6307 Q731.54 17.7268 726.274 17.7268 Q715.904 17.7268 710.395 24.0867 Q704.886 30.4061 704.886 42.3968 Q704.886 54.3469 710.395 60.7069 Q715.904 67.0263 726.274 67.0263 Q731.54 67.0263 736.199 65.1223 Q740.898 63.2184 745.03 59.3701 L745.03 67.9175 Q740.736 70.8341 735.915 72.2924 Q731.135 73.7508 725.788 73.7508 Q712.056 73.7508 704.156 65.3654 Q696.257 56.9395 696.257 42.3968 Q696.257 27.8135 704.156 19.4281 Q712.056 11.0023 725.788 11.0023 Q731.216 11.0023 735.996 12.4606 Q740.817 13.8784 745.03 16.7545 Z\" fill=\"#000000\" fill-rule=\"evenodd\" fill-opacity=\"1\" /><path clip-path=\"url(#clip940)\" d=\"M774.926 32.4315 Q768.93 32.4315 765.447 37.1306 Q761.963 41.7891 761.963 49.9314 Q761.963 58.0738 765.406 62.7728 Q768.89 67.4314 774.926 67.4314 Q780.88 67.4314 784.364 62.7323 Q787.848 58.0333 787.848 49.9314 Q787.848 41.8701 784.364 37.1711 Q780.88 32.4315 774.926 32.4315 M774.926 26.1121 Q784.648 26.1121 790.198 32.4315 Q795.747 38.7509 795.747 49.9314 Q795.747 61.0714 790.198 67.4314 Q784.648 73.7508 774.926 73.7508 Q765.163 73.7508 759.613 67.4314 Q754.104 61.0714 754.104 49.9314 Q754.104 38.7509 759.613 32.4315 Q765.163 26.1121 774.926 26.1121 Z\" fill=\"#000000\" fill-rule=\"evenodd\" fill-opacity=\"1\" /><path clip-path=\"url(#clip940)\" d=\"M837.026 28.5427 L837.026 35.5912 Q833.866 33.9709 830.464 33.1607 Q827.061 32.3505 823.415 32.3505 Q817.865 32.3505 815.07 34.0519 Q812.316 35.7533 812.316 39.156 Q812.316 41.7486 814.3 43.2475 Q816.285 44.7058 822.281 46.0426 L824.833 46.6097 Q832.773 48.3111 836.094 51.4303 Q839.457 54.509 839.457 60.0587 Q839.457 66.3781 834.433 70.0644 Q829.451 73.7508 820.701 73.7508 Q817.055 73.7508 813.085 73.0216 Q809.156 72.3329 804.781 70.9151 L804.781 63.2184 Q808.913 65.3654 812.923 66.4591 Q816.934 67.5124 820.863 67.5124 Q826.129 67.5124 828.965 65.73 Q831.8 63.9071 831.8 60.6258 Q831.8 57.5877 829.734 55.9673 Q827.709 54.3469 820.782 52.8481 L818.189 52.2405 Q811.262 50.7821 808.184 47.7845 Q805.105 44.7463 805.105 39.4801 Q805.105 33.0797 809.642 29.5959 Q814.179 26.1121 822.524 26.1121 Q826.656 26.1121 830.302 26.7198 Q833.947 27.3274 837.026 28.5427 Z\" fill=\"#000000\" fill-rule=\"evenodd\" fill-opacity=\"1\" /><path clip-path=\"url(#clip940)\" d=\"M858.698 14.324 L858.698 27.2059 L874.051 27.2059 L874.051 32.9987 L858.698 32.9987 L858.698 57.6282 Q858.698 63.1779 860.197 64.7578 Q861.737 66.3376 866.395 66.3376 L874.051 66.3376 L874.051 72.576 L866.395 72.576 Q857.767 72.576 854.485 69.3758 Q851.204 66.1351 851.204 57.6282 L851.204 32.9987 L845.735 32.9987 L845.735 27.2059 L851.204 27.2059 L851.204 14.324 L858.698 14.324 Z\" fill=\"#000000\" fill-rule=\"evenodd\" fill-opacity=\"1\" /><path clip-path=\"url(#clip940)\" d=\"M912.778 28.5427 L912.778 35.5912 Q909.618 33.9709 906.215 33.1607 Q902.813 32.3505 899.167 32.3505 Q893.617 32.3505 890.822 34.0519 Q888.067 35.7533 888.067 39.156 Q888.067 41.7486 890.052 43.2475 Q892.037 44.7058 898.033 46.0426 L900.585 46.6097 Q908.524 48.3111 911.846 51.4303 Q915.208 54.509 915.208 60.0587 Q915.208 66.3781 910.185 70.0644 Q905.203 73.7508 896.453 73.7508 Q892.807 73.7508 888.837 73.0216 Q884.908 72.3329 880.533 70.9151 L880.533 63.2184 Q884.665 65.3654 888.675 66.4591 Q892.685 67.5124 896.615 67.5124 Q901.881 67.5124 904.717 65.73 Q907.552 63.9071 907.552 60.6258 Q907.552 57.5877 905.486 55.9673 Q903.461 54.3469 896.534 52.8481 L893.941 52.2405 Q887.014 50.7821 883.935 47.7845 Q880.857 44.7463 880.857 39.4801 Q880.857 33.0797 885.394 29.5959 Q889.931 26.1121 898.276 26.1121 Q902.408 26.1121 906.053 26.7198 Q909.699 27.3274 912.778 28.5427 Z\" fill=\"#000000\" fill-rule=\"evenodd\" fill-opacity=\"1\" /><path clip-path=\"url(#clip940)\" d=\"M976.418 9.54393 L976.418 15.7418 L969.288 15.7418 Q965.278 15.7418 963.698 17.3622 Q962.158 18.9825 962.158 23.1955 L962.158 27.2059 L974.433 27.2059 L974.433 32.9987 L962.158 32.9987 L962.158 72.576 L954.664 72.576 L954.664 32.9987 L947.535 32.9987 L947.535 27.2059 L954.664 27.2059 L954.664 24.0462 Q954.664 16.471 958.189 13.0277 Q961.713 9.54393 969.369 9.54393 L976.418 9.54393 Z\" fill=\"#000000\" fill-rule=\"evenodd\" fill-opacity=\"1\" /><path clip-path=\"url(#clip940)\" d=\"M1000.24 32.4315 Q994.242 32.4315 990.758 37.1306 Q987.274 41.7891 987.274 49.9314 Q987.274 58.0738 990.717 62.7728 Q994.201 67.4314 1000.24 67.4314 Q1006.19 67.4314 1009.68 62.7323 Q1013.16 58.0333 1013.16 49.9314 Q1013.16 41.8701 1009.68 37.1711 Q1006.19 32.4315 1000.24 32.4315 M1000.24 26.1121 Q1009.96 26.1121 1015.51 32.4315 Q1021.06 38.7509 1021.06 49.9314 Q1021.06 61.0714 1015.51 67.4314 Q1009.96 73.7508 1000.24 73.7508 Q990.474 73.7508 984.925 67.4314 Q979.415 61.0714 979.415 49.9314 Q979.415 38.7509 984.925 32.4315 Q990.474 26.1121 1000.24 26.1121 Z\" fill=\"#000000\" fill-rule=\"evenodd\" fill-opacity=\"1\" /><path clip-path=\"url(#clip940)\" d=\"M1059.7 34.1734 Q1058.45 33.4443 1056.95 33.1202 Q1055.49 32.7556 1053.71 32.7556 Q1047.39 32.7556 1043.99 36.8875 Q1040.62 40.9789 1040.62 48.6757 L1040.62 72.576 L1033.13 72.576 L1033.13 27.2059 L1040.62 27.2059 L1040.62 34.2544 Q1042.97 30.1225 1046.74 28.1376 Q1050.51 26.1121 1055.9 26.1121 Q1056.67 26.1121 1057.6 26.2337 Q1058.53 26.3147 1059.66 26.5172 L1059.7 34.1734 Z\" fill=\"#000000\" fill-rule=\"evenodd\" fill-opacity=\"1\" /><path clip-path=\"url(#clip940)\" d=\"M1123.75 34.0924 L1123.75 9.54393 L1131.2 9.54393 L1131.2 72.576 L1123.75 72.576 L1123.75 65.7705 Q1121.4 69.8214 1117.79 71.8063 Q1114.23 73.7508 1109.21 73.7508 Q1100.98 73.7508 1095.8 67.1883 Q1090.65 60.6258 1090.65 49.9314 Q1090.65 39.2371 1095.8 32.6746 Q1100.98 26.1121 1109.21 26.1121 Q1114.23 26.1121 1117.79 28.0971 Q1121.4 30.0415 1123.75 34.0924 M1098.35 49.9314 Q1098.35 58.1548 1101.71 62.8538 Q1105.11 67.5124 1111.03 67.5124 Q1116.94 67.5124 1120.35 62.8538 Q1123.75 58.1548 1123.75 49.9314 Q1123.75 41.7081 1120.35 37.0496 Q1116.94 32.3505 1111.03 32.3505 Q1105.11 32.3505 1101.71 37.0496 Q1098.35 41.7081 1098.35 49.9314 Z\" fill=\"#000000\" fill-rule=\"evenodd\" fill-opacity=\"1\" /><path clip-path=\"url(#clip940)\" d=\"M1146.56 27.2059 L1154.01 27.2059 L1154.01 72.576 L1146.56 72.576 L1146.56 27.2059 M1146.56 9.54393 L1154.01 9.54393 L1154.01 18.9825 L1146.56 18.9825 L1146.56 9.54393 Z\" fill=\"#000000\" fill-rule=\"evenodd\" fill-opacity=\"1\" /><path clip-path=\"url(#clip940)\" d=\"M1192.57 9.54393 L1192.57 15.7418 L1185.44 15.7418 Q1181.43 15.7418 1179.85 17.3622 Q1178.31 18.9825 1178.31 23.1955 L1178.31 27.2059 L1190.59 27.2059 L1190.59 32.9987 L1178.31 32.9987 L1178.31 72.576 L1170.82 72.576 L1170.82 32.9987 L1163.69 32.9987 L1163.69 27.2059 L1170.82 27.2059 L1170.82 24.0462 Q1170.82 16.471 1174.34 13.0277 Q1177.87 9.54393 1185.53 9.54393 L1192.57 9.54393 Z\" fill=\"#000000\" fill-rule=\"evenodd\" fill-opacity=\"1\" /><path clip-path=\"url(#clip940)\" d=\"M1221.78 9.54393 L1221.78 15.7418 L1214.65 15.7418 Q1210.64 15.7418 1209.06 17.3622 Q1207.52 18.9825 1207.52 23.1955 L1207.52 27.2059 L1219.8 27.2059 L1219.8 32.9987 L1207.52 32.9987 L1207.52 72.576 L1200.03 72.576 L1200.03 32.9987 L1192.9 32.9987 L1192.9 27.2059 L1200.03 27.2059 L1200.03 24.0462 Q1200.03 16.471 1203.55 13.0277 Q1207.08 9.54393 1214.73 9.54393 L1221.78 9.54393 Z\" fill=\"#000000\" fill-rule=\"evenodd\" fill-opacity=\"1\" /><path clip-path=\"url(#clip940)\" d=\"M1266.83 48.0275 L1266.83 51.6733 L1232.56 51.6733 Q1233.04 59.3701 1237.17 63.421 Q1241.35 67.4314 1248.76 67.4314 Q1253.05 67.4314 1257.06 66.3781 Q1261.12 65.3249 1265.09 63.2184 L1265.09 70.267 Q1261.07 71.9684 1256.86 72.8596 Q1252.65 73.7508 1248.31 73.7508 Q1237.46 73.7508 1231.1 67.4314 Q1224.78 61.1119 1224.78 50.3365 Q1224.78 39.1965 1230.77 32.6746 Q1236.81 26.1121 1247.02 26.1121 Q1256.17 26.1121 1261.48 32.0264 Q1266.83 37.9003 1266.83 48.0275 M1259.37 45.84 Q1259.29 39.7232 1255.93 36.0774 Q1252.61 32.4315 1247.1 32.4315 Q1240.86 32.4315 1237.09 35.9558 Q1233.37 39.4801 1232.8 45.8805 L1259.37 45.84 Z\" fill=\"#000000\" fill-rule=\"evenodd\" fill-opacity=\"1\" /><path clip-path=\"url(#clip940)\" d=\"M1305.35 34.1734 Q1304.1 33.4443 1302.6 33.1202 Q1301.14 32.7556 1299.36 32.7556 Q1293.04 32.7556 1289.63 36.8875 Q1286.27 40.9789 1286.27 48.6757 L1286.27 72.576 L1278.78 72.576 L1278.78 27.2059 L1286.27 27.2059 L1286.27 34.2544 Q1288.62 30.1225 1292.39 28.1376 Q1296.16 26.1121 1301.54 26.1121 Q1302.31 26.1121 1303.24 26.2337 Q1304.18 26.3147 1305.31 26.5172 L1305.35 34.1734 Z\" fill=\"#000000\" fill-rule=\"evenodd\" fill-opacity=\"1\" /><path clip-path=\"url(#clip940)\" d=\"M1350.15 48.0275 L1350.15 51.6733 L1315.88 51.6733 Q1316.37 59.3701 1320.5 63.421 Q1324.67 67.4314 1332.09 67.4314 Q1336.38 67.4314 1340.39 66.3781 Q1344.44 65.3249 1348.41 63.2184 L1348.41 70.267 Q1344.4 71.9684 1340.19 72.8596 Q1335.98 73.7508 1331.64 73.7508 Q1320.79 73.7508 1314.43 67.4314 Q1308.11 61.1119 1308.11 50.3365 Q1308.11 39.1965 1314.1 32.6746 Q1320.14 26.1121 1330.35 26.1121 Q1339.5 26.1121 1344.81 32.0264 Q1350.15 37.9003 1350.15 48.0275 M1342.7 45.84 Q1342.62 39.7232 1339.26 36.0774 Q1335.94 32.4315 1330.43 32.4315 Q1324.19 32.4315 1320.42 35.9558 Q1316.69 39.4801 1316.13 45.8805 L1342.7 45.84 Z\" fill=\"#000000\" fill-rule=\"evenodd\" fill-opacity=\"1\" /><path clip-path=\"url(#clip940)\" d=\"M1400.1 45.1919 L1400.1 72.576 L1392.65 72.576 L1392.65 45.4349 Q1392.65 38.994 1390.14 35.7938 Q1387.62 32.5936 1382.6 32.5936 Q1376.57 32.5936 1373.08 36.4419 Q1369.6 40.2903 1369.6 46.9338 L1369.6 72.576 L1362.1 72.576 L1362.1 27.2059 L1369.6 27.2059 L1369.6 34.2544 Q1372.27 30.163 1375.88 28.1376 Q1379.52 26.1121 1384.26 26.1121 Q1392.08 26.1121 1396.09 30.9732 Q1400.1 35.7938 1400.1 45.1919 Z\" fill=\"#000000\" fill-rule=\"evenodd\" fill-opacity=\"1\" /><path clip-path=\"url(#clip940)\" d=\"M1422.34 14.324 L1422.34 27.2059 L1437.69 27.2059 L1437.69 32.9987 L1422.34 32.9987 L1422.34 57.6282 Q1422.34 63.1779 1423.84 64.7578 Q1425.38 66.3376 1430.04 66.3376 L1437.69 66.3376 L1437.69 72.576 L1430.04 72.576 Q1421.41 72.576 1418.13 69.3758 Q1414.85 66.1351 1414.85 57.6282 L1414.85 32.9987 L1409.38 32.9987 L1409.38 27.2059 L1414.85 27.2059 L1414.85 14.324 L1422.34 14.324 Z\" fill=\"#000000\" fill-rule=\"evenodd\" fill-opacity=\"1\" /><path clip-path=\"url(#clip940)\" d=\"M1468.52 27.2059 L1476.42 27.2059 L1490.6 65.2844 L1504.78 27.2059 L1512.68 27.2059 L1495.66 72.576 L1485.54 72.576 L1468.52 27.2059 Z\" fill=\"#000000\" fill-rule=\"evenodd\" fill-opacity=\"1\" /><path clip-path=\"url(#clip940)\" d=\"M1543.58 49.7694 Q1534.55 49.7694 1531.07 51.8354 Q1527.58 53.9013 1527.58 58.8839 Q1527.58 62.8538 1530.18 65.2034 Q1532.81 67.5124 1537.31 67.5124 Q1543.5 67.5124 1547.23 63.1374 Q1551 58.7219 1551 51.4303 L1551 49.7694 L1543.58 49.7694 M1558.45 46.6907 L1558.45 72.576 L1551 72.576 L1551 65.6895 Q1548.45 69.8214 1544.64 71.8063 Q1540.83 73.7508 1535.32 73.7508 Q1528.35 73.7508 1524.22 69.8619 Q1520.13 65.9325 1520.13 59.3701 Q1520.13 51.7138 1525.23 47.825 Q1530.38 43.9361 1540.55 43.9361 L1551 43.9361 L1551 43.2069 Q1551 38.0623 1547.6 35.2672 Q1544.23 32.4315 1538.12 32.4315 Q1534.23 32.4315 1530.54 33.3632 Q1526.85 34.295 1523.45 36.1584 L1523.45 29.2718 Q1527.54 27.692 1531.39 26.9223 Q1535.24 26.1121 1538.89 26.1121 Q1548.73 26.1121 1553.59 31.2163 Q1558.45 36.3204 1558.45 46.6907 Z\" fill=\"#000000\" fill-rule=\"evenodd\" fill-opacity=\"1\" /><path clip-path=\"url(#clip940)\" d=\"M1573.8 9.54393 L1581.26 9.54393 L1581.26 72.576 L1573.8 72.576 L1573.8 9.54393 Z\" fill=\"#000000\" fill-rule=\"evenodd\" fill-opacity=\"1\" /><path clip-path=\"url(#clip940)\" d=\"M1596.08 54.671 L1596.08 27.2059 L1603.54 27.2059 L1603.54 54.3874 Q1603.54 60.8284 1606.05 64.0691 Q1608.56 67.2693 1613.58 67.2693 Q1619.62 67.2693 1623.1 63.421 Q1626.63 59.5726 1626.63 52.9291 L1626.63 27.2059 L1634.08 27.2059 L1634.08 72.576 L1626.63 72.576 L1626.63 65.6084 Q1623.91 69.7404 1620.31 71.7658 Q1616.74 73.7508 1612 73.7508 Q1604.19 73.7508 1600.14 68.8897 Q1596.08 64.0286 1596.08 54.671 M1614.84 26.1121 L1614.84 26.1121 Z\" fill=\"#000000\" fill-rule=\"evenodd\" fill-opacity=\"1\" /><path clip-path=\"url(#clip940)\" d=\"M1688.24 48.0275 L1688.24 51.6733 L1653.97 51.6733 Q1654.46 59.3701 1658.59 63.421 Q1662.76 67.4314 1670.18 67.4314 Q1674.47 67.4314 1678.48 66.3781 Q1682.53 65.3249 1686.5 63.2184 L1686.5 70.267 Q1682.49 71.9684 1678.28 72.8596 Q1674.06 73.7508 1669.73 73.7508 Q1658.87 73.7508 1652.51 67.4314 Q1646.19 61.1119 1646.19 50.3365 Q1646.19 39.1965 1652.19 32.6746 Q1658.23 26.1121 1668.43 26.1121 Q1677.59 26.1121 1682.9 32.0264 Q1688.24 37.9003 1688.24 48.0275 M1680.79 45.84 Q1680.71 39.7232 1677.35 36.0774 Q1674.02 32.4315 1668.51 32.4315 Q1662.28 32.4315 1658.51 35.9558 Q1654.78 39.4801 1654.21 45.8805 L1680.79 45.84 Z\" fill=\"#000000\" fill-rule=\"evenodd\" fill-opacity=\"1\" /><path clip-path=\"url(#clip940)\" d=\"M1729.4 28.5427 L1729.4 35.5912 Q1726.24 33.9709 1722.84 33.1607 Q1719.43 32.3505 1715.79 32.3505 Q1710.24 32.3505 1707.44 34.0519 Q1704.69 35.7533 1704.69 39.156 Q1704.69 41.7486 1706.67 43.2475 Q1708.66 44.7058 1714.65 46.0426 L1717.21 46.6097 Q1725.15 48.3111 1728.47 51.4303 Q1731.83 54.509 1731.83 60.0587 Q1731.83 66.3781 1726.81 70.0644 Q1721.82 73.7508 1713.07 73.7508 Q1709.43 73.7508 1705.46 73.0216 Q1701.53 72.3329 1697.15 70.9151 L1697.15 63.2184 Q1701.29 65.3654 1705.3 66.4591 Q1709.31 67.5124 1713.24 67.5124 Q1718.5 67.5124 1721.34 65.73 Q1724.17 63.9071 1724.17 60.6258 Q1724.17 57.5877 1722.11 55.9673 Q1720.08 54.3469 1713.16 52.8481 L1710.56 52.2405 Q1703.64 50.7821 1700.56 47.7845 Q1697.48 44.7463 1697.48 39.4801 Q1697.48 33.0797 1702.02 29.5959 Q1706.55 26.1121 1714.9 26.1121 Q1719.03 26.1121 1722.68 26.7198 Q1726.32 27.3274 1729.4 28.5427 Z\" fill=\"#000000\" fill-rule=\"evenodd\" fill-opacity=\"1\" /><path clip-path=\"url(#clip940)\" d=\"M1787.65 32.4315 Q1781.66 32.4315 1778.17 37.1306 Q1774.69 41.7891 1774.69 49.9314 Q1774.69 58.0738 1778.13 62.7728 Q1781.62 67.4314 1787.65 67.4314 Q1793.61 67.4314 1797.09 62.7323 Q1800.57 58.0333 1800.57 49.9314 Q1800.57 41.8701 1797.09 37.1711 Q1793.61 32.4315 1787.65 32.4315 M1787.65 26.1121 Q1797.37 26.1121 1802.92 32.4315 Q1808.47 38.7509 1808.47 49.9314 Q1808.47 61.0714 1802.92 67.4314 Q1797.37 73.7508 1787.65 73.7508 Q1777.89 73.7508 1772.34 67.4314 Q1766.83 61.0714 1766.83 49.9314 Q1766.83 38.7509 1772.34 32.4315 Q1777.89 26.1121 1787.65 26.1121 Z\" fill=\"#000000\" fill-rule=\"evenodd\" fill-opacity=\"1\" /><path clip-path=\"url(#clip940)\" d=\"M1843.8 9.54393 L1843.8 15.7418 L1836.67 15.7418 Q1832.66 15.7418 1831.08 17.3622 Q1829.54 18.9825 1829.54 23.1955 L1829.54 27.2059 L1841.81 27.2059 L1841.81 32.9987 L1829.54 32.9987 L1829.54 72.576 L1822.04 72.576 L1822.04 32.9987 L1814.91 32.9987 L1814.91 27.2059 L1822.04 27.2059 L1822.04 24.0462 Q1822.04 16.471 1825.57 13.0277 Q1829.09 9.54393 1836.75 9.54393 L1843.8 9.54393 Z\" fill=\"#000000\" fill-rule=\"evenodd\" fill-opacity=\"1\" /><path clip-path=\"url(#clip940)\" d=\"M1908.98 49.9314 Q1908.98 41.7081 1905.57 37.0496 Q1902.21 32.3505 1896.3 32.3505 Q1890.38 32.3505 1886.98 37.0496 Q1883.62 41.7081 1883.62 49.9314 Q1883.62 58.1548 1886.98 62.8538 Q1890.38 67.5124 1896.3 67.5124 Q1902.21 67.5124 1905.57 62.8538 Q1908.98 58.1548 1908.98 49.9314 M1883.62 34.0924 Q1885.97 30.0415 1889.53 28.0971 Q1893.14 26.1121 1898.12 26.1121 Q1906.38 26.1121 1911.53 32.6746 Q1916.71 39.2371 1916.71 49.9314 Q1916.71 60.6258 1911.53 67.1883 Q1906.38 73.7508 1898.12 73.7508 Q1893.14 73.7508 1889.53 71.8063 Q1885.97 69.8214 1883.62 65.7705 L1883.62 72.576 L1876.12 72.576 L1876.12 9.54393 L1883.62 9.54393 L1883.62 34.0924 Z\" fill=\"#000000\" fill-rule=\"evenodd\" fill-opacity=\"1\" /><path clip-path=\"url(#clip940)\" d=\"M1967.88 48.0275 L1967.88 51.6733 L1933.61 51.6733 Q1934.09 59.3701 1938.22 63.421 Q1942.4 67.4314 1949.81 67.4314 Q1954.1 67.4314 1958.11 66.3781 Q1962.16 65.3249 1966.13 63.2184 L1966.13 70.267 Q1962.12 71.9684 1957.91 72.8596 Q1953.7 73.7508 1949.36 73.7508 Q1938.51 73.7508 1932.15 67.4314 Q1925.83 61.1119 1925.83 50.3365 Q1925.83 39.1965 1931.82 32.6746 Q1937.86 26.1121 1948.07 26.1121 Q1957.22 26.1121 1962.53 32.0264 Q1967.88 37.9003 1967.88 48.0275 M1960.42 45.84 Q1960.34 39.7232 1956.98 36.0774 Q1953.66 32.4315 1948.15 32.4315 Q1941.91 32.4315 1938.14 35.9558 Q1934.42 39.4801 1933.85 45.8805 L1960.42 45.84 Z\" fill=\"#000000\" fill-rule=\"evenodd\" fill-opacity=\"1\" /><path clip-path=\"url(#clip940)\" d=\"M1987.48 14.324 L1987.48 27.2059 L2002.84 27.2059 L2002.84 32.9987 L1987.48 32.9987 L1987.48 57.6282 Q1987.48 63.1779 1988.98 64.7578 Q1990.52 66.3376 1995.18 66.3376 L2002.84 66.3376 L2002.84 72.576 L1995.18 72.576 Q1986.55 72.576 1983.27 69.3758 Q1979.99 66.1351 1979.99 57.6282 L1979.99 32.9987 L1974.52 32.9987 L1974.52 27.2059 L1979.99 27.2059 L1979.99 14.324 L1987.48 14.324 Z\" fill=\"#000000\" fill-rule=\"evenodd\" fill-opacity=\"1\" /><path clip-path=\"url(#clip940)\" d=\"M2033.26 49.7694 Q2024.22 49.7694 2020.74 51.8354 Q2017.26 53.9013 2017.26 58.8839 Q2017.26 62.8538 2019.85 65.2034 Q2022.48 67.5124 2026.98 67.5124 Q2033.18 67.5124 2036.9 63.1374 Q2040.67 58.7219 2040.67 51.4303 L2040.67 49.7694 L2033.26 49.7694 M2048.12 46.6907 L2048.12 72.576 L2040.67 72.576 L2040.67 65.6895 Q2038.12 69.8214 2034.31 71.8063 Q2030.5 73.7508 2024.99 73.7508 Q2018.03 73.7508 2013.89 69.8619 Q2009.8 65.9325 2009.8 59.3701 Q2009.8 51.7138 2014.91 47.825 Q2020.05 43.9361 2030.22 43.9361 L2040.67 43.9361 L2040.67 43.2069 Q2040.67 38.0623 2037.27 35.2672 Q2033.91 32.4315 2027.79 32.4315 Q2023.9 32.4315 2020.21 33.3632 Q2016.53 34.295 2013.13 36.1584 L2013.13 29.2718 Q2017.22 27.692 2021.06 26.9223 Q2024.91 26.1121 2028.56 26.1121 Q2038.4 26.1121 2043.26 31.2163 Q2048.12 36.3204 2048.12 46.6907 Z\" fill=\"#000000\" fill-rule=\"evenodd\" fill-opacity=\"1\" /><polyline clip-path=\"url(#clip942)\" style=\"stroke:#009af9; stroke-linecap:round; stroke-linejoin:round; stroke-width:4; stroke-opacity:1; fill:none\" points=\"\n  447.13,795.97 510.927,1008.26 574.724,1105.12 638.522,1039.19 702.319,918.011 766.116,923.075 829.914,902.353 893.711,894.874 957.508,870.721 1021.31,867.535 \n  1085.1,833.131 1148.9,810.233 1212.7,780.802 1276.49,746.67 1340.29,739.892 1404.09,725.168 1467.89,716.169 1531.68,702.81 1595.48,691.279 1659.28,682.1 \n  1723.08,648.034 1786.87,620.248 1850.67,575.046 1914.47,476.091 1978.27,390.19 2042.06,242.057 2105.86,211.579 2169.66,211.579 2233.45,211.579 2297.25,211.579 \n  \n  \"/>\n<polyline clip-path=\"url(#clip942)\" style=\"stroke:#e26f46; stroke-linecap:round; stroke-linejoin:round; stroke-width:4; stroke-opacity:1; fill:none\" points=\"\n  447.13,1386.4 510.927,1334.49 574.724,1272.52 638.522,1110.54 702.319,967.443 766.116,928.168 829.914,878.415 893.711,850.492 957.508,820.067 1021.31,816.237 \n  1085.1,781.809 1148.9,758.911 1212.7,729.48 1276.49,695.348 1340.29,688.57 1404.09,673.846 1467.89,664.846 1531.68,651.488 1595.48,639.957 1659.28,630.777 \n  1723.08,596.712 1786.87,568.926 1850.67,523.724 1914.47,424.768 1978.27,338.868 2042.06,190.735 2105.86,160.256 2169.66,160.256 2233.45,160.256 2297.25,160.256 \n  \n  \"/>\n<path clip-path=\"url(#clip940)\" d=\"\nM456.997 322.316 L1034.76 322.316 L1034.76 166.796 L456.997 166.796  Z\n  \" fill=\"#ffffff\" fill-rule=\"evenodd\" fill-opacity=\"1\"/>\n<polyline clip-path=\"url(#clip940)\" style=\"stroke:#000000; stroke-linecap:round; stroke-linejoin:round; stroke-width:4; stroke-opacity:1; fill:none\" points=\"\n  456.997,322.316 1034.76,322.316 1034.76,166.796 456.997,166.796 456.997,322.316 \n  \"/>\n<polyline clip-path=\"url(#clip940)\" style=\"stroke:#009af9; stroke-linecap:round; stroke-linejoin:round; stroke-width:4; stroke-opacity:1; fill:none\" points=\"\n  478.787,218.636 609.529,218.636 \n  \"/>\n<path clip-path=\"url(#clip940)\" d=\"M635.996 205.198 L635.996 218.184 L641.875 218.184 Q645.139 218.184 646.921 216.495 Q648.704 214.805 648.704 211.68 Q648.704 208.578 646.921 206.888 Q645.139 205.198 641.875 205.198 L635.996 205.198 M631.32 201.356 L641.875 201.356 Q647.685 201.356 650.648 203.995 Q653.634 206.61 653.634 211.68 Q653.634 216.795 650.648 219.411 Q647.685 222.027 641.875 222.027 L635.996 222.027 L635.996 235.916 L631.32 235.916 L631.32 201.356 Z\" fill=\"#000000\" fill-rule=\"evenodd\" fill-opacity=\"1\" /><path clip-path=\"url(#clip940)\" d=\"M673.912 213.971 Q673.194 213.555 672.338 213.37 Q671.505 213.161 670.486 213.161 Q666.875 213.161 664.931 215.522 Q663.009 217.86 663.009 222.258 L663.009 235.916 L658.727 235.916 L658.727 209.99 L663.009 209.99 L663.009 214.018 Q664.352 211.657 666.505 210.522 Q668.657 209.365 671.736 209.365 Q672.176 209.365 672.708 209.434 Q673.241 209.481 673.889 209.596 L673.912 213.971 Z\" fill=\"#000000\" fill-rule=\"evenodd\" fill-opacity=\"1\" /><path clip-path=\"url(#clip940)\" d=\"M687.384 212.976 Q683.958 212.976 681.968 215.661 Q679.977 218.323 679.977 222.976 Q679.977 227.629 681.944 230.314 Q683.935 232.976 687.384 232.976 Q690.787 232.976 692.778 230.291 Q694.768 227.606 694.768 222.976 Q694.768 218.37 692.778 215.684 Q690.787 212.976 687.384 212.976 M687.384 209.365 Q692.94 209.365 696.111 212.976 Q699.282 216.587 699.282 222.976 Q699.282 229.342 696.111 232.976 Q692.94 236.587 687.384 236.587 Q681.806 236.587 678.634 232.976 Q675.486 229.342 675.486 222.976 Q675.486 216.587 678.634 212.976 Q681.806 209.365 687.384 209.365 Z\" fill=\"#000000\" fill-rule=\"evenodd\" fill-opacity=\"1\" /><path clip-path=\"url(#clip940)\" d=\"M723.403 213.925 L723.403 199.897 L727.662 199.897 L727.662 235.916 L723.403 235.916 L723.403 232.027 Q722.06 234.342 720 235.476 Q717.963 236.587 715.092 236.587 Q710.393 236.587 707.43 232.837 Q704.491 229.087 704.491 222.976 Q704.491 216.865 707.43 213.115 Q710.393 209.365 715.092 209.365 Q717.963 209.365 720 210.499 Q722.06 211.61 723.403 213.925 M708.889 222.976 Q708.889 227.675 710.81 230.36 Q712.754 233.022 716.134 233.022 Q719.514 233.022 721.458 230.36 Q723.403 227.675 723.403 222.976 Q723.403 218.277 721.458 215.615 Q719.514 212.93 716.134 212.93 Q712.754 212.93 710.81 215.615 Q708.889 218.277 708.889 222.976 Z\" fill=\"#000000\" fill-rule=\"evenodd\" fill-opacity=\"1\" /><path clip-path=\"url(#clip940)\" d=\"M735.995 225.684 L735.995 209.99 L740.254 209.99 L740.254 225.522 Q740.254 229.203 741.689 231.055 Q743.125 232.883 745.995 232.883 Q749.444 232.883 751.435 230.684 Q753.449 228.485 753.449 224.689 L753.449 209.99 L757.708 209.99 L757.708 235.916 L753.449 235.916 L753.449 231.934 Q751.898 234.295 749.838 235.453 Q747.801 236.587 745.092 236.587 Q740.625 236.587 738.31 233.809 Q735.995 231.031 735.995 225.684 M746.713 209.365 L746.713 209.365 Z\" fill=\"#000000\" fill-rule=\"evenodd\" fill-opacity=\"1\" /><path clip-path=\"url(#clip940)\" d=\"M785.138 210.985 L785.138 214.967 Q783.333 213.971 781.504 213.485 Q779.699 212.976 777.847 212.976 Q773.703 212.976 771.412 215.615 Q769.12 218.231 769.12 222.976 Q769.12 227.721 771.412 230.36 Q773.703 232.976 777.847 232.976 Q779.699 232.976 781.504 232.49 Q783.333 231.981 785.138 230.985 L785.138 234.92 Q783.356 235.754 781.435 236.17 Q779.536 236.587 777.384 236.587 Q771.527 236.587 768.078 232.906 Q764.629 229.226 764.629 222.976 Q764.629 216.633 768.101 212.999 Q771.597 209.365 777.662 209.365 Q779.629 209.365 781.504 209.782 Q783.379 210.175 785.138 210.985 Z\" fill=\"#000000\" fill-rule=\"evenodd\" fill-opacity=\"1\" /><path clip-path=\"url(#clip940)\" d=\"M796.759 202.629 L796.759 209.99 L805.532 209.99 L805.532 213.3 L796.759 213.3 L796.759 227.374 Q796.759 230.545 797.615 231.448 Q798.495 232.351 801.157 232.351 L805.532 232.351 L805.532 235.916 L801.157 235.916 Q796.226 235.916 794.351 234.087 Q792.476 232.235 792.476 227.374 L792.476 213.3 L789.351 213.3 L789.351 209.99 L792.476 209.99 L792.476 202.629 L796.759 202.629 Z\" fill=\"#000000\" fill-rule=\"evenodd\" fill-opacity=\"1\" /><path clip-path=\"url(#clip940)\" d=\"M811.134 209.99 L815.393 209.99 L815.393 235.916 L811.134 235.916 L811.134 209.99 M811.134 199.897 L815.393 199.897 L815.393 205.291 L811.134 205.291 L811.134 199.897 Z\" fill=\"#000000\" fill-rule=\"evenodd\" fill-opacity=\"1\" /><path clip-path=\"url(#clip940)\" d=\"M834.351 212.976 Q830.925 212.976 828.934 215.661 Q826.944 218.323 826.944 222.976 Q826.944 227.629 828.911 230.314 Q830.902 232.976 834.351 232.976 Q837.754 232.976 839.745 230.291 Q841.735 227.606 841.735 222.976 Q841.735 218.37 839.745 215.684 Q837.754 212.976 834.351 212.976 M834.351 209.365 Q839.907 209.365 843.078 212.976 Q846.249 216.587 846.249 222.976 Q846.249 229.342 843.078 232.976 Q839.907 236.587 834.351 236.587 Q828.772 236.587 825.601 232.976 Q822.453 229.342 822.453 222.976 Q822.453 216.587 825.601 212.976 Q828.772 209.365 834.351 209.365 Z\" fill=\"#000000\" fill-rule=\"evenodd\" fill-opacity=\"1\" /><path clip-path=\"url(#clip940)\" d=\"M874.86 220.268 L874.86 235.916 L870.601 235.916 L870.601 220.407 Q870.601 216.726 869.166 214.897 Q867.73 213.069 864.86 213.069 Q861.411 213.069 859.42 215.268 Q857.43 217.467 857.43 221.263 L857.43 235.916 L853.147 235.916 L853.147 209.99 L857.43 209.99 L857.43 214.018 Q858.957 211.68 861.018 210.522 Q863.101 209.365 865.809 209.365 Q870.277 209.365 872.568 212.143 Q874.86 214.897 874.86 220.268 Z\" fill=\"#000000\" fill-rule=\"evenodd\" fill-opacity=\"1\" /><path clip-path=\"url(#clip940)\" d=\"M917.082 210.985 L917.082 214.967 Q915.277 213.971 913.448 213.485 Q911.642 212.976 909.79 212.976 Q905.647 212.976 903.355 215.615 Q901.064 218.231 901.064 222.976 Q901.064 227.721 903.355 230.36 Q905.647 232.976 909.79 232.976 Q911.642 232.976 913.448 232.49 Q915.277 231.981 917.082 230.985 L917.082 234.92 Q915.3 235.754 913.378 236.17 Q911.48 236.587 909.327 236.587 Q903.471 236.587 900.022 232.906 Q896.573 229.226 896.573 222.976 Q896.573 216.633 900.045 212.999 Q903.54 209.365 909.605 209.365 Q911.573 209.365 913.448 209.782 Q915.323 210.175 917.082 210.985 Z\" fill=\"#000000\" fill-rule=\"evenodd\" fill-opacity=\"1\" /><path clip-path=\"url(#clip940)\" d=\"M934.536 212.976 Q931.11 212.976 929.119 215.661 Q927.128 218.323 927.128 222.976 Q927.128 227.629 929.096 230.314 Q931.087 232.976 934.536 232.976 Q937.938 232.976 939.929 230.291 Q941.92 227.606 941.92 222.976 Q941.92 218.37 939.929 215.684 Q937.938 212.976 934.536 212.976 M934.536 209.365 Q940.091 209.365 943.262 212.976 Q946.434 216.587 946.434 222.976 Q946.434 229.342 943.262 232.976 Q940.091 236.587 934.536 236.587 Q928.957 236.587 925.786 232.976 Q922.638 229.342 922.638 222.976 Q922.638 216.587 925.786 212.976 Q928.957 209.365 934.536 209.365 Z\" fill=\"#000000\" fill-rule=\"evenodd\" fill-opacity=\"1\" /><path clip-path=\"url(#clip940)\" d=\"M970.022 210.754 L970.022 214.782 Q968.216 213.856 966.272 213.393 Q964.327 212.93 962.244 212.93 Q959.073 212.93 957.475 213.902 Q955.901 214.874 955.901 216.819 Q955.901 218.3 957.036 219.157 Q958.17 219.99 961.596 220.754 L963.054 221.078 Q967.591 222.05 969.489 223.832 Q971.41 225.592 971.41 228.763 Q971.41 232.374 968.54 234.481 Q965.693 236.587 960.693 236.587 Q958.61 236.587 956.341 236.17 Q954.096 235.777 951.596 234.967 L951.596 230.569 Q953.957 231.795 956.249 232.42 Q958.54 233.022 960.786 233.022 Q963.795 233.022 965.415 232.004 Q967.035 230.962 967.035 229.087 Q967.035 227.351 965.855 226.425 Q964.698 225.499 960.739 224.643 L959.258 224.295 Q955.299 223.462 953.54 221.749 Q951.781 220.013 951.781 217.004 Q951.781 213.346 954.374 211.356 Q956.966 209.365 961.735 209.365 Q964.096 209.365 966.179 209.712 Q968.262 210.059 970.022 210.754 Z\" fill=\"#000000\" fill-rule=\"evenodd\" fill-opacity=\"1\" /><path clip-path=\"url(#clip940)\" d=\"M982.406 202.629 L982.406 209.99 L991.179 209.99 L991.179 213.3 L982.406 213.3 L982.406 227.374 Q982.406 230.545 983.262 231.448 Q984.142 232.351 986.804 232.351 L991.179 232.351 L991.179 235.916 L986.804 235.916 Q981.873 235.916 979.998 234.087 Q978.123 232.235 978.123 227.374 L978.123 213.3 L974.998 213.3 L974.998 209.99 L978.123 209.99 L978.123 202.629 L982.406 202.629 Z\" fill=\"#000000\" fill-rule=\"evenodd\" fill-opacity=\"1\" /><polyline clip-path=\"url(#clip940)\" style=\"stroke:#e26f46; stroke-linecap:round; stroke-linejoin:round; stroke-width:4; stroke-opacity:1; fill:none\" points=\"\n  478.787,270.476 609.529,270.476 \n  \"/>\n<path clip-path=\"url(#clip940)\" d=\"M631.32 253.196 L637.616 253.196 L652.94 282.108 L652.94 253.196 L657.477 253.196 L657.477 287.756 L651.181 287.756 L635.857 258.844 L635.857 287.756 L631.32 287.756 L631.32 253.196 Z\" fill=\"#000000\" fill-rule=\"evenodd\" fill-opacity=\"1\" /><path clip-path=\"url(#clip940)\" d=\"M688.773 273.728 L688.773 275.811 L669.19 275.811 Q669.468 280.209 671.829 282.524 Q674.213 284.816 678.449 284.816 Q680.903 284.816 683.194 284.214 Q685.509 283.612 687.778 282.409 L687.778 286.436 Q685.486 287.408 683.079 287.918 Q680.671 288.427 678.194 288.427 Q671.991 288.427 668.357 284.816 Q664.745 281.205 664.745 275.047 Q664.745 268.682 668.171 264.955 Q671.62 261.205 677.454 261.205 Q682.685 261.205 685.718 264.585 Q688.773 267.941 688.773 273.728 M684.514 272.478 Q684.468 268.983 682.546 266.899 Q680.648 264.816 677.5 264.816 Q673.935 264.816 671.782 266.83 Q669.653 268.844 669.329 272.501 L684.514 272.478 Z\" fill=\"#000000\" fill-rule=\"evenodd\" fill-opacity=\"1\" /><path clip-path=\"url(#clip940)\" d=\"M699.977 254.469 L699.977 261.83 L708.75 261.83 L708.75 265.14 L699.977 265.14 L699.977 279.214 Q699.977 282.385 700.833 283.288 Q701.713 284.191 704.375 284.191 L708.75 284.191 L708.75 287.756 L704.375 287.756 Q699.444 287.756 697.569 285.927 Q695.694 284.075 695.694 279.214 L695.694 265.14 L692.569 265.14 L692.569 261.83 L695.694 261.83 L695.694 254.469 L699.977 254.469 Z\" fill=\"#000000\" fill-rule=\"evenodd\" fill-opacity=\"1\" /><path clip-path=\"url(#clip940)\" d=\"M748.078 262.825 L748.078 266.807 Q746.273 265.811 744.444 265.325 Q742.639 264.816 740.787 264.816 Q736.643 264.816 734.352 267.455 Q732.06 270.071 732.06 274.816 Q732.06 279.561 734.352 282.2 Q736.643 284.816 740.787 284.816 Q742.639 284.816 744.444 284.33 Q746.273 283.821 748.078 282.825 L748.078 286.76 Q746.296 287.594 744.375 288.01 Q742.477 288.427 740.324 288.427 Q734.467 288.427 731.018 284.746 Q727.569 281.066 727.569 274.816 Q727.569 268.473 731.041 264.839 Q734.537 261.205 740.602 261.205 Q742.569 261.205 744.444 261.622 Q746.319 262.015 748.078 262.825 Z\" fill=\"#000000\" fill-rule=\"evenodd\" fill-opacity=\"1\" /><path clip-path=\"url(#clip940)\" d=\"M765.532 264.816 Q762.106 264.816 760.115 267.501 Q758.125 270.163 758.125 274.816 Q758.125 279.469 760.092 282.154 Q762.083 284.816 765.532 284.816 Q768.935 284.816 770.925 282.131 Q772.916 279.446 772.916 274.816 Q772.916 270.21 770.925 267.524 Q768.935 264.816 765.532 264.816 M765.532 261.205 Q771.087 261.205 774.259 264.816 Q777.43 268.427 777.43 274.816 Q777.43 281.182 774.259 284.816 Q771.087 288.427 765.532 288.427 Q759.953 288.427 756.782 284.816 Q753.634 281.182 753.634 274.816 Q753.634 268.427 756.782 264.816 Q759.953 261.205 765.532 261.205 Z\" fill=\"#000000\" fill-rule=\"evenodd\" fill-opacity=\"1\" /><path clip-path=\"url(#clip940)\" d=\"M801.018 262.594 L801.018 266.622 Q799.212 265.696 797.268 265.233 Q795.323 264.77 793.24 264.77 Q790.069 264.77 788.472 265.742 Q786.898 266.714 786.898 268.659 Q786.898 270.14 788.032 270.997 Q789.166 271.83 792.592 272.594 L794.05 272.918 Q798.587 273.89 800.485 275.672 Q802.407 277.432 802.407 280.603 Q802.407 284.214 799.536 286.321 Q796.689 288.427 791.689 288.427 Q789.606 288.427 787.337 288.01 Q785.092 287.617 782.592 286.807 L782.592 282.409 Q784.953 283.635 787.245 284.26 Q789.536 284.862 791.782 284.862 Q794.791 284.862 796.411 283.844 Q798.032 282.802 798.032 280.927 Q798.032 279.191 796.851 278.265 Q795.694 277.339 791.736 276.483 L790.254 276.135 Q786.296 275.302 784.536 273.589 Q782.777 271.853 782.777 268.844 Q782.777 265.186 785.37 263.196 Q787.962 261.205 792.731 261.205 Q795.092 261.205 797.175 261.552 Q799.259 261.899 801.018 262.594 Z\" fill=\"#000000\" fill-rule=\"evenodd\" fill-opacity=\"1\" /><path clip-path=\"url(#clip940)\" d=\"M813.402 254.469 L813.402 261.83 L822.175 261.83 L822.175 265.14 L813.402 265.14 L813.402 279.214 Q813.402 282.385 814.259 283.288 Q815.138 284.191 817.8 284.191 L822.175 284.191 L822.175 287.756 L817.8 287.756 Q812.87 287.756 810.995 285.927 Q809.12 284.075 809.12 279.214 L809.12 265.14 L805.995 265.14 L805.995 261.83 L809.12 261.83 L809.12 254.469 L813.402 254.469 Z\" fill=\"#000000\" fill-rule=\"evenodd\" fill-opacity=\"1\" /></svg>\n"
     },
     "execution_count": 40,
     "metadata": {},
     "output_type": "execute_result"
    }
   ],
   "source": [
    "# plot the results, title on the top left, x axis on the bottom, y axis on the left\n",
    "p = plot(betas_df.beta, betas_df.production_cost, label=\"Production cost\", title=\"Costs for different values of beta\", xlabel=\"beta\", ylabel=\"cost\", legend=:topleft)\n",
    "plot!(p, betas_df.beta, betas_df.real_baseline_cost, label=\"Net cost\")\n",
    "\n",
    "# save the plot\n",
    "#savefig(p, \"sustainable_costs.png\")"
   ]
  },
  {
   "cell_type": "code",
   "execution_count": 43,
   "metadata": {},
   "outputs": [
    {
     "data": {
      "image/svg+xml": "<?xml version=\"1.0\" encoding=\"utf-8\"?>\n<svg xmlns=\"http://www.w3.org/2000/svg\" xmlns:xlink=\"http://www.w3.org/1999/xlink\" width=\"600\" height=\"400\" viewBox=\"0 0 2400 1600\">\n<defs>\n  <clipPath id=\"clip030\">\n    <rect x=\"0\" y=\"0\" width=\"2400\" height=\"1600\"/>\n  </clipPath>\n</defs>\n<path clip-path=\"url(#clip030)\" d=\"\nM0 1600 L2400 1600 L2400 0 L0 0  Z\n  \" fill=\"#ffffff\" fill-rule=\"evenodd\" fill-opacity=\"1\"/>\n<defs>\n  <clipPath id=\"clip031\">\n    <rect x=\"480\" y=\"0\" width=\"1681\" height=\"1600\"/>\n  </clipPath>\n</defs>\n<path clip-path=\"url(#clip030)\" d=\"\nM362.46 1423.18 L2352.76 1423.18 L2352.76 123.472 L362.46 123.472  Z\n  \" fill=\"#ffffff\" fill-rule=\"evenodd\" fill-opacity=\"1\"/>\n<defs>\n  <clipPath id=\"clip032\">\n    <rect x=\"362\" y=\"123\" width=\"1991\" height=\"1301\"/>\n  </clipPath>\n</defs>\n<polyline clip-path=\"url(#clip032)\" style=\"stroke:#000000; stroke-linecap:round; stroke-linejoin:round; stroke-width:2; stroke-opacity:0.1; fill:none\" points=\"\n  418.789,1423.18 418.789,123.472 \n  \"/>\n<polyline clip-path=\"url(#clip032)\" style=\"stroke:#000000; stroke-linecap:round; stroke-linejoin:round; stroke-width:2; stroke-opacity:0.1; fill:none\" points=\"\n  888.198,1423.18 888.198,123.472 \n  \"/>\n<polyline clip-path=\"url(#clip032)\" style=\"stroke:#000000; stroke-linecap:round; stroke-linejoin:round; stroke-width:2; stroke-opacity:0.1; fill:none\" points=\"\n  1357.61,1423.18 1357.61,123.472 \n  \"/>\n<polyline clip-path=\"url(#clip032)\" style=\"stroke:#000000; stroke-linecap:round; stroke-linejoin:round; stroke-width:2; stroke-opacity:0.1; fill:none\" points=\"\n  1827.02,1423.18 1827.02,123.472 \n  \"/>\n<polyline clip-path=\"url(#clip032)\" style=\"stroke:#000000; stroke-linecap:round; stroke-linejoin:round; stroke-width:2; stroke-opacity:0.1; fill:none\" points=\"\n  2296.43,1423.18 2296.43,123.472 \n  \"/>\n<polyline clip-path=\"url(#clip030)\" style=\"stroke:#000000; stroke-linecap:round; stroke-linejoin:round; stroke-width:4; stroke-opacity:1; fill:none\" points=\"\n  362.46,1423.18 2352.76,1423.18 \n  \"/>\n<polyline clip-path=\"url(#clip030)\" style=\"stroke:#000000; stroke-linecap:round; stroke-linejoin:round; stroke-width:4; stroke-opacity:1; fill:none\" points=\"\n  418.789,1423.18 418.789,1404.28 \n  \"/>\n<polyline clip-path=\"url(#clip030)\" style=\"stroke:#000000; stroke-linecap:round; stroke-linejoin:round; stroke-width:4; stroke-opacity:1; fill:none\" points=\"\n  888.198,1423.18 888.198,1404.28 \n  \"/>\n<polyline clip-path=\"url(#clip030)\" style=\"stroke:#000000; stroke-linecap:round; stroke-linejoin:round; stroke-width:4; stroke-opacity:1; fill:none\" points=\"\n  1357.61,1423.18 1357.61,1404.28 \n  \"/>\n<polyline clip-path=\"url(#clip030)\" style=\"stroke:#000000; stroke-linecap:round; stroke-linejoin:round; stroke-width:4; stroke-opacity:1; fill:none\" points=\"\n  1827.02,1423.18 1827.02,1404.28 \n  \"/>\n<polyline clip-path=\"url(#clip030)\" style=\"stroke:#000000; stroke-linecap:round; stroke-linejoin:round; stroke-width:4; stroke-opacity:1; fill:none\" points=\"\n  2296.43,1423.18 2296.43,1404.28 \n  \"/>\n<path clip-path=\"url(#clip030)\" d=\"M381.092 1454.1 Q377.481 1454.1 375.652 1457.66 Q373.847 1461.2 373.847 1468.33 Q373.847 1475.44 375.652 1479.01 Q377.481 1482.55 381.092 1482.55 Q384.726 1482.55 386.532 1479.01 Q388.361 1475.44 388.361 1468.33 Q388.361 1461.2 386.532 1457.66 Q384.726 1454.1 381.092 1454.1 M381.092 1450.39 Q386.902 1450.39 389.958 1455 Q393.037 1459.58 393.037 1468.33 Q393.037 1477.06 389.958 1481.67 Q386.902 1486.25 381.092 1486.25 Q375.282 1486.25 372.203 1481.67 Q369.148 1477.06 369.148 1468.33 Q369.148 1459.58 372.203 1455 Q375.282 1450.39 381.092 1450.39 Z\" fill=\"#000000\" fill-rule=\"evenodd\" fill-opacity=\"1\" /><path clip-path=\"url(#clip030)\" d=\"M401.254 1479.7 L406.138 1479.7 L406.138 1485.58 L401.254 1485.58 L401.254 1479.7 Z\" fill=\"#000000\" fill-rule=\"evenodd\" fill-opacity=\"1\" /><path clip-path=\"url(#clip030)\" d=\"M426.323 1454.1 Q422.712 1454.1 420.884 1457.66 Q419.078 1461.2 419.078 1468.33 Q419.078 1475.44 420.884 1479.01 Q422.712 1482.55 426.323 1482.55 Q429.958 1482.55 431.763 1479.01 Q433.592 1475.44 433.592 1468.33 Q433.592 1461.2 431.763 1457.66 Q429.958 1454.1 426.323 1454.1 M426.323 1450.39 Q432.134 1450.39 435.189 1455 Q438.268 1459.58 438.268 1468.33 Q438.268 1477.06 435.189 1481.67 Q432.134 1486.25 426.323 1486.25 Q420.513 1486.25 417.435 1481.67 Q414.379 1477.06 414.379 1468.33 Q414.379 1459.58 417.435 1455 Q420.513 1450.39 426.323 1450.39 Z\" fill=\"#000000\" fill-rule=\"evenodd\" fill-opacity=\"1\" /><path clip-path=\"url(#clip030)\" d=\"M456.485 1454.1 Q452.874 1454.1 451.045 1457.66 Q449.24 1461.2 449.24 1468.33 Q449.24 1475.44 451.045 1479.01 Q452.874 1482.55 456.485 1482.55 Q460.119 1482.55 461.925 1479.01 Q463.754 1475.44 463.754 1468.33 Q463.754 1461.2 461.925 1457.66 Q460.119 1454.1 456.485 1454.1 M456.485 1450.39 Q462.295 1450.39 465.351 1455 Q468.43 1459.58 468.43 1468.33 Q468.43 1477.06 465.351 1481.67 Q462.295 1486.25 456.485 1486.25 Q450.675 1486.25 447.596 1481.67 Q444.541 1477.06 444.541 1468.33 Q444.541 1459.58 447.596 1455 Q450.675 1450.39 456.485 1450.39 Z\" fill=\"#000000\" fill-rule=\"evenodd\" fill-opacity=\"1\" /><path clip-path=\"url(#clip030)\" d=\"M850.999 1454.1 Q847.388 1454.1 845.56 1457.66 Q843.754 1461.2 843.754 1468.33 Q843.754 1475.44 845.56 1479.01 Q847.388 1482.55 850.999 1482.55 Q854.634 1482.55 856.439 1479.01 Q858.268 1475.44 858.268 1468.33 Q858.268 1461.2 856.439 1457.66 Q854.634 1454.1 850.999 1454.1 M850.999 1450.39 Q856.809 1450.39 859.865 1455 Q862.944 1459.58 862.944 1468.33 Q862.944 1477.06 859.865 1481.67 Q856.809 1486.25 850.999 1486.25 Q845.189 1486.25 842.11 1481.67 Q839.055 1477.06 839.055 1468.33 Q839.055 1459.58 842.11 1455 Q845.189 1450.39 850.999 1450.39 Z\" fill=\"#000000\" fill-rule=\"evenodd\" fill-opacity=\"1\" /><path clip-path=\"url(#clip030)\" d=\"M871.161 1479.7 L876.045 1479.7 L876.045 1485.58 L871.161 1485.58 L871.161 1479.7 Z\" fill=\"#000000\" fill-rule=\"evenodd\" fill-opacity=\"1\" /><path clip-path=\"url(#clip030)\" d=\"M890.258 1481.64 L906.578 1481.64 L906.578 1485.58 L884.633 1485.58 L884.633 1481.64 Q887.295 1478.89 891.879 1474.26 Q896.485 1469.61 897.666 1468.27 Q899.911 1465.74 900.791 1464.01 Q901.694 1462.25 901.694 1460.56 Q901.694 1457.8 899.749 1456.07 Q897.828 1454.33 894.726 1454.33 Q892.527 1454.33 890.073 1455.09 Q887.643 1455.86 884.865 1457.41 L884.865 1452.69 Q887.689 1451.55 890.143 1450.97 Q892.596 1450.39 894.633 1450.39 Q900.004 1450.39 903.198 1453.08 Q906.393 1455.77 906.393 1460.26 Q906.393 1462.39 905.582 1464.31 Q904.795 1466.2 902.689 1468.8 Q902.11 1469.47 899.008 1472.69 Q895.906 1475.88 890.258 1481.64 Z\" fill=\"#000000\" fill-rule=\"evenodd\" fill-opacity=\"1\" /><path clip-path=\"url(#clip030)\" d=\"M916.439 1451.02 L934.795 1451.02 L934.795 1454.96 L920.721 1454.96 L920.721 1463.43 Q921.74 1463.08 922.758 1462.92 Q923.777 1462.73 924.795 1462.73 Q930.582 1462.73 933.962 1465.9 Q937.341 1469.08 937.341 1474.49 Q937.341 1480.07 933.869 1483.17 Q930.397 1486.25 924.078 1486.25 Q921.902 1486.25 919.633 1485.88 Q917.388 1485.51 914.98 1484.77 L914.98 1480.07 Q917.064 1481.2 919.286 1481.76 Q921.508 1482.32 923.985 1482.32 Q927.99 1482.32 930.328 1480.21 Q932.666 1478.1 932.666 1474.49 Q932.666 1470.88 930.328 1468.77 Q927.99 1466.67 923.985 1466.67 Q922.11 1466.67 920.235 1467.08 Q918.383 1467.5 916.439 1468.38 L916.439 1451.02 Z\" fill=\"#000000\" fill-rule=\"evenodd\" fill-opacity=\"1\" /><path clip-path=\"url(#clip030)\" d=\"M1319.91 1454.1 Q1316.3 1454.1 1314.47 1457.66 Q1312.67 1461.2 1312.67 1468.33 Q1312.67 1475.44 1314.47 1479.01 Q1316.3 1482.55 1319.91 1482.55 Q1323.55 1482.55 1325.35 1479.01 Q1327.18 1475.44 1327.18 1468.33 Q1327.18 1461.2 1325.35 1457.66 Q1323.55 1454.1 1319.91 1454.1 M1319.91 1450.39 Q1325.72 1450.39 1328.78 1455 Q1331.86 1459.58 1331.86 1468.33 Q1331.86 1477.06 1328.78 1481.67 Q1325.72 1486.25 1319.91 1486.25 Q1314.1 1486.25 1311.02 1481.67 Q1307.97 1477.06 1307.97 1468.33 Q1307.97 1459.58 1311.02 1455 Q1314.1 1450.39 1319.91 1450.39 Z\" fill=\"#000000\" fill-rule=\"evenodd\" fill-opacity=\"1\" /><path clip-path=\"url(#clip030)\" d=\"M1340.07 1479.7 L1344.96 1479.7 L1344.96 1485.58 L1340.07 1485.58 L1340.07 1479.7 Z\" fill=\"#000000\" fill-rule=\"evenodd\" fill-opacity=\"1\" /><path clip-path=\"url(#clip030)\" d=\"M1355.19 1451.02 L1373.55 1451.02 L1373.55 1454.96 L1359.47 1454.96 L1359.47 1463.43 Q1360.49 1463.08 1361.51 1462.92 Q1362.53 1462.73 1363.55 1462.73 Q1369.33 1462.73 1372.71 1465.9 Q1376.09 1469.08 1376.09 1474.49 Q1376.09 1480.07 1372.62 1483.17 Q1369.15 1486.25 1362.83 1486.25 Q1360.65 1486.25 1358.38 1485.88 Q1356.14 1485.51 1353.73 1484.77 L1353.73 1480.07 Q1355.81 1481.2 1358.04 1481.76 Q1360.26 1482.32 1362.74 1482.32 Q1366.74 1482.32 1369.08 1480.21 Q1371.42 1478.1 1371.42 1474.49 Q1371.42 1470.88 1369.08 1468.77 Q1366.74 1466.67 1362.74 1466.67 Q1360.86 1466.67 1358.99 1467.08 Q1357.13 1467.5 1355.19 1468.38 L1355.19 1451.02 Z\" fill=\"#000000\" fill-rule=\"evenodd\" fill-opacity=\"1\" /><path clip-path=\"url(#clip030)\" d=\"M1395.3 1454.1 Q1391.69 1454.1 1389.86 1457.66 Q1388.06 1461.2 1388.06 1468.33 Q1388.06 1475.44 1389.86 1479.01 Q1391.69 1482.55 1395.3 1482.55 Q1398.94 1482.55 1400.74 1479.01 Q1402.57 1475.44 1402.57 1468.33 Q1402.57 1461.2 1400.74 1457.66 Q1398.94 1454.1 1395.3 1454.1 M1395.3 1450.39 Q1401.11 1450.39 1404.17 1455 Q1407.25 1459.58 1407.25 1468.33 Q1407.25 1477.06 1404.17 1481.67 Q1401.11 1486.25 1395.3 1486.25 Q1389.49 1486.25 1386.42 1481.67 Q1383.36 1477.06 1383.36 1468.33 Q1383.36 1459.58 1386.42 1455 Q1389.49 1450.39 1395.3 1450.39 Z\" fill=\"#000000\" fill-rule=\"evenodd\" fill-opacity=\"1\" /><path clip-path=\"url(#clip030)\" d=\"M1789.82 1454.1 Q1786.21 1454.1 1784.38 1457.66 Q1782.57 1461.2 1782.57 1468.33 Q1782.57 1475.44 1784.38 1479.01 Q1786.21 1482.55 1789.82 1482.55 Q1793.45 1482.55 1795.26 1479.01 Q1797.09 1475.44 1797.09 1468.33 Q1797.09 1461.2 1795.26 1457.66 Q1793.45 1454.1 1789.82 1454.1 M1789.82 1450.39 Q1795.63 1450.39 1798.68 1455 Q1801.76 1459.58 1801.76 1468.33 Q1801.76 1477.06 1798.68 1481.67 Q1795.63 1486.25 1789.82 1486.25 Q1784.01 1486.25 1780.93 1481.67 Q1777.87 1477.06 1777.87 1468.33 Q1777.87 1459.58 1780.93 1455 Q1784.01 1450.39 1789.82 1450.39 Z\" fill=\"#000000\" fill-rule=\"evenodd\" fill-opacity=\"1\" /><path clip-path=\"url(#clip030)\" d=\"M1809.98 1479.7 L1814.86 1479.7 L1814.86 1485.58 L1809.98 1485.58 L1809.98 1479.7 Z\" fill=\"#000000\" fill-rule=\"evenodd\" fill-opacity=\"1\" /><path clip-path=\"url(#clip030)\" d=\"M1823.87 1451.02 L1846.09 1451.02 L1846.09 1453.01 L1833.54 1485.58 L1828.66 1485.58 L1840.47 1454.96 L1823.87 1454.96 L1823.87 1451.02 Z\" fill=\"#000000\" fill-rule=\"evenodd\" fill-opacity=\"1\" /><path clip-path=\"url(#clip030)\" d=\"M1855.26 1451.02 L1873.61 1451.02 L1873.61 1454.96 L1859.54 1454.96 L1859.54 1463.43 Q1860.56 1463.08 1861.58 1462.92 Q1862.6 1462.73 1863.61 1462.73 Q1869.4 1462.73 1872.78 1465.9 Q1876.16 1469.08 1876.16 1474.49 Q1876.16 1480.07 1872.69 1483.17 Q1869.22 1486.25 1862.9 1486.25 Q1860.72 1486.25 1858.45 1485.88 Q1856.21 1485.51 1853.8 1484.77 L1853.8 1480.07 Q1855.88 1481.2 1858.11 1481.76 Q1860.33 1482.32 1862.8 1482.32 Q1866.81 1482.32 1869.15 1480.21 Q1871.48 1478.1 1871.48 1474.49 Q1871.48 1470.88 1869.15 1468.77 Q1866.81 1466.67 1862.8 1466.67 Q1860.93 1466.67 1859.05 1467.08 Q1857.2 1467.5 1855.26 1468.38 L1855.26 1451.02 Z\" fill=\"#000000\" fill-rule=\"evenodd\" fill-opacity=\"1\" /><path clip-path=\"url(#clip030)\" d=\"M2248.5 1481.64 L2256.14 1481.64 L2256.14 1455.28 L2247.83 1456.95 L2247.83 1452.69 L2256.09 1451.02 L2260.77 1451.02 L2260.77 1481.64 L2268.41 1481.64 L2268.41 1485.58 L2248.5 1485.58 L2248.5 1481.64 Z\" fill=\"#000000\" fill-rule=\"evenodd\" fill-opacity=\"1\" /><path clip-path=\"url(#clip030)\" d=\"M2277.85 1479.7 L2282.73 1479.7 L2282.73 1485.58 L2277.85 1485.58 L2277.85 1479.7 Z\" fill=\"#000000\" fill-rule=\"evenodd\" fill-opacity=\"1\" /><path clip-path=\"url(#clip030)\" d=\"M2302.92 1454.1 Q2299.31 1454.1 2297.48 1457.66 Q2295.67 1461.2 2295.67 1468.33 Q2295.67 1475.44 2297.48 1479.01 Q2299.31 1482.55 2302.92 1482.55 Q2306.55 1482.55 2308.36 1479.01 Q2310.19 1475.44 2310.19 1468.33 Q2310.19 1461.2 2308.36 1457.66 Q2306.55 1454.1 2302.92 1454.1 M2302.92 1450.39 Q2308.73 1450.39 2311.79 1455 Q2314.86 1459.58 2314.86 1468.33 Q2314.86 1477.06 2311.79 1481.67 Q2308.73 1486.25 2302.92 1486.25 Q2297.11 1486.25 2294.03 1481.67 Q2290.98 1477.06 2290.98 1468.33 Q2290.98 1459.58 2294.03 1455 Q2297.11 1450.39 2302.92 1450.39 Z\" fill=\"#000000\" fill-rule=\"evenodd\" fill-opacity=\"1\" /><path clip-path=\"url(#clip030)\" d=\"M2333.08 1454.1 Q2329.47 1454.1 2327.64 1457.66 Q2325.84 1461.2 2325.84 1468.33 Q2325.84 1475.44 2327.64 1479.01 Q2329.47 1482.55 2333.08 1482.55 Q2336.72 1482.55 2338.52 1479.01 Q2340.35 1475.44 2340.35 1468.33 Q2340.35 1461.2 2338.52 1457.66 Q2336.72 1454.1 2333.08 1454.1 M2333.08 1450.39 Q2338.89 1450.39 2341.95 1455 Q2345.03 1459.58 2345.03 1468.33 Q2345.03 1477.06 2341.95 1481.67 Q2338.89 1486.25 2333.08 1486.25 Q2327.27 1486.25 2324.19 1481.67 Q2321.14 1477.06 2321.14 1468.33 Q2321.14 1459.58 2324.19 1455 Q2327.27 1450.39 2333.08 1450.39 Z\" fill=\"#000000\" fill-rule=\"evenodd\" fill-opacity=\"1\" /><path clip-path=\"url(#clip030)\" d=\"M1315.85 1550.25 Q1315.85 1543.79 1313.18 1540.13 Q1310.53 1536.44 1305.89 1536.44 Q1301.24 1536.44 1298.57 1540.13 Q1295.92 1543.79 1295.92 1550.25 Q1295.92 1556.71 1298.57 1560.4 Q1301.24 1564.07 1305.89 1564.07 Q1310.53 1564.07 1313.18 1560.4 Q1315.85 1556.71 1315.85 1550.25 M1295.92 1537.81 Q1297.77 1534.62 1300.57 1533.1 Q1303.4 1531.54 1307.32 1531.54 Q1313.81 1531.54 1317.85 1536.69 Q1321.93 1541.85 1321.93 1550.25 Q1321.93 1558.65 1317.85 1563.81 Q1313.81 1568.97 1307.32 1568.97 Q1303.4 1568.97 1300.57 1567.44 Q1297.77 1565.88 1295.92 1562.7 L1295.92 1568.04 L1290.04 1568.04 L1290.04 1518.52 L1295.92 1518.52 L1295.92 1537.81 Z\" fill=\"#000000\" fill-rule=\"evenodd\" fill-opacity=\"1\" /><path clip-path=\"url(#clip030)\" d=\"M1362.13 1548.76 L1362.13 1551.62 L1335.2 1551.62 Q1335.58 1557.67 1338.83 1560.85 Q1342.11 1564 1347.93 1564 Q1351.31 1564 1354.46 1563.17 Q1357.64 1562.35 1360.76 1560.69 L1360.76 1566.23 Q1357.61 1567.57 1354.3 1568.27 Q1350.99 1568.97 1347.58 1568.97 Q1339.05 1568.97 1334.05 1564 Q1329.09 1559.04 1329.09 1550.57 Q1329.09 1541.82 1333.8 1536.69 Q1338.54 1531.54 1346.56 1531.54 Q1353.76 1531.54 1357.93 1536.18 Q1362.13 1540.8 1362.13 1548.76 M1356.27 1547.04 Q1356.21 1542.23 1353.57 1539.37 Q1350.96 1536.5 1346.63 1536.5 Q1341.73 1536.5 1338.77 1539.27 Q1335.84 1542.04 1335.39 1547.07 L1356.27 1547.04 Z\" fill=\"#000000\" fill-rule=\"evenodd\" fill-opacity=\"1\" /><path clip-path=\"url(#clip030)\" d=\"M1377.53 1522.27 L1377.53 1532.4 L1389.6 1532.4 L1389.6 1536.95 L1377.53 1536.95 L1377.53 1556.3 Q1377.53 1560.66 1378.71 1561.9 Q1379.92 1563.14 1383.58 1563.14 L1389.6 1563.14 L1389.6 1568.04 L1383.58 1568.04 Q1376.8 1568.04 1374.22 1565.53 Q1371.64 1562.98 1371.64 1556.3 L1371.64 1536.95 L1367.35 1536.95 L1367.35 1532.4 L1371.64 1532.4 L1371.64 1522.27 L1377.53 1522.27 Z\" fill=\"#000000\" fill-rule=\"evenodd\" fill-opacity=\"1\" /><path clip-path=\"url(#clip030)\" d=\"M1413.5 1550.12 Q1406.4 1550.12 1403.66 1551.75 Q1400.93 1553.37 1400.93 1557.29 Q1400.93 1560.4 1402.96 1562.25 Q1405.03 1564.07 1408.57 1564.07 Q1413.43 1564.07 1416.36 1560.63 Q1419.32 1557.16 1419.32 1551.43 L1419.32 1550.12 L1413.5 1550.12 M1425.18 1547.71 L1425.18 1568.04 L1419.32 1568.04 L1419.32 1562.63 Q1417.32 1565.88 1414.33 1567.44 Q1411.33 1568.97 1407.01 1568.97 Q1401.53 1568.97 1398.28 1565.91 Q1395.07 1562.82 1395.07 1557.67 Q1395.07 1551.65 1399.08 1548.6 Q1403.12 1545.54 1411.11 1545.54 L1419.32 1545.54 L1419.32 1544.97 Q1419.32 1540.93 1416.65 1538.73 Q1414.01 1536.5 1409.2 1536.5 Q1406.15 1536.5 1403.25 1537.23 Q1400.35 1537.97 1397.68 1539.43 L1397.68 1534.02 Q1400.89 1532.78 1403.92 1532.17 Q1406.94 1531.54 1409.81 1531.54 Q1417.54 1531.54 1421.36 1535.55 Q1425.18 1539.56 1425.18 1547.71 Z\" fill=\"#000000\" fill-rule=\"evenodd\" fill-opacity=\"1\" /><polyline clip-path=\"url(#clip032)\" style=\"stroke:#000000; stroke-linecap:round; stroke-linejoin:round; stroke-width:2; stroke-opacity:0.1; fill:none\" points=\"\n  362.46,1354.01 2352.76,1354.01 \n  \"/>\n<polyline clip-path=\"url(#clip032)\" style=\"stroke:#000000; stroke-linecap:round; stroke-linejoin:round; stroke-width:2; stroke-opacity:0.1; fill:none\" points=\"\n  362.46,963.795 2352.76,963.795 \n  \"/>\n<polyline clip-path=\"url(#clip032)\" style=\"stroke:#000000; stroke-linecap:round; stroke-linejoin:round; stroke-width:2; stroke-opacity:0.1; fill:none\" points=\"\n  362.46,573.579 2352.76,573.579 \n  \"/>\n<polyline clip-path=\"url(#clip032)\" style=\"stroke:#000000; stroke-linecap:round; stroke-linejoin:round; stroke-width:2; stroke-opacity:0.1; fill:none\" points=\"\n  362.46,183.363 2352.76,183.363 \n  \"/>\n<polyline clip-path=\"url(#clip030)\" style=\"stroke:#000000; stroke-linecap:round; stroke-linejoin:round; stroke-width:4; stroke-opacity:1; fill:none\" points=\"\n  362.46,1423.18 362.46,123.472 \n  \"/>\n<polyline clip-path=\"url(#clip030)\" style=\"stroke:#000000; stroke-linecap:round; stroke-linejoin:round; stroke-width:4; stroke-opacity:1; fill:none\" points=\"\n  362.46,1354.01 381.357,1354.01 \n  \"/>\n<polyline clip-path=\"url(#clip030)\" style=\"stroke:#000000; stroke-linecap:round; stroke-linejoin:round; stroke-width:4; stroke-opacity:1; fill:none\" points=\"\n  362.46,963.795 381.357,963.795 \n  \"/>\n<polyline clip-path=\"url(#clip030)\" style=\"stroke:#000000; stroke-linecap:round; stroke-linejoin:round; stroke-width:4; stroke-opacity:1; fill:none\" points=\"\n  362.46,573.579 381.357,573.579 \n  \"/>\n<polyline clip-path=\"url(#clip030)\" style=\"stroke:#000000; stroke-linecap:round; stroke-linejoin:round; stroke-width:4; stroke-opacity:1; fill:none\" points=\"\n  362.46,183.363 381.357,183.363 \n  \"/>\n<path clip-path=\"url(#clip030)\" d=\"M129.862 1347.25 L118.056 1365.7 L129.862 1365.7 L129.862 1347.25 M128.635 1343.18 L134.515 1343.18 L134.515 1365.7 L139.445 1365.7 L139.445 1369.59 L134.515 1369.59 L134.515 1377.74 L129.862 1377.74 L129.862 1369.59 L114.26 1369.59 L114.26 1365.08 L128.635 1343.18 Z\" fill=\"#000000\" fill-rule=\"evenodd\" fill-opacity=\"1\" /><path clip-path=\"url(#clip030)\" d=\"M147.177 1371.86 L152.061 1371.86 L152.061 1377.74 L147.177 1377.74 L147.177 1371.86 Z\" fill=\"#000000\" fill-rule=\"evenodd\" fill-opacity=\"1\" /><path clip-path=\"url(#clip030)\" d=\"M172.246 1346.26 Q168.635 1346.26 166.806 1349.82 Q165.001 1353.36 165.001 1360.49 Q165.001 1367.6 166.806 1371.16 Q168.635 1374.71 172.246 1374.71 Q175.88 1374.71 177.686 1371.16 Q179.514 1367.6 179.514 1360.49 Q179.514 1353.36 177.686 1349.82 Q175.88 1346.26 172.246 1346.26 M172.246 1342.55 Q178.056 1342.55 181.112 1347.16 Q184.19 1351.74 184.19 1360.49 Q184.19 1369.22 181.112 1373.83 Q178.056 1378.41 172.246 1378.41 Q166.436 1378.41 163.357 1373.83 Q160.302 1369.22 160.302 1360.49 Q160.302 1351.74 163.357 1347.16 Q166.436 1342.55 172.246 1342.55 Z\" fill=\"#000000\" fill-rule=\"evenodd\" fill-opacity=\"1\" /><path clip-path=\"url(#clip030)\" d=\"M220.579 1352.28 L210 1362.9 L220.579 1373.48 L217.824 1376.28 L207.199 1365.66 L196.575 1376.28 L193.843 1373.48 L204.399 1362.9 L193.843 1352.28 L196.575 1349.47 L207.199 1360.1 L217.824 1349.47 L220.579 1352.28 Z\" fill=\"#000000\" fill-rule=\"evenodd\" fill-opacity=\"1\" /><path clip-path=\"url(#clip030)\" d=\"M232.94 1373.8 L240.579 1373.8 L240.579 1347.44 L232.269 1349.1 L232.269 1344.85 L240.533 1343.18 L245.209 1343.18 L245.209 1373.8 L252.847 1373.8 L252.847 1377.74 L232.94 1377.74 L232.94 1373.8 Z\" fill=\"#000000\" fill-rule=\"evenodd\" fill-opacity=\"1\" /><path clip-path=\"url(#clip030)\" d=\"M272.292 1346.26 Q268.681 1346.26 266.852 1349.82 Q265.046 1353.36 265.046 1360.49 Q265.046 1367.6 266.852 1371.16 Q268.681 1374.71 272.292 1374.71 Q275.926 1374.71 277.732 1371.16 Q279.56 1367.6 279.56 1360.49 Q279.56 1353.36 277.732 1349.82 Q275.926 1346.26 272.292 1346.26 M272.292 1342.55 Q278.102 1342.55 281.157 1347.16 Q284.236 1351.74 284.236 1360.49 Q284.236 1369.22 281.157 1373.83 Q278.102 1378.41 272.292 1378.41 Q266.482 1378.41 263.403 1373.83 Q260.347 1369.22 260.347 1360.49 Q260.347 1351.74 263.403 1347.16 Q266.482 1342.55 272.292 1342.55 Z\" fill=\"#000000\" fill-rule=\"evenodd\" fill-opacity=\"1\" /><path clip-path=\"url(#clip030)\" d=\"M284.782 1347.13 L290.988 1347.13 L290.988 1325.71 L284.236 1327.06 L284.236 1323.6 L290.95 1322.25 L294.75 1322.25 L294.75 1347.13 L300.956 1347.13 L300.956 1350.33 L284.782 1350.33 L284.782 1347.13 Z\" fill=\"#000000\" fill-rule=\"evenodd\" fill-opacity=\"1\" /><path clip-path=\"url(#clip030)\" d=\"M316.755 1324.75 Q313.821 1324.75 312.335 1327.65 Q310.868 1330.52 310.868 1336.32 Q310.868 1342.09 312.335 1344.99 Q313.821 1347.86 316.755 1347.86 Q319.708 1347.86 321.175 1344.99 Q322.66 1342.09 322.66 1336.32 Q322.66 1330.52 321.175 1327.65 Q319.708 1324.75 316.755 1324.75 M316.755 1321.74 Q321.475 1321.74 323.958 1325.48 Q326.46 1329.21 326.46 1336.32 Q326.46 1343.41 323.958 1347.15 Q321.475 1350.87 316.755 1350.87 Q312.034 1350.87 309.533 1347.15 Q307.05 1343.41 307.05 1336.32 Q307.05 1329.21 309.533 1325.48 Q312.034 1321.74 316.755 1321.74 Z\" fill=\"#000000\" fill-rule=\"evenodd\" fill-opacity=\"1\" /><path clip-path=\"url(#clip030)\" d=\"M117.061 952.962 L135.417 952.962 L135.417 956.898 L121.343 956.898 L121.343 965.37 Q122.362 965.022 123.38 964.86 Q124.399 964.675 125.418 964.675 Q131.205 964.675 134.584 967.847 Q137.964 971.018 137.964 976.434 Q137.964 982.013 134.492 985.115 Q131.019 988.194 124.7 988.194 Q122.524 988.194 120.255 987.823 Q118.01 987.453 115.603 986.712 L115.603 982.013 Q117.686 983.147 119.908 983.703 Q122.13 984.258 124.607 984.258 Q128.612 984.258 130.95 982.152 Q133.288 980.046 133.288 976.434 Q133.288 972.823 130.95 970.717 Q128.612 968.61 124.607 968.61 Q122.732 968.61 120.857 969.027 Q119.006 969.444 117.061 970.323 L117.061 952.962 Z\" fill=\"#000000\" fill-rule=\"evenodd\" fill-opacity=\"1\" /><path clip-path=\"url(#clip030)\" d=\"M147.177 981.643 L152.061 981.643 L152.061 987.522 L147.177 987.522 L147.177 981.643 Z\" fill=\"#000000\" fill-rule=\"evenodd\" fill-opacity=\"1\" /><path clip-path=\"url(#clip030)\" d=\"M172.246 956.041 Q168.635 956.041 166.806 959.606 Q165.001 963.147 165.001 970.277 Q165.001 977.384 166.806 980.948 Q168.635 984.49 172.246 984.49 Q175.88 984.49 177.686 980.948 Q179.514 977.384 179.514 970.277 Q179.514 963.147 177.686 959.606 Q175.88 956.041 172.246 956.041 M172.246 952.337 Q178.056 952.337 181.112 956.944 Q184.19 961.527 184.19 970.277 Q184.19 979.004 181.112 983.61 Q178.056 988.194 172.246 988.194 Q166.436 988.194 163.357 983.61 Q160.302 979.004 160.302 970.277 Q160.302 961.527 163.357 956.944 Q166.436 952.337 172.246 952.337 Z\" fill=\"#000000\" fill-rule=\"evenodd\" fill-opacity=\"1\" /><path clip-path=\"url(#clip030)\" d=\"M220.579 962.06 L210 972.684 L220.579 983.263 L217.824 986.064 L207.199 975.439 L196.575 986.064 L193.843 983.263 L204.399 972.684 L193.843 962.06 L196.575 959.259 L207.199 969.884 L217.824 959.259 L220.579 962.06 Z\" fill=\"#000000\" fill-rule=\"evenodd\" fill-opacity=\"1\" /><path clip-path=\"url(#clip030)\" d=\"M232.94 983.587 L240.579 983.587 L240.579 957.222 L232.269 958.888 L232.269 954.629 L240.533 952.962 L245.209 952.962 L245.209 983.587 L252.847 983.587 L252.847 987.522 L232.94 987.522 L232.94 983.587 Z\" fill=\"#000000\" fill-rule=\"evenodd\" fill-opacity=\"1\" /><path clip-path=\"url(#clip030)\" d=\"M272.292 956.041 Q268.681 956.041 266.852 959.606 Q265.046 963.147 265.046 970.277 Q265.046 977.384 266.852 980.948 Q268.681 984.49 272.292 984.49 Q275.926 984.49 277.732 980.948 Q279.56 977.384 279.56 970.277 Q279.56 963.147 277.732 959.606 Q275.926 956.041 272.292 956.041 M272.292 952.337 Q278.102 952.337 281.157 956.944 Q284.236 961.527 284.236 970.277 Q284.236 979.004 281.157 983.61 Q278.102 988.194 272.292 988.194 Q266.482 988.194 263.403 983.61 Q260.347 979.004 260.347 970.277 Q260.347 961.527 263.403 956.944 Q266.482 952.337 272.292 952.337 Z\" fill=\"#000000\" fill-rule=\"evenodd\" fill-opacity=\"1\" /><path clip-path=\"url(#clip030)\" d=\"M284.782 956.915 L290.988 956.915 L290.988 935.493 L284.236 936.847 L284.236 933.386 L290.95 932.032 L294.75 932.032 L294.75 956.915 L300.956 956.915 L300.956 960.112 L284.782 960.112 L284.782 956.915 Z\" fill=\"#000000\" fill-rule=\"evenodd\" fill-opacity=\"1\" /><path clip-path=\"url(#clip030)\" d=\"M316.755 934.533 Q313.821 934.533 312.335 937.43 Q310.868 940.307 310.868 946.1 Q310.868 951.874 312.335 954.771 Q313.821 957.648 316.755 957.648 Q319.708 957.648 321.175 954.771 Q322.66 951.874 322.66 946.1 Q322.66 940.307 321.175 937.43 Q319.708 934.533 316.755 934.533 M316.755 931.524 Q321.475 931.524 323.958 935.267 Q326.46 938.991 326.46 946.1 Q326.46 953.191 323.958 956.933 Q321.475 960.657 316.755 960.657 Q312.034 960.657 309.533 956.933 Q307.05 953.191 307.05 946.1 Q307.05 938.991 309.533 935.267 Q312.034 931.524 316.755 931.524 Z\" fill=\"#000000\" fill-rule=\"evenodd\" fill-opacity=\"1\" /><path clip-path=\"url(#clip030)\" d=\"M127.593 578.163 Q124.445 578.163 122.593 580.316 Q120.765 582.468 120.765 586.218 Q120.765 589.945 122.593 592.121 Q124.445 594.274 127.593 594.274 Q130.742 594.274 132.57 592.121 Q134.422 589.945 134.422 586.218 Q134.422 582.468 132.57 580.316 Q130.742 578.163 127.593 578.163 M136.876 563.51 L136.876 567.769 Q135.117 566.936 133.311 566.496 Q131.529 566.057 129.769 566.057 Q125.14 566.057 122.686 569.181 Q120.255 572.306 119.908 578.626 Q121.274 576.612 123.334 575.547 Q125.394 574.459 127.871 574.459 Q133.08 574.459 136.089 577.631 Q139.121 580.779 139.121 586.218 Q139.121 591.542 135.973 594.76 Q132.825 597.978 127.593 597.978 Q121.598 597.978 118.427 593.394 Q115.256 588.788 115.256 580.061 Q115.256 571.867 119.144 567.006 Q123.033 562.121 129.584 562.121 Q131.343 562.121 133.126 562.469 Q134.931 562.816 136.876 563.51 Z\" fill=\"#000000\" fill-rule=\"evenodd\" fill-opacity=\"1\" /><path clip-path=\"url(#clip030)\" d=\"M147.177 591.427 L152.061 591.427 L152.061 597.306 L147.177 597.306 L147.177 591.427 Z\" fill=\"#000000\" fill-rule=\"evenodd\" fill-opacity=\"1\" /><path clip-path=\"url(#clip030)\" d=\"M172.246 565.825 Q168.635 565.825 166.806 569.39 Q165.001 572.931 165.001 580.061 Q165.001 587.168 166.806 590.732 Q168.635 594.274 172.246 594.274 Q175.88 594.274 177.686 590.732 Q179.514 587.168 179.514 580.061 Q179.514 572.931 177.686 569.39 Q175.88 565.825 172.246 565.825 M172.246 562.121 Q178.056 562.121 181.112 566.728 Q184.19 571.311 184.19 580.061 Q184.19 588.788 181.112 593.394 Q178.056 597.978 172.246 597.978 Q166.436 597.978 163.357 593.394 Q160.302 588.788 160.302 580.061 Q160.302 571.311 163.357 566.728 Q166.436 562.121 172.246 562.121 Z\" fill=\"#000000\" fill-rule=\"evenodd\" fill-opacity=\"1\" /><path clip-path=\"url(#clip030)\" d=\"M220.579 571.844 L210 582.468 L220.579 593.047 L217.824 595.848 L207.199 585.223 L196.575 595.848 L193.843 593.047 L204.399 582.468 L193.843 571.844 L196.575 569.043 L207.199 579.668 L217.824 569.043 L220.579 571.844 Z\" fill=\"#000000\" fill-rule=\"evenodd\" fill-opacity=\"1\" /><path clip-path=\"url(#clip030)\" d=\"M232.94 593.371 L240.579 593.371 L240.579 567.006 L232.269 568.672 L232.269 564.413 L240.533 562.746 L245.209 562.746 L245.209 593.371 L252.847 593.371 L252.847 597.306 L232.94 597.306 L232.94 593.371 Z\" fill=\"#000000\" fill-rule=\"evenodd\" fill-opacity=\"1\" /><path clip-path=\"url(#clip030)\" d=\"M272.292 565.825 Q268.681 565.825 266.852 569.39 Q265.046 572.931 265.046 580.061 Q265.046 587.168 266.852 590.732 Q268.681 594.274 272.292 594.274 Q275.926 594.274 277.732 590.732 Q279.56 587.168 279.56 580.061 Q279.56 572.931 277.732 569.39 Q275.926 565.825 272.292 565.825 M272.292 562.121 Q278.102 562.121 281.157 566.728 Q284.236 571.311 284.236 580.061 Q284.236 588.788 281.157 593.394 Q278.102 597.978 272.292 597.978 Q266.482 597.978 263.403 593.394 Q260.347 588.788 260.347 580.061 Q260.347 571.311 263.403 566.728 Q266.482 562.121 272.292 562.121 Z\" fill=\"#000000\" fill-rule=\"evenodd\" fill-opacity=\"1\" /><path clip-path=\"url(#clip030)\" d=\"M284.782 566.699 L290.988 566.699 L290.988 545.277 L284.236 546.631 L284.236 543.17 L290.95 541.816 L294.75 541.816 L294.75 566.699 L300.956 566.699 L300.956 569.896 L284.782 569.896 L284.782 566.699 Z\" fill=\"#000000\" fill-rule=\"evenodd\" fill-opacity=\"1\" /><path clip-path=\"url(#clip030)\" d=\"M316.755 544.317 Q313.821 544.317 312.335 547.214 Q310.868 550.091 310.868 555.884 Q310.868 561.658 312.335 564.555 Q313.821 567.432 316.755 567.432 Q319.708 567.432 321.175 564.555 Q322.66 561.658 322.66 555.884 Q322.66 550.091 321.175 547.214 Q319.708 544.317 316.755 544.317 M316.755 541.308 Q321.475 541.308 323.958 545.051 Q326.46 548.775 326.46 555.884 Q326.46 562.975 323.958 566.717 Q321.475 570.441 316.755 570.441 Q312.034 570.441 309.533 566.717 Q307.05 562.975 307.05 555.884 Q307.05 548.775 309.533 545.051 Q312.034 541.308 316.755 541.308 Z\" fill=\"#000000\" fill-rule=\"evenodd\" fill-opacity=\"1\" /><path clip-path=\"url(#clip030)\" d=\"M115.834 172.53 L138.056 172.53 L138.056 174.521 L125.51 207.09 L120.626 207.09 L132.431 176.465 L115.834 176.465 L115.834 172.53 Z\" fill=\"#000000\" fill-rule=\"evenodd\" fill-opacity=\"1\" /><path clip-path=\"url(#clip030)\" d=\"M147.177 201.211 L152.061 201.211 L152.061 207.09 L147.177 207.09 L147.177 201.211 Z\" fill=\"#000000\" fill-rule=\"evenodd\" fill-opacity=\"1\" /><path clip-path=\"url(#clip030)\" d=\"M172.246 175.609 Q168.635 175.609 166.806 179.174 Q165.001 182.715 165.001 189.845 Q165.001 196.951 166.806 200.516 Q168.635 204.058 172.246 204.058 Q175.88 204.058 177.686 200.516 Q179.514 196.951 179.514 189.845 Q179.514 182.715 177.686 179.174 Q175.88 175.609 172.246 175.609 M172.246 171.905 Q178.056 171.905 181.112 176.512 Q184.19 181.095 184.19 189.845 Q184.19 198.572 181.112 203.178 Q178.056 207.762 172.246 207.762 Q166.436 207.762 163.357 203.178 Q160.302 198.572 160.302 189.845 Q160.302 181.095 163.357 176.512 Q166.436 171.905 172.246 171.905 Z\" fill=\"#000000\" fill-rule=\"evenodd\" fill-opacity=\"1\" /><path clip-path=\"url(#clip030)\" d=\"M220.579 181.627 L210 192.252 L220.579 202.831 L217.824 205.632 L207.199 195.007 L196.575 205.632 L193.843 202.831 L204.399 192.252 L193.843 181.627 L196.575 178.827 L207.199 189.452 L217.824 178.827 L220.579 181.627 Z\" fill=\"#000000\" fill-rule=\"evenodd\" fill-opacity=\"1\" /><path clip-path=\"url(#clip030)\" d=\"M232.94 203.155 L240.579 203.155 L240.579 176.79 L232.269 178.456 L232.269 174.197 L240.533 172.53 L245.209 172.53 L245.209 203.155 L252.847 203.155 L252.847 207.09 L232.94 207.09 L232.94 203.155 Z\" fill=\"#000000\" fill-rule=\"evenodd\" fill-opacity=\"1\" /><path clip-path=\"url(#clip030)\" d=\"M272.292 175.609 Q268.681 175.609 266.852 179.174 Q265.046 182.715 265.046 189.845 Q265.046 196.951 266.852 200.516 Q268.681 204.058 272.292 204.058 Q275.926 204.058 277.732 200.516 Q279.56 196.951 279.56 189.845 Q279.56 182.715 277.732 179.174 Q275.926 175.609 272.292 175.609 M272.292 171.905 Q278.102 171.905 281.157 176.512 Q284.236 181.095 284.236 189.845 Q284.236 198.572 281.157 203.178 Q278.102 207.762 272.292 207.762 Q266.482 207.762 263.403 203.178 Q260.347 198.572 260.347 189.845 Q260.347 181.095 263.403 176.512 Q266.482 171.905 272.292 171.905 Z\" fill=\"#000000\" fill-rule=\"evenodd\" fill-opacity=\"1\" /><path clip-path=\"url(#clip030)\" d=\"M284.782 176.483 L290.988 176.483 L290.988 155.061 L284.236 156.415 L284.236 152.954 L290.95 151.6 L294.75 151.6 L294.75 176.483 L300.956 176.483 L300.956 179.68 L284.782 179.68 L284.782 176.483 Z\" fill=\"#000000\" fill-rule=\"evenodd\" fill-opacity=\"1\" /><path clip-path=\"url(#clip030)\" d=\"M316.755 154.101 Q313.821 154.101 312.335 156.998 Q310.868 159.875 310.868 165.668 Q310.868 171.442 312.335 174.339 Q313.821 177.216 316.755 177.216 Q319.708 177.216 321.175 174.339 Q322.66 171.442 322.66 165.668 Q322.66 159.875 321.175 156.998 Q319.708 154.101 316.755 154.101 M316.755 151.092 Q321.475 151.092 323.958 154.835 Q326.46 158.559 326.46 165.668 Q326.46 172.759 323.958 176.501 Q321.475 180.225 316.755 180.225 Q312.034 180.225 309.533 176.501 Q307.05 172.759 307.05 165.668 Q307.05 158.559 309.533 154.835 Q312.034 151.092 316.755 151.092 Z\" fill=\"#000000\" fill-rule=\"evenodd\" fill-opacity=\"1\" /><path clip-path=\"url(#clip030)\" d=\"M28.3562 881.638 L28.3562 875.782 L64.0042 875.782 L64.0042 881.638 L28.3562 881.638 M14.479 881.638 L14.479 875.782 L21.895 875.782 L21.895 881.638 L14.479 881.638 Z\" fill=\"#000000\" fill-rule=\"evenodd\" fill-opacity=\"1\" /><path clip-path=\"url(#clip030)\" d=\"M35.1993 835.774 Q31.2526 833.577 29.3747 830.522 Q27.4968 827.466 27.4968 823.329 Q27.4968 817.759 31.4117 814.735 Q35.2948 811.711 42.4881 811.711 L64.0042 811.711 L64.0042 817.599 L42.679 817.599 Q37.5546 817.599 35.072 819.414 Q32.5894 821.228 32.5894 824.952 Q32.5894 829.503 35.6131 832.145 Q38.6368 834.787 43.8567 834.787 L64.0042 834.787 L64.0042 840.675 L42.679 840.675 Q37.5228 840.675 35.072 842.489 Q32.5894 844.304 32.5894 848.091 Q32.5894 852.579 35.6449 855.221 Q38.6686 857.863 43.8567 857.863 L64.0042 857.863 L64.0042 863.751 L28.3562 863.751 L28.3562 857.863 L33.8944 857.863 Q30.616 855.857 29.0564 853.056 Q27.4968 850.256 27.4968 846.404 Q27.4968 842.521 29.4702 839.816 Q31.4436 837.079 35.1993 835.774 Z\" fill=\"#000000\" fill-rule=\"evenodd\" fill-opacity=\"1\" /><path clip-path=\"url(#clip030)\" d=\"M58.657 794.365 L77.5631 794.365 L77.5631 800.253 L28.3562 800.253 L28.3562 794.365 L33.7671 794.365 Q30.5842 792.519 29.0564 789.718 Q27.4968 786.885 27.4968 782.97 Q27.4968 776.477 32.6531 772.435 Q37.8093 768.361 46.212 768.361 Q54.6147 768.361 59.771 772.435 Q64.9272 776.477 64.9272 782.97 Q64.9272 786.885 63.3994 789.718 Q61.8398 792.519 58.657 794.365 M46.212 774.44 Q39.7508 774.44 36.0905 777.114 Q32.3984 779.755 32.3984 784.402 Q32.3984 789.049 36.0905 791.723 Q39.7508 794.365 46.212 794.365 Q52.6732 794.365 56.3653 791.723 Q60.0256 789.049 60.0256 784.402 Q60.0256 779.755 56.3653 777.114 Q52.6732 774.44 46.212 774.44 Z\" fill=\"#000000\" fill-rule=\"evenodd\" fill-opacity=\"1\" /><path clip-path=\"url(#clip030)\" d=\"M46.0847 742.452 Q46.0847 749.55 47.7079 752.287 Q49.3312 755.025 53.2461 755.025 Q56.3653 755.025 58.2114 752.988 Q60.0256 750.919 60.0256 747.386 Q60.0256 742.516 56.5881 739.588 Q53.1188 736.628 47.3897 736.628 L46.0847 736.628 L46.0847 742.452 M43.6657 730.771 L64.0042 730.771 L64.0042 736.628 L58.5933 736.628 Q61.8398 738.633 63.3994 741.625 Q64.9272 744.617 64.9272 748.945 Q64.9272 754.42 61.8716 757.666 Q58.7843 760.881 53.6281 760.881 Q47.6125 760.881 44.5569 756.871 Q41.5014 752.828 41.5014 744.839 L41.5014 736.628 L40.9285 736.628 Q36.8862 736.628 34.6901 739.301 Q32.4621 741.943 32.4621 746.749 Q32.4621 749.805 33.1941 752.701 Q33.9262 755.597 35.3903 758.271 L29.9795 758.271 Q28.7381 755.056 28.1334 752.033 Q27.4968 749.009 27.4968 746.144 Q27.4968 738.41 31.5072 734.591 Q35.5176 730.771 43.6657 730.771 Z\" fill=\"#000000\" fill-rule=\"evenodd\" fill-opacity=\"1\" /><path clip-path=\"url(#clip030)\" d=\"M29.7248 693.054 L35.1993 693.054 Q33.8307 695.537 33.1623 698.052 Q32.4621 700.534 32.4621 703.08 Q32.4621 708.778 36.0905 711.929 Q39.6872 715.08 46.212 715.08 Q52.7369 715.08 56.3653 711.929 Q59.9619 708.778 59.9619 703.08 Q59.9619 700.534 59.2935 698.052 Q58.5933 695.537 57.2247 693.054 L62.6355 693.054 Q63.7814 695.505 64.3543 698.147 Q64.9272 700.757 64.9272 703.717 Q64.9272 711.77 59.8664 716.512 Q54.8057 721.255 46.212 721.255 Q37.491 721.255 32.4939 716.48 Q27.4968 711.674 27.4968 703.335 Q27.4968 700.63 28.0697 698.052 Q28.6108 695.473 29.7248 693.054 Z\" fill=\"#000000\" fill-rule=\"evenodd\" fill-opacity=\"1\" /><path clip-path=\"url(#clip030)\" d=\"M18.2347 677.076 L28.3562 677.076 L28.3562 665.013 L32.9077 665.013 L32.9077 677.076 L52.2594 677.076 Q56.6199 677.076 57.8613 675.899 Q59.1026 674.689 59.1026 671.029 L59.1026 665.013 L64.0042 665.013 L64.0042 671.029 Q64.0042 677.809 61.4897 680.387 Q58.9434 682.965 52.2594 682.965 L32.9077 682.965 L32.9077 687.262 L28.3562 687.262 L28.3562 682.965 L18.2347 682.965 L18.2347 677.076 Z\" fill=\"#000000\" fill-rule=\"evenodd\" fill-opacity=\"1\" /><path clip-path=\"url(#clip030)\" d=\"M339.494 12.096 L377.735 12.096 L377.735 18.9825 L347.677 18.9825 L347.677 36.8875 L376.479 36.8875 L376.479 43.7741 L347.677 43.7741 L347.677 65.6895 L378.464 65.6895 L378.464 72.576 L339.494 72.576 L339.494 12.096 Z\" fill=\"#000000\" fill-rule=\"evenodd\" fill-opacity=\"1\" /><path clip-path=\"url(#clip030)\" d=\"M429.303 45.1919 L429.303 72.576 L421.849 72.576 L421.849 45.4349 Q421.849 38.994 419.337 35.7938 Q416.826 32.5936 411.803 32.5936 Q405.767 32.5936 402.283 36.4419 Q398.799 40.2903 398.799 46.9338 L398.799 72.576 L391.305 72.576 L391.305 27.2059 L398.799 27.2059 L398.799 34.2544 Q401.473 30.163 405.078 28.1376 Q408.724 26.1121 413.463 26.1121 Q421.282 26.1121 425.292 30.9732 Q429.303 35.7938 429.303 45.1919 Z\" fill=\"#000000\" fill-rule=\"evenodd\" fill-opacity=\"1\" /><path clip-path=\"url(#clip030)\" d=\"M438.822 27.2059 L446.721 27.2059 L460.9 65.2844 L475.078 27.2059 L482.977 27.2059 L465.963 72.576 L455.836 72.576 L438.822 27.2059 Z\" fill=\"#000000\" fill-rule=\"evenodd\" fill-opacity=\"1\" /><path clip-path=\"url(#clip030)\" d=\"M493.266 27.2059 L500.72 27.2059 L500.72 72.576 L493.266 72.576 L493.266 27.2059 M493.266 9.54393 L500.72 9.54393 L500.72 18.9825 L493.266 18.9825 L493.266 9.54393 Z\" fill=\"#000000\" fill-rule=\"evenodd\" fill-opacity=\"1\" /><path clip-path=\"url(#clip030)\" d=\"M542.606 34.1734 Q541.351 33.4443 539.852 33.1202 Q538.393 32.7556 536.611 32.7556 Q530.292 32.7556 526.889 36.8875 Q523.527 40.9789 523.527 48.6757 L523.527 72.576 L516.032 72.576 L516.032 27.2059 L523.527 27.2059 L523.527 34.2544 Q525.876 30.1225 529.643 28.1376 Q533.411 26.1121 538.798 26.1121 Q539.568 26.1121 540.5 26.2337 Q541.432 26.3147 542.566 26.5172 L542.606 34.1734 Z\" fill=\"#000000\" fill-rule=\"evenodd\" fill-opacity=\"1\" /><path clip-path=\"url(#clip030)\" d=\"M566.183 32.4315 Q560.187 32.4315 556.703 37.1306 Q553.22 41.7891 553.22 49.9314 Q553.22 58.0738 556.663 62.7728 Q560.147 67.4314 566.183 67.4314 Q572.137 67.4314 575.621 62.7323 Q579.105 58.0333 579.105 49.9314 Q579.105 41.8701 575.621 37.1711 Q572.137 32.4315 566.183 32.4315 M566.183 26.1121 Q575.905 26.1121 581.454 32.4315 Q587.004 38.7509 587.004 49.9314 Q587.004 61.0714 581.454 67.4314 Q575.905 73.7508 566.183 73.7508 Q556.42 73.7508 550.87 67.4314 Q545.361 61.0714 545.361 49.9314 Q545.361 38.7509 550.87 32.4315 Q556.42 26.1121 566.183 26.1121 Z\" fill=\"#000000\" fill-rule=\"evenodd\" fill-opacity=\"1\" /><path clip-path=\"url(#clip030)\" d=\"M637.073 45.1919 L637.073 72.576 L629.62 72.576 L629.62 45.4349 Q629.62 38.994 627.108 35.7938 Q624.597 32.5936 619.573 32.5936 Q613.538 32.5936 610.054 36.4419 Q606.57 40.2903 606.57 46.9338 L606.57 72.576 L599.076 72.576 L599.076 27.2059 L606.57 27.2059 L606.57 34.2544 Q609.244 30.163 612.849 28.1376 Q616.495 26.1121 621.234 26.1121 Q629.053 26.1121 633.063 30.9732 Q637.073 35.7938 637.073 45.1919 Z\" fill=\"#000000\" fill-rule=\"evenodd\" fill-opacity=\"1\" /><path clip-path=\"url(#clip030)\" d=\"M687.264 35.9153 Q690.059 30.8922 693.948 28.5022 Q697.837 26.1121 703.103 26.1121 Q710.192 26.1121 714.041 31.0947 Q717.889 36.0368 717.889 45.1919 L717.889 72.576 L710.395 72.576 L710.395 45.4349 Q710.395 38.913 708.086 35.7533 Q705.777 32.5936 701.037 32.5936 Q695.244 32.5936 691.882 36.4419 Q688.52 40.2903 688.52 46.9338 L688.52 72.576 L681.026 72.576 L681.026 45.4349 Q681.026 38.8725 678.717 35.7533 Q676.408 32.5936 671.587 32.5936 Q665.875 32.5936 662.513 36.4824 Q659.151 40.3308 659.151 46.9338 L659.151 72.576 L651.657 72.576 L651.657 27.2059 L659.151 27.2059 L659.151 34.2544 Q661.703 30.082 665.268 28.0971 Q668.832 26.1121 673.734 26.1121 Q678.676 26.1121 682.119 28.6237 Q685.603 31.1352 687.264 35.9153 Z\" fill=\"#000000\" fill-rule=\"evenodd\" fill-opacity=\"1\" /><path clip-path=\"url(#clip030)\" d=\"M771.563 48.0275 L771.563 51.6733 L737.293 51.6733 Q737.779 59.3701 741.911 63.421 Q746.083 67.4314 753.496 67.4314 Q757.79 67.4314 761.801 66.3781 Q765.852 65.3249 769.822 63.2184 L769.822 70.267 Q765.811 71.9684 761.598 72.8596 Q757.385 73.7508 753.051 73.7508 Q742.194 73.7508 735.834 67.4314 Q729.515 61.1119 729.515 50.3365 Q729.515 39.1965 735.51 32.6746 Q741.546 26.1121 751.754 26.1121 Q760.91 26.1121 766.216 32.0264 Q771.563 37.9003 771.563 48.0275 M764.11 45.84 Q764.029 39.7232 760.666 36.0774 Q757.345 32.4315 751.836 32.4315 Q745.597 32.4315 741.83 35.9558 Q738.103 39.4801 737.536 45.8805 L764.11 45.84 Z\" fill=\"#000000\" fill-rule=\"evenodd\" fill-opacity=\"1\" /><path clip-path=\"url(#clip030)\" d=\"M821.511 45.1919 L821.511 72.576 L814.057 72.576 L814.057 45.4349 Q814.057 38.994 811.546 35.7938 Q809.034 32.5936 804.011 32.5936 Q797.975 32.5936 794.492 36.4419 Q791.008 40.2903 791.008 46.9338 L791.008 72.576 L783.514 72.576 L783.514 27.2059 L791.008 27.2059 L791.008 34.2544 Q793.681 30.163 797.287 28.1376 Q800.932 26.1121 805.672 26.1121 Q813.49 26.1121 817.501 30.9732 Q821.511 35.7938 821.511 45.1919 Z\" fill=\"#000000\" fill-rule=\"evenodd\" fill-opacity=\"1\" /><path clip-path=\"url(#clip030)\" d=\"M843.751 14.324 L843.751 27.2059 L859.103 27.2059 L859.103 32.9987 L843.751 32.9987 L843.751 57.6282 Q843.751 63.1779 845.249 64.7578 Q846.789 66.3376 851.447 66.3376 L859.103 66.3376 L859.103 72.576 L851.447 72.576 Q842.819 72.576 839.538 69.3758 Q836.256 66.1351 836.256 57.6282 L836.256 32.9987 L830.788 32.9987 L830.788 27.2059 L836.256 27.2059 L836.256 14.324 L843.751 14.324 Z\" fill=\"#000000\" fill-rule=\"evenodd\" fill-opacity=\"1\" /><path clip-path=\"url(#clip030)\" d=\"M889.526 49.7694 Q880.492 49.7694 877.008 51.8354 Q873.525 53.9013 873.525 58.8839 Q873.525 62.8538 876.117 65.2034 Q878.75 67.5124 883.247 67.5124 Q889.445 67.5124 893.172 63.1374 Q896.939 58.7219 896.939 51.4303 L896.939 49.7694 L889.526 49.7694 M904.393 46.6907 L904.393 72.576 L896.939 72.576 L896.939 65.6895 Q894.387 69.8214 890.579 71.8063 Q886.771 73.7508 881.262 73.7508 Q874.294 73.7508 870.162 69.8619 Q866.071 65.9325 866.071 59.3701 Q866.071 51.7138 871.175 47.825 Q876.32 43.9361 886.488 43.9361 L896.939 43.9361 L896.939 43.2069 Q896.939 38.0623 893.536 35.2672 Q890.174 32.4315 884.057 32.4315 Q880.168 32.4315 876.482 33.3632 Q872.796 34.295 869.393 36.1584 L869.393 29.2718 Q873.484 27.692 877.333 26.9223 Q881.181 26.1121 884.827 26.1121 Q894.67 26.1121 899.531 31.2163 Q904.393 36.3204 904.393 46.6907 Z\" fill=\"#000000\" fill-rule=\"evenodd\" fill-opacity=\"1\" /><path clip-path=\"url(#clip030)\" d=\"M919.745 9.54393 L927.199 9.54393 L927.199 72.576 L919.745 72.576 L919.745 9.54393 Z\" fill=\"#000000\" fill-rule=\"evenodd\" fill-opacity=\"1\" /><path clip-path=\"url(#clip030)\" d=\"M969.167 27.2059 L976.62 27.2059 L976.62 72.576 L969.167 72.576 L969.167 27.2059 M969.167 9.54393 L976.62 9.54393 L976.62 18.9825 L969.167 18.9825 L969.167 9.54393 Z\" fill=\"#000000\" fill-rule=\"evenodd\" fill-opacity=\"1\" /><path clip-path=\"url(#clip030)\" d=\"M1027.54 35.9153 Q1030.34 30.8922 1034.22 28.5022 Q1038.11 26.1121 1043.38 26.1121 Q1050.47 26.1121 1054.32 31.0947 Q1058.16 36.0368 1058.16 45.1919 L1058.16 72.576 L1050.67 72.576 L1050.67 45.4349 Q1050.67 38.913 1048.36 35.7533 Q1046.05 32.5936 1041.31 32.5936 Q1035.52 32.5936 1032.16 36.4419 Q1028.8 40.2903 1028.8 46.9338 L1028.8 72.576 L1021.3 72.576 L1021.3 45.4349 Q1021.3 38.8725 1018.99 35.7533 Q1016.68 32.5936 1011.86 32.5936 Q1006.15 32.5936 1002.79 36.4824 Q999.427 40.3308 999.427 46.9338 L999.427 72.576 L991.933 72.576 L991.933 27.2059 L999.427 27.2059 L999.427 34.2544 Q1001.98 30.082 1005.54 28.0971 Q1009.11 26.1121 1014.01 26.1121 Q1018.95 26.1121 1022.4 28.6237 Q1025.88 31.1352 1027.54 35.9153 Z\" fill=\"#000000\" fill-rule=\"evenodd\" fill-opacity=\"1\" /><path clip-path=\"url(#clip030)\" d=\"M1080.24 65.7705 L1080.24 89.8329 L1072.75 89.8329 L1072.75 27.2059 L1080.24 27.2059 L1080.24 34.0924 Q1082.59 30.0415 1086.16 28.0971 Q1089.76 26.1121 1094.74 26.1121 Q1103.01 26.1121 1108.15 32.6746 Q1113.34 39.2371 1113.34 49.9314 Q1113.34 60.6258 1108.15 67.1883 Q1103.01 73.7508 1094.74 73.7508 Q1089.76 73.7508 1086.16 71.8063 Q1082.59 69.8214 1080.24 65.7705 M1105.6 49.9314 Q1105.6 41.7081 1102.2 37.0496 Q1098.84 32.3505 1092.92 32.3505 Q1087.01 32.3505 1083.6 37.0496 Q1080.24 41.7081 1080.24 49.9314 Q1080.24 58.1548 1083.6 62.8538 Q1087.01 67.5124 1092.92 67.5124 Q1098.84 67.5124 1102.2 62.8538 Q1105.6 58.1548 1105.6 49.9314 Z\" fill=\"#000000\" fill-rule=\"evenodd\" fill-opacity=\"1\" /><path clip-path=\"url(#clip030)\" d=\"M1146.31 49.7694 Q1137.28 49.7694 1133.8 51.8354 Q1130.31 53.9013 1130.31 58.8839 Q1130.31 62.8538 1132.9 65.2034 Q1135.54 67.5124 1140.03 67.5124 Q1146.23 67.5124 1149.96 63.1374 Q1153.73 58.7219 1153.73 51.4303 L1153.73 49.7694 L1146.31 49.7694 M1161.18 46.6907 L1161.18 72.576 L1153.73 72.576 L1153.73 65.6895 Q1151.17 69.8214 1147.37 71.8063 Q1143.56 73.7508 1138.05 73.7508 Q1131.08 73.7508 1126.95 69.8619 Q1122.86 65.9325 1122.86 59.3701 Q1122.86 51.7138 1127.96 47.825 Q1133.11 43.9361 1143.27 43.9361 L1153.73 43.9361 L1153.73 43.2069 Q1153.73 38.0623 1150.32 35.2672 Q1146.96 32.4315 1140.84 32.4315 Q1136.95 32.4315 1133.27 33.3632 Q1129.58 34.295 1126.18 36.1584 L1126.18 29.2718 Q1130.27 27.692 1134.12 26.9223 Q1137.97 26.1121 1141.61 26.1121 Q1151.46 26.1121 1156.32 31.2163 Q1161.18 36.3204 1161.18 46.6907 Z\" fill=\"#000000\" fill-rule=\"evenodd\" fill-opacity=\"1\" /><path clip-path=\"url(#clip030)\" d=\"M1209.18 28.9478 L1209.18 35.9153 Q1206.02 34.1734 1202.82 33.3227 Q1199.66 32.4315 1196.42 32.4315 Q1189.17 32.4315 1185.16 37.0496 Q1181.15 41.6271 1181.15 49.9314 Q1181.15 58.2358 1185.16 62.8538 Q1189.17 67.4314 1196.42 67.4314 Q1199.66 67.4314 1202.82 66.5807 Q1206.02 65.6895 1209.18 63.9476 L1209.18 70.8341 Q1206.06 72.2924 1202.7 73.0216 Q1199.38 73.7508 1195.61 73.7508 Q1185.36 73.7508 1179.33 67.3098 Q1173.29 60.8689 1173.29 49.9314 Q1173.29 38.832 1179.37 32.472 Q1185.48 26.1121 1196.1 26.1121 Q1199.54 26.1121 1202.82 26.8413 Q1206.1 27.5299 1209.18 28.9478 Z\" fill=\"#000000\" fill-rule=\"evenodd\" fill-opacity=\"1\" /><path clip-path=\"url(#clip030)\" d=\"M1229.52 14.324 L1229.52 27.2059 L1244.87 27.2059 L1244.87 32.9987 L1229.52 32.9987 L1229.52 57.6282 Q1229.52 63.1779 1231.02 64.7578 Q1232.56 66.3376 1237.21 66.3376 L1244.87 66.3376 L1244.87 72.576 L1237.21 72.576 Q1228.59 72.576 1225.31 69.3758 Q1222.02 66.1351 1222.02 57.6282 L1222.02 32.9987 L1216.56 32.9987 L1216.56 27.2059 L1222.02 27.2059 L1222.02 14.324 L1229.52 14.324 Z\" fill=\"#000000\" fill-rule=\"evenodd\" fill-opacity=\"1\" /><path clip-path=\"url(#clip030)\" d=\"M1304.01 9.54393 L1304.01 15.7418 L1296.88 15.7418 Q1292.87 15.7418 1291.29 17.3622 Q1289.76 18.9825 1289.76 23.1955 L1289.76 27.2059 L1302.03 27.2059 L1302.03 32.9987 L1289.76 32.9987 L1289.76 72.576 L1282.26 72.576 L1282.26 32.9987 L1275.13 32.9987 L1275.13 27.2059 L1282.26 27.2059 L1282.26 24.0462 Q1282.26 16.471 1285.79 13.0277 Q1289.31 9.54393 1296.97 9.54393 L1304.01 9.54393 Z\" fill=\"#000000\" fill-rule=\"evenodd\" fill-opacity=\"1\" /><path clip-path=\"url(#clip030)\" d=\"M1327.83 32.4315 Q1321.84 32.4315 1318.35 37.1306 Q1314.87 41.7891 1314.87 49.9314 Q1314.87 58.0738 1318.31 62.7728 Q1321.8 67.4314 1327.83 67.4314 Q1333.79 67.4314 1337.27 62.7323 Q1340.76 58.0333 1340.76 49.9314 Q1340.76 41.8701 1337.27 37.1711 Q1333.79 32.4315 1327.83 32.4315 M1327.83 26.1121 Q1337.56 26.1121 1343.11 32.4315 Q1348.66 38.7509 1348.66 49.9314 Q1348.66 61.0714 1343.11 67.4314 Q1337.56 73.7508 1327.83 73.7508 Q1318.07 73.7508 1312.52 67.4314 Q1307.01 61.0714 1307.01 49.9314 Q1307.01 38.7509 1312.52 32.4315 Q1318.07 26.1121 1327.83 26.1121 Z\" fill=\"#000000\" fill-rule=\"evenodd\" fill-opacity=\"1\" /><path clip-path=\"url(#clip030)\" d=\"M1387.3 34.1734 Q1386.05 33.4443 1384.55 33.1202 Q1383.09 32.7556 1381.31 32.7556 Q1374.99 32.7556 1371.58 36.8875 Q1368.22 40.9789 1368.22 48.6757 L1368.22 72.576 L1360.73 72.576 L1360.73 27.2059 L1368.22 27.2059 L1368.22 34.2544 Q1370.57 30.1225 1374.34 28.1376 Q1378.11 26.1121 1383.49 26.1121 Q1384.26 26.1121 1385.19 26.2337 Q1386.13 26.3147 1387.26 26.5172 L1387.3 34.1734 Z\" fill=\"#000000\" fill-rule=\"evenodd\" fill-opacity=\"1\" /><path clip-path=\"url(#clip030)\" d=\"M1451.35 34.0924 L1451.35 9.54393 L1458.8 9.54393 L1458.8 72.576 L1451.35 72.576 L1451.35 65.7705 Q1449 69.8214 1445.39 71.8063 Q1441.83 73.7508 1436.8 73.7508 Q1428.58 73.7508 1423.39 67.1883 Q1418.25 60.6258 1418.25 49.9314 Q1418.25 39.2371 1423.39 32.6746 Q1428.58 26.1121 1436.8 26.1121 Q1441.83 26.1121 1445.39 28.0971 Q1449 30.0415 1451.35 34.0924 M1425.95 49.9314 Q1425.95 58.1548 1429.31 62.8538 Q1432.71 67.5124 1438.63 67.5124 Q1444.54 67.5124 1447.94 62.8538 Q1451.35 58.1548 1451.35 49.9314 Q1451.35 41.7081 1447.94 37.0496 Q1444.54 32.3505 1438.63 32.3505 Q1432.71 32.3505 1429.31 37.0496 Q1425.95 41.7081 1425.95 49.9314 Z\" fill=\"#000000\" fill-rule=\"evenodd\" fill-opacity=\"1\" /><path clip-path=\"url(#clip030)\" d=\"M1474.15 27.2059 L1481.61 27.2059 L1481.61 72.576 L1474.15 72.576 L1474.15 27.2059 M1474.15 9.54393 L1481.61 9.54393 L1481.61 18.9825 L1474.15 18.9825 L1474.15 9.54393 Z\" fill=\"#000000\" fill-rule=\"evenodd\" fill-opacity=\"1\" /><path clip-path=\"url(#clip030)\" d=\"M1520.17 9.54393 L1520.17 15.7418 L1513.04 15.7418 Q1509.03 15.7418 1507.45 17.3622 Q1505.91 18.9825 1505.91 23.1955 L1505.91 27.2059 L1518.19 27.2059 L1518.19 32.9987 L1505.91 32.9987 L1505.91 72.576 L1498.42 72.576 L1498.42 32.9987 L1491.29 32.9987 L1491.29 27.2059 L1498.42 27.2059 L1498.42 24.0462 Q1498.42 16.471 1501.94 13.0277 Q1505.47 9.54393 1513.12 9.54393 L1520.17 9.54393 Z\" fill=\"#000000\" fill-rule=\"evenodd\" fill-opacity=\"1\" /><path clip-path=\"url(#clip030)\" d=\"M1549.38 9.54393 L1549.38 15.7418 L1542.25 15.7418 Q1538.24 15.7418 1536.66 17.3622 Q1535.12 18.9825 1535.12 23.1955 L1535.12 27.2059 L1547.39 27.2059 L1547.39 32.9987 L1535.12 32.9987 L1535.12 72.576 L1527.62 72.576 L1527.62 32.9987 L1520.49 32.9987 L1520.49 27.2059 L1527.62 27.2059 L1527.62 24.0462 Q1527.62 16.471 1531.15 13.0277 Q1534.67 9.54393 1542.33 9.54393 L1549.38 9.54393 Z\" fill=\"#000000\" fill-rule=\"evenodd\" fill-opacity=\"1\" /><path clip-path=\"url(#clip030)\" d=\"M1594.42 48.0275 L1594.42 51.6733 L1560.15 51.6733 Q1560.64 59.3701 1564.77 63.421 Q1568.94 67.4314 1576.36 67.4314 Q1580.65 67.4314 1584.66 66.3781 Q1588.71 65.3249 1592.68 63.2184 L1592.68 70.267 Q1588.67 71.9684 1584.46 72.8596 Q1580.25 73.7508 1575.91 73.7508 Q1565.05 73.7508 1558.69 67.4314 Q1552.38 61.1119 1552.38 50.3365 Q1552.38 39.1965 1558.37 32.6746 Q1564.41 26.1121 1574.61 26.1121 Q1583.77 26.1121 1589.08 32.0264 Q1594.42 37.9003 1594.42 48.0275 M1586.97 45.84 Q1586.89 39.7232 1583.53 36.0774 Q1580.2 32.4315 1574.7 32.4315 Q1568.46 32.4315 1564.69 35.9558 Q1560.96 39.4801 1560.4 45.8805 L1586.97 45.84 Z\" fill=\"#000000\" fill-rule=\"evenodd\" fill-opacity=\"1\" /><path clip-path=\"url(#clip030)\" d=\"M1632.95 34.1734 Q1631.69 33.4443 1630.19 33.1202 Q1628.73 32.7556 1626.95 32.7556 Q1620.63 32.7556 1617.23 36.8875 Q1613.87 40.9789 1613.87 48.6757 L1613.87 72.576 L1606.37 72.576 L1606.37 27.2059 L1613.87 27.2059 L1613.87 34.2544 Q1616.22 30.1225 1619.98 28.1376 Q1623.75 26.1121 1629.14 26.1121 Q1629.91 26.1121 1630.84 26.2337 Q1631.77 26.3147 1632.91 26.5172 L1632.95 34.1734 Z\" fill=\"#000000\" fill-rule=\"evenodd\" fill-opacity=\"1\" /><path clip-path=\"url(#clip030)\" d=\"M1677.75 48.0275 L1677.75 51.6733 L1643.48 51.6733 Q1643.97 59.3701 1648.1 63.421 Q1652.27 67.4314 1659.68 67.4314 Q1663.98 67.4314 1667.99 66.3781 Q1672.04 65.3249 1676.01 63.2184 L1676.01 70.267 Q1672 71.9684 1667.79 72.8596 Q1663.57 73.7508 1659.24 73.7508 Q1648.38 73.7508 1642.02 67.4314 Q1635.7 61.1119 1635.7 50.3365 Q1635.7 39.1965 1641.7 32.6746 Q1647.73 26.1121 1657.94 26.1121 Q1667.1 26.1121 1672.4 32.0264 Q1677.75 37.9003 1677.75 48.0275 M1670.3 45.84 Q1670.22 39.7232 1666.85 36.0774 Q1663.53 32.4315 1658.02 32.4315 Q1651.78 32.4315 1648.02 35.9558 Q1644.29 39.4801 1643.72 45.8805 L1670.3 45.84 Z\" fill=\"#000000\" fill-rule=\"evenodd\" fill-opacity=\"1\" /><path clip-path=\"url(#clip030)\" d=\"M1727.7 45.1919 L1727.7 72.576 L1720.24 72.576 L1720.24 45.4349 Q1720.24 38.994 1717.73 35.7938 Q1715.22 32.5936 1710.2 32.5936 Q1704.16 32.5936 1700.68 36.4419 Q1697.2 40.2903 1697.2 46.9338 L1697.2 72.576 L1689.7 72.576 L1689.7 27.2059 L1697.2 27.2059 L1697.2 34.2544 Q1699.87 30.163 1703.47 28.1376 Q1707.12 26.1121 1711.86 26.1121 Q1719.68 26.1121 1723.69 30.9732 Q1727.7 35.7938 1727.7 45.1919 Z\" fill=\"#000000\" fill-rule=\"evenodd\" fill-opacity=\"1\" /><path clip-path=\"url(#clip030)\" d=\"M1749.94 14.324 L1749.94 27.2059 L1765.29 27.2059 L1765.29 32.9987 L1749.94 32.9987 L1749.94 57.6282 Q1749.94 63.1779 1751.44 64.7578 Q1752.98 66.3376 1757.63 66.3376 L1765.29 66.3376 L1765.29 72.576 L1757.63 72.576 Q1749.01 72.576 1745.72 69.3758 Q1742.44 66.1351 1742.44 57.6282 L1742.44 32.9987 L1736.97 32.9987 L1736.97 27.2059 L1742.44 27.2059 L1742.44 14.324 L1749.94 14.324 Z\" fill=\"#000000\" fill-rule=\"evenodd\" fill-opacity=\"1\" /><path clip-path=\"url(#clip030)\" d=\"M1796.12 27.2059 L1804.02 27.2059 L1818.2 65.2844 L1832.37 27.2059 L1840.27 27.2059 L1823.26 72.576 L1813.13 72.576 L1796.12 27.2059 Z\" fill=\"#000000\" fill-rule=\"evenodd\" fill-opacity=\"1\" /><path clip-path=\"url(#clip030)\" d=\"M1871.18 49.7694 Q1862.15 49.7694 1858.66 51.8354 Q1855.18 53.9013 1855.18 58.8839 Q1855.18 62.8538 1857.77 65.2034 Q1860.41 67.5124 1864.9 67.5124 Q1871.1 67.5124 1874.83 63.1374 Q1878.59 58.7219 1878.59 51.4303 L1878.59 49.7694 L1871.18 49.7694 M1886.05 46.6907 L1886.05 72.576 L1878.59 72.576 L1878.59 65.6895 Q1876.04 69.8214 1872.23 71.8063 Q1868.43 73.7508 1862.92 73.7508 Q1855.95 73.7508 1851.82 69.8619 Q1847.73 65.9325 1847.73 59.3701 Q1847.73 51.7138 1852.83 47.825 Q1857.98 43.9361 1868.14 43.9361 L1878.59 43.9361 L1878.59 43.2069 Q1878.59 38.0623 1875.19 35.2672 Q1871.83 32.4315 1865.71 32.4315 Q1861.82 32.4315 1858.14 33.3632 Q1854.45 34.295 1851.05 36.1584 L1851.05 29.2718 Q1855.14 27.692 1858.99 26.9223 Q1862.84 26.1121 1866.48 26.1121 Q1876.33 26.1121 1881.19 31.2163 Q1886.05 36.3204 1886.05 46.6907 Z\" fill=\"#000000\" fill-rule=\"evenodd\" fill-opacity=\"1\" /><path clip-path=\"url(#clip030)\" d=\"M1901.4 9.54393 L1908.85 9.54393 L1908.85 72.576 L1901.4 72.576 L1901.4 9.54393 Z\" fill=\"#000000\" fill-rule=\"evenodd\" fill-opacity=\"1\" /><path clip-path=\"url(#clip030)\" d=\"M1923.68 54.671 L1923.68 27.2059 L1931.13 27.2059 L1931.13 54.3874 Q1931.13 60.8284 1933.65 64.0691 Q1936.16 67.2693 1941.18 67.2693 Q1947.22 67.2693 1950.7 63.421 Q1954.22 59.5726 1954.22 52.9291 L1954.22 27.2059 L1961.68 27.2059 L1961.68 72.576 L1954.22 72.576 L1954.22 65.6084 Q1951.51 69.7404 1947.91 71.7658 Q1944.34 73.7508 1939.6 73.7508 Q1931.78 73.7508 1927.73 68.8897 Q1923.68 64.0286 1923.68 54.671 M1942.44 26.1121 L1942.44 26.1121 Z\" fill=\"#000000\" fill-rule=\"evenodd\" fill-opacity=\"1\" /><path clip-path=\"url(#clip030)\" d=\"M2015.84 48.0275 L2015.84 51.6733 L1981.57 51.6733 Q1982.05 59.3701 1986.19 63.421 Q1990.36 67.4314 1997.77 67.4314 Q2002.07 67.4314 2006.08 66.3781 Q2010.13 65.3249 2014.1 63.2184 L2014.1 70.267 Q2010.09 71.9684 2005.87 72.8596 Q2001.66 73.7508 1997.33 73.7508 Q1986.47 73.7508 1980.11 67.4314 Q1973.79 61.1119 1973.79 50.3365 Q1973.79 39.1965 1979.79 32.6746 Q1985.82 26.1121 1996.03 26.1121 Q2005.19 26.1121 2010.49 32.0264 Q2015.84 37.9003 2015.84 48.0275 M2008.39 45.84 Q2008.3 39.7232 2004.94 36.0774 Q2001.62 32.4315 1996.11 32.4315 Q1989.87 32.4315 1986.11 35.9558 Q1982.38 39.4801 1981.81 45.8805 L2008.39 45.84 Z\" fill=\"#000000\" fill-rule=\"evenodd\" fill-opacity=\"1\" /><path clip-path=\"url(#clip030)\" d=\"M2057 28.5427 L2057 35.5912 Q2053.84 33.9709 2050.43 33.1607 Q2047.03 32.3505 2043.39 32.3505 Q2037.84 32.3505 2035.04 34.0519 Q2032.29 35.7533 2032.29 39.156 Q2032.29 41.7486 2034.27 43.2475 Q2036.26 44.7058 2042.25 46.0426 L2044.8 46.6097 Q2052.74 48.3111 2056.06 51.4303 Q2059.43 54.509 2059.43 60.0587 Q2059.43 66.3781 2054.4 70.0644 Q2049.42 73.7508 2040.67 73.7508 Q2037.03 73.7508 2033.06 73.0216 Q2029.13 72.3329 2024.75 70.9151 L2024.75 63.2184 Q2028.88 65.3654 2032.89 66.4591 Q2036.9 67.5124 2040.83 67.5124 Q2046.1 67.5124 2048.94 65.73 Q2051.77 63.9071 2051.77 60.6258 Q2051.77 57.5877 2049.7 55.9673 Q2047.68 54.3469 2040.75 52.8481 L2038.16 52.2405 Q2031.23 50.7821 2028.15 47.7845 Q2025.08 44.7463 2025.08 39.4801 Q2025.08 33.0797 2029.61 29.5959 Q2034.15 26.1121 2042.49 26.1121 Q2046.63 26.1121 2050.27 26.7198 Q2053.92 27.3274 2057 28.5427 Z\" fill=\"#000000\" fill-rule=\"evenodd\" fill-opacity=\"1\" /><path clip-path=\"url(#clip030)\" d=\"M2115.25 32.4315 Q2109.25 32.4315 2105.77 37.1306 Q2102.29 41.7891 2102.29 49.9314 Q2102.29 58.0738 2105.73 62.7728 Q2109.21 67.4314 2115.25 67.4314 Q2121.2 67.4314 2124.69 62.7323 Q2128.17 58.0333 2128.17 49.9314 Q2128.17 41.8701 2124.69 37.1711 Q2121.2 32.4315 2115.25 32.4315 M2115.25 26.1121 Q2124.97 26.1121 2130.52 32.4315 Q2136.07 38.7509 2136.07 49.9314 Q2136.07 61.0714 2130.52 67.4314 Q2124.97 73.7508 2115.25 73.7508 Q2105.49 73.7508 2099.94 67.4314 Q2094.43 61.0714 2094.43 49.9314 Q2094.43 38.7509 2099.94 32.4315 Q2105.49 26.1121 2115.25 26.1121 Z\" fill=\"#000000\" fill-rule=\"evenodd\" fill-opacity=\"1\" /><path clip-path=\"url(#clip030)\" d=\"M2171.39 9.54393 L2171.39 15.7418 L2164.26 15.7418 Q2160.25 15.7418 2158.67 17.3622 Q2157.13 18.9825 2157.13 23.1955 L2157.13 27.2059 L2169.41 27.2059 L2169.41 32.9987 L2157.13 32.9987 L2157.13 72.576 L2149.64 72.576 L2149.64 32.9987 L2142.51 32.9987 L2142.51 27.2059 L2149.64 27.2059 L2149.64 24.0462 Q2149.64 16.471 2153.16 13.0277 Q2156.69 9.54393 2164.35 9.54393 L2171.39 9.54393 Z\" fill=\"#000000\" fill-rule=\"evenodd\" fill-opacity=\"1\" /><path clip-path=\"url(#clip030)\" d=\"M2236.57 49.9314 Q2236.57 41.7081 2233.17 37.0496 Q2229.81 32.3505 2223.89 32.3505 Q2217.98 32.3505 2214.58 37.0496 Q2211.21 41.7081 2211.21 49.9314 Q2211.21 58.1548 2214.58 62.8538 Q2217.98 67.5124 2223.89 67.5124 Q2229.81 67.5124 2233.17 62.8538 Q2236.57 58.1548 2236.57 49.9314 M2211.21 34.0924 Q2213.56 30.0415 2217.13 28.0971 Q2220.73 26.1121 2225.72 26.1121 Q2233.98 26.1121 2239.12 32.6746 Q2244.31 39.2371 2244.31 49.9314 Q2244.31 60.6258 2239.12 67.1883 Q2233.98 73.7508 2225.72 73.7508 Q2220.73 73.7508 2217.13 71.8063 Q2213.56 69.8214 2211.21 65.7705 L2211.21 72.576 L2203.72 72.576 L2203.72 9.54393 L2211.21 9.54393 L2211.21 34.0924 Z\" fill=\"#000000\" fill-rule=\"evenodd\" fill-opacity=\"1\" /><path clip-path=\"url(#clip030)\" d=\"M2295.47 48.0275 L2295.47 51.6733 L2261.2 51.6733 Q2261.69 59.3701 2265.82 63.421 Q2269.99 67.4314 2277.41 67.4314 Q2281.7 67.4314 2285.71 66.3781 Q2289.76 65.3249 2293.73 63.2184 L2293.73 70.267 Q2289.72 71.9684 2285.51 72.8596 Q2281.29 73.7508 2276.96 73.7508 Q2266.1 73.7508 2259.74 67.4314 Q2253.42 61.1119 2253.42 50.3365 Q2253.42 39.1965 2259.42 32.6746 Q2265.46 26.1121 2275.66 26.1121 Q2284.82 26.1121 2290.13 32.0264 Q2295.47 37.9003 2295.47 48.0275 M2288.02 45.84 Q2287.94 39.7232 2284.58 36.0774 Q2281.25 32.4315 2275.75 32.4315 Q2269.51 32.4315 2265.74 35.9558 Q2262.01 39.4801 2261.45 45.8805 L2288.02 45.84 Z\" fill=\"#000000\" fill-rule=\"evenodd\" fill-opacity=\"1\" /><path clip-path=\"url(#clip030)\" d=\"M2315.08 14.324 L2315.08 27.2059 L2330.43 27.2059 L2330.43 32.9987 L2315.08 32.9987 L2315.08 57.6282 Q2315.08 63.1779 2316.58 64.7578 Q2318.12 66.3376 2322.78 66.3376 L2330.43 66.3376 L2330.43 72.576 L2322.78 72.576 Q2314.15 72.576 2310.87 69.3758 Q2307.59 66.1351 2307.59 57.6282 L2307.59 32.9987 L2302.12 32.9987 L2302.12 27.2059 L2307.59 27.2059 L2307.59 14.324 L2315.08 14.324 Z\" fill=\"#000000\" fill-rule=\"evenodd\" fill-opacity=\"1\" /><path clip-path=\"url(#clip030)\" d=\"M2360.85 49.7694 Q2351.82 49.7694 2348.34 51.8354 Q2344.85 53.9013 2344.85 58.8839 Q2344.85 62.8538 2347.45 65.2034 Q2350.08 67.5124 2354.58 67.5124 Q2360.77 67.5124 2364.5 63.1374 Q2368.27 58.7219 2368.27 51.4303 L2368.27 49.7694 L2360.85 49.7694 M2375.72 46.6907 L2375.72 72.576 L2368.27 72.576 L2368.27 65.6895 Q2365.72 69.8214 2361.91 71.8063 Q2358.1 73.7508 2352.59 73.7508 Q2345.62 73.7508 2341.49 69.8619 Q2337.4 65.9325 2337.4 59.3701 Q2337.4 51.7138 2342.5 47.825 Q2347.65 43.9361 2357.82 43.9361 L2368.27 43.9361 L2368.27 43.2069 Q2368.27 38.0623 2364.87 35.2672 Q2361.5 32.4315 2355.39 32.4315 Q2351.5 32.4315 2347.81 33.3632 Q2344.12 34.295 2340.72 36.1584 L2340.72 29.2718 Q2344.81 27.692 2348.66 26.9223 Q2352.51 26.1121 2356.16 26.1121 Q2366 26.1121 2370.86 31.2163 Q2375.72 36.3204 2375.72 46.6907 Z\" fill=\"#000000\" fill-rule=\"evenodd\" fill-opacity=\"1\" /><polyline clip-path=\"url(#clip032)\" style=\"stroke:#009af9; stroke-linecap:round; stroke-linejoin:round; stroke-width:4; stroke-opacity:1; fill:none\" points=\"\n  418.789,160.256 483.535,608.798 548.281,807.255 613.027,1066.04 677.773,1232.1 742.519,1265.82 807.266,1299.66 872.012,1314.18 936.758,1327.66 1001.5,1329.02 \n  1066.25,1339.44 1131,1345.35 1195.74,1352.39 1260.49,1359.55 1325.23,1360.71 1389.98,1362.86 1454.73,1364.02 1519.47,1365.57 1584.22,1366.73 1648.97,1367.5 \n  1713.71,1369.99 1778.46,1371.77 1843.2,1374.23 1907.95,1378.52 1972.7,1381.58 2037.44,1385.74 2102.19,1386.4 2166.93,1386.4 2231.68,1386.4 2296.43,1386.4 \n  \n  \"/>\n<polyline clip-path=\"url(#clip032)\" style=\"stroke:#e26f46; stroke-linecap:round; stroke-linejoin:round; stroke-width:4; stroke-opacity:1; fill:none\" points=\"\n  418.789,306.162 483.535,704.208 548.281,872.845 613.027,1105.52 677.773,1253.49 742.519,1275.55 807.266,1303.75 872.012,1315.15 936.758,1327.73 1001.5,1329.02 \n  1066.25,1339.44 1131,1345.35 1195.74,1352.39 1260.49,1359.55 1325.23,1360.71 1389.98,1362.86 1454.73,1364.02 1519.47,1365.57 1584.22,1366.73 1648.97,1367.5 \n  1713.71,1369.99 1778.46,1371.77 1843.2,1374.23 1907.95,1378.52 1972.7,1381.58 2037.44,1385.74 2102.19,1386.4 2166.93,1386.4 2231.68,1386.4 2296.43,1386.4 \n  \n  \"/>\n<path clip-path=\"url(#clip030)\" d=\"\nM428.803 322.316 L1019.92 322.316 L1019.92 166.796 L428.803 166.796  Z\n  \" fill=\"#ffffff\" fill-rule=\"evenodd\" fill-opacity=\"1\"/>\n<polyline clip-path=\"url(#clip030)\" style=\"stroke:#000000; stroke-linecap:round; stroke-linejoin:round; stroke-width:4; stroke-opacity:1; fill:none\" points=\"\n  428.803,322.316 1019.92,322.316 1019.92,166.796 428.803,166.796 428.803,322.316 \n  \"/>\n<polyline clip-path=\"url(#clip030)\" style=\"stroke:#009af9; stroke-linecap:round; stroke-linejoin:round; stroke-width:4; stroke-opacity:1; fill:none\" points=\"\n  450.917,218.636 583.604,218.636 \n  \"/>\n<path clip-path=\"url(#clip030)\" d=\"M605.718 201.356 L634.954 201.356 L634.954 205.291 L622.685 205.291 L622.685 235.916 L617.986 235.916 L617.986 205.291 L605.718 205.291 L605.718 201.356 Z\" fill=\"#000000\" fill-rule=\"evenodd\" fill-opacity=\"1\" /><path clip-path=\"url(#clip030)\" d=\"M641.273 212.976 Q637.847 212.976 635.857 215.661 Q633.866 218.323 633.866 222.976 Q633.866 227.629 635.834 230.314 Q637.824 232.976 641.273 232.976 Q644.676 232.976 646.667 230.291 Q648.658 227.606 648.658 222.976 Q648.658 218.37 646.667 215.684 Q644.676 212.976 641.273 212.976 M641.273 209.365 Q646.829 209.365 650 212.976 Q653.171 216.587 653.171 222.976 Q653.171 229.342 650 232.976 Q646.829 236.587 641.273 236.587 Q635.695 236.587 632.523 232.976 Q629.375 229.342 629.375 222.976 Q629.375 216.587 632.523 212.976 Q635.695 209.365 641.273 209.365 Z\" fill=\"#000000\" fill-rule=\"evenodd\" fill-opacity=\"1\" /><path clip-path=\"url(#clip030)\" d=\"M664.445 202.629 L664.445 209.99 L673.218 209.99 L673.218 213.3 L664.445 213.3 L664.445 227.374 Q664.445 230.545 665.301 231.448 Q666.181 232.351 668.843 232.351 L673.218 232.351 L673.218 235.916 L668.843 235.916 Q663.912 235.916 662.037 234.087 Q660.162 232.235 660.162 227.374 L660.162 213.3 L657.037 213.3 L657.037 209.99 L660.162 209.99 L660.162 202.629 L664.445 202.629 Z\" fill=\"#000000\" fill-rule=\"evenodd\" fill-opacity=\"1\" /><path clip-path=\"url(#clip030)\" d=\"M690.602 222.883 Q685.44 222.883 683.449 224.064 Q681.458 225.244 681.458 228.092 Q681.458 230.36 682.94 231.703 Q684.444 233.022 687.014 233.022 Q690.555 233.022 692.685 230.522 Q694.838 227.999 694.838 223.832 L694.838 222.883 L690.602 222.883 M699.097 221.124 L699.097 235.916 L694.838 235.916 L694.838 231.981 Q693.38 234.342 691.204 235.476 Q689.028 236.587 685.88 236.587 Q681.898 236.587 679.537 234.365 Q677.199 232.119 677.199 228.369 Q677.199 223.994 680.116 221.772 Q683.056 219.55 688.866 219.55 L694.838 219.55 L694.838 219.133 Q694.838 216.194 692.893 214.596 Q690.972 212.976 687.477 212.976 Q685.255 212.976 683.148 213.508 Q681.042 214.041 679.097 215.106 L679.097 211.17 Q681.435 210.268 683.634 209.828 Q685.833 209.365 687.917 209.365 Q693.542 209.365 696.319 212.282 Q699.097 215.198 699.097 221.124 Z\" fill=\"#000000\" fill-rule=\"evenodd\" fill-opacity=\"1\" /><path clip-path=\"url(#clip030)\" d=\"M707.87 199.897 L712.129 199.897 L712.129 235.916 L707.87 235.916 L707.87 199.897 Z\" fill=\"#000000\" fill-rule=\"evenodd\" fill-opacity=\"1\" /><path clip-path=\"url(#clip030)\" d=\"M736.111 209.99 L740.37 209.99 L740.37 235.916 L736.111 235.916 L736.111 209.99 M736.111 199.897 L740.37 199.897 L740.37 205.291 L736.111 205.291 L736.111 199.897 Z\" fill=\"#000000\" fill-rule=\"evenodd\" fill-opacity=\"1\" /><path clip-path=\"url(#clip030)\" d=\"M769.467 214.967 Q771.064 212.096 773.287 210.731 Q775.509 209.365 778.518 209.365 Q782.569 209.365 784.768 212.212 Q786.967 215.036 786.967 220.268 L786.967 235.916 L782.685 235.916 L782.685 220.407 Q782.685 216.68 781.365 214.874 Q780.046 213.069 777.337 213.069 Q774.027 213.069 772.106 215.268 Q770.185 217.467 770.185 221.263 L770.185 235.916 L765.902 235.916 L765.902 220.407 Q765.902 216.657 764.583 214.874 Q763.263 213.069 760.509 213.069 Q757.245 213.069 755.324 215.291 Q753.402 217.49 753.402 221.263 L753.402 235.916 L749.12 235.916 L749.12 209.99 L753.402 209.99 L753.402 214.018 Q754.861 211.633 756.898 210.499 Q758.935 209.365 761.736 209.365 Q764.56 209.365 766.527 210.8 Q768.518 212.235 769.467 214.967 Z\" fill=\"#000000\" fill-rule=\"evenodd\" fill-opacity=\"1\" /><path clip-path=\"url(#clip030)\" d=\"M799.583 232.027 L799.583 245.777 L795.3 245.777 L795.3 209.99 L799.583 209.99 L799.583 213.925 Q800.925 211.61 802.962 210.499 Q805.022 209.365 807.87 209.365 Q812.592 209.365 815.532 213.115 Q818.495 216.865 818.495 222.976 Q818.495 229.087 815.532 232.837 Q812.592 236.587 807.87 236.587 Q805.022 236.587 802.962 235.476 Q800.925 234.342 799.583 232.027 M814.073 222.976 Q814.073 218.277 812.129 215.615 Q810.208 212.93 806.828 212.93 Q803.448 212.93 801.504 215.615 Q799.583 218.277 799.583 222.976 Q799.583 227.675 801.504 230.36 Q803.448 233.022 806.828 233.022 Q810.208 233.022 812.129 230.36 Q814.073 227.675 814.073 222.976 Z\" fill=\"#000000\" fill-rule=\"evenodd\" fill-opacity=\"1\" /><path clip-path=\"url(#clip030)\" d=\"M837.337 222.883 Q832.175 222.883 830.184 224.064 Q828.194 225.244 828.194 228.092 Q828.194 230.36 829.675 231.703 Q831.18 233.022 833.749 233.022 Q837.291 233.022 839.42 230.522 Q841.573 227.999 841.573 223.832 L841.573 222.883 L837.337 222.883 M845.832 221.124 L845.832 235.916 L841.573 235.916 L841.573 231.981 Q840.115 234.342 837.939 235.476 Q835.763 236.587 832.615 236.587 Q828.633 236.587 826.272 234.365 Q823.934 232.119 823.934 228.369 Q823.934 223.994 826.851 221.772 Q829.791 219.55 835.601 219.55 L841.573 219.55 L841.573 219.133 Q841.573 216.194 839.629 214.596 Q837.707 212.976 834.212 212.976 Q831.99 212.976 829.883 213.508 Q827.777 214.041 825.833 215.106 L825.833 211.17 Q828.17 210.268 830.37 209.828 Q832.569 209.365 834.652 209.365 Q840.277 209.365 843.055 212.282 Q845.832 215.198 845.832 221.124 Z\" fill=\"#000000\" fill-rule=\"evenodd\" fill-opacity=\"1\" /><path clip-path=\"url(#clip030)\" d=\"M873.263 210.985 L873.263 214.967 Q871.457 213.971 869.629 213.485 Q867.823 212.976 865.971 212.976 Q861.828 212.976 859.536 215.615 Q857.244 218.231 857.244 222.976 Q857.244 227.721 859.536 230.36 Q861.828 232.976 865.971 232.976 Q867.823 232.976 869.629 232.49 Q871.457 231.981 873.263 230.985 L873.263 234.92 Q871.48 235.754 869.559 236.17 Q867.661 236.587 865.508 236.587 Q859.652 236.587 856.203 232.906 Q852.754 229.226 852.754 222.976 Q852.754 216.633 856.226 212.999 Q859.721 209.365 865.786 209.365 Q867.754 209.365 869.629 209.782 Q871.504 210.175 873.263 210.985 Z\" fill=\"#000000\" fill-rule=\"evenodd\" fill-opacity=\"1\" /><path clip-path=\"url(#clip030)\" d=\"M884.883 202.629 L884.883 209.99 L893.656 209.99 L893.656 213.3 L884.883 213.3 L884.883 227.374 Q884.883 230.545 885.74 231.448 Q886.619 232.351 889.281 232.351 L893.656 232.351 L893.656 235.916 L889.281 235.916 Q884.351 235.916 882.476 234.087 Q880.601 232.235 880.601 227.374 L880.601 213.3 L877.476 213.3 L877.476 209.99 L880.601 209.99 L880.601 202.629 L884.883 202.629 Z\" fill=\"#000000\" fill-rule=\"evenodd\" fill-opacity=\"1\" /><polyline clip-path=\"url(#clip030)\" style=\"stroke:#e26f46; stroke-linecap:round; stroke-linejoin:round; stroke-width:4; stroke-opacity:1; fill:none\" points=\"\n  450.917,270.476 583.604,270.476 \n  \"/>\n<path clip-path=\"url(#clip030)\" d=\"M605.718 253.196 L612.014 253.196 L627.338 282.108 L627.338 253.196 L631.875 253.196 L631.875 287.756 L625.579 287.756 L610.255 258.844 L610.255 287.756 L605.718 287.756 L605.718 253.196 Z\" fill=\"#000000\" fill-rule=\"evenodd\" fill-opacity=\"1\" /><path clip-path=\"url(#clip030)\" d=\"M652.778 274.723 Q647.616 274.723 645.625 275.904 Q643.634 277.084 643.634 279.932 Q643.634 282.2 645.116 283.543 Q646.621 284.862 649.19 284.862 Q652.732 284.862 654.861 282.362 Q657.014 279.839 657.014 275.672 L657.014 274.723 L652.778 274.723 M661.273 272.964 L661.273 287.756 L657.014 287.756 L657.014 283.821 Q655.556 286.182 653.38 287.316 Q651.204 288.427 648.056 288.427 Q644.074 288.427 641.713 286.205 Q639.375 283.959 639.375 280.209 Q639.375 275.834 642.292 273.612 Q645.232 271.39 651.042 271.39 L657.014 271.39 L657.014 270.973 Q657.014 268.034 655.07 266.436 Q653.148 264.816 649.653 264.816 Q647.431 264.816 645.324 265.348 Q643.218 265.881 641.273 266.946 L641.273 263.01 Q643.611 262.108 645.81 261.668 Q648.009 261.205 650.093 261.205 Q655.718 261.205 658.495 264.122 Q661.273 267.038 661.273 272.964 Z\" fill=\"#000000\" fill-rule=\"evenodd\" fill-opacity=\"1\" /><path clip-path=\"url(#clip030)\" d=\"M674.259 254.469 L674.259 261.83 L683.032 261.83 L683.032 265.14 L674.259 265.14 L674.259 279.214 Q674.259 282.385 675.116 283.288 Q675.995 284.191 678.657 284.191 L683.032 284.191 L683.032 287.756 L678.657 287.756 Q673.727 287.756 671.852 285.927 Q669.977 284.075 669.977 279.214 L669.977 265.14 L666.852 265.14 L666.852 261.83 L669.977 261.83 L669.977 254.469 L674.259 254.469 Z\" fill=\"#000000\" fill-rule=\"evenodd\" fill-opacity=\"1\" /><path clip-path=\"url(#clip030)\" d=\"M688.634 261.83 L692.893 261.83 L692.893 287.756 L688.634 287.756 L688.634 261.83 M688.634 251.737 L692.893 251.737 L692.893 257.131 L688.634 257.131 L688.634 251.737 Z\" fill=\"#000000\" fill-rule=\"evenodd\" fill-opacity=\"1\" /><path clip-path=\"url(#clip030)\" d=\"M711.852 264.816 Q708.426 264.816 706.435 267.501 Q704.444 270.163 704.444 274.816 Q704.444 279.469 706.412 282.154 Q708.403 284.816 711.852 284.816 Q715.254 284.816 717.245 282.131 Q719.236 279.446 719.236 274.816 Q719.236 270.21 717.245 267.524 Q715.254 264.816 711.852 264.816 M711.852 261.205 Q717.407 261.205 720.578 264.816 Q723.75 268.427 723.75 274.816 Q723.75 281.182 720.578 284.816 Q717.407 288.427 711.852 288.427 Q706.273 288.427 703.102 284.816 Q699.954 281.182 699.954 274.816 Q699.954 268.427 703.102 264.816 Q706.273 261.205 711.852 261.205 Z\" fill=\"#000000\" fill-rule=\"evenodd\" fill-opacity=\"1\" /><path clip-path=\"url(#clip030)\" d=\"M752.361 272.108 L752.361 287.756 L748.101 287.756 L748.101 272.247 Q748.101 268.566 746.666 266.737 Q745.231 264.909 742.361 264.909 Q738.912 264.909 736.921 267.108 Q734.93 269.307 734.93 273.103 L734.93 287.756 L730.648 287.756 L730.648 261.83 L734.93 261.83 L734.93 265.858 Q736.458 263.52 738.518 262.362 Q740.602 261.205 743.31 261.205 Q747.777 261.205 750.069 263.983 Q752.361 266.737 752.361 272.108 Z\" fill=\"#000000\" fill-rule=\"evenodd\" fill-opacity=\"1\" /><path clip-path=\"url(#clip030)\" d=\"M772.638 274.723 Q767.476 274.723 765.486 275.904 Q763.495 277.084 763.495 279.932 Q763.495 282.2 764.976 283.543 Q766.481 284.862 769.05 284.862 Q772.592 284.862 774.722 282.362 Q776.874 279.839 776.874 275.672 L776.874 274.723 L772.638 274.723 M781.134 272.964 L781.134 287.756 L776.874 287.756 L776.874 283.821 Q775.416 286.182 773.24 287.316 Q771.064 288.427 767.916 288.427 Q763.935 288.427 761.574 286.205 Q759.236 283.959 759.236 280.209 Q759.236 275.834 762.152 273.612 Q765.092 271.39 770.902 271.39 L776.874 271.39 L776.874 270.973 Q776.874 268.034 774.93 266.436 Q773.009 264.816 769.513 264.816 Q767.291 264.816 765.185 265.348 Q763.078 265.881 761.134 266.946 L761.134 263.01 Q763.472 262.108 765.671 261.668 Q767.87 261.205 769.953 261.205 Q775.578 261.205 778.356 264.122 Q781.134 267.038 781.134 272.964 Z\" fill=\"#000000\" fill-rule=\"evenodd\" fill-opacity=\"1\" /><path clip-path=\"url(#clip030)\" d=\"M789.907 251.737 L794.166 251.737 L794.166 287.756 L789.907 287.756 L789.907 251.737 Z\" fill=\"#000000\" fill-rule=\"evenodd\" fill-opacity=\"1\" /><path clip-path=\"url(#clip030)\" d=\"M818.147 261.83 L822.407 261.83 L822.407 287.756 L818.147 287.756 L818.147 261.83 M818.147 251.737 L822.407 251.737 L822.407 257.131 L818.147 257.131 L818.147 251.737 Z\" fill=\"#000000\" fill-rule=\"evenodd\" fill-opacity=\"1\" /><path clip-path=\"url(#clip030)\" d=\"M851.504 266.807 Q853.101 263.936 855.323 262.571 Q857.545 261.205 860.555 261.205 Q864.605 261.205 866.805 264.052 Q869.004 266.876 869.004 272.108 L869.004 287.756 L864.721 287.756 L864.721 272.247 Q864.721 268.52 863.402 266.714 Q862.082 264.909 859.374 264.909 Q856.064 264.909 854.143 267.108 Q852.221 269.307 852.221 273.103 L852.221 287.756 L847.939 287.756 L847.939 272.247 Q847.939 268.497 846.619 266.714 Q845.3 264.909 842.545 264.909 Q839.282 264.909 837.36 267.131 Q835.439 269.33 835.439 273.103 L835.439 287.756 L831.157 287.756 L831.157 261.83 L835.439 261.83 L835.439 265.858 Q836.897 263.473 838.934 262.339 Q840.971 261.205 843.772 261.205 Q846.596 261.205 848.564 262.64 Q850.555 264.075 851.504 266.807 Z\" fill=\"#000000\" fill-rule=\"evenodd\" fill-opacity=\"1\" /><path clip-path=\"url(#clip030)\" d=\"M881.619 283.867 L881.619 297.617 L877.337 297.617 L877.337 261.83 L881.619 261.83 L881.619 265.765 Q882.962 263.45 884.999 262.339 Q887.059 261.205 889.906 261.205 Q894.628 261.205 897.568 264.955 Q900.531 268.705 900.531 274.816 Q900.531 280.927 897.568 284.677 Q894.628 288.427 889.906 288.427 Q887.059 288.427 884.999 287.316 Q882.962 286.182 881.619 283.867 M896.11 274.816 Q896.11 270.117 894.166 267.455 Q892.244 264.77 888.865 264.77 Q885.485 264.77 883.541 267.455 Q881.619 270.117 881.619 274.816 Q881.619 279.515 883.541 282.2 Q885.485 284.862 888.865 284.862 Q892.244 284.862 894.166 282.2 Q896.11 279.515 896.11 274.816 Z\" fill=\"#000000\" fill-rule=\"evenodd\" fill-opacity=\"1\" /><path clip-path=\"url(#clip030)\" d=\"M919.374 274.723 Q914.212 274.723 912.221 275.904 Q910.23 277.084 910.23 279.932 Q910.23 282.2 911.712 283.543 Q913.216 284.862 915.786 284.862 Q919.327 284.862 921.457 282.362 Q923.61 279.839 923.61 275.672 L923.61 274.723 L919.374 274.723 M927.869 272.964 L927.869 287.756 L923.61 287.756 L923.61 283.821 Q922.151 286.182 919.976 287.316 Q917.8 288.427 914.652 288.427 Q910.67 288.427 908.309 286.205 Q905.971 283.959 905.971 280.209 Q905.971 275.834 908.888 273.612 Q911.827 271.39 917.638 271.39 L923.61 271.39 L923.61 270.973 Q923.61 268.034 921.665 266.436 Q919.744 264.816 916.249 264.816 Q914.027 264.816 911.92 265.348 Q909.814 265.881 907.869 266.946 L907.869 263.01 Q910.207 262.108 912.406 261.668 Q914.605 261.205 916.689 261.205 Q922.314 261.205 925.091 264.122 Q927.869 267.038 927.869 272.964 Z\" fill=\"#000000\" fill-rule=\"evenodd\" fill-opacity=\"1\" /><path clip-path=\"url(#clip030)\" d=\"M955.299 262.825 L955.299 266.807 Q953.494 265.811 951.665 265.325 Q949.86 264.816 948.008 264.816 Q943.864 264.816 941.573 267.455 Q939.281 270.071 939.281 274.816 Q939.281 279.561 941.573 282.2 Q943.864 284.816 948.008 284.816 Q949.86 284.816 951.665 284.33 Q953.494 283.821 955.299 282.825 L955.299 286.76 Q953.517 287.594 951.596 288.01 Q949.698 288.427 947.545 288.427 Q941.688 288.427 938.239 284.746 Q934.79 281.066 934.79 274.816 Q934.79 268.473 938.263 264.839 Q941.758 261.205 947.823 261.205 Q949.79 261.205 951.665 261.622 Q953.54 262.015 955.299 262.825 Z\" fill=\"#000000\" fill-rule=\"evenodd\" fill-opacity=\"1\" /><path clip-path=\"url(#clip030)\" d=\"M966.92 254.469 L966.92 261.83 L975.693 261.83 L975.693 265.14 L966.92 265.14 L966.92 279.214 Q966.92 282.385 967.776 283.288 Q968.656 284.191 971.318 284.191 L975.693 284.191 L975.693 287.756 L971.318 287.756 Q966.387 287.756 964.512 285.927 Q962.637 284.075 962.637 279.214 L962.637 265.14 L959.512 265.14 L959.512 261.83 L962.637 261.83 L962.637 254.469 L966.92 254.469 Z\" fill=\"#000000\" fill-rule=\"evenodd\" fill-opacity=\"1\" /></svg>\n"
     },
     "execution_count": 43,
     "metadata": {},
     "output_type": "execute_result"
    }
   ],
   "source": [
    "p2 = plot(betas_df.beta, betas_df.total_impact, label=\"Total impact\", title=\"Environmental impact for different values of beta\", xlabel=\"beta\", ylabel=\"impact\", legend=:topleft)\n",
    "plot!(p2, betas_df.beta, betas_df.national_impact, label=\"National impact\")\n",
    "\n",
    "# save the plot\n",
    "#savefig(p2, \"sustainable_impact.png\")"
   ]
  },
  {
   "cell_type": "code",
   "execution_count": 45,
   "metadata": {},
   "outputs": [
    {
     "data": {
      "text/plain": [
       "\"/Users/oscarcourbit/Desktop/Bureau - MacBook Pro de Oscar/MIT/Classes/15.093 -  Optimization Methods/Term Project/Energy-Allocation-in-France/sustainable_cost_impact.png\""
      ]
     },
     "execution_count": 45,
     "metadata": {},
     "output_type": "execute_result"
    }
   ],
   "source": [
    "# plot the total cost depending on the total impact\n",
    "p3 = plot(betas_df.total_impact, betas_df.real_baseline_cost, label=\"Net cost\", title=\"Net cost depending on the total impact\", xlabel=\"Total impact\", ylabel=\"Net cost\", legend=:topleft)\n",
    "\n",
    "# save the plot\n",
    "#savefig(p3, \"sustainable_cost_impact.png\")"
   ]
  },
  {
   "cell_type": "code",
   "execution_count": 47,
   "metadata": {},
   "outputs": [
    {
     "data": {
      "image/svg+xml": "<?xml version=\"1.0\" encoding=\"utf-8\"?>\n<svg xmlns=\"http://www.w3.org/2000/svg\" xmlns:xlink=\"http://www.w3.org/1999/xlink\" width=\"600\" height=\"400\" viewBox=\"0 0 2400 1600\">\n<defs>\n  <clipPath id=\"clip130\">\n    <rect x=\"0\" y=\"0\" width=\"2400\" height=\"1600\"/>\n  </clipPath>\n</defs>\n<path clip-path=\"url(#clip130)\" d=\"\nM0 1600 L2400 1600 L2400 0 L0 0  Z\n  \" fill=\"#ffffff\" fill-rule=\"evenodd\" fill-opacity=\"1\"/>\n<defs>\n  <clipPath id=\"clip131\">\n    <rect x=\"480\" y=\"0\" width=\"1681\" height=\"1600\"/>\n  </clipPath>\n</defs>\n<path clip-path=\"url(#clip130)\" d=\"\nM362.46 1410.9 L2352.76 1410.9 L2352.76 123.472 L362.46 123.472  Z\n  \" fill=\"#ffffff\" fill-rule=\"evenodd\" fill-opacity=\"1\"/>\n<defs>\n  <clipPath id=\"clip132\">\n    <rect x=\"362\" y=\"123\" width=\"1991\" height=\"1288\"/>\n  </clipPath>\n</defs>\n<polyline clip-path=\"url(#clip132)\" style=\"stroke:#000000; stroke-linecap:round; stroke-linejoin:round; stroke-width:2; stroke-opacity:0.1; fill:none\" points=\"\n  498.049,1410.9 498.049,123.472 \n  \"/>\n<polyline clip-path=\"url(#clip132)\" style=\"stroke:#000000; stroke-linecap:round; stroke-linejoin:round; stroke-width:2; stroke-opacity:0.1; fill:none\" points=\"\n  886.223,1410.9 886.223,123.472 \n  \"/>\n<polyline clip-path=\"url(#clip132)\" style=\"stroke:#000000; stroke-linecap:round; stroke-linejoin:round; stroke-width:2; stroke-opacity:0.1; fill:none\" points=\"\n  1274.4,1410.9 1274.4,123.472 \n  \"/>\n<polyline clip-path=\"url(#clip132)\" style=\"stroke:#000000; stroke-linecap:round; stroke-linejoin:round; stroke-width:2; stroke-opacity:0.1; fill:none\" points=\"\n  1662.57,1410.9 1662.57,123.472 \n  \"/>\n<polyline clip-path=\"url(#clip132)\" style=\"stroke:#000000; stroke-linecap:round; stroke-linejoin:round; stroke-width:2; stroke-opacity:0.1; fill:none\" points=\"\n  2050.74,1410.9 2050.74,123.472 \n  \"/>\n<polyline clip-path=\"url(#clip130)\" style=\"stroke:#000000; stroke-linecap:round; stroke-linejoin:round; stroke-width:4; stroke-opacity:1; fill:none\" points=\"\n  362.46,1410.9 2352.76,1410.9 \n  \"/>\n<polyline clip-path=\"url(#clip130)\" style=\"stroke:#000000; stroke-linecap:round; stroke-linejoin:round; stroke-width:4; stroke-opacity:1; fill:none\" points=\"\n  498.049,1410.9 498.049,1392 \n  \"/>\n<polyline clip-path=\"url(#clip130)\" style=\"stroke:#000000; stroke-linecap:round; stroke-linejoin:round; stroke-width:4; stroke-opacity:1; fill:none\" points=\"\n  886.223,1410.9 886.223,1392 \n  \"/>\n<polyline clip-path=\"url(#clip130)\" style=\"stroke:#000000; stroke-linecap:round; stroke-linejoin:round; stroke-width:4; stroke-opacity:1; fill:none\" points=\"\n  1274.4,1410.9 1274.4,1392 \n  \"/>\n<polyline clip-path=\"url(#clip130)\" style=\"stroke:#000000; stroke-linecap:round; stroke-linejoin:round; stroke-width:4; stroke-opacity:1; fill:none\" points=\"\n  1662.57,1410.9 1662.57,1392 \n  \"/>\n<polyline clip-path=\"url(#clip130)\" style=\"stroke:#000000; stroke-linecap:round; stroke-linejoin:round; stroke-width:4; stroke-opacity:1; fill:none\" points=\"\n  2050.74,1410.9 2050.74,1392 \n  \"/>\n<path clip-path=\"url(#clip130)\" d=\"M389.704 1469.81 Q386.556 1469.81 384.704 1471.97 Q382.875 1474.12 382.875 1477.87 Q382.875 1481.6 384.704 1483.77 Q386.556 1485.92 389.704 1485.92 Q392.852 1485.92 394.681 1483.77 Q396.533 1481.6 396.533 1477.87 Q396.533 1474.12 394.681 1471.97 Q392.852 1469.81 389.704 1469.81 M398.986 1455.16 L398.986 1459.42 Q397.227 1458.59 395.422 1458.15 Q393.639 1457.71 391.88 1457.71 Q387.25 1457.71 384.797 1460.83 Q382.366 1463.96 382.019 1470.28 Q383.385 1468.26 385.445 1467.2 Q387.505 1466.11 389.982 1466.11 Q395.19 1466.11 398.199 1469.28 Q401.232 1472.43 401.232 1477.87 Q401.232 1483.19 398.084 1486.41 Q394.935 1489.63 389.704 1489.63 Q383.709 1489.63 380.537 1485.04 Q377.366 1480.44 377.366 1471.71 Q377.366 1463.52 381.255 1458.66 Q385.144 1453.77 391.695 1453.77 Q393.454 1453.77 395.236 1454.12 Q397.042 1454.47 398.986 1455.16 Z\" fill=\"#000000\" fill-rule=\"evenodd\" fill-opacity=\"1\" /><path clip-path=\"url(#clip130)\" d=\"M409.287 1483.08 L414.171 1483.08 L414.171 1488.96 L409.287 1488.96 L409.287 1483.08 Z\" fill=\"#000000\" fill-rule=\"evenodd\" fill-opacity=\"1\" /><path clip-path=\"url(#clip130)\" d=\"M424.403 1454.4 L442.759 1454.4 L442.759 1458.33 L428.685 1458.33 L428.685 1466.8 Q429.704 1466.46 430.722 1466.29 Q431.741 1466.11 432.759 1466.11 Q438.546 1466.11 441.926 1469.28 Q445.306 1472.45 445.306 1477.87 Q445.306 1483.45 441.833 1486.55 Q438.361 1489.63 432.042 1489.63 Q429.866 1489.63 427.597 1489.26 Q425.352 1488.89 422.945 1488.15 L422.945 1483.45 Q425.028 1484.58 427.25 1485.14 Q429.472 1485.69 431.949 1485.69 Q435.954 1485.69 438.292 1483.59 Q440.63 1481.48 440.63 1477.87 Q440.63 1474.26 438.292 1472.15 Q435.954 1470.04 431.949 1470.04 Q430.074 1470.04 428.199 1470.46 Q426.347 1470.88 424.403 1471.76 L424.403 1454.4 Z\" fill=\"#000000\" fill-rule=\"evenodd\" fill-opacity=\"1\" /><path clip-path=\"url(#clip130)\" d=\"M464.518 1457.48 Q460.907 1457.48 459.079 1461.04 Q457.273 1464.58 457.273 1471.71 Q457.273 1478.82 459.079 1482.38 Q460.907 1485.92 464.518 1485.92 Q468.153 1485.92 469.958 1482.38 Q471.787 1478.82 471.787 1471.71 Q471.787 1464.58 469.958 1461.04 Q468.153 1457.48 464.518 1457.48 M464.518 1453.77 Q470.329 1453.77 473.384 1458.38 Q476.463 1462.96 476.463 1471.71 Q476.463 1480.44 473.384 1485.04 Q470.329 1489.63 464.518 1489.63 Q458.708 1489.63 455.63 1485.04 Q452.574 1480.44 452.574 1471.71 Q452.574 1462.96 455.63 1458.38 Q458.708 1453.77 464.518 1453.77 Z\" fill=\"#000000\" fill-rule=\"evenodd\" fill-opacity=\"1\" /><path clip-path=\"url(#clip130)\" d=\"M512.852 1463.49 L502.273 1474.12 L512.852 1484.7 L510.097 1487.5 L499.472 1476.87 L488.847 1487.5 L486.116 1484.7 L496.671 1474.12 L486.116 1463.49 L488.847 1460.69 L499.472 1471.32 L510.097 1460.69 L512.852 1463.49 Z\" fill=\"#000000\" fill-rule=\"evenodd\" fill-opacity=\"1\" /><path clip-path=\"url(#clip130)\" d=\"M525.213 1485.02 L532.851 1485.02 L532.851 1458.66 L524.541 1460.32 L524.541 1456.06 L532.805 1454.4 L537.481 1454.4 L537.481 1485.02 L545.12 1485.02 L545.12 1488.96 L525.213 1488.96 L525.213 1485.02 Z\" fill=\"#000000\" fill-rule=\"evenodd\" fill-opacity=\"1\" /><path clip-path=\"url(#clip130)\" d=\"M564.564 1457.48 Q560.953 1457.48 559.124 1461.04 Q557.319 1464.58 557.319 1471.71 Q557.319 1478.82 559.124 1482.38 Q560.953 1485.92 564.564 1485.92 Q568.198 1485.92 570.004 1482.38 Q571.833 1478.82 571.833 1471.71 Q571.833 1464.58 570.004 1461.04 Q568.198 1457.48 564.564 1457.48 M564.564 1453.77 Q570.374 1453.77 573.43 1458.38 Q576.509 1462.96 576.509 1471.71 Q576.509 1480.44 573.43 1485.04 Q570.374 1489.63 564.564 1489.63 Q558.754 1489.63 555.675 1485.04 Q552.62 1480.44 552.62 1471.71 Q552.62 1462.96 555.675 1458.38 Q558.754 1453.77 564.564 1453.77 Z\" fill=\"#000000\" fill-rule=\"evenodd\" fill-opacity=\"1\" /><path clip-path=\"url(#clip130)\" d=\"M577.054 1458.35 L583.261 1458.35 L583.261 1436.93 L576.509 1438.28 L576.509 1434.82 L583.223 1433.47 L587.022 1433.47 L587.022 1458.35 L593.229 1458.35 L593.229 1461.55 L577.054 1461.55 L577.054 1458.35 Z\" fill=\"#000000\" fill-rule=\"evenodd\" fill-opacity=\"1\" /><path clip-path=\"url(#clip130)\" d=\"M609.027 1435.97 Q606.093 1435.97 604.607 1438.86 Q603.14 1441.74 603.14 1447.53 Q603.14 1453.31 604.607 1456.2 Q606.093 1459.08 609.027 1459.08 Q611.98 1459.08 613.447 1456.2 Q614.933 1453.31 614.933 1447.53 Q614.933 1441.74 613.447 1438.86 Q611.98 1435.97 609.027 1435.97 M609.027 1432.96 Q613.748 1432.96 616.231 1436.7 Q618.732 1440.43 618.732 1447.53 Q618.732 1454.62 616.231 1458.37 Q613.748 1462.09 609.027 1462.09 Q604.306 1462.09 601.805 1458.37 Q599.322 1454.62 599.322 1447.53 Q599.322 1440.43 601.805 1436.7 Q604.306 1432.96 609.027 1432.96 Z\" fill=\"#000000\" fill-rule=\"evenodd\" fill-opacity=\"1\" /><path clip-path=\"url(#clip130)\" d=\"M777.878 1469.81 Q774.73 1469.81 772.878 1471.97 Q771.049 1474.12 771.049 1477.87 Q771.049 1481.6 772.878 1483.77 Q774.73 1485.92 777.878 1485.92 Q781.026 1485.92 782.855 1483.77 Q784.707 1481.6 784.707 1477.87 Q784.707 1474.12 782.855 1471.97 Q781.026 1469.81 777.878 1469.81 M787.16 1455.16 L787.16 1459.42 Q785.401 1458.59 783.596 1458.15 Q781.813 1457.71 780.054 1457.71 Q775.424 1457.71 772.971 1460.83 Q770.54 1463.96 770.193 1470.28 Q771.559 1468.26 773.619 1467.2 Q775.679 1466.11 778.156 1466.11 Q783.364 1466.11 786.373 1469.28 Q789.406 1472.43 789.406 1477.87 Q789.406 1483.19 786.258 1486.41 Q783.109 1489.63 777.878 1489.63 Q771.883 1489.63 768.711 1485.04 Q765.54 1480.44 765.54 1471.71 Q765.54 1463.52 769.429 1458.66 Q773.318 1453.77 779.869 1453.77 Q781.628 1453.77 783.41 1454.12 Q785.216 1454.47 787.16 1455.16 Z\" fill=\"#000000\" fill-rule=\"evenodd\" fill-opacity=\"1\" /><path clip-path=\"url(#clip130)\" d=\"M797.461 1483.08 L802.345 1483.08 L802.345 1488.96 L797.461 1488.96 L797.461 1483.08 Z\" fill=\"#000000\" fill-rule=\"evenodd\" fill-opacity=\"1\" /><path clip-path=\"url(#clip130)\" d=\"M823.109 1469.81 Q819.961 1469.81 818.109 1471.97 Q816.281 1474.12 816.281 1477.87 Q816.281 1481.6 818.109 1483.77 Q819.961 1485.92 823.109 1485.92 Q826.257 1485.92 828.086 1483.77 Q829.938 1481.6 829.938 1477.87 Q829.938 1474.12 828.086 1471.97 Q826.257 1469.81 823.109 1469.81 M832.392 1455.16 L832.392 1459.42 Q830.632 1458.59 828.827 1458.15 Q827.044 1457.71 825.285 1457.71 Q820.656 1457.71 818.202 1460.83 Q815.771 1463.96 815.424 1470.28 Q816.79 1468.26 818.85 1467.2 Q820.91 1466.11 823.387 1466.11 Q828.595 1466.11 831.605 1469.28 Q834.637 1472.43 834.637 1477.87 Q834.637 1483.19 831.489 1486.41 Q828.341 1489.63 823.109 1489.63 Q817.114 1489.63 813.943 1485.04 Q810.771 1480.44 810.771 1471.71 Q810.771 1463.52 814.66 1458.66 Q818.549 1453.77 825.1 1453.77 Q826.859 1453.77 828.642 1454.12 Q830.447 1454.47 832.392 1455.16 Z\" fill=\"#000000\" fill-rule=\"evenodd\" fill-opacity=\"1\" /><path clip-path=\"url(#clip130)\" d=\"M852.692 1457.48 Q849.081 1457.48 847.253 1461.04 Q845.447 1464.58 845.447 1471.71 Q845.447 1478.82 847.253 1482.38 Q849.081 1485.92 852.692 1485.92 Q856.327 1485.92 858.132 1482.38 Q859.961 1478.82 859.961 1471.71 Q859.961 1464.58 858.132 1461.04 Q856.327 1457.48 852.692 1457.48 M852.692 1453.77 Q858.503 1453.77 861.558 1458.38 Q864.637 1462.96 864.637 1471.71 Q864.637 1480.44 861.558 1485.04 Q858.503 1489.63 852.692 1489.63 Q846.882 1489.63 843.804 1485.04 Q840.748 1480.44 840.748 1471.71 Q840.748 1462.96 843.804 1458.38 Q846.882 1453.77 852.692 1453.77 Z\" fill=\"#000000\" fill-rule=\"evenodd\" fill-opacity=\"1\" /><path clip-path=\"url(#clip130)\" d=\"M901.025 1463.49 L890.447 1474.12 L901.025 1484.7 L898.271 1487.5 L887.646 1476.87 L877.021 1487.5 L874.289 1484.7 L884.845 1474.12 L874.289 1463.49 L877.021 1460.69 L887.646 1471.32 L898.271 1460.69 L901.025 1463.49 Z\" fill=\"#000000\" fill-rule=\"evenodd\" fill-opacity=\"1\" /><path clip-path=\"url(#clip130)\" d=\"M913.387 1485.02 L921.025 1485.02 L921.025 1458.66 L912.715 1460.32 L912.715 1456.06 L920.979 1454.4 L925.655 1454.4 L925.655 1485.02 L933.294 1485.02 L933.294 1488.96 L913.387 1488.96 L913.387 1485.02 Z\" fill=\"#000000\" fill-rule=\"evenodd\" fill-opacity=\"1\" /><path clip-path=\"url(#clip130)\" d=\"M952.738 1457.48 Q949.127 1457.48 947.298 1461.04 Q945.493 1464.58 945.493 1471.71 Q945.493 1478.82 947.298 1482.38 Q949.127 1485.92 952.738 1485.92 Q956.372 1485.92 958.178 1482.38 Q960.007 1478.82 960.007 1471.71 Q960.007 1464.58 958.178 1461.04 Q956.372 1457.48 952.738 1457.48 M952.738 1453.77 Q958.548 1453.77 961.604 1458.38 Q964.683 1462.96 964.683 1471.71 Q964.683 1480.44 961.604 1485.04 Q958.548 1489.63 952.738 1489.63 Q946.928 1489.63 943.849 1485.04 Q940.794 1480.44 940.794 1471.71 Q940.794 1462.96 943.849 1458.38 Q946.928 1453.77 952.738 1453.77 Z\" fill=\"#000000\" fill-rule=\"evenodd\" fill-opacity=\"1\" /><path clip-path=\"url(#clip130)\" d=\"M965.228 1458.35 L971.435 1458.35 L971.435 1436.93 L964.683 1438.28 L964.683 1434.82 L971.397 1433.47 L975.196 1433.47 L975.196 1458.35 L981.403 1458.35 L981.403 1461.55 L965.228 1461.55 L965.228 1458.35 Z\" fill=\"#000000\" fill-rule=\"evenodd\" fill-opacity=\"1\" /><path clip-path=\"url(#clip130)\" d=\"M997.201 1435.97 Q994.267 1435.97 992.781 1438.86 Q991.314 1441.74 991.314 1447.53 Q991.314 1453.31 992.781 1456.2 Q994.267 1459.08 997.201 1459.08 Q1000.15 1459.08 1001.62 1456.2 Q1003.11 1453.31 1003.11 1447.53 Q1003.11 1441.74 1001.62 1438.86 Q1000.15 1435.97 997.201 1435.97 M997.201 1432.96 Q1001.92 1432.96 1004.4 1436.7 Q1006.91 1440.43 1006.91 1447.53 Q1006.91 1454.62 1004.4 1458.37 Q1001.92 1462.09 997.201 1462.09 Q992.48 1462.09 989.979 1458.37 Q987.496 1454.62 987.496 1447.53 Q987.496 1440.43 989.979 1436.7 Q992.48 1432.96 997.201 1432.96 Z\" fill=\"#000000\" fill-rule=\"evenodd\" fill-opacity=\"1\" /><path clip-path=\"url(#clip130)\" d=\"M1166.05 1469.81 Q1162.9 1469.81 1161.05 1471.97 Q1159.22 1474.12 1159.22 1477.87 Q1159.22 1481.6 1161.05 1483.77 Q1162.9 1485.92 1166.05 1485.92 Q1169.2 1485.92 1171.03 1483.77 Q1172.88 1481.6 1172.88 1477.87 Q1172.88 1474.12 1171.03 1471.97 Q1169.2 1469.81 1166.05 1469.81 M1175.33 1455.16 L1175.33 1459.42 Q1173.58 1458.59 1171.77 1458.15 Q1169.99 1457.71 1168.23 1457.71 Q1163.6 1457.71 1161.14 1460.83 Q1158.71 1463.96 1158.37 1470.28 Q1159.73 1468.26 1161.79 1467.2 Q1163.85 1466.11 1166.33 1466.11 Q1171.54 1466.11 1174.55 1469.28 Q1177.58 1472.43 1177.58 1477.87 Q1177.58 1483.19 1174.43 1486.41 Q1171.28 1489.63 1166.05 1489.63 Q1160.06 1489.63 1156.89 1485.04 Q1153.71 1480.44 1153.71 1471.71 Q1153.71 1463.52 1157.6 1458.66 Q1161.49 1453.77 1168.04 1453.77 Q1169.8 1453.77 1171.58 1454.12 Q1173.39 1454.47 1175.33 1455.16 Z\" fill=\"#000000\" fill-rule=\"evenodd\" fill-opacity=\"1\" /><path clip-path=\"url(#clip130)\" d=\"M1185.64 1483.08 L1190.52 1483.08 L1190.52 1488.96 L1185.64 1488.96 L1185.64 1483.08 Z\" fill=\"#000000\" fill-rule=\"evenodd\" fill-opacity=\"1\" /><path clip-path=\"url(#clip130)\" d=\"M1199.52 1454.4 L1221.75 1454.4 L1221.75 1456.39 L1209.2 1488.96 L1204.32 1488.96 L1216.12 1458.33 L1199.52 1458.33 L1199.52 1454.4 Z\" fill=\"#000000\" fill-rule=\"evenodd\" fill-opacity=\"1\" /><path clip-path=\"url(#clip130)\" d=\"M1240.87 1457.48 Q1237.26 1457.48 1235.43 1461.04 Q1233.62 1464.58 1233.62 1471.71 Q1233.62 1478.82 1235.43 1482.38 Q1237.26 1485.92 1240.87 1485.92 Q1244.5 1485.92 1246.31 1482.38 Q1248.13 1478.82 1248.13 1471.71 Q1248.13 1464.58 1246.31 1461.04 Q1244.5 1457.48 1240.87 1457.48 M1240.87 1453.77 Q1246.68 1453.77 1249.73 1458.38 Q1252.81 1462.96 1252.81 1471.71 Q1252.81 1480.44 1249.73 1485.04 Q1246.68 1489.63 1240.87 1489.63 Q1235.06 1489.63 1231.98 1485.04 Q1228.92 1480.44 1228.92 1471.71 Q1228.92 1462.96 1231.98 1458.38 Q1235.06 1453.77 1240.87 1453.77 Z\" fill=\"#000000\" fill-rule=\"evenodd\" fill-opacity=\"1\" /><path clip-path=\"url(#clip130)\" d=\"M1289.2 1463.49 L1278.62 1474.12 L1289.2 1484.7 L1286.44 1487.5 L1275.82 1476.87 L1265.19 1487.5 L1262.46 1484.7 L1273.02 1474.12 L1262.46 1463.49 L1265.19 1460.69 L1275.82 1471.32 L1286.44 1460.69 L1289.2 1463.49 Z\" fill=\"#000000\" fill-rule=\"evenodd\" fill-opacity=\"1\" /><path clip-path=\"url(#clip130)\" d=\"M1301.56 1485.02 L1309.2 1485.02 L1309.2 1458.66 L1300.89 1460.32 L1300.89 1456.06 L1309.15 1454.4 L1313.83 1454.4 L1313.83 1485.02 L1321.47 1485.02 L1321.47 1488.96 L1301.56 1488.96 L1301.56 1485.02 Z\" fill=\"#000000\" fill-rule=\"evenodd\" fill-opacity=\"1\" /><path clip-path=\"url(#clip130)\" d=\"M1340.91 1457.48 Q1337.3 1457.48 1335.47 1461.04 Q1333.67 1464.58 1333.67 1471.71 Q1333.67 1478.82 1335.47 1482.38 Q1337.3 1485.92 1340.91 1485.92 Q1344.55 1485.92 1346.35 1482.38 Q1348.18 1478.82 1348.18 1471.71 Q1348.18 1464.58 1346.35 1461.04 Q1344.55 1457.48 1340.91 1457.48 M1340.91 1453.77 Q1346.72 1453.77 1349.78 1458.38 Q1352.86 1462.96 1352.86 1471.71 Q1352.86 1480.44 1349.78 1485.04 Q1346.72 1489.63 1340.91 1489.63 Q1335.1 1489.63 1332.02 1485.04 Q1328.97 1480.44 1328.97 1471.71 Q1328.97 1462.96 1332.02 1458.38 Q1335.1 1453.77 1340.91 1453.77 Z\" fill=\"#000000\" fill-rule=\"evenodd\" fill-opacity=\"1\" /><path clip-path=\"url(#clip130)\" d=\"M1353.4 1458.35 L1359.61 1458.35 L1359.61 1436.93 L1352.86 1438.28 L1352.86 1434.82 L1359.57 1433.47 L1363.37 1433.47 L1363.37 1458.35 L1369.58 1458.35 L1369.58 1461.55 L1353.4 1461.55 L1353.4 1458.35 Z\" fill=\"#000000\" fill-rule=\"evenodd\" fill-opacity=\"1\" /><path clip-path=\"url(#clip130)\" d=\"M1385.38 1435.97 Q1382.44 1435.97 1380.96 1438.86 Q1379.49 1441.74 1379.49 1447.53 Q1379.49 1453.31 1380.96 1456.2 Q1382.44 1459.08 1385.38 1459.08 Q1388.33 1459.08 1389.79 1456.2 Q1391.28 1453.31 1391.28 1447.53 Q1391.28 1441.74 1389.79 1438.86 Q1388.33 1435.97 1385.38 1435.97 M1385.38 1432.96 Q1390.1 1432.96 1392.58 1436.7 Q1395.08 1440.43 1395.08 1447.53 Q1395.08 1454.62 1392.58 1458.37 Q1390.1 1462.09 1385.38 1462.09 Q1380.65 1462.09 1378.15 1458.37 Q1375.67 1454.62 1375.67 1447.53 Q1375.67 1440.43 1378.15 1436.7 Q1380.65 1432.96 1385.38 1432.96 Z\" fill=\"#000000\" fill-rule=\"evenodd\" fill-opacity=\"1\" /><path clip-path=\"url(#clip130)\" d=\"M1554.23 1469.81 Q1551.08 1469.81 1549.23 1471.97 Q1547.4 1474.12 1547.4 1477.87 Q1547.4 1481.6 1549.23 1483.77 Q1551.08 1485.92 1554.23 1485.92 Q1557.37 1485.92 1559.2 1483.77 Q1561.05 1481.6 1561.05 1477.87 Q1561.05 1474.12 1559.2 1471.97 Q1557.37 1469.81 1554.23 1469.81 M1563.51 1455.16 L1563.51 1459.42 Q1561.75 1458.59 1559.94 1458.15 Q1558.16 1457.71 1556.4 1457.71 Q1551.77 1457.71 1549.32 1460.83 Q1546.89 1463.96 1546.54 1470.28 Q1547.91 1468.26 1549.97 1467.2 Q1552.03 1466.11 1554.5 1466.11 Q1559.71 1466.11 1562.72 1469.28 Q1565.75 1472.43 1565.75 1477.87 Q1565.75 1483.19 1562.61 1486.41 Q1559.46 1489.63 1554.23 1489.63 Q1548.23 1489.63 1545.06 1485.04 Q1541.89 1480.44 1541.89 1471.71 Q1541.89 1463.52 1545.78 1458.66 Q1549.67 1453.77 1556.22 1453.77 Q1557.98 1453.77 1559.76 1454.12 Q1561.56 1454.47 1563.51 1455.16 Z\" fill=\"#000000\" fill-rule=\"evenodd\" fill-opacity=\"1\" /><path clip-path=\"url(#clip130)\" d=\"M1573.81 1483.08 L1578.69 1483.08 L1578.69 1488.96 L1573.81 1488.96 L1573.81 1483.08 Z\" fill=\"#000000\" fill-rule=\"evenodd\" fill-opacity=\"1\" /><path clip-path=\"url(#clip130)\" d=\"M1598.88 1472.54 Q1595.55 1472.54 1593.62 1474.33 Q1591.73 1476.11 1591.73 1479.23 Q1591.73 1482.36 1593.62 1484.14 Q1595.55 1485.92 1598.88 1485.92 Q1602.21 1485.92 1604.13 1484.14 Q1606.05 1482.34 1606.05 1479.23 Q1606.05 1476.11 1604.13 1474.33 Q1602.23 1472.54 1598.88 1472.54 M1594.2 1470.55 Q1591.19 1469.81 1589.5 1467.75 Q1587.84 1465.69 1587.84 1462.73 Q1587.84 1458.59 1590.78 1456.18 Q1593.74 1453.77 1598.88 1453.77 Q1604.04 1453.77 1606.98 1456.18 Q1609.92 1458.59 1609.92 1462.73 Q1609.92 1465.69 1608.23 1467.75 Q1606.56 1469.81 1603.58 1470.55 Q1606.96 1471.34 1608.83 1473.63 Q1610.73 1475.92 1610.73 1479.23 Q1610.73 1484.26 1607.65 1486.94 Q1604.6 1489.63 1598.88 1489.63 Q1593.16 1489.63 1590.08 1486.94 Q1587.03 1484.26 1587.03 1479.23 Q1587.03 1475.92 1588.92 1473.63 Q1590.82 1471.34 1594.2 1470.55 M1592.49 1463.17 Q1592.49 1465.85 1594.16 1467.36 Q1595.85 1468.86 1598.88 1468.86 Q1601.89 1468.86 1603.58 1467.36 Q1605.29 1465.85 1605.29 1463.17 Q1605.29 1460.48 1603.58 1458.98 Q1601.89 1457.48 1598.88 1457.48 Q1595.85 1457.48 1594.16 1458.98 Q1592.49 1460.48 1592.49 1463.17 Z\" fill=\"#000000\" fill-rule=\"evenodd\" fill-opacity=\"1\" /><path clip-path=\"url(#clip130)\" d=\"M1629.04 1457.48 Q1625.43 1457.48 1623.6 1461.04 Q1621.79 1464.58 1621.79 1471.71 Q1621.79 1478.82 1623.6 1482.38 Q1625.43 1485.92 1629.04 1485.92 Q1632.67 1485.92 1634.48 1482.38 Q1636.31 1478.82 1636.31 1471.71 Q1636.31 1464.58 1634.48 1461.04 Q1632.67 1457.48 1629.04 1457.48 M1629.04 1453.77 Q1634.85 1453.77 1637.91 1458.38 Q1640.98 1462.96 1640.98 1471.71 Q1640.98 1480.44 1637.91 1485.04 Q1634.85 1489.63 1629.04 1489.63 Q1623.23 1489.63 1620.15 1485.04 Q1617.1 1480.44 1617.1 1471.71 Q1617.1 1462.96 1620.15 1458.38 Q1623.23 1453.77 1629.04 1453.77 Z\" fill=\"#000000\" fill-rule=\"evenodd\" fill-opacity=\"1\" /><path clip-path=\"url(#clip130)\" d=\"M1677.37 1463.49 L1666.79 1474.12 L1677.37 1484.7 L1674.62 1487.5 L1663.99 1476.87 L1653.37 1487.5 L1650.64 1484.7 L1661.19 1474.12 L1650.64 1463.49 L1653.37 1460.69 L1663.99 1471.32 L1674.62 1460.69 L1677.37 1463.49 Z\" fill=\"#000000\" fill-rule=\"evenodd\" fill-opacity=\"1\" /><path clip-path=\"url(#clip130)\" d=\"M1689.73 1485.02 L1697.37 1485.02 L1697.37 1458.66 L1689.06 1460.32 L1689.06 1456.06 L1697.33 1454.4 L1702 1454.4 L1702 1485.02 L1709.64 1485.02 L1709.64 1488.96 L1689.73 1488.96 L1689.73 1485.02 Z\" fill=\"#000000\" fill-rule=\"evenodd\" fill-opacity=\"1\" /><path clip-path=\"url(#clip130)\" d=\"M1729.09 1457.48 Q1725.47 1457.48 1723.65 1461.04 Q1721.84 1464.58 1721.84 1471.71 Q1721.84 1478.82 1723.65 1482.38 Q1725.47 1485.92 1729.09 1485.92 Q1732.72 1485.92 1734.53 1482.38 Q1736.35 1478.82 1736.35 1471.71 Q1736.35 1464.58 1734.53 1461.04 Q1732.72 1457.48 1729.09 1457.48 M1729.09 1453.77 Q1734.9 1453.77 1737.95 1458.38 Q1741.03 1462.96 1741.03 1471.71 Q1741.03 1480.44 1737.95 1485.04 Q1734.9 1489.63 1729.09 1489.63 Q1723.28 1489.63 1720.2 1485.04 Q1717.14 1480.44 1717.14 1471.71 Q1717.14 1462.96 1720.2 1458.38 Q1723.28 1453.77 1729.09 1453.77 Z\" fill=\"#000000\" fill-rule=\"evenodd\" fill-opacity=\"1\" /><path clip-path=\"url(#clip130)\" d=\"M1741.58 1458.35 L1747.78 1458.35 L1747.78 1436.93 L1741.03 1438.28 L1741.03 1434.82 L1747.74 1433.47 L1751.54 1433.47 L1751.54 1458.35 L1757.75 1458.35 L1757.75 1461.55 L1741.58 1461.55 L1741.58 1458.35 Z\" fill=\"#000000\" fill-rule=\"evenodd\" fill-opacity=\"1\" /><path clip-path=\"url(#clip130)\" d=\"M1773.55 1435.97 Q1770.62 1435.97 1769.13 1438.86 Q1767.66 1441.74 1767.66 1447.53 Q1767.66 1453.31 1769.13 1456.2 Q1770.62 1459.08 1773.55 1459.08 Q1776.5 1459.08 1777.97 1456.2 Q1779.45 1453.31 1779.45 1447.53 Q1779.45 1441.74 1777.97 1438.86 Q1776.5 1435.97 1773.55 1435.97 M1773.55 1432.96 Q1778.27 1432.96 1780.75 1436.7 Q1783.25 1440.43 1783.25 1447.53 Q1783.25 1454.62 1780.75 1458.37 Q1778.27 1462.09 1773.55 1462.09 Q1768.83 1462.09 1766.33 1458.37 Q1763.84 1454.62 1763.84 1447.53 Q1763.84 1440.43 1766.33 1436.7 Q1768.83 1432.96 1773.55 1432.96 Z\" fill=\"#000000\" fill-rule=\"evenodd\" fill-opacity=\"1\" /><path clip-path=\"url(#clip130)\" d=\"M1942.4 1469.81 Q1939.25 1469.81 1937.4 1471.97 Q1935.57 1474.12 1935.57 1477.87 Q1935.57 1481.6 1937.4 1483.77 Q1939.25 1485.92 1942.4 1485.92 Q1945.55 1485.92 1947.38 1483.77 Q1949.23 1481.6 1949.23 1477.87 Q1949.23 1474.12 1947.38 1471.97 Q1945.55 1469.81 1942.4 1469.81 M1951.68 1455.16 L1951.68 1459.42 Q1949.92 1458.59 1948.12 1458.15 Q1946.33 1457.71 1944.58 1457.71 Q1939.95 1457.71 1937.49 1460.83 Q1935.06 1463.96 1934.71 1470.28 Q1936.08 1468.26 1938.14 1467.2 Q1940.2 1466.11 1942.68 1466.11 Q1947.89 1466.11 1950.9 1469.28 Q1953.93 1472.43 1953.93 1477.87 Q1953.93 1483.19 1950.78 1486.41 Q1947.63 1489.63 1942.4 1489.63 Q1936.4 1489.63 1933.23 1485.04 Q1930.06 1480.44 1930.06 1471.71 Q1930.06 1463.52 1933.95 1458.66 Q1937.84 1453.77 1944.39 1453.77 Q1946.15 1453.77 1947.93 1454.12 Q1949.74 1454.47 1951.68 1455.16 Z\" fill=\"#000000\" fill-rule=\"evenodd\" fill-opacity=\"1\" /><path clip-path=\"url(#clip130)\" d=\"M1961.98 1483.08 L1966.87 1483.08 L1966.87 1488.96 L1961.98 1488.96 L1961.98 1483.08 Z\" fill=\"#000000\" fill-rule=\"evenodd\" fill-opacity=\"1\" /><path clip-path=\"url(#clip130)\" d=\"M1977.19 1488.24 L1977.19 1483.98 Q1978.95 1484.81 1980.76 1485.25 Q1982.56 1485.69 1984.3 1485.69 Q1988.93 1485.69 1991.36 1482.59 Q1993.81 1479.47 1994.16 1473.12 Q1992.82 1475.11 1990.76 1476.18 Q1988.7 1477.24 1986.2 1477.24 Q1981.01 1477.24 1977.98 1474.12 Q1974.97 1470.97 1974.97 1465.53 Q1974.97 1460.21 1978.12 1456.99 Q1981.27 1453.77 1986.5 1453.77 Q1992.49 1453.77 1995.64 1458.38 Q1998.81 1462.96 1998.81 1471.71 Q1998.81 1479.88 1994.92 1484.77 Q1991.06 1489.63 1984.51 1489.63 Q1982.75 1489.63 1980.94 1489.28 Q1979.14 1488.93 1977.19 1488.24 M1986.5 1473.59 Q1989.64 1473.59 1991.47 1471.43 Q1993.33 1469.28 1993.33 1465.53 Q1993.33 1461.8 1991.47 1459.65 Q1989.64 1457.48 1986.5 1457.48 Q1983.35 1457.48 1981.5 1459.65 Q1979.67 1461.8 1979.67 1465.53 Q1979.67 1469.28 1981.5 1471.43 Q1983.35 1473.59 1986.5 1473.59 Z\" fill=\"#000000\" fill-rule=\"evenodd\" fill-opacity=\"1\" /><path clip-path=\"url(#clip130)\" d=\"M2017.21 1457.48 Q2013.6 1457.48 2011.77 1461.04 Q2009.97 1464.58 2009.97 1471.71 Q2009.97 1478.82 2011.77 1482.38 Q2013.6 1485.92 2017.21 1485.92 Q2020.85 1485.92 2022.65 1482.38 Q2024.48 1478.82 2024.48 1471.71 Q2024.48 1464.58 2022.65 1461.04 Q2020.85 1457.48 2017.21 1457.48 M2017.21 1453.77 Q2023.02 1453.77 2026.08 1458.38 Q2029.16 1462.96 2029.16 1471.71 Q2029.16 1480.44 2026.08 1485.04 Q2023.02 1489.63 2017.21 1489.63 Q2011.4 1489.63 2008.33 1485.04 Q2005.27 1480.44 2005.27 1471.71 Q2005.27 1462.96 2008.33 1458.38 Q2011.4 1453.77 2017.21 1453.77 Z\" fill=\"#000000\" fill-rule=\"evenodd\" fill-opacity=\"1\" /><path clip-path=\"url(#clip130)\" d=\"M2065.55 1463.49 L2054.97 1474.12 L2065.55 1484.7 L2062.79 1487.5 L2052.17 1476.87 L2041.54 1487.5 L2038.81 1484.7 L2049.37 1474.12 L2038.81 1463.49 L2041.54 1460.69 L2052.17 1471.32 L2062.79 1460.69 L2065.55 1463.49 Z\" fill=\"#000000\" fill-rule=\"evenodd\" fill-opacity=\"1\" /><path clip-path=\"url(#clip130)\" d=\"M2077.91 1485.02 L2085.55 1485.02 L2085.55 1458.66 L2077.24 1460.32 L2077.24 1456.06 L2085.5 1454.4 L2090.18 1454.4 L2090.18 1485.02 L2097.82 1485.02 L2097.82 1488.96 L2077.91 1488.96 L2077.91 1485.02 Z\" fill=\"#000000\" fill-rule=\"evenodd\" fill-opacity=\"1\" /><path clip-path=\"url(#clip130)\" d=\"M2117.26 1457.48 Q2113.65 1457.48 2111.82 1461.04 Q2110.01 1464.58 2110.01 1471.71 Q2110.01 1478.82 2111.82 1482.38 Q2113.65 1485.92 2117.26 1485.92 Q2120.89 1485.92 2122.7 1482.38 Q2124.53 1478.82 2124.53 1471.71 Q2124.53 1464.58 2122.7 1461.04 Q2120.89 1457.48 2117.26 1457.48 M2117.26 1453.77 Q2123.07 1453.77 2126.13 1458.38 Q2129.2 1462.96 2129.2 1471.71 Q2129.2 1480.44 2126.13 1485.04 Q2123.07 1489.63 2117.26 1489.63 Q2111.45 1489.63 2108.37 1485.04 Q2105.32 1480.44 2105.32 1471.71 Q2105.32 1462.96 2108.37 1458.38 Q2111.45 1453.77 2117.26 1453.77 Z\" fill=\"#000000\" fill-rule=\"evenodd\" fill-opacity=\"1\" /><path clip-path=\"url(#clip130)\" d=\"M2129.75 1458.35 L2135.96 1458.35 L2135.96 1436.93 L2129.2 1438.28 L2129.2 1434.82 L2135.92 1433.47 L2139.72 1433.47 L2139.72 1458.35 L2145.92 1458.35 L2145.92 1461.55 L2129.75 1461.55 L2129.75 1458.35 Z\" fill=\"#000000\" fill-rule=\"evenodd\" fill-opacity=\"1\" /><path clip-path=\"url(#clip130)\" d=\"M2161.72 1435.97 Q2158.79 1435.97 2157.3 1438.86 Q2155.84 1441.74 2155.84 1447.53 Q2155.84 1453.31 2157.3 1456.2 Q2158.79 1459.08 2161.72 1459.08 Q2164.68 1459.08 2166.14 1456.2 Q2167.63 1453.31 2167.63 1447.53 Q2167.63 1441.74 2166.14 1438.86 Q2164.68 1435.97 2161.72 1435.97 M2161.72 1432.96 Q2166.44 1432.96 2168.93 1436.7 Q2171.43 1440.43 2171.43 1447.53 Q2171.43 1454.62 2168.93 1458.37 Q2166.44 1462.09 2161.72 1462.09 Q2157 1462.09 2154.5 1458.37 Q2152.02 1454.62 2152.02 1447.53 Q2152.02 1440.43 2154.5 1436.7 Q2157 1432.96 2161.72 1432.96 Z\" fill=\"#000000\" fill-rule=\"evenodd\" fill-opacity=\"1\" /><path clip-path=\"url(#clip130)\" d=\"M1226.39 1526.67 L1235.05 1526.67 L1256.12 1566.42 L1256.12 1526.67 L1262.36 1526.67 L1262.36 1574.19 L1253.7 1574.19 L1232.63 1534.43 L1232.63 1574.19 L1226.39 1574.19 L1226.39 1526.67 Z\" fill=\"#000000\" fill-rule=\"evenodd\" fill-opacity=\"1\" /><path clip-path=\"url(#clip130)\" d=\"M1305.39 1554.9 L1305.39 1557.76 L1278.47 1557.76 Q1278.85 1563.81 1282.09 1566.99 Q1285.37 1570.14 1291.2 1570.14 Q1294.57 1570.14 1297.72 1569.32 Q1300.91 1568.49 1304.02 1566.83 L1304.02 1572.37 Q1300.87 1573.71 1297.56 1574.41 Q1294.25 1575.11 1290.85 1575.11 Q1282.32 1575.11 1277.32 1570.14 Q1272.35 1565.18 1272.35 1556.71 Q1272.35 1547.96 1277.07 1542.83 Q1281.81 1537.68 1289.83 1537.68 Q1297.02 1537.68 1301.19 1542.33 Q1305.39 1546.94 1305.39 1554.9 M1299.54 1553.18 Q1299.47 1548.37 1296.83 1545.51 Q1294.22 1542.64 1289.89 1542.64 Q1284.99 1542.64 1282.03 1545.41 Q1279.1 1548.18 1278.66 1553.21 L1299.54 1553.18 Z\" fill=\"#000000\" fill-rule=\"evenodd\" fill-opacity=\"1\" /><path clip-path=\"url(#clip130)\" d=\"M1320.8 1528.42 L1320.8 1538.54 L1332.86 1538.54 L1332.86 1543.09 L1320.8 1543.09 L1320.8 1562.44 Q1320.8 1566.8 1321.98 1568.04 Q1323.19 1569.28 1326.85 1569.28 L1332.86 1569.28 L1332.86 1574.19 L1326.85 1574.19 Q1320.07 1574.19 1317.49 1571.67 Q1314.91 1569.12 1314.91 1562.44 L1314.91 1543.09 L1310.61 1543.09 L1310.61 1538.54 L1314.91 1538.54 L1314.91 1528.42 L1320.8 1528.42 Z\" fill=\"#000000\" fill-rule=\"evenodd\" fill-opacity=\"1\" /><path clip-path=\"url(#clip130)\" d=\"M1386.94 1539.91 L1386.94 1545.38 Q1384.46 1544.01 1381.94 1543.34 Q1379.46 1542.64 1376.91 1542.64 Q1371.21 1542.64 1368.06 1546.27 Q1364.91 1549.87 1364.91 1556.39 Q1364.91 1562.92 1368.06 1566.55 Q1371.21 1570.14 1376.91 1570.14 Q1379.46 1570.14 1381.94 1569.47 Q1384.46 1568.77 1386.94 1567.41 L1386.94 1572.82 Q1384.49 1573.96 1381.85 1574.54 Q1379.24 1575.11 1376.28 1575.11 Q1368.22 1575.11 1363.48 1570.05 Q1358.74 1564.99 1358.74 1556.39 Q1358.74 1547.67 1363.51 1542.68 Q1368.32 1537.68 1376.66 1537.68 Q1379.36 1537.68 1381.94 1538.25 Q1384.52 1538.79 1386.94 1539.91 Z\" fill=\"#000000\" fill-rule=\"evenodd\" fill-opacity=\"1\" /><path clip-path=\"url(#clip130)\" d=\"M1410.94 1542.64 Q1406.23 1542.64 1403.49 1546.34 Q1400.75 1550 1400.75 1556.39 Q1400.75 1562.79 1403.46 1566.48 Q1406.19 1570.14 1410.94 1570.14 Q1415.62 1570.14 1418.35 1566.45 Q1421.09 1562.76 1421.09 1556.39 Q1421.09 1550.06 1418.35 1546.37 Q1415.62 1542.64 1410.94 1542.64 M1410.94 1537.68 Q1418.58 1537.68 1422.94 1542.64 Q1427.3 1547.61 1427.3 1556.39 Q1427.3 1565.15 1422.94 1570.14 Q1418.58 1575.11 1410.94 1575.11 Q1403.27 1575.11 1398.91 1570.14 Q1394.58 1565.15 1394.58 1556.39 Q1394.58 1547.61 1398.91 1542.64 Q1403.27 1537.68 1410.94 1537.68 Z\" fill=\"#000000\" fill-rule=\"evenodd\" fill-opacity=\"1\" /><path clip-path=\"url(#clip130)\" d=\"M1459.73 1539.59 L1459.73 1545.13 Q1457.25 1543.85 1454.57 1543.22 Q1451.9 1542.58 1449.04 1542.58 Q1444.67 1542.58 1442.48 1543.92 Q1440.31 1545.25 1440.31 1547.93 Q1440.31 1549.96 1441.87 1551.14 Q1443.43 1552.29 1448.14 1553.34 L1450.15 1553.78 Q1456.39 1555.12 1459 1557.57 Q1461.64 1559.99 1461.64 1564.35 Q1461.64 1569.32 1457.69 1572.21 Q1453.78 1575.11 1446.9 1575.11 Q1444.04 1575.11 1440.92 1574.54 Q1437.83 1573.99 1434.39 1572.88 L1434.39 1566.83 Q1437.64 1568.52 1440.79 1569.38 Q1443.94 1570.21 1447.03 1570.21 Q1451.17 1570.21 1453.4 1568.81 Q1455.62 1567.37 1455.62 1564.8 Q1455.62 1562.41 1454 1561.14 Q1452.41 1559.86 1446.97 1558.68 L1444.93 1558.21 Q1439.49 1557.06 1437.07 1554.71 Q1434.65 1552.32 1434.65 1548.18 Q1434.65 1543.15 1438.21 1540.42 Q1441.78 1537.68 1448.33 1537.68 Q1451.58 1537.68 1454.45 1538.16 Q1457.31 1538.63 1459.73 1539.59 Z\" fill=\"#000000\" fill-rule=\"evenodd\" fill-opacity=\"1\" /><path clip-path=\"url(#clip130)\" d=\"M1476.76 1528.42 L1476.76 1538.54 L1488.82 1538.54 L1488.82 1543.09 L1476.76 1543.09 L1476.76 1562.44 Q1476.76 1566.8 1477.94 1568.04 Q1479.14 1569.28 1482.81 1569.28 L1488.82 1569.28 L1488.82 1574.19 L1482.81 1574.19 Q1476.03 1574.19 1473.45 1571.67 Q1470.87 1569.12 1470.87 1562.44 L1470.87 1543.09 L1466.57 1543.09 L1466.57 1538.54 L1470.87 1538.54 L1470.87 1528.42 L1476.76 1528.42 Z\" fill=\"#000000\" fill-rule=\"evenodd\" fill-opacity=\"1\" /><polyline clip-path=\"url(#clip132)\" style=\"stroke:#000000; stroke-linecap:round; stroke-linejoin:round; stroke-width:2; stroke-opacity:0.1; fill:none\" points=\"\n  362.46,1342.38 2352.76,1342.38 \n  \"/>\n<polyline clip-path=\"url(#clip132)\" style=\"stroke:#000000; stroke-linecap:round; stroke-linejoin:round; stroke-width:2; stroke-opacity:0.1; fill:none\" points=\"\n  362.46,955.853 2352.76,955.853 \n  \"/>\n<polyline clip-path=\"url(#clip132)\" style=\"stroke:#000000; stroke-linecap:round; stroke-linejoin:round; stroke-width:2; stroke-opacity:0.1; fill:none\" points=\"\n  362.46,569.325 2352.76,569.325 \n  \"/>\n<polyline clip-path=\"url(#clip132)\" style=\"stroke:#000000; stroke-linecap:round; stroke-linejoin:round; stroke-width:2; stroke-opacity:0.1; fill:none\" points=\"\n  362.46,182.797 2352.76,182.797 \n  \"/>\n<polyline clip-path=\"url(#clip130)\" style=\"stroke:#000000; stroke-linecap:round; stroke-linejoin:round; stroke-width:4; stroke-opacity:1; fill:none\" points=\"\n  362.46,1410.9 362.46,123.472 \n  \"/>\n<polyline clip-path=\"url(#clip130)\" style=\"stroke:#000000; stroke-linecap:round; stroke-linejoin:round; stroke-width:4; stroke-opacity:1; fill:none\" points=\"\n  362.46,1342.38 381.357,1342.38 \n  \"/>\n<polyline clip-path=\"url(#clip130)\" style=\"stroke:#000000; stroke-linecap:round; stroke-linejoin:round; stroke-width:4; stroke-opacity:1; fill:none\" points=\"\n  362.46,955.853 381.357,955.853 \n  \"/>\n<polyline clip-path=\"url(#clip130)\" style=\"stroke:#000000; stroke-linecap:round; stroke-linejoin:round; stroke-width:4; stroke-opacity:1; fill:none\" points=\"\n  362.46,569.325 381.357,569.325 \n  \"/>\n<polyline clip-path=\"url(#clip130)\" style=\"stroke:#000000; stroke-linecap:round; stroke-linejoin:round; stroke-width:4; stroke-opacity:1; fill:none\" points=\"\n  362.46,182.797 381.357,182.797 \n  \"/>\n<path clip-path=\"url(#clip130)\" d=\"M129.862 1335.62 L118.056 1354.07 L129.862 1354.07 L129.862 1335.62 M128.635 1331.55 L134.515 1331.55 L134.515 1354.07 L139.445 1354.07 L139.445 1357.96 L134.515 1357.96 L134.515 1366.11 L129.862 1366.11 L129.862 1357.96 L114.26 1357.96 L114.26 1353.45 L128.635 1331.55 Z\" fill=\"#000000\" fill-rule=\"evenodd\" fill-opacity=\"1\" /><path clip-path=\"url(#clip130)\" d=\"M147.177 1360.23 L152.061 1360.23 L152.061 1366.11 L147.177 1366.11 L147.177 1360.23 Z\" fill=\"#000000\" fill-rule=\"evenodd\" fill-opacity=\"1\" /><path clip-path=\"url(#clip130)\" d=\"M172.246 1334.63 Q168.635 1334.63 166.806 1338.19 Q165.001 1341.73 165.001 1348.86 Q165.001 1355.97 166.806 1359.53 Q168.635 1363.08 172.246 1363.08 Q175.88 1363.08 177.686 1359.53 Q179.514 1355.97 179.514 1348.86 Q179.514 1341.73 177.686 1338.19 Q175.88 1334.63 172.246 1334.63 M172.246 1330.92 Q178.056 1330.92 181.112 1335.53 Q184.19 1340.11 184.19 1348.86 Q184.19 1357.59 181.112 1362.2 Q178.056 1366.78 172.246 1366.78 Q166.436 1366.78 163.357 1362.2 Q160.302 1357.59 160.302 1348.86 Q160.302 1340.11 163.357 1335.53 Q166.436 1330.92 172.246 1330.92 Z\" fill=\"#000000\" fill-rule=\"evenodd\" fill-opacity=\"1\" /><path clip-path=\"url(#clip130)\" d=\"M220.579 1340.65 L210 1351.27 L220.579 1361.85 L217.824 1364.65 L207.199 1354.03 L196.575 1364.65 L193.843 1361.85 L204.399 1351.27 L193.843 1340.65 L196.575 1337.85 L207.199 1348.47 L217.824 1337.85 L220.579 1340.65 Z\" fill=\"#000000\" fill-rule=\"evenodd\" fill-opacity=\"1\" /><path clip-path=\"url(#clip130)\" d=\"M232.94 1362.17 L240.579 1362.17 L240.579 1335.81 L232.269 1337.47 L232.269 1333.22 L240.533 1331.55 L245.209 1331.55 L245.209 1362.17 L252.847 1362.17 L252.847 1366.11 L232.94 1366.11 L232.94 1362.17 Z\" fill=\"#000000\" fill-rule=\"evenodd\" fill-opacity=\"1\" /><path clip-path=\"url(#clip130)\" d=\"M272.292 1334.63 Q268.681 1334.63 266.852 1338.19 Q265.046 1341.73 265.046 1348.86 Q265.046 1355.97 266.852 1359.53 Q268.681 1363.08 272.292 1363.08 Q275.926 1363.08 277.732 1359.53 Q279.56 1355.97 279.56 1348.86 Q279.56 1341.73 277.732 1338.19 Q275.926 1334.63 272.292 1334.63 M272.292 1330.92 Q278.102 1330.92 281.157 1335.53 Q284.236 1340.11 284.236 1348.86 Q284.236 1357.59 281.157 1362.2 Q278.102 1366.78 272.292 1366.78 Q266.482 1366.78 263.403 1362.2 Q260.347 1357.59 260.347 1348.86 Q260.347 1340.11 263.403 1335.53 Q266.482 1330.92 272.292 1330.92 Z\" fill=\"#000000\" fill-rule=\"evenodd\" fill-opacity=\"1\" /><path clip-path=\"url(#clip130)\" d=\"M284.782 1335.5 L290.988 1335.5 L290.988 1314.08 L284.236 1315.43 L284.236 1311.97 L290.95 1310.62 L294.75 1310.62 L294.75 1335.5 L300.956 1335.5 L300.956 1338.7 L284.782 1338.7 L284.782 1335.5 Z\" fill=\"#000000\" fill-rule=\"evenodd\" fill-opacity=\"1\" /><path clip-path=\"url(#clip130)\" d=\"M316.755 1313.12 Q313.821 1313.12 312.335 1316.02 Q310.868 1318.89 310.868 1324.69 Q310.868 1330.46 312.335 1333.36 Q313.821 1336.23 316.755 1336.23 Q319.708 1336.23 321.175 1333.36 Q322.66 1330.46 322.66 1324.69 Q322.66 1318.89 321.175 1316.02 Q319.708 1313.12 316.755 1313.12 M316.755 1310.11 Q321.475 1310.11 323.958 1313.85 Q326.46 1317.58 326.46 1324.69 Q326.46 1331.78 323.958 1335.52 Q321.475 1339.24 316.755 1339.24 Q312.034 1339.24 309.533 1335.52 Q307.05 1331.78 307.05 1324.69 Q307.05 1317.58 309.533 1313.85 Q312.034 1310.11 316.755 1310.11 Z\" fill=\"#000000\" fill-rule=\"evenodd\" fill-opacity=\"1\" /><path clip-path=\"url(#clip130)\" d=\"M117.061 945.021 L135.417 945.021 L135.417 948.956 L121.343 948.956 L121.343 957.428 Q122.362 957.081 123.38 956.919 Q124.399 956.734 125.418 956.734 Q131.205 956.734 134.584 959.905 Q137.964 963.076 137.964 968.493 Q137.964 974.071 134.492 977.173 Q131.019 980.252 124.7 980.252 Q122.524 980.252 120.255 979.882 Q118.01 979.511 115.603 978.771 L115.603 974.071 Q117.686 975.206 119.908 975.761 Q122.13 976.317 124.607 976.317 Q128.612 976.317 130.95 974.21 Q133.288 972.104 133.288 968.493 Q133.288 964.882 130.95 962.775 Q128.612 960.669 124.607 960.669 Q122.732 960.669 120.857 961.085 Q119.006 961.502 117.061 962.382 L117.061 945.021 Z\" fill=\"#000000\" fill-rule=\"evenodd\" fill-opacity=\"1\" /><path clip-path=\"url(#clip130)\" d=\"M147.177 973.701 L152.061 973.701 L152.061 979.581 L147.177 979.581 L147.177 973.701 Z\" fill=\"#000000\" fill-rule=\"evenodd\" fill-opacity=\"1\" /><path clip-path=\"url(#clip130)\" d=\"M172.246 948.099 Q168.635 948.099 166.806 951.664 Q165.001 955.206 165.001 962.335 Q165.001 969.442 166.806 973.007 Q168.635 976.548 172.246 976.548 Q175.88 976.548 177.686 973.007 Q179.514 969.442 179.514 962.335 Q179.514 955.206 177.686 951.664 Q175.88 948.099 172.246 948.099 M172.246 944.396 Q178.056 944.396 181.112 949.002 Q184.19 953.585 184.19 962.335 Q184.19 971.062 181.112 975.669 Q178.056 980.252 172.246 980.252 Q166.436 980.252 163.357 975.669 Q160.302 971.062 160.302 962.335 Q160.302 953.585 163.357 949.002 Q166.436 944.396 172.246 944.396 Z\" fill=\"#000000\" fill-rule=\"evenodd\" fill-opacity=\"1\" /><path clip-path=\"url(#clip130)\" d=\"M220.579 954.118 L210 964.743 L220.579 975.321 L217.824 978.122 L207.199 967.497 L196.575 978.122 L193.843 975.321 L204.399 964.743 L193.843 954.118 L196.575 951.317 L207.199 961.942 L217.824 951.317 L220.579 954.118 Z\" fill=\"#000000\" fill-rule=\"evenodd\" fill-opacity=\"1\" /><path clip-path=\"url(#clip130)\" d=\"M232.94 975.646 L240.579 975.646 L240.579 949.28 L232.269 950.947 L232.269 946.687 L240.533 945.021 L245.209 945.021 L245.209 975.646 L252.847 975.646 L252.847 979.581 L232.94 979.581 L232.94 975.646 Z\" fill=\"#000000\" fill-rule=\"evenodd\" fill-opacity=\"1\" /><path clip-path=\"url(#clip130)\" d=\"M272.292 948.099 Q268.681 948.099 266.852 951.664 Q265.046 955.206 265.046 962.335 Q265.046 969.442 266.852 973.007 Q268.681 976.548 272.292 976.548 Q275.926 976.548 277.732 973.007 Q279.56 969.442 279.56 962.335 Q279.56 955.206 277.732 951.664 Q275.926 948.099 272.292 948.099 M272.292 944.396 Q278.102 944.396 281.157 949.002 Q284.236 953.585 284.236 962.335 Q284.236 971.062 281.157 975.669 Q278.102 980.252 272.292 980.252 Q266.482 980.252 263.403 975.669 Q260.347 971.062 260.347 962.335 Q260.347 953.585 263.403 949.002 Q266.482 944.396 272.292 944.396 Z\" fill=\"#000000\" fill-rule=\"evenodd\" fill-opacity=\"1\" /><path clip-path=\"url(#clip130)\" d=\"M284.782 948.973 L290.988 948.973 L290.988 927.551 L284.236 928.905 L284.236 925.444 L290.95 924.09 L294.75 924.09 L294.75 948.973 L300.956 948.973 L300.956 952.17 L284.782 952.17 L284.782 948.973 Z\" fill=\"#000000\" fill-rule=\"evenodd\" fill-opacity=\"1\" /><path clip-path=\"url(#clip130)\" d=\"M316.755 926.592 Q313.821 926.592 312.335 929.488 Q310.868 932.366 310.868 938.159 Q310.868 943.932 312.335 946.829 Q313.821 949.706 316.755 949.706 Q319.708 949.706 321.175 946.829 Q322.66 943.932 322.66 938.159 Q322.66 932.366 321.175 929.488 Q319.708 926.592 316.755 926.592 M316.755 923.582 Q321.475 923.582 323.958 927.325 Q326.46 931.049 326.46 938.159 Q326.46 945.249 323.958 948.992 Q321.475 952.716 316.755 952.716 Q312.034 952.716 309.533 948.992 Q307.05 945.249 307.05 938.159 Q307.05 931.049 309.533 927.325 Q312.034 923.582 316.755 923.582 Z\" fill=\"#000000\" fill-rule=\"evenodd\" fill-opacity=\"1\" /><path clip-path=\"url(#clip130)\" d=\"M127.593 573.909 Q124.445 573.909 122.593 576.062 Q120.765 578.215 120.765 581.965 Q120.765 585.691 122.593 587.867 Q124.445 590.02 127.593 590.02 Q130.742 590.02 132.57 587.867 Q134.422 585.691 134.422 581.965 Q134.422 578.215 132.57 576.062 Q130.742 573.909 127.593 573.909 M136.876 559.256 L136.876 563.516 Q135.117 562.682 133.311 562.242 Q131.529 561.803 129.769 561.803 Q125.14 561.803 122.686 564.928 Q120.255 568.053 119.908 574.372 Q121.274 572.358 123.334 571.293 Q125.394 570.205 127.871 570.205 Q133.08 570.205 136.089 573.377 Q139.121 576.525 139.121 581.965 Q139.121 587.289 135.973 590.506 Q132.825 593.724 127.593 593.724 Q121.598 593.724 118.427 589.14 Q115.256 584.534 115.256 575.807 Q115.256 567.613 119.144 562.752 Q123.033 557.868 129.584 557.868 Q131.343 557.868 133.126 558.215 Q134.931 558.562 136.876 559.256 Z\" fill=\"#000000\" fill-rule=\"evenodd\" fill-opacity=\"1\" /><path clip-path=\"url(#clip130)\" d=\"M147.177 587.173 L152.061 587.173 L152.061 593.053 L147.177 593.053 L147.177 587.173 Z\" fill=\"#000000\" fill-rule=\"evenodd\" fill-opacity=\"1\" /><path clip-path=\"url(#clip130)\" d=\"M172.246 561.571 Q168.635 561.571 166.806 565.136 Q165.001 568.678 165.001 575.807 Q165.001 582.914 166.806 586.478 Q168.635 590.02 172.246 590.02 Q175.88 590.02 177.686 586.478 Q179.514 582.914 179.514 575.807 Q179.514 568.678 177.686 565.136 Q175.88 561.571 172.246 561.571 M172.246 557.868 Q178.056 557.868 181.112 562.474 Q184.19 567.057 184.19 575.807 Q184.19 584.534 181.112 589.14 Q178.056 593.724 172.246 593.724 Q166.436 593.724 163.357 589.14 Q160.302 584.534 160.302 575.807 Q160.302 567.057 163.357 562.474 Q166.436 557.868 172.246 557.868 Z\" fill=\"#000000\" fill-rule=\"evenodd\" fill-opacity=\"1\" /><path clip-path=\"url(#clip130)\" d=\"M220.579 567.59 L210 578.215 L220.579 588.793 L217.824 591.594 L207.199 580.969 L196.575 591.594 L193.843 588.793 L204.399 578.215 L193.843 567.59 L196.575 564.789 L207.199 575.414 L217.824 564.789 L220.579 567.59 Z\" fill=\"#000000\" fill-rule=\"evenodd\" fill-opacity=\"1\" /><path clip-path=\"url(#clip130)\" d=\"M232.94 589.117 L240.579 589.117 L240.579 562.752 L232.269 564.418 L232.269 560.159 L240.533 558.493 L245.209 558.493 L245.209 589.117 L252.847 589.117 L252.847 593.053 L232.94 593.053 L232.94 589.117 Z\" fill=\"#000000\" fill-rule=\"evenodd\" fill-opacity=\"1\" /><path clip-path=\"url(#clip130)\" d=\"M272.292 561.571 Q268.681 561.571 266.852 565.136 Q265.046 568.678 265.046 575.807 Q265.046 582.914 266.852 586.478 Q268.681 590.02 272.292 590.02 Q275.926 590.02 277.732 586.478 Q279.56 582.914 279.56 575.807 Q279.56 568.678 277.732 565.136 Q275.926 561.571 272.292 561.571 M272.292 557.868 Q278.102 557.868 281.157 562.474 Q284.236 567.057 284.236 575.807 Q284.236 584.534 281.157 589.14 Q278.102 593.724 272.292 593.724 Q266.482 593.724 263.403 589.14 Q260.347 584.534 260.347 575.807 Q260.347 567.057 263.403 562.474 Q266.482 557.868 272.292 557.868 Z\" fill=\"#000000\" fill-rule=\"evenodd\" fill-opacity=\"1\" /><path clip-path=\"url(#clip130)\" d=\"M284.782 562.445 L290.988 562.445 L290.988 541.023 L284.236 542.377 L284.236 538.916 L290.95 537.562 L294.75 537.562 L294.75 562.445 L300.956 562.445 L300.956 565.642 L284.782 565.642 L284.782 562.445 Z\" fill=\"#000000\" fill-rule=\"evenodd\" fill-opacity=\"1\" /><path clip-path=\"url(#clip130)\" d=\"M316.755 540.064 Q313.821 540.064 312.335 542.96 Q310.868 545.838 310.868 551.63 Q310.868 557.404 312.335 560.301 Q313.821 563.178 316.755 563.178 Q319.708 563.178 321.175 560.301 Q322.66 557.404 322.66 551.63 Q322.66 545.838 321.175 542.96 Q319.708 540.064 316.755 540.064 M316.755 537.054 Q321.475 537.054 323.958 540.797 Q326.46 544.521 326.46 551.63 Q326.46 558.721 323.958 562.464 Q321.475 566.188 316.755 566.188 Q312.034 566.188 309.533 562.464 Q307.05 558.721 307.05 551.63 Q307.05 544.521 309.533 540.797 Q312.034 537.054 316.755 537.054 Z\" fill=\"#000000\" fill-rule=\"evenodd\" fill-opacity=\"1\" /><path clip-path=\"url(#clip130)\" d=\"M115.834 171.964 L138.056 171.964 L138.056 173.955 L125.51 206.524 L120.626 206.524 L132.431 175.899 L115.834 175.899 L115.834 171.964 Z\" fill=\"#000000\" fill-rule=\"evenodd\" fill-opacity=\"1\" /><path clip-path=\"url(#clip130)\" d=\"M147.177 200.645 L152.061 200.645 L152.061 206.524 L147.177 206.524 L147.177 200.645 Z\" fill=\"#000000\" fill-rule=\"evenodd\" fill-opacity=\"1\" /><path clip-path=\"url(#clip130)\" d=\"M172.246 175.043 Q168.635 175.043 166.806 178.608 Q165.001 182.149 165.001 189.279 Q165.001 196.385 166.806 199.95 Q168.635 203.492 172.246 203.492 Q175.88 203.492 177.686 199.95 Q179.514 196.385 179.514 189.279 Q179.514 182.149 177.686 178.608 Q175.88 175.043 172.246 175.043 M172.246 171.339 Q178.056 171.339 181.112 175.946 Q184.19 180.529 184.19 189.279 Q184.19 198.006 181.112 202.612 Q178.056 207.196 172.246 207.196 Q166.436 207.196 163.357 202.612 Q160.302 198.006 160.302 189.279 Q160.302 180.529 163.357 175.946 Q166.436 171.339 172.246 171.339 Z\" fill=\"#000000\" fill-rule=\"evenodd\" fill-opacity=\"1\" /><path clip-path=\"url(#clip130)\" d=\"M220.579 181.061 L210 191.686 L220.579 202.265 L217.824 205.066 L207.199 194.441 L196.575 205.066 L193.843 202.265 L204.399 191.686 L193.843 181.061 L196.575 178.261 L207.199 188.886 L217.824 178.261 L220.579 181.061 Z\" fill=\"#000000\" fill-rule=\"evenodd\" fill-opacity=\"1\" /><path clip-path=\"url(#clip130)\" d=\"M232.94 202.589 L240.579 202.589 L240.579 176.224 L232.269 177.89 L232.269 173.631 L240.533 171.964 L245.209 171.964 L245.209 202.589 L252.847 202.589 L252.847 206.524 L232.94 206.524 L232.94 202.589 Z\" fill=\"#000000\" fill-rule=\"evenodd\" fill-opacity=\"1\" /><path clip-path=\"url(#clip130)\" d=\"M272.292 175.043 Q268.681 175.043 266.852 178.608 Q265.046 182.149 265.046 189.279 Q265.046 196.385 266.852 199.95 Q268.681 203.492 272.292 203.492 Q275.926 203.492 277.732 199.95 Q279.56 196.385 279.56 189.279 Q279.56 182.149 277.732 178.608 Q275.926 175.043 272.292 175.043 M272.292 171.339 Q278.102 171.339 281.157 175.946 Q284.236 180.529 284.236 189.279 Q284.236 198.006 281.157 202.612 Q278.102 207.196 272.292 207.196 Q266.482 207.196 263.403 202.612 Q260.347 198.006 260.347 189.279 Q260.347 180.529 263.403 175.946 Q266.482 171.339 272.292 171.339 Z\" fill=\"#000000\" fill-rule=\"evenodd\" fill-opacity=\"1\" /><path clip-path=\"url(#clip130)\" d=\"M284.782 175.917 L290.988 175.917 L290.988 154.495 L284.236 155.849 L284.236 152.388 L290.95 151.034 L294.75 151.034 L294.75 175.917 L300.956 175.917 L300.956 179.114 L284.782 179.114 L284.782 175.917 Z\" fill=\"#000000\" fill-rule=\"evenodd\" fill-opacity=\"1\" /><path clip-path=\"url(#clip130)\" d=\"M316.755 153.535 Q313.821 153.535 312.335 156.432 Q310.868 159.309 310.868 165.102 Q310.868 170.876 312.335 173.772 Q313.821 176.65 316.755 176.65 Q319.708 176.65 321.175 173.772 Q322.66 170.876 322.66 165.102 Q322.66 159.309 321.175 156.432 Q319.708 153.535 316.755 153.535 M316.755 150.526 Q321.475 150.526 323.958 154.269 Q326.46 157.993 326.46 165.102 Q326.46 172.193 323.958 175.935 Q321.475 179.659 316.755 179.659 Q312.034 179.659 309.533 175.935 Q307.05 172.193 307.05 165.102 Q307.05 157.993 309.533 154.269 Q312.034 150.526 316.755 150.526 Z\" fill=\"#000000\" fill-rule=\"evenodd\" fill-opacity=\"1\" /><path clip-path=\"url(#clip130)\" d=\"M16.4842 965.142 L16.4842 924.943 L21.895 924.943 L21.895 941.812 L64.0042 941.812 L64.0042 948.273 L21.895 948.273 L21.895 965.142 L16.4842 965.142 Z\" fill=\"#000000\" fill-rule=\"evenodd\" fill-opacity=\"1\" /><path clip-path=\"url(#clip130)\" d=\"M32.4621 916.253 Q32.4621 920.964 36.1542 923.701 Q39.8145 926.438 46.212 926.438 Q52.6095 926.438 56.3017 923.733 Q59.9619 920.996 59.9619 916.253 Q59.9619 911.575 56.2698 908.837 Q52.5777 906.1 46.212 906.1 Q39.8781 906.1 36.186 908.837 Q32.4621 911.575 32.4621 916.253 M27.4968 916.253 Q27.4968 908.614 32.4621 904.254 Q37.4273 899.893 46.212 899.893 Q54.9649 899.893 59.9619 904.254 Q64.9272 908.614 64.9272 916.253 Q64.9272 923.924 59.9619 928.285 Q54.9649 932.613 46.212 932.613 Q37.4273 932.613 32.4621 928.285 Q27.4968 923.924 27.4968 916.253 Z\" fill=\"#000000\" fill-rule=\"evenodd\" fill-opacity=\"1\" /><path clip-path=\"url(#clip130)\" d=\"M18.2347 884.393 L28.3562 884.393 L28.3562 872.33 L32.9077 872.33 L32.9077 884.393 L52.2594 884.393 Q56.6199 884.393 57.8613 883.215 Q59.1026 882.006 59.1026 878.346 L59.1026 872.33 L64.0042 872.33 L64.0042 878.346 Q64.0042 885.125 61.4897 887.703 Q58.9434 890.281 52.2594 890.281 L32.9077 890.281 L32.9077 894.578 L28.3562 894.578 L28.3562 890.281 L18.2347 890.281 L18.2347 884.393 Z\" fill=\"#000000\" fill-rule=\"evenodd\" fill-opacity=\"1\" /><path clip-path=\"url(#clip130)\" d=\"M46.0847 848.427 Q46.0847 855.524 47.7079 858.262 Q49.3312 860.999 53.2461 860.999 Q56.3653 860.999 58.2114 858.962 Q60.0256 856.893 60.0256 853.36 Q60.0256 848.49 56.5881 845.562 Q53.1188 842.602 47.3897 842.602 L46.0847 842.602 L46.0847 848.427 M43.6657 836.746 L64.0042 836.746 L64.0042 842.602 L58.5933 842.602 Q61.8398 844.607 63.3994 847.599 Q64.9272 850.591 64.9272 854.92 Q64.9272 860.394 61.8716 863.641 Q58.7843 866.855 53.6281 866.855 Q47.6125 866.855 44.5569 862.845 Q41.5014 858.803 41.5014 850.814 L41.5014 842.602 L40.9285 842.602 Q36.8862 842.602 34.6901 845.276 Q32.4621 847.917 32.4621 852.724 Q32.4621 855.779 33.1941 858.676 Q33.9262 861.572 35.3903 864.245 L29.9795 864.245 Q28.7381 861.031 28.1334 858.007 Q27.4968 854.983 27.4968 852.119 Q27.4968 844.384 31.5072 840.565 Q35.5176 836.746 43.6657 836.746 Z\" fill=\"#000000\" fill-rule=\"evenodd\" fill-opacity=\"1\" /><path clip-path=\"url(#clip130)\" d=\"M14.479 824.683 L14.479 818.826 L64.0042 818.826 L64.0042 824.683 L14.479 824.683 Z\" fill=\"#000000\" fill-rule=\"evenodd\" fill-opacity=\"1\" /><path clip-path=\"url(#clip130)\" d=\"M28.3562 785.852 L28.3562 779.995 L64.0042 779.995 L64.0042 785.852 L28.3562 785.852 M14.479 785.852 L14.479 779.995 L21.895 779.995 L21.895 785.852 L14.479 785.852 Z\" fill=\"#000000\" fill-rule=\"evenodd\" fill-opacity=\"1\" /><path clip-path=\"url(#clip130)\" d=\"M35.1993 739.987 Q31.2526 737.791 29.3747 734.735 Q27.4968 731.68 27.4968 727.542 Q27.4968 721.972 31.4117 718.948 Q35.2948 715.925 42.4881 715.925 L64.0042 715.925 L64.0042 721.813 L42.679 721.813 Q37.5546 721.813 35.072 723.627 Q32.5894 725.441 32.5894 729.165 Q32.5894 733.717 35.6131 736.358 Q38.6368 739 43.8567 739 L64.0042 739 L64.0042 744.888 L42.679 744.888 Q37.5228 744.888 35.072 746.703 Q32.5894 748.517 32.5894 752.305 Q32.5894 756.792 35.6449 759.434 Q38.6686 762.076 43.8567 762.076 L64.0042 762.076 L64.0042 767.964 L28.3562 767.964 L28.3562 762.076 L33.8944 762.076 Q30.616 760.071 29.0564 757.27 Q27.4968 754.469 27.4968 750.618 Q27.4968 746.735 29.4702 744.029 Q31.4436 741.292 35.1993 739.987 Z\" fill=\"#000000\" fill-rule=\"evenodd\" fill-opacity=\"1\" /><path clip-path=\"url(#clip130)\" d=\"M58.657 698.578 L77.5631 698.578 L77.5631 704.466 L28.3562 704.466 L28.3562 698.578 L33.7671 698.578 Q30.5842 696.732 29.0564 693.931 Q27.4968 691.098 27.4968 687.183 Q27.4968 680.69 32.6531 676.648 Q37.8093 672.574 46.212 672.574 Q54.6147 672.574 59.771 676.648 Q64.9272 680.69 64.9272 687.183 Q64.9272 691.098 63.3994 693.931 Q61.8398 696.732 58.657 698.578 M46.212 678.653 Q39.7508 678.653 36.0905 681.327 Q32.3984 683.969 32.3984 688.616 Q32.3984 693.263 36.0905 695.936 Q39.7508 698.578 46.212 698.578 Q52.6732 698.578 56.3653 695.936 Q60.0256 693.263 60.0256 688.616 Q60.0256 683.969 56.3653 681.327 Q52.6732 678.653 46.212 678.653 Z\" fill=\"#000000\" fill-rule=\"evenodd\" fill-opacity=\"1\" /><path clip-path=\"url(#clip130)\" d=\"M46.0847 646.666 Q46.0847 653.763 47.7079 656.501 Q49.3312 659.238 53.2461 659.238 Q56.3653 659.238 58.2114 657.201 Q60.0256 655.132 60.0256 651.599 Q60.0256 646.729 56.5881 643.801 Q53.1188 640.841 47.3897 640.841 L46.0847 640.841 L46.0847 646.666 M43.6657 634.985 L64.0042 634.985 L64.0042 640.841 L58.5933 640.841 Q61.8398 642.846 63.3994 645.838 Q64.9272 648.83 64.9272 653.159 Q64.9272 658.633 61.8716 661.88 Q58.7843 665.094 53.6281 665.094 Q47.6125 665.094 44.5569 661.084 Q41.5014 657.042 41.5014 649.053 L41.5014 640.841 L40.9285 640.841 Q36.8862 640.841 34.6901 643.515 Q32.4621 646.156 32.4621 650.962 Q32.4621 654.018 33.1941 656.914 Q33.9262 659.811 35.3903 662.484 L29.9795 662.484 Q28.7381 659.27 28.1334 656.246 Q27.4968 653.222 27.4968 650.358 Q27.4968 642.623 31.5072 638.804 Q35.5176 634.985 43.6657 634.985 Z\" fill=\"#000000\" fill-rule=\"evenodd\" fill-opacity=\"1\" /><path clip-path=\"url(#clip130)\" d=\"M29.7248 597.268 L35.1993 597.268 Q33.8307 599.75 33.1623 602.265 Q32.4621 604.747 32.4621 607.294 Q32.4621 612.991 36.0905 616.142 Q39.6872 619.293 46.212 619.293 Q52.7369 619.293 56.3653 616.142 Q59.9619 612.991 59.9619 607.294 Q59.9619 604.747 59.2935 602.265 Q58.5933 599.75 57.2247 597.268 L62.6355 597.268 Q63.7814 599.719 64.3543 602.36 Q64.9272 604.97 64.9272 607.93 Q64.9272 615.983 59.8664 620.725 Q54.8057 625.468 46.212 625.468 Q37.491 625.468 32.4939 620.694 Q27.4968 615.887 27.4968 607.548 Q27.4968 604.843 28.0697 602.265 Q28.6108 599.687 29.7248 597.268 Z\" fill=\"#000000\" fill-rule=\"evenodd\" fill-opacity=\"1\" /><path clip-path=\"url(#clip130)\" d=\"M18.2347 581.29 L28.3562 581.29 L28.3562 569.227 L32.9077 569.227 L32.9077 581.29 L52.2594 581.29 Q56.6199 581.29 57.8613 580.112 Q59.1026 578.903 59.1026 575.242 L59.1026 569.227 L64.0042 569.227 L64.0042 575.242 Q64.0042 582.022 61.4897 584.6 Q58.9434 587.178 52.2594 587.178 L32.9077 587.178 L32.9077 591.475 L28.3562 591.475 L28.3562 587.178 L18.2347 587.178 L18.2347 581.29 Z\" fill=\"#000000\" fill-rule=\"evenodd\" fill-opacity=\"1\" /><path clip-path=\"url(#clip130)\" d=\"M545.381 12.096 L596.544 12.096 L596.544 18.9825 L575.074 18.9825 L575.074 72.576 L566.851 72.576 L566.851 18.9825 L545.381 18.9825 L545.381 12.096 Z\" fill=\"#000000\" fill-rule=\"evenodd\" fill-opacity=\"1\" /><path clip-path=\"url(#clip130)\" d=\"M607.603 32.4315 Q601.608 32.4315 598.124 37.1306 Q594.64 41.7891 594.64 49.9314 Q594.64 58.0738 598.083 62.7728 Q601.567 67.4314 607.603 67.4314 Q613.558 67.4314 617.042 62.7323 Q620.525 58.0333 620.525 49.9314 Q620.525 41.8701 617.042 37.1711 Q613.558 32.4315 607.603 32.4315 M607.603 26.1121 Q617.325 26.1121 622.875 32.4315 Q628.425 38.7509 628.425 49.9314 Q628.425 61.0714 622.875 67.4314 Q617.325 73.7508 607.603 73.7508 Q597.84 73.7508 592.291 67.4314 Q586.781 61.0714 586.781 49.9314 Q586.781 38.7509 592.291 32.4315 Q597.84 26.1121 607.603 26.1121 Z\" fill=\"#000000\" fill-rule=\"evenodd\" fill-opacity=\"1\" /><path clip-path=\"url(#clip130)\" d=\"M648.153 14.324 L648.153 27.2059 L663.506 27.2059 L663.506 32.9987 L648.153 32.9987 L648.153 57.6282 Q648.153 63.1779 649.651 64.7578 Q651.191 66.3376 655.849 66.3376 L663.506 66.3376 L663.506 72.576 L655.849 72.576 Q647.221 72.576 643.94 69.3758 Q640.658 66.1351 640.658 57.6282 L640.658 32.9987 L635.19 32.9987 L635.19 27.2059 L640.658 27.2059 L640.658 14.324 L648.153 14.324 Z\" fill=\"#000000\" fill-rule=\"evenodd\" fill-opacity=\"1\" /><path clip-path=\"url(#clip130)\" d=\"M693.928 49.7694 Q684.894 49.7694 681.411 51.8354 Q677.927 53.9013 677.927 58.8839 Q677.927 62.8538 680.519 65.2034 Q683.152 67.5124 687.649 67.5124 Q693.847 67.5124 697.574 63.1374 Q701.341 58.7219 701.341 51.4303 L701.341 49.7694 L693.928 49.7694 M708.795 46.6907 L708.795 72.576 L701.341 72.576 L701.341 65.6895 Q698.789 69.8214 694.981 71.8063 Q691.173 73.7508 685.664 73.7508 Q678.696 73.7508 674.565 69.8619 Q670.473 65.9325 670.473 59.3701 Q670.473 51.7138 675.577 47.825 Q680.722 43.9361 690.89 43.9361 L701.341 43.9361 L701.341 43.2069 Q701.341 38.0623 697.938 35.2672 Q694.576 32.4315 688.459 32.4315 Q684.57 32.4315 680.884 33.3632 Q677.198 34.295 673.795 36.1584 L673.795 29.2718 Q677.886 27.692 681.735 26.9223 Q685.583 26.1121 689.229 26.1121 Q699.072 26.1121 703.934 31.2163 Q708.795 36.3204 708.795 46.6907 Z\" fill=\"#000000\" fill-rule=\"evenodd\" fill-opacity=\"1\" /><path clip-path=\"url(#clip130)\" d=\"M724.148 9.54393 L731.601 9.54393 L731.601 72.576 L724.148 72.576 L724.148 9.54393 Z\" fill=\"#000000\" fill-rule=\"evenodd\" fill-opacity=\"1\" /><path clip-path=\"url(#clip130)\" d=\"M773.569 27.2059 L781.022 27.2059 L781.022 72.576 L773.569 72.576 L773.569 27.2059 M773.569 9.54393 L781.022 9.54393 L781.022 18.9825 L773.569 18.9825 L773.569 9.54393 Z\" fill=\"#000000\" fill-rule=\"evenodd\" fill-opacity=\"1\" /><path clip-path=\"url(#clip130)\" d=\"M831.942 35.9153 Q834.737 30.8922 838.626 28.5022 Q842.515 26.1121 847.781 26.1121 Q854.87 26.1121 858.719 31.0947 Q862.567 36.0368 862.567 45.1919 L862.567 72.576 L855.073 72.576 L855.073 45.4349 Q855.073 38.913 852.764 35.7533 Q850.455 32.5936 845.715 32.5936 Q839.922 32.5936 836.56 36.4419 Q833.198 40.2903 833.198 46.9338 L833.198 72.576 L825.704 72.576 L825.704 45.4349 Q825.704 38.8725 823.395 35.7533 Q821.086 32.5936 816.265 32.5936 Q810.553 32.5936 807.191 36.4824 Q803.829 40.3308 803.829 46.9338 L803.829 72.576 L796.335 72.576 L796.335 27.2059 L803.829 27.2059 L803.829 34.2544 Q806.381 30.082 809.946 28.0971 Q813.511 26.1121 818.412 26.1121 Q823.354 26.1121 826.797 28.6237 Q830.281 31.1352 831.942 35.9153 Z\" fill=\"#000000\" fill-rule=\"evenodd\" fill-opacity=\"1\" /><path clip-path=\"url(#clip130)\" d=\"M884.644 65.7705 L884.644 89.8329 L877.15 89.8329 L877.15 27.2059 L884.644 27.2059 L884.644 34.0924 Q886.994 30.0415 890.559 28.0971 Q894.164 26.1121 899.147 26.1121 Q907.41 26.1121 912.555 32.6746 Q917.74 39.2371 917.74 49.9314 Q917.74 60.6258 912.555 67.1883 Q907.41 73.7508 899.147 73.7508 Q894.164 73.7508 890.559 71.8063 Q886.994 69.8214 884.644 65.7705 M910.003 49.9314 Q910.003 41.7081 906.6 37.0496 Q903.238 32.3505 897.324 32.3505 Q891.409 32.3505 888.007 37.0496 Q884.644 41.7081 884.644 49.9314 Q884.644 58.1548 888.007 62.8538 Q891.409 67.5124 897.324 67.5124 Q903.238 67.5124 906.6 62.8538 Q910.003 58.1548 910.003 49.9314 Z\" fill=\"#000000\" fill-rule=\"evenodd\" fill-opacity=\"1\" /><path clip-path=\"url(#clip130)\" d=\"M950.715 49.7694 Q941.681 49.7694 938.197 51.8354 Q934.714 53.9013 934.714 58.8839 Q934.714 62.8538 937.306 65.2034 Q939.939 67.5124 944.436 67.5124 Q950.634 67.5124 954.36 63.1374 Q958.128 58.7219 958.128 51.4303 L958.128 49.7694 L950.715 49.7694 M965.581 46.6907 L965.581 72.576 L958.128 72.576 L958.128 65.6895 Q955.576 69.8214 951.768 71.8063 Q947.96 73.7508 942.451 73.7508 Q935.483 73.7508 931.351 69.8619 Q927.26 65.9325 927.26 59.3701 Q927.26 51.7138 932.364 47.825 Q937.509 43.9361 947.676 43.9361 L958.128 43.9361 L958.128 43.2069 Q958.128 38.0623 954.725 35.2672 Q951.363 32.4315 945.246 32.4315 Q941.357 32.4315 937.671 33.3632 Q933.984 34.295 930.582 36.1584 L930.582 29.2718 Q934.673 27.692 938.521 26.9223 Q942.37 26.1121 946.016 26.1121 Q955.859 26.1121 960.72 31.2163 Q965.581 36.3204 965.581 46.6907 Z\" fill=\"#000000\" fill-rule=\"evenodd\" fill-opacity=\"1\" /><path clip-path=\"url(#clip130)\" d=\"M1013.58 28.9478 L1013.58 35.9153 Q1010.42 34.1734 1007.22 33.3227 Q1004.07 32.4315 1000.82 32.4315 Q993.573 32.4315 989.563 37.0496 Q985.552 41.6271 985.552 49.9314 Q985.552 58.2358 989.563 62.8538 Q993.573 67.4314 1000.82 67.4314 Q1004.07 67.4314 1007.22 66.5807 Q1010.42 65.6895 1013.58 63.9476 L1013.58 70.8341 Q1010.47 72.2924 1007.1 73.0216 Q1003.78 73.7508 1000.01 73.7508 Q989.765 73.7508 983.73 67.3098 Q977.694 60.8689 977.694 49.9314 Q977.694 38.832 983.77 32.472 Q989.887 26.1121 1000.5 26.1121 Q1003.94 26.1121 1007.22 26.8413 Q1010.51 27.5299 1013.58 28.9478 Z\" fill=\"#000000\" fill-rule=\"evenodd\" fill-opacity=\"1\" /><path clip-path=\"url(#clip130)\" d=\"M1033.92 14.324 L1033.92 27.2059 L1049.27 27.2059 L1049.27 32.9987 L1033.92 32.9987 L1033.92 57.6282 Q1033.92 63.1779 1035.42 64.7578 Q1036.96 66.3376 1041.62 66.3376 L1049.27 66.3376 L1049.27 72.576 L1041.62 72.576 Q1032.99 72.576 1029.71 69.3758 Q1026.43 66.1351 1026.43 57.6282 L1026.43 32.9987 L1020.96 32.9987 L1020.96 27.2059 L1026.43 27.2059 L1026.43 14.324 L1033.92 14.324 Z\" fill=\"#000000\" fill-rule=\"evenodd\" fill-opacity=\"1\" /><path clip-path=\"url(#clip130)\" d=\"M1115.3 34.0924 L1115.3 9.54393 L1122.76 9.54393 L1122.76 72.576 L1115.3 72.576 L1115.3 65.7705 Q1112.95 69.8214 1109.35 71.8063 Q1105.78 73.7508 1100.76 73.7508 Q1092.54 73.7508 1087.35 67.1883 Q1082.21 60.6258 1082.21 49.9314 Q1082.21 39.2371 1087.35 32.6746 Q1092.54 26.1121 1100.76 26.1121 Q1105.78 26.1121 1109.35 28.0971 Q1112.95 30.0415 1115.3 34.0924 M1089.9 49.9314 Q1089.9 58.1548 1093.27 62.8538 Q1096.67 67.5124 1102.58 67.5124 Q1108.5 67.5124 1111.9 62.8538 Q1115.3 58.1548 1115.3 49.9314 Q1115.3 41.7081 1111.9 37.0496 Q1108.5 32.3505 1102.58 32.3505 Q1096.67 32.3505 1093.27 37.0496 Q1089.9 41.7081 1089.9 49.9314 Z\" fill=\"#000000\" fill-rule=\"evenodd\" fill-opacity=\"1\" /><path clip-path=\"url(#clip130)\" d=\"M1176.92 48.0275 L1176.92 51.6733 L1142.65 51.6733 Q1143.13 59.3701 1147.26 63.421 Q1151.44 67.4314 1158.85 67.4314 Q1163.14 67.4314 1167.15 66.3781 Q1171.21 65.3249 1175.18 63.2184 L1175.18 70.267 Q1171.16 71.9684 1166.95 72.8596 Q1162.74 73.7508 1158.4 73.7508 Q1147.55 73.7508 1141.19 67.4314 Q1134.87 61.1119 1134.87 50.3365 Q1134.87 39.1965 1140.86 32.6746 Q1146.9 26.1121 1157.11 26.1121 Q1166.26 26.1121 1171.57 32.0264 Q1176.92 37.9003 1176.92 48.0275 M1169.46 45.84 Q1169.38 39.7232 1166.02 36.0774 Q1162.7 32.4315 1157.19 32.4315 Q1150.95 32.4315 1147.18 35.9558 Q1143.46 39.4801 1142.89 45.8805 L1169.46 45.84 Z\" fill=\"#000000\" fill-rule=\"evenodd\" fill-opacity=\"1\" /><path clip-path=\"url(#clip130)\" d=\"M1196.36 65.7705 L1196.36 89.8329 L1188.87 89.8329 L1188.87 27.2059 L1196.36 27.2059 L1196.36 34.0924 Q1198.71 30.0415 1202.28 28.0971 Q1205.88 26.1121 1210.86 26.1121 Q1219.13 26.1121 1224.27 32.6746 Q1229.46 39.2371 1229.46 49.9314 Q1229.46 60.6258 1224.27 67.1883 Q1219.13 73.7508 1210.86 73.7508 Q1205.88 73.7508 1202.28 71.8063 Q1198.71 69.8214 1196.36 65.7705 M1221.72 49.9314 Q1221.72 41.7081 1218.32 37.0496 Q1214.96 32.3505 1209.04 32.3505 Q1203.13 32.3505 1199.72 37.0496 Q1196.36 41.7081 1196.36 49.9314 Q1196.36 58.1548 1199.72 62.8538 Q1203.13 67.5124 1209.04 67.5124 Q1214.96 67.5124 1218.32 62.8538 Q1221.72 58.1548 1221.72 49.9314 Z\" fill=\"#000000\" fill-rule=\"evenodd\" fill-opacity=\"1\" /><path clip-path=\"url(#clip130)\" d=\"M1280.62 48.0275 L1280.62 51.6733 L1246.35 51.6733 Q1246.84 59.3701 1250.97 63.421 Q1255.14 67.4314 1262.55 67.4314 Q1266.85 67.4314 1270.86 66.3781 Q1274.91 65.3249 1278.88 63.2184 L1278.88 70.267 Q1274.87 71.9684 1270.66 72.8596 Q1266.44 73.7508 1262.11 73.7508 Q1251.25 73.7508 1244.89 67.4314 Q1238.57 61.1119 1238.57 50.3365 Q1238.57 39.1965 1244.57 32.6746 Q1250.6 26.1121 1260.81 26.1121 Q1269.97 26.1121 1275.27 32.0264 Q1280.62 37.9003 1280.62 48.0275 M1273.17 45.84 Q1273.09 39.7232 1269.72 36.0774 Q1266.4 32.4315 1260.89 32.4315 Q1254.65 32.4315 1250.89 35.9558 Q1247.16 39.4801 1246.59 45.8805 L1273.17 45.84 Z\" fill=\"#000000\" fill-rule=\"evenodd\" fill-opacity=\"1\" /><path clip-path=\"url(#clip130)\" d=\"M1330.57 45.1919 L1330.57 72.576 L1323.11 72.576 L1323.11 45.4349 Q1323.11 38.994 1320.6 35.7938 Q1318.09 32.5936 1313.07 32.5936 Q1307.03 32.5936 1303.55 36.4419 Q1300.06 40.2903 1300.06 46.9338 L1300.06 72.576 L1292.57 72.576 L1292.57 27.2059 L1300.06 27.2059 L1300.06 34.2544 Q1302.74 30.163 1306.34 28.1376 Q1309.99 26.1121 1314.73 26.1121 Q1322.55 26.1121 1326.56 30.9732 Q1330.57 35.7938 1330.57 45.1919 Z\" fill=\"#000000\" fill-rule=\"evenodd\" fill-opacity=\"1\" /><path clip-path=\"url(#clip130)\" d=\"M1375.29 34.0924 L1375.29 9.54393 L1382.74 9.54393 L1382.74 72.576 L1375.29 72.576 L1375.29 65.7705 Q1372.94 69.8214 1369.34 71.8063 Q1365.77 73.7508 1360.75 73.7508 Q1352.52 73.7508 1347.34 67.1883 Q1342.19 60.6258 1342.19 49.9314 Q1342.19 39.2371 1347.34 32.6746 Q1352.52 26.1121 1360.75 26.1121 Q1365.77 26.1121 1369.34 28.0971 Q1372.94 30.0415 1375.29 34.0924 M1349.89 49.9314 Q1349.89 58.1548 1353.25 62.8538 Q1356.66 67.5124 1362.57 67.5124 Q1368.48 67.5124 1371.89 62.8538 Q1375.29 58.1548 1375.29 49.9314 Q1375.29 41.7081 1371.89 37.0496 Q1368.48 32.3505 1362.57 32.3505 Q1356.66 32.3505 1353.25 37.0496 Q1349.89 41.7081 1349.89 49.9314 Z\" fill=\"#000000\" fill-rule=\"evenodd\" fill-opacity=\"1\" /><path clip-path=\"url(#clip130)\" d=\"M1398.1 27.2059 L1405.55 27.2059 L1405.55 72.576 L1398.1 72.576 L1398.1 27.2059 M1398.1 9.54393 L1405.55 9.54393 L1405.55 18.9825 L1398.1 18.9825 L1398.1 9.54393 Z\" fill=\"#000000\" fill-rule=\"evenodd\" fill-opacity=\"1\" /><path clip-path=\"url(#clip130)\" d=\"M1458.86 45.1919 L1458.86 72.576 L1451.41 72.576 L1451.41 45.4349 Q1451.41 38.994 1448.89 35.7938 Q1446.38 32.5936 1441.36 32.5936 Q1435.32 32.5936 1431.84 36.4419 Q1428.36 40.2903 1428.36 46.9338 L1428.36 72.576 L1420.86 72.576 L1420.86 27.2059 L1428.36 27.2059 L1428.36 34.2544 Q1431.03 30.163 1434.64 28.1376 Q1438.28 26.1121 1443.02 26.1121 Q1450.84 26.1121 1454.85 30.9732 Q1458.86 35.7938 1458.86 45.1919 Z\" fill=\"#000000\" fill-rule=\"evenodd\" fill-opacity=\"1\" /><path clip-path=\"url(#clip130)\" d=\"M1503.58 49.3643 Q1503.58 41.2625 1500.22 36.8065 Q1496.9 32.3505 1490.86 32.3505 Q1484.87 32.3505 1481.5 36.8065 Q1478.18 41.2625 1478.18 49.3643 Q1478.18 57.4256 1481.5 61.8816 Q1484.87 66.3376 1490.86 66.3376 Q1496.9 66.3376 1500.22 61.8816 Q1503.58 57.4256 1503.58 49.3643 M1511.04 66.9452 Q1511.04 78.5308 1505.89 84.1616 Q1500.75 89.8329 1490.13 89.8329 Q1486.2 89.8329 1482.72 89.2252 Q1479.24 88.6581 1475.95 87.4428 L1475.95 80.1917 Q1479.24 81.9741 1482.44 82.8248 Q1485.64 83.6755 1488.96 83.6755 Q1496.29 83.6755 1499.94 79.8271 Q1503.58 76.0193 1503.58 68.282 L1503.58 64.5957 Q1501.27 68.6061 1497.67 70.5911 Q1494.06 72.576 1489.04 72.576 Q1480.69 72.576 1475.59 66.2161 Q1470.49 59.8562 1470.49 49.3643 Q1470.49 38.832 1475.59 32.472 Q1480.69 26.1121 1489.04 26.1121 Q1494.06 26.1121 1497.67 28.0971 Q1501.27 30.082 1503.58 34.0924 L1503.58 27.2059 L1511.04 27.2059 L1511.04 66.9452 Z\" fill=\"#000000\" fill-rule=\"evenodd\" fill-opacity=\"1\" /><path clip-path=\"url(#clip130)\" d=\"M1570.34 32.4315 Q1564.35 32.4315 1560.86 37.1306 Q1557.38 41.7891 1557.38 49.9314 Q1557.38 58.0738 1560.82 62.7728 Q1564.31 67.4314 1570.34 67.4314 Q1576.3 67.4314 1579.78 62.7323 Q1583.26 58.0333 1583.26 49.9314 Q1583.26 41.8701 1579.78 37.1711 Q1576.3 32.4315 1570.34 32.4315 M1570.34 26.1121 Q1580.06 26.1121 1585.61 32.4315 Q1591.16 38.7509 1591.16 49.9314 Q1591.16 61.0714 1585.61 67.4314 Q1580.06 73.7508 1570.34 73.7508 Q1560.58 73.7508 1555.03 67.4314 Q1549.52 61.0714 1549.52 49.9314 Q1549.52 38.7509 1555.03 32.4315 Q1560.58 26.1121 1570.34 26.1121 Z\" fill=\"#000000\" fill-rule=\"evenodd\" fill-opacity=\"1\" /><path clip-path=\"url(#clip130)\" d=\"M1641.23 45.1919 L1641.23 72.576 L1633.78 72.576 L1633.78 45.4349 Q1633.78 38.994 1631.27 35.7938 Q1628.75 32.5936 1623.73 32.5936 Q1617.7 32.5936 1614.21 36.4419 Q1610.73 40.2903 1610.73 46.9338 L1610.73 72.576 L1603.23 72.576 L1603.23 27.2059 L1610.73 27.2059 L1610.73 34.2544 Q1613.4 30.163 1617.01 28.1376 Q1620.65 26.1121 1625.39 26.1121 Q1633.21 26.1121 1637.22 30.9732 Q1641.23 35.7938 1641.23 45.1919 Z\" fill=\"#000000\" fill-rule=\"evenodd\" fill-opacity=\"1\" /><path clip-path=\"url(#clip130)\" d=\"M1689.84 14.324 L1689.84 27.2059 L1705.2 27.2059 L1705.2 32.9987 L1689.84 32.9987 L1689.84 57.6282 Q1689.84 63.1779 1691.34 64.7578 Q1692.88 66.3376 1697.54 66.3376 L1705.2 66.3376 L1705.2 72.576 L1697.54 72.576 Q1688.91 72.576 1685.63 69.3758 Q1682.35 66.1351 1682.35 57.6282 L1682.35 32.9987 L1676.88 32.9987 L1676.88 27.2059 L1682.35 27.2059 L1682.35 14.324 L1689.84 14.324 Z\" fill=\"#000000\" fill-rule=\"evenodd\" fill-opacity=\"1\" /><path clip-path=\"url(#clip130)\" d=\"M1752.71 45.1919 L1752.71 72.576 L1745.26 72.576 L1745.26 45.4349 Q1745.26 38.994 1742.75 35.7938 Q1740.24 32.5936 1735.21 32.5936 Q1729.18 32.5936 1725.69 36.4419 Q1722.21 40.2903 1722.21 46.9338 L1722.21 72.576 L1714.72 72.576 L1714.72 9.54393 L1722.21 9.54393 L1722.21 34.2544 Q1724.88 30.163 1728.49 28.1376 Q1732.13 26.1121 1736.87 26.1121 Q1744.69 26.1121 1748.7 30.9732 Q1752.71 35.7938 1752.71 45.1919 Z\" fill=\"#000000\" fill-rule=\"evenodd\" fill-opacity=\"1\" /><path clip-path=\"url(#clip130)\" d=\"M1806.39 48.0275 L1806.39 51.6733 L1772.12 51.6733 Q1772.6 59.3701 1776.73 63.421 Q1780.91 67.4314 1788.32 67.4314 Q1792.61 67.4314 1796.62 66.3781 Q1800.68 65.3249 1804.65 63.2184 L1804.65 70.267 Q1800.63 71.9684 1796.42 72.8596 Q1792.21 73.7508 1787.87 73.7508 Q1777.02 73.7508 1770.66 67.4314 Q1764.34 61.1119 1764.34 50.3365 Q1764.34 39.1965 1770.33 32.6746 Q1776.37 26.1121 1786.58 26.1121 Q1795.73 26.1121 1801.04 32.0264 Q1806.39 37.9003 1806.39 48.0275 M1798.93 45.84 Q1798.85 39.7232 1795.49 36.0774 Q1792.17 32.4315 1786.66 32.4315 Q1780.42 32.4315 1776.65 35.9558 Q1772.93 39.4801 1772.36 45.8805 L1798.93 45.84 Z\" fill=\"#000000\" fill-rule=\"evenodd\" fill-opacity=\"1\" /><path clip-path=\"url(#clip130)\" d=\"M1882.71 45.1919 L1882.71 72.576 L1875.25 72.576 L1875.25 45.4349 Q1875.25 38.994 1872.74 35.7938 Q1870.23 32.5936 1865.21 32.5936 Q1859.17 32.5936 1855.69 36.4419 Q1852.2 40.2903 1852.2 46.9338 L1852.2 72.576 L1844.71 72.576 L1844.71 27.2059 L1852.2 27.2059 L1852.2 34.2544 Q1854.88 30.163 1858.48 28.1376 Q1862.13 26.1121 1866.87 26.1121 Q1874.69 26.1121 1878.7 30.9732 Q1882.71 35.7938 1882.71 45.1919 Z\" fill=\"#000000\" fill-rule=\"evenodd\" fill-opacity=\"1\" /><path clip-path=\"url(#clip130)\" d=\"M1936.38 48.0275 L1936.38 51.6733 L1902.11 51.6733 Q1902.6 59.3701 1906.73 63.421 Q1910.9 67.4314 1918.31 67.4314 Q1922.61 67.4314 1926.62 66.3781 Q1930.67 65.3249 1934.64 63.2184 L1934.64 70.267 Q1930.63 71.9684 1926.42 72.8596 Q1922.2 73.7508 1917.87 73.7508 Q1907.01 73.7508 1900.65 67.4314 Q1894.33 61.1119 1894.33 50.3365 Q1894.33 39.1965 1900.33 32.6746 Q1906.36 26.1121 1916.57 26.1121 Q1925.73 26.1121 1931.03 32.0264 Q1936.38 37.9003 1936.38 48.0275 M1928.93 45.84 Q1928.85 39.7232 1925.48 36.0774 Q1922.16 32.4315 1916.65 32.4315 Q1910.41 32.4315 1906.65 35.9558 Q1902.92 39.4801 1902.35 45.8805 L1928.93 45.84 Z\" fill=\"#000000\" fill-rule=\"evenodd\" fill-opacity=\"1\" /><path clip-path=\"url(#clip130)\" d=\"M1955.99 14.324 L1955.99 27.2059 L1971.34 27.2059 L1971.34 32.9987 L1955.99 32.9987 L1955.99 57.6282 Q1955.99 63.1779 1957.49 64.7578 Q1959.03 66.3376 1963.68 66.3376 L1971.34 66.3376 L1971.34 72.576 L1963.68 72.576 Q1955.06 72.576 1951.77 69.3758 Q1948.49 66.1351 1948.49 57.6282 L1948.49 32.9987 L1943.02 32.9987 L1943.02 27.2059 L1948.49 27.2059 L1948.49 14.324 L1955.99 14.324 Z\" fill=\"#000000\" fill-rule=\"evenodd\" fill-opacity=\"1\" /><path clip-path=\"url(#clip130)\" d=\"M2040.16 28.9478 L2040.16 35.9153 Q2037.01 34.1734 2033.8 33.3227 Q2030.65 32.4315 2027.4 32.4315 Q2020.15 32.4315 2016.14 37.0496 Q2012.13 41.6271 2012.13 49.9314 Q2012.13 58.2358 2016.14 62.8538 Q2020.15 67.4314 2027.4 67.4314 Q2030.65 67.4314 2033.8 66.5807 Q2037.01 65.6895 2040.16 63.9476 L2040.16 70.8341 Q2037.05 72.2924 2033.68 73.0216 Q2030.36 73.7508 2026.59 73.7508 Q2016.35 73.7508 2010.31 67.3098 Q2004.27 60.8689 2004.27 49.9314 Q2004.27 38.832 2010.35 32.472 Q2016.47 26.1121 2027.08 26.1121 Q2030.52 26.1121 2033.8 26.8413 Q2037.09 27.5299 2040.16 28.9478 Z\" fill=\"#000000\" fill-rule=\"evenodd\" fill-opacity=\"1\" /><path clip-path=\"url(#clip130)\" d=\"M2070.71 32.4315 Q2064.71 32.4315 2061.23 37.1306 Q2057.75 41.7891 2057.75 49.9314 Q2057.75 58.0738 2061.19 62.7728 Q2064.67 67.4314 2070.71 67.4314 Q2076.66 67.4314 2080.15 62.7323 Q2083.63 58.0333 2083.63 49.9314 Q2083.63 41.8701 2080.15 37.1711 Q2076.66 32.4315 2070.71 32.4315 M2070.71 26.1121 Q2080.43 26.1121 2085.98 32.4315 Q2091.53 38.7509 2091.53 49.9314 Q2091.53 61.0714 2085.98 67.4314 Q2080.43 73.7508 2070.71 73.7508 Q2060.95 73.7508 2055.4 67.4314 Q2049.89 61.0714 2049.89 49.9314 Q2049.89 38.7509 2055.4 32.4315 Q2060.95 26.1121 2070.71 26.1121 Z\" fill=\"#000000\" fill-rule=\"evenodd\" fill-opacity=\"1\" /><path clip-path=\"url(#clip130)\" d=\"M2132.81 28.5427 L2132.81 35.5912 Q2129.65 33.9709 2126.25 33.1607 Q2122.84 32.3505 2119.2 32.3505 Q2113.65 32.3505 2110.85 34.0519 Q2108.1 35.7533 2108.1 39.156 Q2108.1 41.7486 2110.08 43.2475 Q2112.07 44.7058 2118.06 46.0426 L2120.62 46.6097 Q2128.56 48.3111 2131.88 51.4303 Q2135.24 54.509 2135.24 60.0587 Q2135.24 66.3781 2130.22 70.0644 Q2125.23 73.7508 2116.48 73.7508 Q2112.84 73.7508 2108.87 73.0216 Q2104.94 72.3329 2100.56 70.9151 L2100.56 63.2184 Q2104.7 65.3654 2108.71 66.4591 Q2112.72 67.5124 2116.65 67.5124 Q2121.91 67.5124 2124.75 65.73 Q2127.58 63.9071 2127.58 60.6258 Q2127.58 57.5877 2125.52 55.9673 Q2123.49 54.3469 2116.56 52.8481 L2113.97 52.2405 Q2107.05 50.7821 2103.97 47.7845 Q2100.89 44.7463 2100.89 39.4801 Q2100.89 33.0797 2105.42 29.5959 Q2109.96 26.1121 2118.31 26.1121 Q2122.44 26.1121 2126.08 26.7198 Q2129.73 27.3274 2132.81 28.5427 Z\" fill=\"#000000\" fill-rule=\"evenodd\" fill-opacity=\"1\" /><path clip-path=\"url(#clip130)\" d=\"M2154.48 14.324 L2154.48 27.2059 L2169.83 27.2059 L2169.83 32.9987 L2154.48 32.9987 L2154.48 57.6282 Q2154.48 63.1779 2155.98 64.7578 Q2157.52 66.3376 2162.18 66.3376 L2169.83 66.3376 L2169.83 72.576 L2162.18 72.576 Q2153.55 72.576 2150.27 69.3758 Q2146.99 66.1351 2146.99 57.6282 L2146.99 32.9987 L2141.52 32.9987 L2141.52 27.2059 L2146.99 27.2059 L2146.99 14.324 L2154.48 14.324 Z\" fill=\"#000000\" fill-rule=\"evenodd\" fill-opacity=\"1\" /><polyline clip-path=\"url(#clip132)\" style=\"stroke:#009af9; stroke-linecap:round; stroke-linejoin:round; stroke-width:4; stroke-opacity:1; fill:none\" points=\"\n  418.789,159.909 498.267,604.212 593.178,800.793 841.215,1057.13 1060.35,1221.62 1120.49,1255.03 1196.68,1288.55 1239.44,1302.93 1286.03,1316.28 1291.9,1317.63 \n  1344.62,1327.95 1379.68,1333.8 1424.75,1340.78 1477.02,1347.86 1487.4,1349.01 1509.95,1351.15 1523.73,1352.29 1544.18,1353.83 1561.84,1354.98 1575.9,1355.74 \n  1628.06,1358.21 1670.61,1359.97 1739.83,1362.41 1891.37,1366.66 2022.91,1369.69 2249.75,1373.81 2296.43,1374.46 \n  \n  \"/>\n<path clip-path=\"url(#clip130)\" d=\"\nM428.803 270.066 L937.885 270.066 L937.885 166.386 L428.803 166.386  Z\n  \" fill=\"#ffffff\" fill-rule=\"evenodd\" fill-opacity=\"1\"/>\n<polyline clip-path=\"url(#clip130)\" style=\"stroke:#000000; stroke-linecap:round; stroke-linejoin:round; stroke-width:4; stroke-opacity:1; fill:none\" points=\"\n  428.803,270.066 937.885,270.066 937.885,166.386 428.803,166.386 428.803,270.066 \n  \"/>\n<polyline clip-path=\"url(#clip130)\" style=\"stroke:#009af9; stroke-linecap:round; stroke-linejoin:round; stroke-width:4; stroke-opacity:1; fill:none\" points=\"\n  450.917,218.226 583.604,218.226 \n  \"/>\n<path clip-path=\"url(#clip130)\" d=\"M605.718 200.946 L634.954 200.946 L634.954 204.881 L622.685 204.881 L622.685 235.506 L617.986 235.506 L617.986 204.881 L605.718 204.881 L605.718 200.946 Z\" fill=\"#000000\" fill-rule=\"evenodd\" fill-opacity=\"1\" /><path clip-path=\"url(#clip130)\" d=\"M641.273 212.567 Q637.847 212.567 635.857 215.252 Q633.866 217.914 633.866 222.567 Q633.866 227.219 635.834 229.904 Q637.824 232.566 641.273 232.566 Q644.676 232.566 646.667 229.881 Q648.658 227.196 648.658 222.567 Q648.658 217.96 646.667 215.275 Q644.676 212.567 641.273 212.567 M641.273 208.955 Q646.829 208.955 650 212.567 Q653.171 216.178 653.171 222.567 Q653.171 228.932 650 232.566 Q646.829 236.178 641.273 236.178 Q635.695 236.178 632.523 232.566 Q629.375 228.932 629.375 222.567 Q629.375 216.178 632.523 212.567 Q635.695 208.955 641.273 208.955 Z\" fill=\"#000000\" fill-rule=\"evenodd\" fill-opacity=\"1\" /><path clip-path=\"url(#clip130)\" d=\"M664.445 202.219 L664.445 209.58 L673.218 209.58 L673.218 212.891 L664.445 212.891 L664.445 226.965 Q664.445 230.136 665.301 231.039 Q666.181 231.941 668.843 231.941 L673.218 231.941 L673.218 235.506 L668.843 235.506 Q663.912 235.506 662.037 233.678 Q660.162 231.826 660.162 226.965 L660.162 212.891 L657.037 212.891 L657.037 209.58 L660.162 209.58 L660.162 202.219 L664.445 202.219 Z\" fill=\"#000000\" fill-rule=\"evenodd\" fill-opacity=\"1\" /><path clip-path=\"url(#clip130)\" d=\"M690.602 222.474 Q685.44 222.474 683.449 223.654 Q681.458 224.835 681.458 227.682 Q681.458 229.951 682.94 231.293 Q684.444 232.613 687.014 232.613 Q690.555 232.613 692.685 230.113 Q694.838 227.59 694.838 223.423 L694.838 222.474 L690.602 222.474 M699.097 220.715 L699.097 235.506 L694.838 235.506 L694.838 231.571 Q693.38 233.932 691.204 235.066 Q689.028 236.178 685.88 236.178 Q681.898 236.178 679.537 233.955 Q677.199 231.71 677.199 227.96 Q677.199 223.585 680.116 221.363 Q683.056 219.141 688.866 219.141 L694.838 219.141 L694.838 218.724 Q694.838 215.784 692.893 214.187 Q690.972 212.567 687.477 212.567 Q685.255 212.567 683.148 213.099 Q681.042 213.631 679.097 214.696 L679.097 210.761 Q681.435 209.858 683.634 209.418 Q685.833 208.955 687.917 208.955 Q693.542 208.955 696.319 211.872 Q699.097 214.789 699.097 220.715 Z\" fill=\"#000000\" fill-rule=\"evenodd\" fill-opacity=\"1\" /><path clip-path=\"url(#clip130)\" d=\"M707.87 199.488 L712.129 199.488 L712.129 235.506 L707.87 235.506 L707.87 199.488 Z\" fill=\"#000000\" fill-rule=\"evenodd\" fill-opacity=\"1\" /><path clip-path=\"url(#clip130)\" d=\"M736.111 209.58 L740.37 209.58 L740.37 235.506 L736.111 235.506 L736.111 209.58 M736.111 199.488 L740.37 199.488 L740.37 204.881 L736.111 204.881 L736.111 199.488 Z\" fill=\"#000000\" fill-rule=\"evenodd\" fill-opacity=\"1\" /><path clip-path=\"url(#clip130)\" d=\"M769.467 214.557 Q771.064 211.687 773.287 210.321 Q775.509 208.955 778.518 208.955 Q782.569 208.955 784.768 211.803 Q786.967 214.627 786.967 219.858 L786.967 235.506 L782.685 235.506 L782.685 219.997 Q782.685 216.27 781.365 214.465 Q780.046 212.659 777.337 212.659 Q774.027 212.659 772.106 214.858 Q770.185 217.057 770.185 220.854 L770.185 235.506 L765.902 235.506 L765.902 219.997 Q765.902 216.247 764.583 214.465 Q763.263 212.659 760.509 212.659 Q757.245 212.659 755.324 214.881 Q753.402 217.08 753.402 220.854 L753.402 235.506 L749.12 235.506 L749.12 209.58 L753.402 209.58 L753.402 213.608 Q754.861 211.224 756.898 210.09 Q758.935 208.955 761.736 208.955 Q764.56 208.955 766.527 210.391 Q768.518 211.826 769.467 214.557 Z\" fill=\"#000000\" fill-rule=\"evenodd\" fill-opacity=\"1\" /><path clip-path=\"url(#clip130)\" d=\"M799.583 231.617 L799.583 245.367 L795.3 245.367 L795.3 209.58 L799.583 209.58 L799.583 213.516 Q800.925 211.201 802.962 210.09 Q805.022 208.955 807.87 208.955 Q812.592 208.955 815.532 212.705 Q818.495 216.455 818.495 222.567 Q818.495 228.678 815.532 232.428 Q812.592 236.178 807.87 236.178 Q805.022 236.178 802.962 235.066 Q800.925 233.932 799.583 231.617 M814.073 222.567 Q814.073 217.867 812.129 215.205 Q810.208 212.52 806.828 212.52 Q803.448 212.52 801.504 215.205 Q799.583 217.867 799.583 222.567 Q799.583 227.266 801.504 229.951 Q803.448 232.613 806.828 232.613 Q810.208 232.613 812.129 229.951 Q814.073 227.266 814.073 222.567 Z\" fill=\"#000000\" fill-rule=\"evenodd\" fill-opacity=\"1\" /><path clip-path=\"url(#clip130)\" d=\"M837.337 222.474 Q832.175 222.474 830.184 223.654 Q828.194 224.835 828.194 227.682 Q828.194 229.951 829.675 231.293 Q831.18 232.613 833.749 232.613 Q837.291 232.613 839.42 230.113 Q841.573 227.59 841.573 223.423 L841.573 222.474 L837.337 222.474 M845.832 220.715 L845.832 235.506 L841.573 235.506 L841.573 231.571 Q840.115 233.932 837.939 235.066 Q835.763 236.178 832.615 236.178 Q828.633 236.178 826.272 233.955 Q823.934 231.71 823.934 227.96 Q823.934 223.585 826.851 221.363 Q829.791 219.141 835.601 219.141 L841.573 219.141 L841.573 218.724 Q841.573 215.784 839.629 214.187 Q837.707 212.567 834.212 212.567 Q831.99 212.567 829.883 213.099 Q827.777 213.631 825.833 214.696 L825.833 210.761 Q828.17 209.858 830.37 209.418 Q832.569 208.955 834.652 208.955 Q840.277 208.955 843.055 211.872 Q845.832 214.789 845.832 220.715 Z\" fill=\"#000000\" fill-rule=\"evenodd\" fill-opacity=\"1\" /><path clip-path=\"url(#clip130)\" d=\"M873.263 210.576 L873.263 214.557 Q871.457 213.562 869.629 213.076 Q867.823 212.567 865.971 212.567 Q861.828 212.567 859.536 215.205 Q857.244 217.821 857.244 222.567 Q857.244 227.312 859.536 229.951 Q861.828 232.566 865.971 232.566 Q867.823 232.566 869.629 232.08 Q871.457 231.571 873.263 230.576 L873.263 234.511 Q871.48 235.344 869.559 235.761 Q867.661 236.178 865.508 236.178 Q859.652 236.178 856.203 232.497 Q852.754 228.816 852.754 222.567 Q852.754 216.224 856.226 212.59 Q859.721 208.955 865.786 208.955 Q867.754 208.955 869.629 209.372 Q871.504 209.766 873.263 210.576 Z\" fill=\"#000000\" fill-rule=\"evenodd\" fill-opacity=\"1\" /><path clip-path=\"url(#clip130)\" d=\"M884.883 202.219 L884.883 209.58 L893.656 209.58 L893.656 212.891 L884.883 212.891 L884.883 226.965 Q884.883 230.136 885.74 231.039 Q886.619 231.941 889.281 231.941 L893.656 231.941 L893.656 235.506 L889.281 235.506 Q884.351 235.506 882.476 233.678 Q880.601 231.826 880.601 226.965 L880.601 212.891 L877.476 212.891 L877.476 209.58 L880.601 209.58 L880.601 202.219 L884.883 202.219 Z\" fill=\"#000000\" fill-rule=\"evenodd\" fill-opacity=\"1\" /></svg>\n"
     },
     "execution_count": 47,
     "metadata": {},
     "output_type": "execute_result"
    }
   ],
   "source": [
    "# plot the total impact depending on the total cost\n",
    "p4 = plot(betas_df.real_baseline_cost, betas_df.total_impact, label=\"Total impact\", title=\"Total impact depending on the net cost\", xlabel=\"Net cost\", ylabel=\"Total impact\", legend=:topleft)\n",
    "\n",
    "# save the plot\n",
    "#savefig(p4, \"sustainable_impact_cost.png\")"
   ]
  },
  {
   "cell_type": "markdown",
   "metadata": {},
   "source": [
    "### Results"
   ]
  },
  {
   "cell_type": "code",
   "execution_count": 34,
   "metadata": {},
   "outputs": [
    {
     "name": "stdout",
     "output_type": "stream",
     "text": [
      "Set parameter Username\n",
      "Academic license - for non-commercial use only - expires 2023-08-18\n",
      "Set parameter Username\n",
      "Academic license - for non-commercial use only - expires 2023-08-18\n"
     ]
    },
    {
     "data": {
      "text/html": [
       "<div><div style = \"float: left;\"><span>4×5 DataFrame</span></div><div style = \"clear: both;\"></div></div><div class = \"data-frame\" style = \"overflow-x: scroll;\"><table class = \"data-frame\" style = \"margin-bottom: 6px;\"><thead><tr class = \"header\"><th class = \"rowNumber\" style = \"font-weight: bold; text-align: right;\">Row</th><th style = \"text-align: left;\">cost</th><th style = \"text-align: left;\">production_cost</th><th style = \"text-align: left;\">total_impact</th><th style = \"text-align: left;\">national_impact</th><th style = \"text-align: left;\">solution</th></tr><tr class = \"subheader headerLastRow\"><th class = \"rowNumber\" style = \"font-weight: bold; text-align: right;\"></th><th title = \"Float64\" style = \"text-align: left;\">Float64</th><th title = \"Float64\" style = \"text-align: left;\">Float64</th><th title = \"Float64\" style = \"text-align: left;\">Float64</th><th title = \"Float64\" style = \"text-align: left;\">Float64</th><th title = \"String\" style = \"text-align: left;\">String</th></tr></thead><tbody><tr><td class = \"rowNumber\" style = \"font-weight: bold; text-align: right;\">1</td><td style = \"text-align: right;\">7.16813e10</td><td style = \"text-align: right;\">7.9828e10</td><td style = \"text-align: right;\">8.13053e10</td><td style = \"text-align: right;\">7.24489e10</td><td style = \"text-align: left;\">RTE</td></tr><tr><td class = \"rowNumber\" style = \"font-weight: bold; text-align: right;\">2</td><td style = \"text-align: right;\">6.47958e10</td><td style = \"text-align: right;\">6.7125e10</td><td style = \"text-align: right;\">7.05921e10</td><td style = \"text-align: right;\">6.6853e10</td><td style = \"text-align: left;\">Baseline</td></tr><tr><td class = \"rowNumber\" style = \"font-weight: bold; text-align: right;\">3</td><td style = \"text-align: right;\">6.49619e10</td><td style = \"text-align: right;\">7.02839e10</td><td style = \"text-align: right;\">7.24938e10</td><td style = \"text-align: right;\">6.63907e10</td><td style = \"text-align: left;\">Crisis</td></tr><tr><td class = \"rowNumber\" style = \"font-weight: bold; text-align: right;\">4</td><td style = \"text-align: right;\">6.65241e10</td><td style = \"text-align: right;\">6.66516e10</td><td style = \"text-align: right;\">4.26764e10</td><td style = \"text-align: right;\">4.22593e10</td><td style = \"text-align: left;\">Sustainable</td></tr></tbody></table></div>"
      ],
      "text/latex": [
       "\\begin{tabular}{r|ccccc}\n",
       "\t& cost & production\\_cost & total\\_impact & national\\_impact & solution\\\\\n",
       "\t\\hline\n",
       "\t& Float64 & Float64 & Float64 & Float64 & String\\\\\n",
       "\t\\hline\n",
       "\t1 & 7.16813e10 & 7.9828e10 & 8.13053e10 & 7.24489e10 & RTE \\\\\n",
       "\t2 & 6.47958e10 & 6.7125e10 & 7.05921e10 & 6.6853e10 & Baseline \\\\\n",
       "\t3 & 6.49619e10 & 7.02839e10 & 7.24938e10 & 6.63907e10 & Crisis \\\\\n",
       "\t4 & 6.65241e10 & 6.66516e10 & 4.26764e10 & 4.22593e10 & Sustainable \\\\\n",
       "\\end{tabular}\n"
      ],
      "text/plain": [
       "\u001b[1m4×5 DataFrame\n",
       "\u001b[1m Row │\u001b[1m cost       \u001b[1m production_cost \u001b[1m total_impact \u001b[1m national_impact \u001b[1m solution    ⋯\n",
       "     │\u001b[90m Float64    \u001b[90m Float64         \u001b[90m Float64      \u001b[90m Float64         \u001b[90m String      ⋯\n",
       "─────┼──────────────────────────────────────────────────────────────────────────\n",
       "   1 │ 7.16813e10       7.9828e10     8.13053e10       7.24489e10  RTE         ⋯\n",
       "   2 │ 6.47958e10       6.7125e10     7.05921e10       6.6853e10   Baseline\n",
       "   3 │ 6.49619e10       7.02839e10    7.24938e10       6.63907e10  Crisis\n",
       "   4 │ 6.65241e10       6.66516e10    4.26764e10       4.22593e10  Sustainable"
      ]
     },
     "execution_count": 34,
     "metadata": {},
     "output_type": "execute_result"
    }
   ],
   "source": [
    "# create a dataframe with total cost, production cost, total impact and national impact,\n",
    "# for the RTE solution, the baseline solution, the crisis solution with alpha = 0.5 and the sustainable solution with beta = 0.2\n",
    "\n",
    "df_costs = DataFrame(cost = Float64[], production_cost = Float64[], total_impact = Float64[], national_impact = Float64[], solution = String[])\n",
    "push!(df_costs, (total_cost_rte, production_cost_rte, total_impact_rte, national_impact_rte, \"RTE\"))\n",
    "push!(df_costs, (real_baseline_cost(x_opt_baseline, y_opt_baseline, z_opt_baseline, df_baseline), compute_production_cost(x_opt_baseline, df_baseline), compute_total_impact(x_opt_baseline, y_opt_baseline, df_baseline), compute_national_impact(x_opt_baseline, y_opt_baseline, z_opt_baseline, df_baseline), \"Baseline\"))\n",
    "\n",
    "# compute the optimal solution for the crisis with alpha = 0.5\n",
    "model_crisis = crisis_optimizer(df_baseline, 0.5)\n",
    "x_opt_crisis = value.(model_crisis[:x])\n",
    "y_opt_crisis = value.(model_crisis[:y])\n",
    "z_opt_crisis = value.(model_crisis[:z])\n",
    "push!(df_costs, (real_baseline_cost(x_opt_crisis, y_opt_crisis, z_opt_crisis, df_baseline), compute_production_cost(x_opt_crisis, df_baseline), compute_total_impact(x_opt_crisis, y_opt_crisis, df_baseline), compute_national_impact(x_opt_crisis, y_opt_crisis, z_opt_crisis, df_baseline), \"Crisis\"))\n",
    "\n",
    "# compute the optimal solution for the sustainable solution with beta = 0.2\n",
    "model_sustainable = sustainable_optimizer(df_baseline, 0.15)\n",
    "x_opt_sustainable = value.(model_sustainable[:x])\n",
    "y_opt_sustainable = value.(model_sustainable[:y])\n",
    "z_opt_sustainable = value.(model_sustainable[:z])\n",
    "push!(df_costs, (real_baseline_cost(x_opt_sustainable, y_opt_sustainable, z_opt_sustainable, df_baseline), compute_production_cost(x_opt_sustainable, df_baseline), compute_total_impact(x_opt_sustainable, y_opt_sustainable, df_baseline), compute_national_impact(x_opt_sustainable, y_opt_sustainable, z_opt_sustainable, df_baseline), \"Sustainable\"))"
   ]
  },
  {
   "cell_type": "code",
   "execution_count": 57,
   "metadata": {},
   "outputs": [],
   "source": [
    "# export the dataframe to a csv file\n",
    "#CSV.write(\"df_costs_3.csv\", df_costs)"
   ]
  },
  {
   "cell_type": "code",
   "execution_count": 63,
   "metadata": {},
   "outputs": [
    {
     "data": {
      "image/svg+xml": "<?xml version=\"1.0\" encoding=\"utf-8\"?>\n<svg xmlns=\"http://www.w3.org/2000/svg\" xmlns:xlink=\"http://www.w3.org/1999/xlink\" width=\"600\" height=\"400\" viewBox=\"0 0 2400 1600\">\n<defs>\n  <clipPath id=\"clip680\">\n    <rect x=\"0\" y=\"0\" width=\"2400\" height=\"1600\"/>\n  </clipPath>\n</defs>\n<path clip-path=\"url(#clip680)\" d=\"\nM0 1600 L2400 1600 L2400 0 L0 0  Z\n  \" fill=\"#ffffff\" fill-rule=\"evenodd\" fill-opacity=\"1\"/>\n<defs>\n  <clipPath id=\"clip681\">\n    <rect x=\"480\" y=\"0\" width=\"1681\" height=\"1600\"/>\n  </clipPath>\n</defs>\n<path clip-path=\"url(#clip680)\" d=\"\nM362.46 1423.18 L2352.76 1423.18 L2352.76 123.472 L362.46 123.472  Z\n  \" fill=\"#ffffff\" fill-rule=\"evenodd\" fill-opacity=\"1\"/>\n<defs>\n  <clipPath id=\"clip682\">\n    <rect x=\"362\" y=\"123\" width=\"1991\" height=\"1301\"/>\n  </clipPath>\n</defs>\n<polyline clip-path=\"url(#clip682)\" style=\"stroke:#000000; stroke-linecap:round; stroke-linejoin:round; stroke-width:2; stroke-opacity:0.1; fill:none\" points=\"\n  619.542,1423.18 619.542,123.472 \n  \"/>\n<polyline clip-path=\"url(#clip682)\" style=\"stroke:#000000; stroke-linecap:round; stroke-linejoin:round; stroke-width:2; stroke-opacity:0.1; fill:none\" points=\"\n  1111.59,1423.18 1111.59,123.472 \n  \"/>\n<polyline clip-path=\"url(#clip682)\" style=\"stroke:#000000; stroke-linecap:round; stroke-linejoin:round; stroke-width:2; stroke-opacity:0.1; fill:none\" points=\"\n  1603.63,1423.18 1603.63,123.472 \n  \"/>\n<polyline clip-path=\"url(#clip682)\" style=\"stroke:#000000; stroke-linecap:round; stroke-linejoin:round; stroke-width:2; stroke-opacity:0.1; fill:none\" points=\"\n  2095.67,1423.18 2095.67,123.472 \n  \"/>\n<polyline clip-path=\"url(#clip680)\" style=\"stroke:#000000; stroke-linecap:round; stroke-linejoin:round; stroke-width:4; stroke-opacity:1; fill:none\" points=\"\n  362.46,1423.18 2352.76,1423.18 \n  \"/>\n<polyline clip-path=\"url(#clip680)\" style=\"stroke:#000000; stroke-linecap:round; stroke-linejoin:round; stroke-width:4; stroke-opacity:1; fill:none\" points=\"\n  619.542,1423.18 619.542,1404.28 \n  \"/>\n<polyline clip-path=\"url(#clip680)\" style=\"stroke:#000000; stroke-linecap:round; stroke-linejoin:round; stroke-width:4; stroke-opacity:1; fill:none\" points=\"\n  1111.59,1423.18 1111.59,1404.28 \n  \"/>\n<polyline clip-path=\"url(#clip680)\" style=\"stroke:#000000; stroke-linecap:round; stroke-linejoin:round; stroke-width:4; stroke-opacity:1; fill:none\" points=\"\n  1603.63,1423.18 1603.63,1404.28 \n  \"/>\n<polyline clip-path=\"url(#clip680)\" style=\"stroke:#000000; stroke-linecap:round; stroke-linejoin:round; stroke-width:4; stroke-opacity:1; fill:none\" points=\"\n  2095.67,1423.18 2095.67,1404.28 \n  \"/>\n<path clip-path=\"url(#clip680)\" d=\"M595.573 1469.38 Q597.077 1469.89 598.489 1471.55 Q599.924 1473.22 601.36 1476.14 L606.105 1485.58 L601.082 1485.58 L596.661 1476.71 Q594.948 1473.24 593.327 1472.11 Q591.73 1470.97 588.952 1470.97 L583.86 1470.97 L583.86 1485.58 L579.184 1485.58 L579.184 1451.02 L589.739 1451.02 Q595.665 1451.02 598.582 1453.5 Q601.499 1455.97 601.499 1460.97 Q601.499 1464.24 599.971 1466.39 Q598.466 1468.54 595.573 1469.38 M583.86 1454.86 L583.86 1467.13 L589.739 1467.13 Q593.119 1467.13 594.832 1465.58 Q596.568 1464.01 596.568 1460.97 Q596.568 1457.94 594.832 1456.41 Q593.119 1454.86 589.739 1454.86 L583.86 1454.86 Z\" fill=\"#000000\" fill-rule=\"evenodd\" fill-opacity=\"1\" /><path clip-path=\"url(#clip680)\" d=\"M603.883 1451.02 L633.119 1451.02 L633.119 1454.96 L620.85 1454.96 L620.85 1485.58 L616.151 1485.58 L616.151 1454.96 L603.883 1454.96 L603.883 1451.02 Z\" fill=\"#000000\" fill-rule=\"evenodd\" fill-opacity=\"1\" /><path clip-path=\"url(#clip680)\" d=\"M637.633 1451.02 L659.484 1451.02 L659.484 1454.96 L642.309 1454.96 L642.309 1465.19 L658.767 1465.19 L658.767 1469.12 L642.309 1469.12 L642.309 1481.64 L659.901 1481.64 L659.901 1485.58 L637.633 1485.58 L637.633 1451.02 Z\" fill=\"#000000\" fill-rule=\"evenodd\" fill-opacity=\"1\" /><path clip-path=\"url(#clip680)\" d=\"M1019.35 1469.08 L1019.35 1481.74 L1026.85 1481.74 Q1030.63 1481.74 1032.43 1480.19 Q1034.26 1478.61 1034.26 1475.39 Q1034.26 1472.15 1032.43 1470.63 Q1030.63 1469.08 1026.85 1469.08 L1019.35 1469.08 M1019.35 1454.86 L1019.35 1465.28 L1026.27 1465.28 Q1029.7 1465.28 1031.37 1464.01 Q1033.06 1462.71 1033.06 1460.07 Q1033.06 1457.45 1031.37 1456.16 Q1029.7 1454.86 1026.27 1454.86 L1019.35 1454.86 M1014.68 1451.02 L1026.62 1451.02 Q1031.97 1451.02 1034.86 1453.24 Q1037.76 1455.46 1037.76 1459.56 Q1037.76 1462.73 1036.27 1464.61 Q1034.79 1466.48 1031.92 1466.95 Q1035.37 1467.69 1037.27 1470.05 Q1039.19 1472.39 1039.19 1475.9 Q1039.19 1480.53 1036.04 1483.06 Q1032.89 1485.58 1027.08 1485.58 L1014.68 1485.58 L1014.68 1451.02 Z\" fill=\"#000000\" fill-rule=\"evenodd\" fill-opacity=\"1\" /><path clip-path=\"url(#clip680)\" d=\"M1058.8 1472.55 Q1053.63 1472.55 1051.64 1473.73 Q1049.65 1474.91 1049.65 1477.76 Q1049.65 1480.02 1051.13 1481.37 Q1052.64 1482.69 1055.21 1482.69 Q1058.75 1482.69 1060.88 1480.19 Q1063.03 1477.66 1063.03 1473.5 L1063.03 1472.55 L1058.8 1472.55 M1067.29 1470.79 L1067.29 1485.58 L1063.03 1485.58 L1063.03 1481.64 Q1061.57 1484.01 1059.4 1485.14 Q1057.22 1486.25 1054.07 1486.25 Q1050.09 1486.25 1047.73 1484.03 Q1045.39 1481.78 1045.39 1478.03 Q1045.39 1473.66 1048.31 1471.44 Q1051.25 1469.21 1057.06 1469.21 L1063.03 1469.21 L1063.03 1468.8 Q1063.03 1465.86 1061.09 1464.26 Q1059.17 1462.64 1055.67 1462.64 Q1053.45 1462.64 1051.34 1463.17 Q1049.24 1463.7 1047.29 1464.77 L1047.29 1460.83 Q1049.63 1459.93 1051.83 1459.49 Q1054.03 1459.03 1056.11 1459.03 Q1061.74 1459.03 1064.51 1461.95 Q1067.29 1464.86 1067.29 1470.79 Z\" fill=\"#000000\" fill-rule=\"evenodd\" fill-opacity=\"1\" /><path clip-path=\"url(#clip680)\" d=\"M1092.59 1460.42 L1092.59 1464.45 Q1090.79 1463.52 1088.84 1463.06 Q1086.9 1462.59 1084.82 1462.59 Q1081.64 1462.59 1080.05 1463.57 Q1078.47 1464.54 1078.47 1466.48 Q1078.47 1467.96 1079.61 1468.82 Q1080.74 1469.65 1084.17 1470.42 L1085.63 1470.74 Q1090.16 1471.71 1092.06 1473.5 Q1093.98 1475.26 1093.98 1478.43 Q1093.98 1482.04 1091.11 1484.14 Q1088.26 1486.25 1083.26 1486.25 Q1081.18 1486.25 1078.91 1485.83 Q1076.67 1485.44 1074.17 1484.63 L1074.17 1480.23 Q1076.53 1481.46 1078.82 1482.08 Q1081.11 1482.69 1083.36 1482.69 Q1086.37 1482.69 1087.99 1481.67 Q1089.61 1480.63 1089.61 1478.75 Q1089.61 1477.02 1088.43 1476.09 Q1087.27 1475.16 1083.31 1474.31 L1081.83 1473.96 Q1077.87 1473.13 1076.11 1471.41 Q1074.35 1469.68 1074.35 1466.67 Q1074.35 1463.01 1076.94 1461.02 Q1079.54 1459.03 1084.31 1459.03 Q1086.67 1459.03 1088.75 1459.38 Q1090.83 1459.72 1092.59 1460.42 Z\" fill=\"#000000\" fill-rule=\"evenodd\" fill-opacity=\"1\" /><path clip-path=\"url(#clip680)\" d=\"M1122.94 1471.55 L1122.94 1473.64 L1103.36 1473.64 Q1103.63 1478.03 1106 1480.35 Q1108.38 1482.64 1112.62 1482.64 Q1115.07 1482.64 1117.36 1482.04 Q1119.68 1481.44 1121.94 1480.23 L1121.94 1484.26 Q1119.65 1485.23 1117.25 1485.74 Q1114.84 1486.25 1112.36 1486.25 Q1106.16 1486.25 1102.52 1482.64 Q1098.91 1479.03 1098.91 1472.87 Q1098.91 1466.51 1102.34 1462.78 Q1105.79 1459.03 1111.62 1459.03 Q1116.85 1459.03 1119.88 1462.41 Q1122.94 1465.77 1122.94 1471.55 M1118.68 1470.3 Q1118.63 1466.81 1116.71 1464.72 Q1114.82 1462.64 1111.67 1462.64 Q1108.1 1462.64 1105.95 1464.65 Q1103.82 1466.67 1103.5 1470.33 L1118.68 1470.3 Z\" fill=\"#000000\" fill-rule=\"evenodd\" fill-opacity=\"1\" /><path clip-path=\"url(#clip680)\" d=\"M1129.93 1449.56 L1134.19 1449.56 L1134.19 1485.58 L1129.93 1485.58 L1129.93 1449.56 Z\" fill=\"#000000\" fill-rule=\"evenodd\" fill-opacity=\"1\" /><path clip-path=\"url(#clip680)\" d=\"M1143.1 1459.65 L1147.36 1459.65 L1147.36 1485.58 L1143.1 1485.58 L1143.1 1459.65 M1143.1 1449.56 L1147.36 1449.56 L1147.36 1454.96 L1143.1 1454.96 L1143.1 1449.56 Z\" fill=\"#000000\" fill-rule=\"evenodd\" fill-opacity=\"1\" /><path clip-path=\"url(#clip680)\" d=\"M1177.82 1469.93 L1177.82 1485.58 L1173.56 1485.58 L1173.56 1470.07 Q1173.56 1466.39 1172.13 1464.56 Q1170.69 1462.73 1167.82 1462.73 Q1164.38 1462.73 1162.38 1464.93 Q1160.39 1467.13 1160.39 1470.93 L1160.39 1485.58 L1156.11 1485.58 L1156.11 1459.65 L1160.39 1459.65 L1160.39 1463.68 Q1161.92 1461.34 1163.98 1460.19 Q1166.06 1459.03 1168.77 1459.03 Q1173.24 1459.03 1175.53 1461.81 Q1177.82 1464.56 1177.82 1469.93 Z\" fill=\"#000000\" fill-rule=\"evenodd\" fill-opacity=\"1\" /><path clip-path=\"url(#clip680)\" d=\"M1208.5 1471.55 L1208.5 1473.64 L1188.91 1473.64 Q1189.19 1478.03 1191.55 1480.35 Q1193.94 1482.64 1198.17 1482.64 Q1200.62 1482.64 1202.92 1482.04 Q1205.23 1481.44 1207.5 1480.23 L1207.5 1484.26 Q1205.21 1485.23 1202.8 1485.74 Q1200.39 1486.25 1197.92 1486.25 Q1191.71 1486.25 1188.08 1482.64 Q1184.47 1479.03 1184.47 1472.87 Q1184.47 1466.51 1187.89 1462.78 Q1191.34 1459.03 1197.18 1459.03 Q1202.41 1459.03 1205.44 1462.41 Q1208.5 1465.77 1208.5 1471.55 M1204.24 1470.3 Q1204.19 1466.81 1202.27 1464.72 Q1200.37 1462.64 1197.22 1462.64 Q1193.66 1462.64 1191.5 1464.65 Q1189.37 1466.67 1189.05 1470.33 L1204.24 1470.3 Z\" fill=\"#000000\" fill-rule=\"evenodd\" fill-opacity=\"1\" /><path clip-path=\"url(#clip680)\" d=\"M1569.82 1453.68 L1569.82 1458.61 Q1567.46 1456.41 1564.78 1455.33 Q1562.11 1454.24 1559.1 1454.24 Q1553.18 1454.24 1550.03 1457.87 Q1546.88 1461.48 1546.88 1468.33 Q1546.88 1475.16 1550.03 1478.8 Q1553.18 1482.41 1559.1 1482.41 Q1562.11 1482.41 1564.78 1481.32 Q1567.46 1480.23 1569.82 1478.03 L1569.82 1482.92 Q1567.37 1484.58 1564.61 1485.42 Q1561.88 1486.25 1558.83 1486.25 Q1550.98 1486.25 1546.47 1481.46 Q1541.95 1476.64 1541.95 1468.33 Q1541.95 1460 1546.47 1455.21 Q1550.98 1450.39 1558.83 1450.39 Q1561.93 1450.39 1564.66 1451.23 Q1567.41 1452.04 1569.82 1453.68 Z\" fill=\"#000000\" fill-rule=\"evenodd\" fill-opacity=\"1\" /><path clip-path=\"url(#clip680)\" d=\"M1591.88 1463.64 Q1591.16 1463.22 1590.31 1463.03 Q1589.47 1462.83 1588.46 1462.83 Q1584.84 1462.83 1582.9 1465.19 Q1580.98 1467.52 1580.98 1471.92 L1580.98 1485.58 L1576.7 1485.58 L1576.7 1459.65 L1580.98 1459.65 L1580.98 1463.68 Q1582.32 1461.32 1584.47 1460.19 Q1586.63 1459.03 1589.71 1459.03 Q1590.15 1459.03 1590.68 1459.1 Q1591.21 1459.14 1591.86 1459.26 L1591.88 1463.64 Z\" fill=\"#000000\" fill-rule=\"evenodd\" fill-opacity=\"1\" /><path clip-path=\"url(#clip680)\" d=\"M1596.35 1459.65 L1600.61 1459.65 L1600.61 1485.58 L1596.35 1485.58 L1596.35 1459.65 M1596.35 1449.56 L1600.61 1449.56 L1600.61 1454.96 L1596.35 1454.96 L1596.35 1449.56 Z\" fill=\"#000000\" fill-rule=\"evenodd\" fill-opacity=\"1\" /><path clip-path=\"url(#clip680)\" d=\"M1626.05 1460.42 L1626.05 1464.45 Q1624.24 1463.52 1622.3 1463.06 Q1620.35 1462.59 1618.27 1462.59 Q1615.1 1462.59 1613.5 1463.57 Q1611.93 1464.54 1611.93 1466.48 Q1611.93 1467.96 1613.06 1468.82 Q1614.2 1469.65 1617.62 1470.42 L1619.08 1470.74 Q1623.62 1471.71 1625.52 1473.5 Q1627.44 1475.26 1627.44 1478.43 Q1627.44 1482.04 1624.57 1484.14 Q1621.72 1486.25 1616.72 1486.25 Q1614.64 1486.25 1612.37 1485.83 Q1610.12 1485.44 1607.62 1484.63 L1607.62 1480.23 Q1609.98 1481.46 1612.28 1482.08 Q1614.57 1482.69 1616.81 1482.69 Q1619.82 1482.69 1621.44 1481.67 Q1623.06 1480.63 1623.06 1478.75 Q1623.06 1477.02 1621.88 1476.09 Q1620.72 1475.16 1616.77 1474.31 L1615.28 1473.96 Q1611.33 1473.13 1609.57 1471.41 Q1607.81 1469.68 1607.81 1466.67 Q1607.81 1463.01 1610.4 1461.02 Q1612.99 1459.03 1617.76 1459.03 Q1620.12 1459.03 1622.21 1459.38 Q1624.29 1459.72 1626.05 1460.42 Z\" fill=\"#000000\" fill-rule=\"evenodd\" fill-opacity=\"1\" /><path clip-path=\"url(#clip680)\" d=\"M1634.22 1459.65 L1638.48 1459.65 L1638.48 1485.58 L1634.22 1485.58 L1634.22 1459.65 M1634.22 1449.56 L1638.48 1449.56 L1638.48 1454.96 L1634.22 1454.96 L1634.22 1449.56 Z\" fill=\"#000000\" fill-rule=\"evenodd\" fill-opacity=\"1\" /><path clip-path=\"url(#clip680)\" d=\"M1663.92 1460.42 L1663.92 1464.45 Q1662.11 1463.52 1660.17 1463.06 Q1658.22 1462.59 1656.14 1462.59 Q1652.97 1462.59 1651.37 1463.57 Q1649.8 1464.54 1649.8 1466.48 Q1649.8 1467.96 1650.93 1468.82 Q1652.07 1469.65 1655.49 1470.42 L1656.95 1470.74 Q1661.49 1471.71 1663.39 1473.5 Q1665.31 1475.26 1665.31 1478.43 Q1665.31 1482.04 1662.44 1484.14 Q1659.59 1486.25 1654.59 1486.25 Q1652.51 1486.25 1650.24 1485.83 Q1647.99 1485.44 1645.49 1484.63 L1645.49 1480.23 Q1647.85 1481.46 1650.15 1482.08 Q1652.44 1482.69 1654.68 1482.69 Q1657.69 1482.69 1659.31 1481.67 Q1660.93 1480.63 1660.93 1478.75 Q1660.93 1477.02 1659.75 1476.09 Q1658.59 1475.16 1654.64 1474.31 L1653.15 1473.96 Q1649.2 1473.13 1647.44 1471.41 Q1645.68 1469.68 1645.68 1466.67 Q1645.68 1463.01 1648.27 1461.02 Q1650.86 1459.03 1655.63 1459.03 Q1657.99 1459.03 1660.08 1459.38 Q1662.16 1459.72 1663.92 1460.42 Z\" fill=\"#000000\" fill-rule=\"evenodd\" fill-opacity=\"1\" /><path clip-path=\"url(#clip680)\" d=\"M1982.16 1452.15 L1982.16 1456.71 Q1979.49 1455.44 1977.13 1454.82 Q1974.77 1454.19 1972.57 1454.19 Q1968.75 1454.19 1966.67 1455.67 Q1964.61 1457.15 1964.61 1459.89 Q1964.61 1462.18 1965.97 1463.36 Q1967.36 1464.52 1971.21 1465.23 L1974.03 1465.81 Q1979.26 1466.81 1981.74 1469.33 Q1984.24 1471.83 1984.24 1476.04 Q1984.24 1481.07 1980.86 1483.66 Q1977.5 1486.25 1971 1486.25 Q1968.54 1486.25 1965.77 1485.7 Q1963.01 1485.14 1960.05 1484.05 L1960.05 1479.24 Q1962.9 1480.83 1965.63 1481.64 Q1968.36 1482.45 1971 1482.45 Q1975 1482.45 1977.18 1480.88 Q1979.35 1479.31 1979.35 1476.39 Q1979.35 1473.84 1977.78 1472.41 Q1976.23 1470.97 1972.66 1470.26 L1969.82 1469.7 Q1964.59 1468.66 1962.25 1466.44 Q1959.91 1464.21 1959.91 1460.26 Q1959.91 1455.67 1963.13 1453.03 Q1966.37 1450.39 1972.04 1450.39 Q1974.47 1450.39 1976.99 1450.83 Q1979.52 1451.27 1982.16 1452.15 Z\" fill=\"#000000\" fill-rule=\"evenodd\" fill-opacity=\"1\" /><path clip-path=\"url(#clip680)\" d=\"M1990.91 1475.35 L1990.91 1459.65 L1995.16 1459.65 L1995.16 1475.19 Q1995.16 1478.87 1996.6 1480.72 Q1998.03 1482.55 2000.9 1482.55 Q2004.35 1482.55 2006.34 1480.35 Q2008.36 1478.15 2008.36 1474.35 L2008.36 1459.65 L2012.62 1459.65 L2012.62 1485.58 L2008.36 1485.58 L2008.36 1481.6 Q2006.81 1483.96 2004.75 1485.12 Q2002.71 1486.25 2000 1486.25 Q1995.53 1486.25 1993.22 1483.47 Q1990.91 1480.7 1990.91 1475.35 M2001.62 1459.03 L2001.62 1459.03 Z\" fill=\"#000000\" fill-rule=\"evenodd\" fill-opacity=\"1\" /><path clip-path=\"url(#clip680)\" d=\"M2037.92 1460.42 L2037.92 1464.45 Q2036.11 1463.52 2034.17 1463.06 Q2032.22 1462.59 2030.14 1462.59 Q2026.97 1462.59 2025.37 1463.57 Q2023.8 1464.54 2023.8 1466.48 Q2023.8 1467.96 2024.93 1468.82 Q2026.07 1469.65 2029.49 1470.42 L2030.95 1470.74 Q2035.49 1471.71 2037.39 1473.5 Q2039.31 1475.26 2039.31 1478.43 Q2039.31 1482.04 2036.44 1484.14 Q2033.59 1486.25 2028.59 1486.25 Q2026.51 1486.25 2024.24 1485.83 Q2021.99 1485.44 2019.49 1484.63 L2019.49 1480.23 Q2021.85 1481.46 2024.15 1482.08 Q2026.44 1482.69 2028.68 1482.69 Q2031.69 1482.69 2033.31 1481.67 Q2034.93 1480.63 2034.93 1478.75 Q2034.93 1477.02 2033.75 1476.09 Q2032.59 1475.16 2028.64 1474.31 L2027.15 1473.96 Q2023.2 1473.13 2021.44 1471.41 Q2019.68 1469.68 2019.68 1466.67 Q2019.68 1463.01 2022.27 1461.02 Q2024.86 1459.03 2029.63 1459.03 Q2031.99 1459.03 2034.08 1459.38 Q2036.16 1459.72 2037.92 1460.42 Z\" fill=\"#000000\" fill-rule=\"evenodd\" fill-opacity=\"1\" /><path clip-path=\"url(#clip680)\" d=\"M2050.3 1452.29 L2050.3 1459.65 L2059.08 1459.65 L2059.08 1462.96 L2050.3 1462.96 L2050.3 1477.04 Q2050.3 1480.21 2051.16 1481.11 Q2052.04 1482.02 2054.7 1482.02 L2059.08 1482.02 L2059.08 1485.58 L2054.7 1485.58 Q2049.77 1485.58 2047.9 1483.75 Q2046.02 1481.9 2046.02 1477.04 L2046.02 1462.96 L2042.9 1462.96 L2042.9 1459.65 L2046.02 1459.65 L2046.02 1452.29 L2050.3 1452.29 Z\" fill=\"#000000\" fill-rule=\"evenodd\" fill-opacity=\"1\" /><path clip-path=\"url(#clip680)\" d=\"M2076.46 1472.55 Q2071.3 1472.55 2069.31 1473.73 Q2067.32 1474.91 2067.32 1477.76 Q2067.32 1480.02 2068.8 1481.37 Q2070.3 1482.69 2072.87 1482.69 Q2076.41 1482.69 2078.54 1480.19 Q2080.7 1477.66 2080.7 1473.5 L2080.7 1472.55 L2076.46 1472.55 M2084.96 1470.79 L2084.96 1485.58 L2080.7 1485.58 L2080.7 1481.64 Q2079.24 1484.01 2077.06 1485.14 Q2074.89 1486.25 2071.74 1486.25 Q2067.76 1486.25 2065.4 1484.03 Q2063.06 1481.78 2063.06 1478.03 Q2063.06 1473.66 2065.97 1471.44 Q2068.91 1469.21 2074.72 1469.21 L2080.7 1469.21 L2080.7 1468.8 Q2080.7 1465.86 2078.75 1464.26 Q2076.83 1462.64 2073.34 1462.64 Q2071.11 1462.64 2069.01 1463.17 Q2066.9 1463.7 2064.96 1464.77 L2064.96 1460.83 Q2067.29 1459.93 2069.49 1459.49 Q2071.69 1459.03 2073.77 1459.03 Q2079.4 1459.03 2082.18 1461.95 Q2084.96 1464.86 2084.96 1470.79 Z\" fill=\"#000000\" fill-rule=\"evenodd\" fill-opacity=\"1\" /><path clip-path=\"url(#clip680)\" d=\"M2093.73 1459.65 L2097.99 1459.65 L2097.99 1485.58 L2093.73 1485.58 L2093.73 1459.65 M2093.73 1449.56 L2097.99 1449.56 L2097.99 1454.96 L2093.73 1454.96 L2093.73 1449.56 Z\" fill=\"#000000\" fill-rule=\"evenodd\" fill-opacity=\"1\" /><path clip-path=\"url(#clip680)\" d=\"M2128.45 1469.93 L2128.45 1485.58 L2124.19 1485.58 L2124.19 1470.07 Q2124.19 1466.39 2122.76 1464.56 Q2121.32 1462.73 2118.45 1462.73 Q2115 1462.73 2113.01 1464.93 Q2111.02 1467.13 2111.02 1470.93 L2111.02 1485.58 L2106.74 1485.58 L2106.74 1459.65 L2111.02 1459.65 L2111.02 1463.68 Q2112.55 1461.34 2114.61 1460.19 Q2116.69 1459.03 2119.4 1459.03 Q2123.87 1459.03 2126.16 1461.81 Q2128.45 1464.56 2128.45 1469.93 Z\" fill=\"#000000\" fill-rule=\"evenodd\" fill-opacity=\"1\" /><path clip-path=\"url(#clip680)\" d=\"M2148.73 1472.55 Q2143.57 1472.55 2141.58 1473.73 Q2139.58 1474.91 2139.58 1477.76 Q2139.58 1480.02 2141.07 1481.37 Q2142.57 1482.69 2145.14 1482.69 Q2148.68 1482.69 2150.81 1480.19 Q2152.96 1477.66 2152.96 1473.5 L2152.96 1472.55 L2148.73 1472.55 M2157.22 1470.79 L2157.22 1485.58 L2152.96 1485.58 L2152.96 1481.64 Q2151.51 1484.01 2149.33 1485.14 Q2147.15 1486.25 2144.01 1486.25 Q2140.02 1486.25 2137.66 1484.03 Q2135.33 1481.78 2135.33 1478.03 Q2135.33 1473.66 2138.24 1471.44 Q2141.18 1469.21 2146.99 1469.21 L2152.96 1469.21 L2152.96 1468.8 Q2152.96 1465.86 2151.02 1464.26 Q2149.1 1462.64 2145.6 1462.64 Q2143.38 1462.64 2141.27 1463.17 Q2139.17 1463.7 2137.22 1464.77 L2137.22 1460.83 Q2139.56 1459.93 2141.76 1459.49 Q2143.96 1459.03 2146.04 1459.03 Q2151.67 1459.03 2154.45 1461.95 Q2157.22 1464.86 2157.22 1470.79 Z\" fill=\"#000000\" fill-rule=\"evenodd\" fill-opacity=\"1\" /><path clip-path=\"url(#clip680)\" d=\"M2184.61 1472.64 Q2184.61 1467.94 2182.66 1465.28 Q2180.74 1462.59 2177.36 1462.59 Q2173.98 1462.59 2172.04 1465.28 Q2170.12 1467.94 2170.12 1472.64 Q2170.12 1477.34 2172.04 1480.02 Q2173.98 1482.69 2177.36 1482.69 Q2180.74 1482.69 2182.66 1480.02 Q2184.61 1477.34 2184.61 1472.64 M2170.12 1463.59 Q2171.46 1461.27 2173.5 1460.16 Q2175.56 1459.03 2178.4 1459.03 Q2183.13 1459.03 2186.07 1462.78 Q2189.03 1466.53 2189.03 1472.64 Q2189.03 1478.75 2186.07 1482.5 Q2183.13 1486.25 2178.4 1486.25 Q2175.56 1486.25 2173.5 1485.14 Q2171.46 1484.01 2170.12 1481.69 L2170.12 1485.58 L2165.83 1485.58 L2165.83 1449.56 L2170.12 1449.56 L2170.12 1463.59 Z\" fill=\"#000000\" fill-rule=\"evenodd\" fill-opacity=\"1\" /><path clip-path=\"url(#clip680)\" d=\"M2196.09 1449.56 L2200.35 1449.56 L2200.35 1485.58 L2196.09 1485.58 L2196.09 1449.56 Z\" fill=\"#000000\" fill-rule=\"evenodd\" fill-opacity=\"1\" /><path clip-path=\"url(#clip680)\" d=\"M2231.44 1471.55 L2231.44 1473.64 L2211.85 1473.64 Q2212.13 1478.03 2214.49 1480.35 Q2216.88 1482.64 2221.11 1482.64 Q2223.57 1482.64 2225.86 1482.04 Q2228.17 1481.44 2230.44 1480.23 L2230.44 1484.26 Q2228.15 1485.23 2225.74 1485.74 Q2223.33 1486.25 2220.86 1486.25 Q2214.65 1486.25 2211.02 1482.64 Q2207.41 1479.03 2207.41 1472.87 Q2207.41 1466.51 2210.83 1462.78 Q2214.28 1459.03 2220.12 1459.03 Q2225.35 1459.03 2228.38 1462.41 Q2231.44 1465.77 2231.44 1471.55 M2227.18 1470.3 Q2227.13 1466.81 2225.21 1464.72 Q2223.31 1462.64 2220.16 1462.64 Q2216.6 1462.64 2214.45 1464.65 Q2212.32 1466.67 2211.99 1470.33 L2227.18 1470.3 Z\" fill=\"#000000\" fill-rule=\"evenodd\" fill-opacity=\"1\" /><path clip-path=\"url(#clip680)\" d=\"M1260.34 1522.08 L1260.34 1528.35 Q1256.68 1526.6 1253.43 1525.74 Q1250.19 1524.88 1247.16 1524.88 Q1241.91 1524.88 1239.05 1526.92 Q1236.21 1528.96 1236.21 1532.71 Q1236.21 1535.87 1238.09 1537.49 Q1240 1539.08 1245.28 1540.07 L1249.17 1540.86 Q1256.36 1542.23 1259.77 1545.7 Q1263.2 1549.14 1263.2 1554.93 Q1263.2 1561.84 1258.56 1565.4 Q1253.94 1568.97 1245 1568.97 Q1241.62 1568.97 1237.81 1568.2 Q1234.02 1567.44 1229.94 1565.94 L1229.94 1559.32 Q1233.86 1561.52 1237.61 1562.63 Q1241.37 1563.75 1245 1563.75 Q1250.5 1563.75 1253.5 1561.58 Q1256.49 1559.42 1256.49 1555.41 Q1256.49 1551.91 1254.32 1549.93 Q1252.19 1547.96 1247.29 1546.97 L1243.38 1546.21 Q1236.18 1544.78 1232.97 1541.72 Q1229.75 1538.67 1229.75 1533.22 Q1229.75 1526.92 1234.18 1523.29 Q1238.63 1519.66 1246.43 1519.66 Q1249.77 1519.66 1253.24 1520.27 Q1256.71 1520.87 1260.34 1522.08 Z\" fill=\"#000000\" fill-rule=\"evenodd\" fill-opacity=\"1\" /><path clip-path=\"url(#clip680)\" d=\"M1286.79 1536.5 Q1282.08 1536.5 1279.34 1540.19 Q1276.6 1543.85 1276.6 1550.25 Q1276.6 1556.65 1279.31 1560.34 Q1282.05 1564 1286.79 1564 Q1291.47 1564 1294.21 1560.31 Q1296.94 1556.62 1296.94 1550.25 Q1296.94 1543.92 1294.21 1540.23 Q1291.47 1536.5 1286.79 1536.5 M1286.79 1531.54 Q1294.43 1531.54 1298.79 1536.5 Q1303.15 1541.47 1303.15 1550.25 Q1303.15 1559 1298.79 1564 Q1294.43 1568.97 1286.79 1568.97 Q1279.12 1568.97 1274.76 1564 Q1270.43 1559 1270.43 1550.25 Q1270.43 1541.47 1274.76 1536.5 Q1279.12 1531.54 1286.79 1531.54 Z\" fill=\"#000000\" fill-rule=\"evenodd\" fill-opacity=\"1\" /><path clip-path=\"url(#clip680)\" d=\"M1312.86 1518.52 L1318.71 1518.52 L1318.71 1568.04 L1312.86 1568.04 L1312.86 1518.52 Z\" fill=\"#000000\" fill-rule=\"evenodd\" fill-opacity=\"1\" /><path clip-path=\"url(#clip680)\" d=\"M1330.36 1553.98 L1330.36 1532.4 L1336.22 1532.4 L1336.22 1553.75 Q1336.22 1558.81 1338.19 1561.36 Q1340.17 1563.87 1344.11 1563.87 Q1348.85 1563.87 1351.59 1560.85 Q1354.36 1557.83 1354.36 1552.61 L1354.36 1532.4 L1360.22 1532.4 L1360.22 1568.04 L1354.36 1568.04 L1354.36 1562.57 Q1352.23 1565.82 1349.4 1567.41 Q1346.6 1568.97 1342.87 1568.97 Q1336.73 1568.97 1333.55 1565.15 Q1330.36 1561.33 1330.36 1553.98 M1345.1 1531.54 L1345.1 1531.54 Z\" fill=\"#000000\" fill-rule=\"evenodd\" fill-opacity=\"1\" /><path clip-path=\"url(#clip680)\" d=\"M1378.07 1522.27 L1378.07 1532.4 L1390.14 1532.4 L1390.14 1536.95 L1378.07 1536.95 L1378.07 1556.3 Q1378.07 1560.66 1379.25 1561.9 Q1380.46 1563.14 1384.12 1563.14 L1390.14 1563.14 L1390.14 1568.04 L1384.12 1568.04 Q1377.34 1568.04 1374.76 1565.53 Q1372.19 1562.98 1372.19 1556.3 L1372.19 1536.95 L1367.89 1536.95 L1367.89 1532.4 L1372.19 1532.4 L1372.19 1522.27 L1378.07 1522.27 Z\" fill=\"#000000\" fill-rule=\"evenodd\" fill-opacity=\"1\" /><path clip-path=\"url(#clip680)\" d=\"M1397.84 1532.4 L1403.7 1532.4 L1403.7 1568.04 L1397.84 1568.04 L1397.84 1532.4 M1397.84 1518.52 L1403.7 1518.52 L1403.7 1525.93 L1397.84 1525.93 L1397.84 1518.52 Z\" fill=\"#000000\" fill-rule=\"evenodd\" fill-opacity=\"1\" /><path clip-path=\"url(#clip680)\" d=\"M1429.76 1536.5 Q1425.05 1536.5 1422.32 1540.19 Q1419.58 1543.85 1419.58 1550.25 Q1419.58 1556.65 1422.28 1560.34 Q1425.02 1564 1429.76 1564 Q1434.44 1564 1437.18 1560.31 Q1439.92 1556.62 1439.92 1550.25 Q1439.92 1543.92 1437.18 1540.23 Q1434.44 1536.5 1429.76 1536.5 M1429.76 1531.54 Q1437.4 1531.54 1441.76 1536.5 Q1446.12 1541.47 1446.12 1550.25 Q1446.12 1559 1441.76 1564 Q1437.4 1568.97 1429.76 1568.97 Q1422.09 1568.97 1417.73 1564 Q1413.4 1559 1413.4 1550.25 Q1413.4 1541.47 1417.73 1536.5 Q1422.09 1531.54 1429.76 1531.54 Z\" fill=\"#000000\" fill-rule=\"evenodd\" fill-opacity=\"1\" /><path clip-path=\"url(#clip680)\" d=\"M1485.46 1546.53 L1485.46 1568.04 L1479.61 1568.04 L1479.61 1546.72 Q1479.61 1541.66 1477.63 1539.14 Q1475.66 1536.63 1471.71 1536.63 Q1466.97 1536.63 1464.23 1539.65 Q1461.5 1542.68 1461.5 1547.9 L1461.5 1568.04 L1455.61 1568.04 L1455.61 1532.4 L1461.5 1532.4 L1461.5 1537.93 Q1463.6 1534.72 1466.43 1533.13 Q1469.29 1531.54 1473.02 1531.54 Q1479.16 1531.54 1482.31 1535.36 Q1485.46 1539.14 1485.46 1546.53 Z\" fill=\"#000000\" fill-rule=\"evenodd\" fill-opacity=\"1\" /><polyline clip-path=\"url(#clip682)\" style=\"stroke:#000000; stroke-linecap:round; stroke-linejoin:round; stroke-width:2; stroke-opacity:0.1; fill:none\" points=\"\n  362.46,1386.4 2352.76,1386.4 \n  \"/>\n<polyline clip-path=\"url(#clip682)\" style=\"stroke:#000000; stroke-linecap:round; stroke-linejoin:round; stroke-width:2; stroke-opacity:0.1; fill:none\" points=\"\n  362.46,1079.2 2352.76,1079.2 \n  \"/>\n<polyline clip-path=\"url(#clip682)\" style=\"stroke:#000000; stroke-linecap:round; stroke-linejoin:round; stroke-width:2; stroke-opacity:0.1; fill:none\" points=\"\n  362.46,772.005 2352.76,772.005 \n  \"/>\n<polyline clip-path=\"url(#clip682)\" style=\"stroke:#000000; stroke-linecap:round; stroke-linejoin:round; stroke-width:2; stroke-opacity:0.1; fill:none\" points=\"\n  362.46,464.81 2352.76,464.81 \n  \"/>\n<polyline clip-path=\"url(#clip682)\" style=\"stroke:#000000; stroke-linecap:round; stroke-linejoin:round; stroke-width:2; stroke-opacity:0.1; fill:none\" points=\"\n  362.46,157.615 2352.76,157.615 \n  \"/>\n<polyline clip-path=\"url(#clip680)\" style=\"stroke:#000000; stroke-linecap:round; stroke-linejoin:round; stroke-width:4; stroke-opacity:1; fill:none\" points=\"\n  362.46,1423.18 362.46,123.472 \n  \"/>\n<polyline clip-path=\"url(#clip680)\" style=\"stroke:#000000; stroke-linecap:round; stroke-linejoin:round; stroke-width:4; stroke-opacity:1; fill:none\" points=\"\n  362.46,1386.4 381.357,1386.4 \n  \"/>\n<polyline clip-path=\"url(#clip680)\" style=\"stroke:#000000; stroke-linecap:round; stroke-linejoin:round; stroke-width:4; stroke-opacity:1; fill:none\" points=\"\n  362.46,1079.2 381.357,1079.2 \n  \"/>\n<polyline clip-path=\"url(#clip680)\" style=\"stroke:#000000; stroke-linecap:round; stroke-linejoin:round; stroke-width:4; stroke-opacity:1; fill:none\" points=\"\n  362.46,772.005 381.357,772.005 \n  \"/>\n<polyline clip-path=\"url(#clip680)\" style=\"stroke:#000000; stroke-linecap:round; stroke-linejoin:round; stroke-width:4; stroke-opacity:1; fill:none\" points=\"\n  362.46,464.81 381.357,464.81 \n  \"/>\n<polyline clip-path=\"url(#clip680)\" style=\"stroke:#000000; stroke-linecap:round; stroke-linejoin:round; stroke-width:4; stroke-opacity:1; fill:none\" points=\"\n  362.46,157.615 381.357,157.615 \n  \"/>\n<path clip-path=\"url(#clip680)\" d=\"M314.515 1372.19 Q310.904 1372.19 309.075 1375.76 Q307.27 1379.3 307.27 1386.43 Q307.27 1393.54 309.075 1397.1 Q310.904 1400.64 314.515 1400.64 Q318.149 1400.64 319.955 1397.1 Q321.784 1393.54 321.784 1386.43 Q321.784 1379.3 319.955 1375.76 Q318.149 1372.19 314.515 1372.19 M314.515 1368.49 Q320.325 1368.49 323.381 1373.1 Q326.46 1377.68 326.46 1386.43 Q326.46 1395.16 323.381 1399.76 Q320.325 1404.35 314.515 1404.35 Q308.705 1404.35 305.626 1399.76 Q302.571 1395.16 302.571 1386.43 Q302.571 1377.68 305.626 1373.1 Q308.705 1368.49 314.515 1368.49 Z\" fill=\"#000000\" fill-rule=\"evenodd\" fill-opacity=\"1\" /><path clip-path=\"url(#clip680)\" d=\"M121.043 1098.99 L137.362 1098.99 L137.362 1102.93 L115.418 1102.93 L115.418 1098.99 Q118.08 1096.24 122.663 1091.61 Q127.269 1086.96 128.45 1085.61 Q130.695 1083.09 131.575 1081.35 Q132.478 1079.59 132.478 1077.91 Q132.478 1075.15 130.533 1073.41 Q128.612 1071.68 125.51 1071.68 Q123.311 1071.68 120.857 1072.44 Q118.427 1073.21 115.649 1074.76 L115.649 1070.03 Q118.473 1068.9 120.927 1068.32 Q123.38 1067.74 125.418 1067.74 Q130.788 1067.74 133.982 1070.43 Q137.177 1073.11 137.177 1077.6 Q137.177 1079.73 136.367 1081.65 Q135.579 1083.55 133.473 1086.15 Q132.894 1086.82 129.792 1090.03 Q126.691 1093.23 121.043 1098.99 Z\" fill=\"#000000\" fill-rule=\"evenodd\" fill-opacity=\"1\" /><path clip-path=\"url(#clip680)\" d=\"M147.177 1097.05 L152.061 1097.05 L152.061 1102.93 L147.177 1102.93 L147.177 1097.05 Z\" fill=\"#000000\" fill-rule=\"evenodd\" fill-opacity=\"1\" /><path clip-path=\"url(#clip680)\" d=\"M172.246 1071.45 Q168.635 1071.45 166.806 1075.01 Q165.001 1078.55 165.001 1085.68 Q165.001 1092.79 166.806 1096.35 Q168.635 1099.9 172.246 1099.9 Q175.88 1099.9 177.686 1096.35 Q179.514 1092.79 179.514 1085.68 Q179.514 1078.55 177.686 1075.01 Q175.88 1071.45 172.246 1071.45 M172.246 1067.74 Q178.056 1067.74 181.112 1072.35 Q184.19 1076.93 184.19 1085.68 Q184.19 1094.41 181.112 1099.02 Q178.056 1103.6 172.246 1103.6 Q166.436 1103.6 163.357 1099.02 Q160.302 1094.41 160.302 1085.68 Q160.302 1076.93 163.357 1072.35 Q166.436 1067.74 172.246 1067.74 Z\" fill=\"#000000\" fill-rule=\"evenodd\" fill-opacity=\"1\" /><path clip-path=\"url(#clip680)\" d=\"M220.579 1077.47 L210 1088.09 L220.579 1098.67 L217.824 1101.47 L207.199 1090.84 L196.575 1101.47 L193.843 1098.67 L204.399 1088.09 L193.843 1077.47 L196.575 1074.66 L207.199 1085.29 L217.824 1074.66 L220.579 1077.47 Z\" fill=\"#000000\" fill-rule=\"evenodd\" fill-opacity=\"1\" /><path clip-path=\"url(#clip680)\" d=\"M232.94 1098.99 L240.579 1098.99 L240.579 1072.63 L232.269 1074.29 L232.269 1070.03 L240.533 1068.37 L245.209 1068.37 L245.209 1098.99 L252.847 1098.99 L252.847 1102.93 L232.94 1102.93 L232.94 1098.99 Z\" fill=\"#000000\" fill-rule=\"evenodd\" fill-opacity=\"1\" /><path clip-path=\"url(#clip680)\" d=\"M272.292 1071.45 Q268.681 1071.45 266.852 1075.01 Q265.046 1078.55 265.046 1085.68 Q265.046 1092.79 266.852 1096.35 Q268.681 1099.9 272.292 1099.9 Q275.926 1099.9 277.732 1096.35 Q279.56 1092.79 279.56 1085.68 Q279.56 1078.55 277.732 1075.01 Q275.926 1071.45 272.292 1071.45 M272.292 1067.74 Q278.102 1067.74 281.157 1072.35 Q284.236 1076.93 284.236 1085.68 Q284.236 1094.41 281.157 1099.02 Q278.102 1103.6 272.292 1103.6 Q266.482 1103.6 263.403 1099.02 Q260.347 1094.41 260.347 1085.68 Q260.347 1076.93 263.403 1072.35 Q266.482 1067.74 272.292 1067.74 Z\" fill=\"#000000\" fill-rule=\"evenodd\" fill-opacity=\"1\" /><path clip-path=\"url(#clip680)\" d=\"M284.782 1072.32 L290.988 1072.32 L290.988 1050.9 L284.236 1052.25 L284.236 1048.79 L290.95 1047.44 L294.75 1047.44 L294.75 1072.32 L300.956 1072.32 L300.956 1075.52 L284.782 1075.52 L284.782 1072.32 Z\" fill=\"#000000\" fill-rule=\"evenodd\" fill-opacity=\"1\" /><path clip-path=\"url(#clip680)\" d=\"M316.755 1049.94 Q313.821 1049.94 312.335 1052.84 Q310.868 1055.71 310.868 1061.51 Q310.868 1067.28 312.335 1070.18 Q313.821 1073.05 316.755 1073.05 Q319.708 1073.05 321.175 1070.18 Q322.66 1067.28 322.66 1061.51 Q322.66 1055.71 321.175 1052.84 Q319.708 1049.94 316.755 1049.94 M316.755 1046.93 Q321.475 1046.93 323.958 1050.67 Q326.46 1054.4 326.46 1061.51 Q326.46 1068.6 323.958 1072.34 Q321.475 1076.06 316.755 1076.06 Q312.034 1076.06 309.533 1072.34 Q307.05 1068.6 307.05 1061.51 Q307.05 1054.4 309.533 1050.67 Q312.034 1046.93 316.755 1046.93 Z\" fill=\"#000000\" fill-rule=\"evenodd\" fill-opacity=\"1\" /><path clip-path=\"url(#clip680)\" d=\"M129.862 765.247 L118.056 783.696 L129.862 783.696 L129.862 765.247 M128.635 761.173 L134.515 761.173 L134.515 783.696 L139.445 783.696 L139.445 787.585 L134.515 787.585 L134.515 795.733 L129.862 795.733 L129.862 787.585 L114.26 787.585 L114.26 783.071 L128.635 761.173 Z\" fill=\"#000000\" fill-rule=\"evenodd\" fill-opacity=\"1\" /><path clip-path=\"url(#clip680)\" d=\"M147.177 789.853 L152.061 789.853 L152.061 795.733 L147.177 795.733 L147.177 789.853 Z\" fill=\"#000000\" fill-rule=\"evenodd\" fill-opacity=\"1\" /><path clip-path=\"url(#clip680)\" d=\"M172.246 764.251 Q168.635 764.251 166.806 767.816 Q165.001 771.358 165.001 778.488 Q165.001 785.594 166.806 789.159 Q168.635 792.7 172.246 792.7 Q175.88 792.7 177.686 789.159 Q179.514 785.594 179.514 778.488 Q179.514 771.358 177.686 767.816 Q175.88 764.251 172.246 764.251 M172.246 760.548 Q178.056 760.548 181.112 765.154 Q184.19 769.738 184.19 778.488 Q184.19 787.214 181.112 791.821 Q178.056 796.404 172.246 796.404 Q166.436 796.404 163.357 791.821 Q160.302 787.214 160.302 778.488 Q160.302 769.738 163.357 765.154 Q166.436 760.548 172.246 760.548 Z\" fill=\"#000000\" fill-rule=\"evenodd\" fill-opacity=\"1\" /><path clip-path=\"url(#clip680)\" d=\"M220.579 770.27 L210 780.895 L220.579 791.474 L217.824 794.274 L207.199 783.65 L196.575 794.274 L193.843 791.474 L204.399 780.895 L193.843 770.27 L196.575 767.469 L207.199 778.094 L217.824 767.469 L220.579 770.27 Z\" fill=\"#000000\" fill-rule=\"evenodd\" fill-opacity=\"1\" /><path clip-path=\"url(#clip680)\" d=\"M232.94 791.798 L240.579 791.798 L240.579 765.432 L232.269 767.099 L232.269 762.839 L240.533 761.173 L245.209 761.173 L245.209 791.798 L252.847 791.798 L252.847 795.733 L232.94 795.733 L232.94 791.798 Z\" fill=\"#000000\" fill-rule=\"evenodd\" fill-opacity=\"1\" /><path clip-path=\"url(#clip680)\" d=\"M272.292 764.251 Q268.681 764.251 266.852 767.816 Q265.046 771.358 265.046 778.488 Q265.046 785.594 266.852 789.159 Q268.681 792.7 272.292 792.7 Q275.926 792.7 277.732 789.159 Q279.56 785.594 279.56 778.488 Q279.56 771.358 277.732 767.816 Q275.926 764.251 272.292 764.251 M272.292 760.548 Q278.102 760.548 281.157 765.154 Q284.236 769.738 284.236 778.488 Q284.236 787.214 281.157 791.821 Q278.102 796.404 272.292 796.404 Q266.482 796.404 263.403 791.821 Q260.347 787.214 260.347 778.488 Q260.347 769.738 263.403 765.154 Q266.482 760.548 272.292 760.548 Z\" fill=\"#000000\" fill-rule=\"evenodd\" fill-opacity=\"1\" /><path clip-path=\"url(#clip680)\" d=\"M284.782 765.125 L290.988 765.125 L290.988 743.703 L284.236 745.057 L284.236 741.597 L290.95 740.242 L294.75 740.242 L294.75 765.125 L300.956 765.125 L300.956 768.322 L284.782 768.322 L284.782 765.125 Z\" fill=\"#000000\" fill-rule=\"evenodd\" fill-opacity=\"1\" /><path clip-path=\"url(#clip680)\" d=\"M316.755 742.744 Q313.821 742.744 312.335 745.64 Q310.868 748.518 310.868 754.311 Q310.868 760.085 312.335 762.981 Q313.821 765.859 316.755 765.859 Q319.708 765.859 321.175 762.981 Q322.66 760.085 322.66 754.311 Q322.66 748.518 321.175 745.64 Q319.708 742.744 316.755 742.744 M316.755 739.735 Q321.475 739.735 323.958 743.477 Q326.46 747.201 326.46 754.311 Q326.46 761.401 323.958 765.144 Q321.475 768.868 316.755 768.868 Q312.034 768.868 309.533 765.144 Q307.05 761.401 307.05 754.311 Q307.05 747.201 309.533 743.477 Q312.034 739.735 316.755 739.735 Z\" fill=\"#000000\" fill-rule=\"evenodd\" fill-opacity=\"1\" /><path clip-path=\"url(#clip680)\" d=\"M127.593 469.394 Q124.445 469.394 122.593 471.547 Q120.765 473.7 120.765 477.45 Q120.765 481.177 122.593 483.352 Q124.445 485.505 127.593 485.505 Q130.742 485.505 132.57 483.352 Q134.422 481.177 134.422 477.45 Q134.422 473.7 132.57 471.547 Q130.742 469.394 127.593 469.394 M136.876 454.741 L136.876 459.001 Q135.117 458.167 133.311 457.728 Q131.529 457.288 129.769 457.288 Q125.14 457.288 122.686 460.413 Q120.255 463.538 119.908 469.857 Q121.274 467.843 123.334 466.778 Q125.394 465.69 127.871 465.69 Q133.08 465.69 136.089 468.862 Q139.121 472.01 139.121 477.45 Q139.121 482.774 135.973 485.991 Q132.825 489.209 127.593 489.209 Q121.598 489.209 118.427 484.626 Q115.256 480.019 115.256 471.292 Q115.256 463.098 119.144 458.237 Q123.033 453.353 129.584 453.353 Q131.343 453.353 133.126 453.7 Q134.931 454.047 136.876 454.741 Z\" fill=\"#000000\" fill-rule=\"evenodd\" fill-opacity=\"1\" /><path clip-path=\"url(#clip680)\" d=\"M147.177 482.658 L152.061 482.658 L152.061 488.538 L147.177 488.538 L147.177 482.658 Z\" fill=\"#000000\" fill-rule=\"evenodd\" fill-opacity=\"1\" /><path clip-path=\"url(#clip680)\" d=\"M172.246 457.056 Q168.635 457.056 166.806 460.621 Q165.001 464.163 165.001 471.292 Q165.001 478.399 166.806 481.964 Q168.635 485.505 172.246 485.505 Q175.88 485.505 177.686 481.964 Q179.514 478.399 179.514 471.292 Q179.514 464.163 177.686 460.621 Q175.88 457.056 172.246 457.056 M172.246 453.353 Q178.056 453.353 181.112 457.959 Q184.19 462.542 184.19 471.292 Q184.19 480.019 181.112 484.626 Q178.056 489.209 172.246 489.209 Q166.436 489.209 163.357 484.626 Q160.302 480.019 160.302 471.292 Q160.302 462.542 163.357 457.959 Q166.436 453.353 172.246 453.353 Z\" fill=\"#000000\" fill-rule=\"evenodd\" fill-opacity=\"1\" /><path clip-path=\"url(#clip680)\" d=\"M220.579 463.075 L210 473.7 L220.579 484.278 L217.824 487.079 L207.199 476.454 L196.575 487.079 L193.843 484.278 L204.399 473.7 L193.843 463.075 L196.575 460.274 L207.199 470.899 L217.824 460.274 L220.579 463.075 Z\" fill=\"#000000\" fill-rule=\"evenodd\" fill-opacity=\"1\" /><path clip-path=\"url(#clip680)\" d=\"M232.94 484.602 L240.579 484.602 L240.579 458.237 L232.269 459.903 L232.269 455.644 L240.533 453.978 L245.209 453.978 L245.209 484.602 L252.847 484.602 L252.847 488.538 L232.94 488.538 L232.94 484.602 Z\" fill=\"#000000\" fill-rule=\"evenodd\" fill-opacity=\"1\" /><path clip-path=\"url(#clip680)\" d=\"M272.292 457.056 Q268.681 457.056 266.852 460.621 Q265.046 464.163 265.046 471.292 Q265.046 478.399 266.852 481.964 Q268.681 485.505 272.292 485.505 Q275.926 485.505 277.732 481.964 Q279.56 478.399 279.56 471.292 Q279.56 464.163 277.732 460.621 Q275.926 457.056 272.292 457.056 M272.292 453.353 Q278.102 453.353 281.157 457.959 Q284.236 462.542 284.236 471.292 Q284.236 480.019 281.157 484.626 Q278.102 489.209 272.292 489.209 Q266.482 489.209 263.403 484.626 Q260.347 480.019 260.347 471.292 Q260.347 462.542 263.403 457.959 Q266.482 453.353 272.292 453.353 Z\" fill=\"#000000\" fill-rule=\"evenodd\" fill-opacity=\"1\" /><path clip-path=\"url(#clip680)\" d=\"M284.782 457.93 L290.988 457.93 L290.988 436.508 L284.236 437.862 L284.236 434.401 L290.95 433.047 L294.75 433.047 L294.75 457.93 L300.956 457.93 L300.956 461.127 L284.782 461.127 L284.782 457.93 Z\" fill=\"#000000\" fill-rule=\"evenodd\" fill-opacity=\"1\" /><path clip-path=\"url(#clip680)\" d=\"M316.755 435.549 Q313.821 435.549 312.335 438.445 Q310.868 441.323 310.868 447.115 Q310.868 452.889 312.335 455.786 Q313.821 458.663 316.755 458.663 Q319.708 458.663 321.175 455.786 Q322.66 452.889 322.66 447.115 Q322.66 441.323 321.175 438.445 Q319.708 435.549 316.755 435.549 M316.755 432.539 Q321.475 432.539 323.958 436.282 Q326.46 440.006 326.46 447.115 Q326.46 454.206 323.958 457.949 Q321.475 461.673 316.755 461.673 Q312.034 461.673 309.533 457.949 Q307.05 454.206 307.05 447.115 Q307.05 440.006 309.533 436.282 Q312.034 432.539 316.755 432.539 Z\" fill=\"#000000\" fill-rule=\"evenodd\" fill-opacity=\"1\" /><path clip-path=\"url(#clip680)\" d=\"M127.015 164.93 Q123.681 164.93 121.76 166.713 Q119.862 168.495 119.862 171.62 Q119.862 174.745 121.76 176.528 Q123.681 178.31 127.015 178.31 Q130.348 178.31 132.269 176.528 Q134.191 174.722 134.191 171.62 Q134.191 168.495 132.269 166.713 Q130.371 164.93 127.015 164.93 M122.339 162.94 Q119.33 162.199 117.64 160.139 Q115.973 158.079 115.973 155.116 Q115.973 150.972 118.913 148.565 Q121.876 146.157 127.015 146.157 Q132.177 146.157 135.117 148.565 Q138.056 150.972 138.056 155.116 Q138.056 158.079 136.367 160.139 Q134.7 162.199 131.714 162.94 Q135.093 163.727 136.968 166.018 Q138.867 168.31 138.867 171.62 Q138.867 176.643 135.788 179.328 Q132.732 182.014 127.015 182.014 Q121.297 182.014 118.218 179.328 Q115.163 176.643 115.163 171.62 Q115.163 168.31 117.061 166.018 Q118.959 163.727 122.339 162.94 M120.626 155.555 Q120.626 158.241 122.293 159.745 Q123.982 161.25 127.015 161.25 Q130.024 161.25 131.714 159.745 Q133.427 158.241 133.427 155.555 Q133.427 152.87 131.714 151.366 Q130.024 149.861 127.015 149.861 Q123.982 149.861 122.293 151.366 Q120.626 152.87 120.626 155.555 Z\" fill=\"#000000\" fill-rule=\"evenodd\" fill-opacity=\"1\" /><path clip-path=\"url(#clip680)\" d=\"M147.177 175.463 L152.061 175.463 L152.061 181.342 L147.177 181.342 L147.177 175.463 Z\" fill=\"#000000\" fill-rule=\"evenodd\" fill-opacity=\"1\" /><path clip-path=\"url(#clip680)\" d=\"M172.246 149.861 Q168.635 149.861 166.806 153.426 Q165.001 156.967 165.001 164.097 Q165.001 171.204 166.806 174.768 Q168.635 178.31 172.246 178.31 Q175.88 178.31 177.686 174.768 Q179.514 171.204 179.514 164.097 Q179.514 156.967 177.686 153.426 Q175.88 149.861 172.246 149.861 M172.246 146.157 Q178.056 146.157 181.112 150.764 Q184.19 155.347 184.19 164.097 Q184.19 172.824 181.112 177.43 Q178.056 182.014 172.246 182.014 Q166.436 182.014 163.357 177.43 Q160.302 172.824 160.302 164.097 Q160.302 155.347 163.357 150.764 Q166.436 146.157 172.246 146.157 Z\" fill=\"#000000\" fill-rule=\"evenodd\" fill-opacity=\"1\" /><path clip-path=\"url(#clip680)\" d=\"M220.579 155.88 L210 166.504 L220.579 177.083 L217.824 179.884 L207.199 169.259 L196.575 179.884 L193.843 177.083 L204.399 166.504 L193.843 155.88 L196.575 153.079 L207.199 163.704 L217.824 153.079 L220.579 155.88 Z\" fill=\"#000000\" fill-rule=\"evenodd\" fill-opacity=\"1\" /><path clip-path=\"url(#clip680)\" d=\"M232.94 177.407 L240.579 177.407 L240.579 151.042 L232.269 152.708 L232.269 148.449 L240.533 146.782 L245.209 146.782 L245.209 177.407 L252.847 177.407 L252.847 181.342 L232.94 181.342 L232.94 177.407 Z\" fill=\"#000000\" fill-rule=\"evenodd\" fill-opacity=\"1\" /><path clip-path=\"url(#clip680)\" d=\"M272.292 149.861 Q268.681 149.861 266.852 153.426 Q265.046 156.967 265.046 164.097 Q265.046 171.204 266.852 174.768 Q268.681 178.31 272.292 178.31 Q275.926 178.31 277.732 174.768 Q279.56 171.204 279.56 164.097 Q279.56 156.967 277.732 153.426 Q275.926 149.861 272.292 149.861 M272.292 146.157 Q278.102 146.157 281.157 150.764 Q284.236 155.347 284.236 164.097 Q284.236 172.824 281.157 177.43 Q278.102 182.014 272.292 182.014 Q266.482 182.014 263.403 177.43 Q260.347 172.824 260.347 164.097 Q260.347 155.347 263.403 150.764 Q266.482 146.157 272.292 146.157 Z\" fill=\"#000000\" fill-rule=\"evenodd\" fill-opacity=\"1\" /><path clip-path=\"url(#clip680)\" d=\"M284.782 150.735 L290.988 150.735 L290.988 129.313 L284.236 130.667 L284.236 127.206 L290.95 125.852 L294.75 125.852 L294.75 150.735 L300.956 150.735 L300.956 153.932 L284.782 153.932 L284.782 150.735 Z\" fill=\"#000000\" fill-rule=\"evenodd\" fill-opacity=\"1\" /><path clip-path=\"url(#clip680)\" d=\"M316.755 128.353 Q313.821 128.353 312.335 131.25 Q310.868 134.127 310.868 139.92 Q310.868 145.694 312.335 148.591 Q313.821 151.468 316.755 151.468 Q319.708 151.468 321.175 148.591 Q322.66 145.694 322.66 139.92 Q322.66 134.127 321.175 131.25 Q319.708 128.353 316.755 128.353 M316.755 125.344 Q321.475 125.344 323.958 129.087 Q326.46 132.811 326.46 139.92 Q326.46 147.011 323.958 150.753 Q321.475 154.477 316.755 154.477 Q312.034 154.477 309.533 150.753 Q307.05 147.011 307.05 139.92 Q307.05 132.811 309.533 129.087 Q312.034 125.344 316.755 125.344 Z\" fill=\"#000000\" fill-rule=\"evenodd\" fill-opacity=\"1\" /><path clip-path=\"url(#clip680)\" d=\"M20.1444 804.852 L26.9239 804.852 Q23.9002 808.099 22.4043 811.791 Q20.9083 815.451 20.9083 819.589 Q20.9083 827.737 25.9054 832.066 Q30.8707 836.394 40.2919 836.394 Q49.6813 836.394 54.6784 832.066 Q59.6436 827.737 59.6436 819.589 Q59.6436 815.451 58.1477 811.791 Q56.6518 808.099 53.6281 804.852 L60.3439 804.852 Q62.6355 808.226 63.7814 812.014 Q64.9272 815.769 64.9272 819.971 Q64.9272 830.761 58.3387 836.967 Q51.7183 843.174 40.2919 843.174 Q28.8336 843.174 22.2451 836.967 Q15.6248 830.761 15.6248 819.971 Q15.6248 815.706 16.7706 811.95 Q17.8846 808.162 20.1444 804.852 Z\" fill=\"#000000\" fill-rule=\"evenodd\" fill-opacity=\"1\" /><path clip-path=\"url(#clip680)\" d=\"M32.4621 781.363 Q32.4621 786.073 36.1542 788.811 Q39.8145 791.548 46.212 791.548 Q52.6095 791.548 56.3017 788.842 Q59.9619 786.105 59.9619 781.363 Q59.9619 776.684 56.2698 773.947 Q52.5777 771.209 46.212 771.209 Q39.8781 771.209 36.186 773.947 Q32.4621 776.684 32.4621 781.363 M27.4968 781.363 Q27.4968 773.724 32.4621 769.363 Q37.4273 765.003 46.212 765.003 Q54.9649 765.003 59.9619 769.363 Q64.9272 773.724 64.9272 781.363 Q64.9272 789.033 59.9619 793.394 Q54.9649 797.723 46.212 797.723 Q37.4273 797.723 32.4621 793.394 Q27.4968 789.033 27.4968 781.363 Z\" fill=\"#000000\" fill-rule=\"evenodd\" fill-opacity=\"1\" /><path clip-path=\"url(#clip680)\" d=\"M29.4065 732.57 L34.9447 732.57 Q33.6716 735.052 33.035 737.726 Q32.3984 740.399 32.3984 743.264 Q32.3984 747.624 33.7352 749.821 Q35.072 751.985 37.7456 751.985 Q39.7826 751.985 40.9603 750.425 Q42.1061 748.866 43.1565 744.155 L43.6021 742.15 Q44.9389 735.912 47.3897 733.302 Q49.8086 730.66 54.1691 730.66 Q59.1344 730.66 62.0308 734.607 Q64.9272 738.521 64.9272 745.396 Q64.9272 748.261 64.3543 751.38 Q63.8132 754.468 62.6992 757.905 L56.6518 757.905 Q58.3387 754.659 59.198 751.508 Q60.0256 748.356 60.0256 745.269 Q60.0256 741.131 58.6251 738.903 Q57.1929 736.675 54.6147 736.675 Q52.2276 736.675 50.9545 738.299 Q49.6813 739.89 48.5037 745.333 L48.0262 747.37 Q46.8804 752.812 44.5251 755.231 Q42.138 757.65 38.0002 757.65 Q32.9713 757.65 30.2341 754.086 Q27.4968 750.521 27.4968 743.964 Q27.4968 740.718 27.9743 737.853 Q28.4517 734.989 29.4065 732.57 Z\" fill=\"#000000\" fill-rule=\"evenodd\" fill-opacity=\"1\" /><path clip-path=\"url(#clip680)\" d=\"M18.2347 715.541 L28.3562 715.541 L28.3562 703.478 L32.9077 703.478 L32.9077 715.541 L52.2594 715.541 Q56.6199 715.541 57.8613 714.364 Q59.1026 713.154 59.1026 709.494 L59.1026 703.478 L64.0042 703.478 L64.0042 709.494 Q64.0042 716.273 61.4897 718.851 Q58.9434 721.43 52.2594 721.43 L32.9077 721.43 L32.9077 725.726 L28.3562 725.726 L28.3562 721.43 L18.2347 721.43 L18.2347 715.541 Z\" fill=\"#000000\" fill-rule=\"evenodd\" fill-opacity=\"1\" /><path clip-path=\"url(#clip680)\" d=\"M837.634 16.7545 L837.634 25.383 Q833.502 21.5346 828.803 19.6307 Q824.144 17.7268 818.878 17.7268 Q808.508 17.7268 802.998 24.0867 Q797.489 30.4061 797.489 42.3968 Q797.489 54.3469 802.998 60.7069 Q808.508 67.0263 818.878 67.0263 Q824.144 67.0263 828.803 65.1223 Q833.502 63.2184 837.634 59.3701 L837.634 67.9175 Q833.34 70.8341 828.519 72.2924 Q823.739 73.7508 818.392 73.7508 Q804.659 73.7508 796.76 65.3654 Q788.861 56.9395 788.861 42.3968 Q788.861 27.8135 796.76 19.4281 Q804.659 11.0023 818.392 11.0023 Q823.82 11.0023 828.6 12.4606 Q833.421 13.8784 837.634 16.7545 Z\" fill=\"#000000\" fill-rule=\"evenodd\" fill-opacity=\"1\" /><path clip-path=\"url(#clip680)\" d=\"M867.529 32.4315 Q861.534 32.4315 858.05 37.1306 Q854.566 41.7891 854.566 49.9314 Q854.566 58.0738 858.01 62.7728 Q861.493 67.4314 867.529 67.4314 Q873.484 67.4314 876.968 62.7323 Q880.452 58.0333 880.452 49.9314 Q880.452 41.8701 876.968 37.1711 Q873.484 32.4315 867.529 32.4315 M867.529 26.1121 Q877.252 26.1121 882.801 32.4315 Q888.351 38.7509 888.351 49.9314 Q888.351 61.0714 882.801 67.4314 Q877.252 73.7508 867.529 73.7508 Q857.767 73.7508 852.217 67.4314 Q846.708 61.0714 846.708 49.9314 Q846.708 38.7509 852.217 32.4315 Q857.767 26.1121 867.529 26.1121 Z\" fill=\"#000000\" fill-rule=\"evenodd\" fill-opacity=\"1\" /><path clip-path=\"url(#clip680)\" d=\"M929.63 28.5427 L929.63 35.5912 Q926.47 33.9709 923.067 33.1607 Q919.664 32.3505 916.019 32.3505 Q910.469 32.3505 907.674 34.0519 Q904.919 35.7533 904.919 39.156 Q904.919 41.7486 906.904 43.2475 Q908.889 44.7058 914.884 46.0426 L917.436 46.6097 Q925.376 48.3111 928.698 51.4303 Q932.06 54.509 932.06 60.0587 Q932.06 66.3781 927.037 70.0644 Q922.055 73.7508 913.305 73.7508 Q909.659 73.7508 905.689 73.0216 Q901.759 72.3329 897.384 70.9151 L897.384 63.2184 Q901.516 65.3654 905.527 66.4591 Q909.537 67.5124 913.467 67.5124 Q918.733 67.5124 921.568 65.73 Q924.404 63.9071 924.404 60.6258 Q924.404 57.5877 922.338 55.9673 Q920.313 54.3469 913.386 52.8481 L910.793 52.2405 Q903.866 50.7821 900.787 47.7845 Q897.709 44.7463 897.709 39.4801 Q897.709 33.0797 902.246 29.5959 Q906.783 26.1121 915.127 26.1121 Q919.259 26.1121 922.905 26.7198 Q926.551 27.3274 929.63 28.5427 Z\" fill=\"#000000\" fill-rule=\"evenodd\" fill-opacity=\"1\" /><path clip-path=\"url(#clip680)\" d=\"M951.302 14.324 L951.302 27.2059 L966.655 27.2059 L966.655 32.9987 L951.302 32.9987 L951.302 57.6282 Q951.302 63.1779 952.801 64.7578 Q954.34 66.3376 958.999 66.3376 L966.655 66.3376 L966.655 72.576 L958.999 72.576 Q950.37 72.576 947.089 69.3758 Q943.808 66.1351 943.808 57.6282 L943.808 32.9987 L938.339 32.9987 L938.339 27.2059 L943.808 27.2059 L943.808 14.324 L951.302 14.324 Z\" fill=\"#000000\" fill-rule=\"evenodd\" fill-opacity=\"1\" /><path clip-path=\"url(#clip680)\" d=\"M1005.38 28.5427 L1005.38 35.5912 Q1002.22 33.9709 998.819 33.1607 Q995.416 32.3505 991.771 32.3505 Q986.221 32.3505 983.426 34.0519 Q980.671 35.7533 980.671 39.156 Q980.671 41.7486 982.656 43.2475 Q984.641 44.7058 990.636 46.0426 L993.188 46.6097 Q1001.13 48.3111 1004.45 51.4303 Q1007.81 54.509 1007.81 60.0587 Q1007.81 66.3781 1002.79 70.0644 Q997.806 73.7508 989.056 73.7508 Q985.411 73.7508 981.441 73.0216 Q977.511 72.3329 973.136 70.9151 L973.136 63.2184 Q977.268 65.3654 981.279 66.4591 Q985.289 67.5124 989.218 67.5124 Q994.485 67.5124 997.32 65.73 Q1000.16 63.9071 1000.16 60.6258 Q1000.16 57.5877 998.09 55.9673 Q996.065 54.3469 989.137 52.8481 L986.545 52.2405 Q979.618 50.7821 976.539 47.7845 Q973.46 44.7463 973.46 39.4801 Q973.46 33.0797 977.997 29.5959 Q982.535 26.1121 990.879 26.1121 Q995.011 26.1121 998.657 26.7198 Q1002.3 27.3274 1005.38 28.5427 Z\" fill=\"#000000\" fill-rule=\"evenodd\" fill-opacity=\"1\" /><path clip-path=\"url(#clip680)\" d=\"M1069.02 9.54393 L1069.02 15.7418 L1061.89 15.7418 Q1057.88 15.7418 1056.3 17.3622 Q1054.76 18.9825 1054.76 23.1955 L1054.76 27.2059 L1067.04 27.2059 L1067.04 32.9987 L1054.76 32.9987 L1054.76 72.576 L1047.27 72.576 L1047.27 32.9987 L1040.14 32.9987 L1040.14 27.2059 L1047.27 27.2059 L1047.27 24.0462 Q1047.27 16.471 1050.79 13.0277 Q1054.32 9.54393 1061.97 9.54393 L1069.02 9.54393 Z\" fill=\"#000000\" fill-rule=\"evenodd\" fill-opacity=\"1\" /><path clip-path=\"url(#clip680)\" d=\"M1092.84 32.4315 Q1086.85 32.4315 1083.36 37.1306 Q1079.88 41.7891 1079.88 49.9314 Q1079.88 58.0738 1083.32 62.7728 Q1086.8 67.4314 1092.84 67.4314 Q1098.8 67.4314 1102.28 62.7323 Q1105.76 58.0333 1105.76 49.9314 Q1105.76 41.8701 1102.28 37.1711 Q1098.8 32.4315 1092.84 32.4315 M1092.84 26.1121 Q1102.56 26.1121 1108.11 32.4315 Q1113.66 38.7509 1113.66 49.9314 Q1113.66 61.0714 1108.11 67.4314 Q1102.56 73.7508 1092.84 73.7508 Q1083.08 73.7508 1077.53 67.4314 Q1072.02 61.0714 1072.02 49.9314 Q1072.02 38.7509 1077.53 32.4315 Q1083.08 26.1121 1092.84 26.1121 Z\" fill=\"#000000\" fill-rule=\"evenodd\" fill-opacity=\"1\" /><path clip-path=\"url(#clip680)\" d=\"M1152.31 34.1734 Q1151.05 33.4443 1149.55 33.1202 Q1148.09 32.7556 1146.31 32.7556 Q1139.99 32.7556 1136.59 36.8875 Q1133.23 40.9789 1133.23 48.6757 L1133.23 72.576 L1125.73 72.576 L1125.73 27.2059 L1133.23 27.2059 L1133.23 34.2544 Q1135.58 30.1225 1139.35 28.1376 Q1143.11 26.1121 1148.5 26.1121 Q1149.27 26.1121 1150.2 26.2337 Q1151.13 26.3147 1152.27 26.5172 L1152.31 34.1734 Z\" fill=\"#000000\" fill-rule=\"evenodd\" fill-opacity=\"1\" /><path clip-path=\"url(#clip680)\" d=\"M1216.35 34.0924 L1216.35 9.54393 L1223.81 9.54393 L1223.81 72.576 L1216.35 72.576 L1216.35 65.7705 Q1214 69.8214 1210.4 71.8063 Q1206.83 73.7508 1201.81 73.7508 Q1193.59 73.7508 1188.4 67.1883 Q1183.26 60.6258 1183.26 49.9314 Q1183.26 39.2371 1188.4 32.6746 Q1193.59 26.1121 1201.81 26.1121 Q1206.83 26.1121 1210.4 28.0971 Q1214 30.0415 1216.35 34.0924 M1190.95 49.9314 Q1190.95 58.1548 1194.32 62.8538 Q1197.72 67.5124 1203.63 67.5124 Q1209.55 67.5124 1212.95 62.8538 Q1216.35 58.1548 1216.35 49.9314 Q1216.35 41.7081 1212.95 37.0496 Q1209.55 32.3505 1203.63 32.3505 Q1197.72 32.3505 1194.32 37.0496 Q1190.95 41.7081 1190.95 49.9314 Z\" fill=\"#000000\" fill-rule=\"evenodd\" fill-opacity=\"1\" /><path clip-path=\"url(#clip680)\" d=\"M1239.16 27.2059 L1246.61 27.2059 L1246.61 72.576 L1239.16 72.576 L1239.16 27.2059 M1239.16 9.54393 L1246.61 9.54393 L1246.61 18.9825 L1239.16 18.9825 L1239.16 9.54393 Z\" fill=\"#000000\" fill-rule=\"evenodd\" fill-opacity=\"1\" /><path clip-path=\"url(#clip680)\" d=\"M1285.18 9.54393 L1285.18 15.7418 L1278.05 15.7418 Q1274.04 15.7418 1272.46 17.3622 Q1270.92 18.9825 1270.92 23.1955 L1270.92 27.2059 L1283.19 27.2059 L1283.19 32.9987 L1270.92 32.9987 L1270.92 72.576 L1263.42 72.576 L1263.42 32.9987 L1256.29 32.9987 L1256.29 27.2059 L1263.42 27.2059 L1263.42 24.0462 Q1263.42 16.471 1266.95 13.0277 Q1270.47 9.54393 1278.13 9.54393 L1285.18 9.54393 Z\" fill=\"#000000\" fill-rule=\"evenodd\" fill-opacity=\"1\" /><path clip-path=\"url(#clip680)\" d=\"M1314.38 9.54393 L1314.38 15.7418 L1307.25 15.7418 Q1303.24 15.7418 1301.66 17.3622 Q1300.13 18.9825 1300.13 23.1955 L1300.13 27.2059 L1312.4 27.2059 L1312.4 32.9987 L1300.13 32.9987 L1300.13 72.576 L1292.63 72.576 L1292.63 32.9987 L1285.5 32.9987 L1285.5 27.2059 L1292.63 27.2059 L1292.63 24.0462 Q1292.63 16.471 1296.16 13.0277 Q1299.68 9.54393 1307.34 9.54393 L1314.38 9.54393 Z\" fill=\"#000000\" fill-rule=\"evenodd\" fill-opacity=\"1\" /><path clip-path=\"url(#clip680)\" d=\"M1359.43 48.0275 L1359.43 51.6733 L1325.16 51.6733 Q1325.65 59.3701 1329.78 63.421 Q1333.95 67.4314 1341.36 67.4314 Q1345.66 67.4314 1349.67 66.3781 Q1353.72 65.3249 1357.69 63.2184 L1357.69 70.267 Q1353.68 71.9684 1349.47 72.8596 Q1345.25 73.7508 1340.92 73.7508 Q1330.06 73.7508 1323.7 67.4314 Q1317.38 61.1119 1317.38 50.3365 Q1317.38 39.1965 1323.38 32.6746 Q1329.41 26.1121 1339.62 26.1121 Q1348.78 26.1121 1354.08 32.0264 Q1359.43 37.9003 1359.43 48.0275 M1351.98 45.84 Q1351.9 39.7232 1348.53 36.0774 Q1345.21 32.4315 1339.7 32.4315 Q1333.46 32.4315 1329.7 35.9558 Q1325.97 39.4801 1325.4 45.8805 L1351.98 45.84 Z\" fill=\"#000000\" fill-rule=\"evenodd\" fill-opacity=\"1\" /><path clip-path=\"url(#clip680)\" d=\"M1397.95 34.1734 Q1396.7 33.4443 1395.2 33.1202 Q1393.74 32.7556 1391.96 32.7556 Q1385.64 32.7556 1382.24 36.8875 Q1378.87 40.9789 1378.87 48.6757 L1378.87 72.576 L1371.38 72.576 L1371.38 27.2059 L1378.87 27.2059 L1378.87 34.2544 Q1381.22 30.1225 1384.99 28.1376 Q1388.76 26.1121 1394.15 26.1121 Q1394.92 26.1121 1395.85 26.2337 Q1396.78 26.3147 1397.91 26.5172 L1397.95 34.1734 Z\" fill=\"#000000\" fill-rule=\"evenodd\" fill-opacity=\"1\" /><path clip-path=\"url(#clip680)\" d=\"M1442.76 48.0275 L1442.76 51.6733 L1408.49 51.6733 Q1408.97 59.3701 1413.11 63.421 Q1417.28 67.4314 1424.69 67.4314 Q1428.98 67.4314 1433 66.3781 Q1437.05 65.3249 1441.02 63.2184 L1441.02 70.267 Q1437.01 71.9684 1432.79 72.8596 Q1428.58 73.7508 1424.25 73.7508 Q1413.39 73.7508 1407.03 67.4314 Q1400.71 61.1119 1400.71 50.3365 Q1400.71 39.1965 1406.7 32.6746 Q1412.74 26.1121 1422.95 26.1121 Q1432.1 26.1121 1437.41 32.0264 Q1442.76 37.9003 1442.76 48.0275 M1435.3 45.84 Q1435.22 39.7232 1431.86 36.0774 Q1428.54 32.4315 1423.03 32.4315 Q1416.79 32.4315 1413.02 35.9558 Q1409.3 39.4801 1408.73 45.8805 L1435.3 45.84 Z\" fill=\"#000000\" fill-rule=\"evenodd\" fill-opacity=\"1\" /><path clip-path=\"url(#clip680)\" d=\"M1492.71 45.1919 L1492.71 72.576 L1485.25 72.576 L1485.25 45.4349 Q1485.25 38.994 1482.74 35.7938 Q1480.23 32.5936 1475.21 32.5936 Q1469.17 32.5936 1465.69 36.4419 Q1462.2 40.2903 1462.2 46.9338 L1462.2 72.576 L1454.71 72.576 L1454.71 27.2059 L1462.2 27.2059 L1462.2 34.2544 Q1464.88 30.163 1468.48 28.1376 Q1472.13 26.1121 1476.87 26.1121 Q1484.68 26.1121 1488.69 30.9732 Q1492.71 35.7938 1492.71 45.1919 Z\" fill=\"#000000\" fill-rule=\"evenodd\" fill-opacity=\"1\" /><path clip-path=\"url(#clip680)\" d=\"M1514.94 14.324 L1514.94 27.2059 L1530.3 27.2059 L1530.3 32.9987 L1514.94 32.9987 L1514.94 57.6282 Q1514.94 63.1779 1516.44 64.7578 Q1517.98 66.3376 1522.64 66.3376 L1530.3 66.3376 L1530.3 72.576 L1522.64 72.576 Q1514.01 72.576 1510.73 69.3758 Q1507.45 66.1351 1507.45 57.6282 L1507.45 32.9987 L1501.98 32.9987 L1501.98 27.2059 L1507.45 27.2059 L1507.45 14.324 L1514.94 14.324 Z\" fill=\"#000000\" fill-rule=\"evenodd\" fill-opacity=\"1\" /><path clip-path=\"url(#clip680)\" d=\"M1595.4 28.5427 L1595.4 35.5912 Q1592.24 33.9709 1588.83 33.1607 Q1585.43 32.3505 1581.78 32.3505 Q1576.24 32.3505 1573.44 34.0519 Q1570.69 35.7533 1570.69 39.156 Q1570.69 41.7486 1572.67 43.2475 Q1574.66 44.7058 1580.65 46.0426 L1583.2 46.6097 Q1591.14 48.3111 1594.46 51.4303 Q1597.83 54.509 1597.83 60.0587 Q1597.83 66.3781 1592.8 70.0644 Q1587.82 73.7508 1579.07 73.7508 Q1575.42 73.7508 1571.45 73.0216 Q1567.53 72.3329 1563.15 70.9151 L1563.15 63.2184 Q1567.28 65.3654 1571.29 66.4591 Q1575.3 67.5124 1579.23 67.5124 Q1584.5 67.5124 1587.33 65.73 Q1590.17 63.9071 1590.17 60.6258 Q1590.17 57.5877 1588.1 55.9673 Q1586.08 54.3469 1579.15 52.8481 L1576.56 52.2405 Q1569.63 50.7821 1566.55 47.7845 Q1563.47 44.7463 1563.47 39.4801 Q1563.47 33.0797 1568.01 29.5959 Q1572.55 26.1121 1580.89 26.1121 Q1585.03 26.1121 1588.67 26.7198 Q1592.32 27.3274 1595.4 28.5427 Z\" fill=\"#000000\" fill-rule=\"evenodd\" fill-opacity=\"1\" /><path clip-path=\"url(#clip680)\" d=\"M1627.28 32.4315 Q1621.28 32.4315 1617.8 37.1306 Q1614.31 41.7891 1614.31 49.9314 Q1614.31 58.0738 1617.76 62.7728 Q1621.24 67.4314 1627.28 67.4314 Q1633.23 67.4314 1636.72 62.7323 Q1640.2 58.0333 1640.2 49.9314 Q1640.2 41.8701 1636.72 37.1711 Q1633.23 32.4315 1627.28 32.4315 M1627.28 26.1121 Q1637 26.1121 1642.55 32.4315 Q1648.1 38.7509 1648.1 49.9314 Q1648.1 61.0714 1642.55 67.4314 Q1637 73.7508 1627.28 73.7508 Q1617.51 73.7508 1611.96 67.4314 Q1606.45 61.0714 1606.45 49.9314 Q1606.45 38.7509 1611.96 32.4315 Q1617.51 26.1121 1627.28 26.1121 Z\" fill=\"#000000\" fill-rule=\"evenodd\" fill-opacity=\"1\" /><path clip-path=\"url(#clip680)\" d=\"M1660.45 9.54393 L1667.91 9.54393 L1667.91 72.576 L1660.45 72.576 L1660.45 9.54393 Z\" fill=\"#000000\" fill-rule=\"evenodd\" fill-opacity=\"1\" /><path clip-path=\"url(#clip680)\" d=\"M1682.73 54.671 L1682.73 27.2059 L1690.19 27.2059 L1690.19 54.3874 Q1690.19 60.8284 1692.7 64.0691 Q1695.21 67.2693 1700.23 67.2693 Q1706.27 67.2693 1709.75 63.421 Q1713.28 59.5726 1713.28 52.9291 L1713.28 27.2059 L1720.73 27.2059 L1720.73 72.576 L1713.28 72.576 L1713.28 65.6084 Q1710.56 69.7404 1706.96 71.7658 Q1703.39 73.7508 1698.65 73.7508 Q1690.84 73.7508 1686.78 68.8897 Q1682.73 64.0286 1682.73 54.671 M1701.49 26.1121 L1701.49 26.1121 Z\" fill=\"#000000\" fill-rule=\"evenodd\" fill-opacity=\"1\" /><path clip-path=\"url(#clip680)\" d=\"M1743.46 14.324 L1743.46 27.2059 L1758.81 27.2059 L1758.81 32.9987 L1743.46 32.9987 L1743.46 57.6282 Q1743.46 63.1779 1744.96 64.7578 Q1746.49 66.3376 1751.15 66.3376 L1758.81 66.3376 L1758.81 72.576 L1751.15 72.576 Q1742.52 72.576 1739.24 69.3758 Q1735.96 66.1351 1735.96 57.6282 L1735.96 32.9987 L1730.49 32.9987 L1730.49 27.2059 L1735.96 27.2059 L1735.96 14.324 L1743.46 14.324 Z\" fill=\"#000000\" fill-rule=\"evenodd\" fill-opacity=\"1\" /><path clip-path=\"url(#clip680)\" d=\"M1768.61 27.2059 L1776.07 27.2059 L1776.07 72.576 L1768.61 72.576 L1768.61 27.2059 M1768.61 9.54393 L1776.07 9.54393 L1776.07 18.9825 L1768.61 18.9825 L1768.61 9.54393 Z\" fill=\"#000000\" fill-rule=\"evenodd\" fill-opacity=\"1\" /><path clip-path=\"url(#clip680)\" d=\"M1809.24 32.4315 Q1803.25 32.4315 1799.76 37.1306 Q1796.28 41.7891 1796.28 49.9314 Q1796.28 58.0738 1799.72 62.7728 Q1803.21 67.4314 1809.24 67.4314 Q1815.2 67.4314 1818.68 62.7323 Q1822.17 58.0333 1822.17 49.9314 Q1822.17 41.8701 1818.68 37.1711 Q1815.2 32.4315 1809.24 32.4315 M1809.24 26.1121 Q1818.97 26.1121 1824.51 32.4315 Q1830.06 38.7509 1830.06 49.9314 Q1830.06 61.0714 1824.51 67.4314 Q1818.97 73.7508 1809.24 73.7508 Q1799.48 73.7508 1793.93 67.4314 Q1788.42 61.0714 1788.42 49.9314 Q1788.42 38.7509 1793.93 32.4315 Q1799.48 26.1121 1809.24 26.1121 Z\" fill=\"#000000\" fill-rule=\"evenodd\" fill-opacity=\"1\" /><path clip-path=\"url(#clip680)\" d=\"M1880.13 45.1919 L1880.13 72.576 L1872.68 72.576 L1872.68 45.4349 Q1872.68 38.994 1870.17 35.7938 Q1867.66 32.5936 1862.63 32.5936 Q1856.6 32.5936 1853.11 36.4419 Q1849.63 40.2903 1849.63 46.9338 L1849.63 72.576 L1842.14 72.576 L1842.14 27.2059 L1849.63 27.2059 L1849.63 34.2544 Q1852.3 30.163 1855.91 28.1376 Q1859.56 26.1121 1864.29 26.1121 Q1872.11 26.1121 1876.12 30.9732 Q1880.13 35.7938 1880.13 45.1919 Z\" fill=\"#000000\" fill-rule=\"evenodd\" fill-opacity=\"1\" /><path clip-path=\"url(#clip680)\" d=\"M1923.92 28.5427 L1923.92 35.5912 Q1920.76 33.9709 1917.36 33.1607 Q1913.96 32.3505 1910.31 32.3505 Q1904.76 32.3505 1901.97 34.0519 Q1899.21 35.7533 1899.21 39.156 Q1899.21 41.7486 1901.2 43.2475 Q1903.18 44.7058 1909.18 46.0426 L1911.73 46.6097 Q1919.67 48.3111 1922.99 51.4303 Q1926.35 54.509 1926.35 60.0587 Q1926.35 66.3781 1921.33 70.0644 Q1916.35 73.7508 1907.6 73.7508 Q1903.95 73.7508 1899.98 73.0216 Q1896.05 72.3329 1891.68 70.9151 L1891.68 63.2184 Q1895.81 65.3654 1899.82 66.4591 Q1903.83 67.5124 1907.76 67.5124 Q1913.03 67.5124 1915.86 65.73 Q1918.7 63.9071 1918.7 60.6258 Q1918.7 57.5877 1916.63 55.9673 Q1914.61 54.3469 1907.68 52.8481 L1905.09 52.2405 Q1898.16 50.7821 1895.08 47.7845 Q1892 44.7463 1892 39.4801 Q1892 33.0797 1896.54 29.5959 Q1901.08 26.1121 1909.42 26.1121 Q1913.55 26.1121 1917.2 26.7198 Q1920.85 27.3274 1923.92 28.5427 Z\" fill=\"#000000\" fill-rule=\"evenodd\" fill-opacity=\"1\" /><path clip-path=\"url(#clip682)\" d=\"\nM471.929 160.256 L471.929 1386.4 L767.155 1386.4 L767.155 160.256 L471.929 160.256 L471.929 160.256  Z\n  \" fill=\"#20b2aa\" fill-rule=\"evenodd\" fill-opacity=\"1\"/>\n<polyline clip-path=\"url(#clip682)\" style=\"stroke:#000000; stroke-linecap:round; stroke-linejoin:round; stroke-width:4; stroke-opacity:1; fill:none\" points=\"\n  471.929,160.256 471.929,1386.4 767.155,1386.4 767.155,160.256 471.929,160.256 \n  \"/>\n<path clip-path=\"url(#clip682)\" d=\"\nM963.973 355.371 L963.973 1386.4 L1259.2 1386.4 L1259.2 355.371 L963.973 355.371 L963.973 355.371  Z\n  \" fill=\"#20b2aa\" fill-rule=\"evenodd\" fill-opacity=\"1\"/>\n<polyline clip-path=\"url(#clip682)\" style=\"stroke:#000000; stroke-linecap:round; stroke-linejoin:round; stroke-width:4; stroke-opacity:1; fill:none\" points=\"\n  963.973,355.371 963.973,1386.4 1259.2,1386.4 1259.2,355.371 963.973,355.371 \n  \"/>\n<path clip-path=\"url(#clip682)\" d=\"\nM1456.02 306.852 L1456.02 1386.4 L1751.24 1386.4 L1751.24 306.852 L1456.02 306.852 L1456.02 306.852  Z\n  \" fill=\"#20b2aa\" fill-rule=\"evenodd\" fill-opacity=\"1\"/>\n<polyline clip-path=\"url(#clip682)\" style=\"stroke:#000000; stroke-linecap:round; stroke-linejoin:round; stroke-width:4; stroke-opacity:1; fill:none\" points=\"\n  1456.02,306.852 1456.02,1386.4 1751.24,1386.4 1751.24,306.852 1456.02,306.852 \n  \"/>\n<path clip-path=\"url(#clip682)\" d=\"\nM1948.06 362.643 L1948.06 1386.4 L2243.29 1386.4 L2243.29 362.643 L1948.06 362.643 L1948.06 362.643  Z\n  \" fill=\"#20b2aa\" fill-rule=\"evenodd\" fill-opacity=\"1\"/>\n<polyline clip-path=\"url(#clip682)\" style=\"stroke:#000000; stroke-linecap:round; stroke-linejoin:round; stroke-width:4; stroke-opacity:1; fill:none\" points=\"\n  1948.06,362.643 1948.06,1386.4 2243.29,1386.4 2243.29,362.643 1948.06,362.643 \n  \"/>\n<circle clip-path=\"url(#clip682)\" style=\"fill:#20b2aa; stroke:none; fill-opacity:0\" cx=\"619.542\" cy=\"160.256\" r=\"2\"/>\n<circle clip-path=\"url(#clip682)\" style=\"fill:#20b2aa; stroke:none; fill-opacity:0\" cx=\"1111.59\" cy=\"355.371\" r=\"2\"/>\n<circle clip-path=\"url(#clip682)\" style=\"fill:#20b2aa; stroke:none; fill-opacity:0\" cx=\"1603.63\" cy=\"306.852\" r=\"2\"/>\n<circle clip-path=\"url(#clip682)\" style=\"fill:#20b2aa; stroke:none; fill-opacity:0\" cx=\"2095.67\" cy=\"362.643\" r=\"2\"/>\n<path clip-path=\"url(#clip682)\" d=\"\nM471.929 285.388 L471.929 1386.4 L767.155 1386.4 L767.155 285.388 L471.929 285.388 L471.929 285.388  Z\n  \" fill=\"#2e8b57\" fill-rule=\"evenodd\" fill-opacity=\"1\"/>\n<polyline clip-path=\"url(#clip682)\" style=\"stroke:#000000; stroke-linecap:round; stroke-linejoin:round; stroke-width:4; stroke-opacity:1; fill:none\" points=\"\n  471.929,285.388 471.929,1386.4 767.155,1386.4 767.155,285.388 471.929,285.388 \n  \"/>\n<path clip-path=\"url(#clip682)\" d=\"\nM963.973 391.147 L963.973 1386.4 L1259.2 1386.4 L1259.2 391.147 L963.973 391.147 L963.973 391.147  Z\n  \" fill=\"#2e8b57\" fill-rule=\"evenodd\" fill-opacity=\"1\"/>\n<polyline clip-path=\"url(#clip682)\" style=\"stroke:#000000; stroke-linecap:round; stroke-linejoin:round; stroke-width:4; stroke-opacity:1; fill:none\" points=\"\n  963.973,391.147 963.973,1386.4 1259.2,1386.4 1259.2,391.147 963.973,391.147 \n  \"/>\n<path clip-path=\"url(#clip682)\" d=\"\nM1456.02 388.597 L1456.02 1386.4 L1751.24 1386.4 L1751.24 388.597 L1456.02 388.597 L1456.02 388.597  Z\n  \" fill=\"#2e8b57\" fill-rule=\"evenodd\" fill-opacity=\"1\"/>\n<polyline clip-path=\"url(#clip682)\" style=\"stroke:#000000; stroke-linecap:round; stroke-linejoin:round; stroke-width:4; stroke-opacity:1; fill:none\" points=\"\n  1456.02,388.597 1456.02,1386.4 1751.24,1386.4 1751.24,388.597 1456.02,388.597 \n  \"/>\n<path clip-path=\"url(#clip682)\" d=\"\nM1948.06 364.601 L1948.06 1386.4 L2243.29 1386.4 L2243.29 364.601 L1948.06 364.601 L1948.06 364.601  Z\n  \" fill=\"#2e8b57\" fill-rule=\"evenodd\" fill-opacity=\"1\"/>\n<polyline clip-path=\"url(#clip682)\" style=\"stroke:#000000; stroke-linecap:round; stroke-linejoin:round; stroke-width:4; stroke-opacity:1; fill:none\" points=\"\n  1948.06,364.601 1948.06,1386.4 2243.29,1386.4 2243.29,364.601 1948.06,364.601 \n  \"/>\n<circle clip-path=\"url(#clip682)\" style=\"fill:#2e8b57; stroke:none; fill-opacity:0\" cx=\"619.542\" cy=\"285.388\" r=\"2\"/>\n<circle clip-path=\"url(#clip682)\" style=\"fill:#2e8b57; stroke:none; fill-opacity:0\" cx=\"1111.59\" cy=\"391.147\" r=\"2\"/>\n<circle clip-path=\"url(#clip682)\" style=\"fill:#2e8b57; stroke:none; fill-opacity:0\" cx=\"1603.63\" cy=\"388.597\" r=\"2\"/>\n<circle clip-path=\"url(#clip682)\" style=\"fill:#2e8b57; stroke:none; fill-opacity:0\" cx=\"2095.67\" cy=\"364.601\" r=\"2\"/>\n<path clip-path=\"url(#clip680)\" d=\"\nM1705.41 322.316 L2286.41 322.316 L2286.41 166.796 L1705.41 166.796  Z\n  \" fill=\"#ffffff\" fill-rule=\"evenodd\" fill-opacity=\"1\"/>\n<polyline clip-path=\"url(#clip680)\" style=\"stroke:#000000; stroke-linecap:round; stroke-linejoin:round; stroke-width:4; stroke-opacity:1; fill:none\" points=\"\n  1705.41,322.316 2286.41,322.316 2286.41,166.796 1705.41,166.796 1705.41,322.316 \n  \"/>\n<path clip-path=\"url(#clip680)\" d=\"\nM1860.21 239.372 L1727.52 239.372 L1727.52 197.9 L1860.21 197.9 L1860.21 239.372  Z\n  \" fill=\"#20b2aa\" fill-rule=\"evenodd\" fill-opacity=\"1\"/>\n<polyline clip-path=\"url(#clip680)\" style=\"stroke:#000000; stroke-linecap:round; stroke-linejoin:round; stroke-width:4; stroke-opacity:1; fill:none\" points=\"\n  1860.21,239.372 1727.52,239.372 1727.52,197.9 1860.21,197.9 1860.21,239.372 \n  \"/>\n<path clip-path=\"url(#clip680)\" d=\"M1887 205.198 L1887 218.184 L1892.88 218.184 Q1896.14 218.184 1897.93 216.495 Q1899.71 214.805 1899.71 211.68 Q1899.71 208.578 1897.93 206.888 Q1896.14 205.198 1892.88 205.198 L1887 205.198 M1882.32 201.356 L1892.88 201.356 Q1898.69 201.356 1901.65 203.995 Q1904.64 206.61 1904.64 211.68 Q1904.64 216.795 1901.65 219.411 Q1898.69 222.027 1892.88 222.027 L1887 222.027 L1887 235.916 L1882.32 235.916 L1882.32 201.356 Z\" fill=\"#000000\" fill-rule=\"evenodd\" fill-opacity=\"1\" /><path clip-path=\"url(#clip680)\" d=\"M1924.92 213.971 Q1924.2 213.555 1923.34 213.37 Q1922.51 213.161 1921.49 213.161 Q1917.88 213.161 1915.94 215.522 Q1914.01 217.86 1914.01 222.258 L1914.01 235.916 L1909.73 235.916 L1909.73 209.99 L1914.01 209.99 L1914.01 214.018 Q1915.36 211.657 1917.51 210.522 Q1919.66 209.365 1922.74 209.365 Q1923.18 209.365 1923.71 209.434 Q1924.25 209.481 1924.89 209.596 L1924.92 213.971 Z\" fill=\"#000000\" fill-rule=\"evenodd\" fill-opacity=\"1\" /><path clip-path=\"url(#clip680)\" d=\"M1938.39 212.976 Q1934.96 212.976 1932.97 215.661 Q1930.98 218.323 1930.98 222.976 Q1930.98 227.629 1932.95 230.314 Q1934.94 232.976 1938.39 232.976 Q1941.79 232.976 1943.78 230.291 Q1945.77 227.606 1945.77 222.976 Q1945.77 218.37 1943.78 215.684 Q1941.79 212.976 1938.39 212.976 M1938.39 209.365 Q1943.94 209.365 1947.12 212.976 Q1950.29 216.587 1950.29 222.976 Q1950.29 229.342 1947.12 232.976 Q1943.94 236.587 1938.39 236.587 Q1932.81 236.587 1929.64 232.976 Q1926.49 229.342 1926.49 222.976 Q1926.49 216.587 1929.64 212.976 Q1932.81 209.365 1938.39 209.365 Z\" fill=\"#000000\" fill-rule=\"evenodd\" fill-opacity=\"1\" /><path clip-path=\"url(#clip680)\" d=\"M1974.41 213.925 L1974.41 199.897 L1978.67 199.897 L1978.67 235.916 L1974.41 235.916 L1974.41 232.027 Q1973.06 234.342 1971 235.476 Q1968.97 236.587 1966.1 236.587 Q1961.4 236.587 1958.44 232.837 Q1955.5 229.087 1955.5 222.976 Q1955.5 216.865 1958.44 213.115 Q1961.4 209.365 1966.1 209.365 Q1968.97 209.365 1971 210.499 Q1973.06 211.61 1974.41 213.925 M1959.89 222.976 Q1959.89 227.675 1961.82 230.36 Q1963.76 233.022 1967.14 233.022 Q1970.52 233.022 1972.46 230.36 Q1974.41 227.675 1974.41 222.976 Q1974.41 218.277 1972.46 215.615 Q1970.52 212.93 1967.14 212.93 Q1963.76 212.93 1961.82 215.615 Q1959.89 218.277 1959.89 222.976 Z\" fill=\"#000000\" fill-rule=\"evenodd\" fill-opacity=\"1\" /><path clip-path=\"url(#clip680)\" d=\"M1987 225.684 L1987 209.99 L1991.26 209.99 L1991.26 225.522 Q1991.26 229.203 1992.69 231.055 Q1994.13 232.883 1997 232.883 Q2000.45 232.883 2002.44 230.684 Q2004.45 228.485 2004.45 224.689 L2004.45 209.99 L2008.71 209.99 L2008.71 235.916 L2004.45 235.916 L2004.45 231.934 Q2002.9 234.295 2000.84 235.453 Q1998.81 236.587 1996.1 236.587 Q1991.63 236.587 1989.31 233.809 Q1987 231.031 1987 225.684 M1997.72 209.365 L1997.72 209.365 Z\" fill=\"#000000\" fill-rule=\"evenodd\" fill-opacity=\"1\" /><path clip-path=\"url(#clip680)\" d=\"M2036.14 210.985 L2036.14 214.967 Q2034.34 213.971 2032.51 213.485 Q2030.7 212.976 2028.85 212.976 Q2024.71 212.976 2022.42 215.615 Q2020.12 218.231 2020.12 222.976 Q2020.12 227.721 2022.42 230.36 Q2024.71 232.976 2028.85 232.976 Q2030.7 232.976 2032.51 232.49 Q2034.34 231.981 2036.14 230.985 L2036.14 234.92 Q2034.36 235.754 2032.44 236.17 Q2030.54 236.587 2028.39 236.587 Q2022.53 236.587 2019.08 232.906 Q2015.63 229.226 2015.63 222.976 Q2015.63 216.633 2019.11 212.999 Q2022.6 209.365 2028.67 209.365 Q2030.63 209.365 2032.51 209.782 Q2034.38 210.175 2036.14 210.985 Z\" fill=\"#000000\" fill-rule=\"evenodd\" fill-opacity=\"1\" /><path clip-path=\"url(#clip680)\" d=\"M2047.76 202.629 L2047.76 209.99 L2056.54 209.99 L2056.54 213.3 L2047.76 213.3 L2047.76 227.374 Q2047.76 230.545 2048.62 231.448 Q2049.5 232.351 2052.16 232.351 L2056.54 232.351 L2056.54 235.916 L2052.16 235.916 Q2047.23 235.916 2045.36 234.087 Q2043.48 232.235 2043.48 227.374 L2043.48 213.3 L2040.36 213.3 L2040.36 209.99 L2043.48 209.99 L2043.48 202.629 L2047.76 202.629 Z\" fill=\"#000000\" fill-rule=\"evenodd\" fill-opacity=\"1\" /><path clip-path=\"url(#clip680)\" d=\"M2062.14 209.99 L2066.4 209.99 L2066.4 235.916 L2062.14 235.916 L2062.14 209.99 M2062.14 199.897 L2066.4 199.897 L2066.4 205.291 L2062.14 205.291 L2062.14 199.897 Z\" fill=\"#000000\" fill-rule=\"evenodd\" fill-opacity=\"1\" /><path clip-path=\"url(#clip680)\" d=\"M2085.36 212.976 Q2081.93 212.976 2079.94 215.661 Q2077.95 218.323 2077.95 222.976 Q2077.95 227.629 2079.92 230.314 Q2081.91 232.976 2085.36 232.976 Q2088.76 232.976 2090.75 230.291 Q2092.74 227.606 2092.74 222.976 Q2092.74 218.37 2090.75 215.684 Q2088.76 212.976 2085.36 212.976 M2085.36 209.365 Q2090.91 209.365 2094.08 212.976 Q2097.25 216.587 2097.25 222.976 Q2097.25 229.342 2094.08 232.976 Q2090.91 236.587 2085.36 236.587 Q2079.78 236.587 2076.61 232.976 Q2073.46 229.342 2073.46 222.976 Q2073.46 216.587 2076.61 212.976 Q2079.78 209.365 2085.36 209.365 Z\" fill=\"#000000\" fill-rule=\"evenodd\" fill-opacity=\"1\" /><path clip-path=\"url(#clip680)\" d=\"M2125.87 220.268 L2125.87 235.916 L2121.61 235.916 L2121.61 220.407 Q2121.61 216.726 2120.17 214.897 Q2118.74 213.069 2115.87 213.069 Q2112.42 213.069 2110.43 215.268 Q2108.43 217.467 2108.43 221.263 L2108.43 235.916 L2104.15 235.916 L2104.15 209.99 L2108.43 209.99 L2108.43 214.018 Q2109.96 211.68 2112.02 210.522 Q2114.11 209.365 2116.81 209.365 Q2121.28 209.365 2123.57 212.143 Q2125.87 214.897 2125.87 220.268 Z\" fill=\"#000000\" fill-rule=\"evenodd\" fill-opacity=\"1\" /><path clip-path=\"url(#clip680)\" d=\"M2168.09 210.985 L2168.09 214.967 Q2166.28 213.971 2164.45 213.485 Q2162.65 212.976 2160.8 212.976 Q2156.65 212.976 2154.36 215.615 Q2152.07 218.231 2152.07 222.976 Q2152.07 227.721 2154.36 230.36 Q2156.65 232.976 2160.8 232.976 Q2162.65 232.976 2164.45 232.49 Q2166.28 231.981 2168.09 230.985 L2168.09 234.92 Q2166.3 235.754 2164.38 236.17 Q2162.49 236.587 2160.33 236.587 Q2154.48 236.587 2151.03 232.906 Q2147.58 229.226 2147.58 222.976 Q2147.58 216.633 2151.05 212.999 Q2154.55 209.365 2160.61 209.365 Q2162.58 209.365 2164.45 209.782 Q2166.33 210.175 2168.09 210.985 Z\" fill=\"#000000\" fill-rule=\"evenodd\" fill-opacity=\"1\" /><path clip-path=\"url(#clip680)\" d=\"M2185.54 212.976 Q2182.11 212.976 2180.12 215.661 Q2178.13 218.323 2178.13 222.976 Q2178.13 227.629 2180.1 230.314 Q2182.09 232.976 2185.54 232.976 Q2188.94 232.976 2190.93 230.291 Q2192.92 227.606 2192.92 222.976 Q2192.92 218.37 2190.93 215.684 Q2188.94 212.976 2185.54 212.976 M2185.54 209.365 Q2191.1 209.365 2194.27 212.976 Q2197.44 216.587 2197.44 222.976 Q2197.44 229.342 2194.27 232.976 Q2191.1 236.587 2185.54 236.587 Q2179.96 236.587 2176.79 232.976 Q2173.64 229.342 2173.64 222.976 Q2173.64 216.587 2176.79 212.976 Q2179.96 209.365 2185.54 209.365 Z\" fill=\"#000000\" fill-rule=\"evenodd\" fill-opacity=\"1\" /><path clip-path=\"url(#clip680)\" d=\"M2221.03 210.754 L2221.03 214.782 Q2219.22 213.856 2217.28 213.393 Q2215.33 212.93 2213.25 212.93 Q2210.08 212.93 2208.48 213.902 Q2206.91 214.874 2206.91 216.819 Q2206.91 218.3 2208.04 219.157 Q2209.17 219.99 2212.6 220.754 L2214.06 221.078 Q2218.6 222.05 2220.49 223.832 Q2222.42 225.592 2222.42 228.763 Q2222.42 232.374 2219.55 234.481 Q2216.7 236.587 2211.7 236.587 Q2209.61 236.587 2207.35 236.17 Q2205.1 235.777 2202.6 234.967 L2202.6 230.569 Q2204.96 231.795 2207.25 232.42 Q2209.55 233.022 2211.79 233.022 Q2214.8 233.022 2216.42 232.004 Q2218.04 230.962 2218.04 229.087 Q2218.04 227.351 2216.86 226.425 Q2215.7 225.499 2211.74 224.643 L2210.26 224.295 Q2206.3 223.462 2204.55 221.749 Q2202.79 220.013 2202.79 217.004 Q2202.79 213.346 2205.38 211.356 Q2207.97 209.365 2212.74 209.365 Q2215.1 209.365 2217.18 209.712 Q2219.27 210.059 2221.03 210.754 Z\" fill=\"#000000\" fill-rule=\"evenodd\" fill-opacity=\"1\" /><path clip-path=\"url(#clip680)\" d=\"M2233.41 202.629 L2233.41 209.99 L2242.18 209.99 L2242.18 213.3 L2233.41 213.3 L2233.41 227.374 Q2233.41 230.545 2234.27 231.448 Q2235.15 232.351 2237.81 232.351 L2242.18 232.351 L2242.18 235.916 L2237.81 235.916 Q2232.88 235.916 2231 234.087 Q2229.13 232.235 2229.13 227.374 L2229.13 213.3 L2226 213.3 L2226 209.99 L2229.13 209.99 L2229.13 202.629 L2233.41 202.629 Z\" fill=\"#000000\" fill-rule=\"evenodd\" fill-opacity=\"1\" /><path clip-path=\"url(#clip680)\" d=\"\nM1860.21 291.212 L1727.52 291.212 L1727.52 249.74 L1860.21 249.74 L1860.21 291.212  Z\n  \" fill=\"#2e8b57\" fill-rule=\"evenodd\" fill-opacity=\"1\"/>\n<polyline clip-path=\"url(#clip680)\" style=\"stroke:#000000; stroke-linecap:round; stroke-linejoin:round; stroke-width:4; stroke-opacity:1; fill:none\" points=\"\n  1860.21,291.212 1727.52,291.212 1727.52,249.74 1860.21,249.74 1860.21,291.212 \n  \"/>\n<path clip-path=\"url(#clip680)\" d=\"M1882.32 253.196 L1888.62 253.196 L1903.94 282.108 L1903.94 253.196 L1908.48 253.196 L1908.48 287.756 L1902.19 287.756 L1886.86 258.844 L1886.86 287.756 L1882.32 287.756 L1882.32 253.196 Z\" fill=\"#000000\" fill-rule=\"evenodd\" fill-opacity=\"1\" /><path clip-path=\"url(#clip680)\" d=\"M1939.78 273.728 L1939.78 275.811 L1920.19 275.811 Q1920.47 280.209 1922.83 282.524 Q1925.22 284.816 1929.45 284.816 Q1931.91 284.816 1934.2 284.214 Q1936.51 283.612 1938.78 282.409 L1938.78 286.436 Q1936.49 287.408 1934.08 287.918 Q1931.68 288.427 1929.2 288.427 Q1923 288.427 1919.36 284.816 Q1915.75 281.205 1915.75 275.047 Q1915.75 268.682 1919.18 264.955 Q1922.63 261.205 1928.46 261.205 Q1933.69 261.205 1936.72 264.585 Q1939.78 267.941 1939.78 273.728 M1935.52 272.478 Q1935.47 268.983 1933.55 266.899 Q1931.65 264.816 1928.51 264.816 Q1924.94 264.816 1922.79 266.83 Q1920.66 268.844 1920.33 272.501 L1935.52 272.478 Z\" fill=\"#000000\" fill-rule=\"evenodd\" fill-opacity=\"1\" /><path clip-path=\"url(#clip680)\" d=\"M1950.98 254.469 L1950.98 261.83 L1959.75 261.83 L1959.75 265.14 L1950.98 265.14 L1950.98 279.214 Q1950.98 282.385 1951.84 283.288 Q1952.72 284.191 1955.38 284.191 L1959.75 284.191 L1959.75 287.756 L1955.38 287.756 Q1950.45 287.756 1948.57 285.927 Q1946.7 284.075 1946.7 279.214 L1946.7 265.14 L1943.57 265.14 L1943.57 261.83 L1946.7 261.83 L1946.7 254.469 L1950.98 254.469 Z\" fill=\"#000000\" fill-rule=\"evenodd\" fill-opacity=\"1\" /><path clip-path=\"url(#clip680)\" d=\"M1999.08 262.825 L1999.08 266.807 Q1997.28 265.811 1995.45 265.325 Q1993.64 264.816 1991.79 264.816 Q1987.65 264.816 1985.36 267.455 Q1983.06 270.071 1983.06 274.816 Q1983.06 279.561 1985.36 282.2 Q1987.65 284.816 1991.79 284.816 Q1993.64 284.816 1995.45 284.33 Q1997.28 283.821 1999.08 282.825 L1999.08 286.76 Q1997.3 287.594 1995.38 288.01 Q1993.48 288.427 1991.33 288.427 Q1985.47 288.427 1982.02 284.746 Q1978.57 281.066 1978.57 274.816 Q1978.57 268.473 1982.05 264.839 Q1985.54 261.205 1991.61 261.205 Q1993.57 261.205 1995.45 261.622 Q1997.32 262.015 1999.08 262.825 Z\" fill=\"#000000\" fill-rule=\"evenodd\" fill-opacity=\"1\" /><path clip-path=\"url(#clip680)\" d=\"M2016.54 264.816 Q2013.11 264.816 2011.12 267.501 Q2009.13 270.163 2009.13 274.816 Q2009.13 279.469 2011.1 282.154 Q2013.09 284.816 2016.54 284.816 Q2019.94 284.816 2021.93 282.131 Q2023.92 279.446 2023.92 274.816 Q2023.92 270.21 2021.93 267.524 Q2019.94 264.816 2016.54 264.816 M2016.54 261.205 Q2022.09 261.205 2025.26 264.816 Q2028.44 268.427 2028.44 274.816 Q2028.44 281.182 2025.26 284.816 Q2022.09 288.427 2016.54 288.427 Q2010.96 288.427 2007.79 284.816 Q2004.64 281.182 2004.64 274.816 Q2004.64 268.427 2007.79 264.816 Q2010.96 261.205 2016.54 261.205 Z\" fill=\"#000000\" fill-rule=\"evenodd\" fill-opacity=\"1\" /><path clip-path=\"url(#clip680)\" d=\"M2052.02 262.594 L2052.02 266.622 Q2050.22 265.696 2048.27 265.233 Q2046.33 264.77 2044.25 264.77 Q2041.07 264.77 2039.48 265.742 Q2037.9 266.714 2037.9 268.659 Q2037.9 270.14 2039.04 270.997 Q2040.17 271.83 2043.6 272.594 L2045.06 272.918 Q2049.59 273.89 2051.49 275.672 Q2053.41 277.432 2053.41 280.603 Q2053.41 284.214 2050.54 286.321 Q2047.69 288.427 2042.69 288.427 Q2040.61 288.427 2038.34 288.01 Q2036.1 287.617 2033.6 286.807 L2033.6 282.409 Q2035.96 283.635 2038.25 284.26 Q2040.54 284.862 2042.79 284.862 Q2045.8 284.862 2047.42 283.844 Q2049.04 282.802 2049.04 280.927 Q2049.04 279.191 2047.86 278.265 Q2046.7 277.339 2042.74 276.483 L2041.26 276.135 Q2037.3 275.302 2035.54 273.589 Q2033.78 271.853 2033.78 268.844 Q2033.78 265.186 2036.37 263.196 Q2038.97 261.205 2043.74 261.205 Q2046.1 261.205 2048.18 261.552 Q2050.26 261.899 2052.02 262.594 Z\" fill=\"#000000\" fill-rule=\"evenodd\" fill-opacity=\"1\" /><path clip-path=\"url(#clip680)\" d=\"M2064.41 254.469 L2064.41 261.83 L2073.18 261.83 L2073.18 265.14 L2064.41 265.14 L2064.41 279.214 Q2064.41 282.385 2065.26 283.288 Q2066.14 284.191 2068.81 284.191 L2073.18 284.191 L2073.18 287.756 L2068.81 287.756 Q2063.87 287.756 2062 285.927 Q2060.12 284.075 2060.12 279.214 L2060.12 265.14 L2057 265.14 L2057 261.83 L2060.12 261.83 L2060.12 254.469 L2064.41 254.469 Z\" fill=\"#000000\" fill-rule=\"evenodd\" fill-opacity=\"1\" /></svg>\n"
     },
     "execution_count": 63,
     "metadata": {},
     "output_type": "execute_result"
    }
   ],
   "source": [
    "# plot the results, title on the top left, x axis on the bottom, y axis on the left\n",
    "#p5 = plot(df_costs.solution, df_costs.cost, label=\"Total cost\", title=\"Total cost for different solutions\", xlabel=\"Solution\", ylabel=\"Total cost\", legend=:topleft)\n",
    "#plot!(p5, df_costs.solution, df_costs.production_cost, label=\"Production cost\")\n",
    "\n",
    "# plot as a bar, first production_cost, then total_cost\n",
    "# use beautiful soft colors, and thiner bars\n",
    "p5 = bar(df_costs.solution, [df_costs.production_cost df_costs.cost], label=[\"Production cost\" \"Net cost\"], title=\"Costs for different solutions\", xlabel=\"Solution\", ylabel=\"Cost\", legend=:topright, color=[:lightseagreen :seagreen], bar_width=0.6)\n",
    "\n",
    "# save the plot\n",
    "#savefig(p5, \"solutions_costs.png\")"
   ]
  },
  {
   "cell_type": "code",
   "execution_count": 65,
   "metadata": {},
   "outputs": [
    {
     "data": {
      "text/plain": [
       "\"/Users/oscarcourbit/Desktop/Bureau - MacBook Pro de Oscar/MIT/Classes/15.093 -  Optimization Methods/Term Project/Energy-Allocation-in-France/solutions_impact.png\""
      ]
     },
     "execution_count": 65,
     "metadata": {},
     "output_type": "execute_result"
    }
   ],
   "source": [
    "# plot the total impact depending on the total cost\n",
    "p6 = plot(df_costs.solution, df_costs.total_impact, label=\"Total impact\", title=\"Total impact for different solutions\", xlabel=\"Solution\", ylabel=\"Total impact\", legend=:topleft)\n",
    "plot!(p6, df_costs.solution, df_costs.national_impact, label=\"National impact\")\n",
    "\n",
    "# plot the bar\n",
    "p6 = bar(df_costs.solution, [df_costs.total_impact df_costs.national_impact], label=[\"Total impact\" \"National impact\"], title=\"Environmental impact for different solutions\", xlabel=\"Solution\", ylabel=\"Impact\", legend=:topright, color=[:lightseagreen :seagreen], bar_width=0.6)\n",
    "\n",
    "# save the plot\n",
    "savefig(p6, \"solutions_impact.png\")"
   ]
  },
  {
   "cell_type": "code",
   "execution_count": 37,
   "metadata": {},
   "outputs": [
    {
     "data": {
      "text/plain": [
       "-0.4751092545408413"
      ]
     },
     "execution_count": 37,
     "metadata": {},
     "output_type": "execute_result"
    }
   ],
   "source": [
    "# impact relative difference between the RTE solution and the sustainable solution\n",
    "(df_costs.total_impact[4] - df_costs.total_impact[1]) / df_costs.total_impact[1]\n",
    "\n"
   ]
  },
  {
   "cell_type": "markdown",
   "metadata": {},
   "source": [
    "# "
   ]
  }
 ],
 "metadata": {
  "kernelspec": {
   "display_name": "Julia (IAI) (fk le bogos) 1.8.2",
   "language": "julia",
   "name": "julia-(iai)-(fk-le-bogos)-1.8"
  },
  "language_info": {
   "file_extension": ".jl",
   "mimetype": "application/julia",
   "name": "julia",
   "version": "1.8.2"
  }
 },
 "nbformat": 4,
 "nbformat_minor": 2
}
